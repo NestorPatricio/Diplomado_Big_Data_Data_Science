{
  "nbformat": 4,
  "nbformat_minor": 0,
  "metadata": {
    "colab": {
      "provenance": []
    },
    "kernelspec": {
      "name": "ir",
      "display_name": "R"
    }
  },
  "cells": [
    {
      "cell_type": "markdown",
      "metadata": {
        "trusted": true,
        "id": "ID-hRx0URPyD"
      },
      "source": [
        "# Parte 2: Manipulación de tablas en R (Parte I)\n",
        "\n",
        "\n",
        "**Autor:** Miguel Jorquera Viguera<br>\n",
        "**E-mail:** majorquev@gmail.com<br>\n",
        "**Ayudante:** Rodrigo Morales<br>\n",
        "**E-mail ayudante:** rumorale1@gmail.com\n",
        "\n",
        "## 1. Instalación de librerías\n",
        "\n",
        "En esta sección aprenderemos a realizar operaciones simples de manipulación de tablas en R. Para ello trabajaremos con la librería _dplyr_, la cual cuenta con una gran variedad de funciones para manipular tablas, entre otras.\n",
        "\n",
        "\n",
        "Una manera de instalar librerías en R es me diante la función `install.packages()`, la cual recibe como argunmento principal el nombre (enre comillas) de la librería que se desea cargar.\n",
        "\n",
        "Una vez instalada la librería la debemos cargar en la sesión de trbajao, para lo cual podemos utilizar la función `library()` la cual recibe como argumento el nombre de la librería que se quiere cargar.\n"
      ]
    },
    {
      "cell_type": "code",
      "metadata": {
        "id": "FPF3jDwbRnTs",
        "outputId": "89aecaf2-7fc3-4d74-e43b-d062285273fe",
        "colab": {
          "base_uri": "https://localhost:8080/"
        }
      },
      "source": [
        "install.packages(\"tidyr\")"
      ],
      "execution_count": 1,
      "outputs": [
        {
          "output_type": "stream",
          "name": "stderr",
          "text": [
            "Installing package into ‘/usr/local/lib/R/site-library’\n",
            "(as ‘lib’ is unspecified)\n",
            "\n"
          ]
        }
      ]
    },
    {
      "cell_type": "code",
      "metadata": {
        "trusted": true,
        "id": "jcbeiXarRPyE",
        "outputId": "e5467adc-e081-4cb5-c61c-f30db464a00f",
        "colab": {
          "base_uri": "https://localhost:8080/"
        }
      },
      "source": [
        "# 1. Instalación de package\n",
        "# install.packages(\"dplyr\") # No instalaremos la librería pues ya viene cargada en los notebooks de azure. Probablemente sea necesario hacerlo en su entorno local.\n",
        "# Para cargar la librería\n",
        "library(\"dplyr\") # sin comillas también funciona\n",
        "\n",
        "\n"
      ],
      "execution_count": 2,
      "outputs": [
        {
          "output_type": "stream",
          "name": "stderr",
          "text": [
            "\n",
            "Attaching package: ‘dplyr’\n",
            "\n",
            "\n",
            "The following objects are masked from ‘package:stats’:\n",
            "\n",
            "    filter, lag\n",
            "\n",
            "\n",
            "The following objects are masked from ‘package:base’:\n",
            "\n",
            "    intersect, setdiff, setequal, union\n",
            "\n",
            "\n"
          ]
        }
      ]
    },
    {
      "cell_type": "markdown",
      "metadata": {
        "trusted": true,
        "id": "97hMfOQQRPyI"
      },
      "source": [
        "## 2. Funciones básicas en dplyr\n",
        "\n",
        "En todo proyecto analítico es necesario procesar, limpar y unificar disntintas fuentes de información para poder generar los análisis requeridos. Para dichas tareas, en la librería _dplyr_ contamos con funciones que nos permitirán filtrar datos, crear columnas, agrupar tablas, y cruzar tablas.\n",
        "\n",
        "A continuación trabajaremos con la siguientes funciones:<br>\n",
        "\n",
        "   `filter()`                        : Para filtrar los datos (por filas).<br>\n",
        "   `arrange()`                       : Para ordenar un dataset.<br>\n",
        "   `select()`                        : Para seleccionar y renombrar columnas.<br>\n",
        "   `mutate()`                        : Para crear (o modificar) nuevas columnas basadas en columnas existentes.<br>\n",
        "   `group_by()`                     : Para agrupar tablas.<br>\n",
        "   `sample_n()` and `sample_frac()`  : Para generar muestras aleatorias<br>\n",
        "   \n",
        "   \n",
        "Para entender el funcionamiento de estas funciones trabjaremos con el set de datos _nycflights13_, el cual contiene la información de los vuelos con salida en los aeropuertos de Nueva York en el año 2013.\n",
        "\n",
        "## 3. Carga de datos\n",
        "\n",
        "En R es posible cargar datos provenientes de archivos de texto plano. Un ejemplo de ellos son los de extensión *.csv (comma separated values). Para cargar los datos a la sesión, lo podemos realizar a través de la función `read.csv()`, la cual recibe como argumento principal la ruta del archivo a cargar.\n",
        "\n",
        "   \n",
        "   \n",
        "   "
      ]
    },
    {
      "cell_type": "code",
      "metadata": {
        "trusted": true,
        "id": "gKV9NYMORPyI",
        "outputId": "79b39f0f-9d4f-420c-efc5-511e745178ba",
        "colab": {
          "base_uri": "https://localhost:8080/",
          "height": 34
        }
      },
      "source": [
        "getwd()"
      ],
      "execution_count": 3,
      "outputs": [
        {
          "output_type": "display_data",
          "data": {
            "text/html": [
              "'/content'"
            ],
            "text/markdown": "'/content'",
            "text/latex": "'/content'",
            "text/plain": [
              "[1] \"/content\""
            ]
          },
          "metadata": {}
        }
      ]
    },
    {
      "cell_type": "code",
      "metadata": {
        "trusted": true,
        "id": "Ga1OFuNwRPyL"
      },
      "source": [
        "# Carga de datos ------\n",
        "# Usaremos la función read.csv para cargar el archivo Datasets_flights.csv ubicado en \"./Datasets/\", y lo guardamos en una variable llamada vuelo.\n",
        "\n",
        "flights <- read.csv('https://raw.githubusercontent.com/majorquev/DBDC_202304_Programacion_en_R_para_ciencia_de_datos/main/Clases/C3/Datasets/flights.csv')\n"
      ],
      "execution_count": 5,
      "outputs": []
    },
    {
      "cell_type": "code",
      "metadata": {
        "trusted": true,
        "id": "XH_T6QWVRPyN",
        "outputId": "938e6f39-bb64-4582-e3df-8239af5869d5",
        "colab": {
          "base_uri": "https://localhost:8080/",
          "height": 605
        }
      },
      "source": [
        "# Podemos inspeccionar los datos cargados\n",
        "# Para ello son de utilidad las funciones head() y summary()\n",
        "# ¿Cuántos registros tienen las tablas?\n",
        "head(flights, n=10)"
      ],
      "execution_count": 7,
      "outputs": [
        {
          "output_type": "display_data",
          "data": {
            "text/html": [
              "<table class=\"dataframe\">\n",
              "<caption>A data.frame: 10 × 19</caption>\n",
              "<thead>\n",
              "\t<tr><th></th><th scope=col>year</th><th scope=col>month</th><th scope=col>day</th><th scope=col>dep_time</th><th scope=col>sched_dep_time</th><th scope=col>dep_delay</th><th scope=col>arr_time</th><th scope=col>sched_arr_time</th><th scope=col>arr_delay</th><th scope=col>carrier</th><th scope=col>flight</th><th scope=col>tailnum</th><th scope=col>origin</th><th scope=col>dest</th><th scope=col>air_time</th><th scope=col>distance</th><th scope=col>hour</th><th scope=col>minute</th><th scope=col>time_hour</th></tr>\n",
              "\t<tr><th></th><th scope=col>&lt;int&gt;</th><th scope=col>&lt;int&gt;</th><th scope=col>&lt;int&gt;</th><th scope=col>&lt;int&gt;</th><th scope=col>&lt;int&gt;</th><th scope=col>&lt;int&gt;</th><th scope=col>&lt;int&gt;</th><th scope=col>&lt;int&gt;</th><th scope=col>&lt;int&gt;</th><th scope=col>&lt;chr&gt;</th><th scope=col>&lt;int&gt;</th><th scope=col>&lt;chr&gt;</th><th scope=col>&lt;chr&gt;</th><th scope=col>&lt;chr&gt;</th><th scope=col>&lt;int&gt;</th><th scope=col>&lt;int&gt;</th><th scope=col>&lt;int&gt;</th><th scope=col>&lt;int&gt;</th><th scope=col>&lt;chr&gt;</th></tr>\n",
              "</thead>\n",
              "<tbody>\n",
              "\t<tr><th scope=row>1</th><td>2013</td><td>1</td><td>1</td><td>517</td><td>515</td><td> 2</td><td> 830</td><td> 819</td><td> 11</td><td>UA</td><td>1545</td><td>N14228</td><td>EWR</td><td>IAH</td><td>227</td><td>1400</td><td>5</td><td>15</td><td>2013-01-01 05:00:00</td></tr>\n",
              "\t<tr><th scope=row>2</th><td>2013</td><td>1</td><td>1</td><td>533</td><td>529</td><td> 4</td><td> 850</td><td> 830</td><td> 20</td><td>UA</td><td>1714</td><td>N24211</td><td>LGA</td><td>IAH</td><td>227</td><td>1416</td><td>5</td><td>29</td><td>2013-01-01 05:00:00</td></tr>\n",
              "\t<tr><th scope=row>3</th><td>2013</td><td>1</td><td>1</td><td>542</td><td>540</td><td> 2</td><td> 923</td><td> 850</td><td> 33</td><td>AA</td><td>1141</td><td>N619AA</td><td>JFK</td><td>MIA</td><td>160</td><td>1089</td><td>5</td><td>40</td><td>2013-01-01 05:00:00</td></tr>\n",
              "\t<tr><th scope=row>4</th><td>2013</td><td>1</td><td>1</td><td>544</td><td>545</td><td>-1</td><td>1004</td><td>1022</td><td>-18</td><td>B6</td><td> 725</td><td>N804JB</td><td>JFK</td><td>BQN</td><td>183</td><td>1576</td><td>5</td><td>45</td><td>2013-01-01 05:00:00</td></tr>\n",
              "\t<tr><th scope=row>5</th><td>2013</td><td>1</td><td>1</td><td>554</td><td>600</td><td>-6</td><td> 812</td><td> 837</td><td>-25</td><td>DL</td><td> 461</td><td>N668DN</td><td>LGA</td><td>ATL</td><td>116</td><td> 762</td><td>6</td><td> 0</td><td>2013-01-01 06:00:00</td></tr>\n",
              "\t<tr><th scope=row>6</th><td>2013</td><td>1</td><td>1</td><td>554</td><td>558</td><td>-4</td><td> 740</td><td> 728</td><td> 12</td><td>UA</td><td>1696</td><td>N39463</td><td>EWR</td><td>ORD</td><td>150</td><td> 719</td><td>5</td><td>58</td><td>2013-01-01 05:00:00</td></tr>\n",
              "\t<tr><th scope=row>7</th><td>2013</td><td>1</td><td>1</td><td>555</td><td>600</td><td>-5</td><td> 913</td><td> 854</td><td> 19</td><td>B6</td><td> 507</td><td>N516JB</td><td>EWR</td><td>FLL</td><td>158</td><td>1065</td><td>6</td><td> 0</td><td>2013-01-01 06:00:00</td></tr>\n",
              "\t<tr><th scope=row>8</th><td>2013</td><td>1</td><td>1</td><td>557</td><td>600</td><td>-3</td><td> 709</td><td> 723</td><td>-14</td><td>EV</td><td>5708</td><td>N829AS</td><td>LGA</td><td>IAD</td><td> 53</td><td> 229</td><td>6</td><td> 0</td><td>2013-01-01 06:00:00</td></tr>\n",
              "\t<tr><th scope=row>9</th><td>2013</td><td>1</td><td>1</td><td>557</td><td>600</td><td>-3</td><td> 838</td><td> 846</td><td> -8</td><td>B6</td><td>  79</td><td>N593JB</td><td>JFK</td><td>MCO</td><td>140</td><td> 944</td><td>6</td><td> 0</td><td>2013-01-01 06:00:00</td></tr>\n",
              "\t<tr><th scope=row>10</th><td>2013</td><td>1</td><td>1</td><td>558</td><td>600</td><td>-2</td><td> 753</td><td> 745</td><td>  8</td><td>AA</td><td> 301</td><td>N3ALAA</td><td>LGA</td><td>ORD</td><td>138</td><td> 733</td><td>6</td><td> 0</td><td>2013-01-01 06:00:00</td></tr>\n",
              "</tbody>\n",
              "</table>\n"
            ],
            "text/markdown": "\nA data.frame: 10 × 19\n\n| <!--/--> | year &lt;int&gt; | month &lt;int&gt; | day &lt;int&gt; | dep_time &lt;int&gt; | sched_dep_time &lt;int&gt; | dep_delay &lt;int&gt; | arr_time &lt;int&gt; | sched_arr_time &lt;int&gt; | arr_delay &lt;int&gt; | carrier &lt;chr&gt; | flight &lt;int&gt; | tailnum &lt;chr&gt; | origin &lt;chr&gt; | dest &lt;chr&gt; | air_time &lt;int&gt; | distance &lt;int&gt; | hour &lt;int&gt; | minute &lt;int&gt; | time_hour &lt;chr&gt; |\n|---|---|---|---|---|---|---|---|---|---|---|---|---|---|---|---|---|---|---|---|\n| 1 | 2013 | 1 | 1 | 517 | 515 |  2 |  830 |  819 |  11 | UA | 1545 | N14228 | EWR | IAH | 227 | 1400 | 5 | 15 | 2013-01-01 05:00:00 |\n| 2 | 2013 | 1 | 1 | 533 | 529 |  4 |  850 |  830 |  20 | UA | 1714 | N24211 | LGA | IAH | 227 | 1416 | 5 | 29 | 2013-01-01 05:00:00 |\n| 3 | 2013 | 1 | 1 | 542 | 540 |  2 |  923 |  850 |  33 | AA | 1141 | N619AA | JFK | MIA | 160 | 1089 | 5 | 40 | 2013-01-01 05:00:00 |\n| 4 | 2013 | 1 | 1 | 544 | 545 | -1 | 1004 | 1022 | -18 | B6 |  725 | N804JB | JFK | BQN | 183 | 1576 | 5 | 45 | 2013-01-01 05:00:00 |\n| 5 | 2013 | 1 | 1 | 554 | 600 | -6 |  812 |  837 | -25 | DL |  461 | N668DN | LGA | ATL | 116 |  762 | 6 |  0 | 2013-01-01 06:00:00 |\n| 6 | 2013 | 1 | 1 | 554 | 558 | -4 |  740 |  728 |  12 | UA | 1696 | N39463 | EWR | ORD | 150 |  719 | 5 | 58 | 2013-01-01 05:00:00 |\n| 7 | 2013 | 1 | 1 | 555 | 600 | -5 |  913 |  854 |  19 | B6 |  507 | N516JB | EWR | FLL | 158 | 1065 | 6 |  0 | 2013-01-01 06:00:00 |\n| 8 | 2013 | 1 | 1 | 557 | 600 | -3 |  709 |  723 | -14 | EV | 5708 | N829AS | LGA | IAD |  53 |  229 | 6 |  0 | 2013-01-01 06:00:00 |\n| 9 | 2013 | 1 | 1 | 557 | 600 | -3 |  838 |  846 |  -8 | B6 |   79 | N593JB | JFK | MCO | 140 |  944 | 6 |  0 | 2013-01-01 06:00:00 |\n| 10 | 2013 | 1 | 1 | 558 | 600 | -2 |  753 |  745 |   8 | AA |  301 | N3ALAA | LGA | ORD | 138 |  733 | 6 |  0 | 2013-01-01 06:00:00 |\n\n",
            "text/latex": "A data.frame: 10 × 19\n\\begin{tabular}{r|lllllllllllllllllll}\n  & year & month & day & dep\\_time & sched\\_dep\\_time & dep\\_delay & arr\\_time & sched\\_arr\\_time & arr\\_delay & carrier & flight & tailnum & origin & dest & air\\_time & distance & hour & minute & time\\_hour\\\\\n  & <int> & <int> & <int> & <int> & <int> & <int> & <int> & <int> & <int> & <chr> & <int> & <chr> & <chr> & <chr> & <int> & <int> & <int> & <int> & <chr>\\\\\n\\hline\n\t1 & 2013 & 1 & 1 & 517 & 515 &  2 &  830 &  819 &  11 & UA & 1545 & N14228 & EWR & IAH & 227 & 1400 & 5 & 15 & 2013-01-01 05:00:00\\\\\n\t2 & 2013 & 1 & 1 & 533 & 529 &  4 &  850 &  830 &  20 & UA & 1714 & N24211 & LGA & IAH & 227 & 1416 & 5 & 29 & 2013-01-01 05:00:00\\\\\n\t3 & 2013 & 1 & 1 & 542 & 540 &  2 &  923 &  850 &  33 & AA & 1141 & N619AA & JFK & MIA & 160 & 1089 & 5 & 40 & 2013-01-01 05:00:00\\\\\n\t4 & 2013 & 1 & 1 & 544 & 545 & -1 & 1004 & 1022 & -18 & B6 &  725 & N804JB & JFK & BQN & 183 & 1576 & 5 & 45 & 2013-01-01 05:00:00\\\\\n\t5 & 2013 & 1 & 1 & 554 & 600 & -6 &  812 &  837 & -25 & DL &  461 & N668DN & LGA & ATL & 116 &  762 & 6 &  0 & 2013-01-01 06:00:00\\\\\n\t6 & 2013 & 1 & 1 & 554 & 558 & -4 &  740 &  728 &  12 & UA & 1696 & N39463 & EWR & ORD & 150 &  719 & 5 & 58 & 2013-01-01 05:00:00\\\\\n\t7 & 2013 & 1 & 1 & 555 & 600 & -5 &  913 &  854 &  19 & B6 &  507 & N516JB & EWR & FLL & 158 & 1065 & 6 &  0 & 2013-01-01 06:00:00\\\\\n\t8 & 2013 & 1 & 1 & 557 & 600 & -3 &  709 &  723 & -14 & EV & 5708 & N829AS & LGA & IAD &  53 &  229 & 6 &  0 & 2013-01-01 06:00:00\\\\\n\t9 & 2013 & 1 & 1 & 557 & 600 & -3 &  838 &  846 &  -8 & B6 &   79 & N593JB & JFK & MCO & 140 &  944 & 6 &  0 & 2013-01-01 06:00:00\\\\\n\t10 & 2013 & 1 & 1 & 558 & 600 & -2 &  753 &  745 &   8 & AA &  301 & N3ALAA & LGA & ORD & 138 &  733 & 6 &  0 & 2013-01-01 06:00:00\\\\\n\\end{tabular}\n",
            "text/plain": [
              "   year month day dep_time sched_dep_time dep_delay arr_time sched_arr_time\n",
              "1  2013 1     1   517      515             2         830      819          \n",
              "2  2013 1     1   533      529             4         850      830          \n",
              "3  2013 1     1   542      540             2         923      850          \n",
              "4  2013 1     1   544      545            -1        1004     1022          \n",
              "5  2013 1     1   554      600            -6         812      837          \n",
              "6  2013 1     1   554      558            -4         740      728          \n",
              "7  2013 1     1   555      600            -5         913      854          \n",
              "8  2013 1     1   557      600            -3         709      723          \n",
              "9  2013 1     1   557      600            -3         838      846          \n",
              "10 2013 1     1   558      600            -2         753      745          \n",
              "   arr_delay carrier flight tailnum origin dest air_time distance hour minute\n",
              "1   11       UA      1545   N14228  EWR    IAH  227      1400     5    15    \n",
              "2   20       UA      1714   N24211  LGA    IAH  227      1416     5    29    \n",
              "3   33       AA      1141   N619AA  JFK    MIA  160      1089     5    40    \n",
              "4  -18       B6       725   N804JB  JFK    BQN  183      1576     5    45    \n",
              "5  -25       DL       461   N668DN  LGA    ATL  116       762     6     0    \n",
              "6   12       UA      1696   N39463  EWR    ORD  150       719     5    58    \n",
              "7   19       B6       507   N516JB  EWR    FLL  158      1065     6     0    \n",
              "8  -14       EV      5708   N829AS  LGA    IAD   53       229     6     0    \n",
              "9   -8       B6        79   N593JB  JFK    MCO  140       944     6     0    \n",
              "10   8       AA       301   N3ALAA  LGA    ORD  138       733     6     0    \n",
              "   time_hour          \n",
              "1  2013-01-01 05:00:00\n",
              "2  2013-01-01 05:00:00\n",
              "3  2013-01-01 05:00:00\n",
              "4  2013-01-01 05:00:00\n",
              "5  2013-01-01 06:00:00\n",
              "6  2013-01-01 05:00:00\n",
              "7  2013-01-01 06:00:00\n",
              "8  2013-01-01 06:00:00\n",
              "9  2013-01-01 06:00:00\n",
              "10 2013-01-01 06:00:00"
            ]
          },
          "metadata": {}
        }
      ]
    },
    {
      "cell_type": "code",
      "source": [
        "summary(flights)"
      ],
      "metadata": {
        "id": "dLiCkpB_LKlf",
        "outputId": "6adea84f-1400-41bc-81b5-80ec65949b1e",
        "colab": {
          "base_uri": "https://localhost:8080/",
          "height": 711
        }
      },
      "execution_count": 8,
      "outputs": [
        {
          "output_type": "display_data",
          "data": {
            "text/plain": [
              "      year          month             day           dep_time    sched_dep_time\n",
              " Min.   :2013   Min.   : 1.000   Min.   : 1.00   Min.   :   1   Min.   : 106  \n",
              " 1st Qu.:2013   1st Qu.: 4.000   1st Qu.: 8.00   1st Qu.: 907   1st Qu.: 906  \n",
              " Median :2013   Median : 7.000   Median :16.00   Median :1401   Median :1359  \n",
              " Mean   :2013   Mean   : 6.549   Mean   :15.71   Mean   :1349   Mean   :1344  \n",
              " 3rd Qu.:2013   3rd Qu.:10.000   3rd Qu.:23.00   3rd Qu.:1744   3rd Qu.:1729  \n",
              " Max.   :2013   Max.   :12.000   Max.   :31.00   Max.   :2400   Max.   :2359  \n",
              "                                                 NA's   :8255                 \n",
              "   dep_delay          arr_time    sched_arr_time   arr_delay       \n",
              " Min.   : -43.00   Min.   :   1   Min.   :   1   Min.   : -86.000  \n",
              " 1st Qu.:  -5.00   1st Qu.:1104   1st Qu.:1124   1st Qu.: -17.000  \n",
              " Median :  -2.00   Median :1535   Median :1556   Median :  -5.000  \n",
              " Mean   :  12.64   Mean   :1502   Mean   :1536   Mean   :   6.895  \n",
              " 3rd Qu.:  11.00   3rd Qu.:1940   3rd Qu.:1945   3rd Qu.:  14.000  \n",
              " Max.   :1301.00   Max.   :2400   Max.   :2359   Max.   :1272.000  \n",
              " NA's   :8255      NA's   :8713                  NA's   :9430      \n",
              "   carrier              flight       tailnum             origin         \n",
              " Length:336776      Min.   :   1   Length:336776      Length:336776     \n",
              " Class :character   1st Qu.: 553   Class :character   Class :character  \n",
              " Mode  :character   Median :1496   Mode  :character   Mode  :character  \n",
              "                    Mean   :1972                                        \n",
              "                    3rd Qu.:3465                                        \n",
              "                    Max.   :8500                                        \n",
              "                                                                        \n",
              "     dest              air_time        distance         hour      \n",
              " Length:336776      Min.   : 20.0   Min.   :  17   Min.   : 1.00  \n",
              " Class :character   1st Qu.: 82.0   1st Qu.: 502   1st Qu.: 9.00  \n",
              " Mode  :character   Median :129.0   Median : 872   Median :13.00  \n",
              "                    Mean   :150.7   Mean   :1040   Mean   :13.18  \n",
              "                    3rd Qu.:192.0   3rd Qu.:1389   3rd Qu.:17.00  \n",
              "                    Max.   :695.0   Max.   :4983   Max.   :23.00  \n",
              "                    NA's   :9430                                  \n",
              "     minute       time_hour        \n",
              " Min.   : 0.00   Length:336776     \n",
              " 1st Qu.: 8.00   Class :character  \n",
              " Median :29.00   Mode  :character  \n",
              " Mean   :26.23                     \n",
              " 3rd Qu.:44.00                     \n",
              " Max.   :59.00                     \n",
              "                                   "
            ]
          },
          "metadata": {}
        }
      ]
    },
    {
      "cell_type": "code",
      "metadata": {
        "trusted": true,
        "id": "lnAkEF3NRPyQ",
        "outputId": "c9ef4005-808e-4f3e-a4cf-70d2ae80f4ac",
        "colab": {
          "base_uri": "https://localhost:8080/",
          "height": 34
        }
      },
      "source": [
        "class(flights)"
      ],
      "execution_count": 10,
      "outputs": [
        {
          "output_type": "display_data",
          "data": {
            "text/html": [
              "'data.frame'"
            ],
            "text/markdown": "'data.frame'",
            "text/latex": "'data.frame'",
            "text/plain": [
              "[1] \"data.frame\""
            ]
          },
          "metadata": {}
        }
      ]
    },
    {
      "cell_type": "code",
      "metadata": {
        "trusted": true,
        "id": "OlWowRWVRPyS",
        "outputId": "0162469a-c930-4222-c6d3-944cb8edfd20",
        "colab": {
          "base_uri": "https://localhost:8080/"
        }
      },
      "source": [
        "glimpse(flights)\n",
        "\n",
        "\n",
        "str(flights)"
      ],
      "execution_count": 15,
      "outputs": [
        {
          "output_type": "stream",
          "name": "stdout",
          "text": [
            "Rows: 336,776\n",
            "Columns: 19\n",
            "$ year           \u001b[3m\u001b[90m<int>\u001b[39m\u001b[23m 2013, 2013, 2013, 2013, 2013, 2013, 2013, 2013, 2013, 2…\n",
            "$ month          \u001b[3m\u001b[90m<int>\u001b[39m\u001b[23m 1, 1, 1, 1, 1, 1, 1, 1, 1, 1, 1, 1, 1, 1, 1, 1, 1, 1, 1…\n",
            "$ day            \u001b[3m\u001b[90m<int>\u001b[39m\u001b[23m 1, 1, 1, 1, 1, 1, 1, 1, 1, 1, 1, 1, 1, 1, 1, 1, 1, 1, 1…\n",
            "$ dep_time       \u001b[3m\u001b[90m<int>\u001b[39m\u001b[23m 517, 533, 542, 544, 554, 554, 555, 557, 557, 558, 558, …\n",
            "$ sched_dep_time \u001b[3m\u001b[90m<int>\u001b[39m\u001b[23m 515, 529, 540, 545, 600, 558, 600, 600, 600, 600, 600, …\n",
            "$ dep_delay      \u001b[3m\u001b[90m<int>\u001b[39m\u001b[23m 2, 4, 2, -1, -6, -4, -5, -3, -3, -2, -2, -2, -2, -2, -1…\n",
            "$ arr_time       \u001b[3m\u001b[90m<int>\u001b[39m\u001b[23m 830, 850, 923, 1004, 812, 740, 913, 709, 838, 753, 849,…\n",
            "$ sched_arr_time \u001b[3m\u001b[90m<int>\u001b[39m\u001b[23m 819, 830, 850, 1022, 837, 728, 854, 723, 846, 745, 851,…\n",
            "$ arr_delay      \u001b[3m\u001b[90m<int>\u001b[39m\u001b[23m 11, 20, 33, -18, -25, 12, 19, -14, -8, 8, -2, -3, 7, -1…\n",
            "$ carrier        \u001b[3m\u001b[90m<chr>\u001b[39m\u001b[23m \"UA\", \"UA\", \"AA\", \"B6\", \"DL\", \"UA\", \"B6\", \"EV\", \"B6\", \"…\n",
            "$ flight         \u001b[3m\u001b[90m<int>\u001b[39m\u001b[23m 1545, 1714, 1141, 725, 461, 1696, 507, 5708, 79, 301, 4…\n",
            "$ tailnum        \u001b[3m\u001b[90m<chr>\u001b[39m\u001b[23m \"N14228\", \"N24211\", \"N619AA\", \"N804JB\", \"N668DN\", \"N394…\n",
            "$ origin         \u001b[3m\u001b[90m<chr>\u001b[39m\u001b[23m \"EWR\", \"LGA\", \"JFK\", \"JFK\", \"LGA\", \"EWR\", \"EWR\", \"LGA\",…\n",
            "$ dest           \u001b[3m\u001b[90m<chr>\u001b[39m\u001b[23m \"IAH\", \"IAH\", \"MIA\", \"BQN\", \"ATL\", \"ORD\", \"FLL\", \"IAD\",…\n",
            "$ air_time       \u001b[3m\u001b[90m<int>\u001b[39m\u001b[23m 227, 227, 160, 183, 116, 150, 158, 53, 140, 138, 149, 1…\n",
            "$ distance       \u001b[3m\u001b[90m<int>\u001b[39m\u001b[23m 1400, 1416, 1089, 1576, 762, 719, 1065, 229, 944, 733, …\n",
            "$ hour           \u001b[3m\u001b[90m<int>\u001b[39m\u001b[23m 5, 5, 5, 5, 6, 5, 6, 6, 6, 6, 6, 6, 6, 6, 6, 5, 6, 6, 6…\n",
            "$ minute         \u001b[3m\u001b[90m<int>\u001b[39m\u001b[23m 15, 29, 40, 45, 0, 58, 0, 0, 0, 0, 0, 0, 0, 0, 0, 59, 0…\n",
            "$ time_hour      \u001b[3m\u001b[90m<chr>\u001b[39m\u001b[23m \"2013-01-01 05:00:00\", \"2013-01-01 05:00:00\", \"2013-01-…\n",
            "'data.frame':\t336776 obs. of  19 variables:\n",
            " $ year          : int  2013 2013 2013 2013 2013 2013 2013 2013 2013 2013 ...\n",
            " $ month         : int  1 1 1 1 1 1 1 1 1 1 ...\n",
            " $ day           : int  1 1 1 1 1 1 1 1 1 1 ...\n",
            " $ dep_time      : int  517 533 542 544 554 554 555 557 557 558 ...\n",
            " $ sched_dep_time: int  515 529 540 545 600 558 600 600 600 600 ...\n",
            " $ dep_delay     : int  2 4 2 -1 -6 -4 -5 -3 -3 -2 ...\n",
            " $ arr_time      : int  830 850 923 1004 812 740 913 709 838 753 ...\n",
            " $ sched_arr_time: int  819 830 850 1022 837 728 854 723 846 745 ...\n",
            " $ arr_delay     : int  11 20 33 -18 -25 12 19 -14 -8 8 ...\n",
            " $ carrier       : chr  \"UA\" \"UA\" \"AA\" \"B6\" ...\n",
            " $ flight        : int  1545 1714 1141 725 461 1696 507 5708 79 301 ...\n",
            " $ tailnum       : chr  \"N14228\" \"N24211\" \"N619AA\" \"N804JB\" ...\n",
            " $ origin        : chr  \"EWR\" \"LGA\" \"JFK\" \"JFK\" ...\n",
            " $ dest          : chr  \"IAH\" \"IAH\" \"MIA\" \"BQN\" ...\n",
            " $ air_time      : int  227 227 160 183 116 150 158 53 140 138 ...\n",
            " $ distance      : int  1400 1416 1089 1576 762 719 1065 229 944 733 ...\n",
            " $ hour          : int  5 5 5 5 6 5 6 6 6 6 ...\n",
            " $ minute        : int  15 29 40 45 0 58 0 0 0 0 ...\n",
            " $ time_hour     : chr  \"2013-01-01 05:00:00\" \"2013-01-01 05:00:00\" \"2013-01-01 05:00:00\" \"2013-01-01 05:00:00\" ...\n"
          ]
        }
      ]
    },
    {
      "cell_type": "markdown",
      "metadata": {
        "id": "jAHBUxNxRPyV"
      },
      "source": [
        "## 4. Funciones básicas de dplyr\n",
        "\n",
        "A continuación exploraremos los datos de vuelos utilizando la librería dplyr.\n",
        "\n",
        "### 4.1 Función filter()\n",
        "\n",
        "La función filter() de dplyr es el equivalente a la sentencia where de sql."
      ]
    },
    {
      "cell_type": "code",
      "metadata": {
        "trusted": true,
        "scrolled": true,
        "id": "mv1lhelWRPyV",
        "outputId": "8bd8250c-7ddc-4088-b8e3-d8c9b59effd7",
        "colab": {
          "base_uri": "https://localhost:8080/",
          "height": 1000
        }
      },
      "source": [
        "# filter() # where de sql----------------------------------------------------------------\n",
        "# Registros que tengan fecha 31 de diciembre\n",
        "# Antes\n",
        "\n",
        "# Ahora\n",
        "\n",
        "ano_viejo <- flights %>% filter(grepl('^2013-12-31', time_hour))\n",
        "ano_viejo # 776x19\n",
        "\n",
        "ano_viejo2 <- flights %>% filter(month == 12, day == 31)\n",
        "ano_viejo2 # 776x19"
      ],
      "execution_count": 20,
      "outputs": [
        {
          "output_type": "display_data",
          "data": {
            "text/html": [
              "<table class=\"dataframe\">\n",
              "<caption>A data.frame: 776 × 19</caption>\n",
              "<thead>\n",
              "\t<tr><th scope=col>year</th><th scope=col>month</th><th scope=col>day</th><th scope=col>dep_time</th><th scope=col>sched_dep_time</th><th scope=col>dep_delay</th><th scope=col>arr_time</th><th scope=col>sched_arr_time</th><th scope=col>arr_delay</th><th scope=col>carrier</th><th scope=col>flight</th><th scope=col>tailnum</th><th scope=col>origin</th><th scope=col>dest</th><th scope=col>air_time</th><th scope=col>distance</th><th scope=col>hour</th><th scope=col>minute</th><th scope=col>time_hour</th></tr>\n",
              "\t<tr><th scope=col>&lt;int&gt;</th><th scope=col>&lt;int&gt;</th><th scope=col>&lt;int&gt;</th><th scope=col>&lt;int&gt;</th><th scope=col>&lt;int&gt;</th><th scope=col>&lt;int&gt;</th><th scope=col>&lt;int&gt;</th><th scope=col>&lt;int&gt;</th><th scope=col>&lt;int&gt;</th><th scope=col>&lt;chr&gt;</th><th scope=col>&lt;int&gt;</th><th scope=col>&lt;chr&gt;</th><th scope=col>&lt;chr&gt;</th><th scope=col>&lt;chr&gt;</th><th scope=col>&lt;int&gt;</th><th scope=col>&lt;int&gt;</th><th scope=col>&lt;int&gt;</th><th scope=col>&lt;int&gt;</th><th scope=col>&lt;chr&gt;</th></tr>\n",
              "</thead>\n",
              "<tbody>\n",
              "\t<tr><td>2013</td><td>12</td><td>31</td><td> 13</td><td>2359</td><td> 14</td><td> 439</td><td> 437</td><td>  2</td><td>B6</td><td> 839</td><td>N566JB</td><td>JFK</td><td>BQN</td><td>189</td><td>1576</td><td>23</td><td>59</td><td>2013-12-31 23:00:00</td></tr>\n",
              "\t<tr><td>2013</td><td>12</td><td>31</td><td> 18</td><td>2359</td><td> 19</td><td> 449</td><td> 444</td><td>  5</td><td>DL</td><td> 412</td><td>N713TW</td><td>JFK</td><td>SJU</td><td>192</td><td>1598</td><td>23</td><td>59</td><td>2013-12-31 23:00:00</td></tr>\n",
              "\t<tr><td>2013</td><td>12</td><td>31</td><td> 26</td><td>2245</td><td>101</td><td> 129</td><td>2353</td><td> 96</td><td>B6</td><td> 108</td><td>N374JB</td><td>JFK</td><td>PWM</td><td> 50</td><td> 273</td><td>22</td><td>45</td><td>2013-12-31 22:00:00</td></tr>\n",
              "\t<tr><td>2013</td><td>12</td><td>31</td><td>459</td><td> 500</td><td> -1</td><td> 655</td><td> 651</td><td>  4</td><td>US</td><td>1895</td><td>N557UW</td><td>EWR</td><td>CLT</td><td> 95</td><td> 529</td><td> 5</td><td> 0</td><td>2013-12-31 05:00:00</td></tr>\n",
              "\t<tr><td>2013</td><td>12</td><td>31</td><td>514</td><td> 515</td><td> -1</td><td> 814</td><td> 812</td><td>  2</td><td>UA</td><td> 700</td><td>N470UA</td><td>EWR</td><td>IAH</td><td>223</td><td>1400</td><td> 5</td><td>15</td><td>2013-12-31 05:00:00</td></tr>\n",
              "\t<tr><td>2013</td><td>12</td><td>31</td><td>549</td><td> 551</td><td> -2</td><td> 925</td><td> 900</td><td> 25</td><td>UA</td><td> 274</td><td>N577UA</td><td>EWR</td><td>LAX</td><td>346</td><td>2454</td><td> 5</td><td>51</td><td>2013-12-31 05:00:00</td></tr>\n",
              "\t<tr><td>2013</td><td>12</td><td>31</td><td>550</td><td> 600</td><td>-10</td><td> 725</td><td> 745</td><td>-20</td><td>AA</td><td> 301</td><td>N3CXAA</td><td>LGA</td><td>ORD</td><td>127</td><td> 733</td><td> 6</td><td> 0</td><td>2013-12-31 06:00:00</td></tr>\n",
              "\t<tr><td>2013</td><td>12</td><td>31</td><td>552</td><td> 600</td><td> -8</td><td> 811</td><td> 826</td><td>-15</td><td>EV</td><td>3825</td><td>N14916</td><td>EWR</td><td>IND</td><td>118</td><td> 645</td><td> 6</td><td> 0</td><td>2013-12-31 06:00:00</td></tr>\n",
              "\t<tr><td>2013</td><td>12</td><td>31</td><td>553</td><td> 600</td><td> -7</td><td> 741</td><td> 754</td><td>-13</td><td>DL</td><td> 731</td><td>N333NB</td><td>LGA</td><td>DTW</td><td> 86</td><td> 502</td><td> 6</td><td> 0</td><td>2013-12-31 06:00:00</td></tr>\n",
              "\t<tr><td>2013</td><td>12</td><td>31</td><td>554</td><td> 550</td><td>  4</td><td>1024</td><td>1027</td><td> -3</td><td>B6</td><td> 939</td><td>N552JB</td><td>JFK</td><td>BQN</td><td>195</td><td>1576</td><td> 5</td><td>50</td><td>2013-12-31 05:00:00</td></tr>\n",
              "\t<tr><td>2013</td><td>12</td><td>31</td><td>555</td><td> 600</td><td> -5</td><td> 901</td><td> 849</td><td> 12</td><td>B6</td><td> 353</td><td>N746JB</td><td>JFK</td><td>PBI</td><td>167</td><td>1028</td><td> 6</td><td> 0</td><td>2013-12-31 06:00:00</td></tr>\n",
              "\t<tr><td>2013</td><td>12</td><td>31</td><td>555</td><td> 600</td><td> -5</td><td> 835</td><td> 831</td><td>  4</td><td>DL</td><td> 904</td><td>N3741S</td><td>LGA</td><td>ATL</td><td>137</td><td> 762</td><td> 6</td><td> 0</td><td>2013-12-31 06:00:00</td></tr>\n",
              "\t<tr><td>2013</td><td>12</td><td>31</td><td>555</td><td> 551</td><td>  4</td><td> 853</td><td> 851</td><td>  2</td><td>UA</td><td> 566</td><td>N491UA</td><td>EWR</td><td>TPA</td><td>164</td><td> 997</td><td> 5</td><td>51</td><td>2013-12-31 05:00:00</td></tr>\n",
              "\t<tr><td>2013</td><td>12</td><td>31</td><td>556</td><td> 600</td><td> -4</td><td> 909</td><td> 846</td><td> 23</td><td>B6</td><td> 583</td><td>N715JB</td><td>JFK</td><td>MCO</td><td>162</td><td> 944</td><td> 6</td><td> 0</td><td>2013-12-31 06:00:00</td></tr>\n",
              "\t<tr><td>2013</td><td>12</td><td>31</td><td>556</td><td> 605</td><td> -9</td><td> 808</td><td> 814</td><td> -6</td><td>DL</td><td>1919</td><td>N958DL</td><td>LGA</td><td>MSP</td><td>160</td><td>1020</td><td> 6</td><td> 5</td><td>2013-12-31 06:00:00</td></tr>\n",
              "\t<tr><td>2013</td><td>12</td><td>31</td><td>557</td><td> 603</td><td> -6</td><td> 719</td><td> 719</td><td>  0</td><td>EV</td><td>4241</td><td>N15574</td><td>EWR</td><td>DCA</td><td> 45</td><td> 199</td><td> 6</td><td> 3</td><td>2013-12-31 06:00:00</td></tr>\n",
              "\t<tr><td>2013</td><td>12</td><td>31</td><td>558</td><td> 600</td><td> -2</td><td> 919</td><td> 905</td><td> 14</td><td>AA</td><td>1175</td><td>N3JEAA</td><td>LGA</td><td>MIA</td><td>173</td><td>1096</td><td> 6</td><td> 0</td><td>2013-12-31 06:00:00</td></tr>\n",
              "\t<tr><td>2013</td><td>12</td><td>31</td><td>559</td><td> 600</td><td> -1</td><td> 917</td><td> 855</td><td> 22</td><td>B6</td><td> 605</td><td>N597JB</td><td>EWR</td><td>FLL</td><td>167</td><td>1065</td><td> 6</td><td> 0</td><td>2013-12-31 06:00:00</td></tr>\n",
              "\t<tr><td>2013</td><td>12</td><td>31</td><td>600</td><td> 540</td><td> 20</td><td> 928</td><td> 850</td><td> 38</td><td>AA</td><td>2243</td><td>N5EMAA</td><td>JFK</td><td>MIA</td><td>171</td><td>1089</td><td> 5</td><td>40</td><td>2013-12-31 05:00:00</td></tr>\n",
              "\t<tr><td>2013</td><td>12</td><td>31</td><td>602</td><td> 605</td><td> -3</td><td> 744</td><td> 805</td><td>-21</td><td>DL</td><td>2505</td><td>N358NB</td><td>EWR</td><td>DTW</td><td> 87</td><td> 488</td><td> 6</td><td> 5</td><td>2013-12-31 06:00:00</td></tr>\n",
              "\t<tr><td>2013</td><td>12</td><td>31</td><td>602</td><td> 605</td><td> -3</td><td> 708</td><td> 723</td><td>-15</td><td>EV</td><td>6177</td><td>N14543</td><td>EWR</td><td>IAD</td><td> 45</td><td> 212</td><td> 6</td><td> 5</td><td>2013-12-31 06:00:00</td></tr>\n",
              "\t<tr><td>2013</td><td>12</td><td>31</td><td>603</td><td> 611</td><td> -8</td><td>1045</td><td>1055</td><td>-10</td><td>B6</td><td>1403</td><td>N547JB</td><td>JFK</td><td>SJU</td><td>198</td><td>1598</td><td> 6</td><td>11</td><td>2013-12-31 06:00:00</td></tr>\n",
              "\t<tr><td>2013</td><td>12</td><td>31</td><td>607</td><td> 600</td><td>  7</td><td> 848</td><td> 825</td><td> 23</td><td>WN</td><td>1716</td><td>N7740A</td><td>LGA</td><td>ATL</td><td>137</td><td> 762</td><td> 6</td><td> 0</td><td>2013-12-31 06:00:00</td></tr>\n",
              "\t<tr><td>2013</td><td>12</td><td>31</td><td>608</td><td> 615</td><td> -7</td><td> 812</td><td> 818</td><td> -6</td><td>US</td><td>1963</td><td>N192UW</td><td>EWR</td><td>CLT</td><td>106</td><td> 529</td><td> 6</td><td>15</td><td>2013-12-31 06:00:00</td></tr>\n",
              "\t<tr><td>2013</td><td>12</td><td>31</td><td>609</td><td> 610</td><td> -1</td><td> 911</td><td> 915</td><td> -4</td><td>AA</td><td>1205</td><td>N5DHAA</td><td>EWR</td><td>MIA</td><td>163</td><td>1085</td><td> 6</td><td>10</td><td>2013-12-31 06:00:00</td></tr>\n",
              "\t<tr><td>2013</td><td>12</td><td>31</td><td>609</td><td> 615</td><td> -6</td><td> 848</td><td> 850</td><td> -2</td><td>DL</td><td> 404</td><td>N392DA</td><td>JFK</td><td>ATL</td><td>133</td><td> 760</td><td> 6</td><td>15</td><td>2013-12-31 06:00:00</td></tr>\n",
              "\t<tr><td>2013</td><td>12</td><td>31</td><td>609</td><td> 614</td><td> -5</td><td> 755</td><td> 751</td><td>  4</td><td>EV</td><td>3812</td><td>N13994</td><td>EWR</td><td>RDU</td><td> 81</td><td> 416</td><td> 6</td><td>14</td><td>2013-12-31 06:00:00</td></tr>\n",
              "\t<tr><td>2013</td><td>12</td><td>31</td><td>610</td><td> 615</td><td> -5</td><td> 828</td><td> 849</td><td>-21</td><td>DL</td><td> 479</td><td>N3766 </td><td>JFK</td><td>ATL</td><td>119</td><td> 760</td><td> 6</td><td>15</td><td>2013-12-31 06:00:00</td></tr>\n",
              "\t<tr><td>2013</td><td>12</td><td>31</td><td>616</td><td> 611</td><td>  5</td><td> 933</td><td> 912</td><td> 21</td><td>B6</td><td> 601</td><td>N643JB</td><td>JFK</td><td>FLL</td><td>173</td><td>1069</td><td> 6</td><td>11</td><td>2013-12-31 06:00:00</td></tr>\n",
              "\t<tr><td>2013</td><td>12</td><td>31</td><td>616</td><td> 630</td><td>-14</td><td> 922</td><td> 919</td><td>  3</td><td>B6</td><td>1099</td><td>N563JB</td><td>LGA</td><td>MCO</td><td>159</td><td> 950</td><td> 6</td><td>30</td><td>2013-12-31 06:00:00</td></tr>\n",
              "\t<tr><td>⋮</td><td>⋮</td><td>⋮</td><td>⋮</td><td>⋮</td><td>⋮</td><td>⋮</td><td>⋮</td><td>⋮</td><td>⋮</td><td>⋮</td><td>⋮</td><td>⋮</td><td>⋮</td><td>⋮</td><td>⋮</td><td>⋮</td><td>⋮</td><td>⋮</td></tr>\n",
              "\t<tr><td>2013</td><td>12</td><td>31</td><td>2155</td><td>2039</td><td> 76</td><td> 253</td><td>2355</td><td> NA</td><td>B6</td><td>1205</td><td>N627JB</td><td>JFK</td><td>PDX</td><td> NA</td><td>2454</td><td>20</td><td>39</td><td>2013-12-31 20:00:00</td></tr>\n",
              "\t<tr><td>2013</td><td>12</td><td>31</td><td>2155</td><td>2150</td><td>  5</td><td> 110</td><td>  51</td><td> 19</td><td>B6</td><td>1901</td><td>N729JB</td><td>JFK</td><td>FLL</td><td>164</td><td>1069</td><td>21</td><td>50</td><td>2013-12-31 21:00:00</td></tr>\n",
              "\t<tr><td>2013</td><td>12</td><td>31</td><td>2159</td><td>2155</td><td>  4</td><td>  55</td><td>  46</td><td>  9</td><td>B6</td><td>2053</td><td>N593JB</td><td>JFK</td><td>PBI</td><td>155</td><td>1028</td><td>21</td><td>55</td><td>2013-12-31 21:00:00</td></tr>\n",
              "\t<tr><td>2013</td><td>12</td><td>31</td><td>2206</td><td>2110</td><td> 56</td><td>  44</td><td>2339</td><td> 65</td><td>B6</td><td> 775</td><td>N184JB</td><td>JFK</td><td>MSY</td><td>195</td><td>1182</td><td>21</td><td>10</td><td>2013-12-31 21:00:00</td></tr>\n",
              "\t<tr><td>2013</td><td>12</td><td>31</td><td>2211</td><td>2159</td><td> 12</td><td> 100</td><td>  45</td><td> 15</td><td>B6</td><td>1183</td><td>N715JB</td><td>JFK</td><td>MCO</td><td>148</td><td> 944</td><td>21</td><td>59</td><td>2013-12-31 21:00:00</td></tr>\n",
              "\t<tr><td>2013</td><td>12</td><td>31</td><td>2218</td><td>2219</td><td> -1</td><td> 315</td><td> 304</td><td> 11</td><td>B6</td><td>1203</td><td>N625JB</td><td>JFK</td><td>SJU</td><td>202</td><td>1598</td><td>22</td><td>19</td><td>2013-12-31 22:00:00</td></tr>\n",
              "\t<tr><td>2013</td><td>12</td><td>31</td><td>2235</td><td>2245</td><td>-10</td><td>2351</td><td>2355</td><td> -4</td><td>B6</td><td> 234</td><td>N355JB</td><td>JFK</td><td>BTV</td><td> 49</td><td> 266</td><td>22</td><td>45</td><td>2013-12-31 22:00:00</td></tr>\n",
              "\t<tr><td>2013</td><td>12</td><td>31</td><td>2245</td><td>2250</td><td> -5</td><td>2359</td><td>2356</td><td>  3</td><td>B6</td><td>1816</td><td>N318JB</td><td>JFK</td><td>SYR</td><td> 51</td><td> 209</td><td>22</td><td>50</td><td>2013-12-31 22:00:00</td></tr>\n",
              "\t<tr><td>2013</td><td>12</td><td>31</td><td>2310</td><td>2255</td><td> 15</td><td>   7</td><td>2356</td><td> 11</td><td>B6</td><td> 718</td><td>N279JB</td><td>JFK</td><td>BOS</td><td> 40</td><td> 187</td><td>22</td><td>55</td><td>2013-12-31 22:00:00</td></tr>\n",
              "\t<tr><td>2013</td><td>12</td><td>31</td><td>2321</td><td>2250</td><td> 31</td><td>  46</td><td>   8</td><td> 38</td><td>B6</td><td>2002</td><td>N179JB</td><td>JFK</td><td>BUF</td><td> 66</td><td> 301</td><td>22</td><td>50</td><td>2013-12-31 22:00:00</td></tr>\n",
              "\t<tr><td>2013</td><td>12</td><td>31</td><td>2328</td><td>2330</td><td> -2</td><td> 412</td><td> 409</td><td>  3</td><td>B6</td><td>1389</td><td>N651JB</td><td>EWR</td><td>SJU</td><td>198</td><td>1608</td><td>23</td><td>30</td><td>2013-12-31 23:00:00</td></tr>\n",
              "\t<tr><td>2013</td><td>12</td><td>31</td><td>2332</td><td>2245</td><td> 47</td><td>  58</td><td>   3</td><td> 55</td><td>B6</td><td> 486</td><td>N334JB</td><td>JFK</td><td>ROC</td><td> 60</td><td> 264</td><td>22</td><td>45</td><td>2013-12-31 22:00:00</td></tr>\n",
              "\t<tr><td>2013</td><td>12</td><td>31</td><td>2355</td><td>2359</td><td> -4</td><td> 430</td><td> 440</td><td>-10</td><td>B6</td><td>1503</td><td>N509JB</td><td>JFK</td><td>SJU</td><td>195</td><td>1598</td><td>23</td><td>59</td><td>2013-12-31 23:00:00</td></tr>\n",
              "\t<tr><td>2013</td><td>12</td><td>31</td><td>2356</td><td>2359</td><td> -3</td><td> 436</td><td> 445</td><td> -9</td><td>B6</td><td> 745</td><td>N665JB</td><td>JFK</td><td>PSE</td><td>200</td><td>1617</td><td>23</td><td>59</td><td>2013-12-31 23:00:00</td></tr>\n",
              "\t<tr><td>2013</td><td>12</td><td>31</td><td>  NA</td><td>1520</td><td> NA</td><td>  NA</td><td>1705</td><td> NA</td><td>AA</td><td> 341</td><td>N568AA</td><td>LGA</td><td>ORD</td><td> NA</td><td> 733</td><td>15</td><td>20</td><td>2013-12-31 15:00:00</td></tr>\n",
              "\t<tr><td>2013</td><td>12</td><td>31</td><td>  NA</td><td>2025</td><td> NA</td><td>  NA</td><td>2205</td><td> NA</td><td>AA</td><td> 371</td><td>N482AA</td><td>LGA</td><td>ORD</td><td> NA</td><td> 733</td><td>20</td><td>25</td><td>2013-12-31 20:00:00</td></tr>\n",
              "\t<tr><td>2013</td><td>12</td><td>31</td><td>  NA</td><td>1932</td><td> NA</td><td>  NA</td><td>2305</td><td> NA</td><td>B6</td><td> 161</td><td>N516JB</td><td>JFK</td><td>SMF</td><td> NA</td><td>2521</td><td>19</td><td>32</td><td>2013-12-31 19:00:00</td></tr>\n",
              "\t<tr><td>2013</td><td>12</td><td>31</td><td>  NA</td><td>1505</td><td> NA</td><td>  NA</td><td>1725</td><td> NA</td><td>EV</td><td>4181</td><td>N24103</td><td>EWR</td><td>MCI</td><td> NA</td><td>1092</td><td>15</td><td> 5</td><td>2013-12-31 15:00:00</td></tr>\n",
              "\t<tr><td>2013</td><td>12</td><td>31</td><td>  NA</td><td>1000</td><td> NA</td><td>  NA</td><td>1252</td><td> NA</td><td>UA</td><td>1124</td><td>NA    </td><td>EWR</td><td>EGE</td><td> NA</td><td>1725</td><td>10</td><td> 0</td><td>2013-12-31 10:00:00</td></tr>\n",
              "\t<tr><td>2013</td><td>12</td><td>31</td><td>  NA</td><td> 840</td><td> NA</td><td>  NA</td><td>1205</td><td> NA</td><td>UA</td><td>1151</td><td>NA    </td><td>EWR</td><td>SEA</td><td> NA</td><td>2402</td><td> 8</td><td>40</td><td>2013-12-31 08:00:00</td></tr>\n",
              "\t<tr><td>2013</td><td>12</td><td>31</td><td>  NA</td><td> 754</td><td> NA</td><td>  NA</td><td>1118</td><td> NA</td><td>UA</td><td>1455</td><td>NA    </td><td>EWR</td><td>LAX</td><td> NA</td><td>2454</td><td> 7</td><td>54</td><td>2013-12-31 07:00:00</td></tr>\n",
              "\t<tr><td>2013</td><td>12</td><td>31</td><td>  NA</td><td>2000</td><td> NA</td><td>  NA</td><td>2146</td><td> NA</td><td>UA</td><td>1482</td><td>NA    </td><td>EWR</td><td>ORD</td><td> NA</td><td> 719</td><td>20</td><td> 0</td><td>2013-12-31 20:00:00</td></tr>\n",
              "\t<tr><td>2013</td><td>12</td><td>31</td><td>  NA</td><td>1500</td><td> NA</td><td>  NA</td><td>1817</td><td> NA</td><td>UA</td><td>1483</td><td>NA    </td><td>EWR</td><td>AUS</td><td> NA</td><td>1504</td><td>15</td><td> 0</td><td>2013-12-31 15:00:00</td></tr>\n",
              "\t<tr><td>2013</td><td>12</td><td>31</td><td>  NA</td><td>1430</td><td> NA</td><td>  NA</td><td>1750</td><td> NA</td><td>UA</td><td>1493</td><td>NA    </td><td>EWR</td><td>LAX</td><td> NA</td><td>2454</td><td>14</td><td>30</td><td>2013-12-31 14:00:00</td></tr>\n",
              "\t<tr><td>2013</td><td>12</td><td>31</td><td>  NA</td><td> 855</td><td> NA</td><td>  NA</td><td>1142</td><td> NA</td><td>UA</td><td>1506</td><td>NA    </td><td>EWR</td><td>JAC</td><td> NA</td><td>1874</td><td> 8</td><td>55</td><td>2013-12-31 08:00:00</td></tr>\n",
              "\t<tr><td>2013</td><td>12</td><td>31</td><td>  NA</td><td> 705</td><td> NA</td><td>  NA</td><td> 931</td><td> NA</td><td>UA</td><td>1729</td><td>NA    </td><td>EWR</td><td>DEN</td><td> NA</td><td>1605</td><td> 7</td><td> 5</td><td>2013-12-31 07:00:00</td></tr>\n",
              "\t<tr><td>2013</td><td>12</td><td>31</td><td>  NA</td><td> 825</td><td> NA</td><td>  NA</td><td>1029</td><td> NA</td><td>US</td><td>1831</td><td>NA    </td><td>JFK</td><td>CLT</td><td> NA</td><td> 541</td><td> 8</td><td>25</td><td>2013-12-31 08:00:00</td></tr>\n",
              "\t<tr><td>2013</td><td>12</td><td>31</td><td>  NA</td><td>1615</td><td> NA</td><td>  NA</td><td>1800</td><td> NA</td><td>MQ</td><td>3301</td><td>N844MQ</td><td>LGA</td><td>RDU</td><td> NA</td><td> 431</td><td>16</td><td>15</td><td>2013-12-31 16:00:00</td></tr>\n",
              "\t<tr><td>2013</td><td>12</td><td>31</td><td>  NA</td><td> 600</td><td> NA</td><td>  NA</td><td> 735</td><td> NA</td><td>UA</td><td> 219</td><td>NA    </td><td>EWR</td><td>ORD</td><td> NA</td><td> 719</td><td> 6</td><td> 0</td><td>2013-12-31 06:00:00</td></tr>\n",
              "\t<tr><td>2013</td><td>12</td><td>31</td><td>  NA</td><td> 830</td><td> NA</td><td>  NA</td><td>1154</td><td> NA</td><td>UA</td><td> 443</td><td>NA    </td><td>JFK</td><td>LAX</td><td> NA</td><td>2475</td><td> 8</td><td>30</td><td>2013-12-31 08:00:00</td></tr>\n",
              "</tbody>\n",
              "</table>\n"
            ],
            "text/markdown": "\nA data.frame: 776 × 19\n\n| year &lt;int&gt; | month &lt;int&gt; | day &lt;int&gt; | dep_time &lt;int&gt; | sched_dep_time &lt;int&gt; | dep_delay &lt;int&gt; | arr_time &lt;int&gt; | sched_arr_time &lt;int&gt; | arr_delay &lt;int&gt; | carrier &lt;chr&gt; | flight &lt;int&gt; | tailnum &lt;chr&gt; | origin &lt;chr&gt; | dest &lt;chr&gt; | air_time &lt;int&gt; | distance &lt;int&gt; | hour &lt;int&gt; | minute &lt;int&gt; | time_hour &lt;chr&gt; |\n|---|---|---|---|---|---|---|---|---|---|---|---|---|---|---|---|---|---|---|\n| 2013 | 12 | 31 |  13 | 2359 |  14 |  439 |  437 |   2 | B6 |  839 | N566JB | JFK | BQN | 189 | 1576 | 23 | 59 | 2013-12-31 23:00:00 |\n| 2013 | 12 | 31 |  18 | 2359 |  19 |  449 |  444 |   5 | DL |  412 | N713TW | JFK | SJU | 192 | 1598 | 23 | 59 | 2013-12-31 23:00:00 |\n| 2013 | 12 | 31 |  26 | 2245 | 101 |  129 | 2353 |  96 | B6 |  108 | N374JB | JFK | PWM |  50 |  273 | 22 | 45 | 2013-12-31 22:00:00 |\n| 2013 | 12 | 31 | 459 |  500 |  -1 |  655 |  651 |   4 | US | 1895 | N557UW | EWR | CLT |  95 |  529 |  5 |  0 | 2013-12-31 05:00:00 |\n| 2013 | 12 | 31 | 514 |  515 |  -1 |  814 |  812 |   2 | UA |  700 | N470UA | EWR | IAH | 223 | 1400 |  5 | 15 | 2013-12-31 05:00:00 |\n| 2013 | 12 | 31 | 549 |  551 |  -2 |  925 |  900 |  25 | UA |  274 | N577UA | EWR | LAX | 346 | 2454 |  5 | 51 | 2013-12-31 05:00:00 |\n| 2013 | 12 | 31 | 550 |  600 | -10 |  725 |  745 | -20 | AA |  301 | N3CXAA | LGA | ORD | 127 |  733 |  6 |  0 | 2013-12-31 06:00:00 |\n| 2013 | 12 | 31 | 552 |  600 |  -8 |  811 |  826 | -15 | EV | 3825 | N14916 | EWR | IND | 118 |  645 |  6 |  0 | 2013-12-31 06:00:00 |\n| 2013 | 12 | 31 | 553 |  600 |  -7 |  741 |  754 | -13 | DL |  731 | N333NB | LGA | DTW |  86 |  502 |  6 |  0 | 2013-12-31 06:00:00 |\n| 2013 | 12 | 31 | 554 |  550 |   4 | 1024 | 1027 |  -3 | B6 |  939 | N552JB | JFK | BQN | 195 | 1576 |  5 | 50 | 2013-12-31 05:00:00 |\n| 2013 | 12 | 31 | 555 |  600 |  -5 |  901 |  849 |  12 | B6 |  353 | N746JB | JFK | PBI | 167 | 1028 |  6 |  0 | 2013-12-31 06:00:00 |\n| 2013 | 12 | 31 | 555 |  600 |  -5 |  835 |  831 |   4 | DL |  904 | N3741S | LGA | ATL | 137 |  762 |  6 |  0 | 2013-12-31 06:00:00 |\n| 2013 | 12 | 31 | 555 |  551 |   4 |  853 |  851 |   2 | UA |  566 | N491UA | EWR | TPA | 164 |  997 |  5 | 51 | 2013-12-31 05:00:00 |\n| 2013 | 12 | 31 | 556 |  600 |  -4 |  909 |  846 |  23 | B6 |  583 | N715JB | JFK | MCO | 162 |  944 |  6 |  0 | 2013-12-31 06:00:00 |\n| 2013 | 12 | 31 | 556 |  605 |  -9 |  808 |  814 |  -6 | DL | 1919 | N958DL | LGA | MSP | 160 | 1020 |  6 |  5 | 2013-12-31 06:00:00 |\n| 2013 | 12 | 31 | 557 |  603 |  -6 |  719 |  719 |   0 | EV | 4241 | N15574 | EWR | DCA |  45 |  199 |  6 |  3 | 2013-12-31 06:00:00 |\n| 2013 | 12 | 31 | 558 |  600 |  -2 |  919 |  905 |  14 | AA | 1175 | N3JEAA | LGA | MIA | 173 | 1096 |  6 |  0 | 2013-12-31 06:00:00 |\n| 2013 | 12 | 31 | 559 |  600 |  -1 |  917 |  855 |  22 | B6 |  605 | N597JB | EWR | FLL | 167 | 1065 |  6 |  0 | 2013-12-31 06:00:00 |\n| 2013 | 12 | 31 | 600 |  540 |  20 |  928 |  850 |  38 | AA | 2243 | N5EMAA | JFK | MIA | 171 | 1089 |  5 | 40 | 2013-12-31 05:00:00 |\n| 2013 | 12 | 31 | 602 |  605 |  -3 |  744 |  805 | -21 | DL | 2505 | N358NB | EWR | DTW |  87 |  488 |  6 |  5 | 2013-12-31 06:00:00 |\n| 2013 | 12 | 31 | 602 |  605 |  -3 |  708 |  723 | -15 | EV | 6177 | N14543 | EWR | IAD |  45 |  212 |  6 |  5 | 2013-12-31 06:00:00 |\n| 2013 | 12 | 31 | 603 |  611 |  -8 | 1045 | 1055 | -10 | B6 | 1403 | N547JB | JFK | SJU | 198 | 1598 |  6 | 11 | 2013-12-31 06:00:00 |\n| 2013 | 12 | 31 | 607 |  600 |   7 |  848 |  825 |  23 | WN | 1716 | N7740A | LGA | ATL | 137 |  762 |  6 |  0 | 2013-12-31 06:00:00 |\n| 2013 | 12 | 31 | 608 |  615 |  -7 |  812 |  818 |  -6 | US | 1963 | N192UW | EWR | CLT | 106 |  529 |  6 | 15 | 2013-12-31 06:00:00 |\n| 2013 | 12 | 31 | 609 |  610 |  -1 |  911 |  915 |  -4 | AA | 1205 | N5DHAA | EWR | MIA | 163 | 1085 |  6 | 10 | 2013-12-31 06:00:00 |\n| 2013 | 12 | 31 | 609 |  615 |  -6 |  848 |  850 |  -2 | DL |  404 | N392DA | JFK | ATL | 133 |  760 |  6 | 15 | 2013-12-31 06:00:00 |\n| 2013 | 12 | 31 | 609 |  614 |  -5 |  755 |  751 |   4 | EV | 3812 | N13994 | EWR | RDU |  81 |  416 |  6 | 14 | 2013-12-31 06:00:00 |\n| 2013 | 12 | 31 | 610 |  615 |  -5 |  828 |  849 | -21 | DL |  479 | N3766  | JFK | ATL | 119 |  760 |  6 | 15 | 2013-12-31 06:00:00 |\n| 2013 | 12 | 31 | 616 |  611 |   5 |  933 |  912 |  21 | B6 |  601 | N643JB | JFK | FLL | 173 | 1069 |  6 | 11 | 2013-12-31 06:00:00 |\n| 2013 | 12 | 31 | 616 |  630 | -14 |  922 |  919 |   3 | B6 | 1099 | N563JB | LGA | MCO | 159 |  950 |  6 | 30 | 2013-12-31 06:00:00 |\n| ⋮ | ⋮ | ⋮ | ⋮ | ⋮ | ⋮ | ⋮ | ⋮ | ⋮ | ⋮ | ⋮ | ⋮ | ⋮ | ⋮ | ⋮ | ⋮ | ⋮ | ⋮ | ⋮ |\n| 2013 | 12 | 31 | 2155 | 2039 |  76 |  253 | 2355 |  NA | B6 | 1205 | N627JB | JFK | PDX |  NA | 2454 | 20 | 39 | 2013-12-31 20:00:00 |\n| 2013 | 12 | 31 | 2155 | 2150 |   5 |  110 |   51 |  19 | B6 | 1901 | N729JB | JFK | FLL | 164 | 1069 | 21 | 50 | 2013-12-31 21:00:00 |\n| 2013 | 12 | 31 | 2159 | 2155 |   4 |   55 |   46 |   9 | B6 | 2053 | N593JB | JFK | PBI | 155 | 1028 | 21 | 55 | 2013-12-31 21:00:00 |\n| 2013 | 12 | 31 | 2206 | 2110 |  56 |   44 | 2339 |  65 | B6 |  775 | N184JB | JFK | MSY | 195 | 1182 | 21 | 10 | 2013-12-31 21:00:00 |\n| 2013 | 12 | 31 | 2211 | 2159 |  12 |  100 |   45 |  15 | B6 | 1183 | N715JB | JFK | MCO | 148 |  944 | 21 | 59 | 2013-12-31 21:00:00 |\n| 2013 | 12 | 31 | 2218 | 2219 |  -1 |  315 |  304 |  11 | B6 | 1203 | N625JB | JFK | SJU | 202 | 1598 | 22 | 19 | 2013-12-31 22:00:00 |\n| 2013 | 12 | 31 | 2235 | 2245 | -10 | 2351 | 2355 |  -4 | B6 |  234 | N355JB | JFK | BTV |  49 |  266 | 22 | 45 | 2013-12-31 22:00:00 |\n| 2013 | 12 | 31 | 2245 | 2250 |  -5 | 2359 | 2356 |   3 | B6 | 1816 | N318JB | JFK | SYR |  51 |  209 | 22 | 50 | 2013-12-31 22:00:00 |\n| 2013 | 12 | 31 | 2310 | 2255 |  15 |    7 | 2356 |  11 | B6 |  718 | N279JB | JFK | BOS |  40 |  187 | 22 | 55 | 2013-12-31 22:00:00 |\n| 2013 | 12 | 31 | 2321 | 2250 |  31 |   46 |    8 |  38 | B6 | 2002 | N179JB | JFK | BUF |  66 |  301 | 22 | 50 | 2013-12-31 22:00:00 |\n| 2013 | 12 | 31 | 2328 | 2330 |  -2 |  412 |  409 |   3 | B6 | 1389 | N651JB | EWR | SJU | 198 | 1608 | 23 | 30 | 2013-12-31 23:00:00 |\n| 2013 | 12 | 31 | 2332 | 2245 |  47 |   58 |    3 |  55 | B6 |  486 | N334JB | JFK | ROC |  60 |  264 | 22 | 45 | 2013-12-31 22:00:00 |\n| 2013 | 12 | 31 | 2355 | 2359 |  -4 |  430 |  440 | -10 | B6 | 1503 | N509JB | JFK | SJU | 195 | 1598 | 23 | 59 | 2013-12-31 23:00:00 |\n| 2013 | 12 | 31 | 2356 | 2359 |  -3 |  436 |  445 |  -9 | B6 |  745 | N665JB | JFK | PSE | 200 | 1617 | 23 | 59 | 2013-12-31 23:00:00 |\n| 2013 | 12 | 31 |   NA | 1520 |  NA |   NA | 1705 |  NA | AA |  341 | N568AA | LGA | ORD |  NA |  733 | 15 | 20 | 2013-12-31 15:00:00 |\n| 2013 | 12 | 31 |   NA | 2025 |  NA |   NA | 2205 |  NA | AA |  371 | N482AA | LGA | ORD |  NA |  733 | 20 | 25 | 2013-12-31 20:00:00 |\n| 2013 | 12 | 31 |   NA | 1932 |  NA |   NA | 2305 |  NA | B6 |  161 | N516JB | JFK | SMF |  NA | 2521 | 19 | 32 | 2013-12-31 19:00:00 |\n| 2013 | 12 | 31 |   NA | 1505 |  NA |   NA | 1725 |  NA | EV | 4181 | N24103 | EWR | MCI |  NA | 1092 | 15 |  5 | 2013-12-31 15:00:00 |\n| 2013 | 12 | 31 |   NA | 1000 |  NA |   NA | 1252 |  NA | UA | 1124 | NA     | EWR | EGE |  NA | 1725 | 10 |  0 | 2013-12-31 10:00:00 |\n| 2013 | 12 | 31 |   NA |  840 |  NA |   NA | 1205 |  NA | UA | 1151 | NA     | EWR | SEA |  NA | 2402 |  8 | 40 | 2013-12-31 08:00:00 |\n| 2013 | 12 | 31 |   NA |  754 |  NA |   NA | 1118 |  NA | UA | 1455 | NA     | EWR | LAX |  NA | 2454 |  7 | 54 | 2013-12-31 07:00:00 |\n| 2013 | 12 | 31 |   NA | 2000 |  NA |   NA | 2146 |  NA | UA | 1482 | NA     | EWR | ORD |  NA |  719 | 20 |  0 | 2013-12-31 20:00:00 |\n| 2013 | 12 | 31 |   NA | 1500 |  NA |   NA | 1817 |  NA | UA | 1483 | NA     | EWR | AUS |  NA | 1504 | 15 |  0 | 2013-12-31 15:00:00 |\n| 2013 | 12 | 31 |   NA | 1430 |  NA |   NA | 1750 |  NA | UA | 1493 | NA     | EWR | LAX |  NA | 2454 | 14 | 30 | 2013-12-31 14:00:00 |\n| 2013 | 12 | 31 |   NA |  855 |  NA |   NA | 1142 |  NA | UA | 1506 | NA     | EWR | JAC |  NA | 1874 |  8 | 55 | 2013-12-31 08:00:00 |\n| 2013 | 12 | 31 |   NA |  705 |  NA |   NA |  931 |  NA | UA | 1729 | NA     | EWR | DEN |  NA | 1605 |  7 |  5 | 2013-12-31 07:00:00 |\n| 2013 | 12 | 31 |   NA |  825 |  NA |   NA | 1029 |  NA | US | 1831 | NA     | JFK | CLT |  NA |  541 |  8 | 25 | 2013-12-31 08:00:00 |\n| 2013 | 12 | 31 |   NA | 1615 |  NA |   NA | 1800 |  NA | MQ | 3301 | N844MQ | LGA | RDU |  NA |  431 | 16 | 15 | 2013-12-31 16:00:00 |\n| 2013 | 12 | 31 |   NA |  600 |  NA |   NA |  735 |  NA | UA |  219 | NA     | EWR | ORD |  NA |  719 |  6 |  0 | 2013-12-31 06:00:00 |\n| 2013 | 12 | 31 |   NA |  830 |  NA |   NA | 1154 |  NA | UA |  443 | NA     | JFK | LAX |  NA | 2475 |  8 | 30 | 2013-12-31 08:00:00 |\n\n",
            "text/latex": "A data.frame: 776 × 19\n\\begin{tabular}{lllllllllllllllllll}\n year & month & day & dep\\_time & sched\\_dep\\_time & dep\\_delay & arr\\_time & sched\\_arr\\_time & arr\\_delay & carrier & flight & tailnum & origin & dest & air\\_time & distance & hour & minute & time\\_hour\\\\\n <int> & <int> & <int> & <int> & <int> & <int> & <int> & <int> & <int> & <chr> & <int> & <chr> & <chr> & <chr> & <int> & <int> & <int> & <int> & <chr>\\\\\n\\hline\n\t 2013 & 12 & 31 &  13 & 2359 &  14 &  439 &  437 &   2 & B6 &  839 & N566JB & JFK & BQN & 189 & 1576 & 23 & 59 & 2013-12-31 23:00:00\\\\\n\t 2013 & 12 & 31 &  18 & 2359 &  19 &  449 &  444 &   5 & DL &  412 & N713TW & JFK & SJU & 192 & 1598 & 23 & 59 & 2013-12-31 23:00:00\\\\\n\t 2013 & 12 & 31 &  26 & 2245 & 101 &  129 & 2353 &  96 & B6 &  108 & N374JB & JFK & PWM &  50 &  273 & 22 & 45 & 2013-12-31 22:00:00\\\\\n\t 2013 & 12 & 31 & 459 &  500 &  -1 &  655 &  651 &   4 & US & 1895 & N557UW & EWR & CLT &  95 &  529 &  5 &  0 & 2013-12-31 05:00:00\\\\\n\t 2013 & 12 & 31 & 514 &  515 &  -1 &  814 &  812 &   2 & UA &  700 & N470UA & EWR & IAH & 223 & 1400 &  5 & 15 & 2013-12-31 05:00:00\\\\\n\t 2013 & 12 & 31 & 549 &  551 &  -2 &  925 &  900 &  25 & UA &  274 & N577UA & EWR & LAX & 346 & 2454 &  5 & 51 & 2013-12-31 05:00:00\\\\\n\t 2013 & 12 & 31 & 550 &  600 & -10 &  725 &  745 & -20 & AA &  301 & N3CXAA & LGA & ORD & 127 &  733 &  6 &  0 & 2013-12-31 06:00:00\\\\\n\t 2013 & 12 & 31 & 552 &  600 &  -8 &  811 &  826 & -15 & EV & 3825 & N14916 & EWR & IND & 118 &  645 &  6 &  0 & 2013-12-31 06:00:00\\\\\n\t 2013 & 12 & 31 & 553 &  600 &  -7 &  741 &  754 & -13 & DL &  731 & N333NB & LGA & DTW &  86 &  502 &  6 &  0 & 2013-12-31 06:00:00\\\\\n\t 2013 & 12 & 31 & 554 &  550 &   4 & 1024 & 1027 &  -3 & B6 &  939 & N552JB & JFK & BQN & 195 & 1576 &  5 & 50 & 2013-12-31 05:00:00\\\\\n\t 2013 & 12 & 31 & 555 &  600 &  -5 &  901 &  849 &  12 & B6 &  353 & N746JB & JFK & PBI & 167 & 1028 &  6 &  0 & 2013-12-31 06:00:00\\\\\n\t 2013 & 12 & 31 & 555 &  600 &  -5 &  835 &  831 &   4 & DL &  904 & N3741S & LGA & ATL & 137 &  762 &  6 &  0 & 2013-12-31 06:00:00\\\\\n\t 2013 & 12 & 31 & 555 &  551 &   4 &  853 &  851 &   2 & UA &  566 & N491UA & EWR & TPA & 164 &  997 &  5 & 51 & 2013-12-31 05:00:00\\\\\n\t 2013 & 12 & 31 & 556 &  600 &  -4 &  909 &  846 &  23 & B6 &  583 & N715JB & JFK & MCO & 162 &  944 &  6 &  0 & 2013-12-31 06:00:00\\\\\n\t 2013 & 12 & 31 & 556 &  605 &  -9 &  808 &  814 &  -6 & DL & 1919 & N958DL & LGA & MSP & 160 & 1020 &  6 &  5 & 2013-12-31 06:00:00\\\\\n\t 2013 & 12 & 31 & 557 &  603 &  -6 &  719 &  719 &   0 & EV & 4241 & N15574 & EWR & DCA &  45 &  199 &  6 &  3 & 2013-12-31 06:00:00\\\\\n\t 2013 & 12 & 31 & 558 &  600 &  -2 &  919 &  905 &  14 & AA & 1175 & N3JEAA & LGA & MIA & 173 & 1096 &  6 &  0 & 2013-12-31 06:00:00\\\\\n\t 2013 & 12 & 31 & 559 &  600 &  -1 &  917 &  855 &  22 & B6 &  605 & N597JB & EWR & FLL & 167 & 1065 &  6 &  0 & 2013-12-31 06:00:00\\\\\n\t 2013 & 12 & 31 & 600 &  540 &  20 &  928 &  850 &  38 & AA & 2243 & N5EMAA & JFK & MIA & 171 & 1089 &  5 & 40 & 2013-12-31 05:00:00\\\\\n\t 2013 & 12 & 31 & 602 &  605 &  -3 &  744 &  805 & -21 & DL & 2505 & N358NB & EWR & DTW &  87 &  488 &  6 &  5 & 2013-12-31 06:00:00\\\\\n\t 2013 & 12 & 31 & 602 &  605 &  -3 &  708 &  723 & -15 & EV & 6177 & N14543 & EWR & IAD &  45 &  212 &  6 &  5 & 2013-12-31 06:00:00\\\\\n\t 2013 & 12 & 31 & 603 &  611 &  -8 & 1045 & 1055 & -10 & B6 & 1403 & N547JB & JFK & SJU & 198 & 1598 &  6 & 11 & 2013-12-31 06:00:00\\\\\n\t 2013 & 12 & 31 & 607 &  600 &   7 &  848 &  825 &  23 & WN & 1716 & N7740A & LGA & ATL & 137 &  762 &  6 &  0 & 2013-12-31 06:00:00\\\\\n\t 2013 & 12 & 31 & 608 &  615 &  -7 &  812 &  818 &  -6 & US & 1963 & N192UW & EWR & CLT & 106 &  529 &  6 & 15 & 2013-12-31 06:00:00\\\\\n\t 2013 & 12 & 31 & 609 &  610 &  -1 &  911 &  915 &  -4 & AA & 1205 & N5DHAA & EWR & MIA & 163 & 1085 &  6 & 10 & 2013-12-31 06:00:00\\\\\n\t 2013 & 12 & 31 & 609 &  615 &  -6 &  848 &  850 &  -2 & DL &  404 & N392DA & JFK & ATL & 133 &  760 &  6 & 15 & 2013-12-31 06:00:00\\\\\n\t 2013 & 12 & 31 & 609 &  614 &  -5 &  755 &  751 &   4 & EV & 3812 & N13994 & EWR & RDU &  81 &  416 &  6 & 14 & 2013-12-31 06:00:00\\\\\n\t 2013 & 12 & 31 & 610 &  615 &  -5 &  828 &  849 & -21 & DL &  479 & N3766  & JFK & ATL & 119 &  760 &  6 & 15 & 2013-12-31 06:00:00\\\\\n\t 2013 & 12 & 31 & 616 &  611 &   5 &  933 &  912 &  21 & B6 &  601 & N643JB & JFK & FLL & 173 & 1069 &  6 & 11 & 2013-12-31 06:00:00\\\\\n\t 2013 & 12 & 31 & 616 &  630 & -14 &  922 &  919 &   3 & B6 & 1099 & N563JB & LGA & MCO & 159 &  950 &  6 & 30 & 2013-12-31 06:00:00\\\\\n\t ⋮ & ⋮ & ⋮ & ⋮ & ⋮ & ⋮ & ⋮ & ⋮ & ⋮ & ⋮ & ⋮ & ⋮ & ⋮ & ⋮ & ⋮ & ⋮ & ⋮ & ⋮ & ⋮\\\\\n\t 2013 & 12 & 31 & 2155 & 2039 &  76 &  253 & 2355 &  NA & B6 & 1205 & N627JB & JFK & PDX &  NA & 2454 & 20 & 39 & 2013-12-31 20:00:00\\\\\n\t 2013 & 12 & 31 & 2155 & 2150 &   5 &  110 &   51 &  19 & B6 & 1901 & N729JB & JFK & FLL & 164 & 1069 & 21 & 50 & 2013-12-31 21:00:00\\\\\n\t 2013 & 12 & 31 & 2159 & 2155 &   4 &   55 &   46 &   9 & B6 & 2053 & N593JB & JFK & PBI & 155 & 1028 & 21 & 55 & 2013-12-31 21:00:00\\\\\n\t 2013 & 12 & 31 & 2206 & 2110 &  56 &   44 & 2339 &  65 & B6 &  775 & N184JB & JFK & MSY & 195 & 1182 & 21 & 10 & 2013-12-31 21:00:00\\\\\n\t 2013 & 12 & 31 & 2211 & 2159 &  12 &  100 &   45 &  15 & B6 & 1183 & N715JB & JFK & MCO & 148 &  944 & 21 & 59 & 2013-12-31 21:00:00\\\\\n\t 2013 & 12 & 31 & 2218 & 2219 &  -1 &  315 &  304 &  11 & B6 & 1203 & N625JB & JFK & SJU & 202 & 1598 & 22 & 19 & 2013-12-31 22:00:00\\\\\n\t 2013 & 12 & 31 & 2235 & 2245 & -10 & 2351 & 2355 &  -4 & B6 &  234 & N355JB & JFK & BTV &  49 &  266 & 22 & 45 & 2013-12-31 22:00:00\\\\\n\t 2013 & 12 & 31 & 2245 & 2250 &  -5 & 2359 & 2356 &   3 & B6 & 1816 & N318JB & JFK & SYR &  51 &  209 & 22 & 50 & 2013-12-31 22:00:00\\\\\n\t 2013 & 12 & 31 & 2310 & 2255 &  15 &    7 & 2356 &  11 & B6 &  718 & N279JB & JFK & BOS &  40 &  187 & 22 & 55 & 2013-12-31 22:00:00\\\\\n\t 2013 & 12 & 31 & 2321 & 2250 &  31 &   46 &    8 &  38 & B6 & 2002 & N179JB & JFK & BUF &  66 &  301 & 22 & 50 & 2013-12-31 22:00:00\\\\\n\t 2013 & 12 & 31 & 2328 & 2330 &  -2 &  412 &  409 &   3 & B6 & 1389 & N651JB & EWR & SJU & 198 & 1608 & 23 & 30 & 2013-12-31 23:00:00\\\\\n\t 2013 & 12 & 31 & 2332 & 2245 &  47 &   58 &    3 &  55 & B6 &  486 & N334JB & JFK & ROC &  60 &  264 & 22 & 45 & 2013-12-31 22:00:00\\\\\n\t 2013 & 12 & 31 & 2355 & 2359 &  -4 &  430 &  440 & -10 & B6 & 1503 & N509JB & JFK & SJU & 195 & 1598 & 23 & 59 & 2013-12-31 23:00:00\\\\\n\t 2013 & 12 & 31 & 2356 & 2359 &  -3 &  436 &  445 &  -9 & B6 &  745 & N665JB & JFK & PSE & 200 & 1617 & 23 & 59 & 2013-12-31 23:00:00\\\\\n\t 2013 & 12 & 31 &   NA & 1520 &  NA &   NA & 1705 &  NA & AA &  341 & N568AA & LGA & ORD &  NA &  733 & 15 & 20 & 2013-12-31 15:00:00\\\\\n\t 2013 & 12 & 31 &   NA & 2025 &  NA &   NA & 2205 &  NA & AA &  371 & N482AA & LGA & ORD &  NA &  733 & 20 & 25 & 2013-12-31 20:00:00\\\\\n\t 2013 & 12 & 31 &   NA & 1932 &  NA &   NA & 2305 &  NA & B6 &  161 & N516JB & JFK & SMF &  NA & 2521 & 19 & 32 & 2013-12-31 19:00:00\\\\\n\t 2013 & 12 & 31 &   NA & 1505 &  NA &   NA & 1725 &  NA & EV & 4181 & N24103 & EWR & MCI &  NA & 1092 & 15 &  5 & 2013-12-31 15:00:00\\\\\n\t 2013 & 12 & 31 &   NA & 1000 &  NA &   NA & 1252 &  NA & UA & 1124 & NA     & EWR & EGE &  NA & 1725 & 10 &  0 & 2013-12-31 10:00:00\\\\\n\t 2013 & 12 & 31 &   NA &  840 &  NA &   NA & 1205 &  NA & UA & 1151 & NA     & EWR & SEA &  NA & 2402 &  8 & 40 & 2013-12-31 08:00:00\\\\\n\t 2013 & 12 & 31 &   NA &  754 &  NA &   NA & 1118 &  NA & UA & 1455 & NA     & EWR & LAX &  NA & 2454 &  7 & 54 & 2013-12-31 07:00:00\\\\\n\t 2013 & 12 & 31 &   NA & 2000 &  NA &   NA & 2146 &  NA & UA & 1482 & NA     & EWR & ORD &  NA &  719 & 20 &  0 & 2013-12-31 20:00:00\\\\\n\t 2013 & 12 & 31 &   NA & 1500 &  NA &   NA & 1817 &  NA & UA & 1483 & NA     & EWR & AUS &  NA & 1504 & 15 &  0 & 2013-12-31 15:00:00\\\\\n\t 2013 & 12 & 31 &   NA & 1430 &  NA &   NA & 1750 &  NA & UA & 1493 & NA     & EWR & LAX &  NA & 2454 & 14 & 30 & 2013-12-31 14:00:00\\\\\n\t 2013 & 12 & 31 &   NA &  855 &  NA &   NA & 1142 &  NA & UA & 1506 & NA     & EWR & JAC &  NA & 1874 &  8 & 55 & 2013-12-31 08:00:00\\\\\n\t 2013 & 12 & 31 &   NA &  705 &  NA &   NA &  931 &  NA & UA & 1729 & NA     & EWR & DEN &  NA & 1605 &  7 &  5 & 2013-12-31 07:00:00\\\\\n\t 2013 & 12 & 31 &   NA &  825 &  NA &   NA & 1029 &  NA & US & 1831 & NA     & JFK & CLT &  NA &  541 &  8 & 25 & 2013-12-31 08:00:00\\\\\n\t 2013 & 12 & 31 &   NA & 1615 &  NA &   NA & 1800 &  NA & MQ & 3301 & N844MQ & LGA & RDU &  NA &  431 & 16 & 15 & 2013-12-31 16:00:00\\\\\n\t 2013 & 12 & 31 &   NA &  600 &  NA &   NA &  735 &  NA & UA &  219 & NA     & EWR & ORD &  NA &  719 &  6 &  0 & 2013-12-31 06:00:00\\\\\n\t 2013 & 12 & 31 &   NA &  830 &  NA &   NA & 1154 &  NA & UA &  443 & NA     & JFK & LAX &  NA & 2475 &  8 & 30 & 2013-12-31 08:00:00\\\\\n\\end{tabular}\n",
            "text/plain": [
              "    year month day dep_time sched_dep_time dep_delay arr_time sched_arr_time\n",
              "1   2013 12    31   13      2359            14        439      437          \n",
              "2   2013 12    31   18      2359            19        449      444          \n",
              "3   2013 12    31   26      2245           101        129     2353          \n",
              "4   2013 12    31  459       500            -1        655      651          \n",
              "5   2013 12    31  514       515            -1        814      812          \n",
              "6   2013 12    31  549       551            -2        925      900          \n",
              "7   2013 12    31  550       600           -10        725      745          \n",
              "8   2013 12    31  552       600            -8        811      826          \n",
              "9   2013 12    31  553       600            -7        741      754          \n",
              "10  2013 12    31  554       550             4       1024     1027          \n",
              "11  2013 12    31  555       600            -5        901      849          \n",
              "12  2013 12    31  555       600            -5        835      831          \n",
              "13  2013 12    31  555       551             4        853      851          \n",
              "14  2013 12    31  556       600            -4        909      846          \n",
              "15  2013 12    31  556       605            -9        808      814          \n",
              "16  2013 12    31  557       603            -6        719      719          \n",
              "17  2013 12    31  558       600            -2        919      905          \n",
              "18  2013 12    31  559       600            -1        917      855          \n",
              "19  2013 12    31  600       540            20        928      850          \n",
              "20  2013 12    31  602       605            -3        744      805          \n",
              "21  2013 12    31  602       605            -3        708      723          \n",
              "22  2013 12    31  603       611            -8       1045     1055          \n",
              "23  2013 12    31  607       600             7        848      825          \n",
              "24  2013 12    31  608       615            -7        812      818          \n",
              "25  2013 12    31  609       610            -1        911      915          \n",
              "26  2013 12    31  609       615            -6        848      850          \n",
              "27  2013 12    31  609       614            -5        755      751          \n",
              "28  2013 12    31  610       615            -5        828      849          \n",
              "29  2013 12    31  616       611             5        933      912          \n",
              "30  2013 12    31  616       630           -14        922      919          \n",
              "⋮   ⋮    ⋮     ⋮   ⋮        ⋮              ⋮         ⋮        ⋮             \n",
              "747 2013 12    31  2155     2039            76        253     2355          \n",
              "748 2013 12    31  2155     2150             5        110       51          \n",
              "749 2013 12    31  2159     2155             4         55       46          \n",
              "750 2013 12    31  2206     2110            56         44     2339          \n",
              "751 2013 12    31  2211     2159            12        100       45          \n",
              "752 2013 12    31  2218     2219            -1        315      304          \n",
              "753 2013 12    31  2235     2245           -10       2351     2355          \n",
              "754 2013 12    31  2245     2250            -5       2359     2356          \n",
              "755 2013 12    31  2310     2255            15          7     2356          \n",
              "756 2013 12    31  2321     2250            31         46        8          \n",
              "757 2013 12    31  2328     2330            -2        412      409          \n",
              "758 2013 12    31  2332     2245            47         58        3          \n",
              "759 2013 12    31  2355     2359            -4        430      440          \n",
              "760 2013 12    31  2356     2359            -3        436      445          \n",
              "761 2013 12    31    NA     1520            NA         NA     1705          \n",
              "762 2013 12    31    NA     2025            NA         NA     2205          \n",
              "763 2013 12    31    NA     1932            NA         NA     2305          \n",
              "764 2013 12    31    NA     1505            NA         NA     1725          \n",
              "765 2013 12    31    NA     1000            NA         NA     1252          \n",
              "766 2013 12    31    NA      840            NA         NA     1205          \n",
              "767 2013 12    31    NA      754            NA         NA     1118          \n",
              "768 2013 12    31    NA     2000            NA         NA     2146          \n",
              "769 2013 12    31    NA     1500            NA         NA     1817          \n",
              "770 2013 12    31    NA     1430            NA         NA     1750          \n",
              "771 2013 12    31    NA      855            NA         NA     1142          \n",
              "772 2013 12    31    NA      705            NA         NA      931          \n",
              "773 2013 12    31    NA      825            NA         NA     1029          \n",
              "774 2013 12    31    NA     1615            NA         NA     1800          \n",
              "775 2013 12    31    NA      600            NA         NA      735          \n",
              "776 2013 12    31    NA      830            NA         NA     1154          \n",
              "    arr_delay carrier flight tailnum origin dest air_time distance hour minute\n",
              "1     2       B6       839   N566JB  JFK    BQN  189      1576     23   59    \n",
              "2     5       DL       412   N713TW  JFK    SJU  192      1598     23   59    \n",
              "3    96       B6       108   N374JB  JFK    PWM   50       273     22   45    \n",
              "4     4       US      1895   N557UW  EWR    CLT   95       529      5    0    \n",
              "5     2       UA       700   N470UA  EWR    IAH  223      1400      5   15    \n",
              "6    25       UA       274   N577UA  EWR    LAX  346      2454      5   51    \n",
              "7   -20       AA       301   N3CXAA  LGA    ORD  127       733      6    0    \n",
              "8   -15       EV      3825   N14916  EWR    IND  118       645      6    0    \n",
              "9   -13       DL       731   N333NB  LGA    DTW   86       502      6    0    \n",
              "10   -3       B6       939   N552JB  JFK    BQN  195      1576      5   50    \n",
              "11   12       B6       353   N746JB  JFK    PBI  167      1028      6    0    \n",
              "12    4       DL       904   N3741S  LGA    ATL  137       762      6    0    \n",
              "13    2       UA       566   N491UA  EWR    TPA  164       997      5   51    \n",
              "14   23       B6       583   N715JB  JFK    MCO  162       944      6    0    \n",
              "15   -6       DL      1919   N958DL  LGA    MSP  160      1020      6    5    \n",
              "16    0       EV      4241   N15574  EWR    DCA   45       199      6    3    \n",
              "17   14       AA      1175   N3JEAA  LGA    MIA  173      1096      6    0    \n",
              "18   22       B6       605   N597JB  EWR    FLL  167      1065      6    0    \n",
              "19   38       AA      2243   N5EMAA  JFK    MIA  171      1089      5   40    \n",
              "20  -21       DL      2505   N358NB  EWR    DTW   87       488      6    5    \n",
              "21  -15       EV      6177   N14543  EWR    IAD   45       212      6    5    \n",
              "22  -10       B6      1403   N547JB  JFK    SJU  198      1598      6   11    \n",
              "23   23       WN      1716   N7740A  LGA    ATL  137       762      6    0    \n",
              "24   -6       US      1963   N192UW  EWR    CLT  106       529      6   15    \n",
              "25   -4       AA      1205   N5DHAA  EWR    MIA  163      1085      6   10    \n",
              "26   -2       DL       404   N392DA  JFK    ATL  133       760      6   15    \n",
              "27    4       EV      3812   N13994  EWR    RDU   81       416      6   14    \n",
              "28  -21       DL       479   N3766   JFK    ATL  119       760      6   15    \n",
              "29   21       B6       601   N643JB  JFK    FLL  173      1069      6   11    \n",
              "30    3       B6      1099   N563JB  LGA    MCO  159       950      6   30    \n",
              "⋮   ⋮         ⋮       ⋮      ⋮       ⋮      ⋮    ⋮        ⋮        ⋮    ⋮     \n",
              "747  NA       B6      1205   N627JB  JFK    PDX   NA      2454     20   39    \n",
              "748  19       B6      1901   N729JB  JFK    FLL  164      1069     21   50    \n",
              "749   9       B6      2053   N593JB  JFK    PBI  155      1028     21   55    \n",
              "750  65       B6       775   N184JB  JFK    MSY  195      1182     21   10    \n",
              "751  15       B6      1183   N715JB  JFK    MCO  148       944     21   59    \n",
              "752  11       B6      1203   N625JB  JFK    SJU  202      1598     22   19    \n",
              "753  -4       B6       234   N355JB  JFK    BTV   49       266     22   45    \n",
              "754   3       B6      1816   N318JB  JFK    SYR   51       209     22   50    \n",
              "755  11       B6       718   N279JB  JFK    BOS   40       187     22   55    \n",
              "756  38       B6      2002   N179JB  JFK    BUF   66       301     22   50    \n",
              "757   3       B6      1389   N651JB  EWR    SJU  198      1608     23   30    \n",
              "758  55       B6       486   N334JB  JFK    ROC   60       264     22   45    \n",
              "759 -10       B6      1503   N509JB  JFK    SJU  195      1598     23   59    \n",
              "760  -9       B6       745   N665JB  JFK    PSE  200      1617     23   59    \n",
              "761  NA       AA       341   N568AA  LGA    ORD   NA       733     15   20    \n",
              "762  NA       AA       371   N482AA  LGA    ORD   NA       733     20   25    \n",
              "763  NA       B6       161   N516JB  JFK    SMF   NA      2521     19   32    \n",
              "764  NA       EV      4181   N24103  EWR    MCI   NA      1092     15    5    \n",
              "765  NA       UA      1124   NA      EWR    EGE   NA      1725     10    0    \n",
              "766  NA       UA      1151   NA      EWR    SEA   NA      2402      8   40    \n",
              "767  NA       UA      1455   NA      EWR    LAX   NA      2454      7   54    \n",
              "768  NA       UA      1482   NA      EWR    ORD   NA       719     20    0    \n",
              "769  NA       UA      1483   NA      EWR    AUS   NA      1504     15    0    \n",
              "770  NA       UA      1493   NA      EWR    LAX   NA      2454     14   30    \n",
              "771  NA       UA      1506   NA      EWR    JAC   NA      1874      8   55    \n",
              "772  NA       UA      1729   NA      EWR    DEN   NA      1605      7    5    \n",
              "773  NA       US      1831   NA      JFK    CLT   NA       541      8   25    \n",
              "774  NA       MQ      3301   N844MQ  LGA    RDU   NA       431     16   15    \n",
              "775  NA       UA       219   NA      EWR    ORD   NA       719      6    0    \n",
              "776  NA       UA       443   NA      JFK    LAX   NA      2475      8   30    \n",
              "    time_hour          \n",
              "1   2013-12-31 23:00:00\n",
              "2   2013-12-31 23:00:00\n",
              "3   2013-12-31 22:00:00\n",
              "4   2013-12-31 05:00:00\n",
              "5   2013-12-31 05:00:00\n",
              "6   2013-12-31 05:00:00\n",
              "7   2013-12-31 06:00:00\n",
              "8   2013-12-31 06:00:00\n",
              "9   2013-12-31 06:00:00\n",
              "10  2013-12-31 05:00:00\n",
              "11  2013-12-31 06:00:00\n",
              "12  2013-12-31 06:00:00\n",
              "13  2013-12-31 05:00:00\n",
              "14  2013-12-31 06:00:00\n",
              "15  2013-12-31 06:00:00\n",
              "16  2013-12-31 06:00:00\n",
              "17  2013-12-31 06:00:00\n",
              "18  2013-12-31 06:00:00\n",
              "19  2013-12-31 05:00:00\n",
              "20  2013-12-31 06:00:00\n",
              "21  2013-12-31 06:00:00\n",
              "22  2013-12-31 06:00:00\n",
              "23  2013-12-31 06:00:00\n",
              "24  2013-12-31 06:00:00\n",
              "25  2013-12-31 06:00:00\n",
              "26  2013-12-31 06:00:00\n",
              "27  2013-12-31 06:00:00\n",
              "28  2013-12-31 06:00:00\n",
              "29  2013-12-31 06:00:00\n",
              "30  2013-12-31 06:00:00\n",
              "⋮   ⋮                  \n",
              "747 2013-12-31 20:00:00\n",
              "748 2013-12-31 21:00:00\n",
              "749 2013-12-31 21:00:00\n",
              "750 2013-12-31 21:00:00\n",
              "751 2013-12-31 21:00:00\n",
              "752 2013-12-31 22:00:00\n",
              "753 2013-12-31 22:00:00\n",
              "754 2013-12-31 22:00:00\n",
              "755 2013-12-31 22:00:00\n",
              "756 2013-12-31 22:00:00\n",
              "757 2013-12-31 23:00:00\n",
              "758 2013-12-31 22:00:00\n",
              "759 2013-12-31 23:00:00\n",
              "760 2013-12-31 23:00:00\n",
              "761 2013-12-31 15:00:00\n",
              "762 2013-12-31 20:00:00\n",
              "763 2013-12-31 19:00:00\n",
              "764 2013-12-31 15:00:00\n",
              "765 2013-12-31 10:00:00\n",
              "766 2013-12-31 08:00:00\n",
              "767 2013-12-31 07:00:00\n",
              "768 2013-12-31 20:00:00\n",
              "769 2013-12-31 15:00:00\n",
              "770 2013-12-31 14:00:00\n",
              "771 2013-12-31 08:00:00\n",
              "772 2013-12-31 07:00:00\n",
              "773 2013-12-31 08:00:00\n",
              "774 2013-12-31 16:00:00\n",
              "775 2013-12-31 06:00:00\n",
              "776 2013-12-31 08:00:00"
            ]
          },
          "metadata": {}
        },
        {
          "output_type": "display_data",
          "data": {
            "text/html": [
              "<table class=\"dataframe\">\n",
              "<caption>A data.frame: 776 × 19</caption>\n",
              "<thead>\n",
              "\t<tr><th scope=col>year</th><th scope=col>month</th><th scope=col>day</th><th scope=col>dep_time</th><th scope=col>sched_dep_time</th><th scope=col>dep_delay</th><th scope=col>arr_time</th><th scope=col>sched_arr_time</th><th scope=col>arr_delay</th><th scope=col>carrier</th><th scope=col>flight</th><th scope=col>tailnum</th><th scope=col>origin</th><th scope=col>dest</th><th scope=col>air_time</th><th scope=col>distance</th><th scope=col>hour</th><th scope=col>minute</th><th scope=col>time_hour</th></tr>\n",
              "\t<tr><th scope=col>&lt;int&gt;</th><th scope=col>&lt;int&gt;</th><th scope=col>&lt;int&gt;</th><th scope=col>&lt;int&gt;</th><th scope=col>&lt;int&gt;</th><th scope=col>&lt;int&gt;</th><th scope=col>&lt;int&gt;</th><th scope=col>&lt;int&gt;</th><th scope=col>&lt;int&gt;</th><th scope=col>&lt;chr&gt;</th><th scope=col>&lt;int&gt;</th><th scope=col>&lt;chr&gt;</th><th scope=col>&lt;chr&gt;</th><th scope=col>&lt;chr&gt;</th><th scope=col>&lt;int&gt;</th><th scope=col>&lt;int&gt;</th><th scope=col>&lt;int&gt;</th><th scope=col>&lt;int&gt;</th><th scope=col>&lt;chr&gt;</th></tr>\n",
              "</thead>\n",
              "<tbody>\n",
              "\t<tr><td>2013</td><td>12</td><td>31</td><td> 13</td><td>2359</td><td> 14</td><td> 439</td><td> 437</td><td>  2</td><td>B6</td><td> 839</td><td>N566JB</td><td>JFK</td><td>BQN</td><td>189</td><td>1576</td><td>23</td><td>59</td><td>2013-12-31 23:00:00</td></tr>\n",
              "\t<tr><td>2013</td><td>12</td><td>31</td><td> 18</td><td>2359</td><td> 19</td><td> 449</td><td> 444</td><td>  5</td><td>DL</td><td> 412</td><td>N713TW</td><td>JFK</td><td>SJU</td><td>192</td><td>1598</td><td>23</td><td>59</td><td>2013-12-31 23:00:00</td></tr>\n",
              "\t<tr><td>2013</td><td>12</td><td>31</td><td> 26</td><td>2245</td><td>101</td><td> 129</td><td>2353</td><td> 96</td><td>B6</td><td> 108</td><td>N374JB</td><td>JFK</td><td>PWM</td><td> 50</td><td> 273</td><td>22</td><td>45</td><td>2013-12-31 22:00:00</td></tr>\n",
              "\t<tr><td>2013</td><td>12</td><td>31</td><td>459</td><td> 500</td><td> -1</td><td> 655</td><td> 651</td><td>  4</td><td>US</td><td>1895</td><td>N557UW</td><td>EWR</td><td>CLT</td><td> 95</td><td> 529</td><td> 5</td><td> 0</td><td>2013-12-31 05:00:00</td></tr>\n",
              "\t<tr><td>2013</td><td>12</td><td>31</td><td>514</td><td> 515</td><td> -1</td><td> 814</td><td> 812</td><td>  2</td><td>UA</td><td> 700</td><td>N470UA</td><td>EWR</td><td>IAH</td><td>223</td><td>1400</td><td> 5</td><td>15</td><td>2013-12-31 05:00:00</td></tr>\n",
              "\t<tr><td>2013</td><td>12</td><td>31</td><td>549</td><td> 551</td><td> -2</td><td> 925</td><td> 900</td><td> 25</td><td>UA</td><td> 274</td><td>N577UA</td><td>EWR</td><td>LAX</td><td>346</td><td>2454</td><td> 5</td><td>51</td><td>2013-12-31 05:00:00</td></tr>\n",
              "\t<tr><td>2013</td><td>12</td><td>31</td><td>550</td><td> 600</td><td>-10</td><td> 725</td><td> 745</td><td>-20</td><td>AA</td><td> 301</td><td>N3CXAA</td><td>LGA</td><td>ORD</td><td>127</td><td> 733</td><td> 6</td><td> 0</td><td>2013-12-31 06:00:00</td></tr>\n",
              "\t<tr><td>2013</td><td>12</td><td>31</td><td>552</td><td> 600</td><td> -8</td><td> 811</td><td> 826</td><td>-15</td><td>EV</td><td>3825</td><td>N14916</td><td>EWR</td><td>IND</td><td>118</td><td> 645</td><td> 6</td><td> 0</td><td>2013-12-31 06:00:00</td></tr>\n",
              "\t<tr><td>2013</td><td>12</td><td>31</td><td>553</td><td> 600</td><td> -7</td><td> 741</td><td> 754</td><td>-13</td><td>DL</td><td> 731</td><td>N333NB</td><td>LGA</td><td>DTW</td><td> 86</td><td> 502</td><td> 6</td><td> 0</td><td>2013-12-31 06:00:00</td></tr>\n",
              "\t<tr><td>2013</td><td>12</td><td>31</td><td>554</td><td> 550</td><td>  4</td><td>1024</td><td>1027</td><td> -3</td><td>B6</td><td> 939</td><td>N552JB</td><td>JFK</td><td>BQN</td><td>195</td><td>1576</td><td> 5</td><td>50</td><td>2013-12-31 05:00:00</td></tr>\n",
              "\t<tr><td>2013</td><td>12</td><td>31</td><td>555</td><td> 600</td><td> -5</td><td> 901</td><td> 849</td><td> 12</td><td>B6</td><td> 353</td><td>N746JB</td><td>JFK</td><td>PBI</td><td>167</td><td>1028</td><td> 6</td><td> 0</td><td>2013-12-31 06:00:00</td></tr>\n",
              "\t<tr><td>2013</td><td>12</td><td>31</td><td>555</td><td> 600</td><td> -5</td><td> 835</td><td> 831</td><td>  4</td><td>DL</td><td> 904</td><td>N3741S</td><td>LGA</td><td>ATL</td><td>137</td><td> 762</td><td> 6</td><td> 0</td><td>2013-12-31 06:00:00</td></tr>\n",
              "\t<tr><td>2013</td><td>12</td><td>31</td><td>555</td><td> 551</td><td>  4</td><td> 853</td><td> 851</td><td>  2</td><td>UA</td><td> 566</td><td>N491UA</td><td>EWR</td><td>TPA</td><td>164</td><td> 997</td><td> 5</td><td>51</td><td>2013-12-31 05:00:00</td></tr>\n",
              "\t<tr><td>2013</td><td>12</td><td>31</td><td>556</td><td> 600</td><td> -4</td><td> 909</td><td> 846</td><td> 23</td><td>B6</td><td> 583</td><td>N715JB</td><td>JFK</td><td>MCO</td><td>162</td><td> 944</td><td> 6</td><td> 0</td><td>2013-12-31 06:00:00</td></tr>\n",
              "\t<tr><td>2013</td><td>12</td><td>31</td><td>556</td><td> 605</td><td> -9</td><td> 808</td><td> 814</td><td> -6</td><td>DL</td><td>1919</td><td>N958DL</td><td>LGA</td><td>MSP</td><td>160</td><td>1020</td><td> 6</td><td> 5</td><td>2013-12-31 06:00:00</td></tr>\n",
              "\t<tr><td>2013</td><td>12</td><td>31</td><td>557</td><td> 603</td><td> -6</td><td> 719</td><td> 719</td><td>  0</td><td>EV</td><td>4241</td><td>N15574</td><td>EWR</td><td>DCA</td><td> 45</td><td> 199</td><td> 6</td><td> 3</td><td>2013-12-31 06:00:00</td></tr>\n",
              "\t<tr><td>2013</td><td>12</td><td>31</td><td>558</td><td> 600</td><td> -2</td><td> 919</td><td> 905</td><td> 14</td><td>AA</td><td>1175</td><td>N3JEAA</td><td>LGA</td><td>MIA</td><td>173</td><td>1096</td><td> 6</td><td> 0</td><td>2013-12-31 06:00:00</td></tr>\n",
              "\t<tr><td>2013</td><td>12</td><td>31</td><td>559</td><td> 600</td><td> -1</td><td> 917</td><td> 855</td><td> 22</td><td>B6</td><td> 605</td><td>N597JB</td><td>EWR</td><td>FLL</td><td>167</td><td>1065</td><td> 6</td><td> 0</td><td>2013-12-31 06:00:00</td></tr>\n",
              "\t<tr><td>2013</td><td>12</td><td>31</td><td>600</td><td> 540</td><td> 20</td><td> 928</td><td> 850</td><td> 38</td><td>AA</td><td>2243</td><td>N5EMAA</td><td>JFK</td><td>MIA</td><td>171</td><td>1089</td><td> 5</td><td>40</td><td>2013-12-31 05:00:00</td></tr>\n",
              "\t<tr><td>2013</td><td>12</td><td>31</td><td>602</td><td> 605</td><td> -3</td><td> 744</td><td> 805</td><td>-21</td><td>DL</td><td>2505</td><td>N358NB</td><td>EWR</td><td>DTW</td><td> 87</td><td> 488</td><td> 6</td><td> 5</td><td>2013-12-31 06:00:00</td></tr>\n",
              "\t<tr><td>2013</td><td>12</td><td>31</td><td>602</td><td> 605</td><td> -3</td><td> 708</td><td> 723</td><td>-15</td><td>EV</td><td>6177</td><td>N14543</td><td>EWR</td><td>IAD</td><td> 45</td><td> 212</td><td> 6</td><td> 5</td><td>2013-12-31 06:00:00</td></tr>\n",
              "\t<tr><td>2013</td><td>12</td><td>31</td><td>603</td><td> 611</td><td> -8</td><td>1045</td><td>1055</td><td>-10</td><td>B6</td><td>1403</td><td>N547JB</td><td>JFK</td><td>SJU</td><td>198</td><td>1598</td><td> 6</td><td>11</td><td>2013-12-31 06:00:00</td></tr>\n",
              "\t<tr><td>2013</td><td>12</td><td>31</td><td>607</td><td> 600</td><td>  7</td><td> 848</td><td> 825</td><td> 23</td><td>WN</td><td>1716</td><td>N7740A</td><td>LGA</td><td>ATL</td><td>137</td><td> 762</td><td> 6</td><td> 0</td><td>2013-12-31 06:00:00</td></tr>\n",
              "\t<tr><td>2013</td><td>12</td><td>31</td><td>608</td><td> 615</td><td> -7</td><td> 812</td><td> 818</td><td> -6</td><td>US</td><td>1963</td><td>N192UW</td><td>EWR</td><td>CLT</td><td>106</td><td> 529</td><td> 6</td><td>15</td><td>2013-12-31 06:00:00</td></tr>\n",
              "\t<tr><td>2013</td><td>12</td><td>31</td><td>609</td><td> 610</td><td> -1</td><td> 911</td><td> 915</td><td> -4</td><td>AA</td><td>1205</td><td>N5DHAA</td><td>EWR</td><td>MIA</td><td>163</td><td>1085</td><td> 6</td><td>10</td><td>2013-12-31 06:00:00</td></tr>\n",
              "\t<tr><td>2013</td><td>12</td><td>31</td><td>609</td><td> 615</td><td> -6</td><td> 848</td><td> 850</td><td> -2</td><td>DL</td><td> 404</td><td>N392DA</td><td>JFK</td><td>ATL</td><td>133</td><td> 760</td><td> 6</td><td>15</td><td>2013-12-31 06:00:00</td></tr>\n",
              "\t<tr><td>2013</td><td>12</td><td>31</td><td>609</td><td> 614</td><td> -5</td><td> 755</td><td> 751</td><td>  4</td><td>EV</td><td>3812</td><td>N13994</td><td>EWR</td><td>RDU</td><td> 81</td><td> 416</td><td> 6</td><td>14</td><td>2013-12-31 06:00:00</td></tr>\n",
              "\t<tr><td>2013</td><td>12</td><td>31</td><td>610</td><td> 615</td><td> -5</td><td> 828</td><td> 849</td><td>-21</td><td>DL</td><td> 479</td><td>N3766 </td><td>JFK</td><td>ATL</td><td>119</td><td> 760</td><td> 6</td><td>15</td><td>2013-12-31 06:00:00</td></tr>\n",
              "\t<tr><td>2013</td><td>12</td><td>31</td><td>616</td><td> 611</td><td>  5</td><td> 933</td><td> 912</td><td> 21</td><td>B6</td><td> 601</td><td>N643JB</td><td>JFK</td><td>FLL</td><td>173</td><td>1069</td><td> 6</td><td>11</td><td>2013-12-31 06:00:00</td></tr>\n",
              "\t<tr><td>2013</td><td>12</td><td>31</td><td>616</td><td> 630</td><td>-14</td><td> 922</td><td> 919</td><td>  3</td><td>B6</td><td>1099</td><td>N563JB</td><td>LGA</td><td>MCO</td><td>159</td><td> 950</td><td> 6</td><td>30</td><td>2013-12-31 06:00:00</td></tr>\n",
              "\t<tr><td>⋮</td><td>⋮</td><td>⋮</td><td>⋮</td><td>⋮</td><td>⋮</td><td>⋮</td><td>⋮</td><td>⋮</td><td>⋮</td><td>⋮</td><td>⋮</td><td>⋮</td><td>⋮</td><td>⋮</td><td>⋮</td><td>⋮</td><td>⋮</td><td>⋮</td></tr>\n",
              "\t<tr><td>2013</td><td>12</td><td>31</td><td>2155</td><td>2039</td><td> 76</td><td> 253</td><td>2355</td><td> NA</td><td>B6</td><td>1205</td><td>N627JB</td><td>JFK</td><td>PDX</td><td> NA</td><td>2454</td><td>20</td><td>39</td><td>2013-12-31 20:00:00</td></tr>\n",
              "\t<tr><td>2013</td><td>12</td><td>31</td><td>2155</td><td>2150</td><td>  5</td><td> 110</td><td>  51</td><td> 19</td><td>B6</td><td>1901</td><td>N729JB</td><td>JFK</td><td>FLL</td><td>164</td><td>1069</td><td>21</td><td>50</td><td>2013-12-31 21:00:00</td></tr>\n",
              "\t<tr><td>2013</td><td>12</td><td>31</td><td>2159</td><td>2155</td><td>  4</td><td>  55</td><td>  46</td><td>  9</td><td>B6</td><td>2053</td><td>N593JB</td><td>JFK</td><td>PBI</td><td>155</td><td>1028</td><td>21</td><td>55</td><td>2013-12-31 21:00:00</td></tr>\n",
              "\t<tr><td>2013</td><td>12</td><td>31</td><td>2206</td><td>2110</td><td> 56</td><td>  44</td><td>2339</td><td> 65</td><td>B6</td><td> 775</td><td>N184JB</td><td>JFK</td><td>MSY</td><td>195</td><td>1182</td><td>21</td><td>10</td><td>2013-12-31 21:00:00</td></tr>\n",
              "\t<tr><td>2013</td><td>12</td><td>31</td><td>2211</td><td>2159</td><td> 12</td><td> 100</td><td>  45</td><td> 15</td><td>B6</td><td>1183</td><td>N715JB</td><td>JFK</td><td>MCO</td><td>148</td><td> 944</td><td>21</td><td>59</td><td>2013-12-31 21:00:00</td></tr>\n",
              "\t<tr><td>2013</td><td>12</td><td>31</td><td>2218</td><td>2219</td><td> -1</td><td> 315</td><td> 304</td><td> 11</td><td>B6</td><td>1203</td><td>N625JB</td><td>JFK</td><td>SJU</td><td>202</td><td>1598</td><td>22</td><td>19</td><td>2013-12-31 22:00:00</td></tr>\n",
              "\t<tr><td>2013</td><td>12</td><td>31</td><td>2235</td><td>2245</td><td>-10</td><td>2351</td><td>2355</td><td> -4</td><td>B6</td><td> 234</td><td>N355JB</td><td>JFK</td><td>BTV</td><td> 49</td><td> 266</td><td>22</td><td>45</td><td>2013-12-31 22:00:00</td></tr>\n",
              "\t<tr><td>2013</td><td>12</td><td>31</td><td>2245</td><td>2250</td><td> -5</td><td>2359</td><td>2356</td><td>  3</td><td>B6</td><td>1816</td><td>N318JB</td><td>JFK</td><td>SYR</td><td> 51</td><td> 209</td><td>22</td><td>50</td><td>2013-12-31 22:00:00</td></tr>\n",
              "\t<tr><td>2013</td><td>12</td><td>31</td><td>2310</td><td>2255</td><td> 15</td><td>   7</td><td>2356</td><td> 11</td><td>B6</td><td> 718</td><td>N279JB</td><td>JFK</td><td>BOS</td><td> 40</td><td> 187</td><td>22</td><td>55</td><td>2013-12-31 22:00:00</td></tr>\n",
              "\t<tr><td>2013</td><td>12</td><td>31</td><td>2321</td><td>2250</td><td> 31</td><td>  46</td><td>   8</td><td> 38</td><td>B6</td><td>2002</td><td>N179JB</td><td>JFK</td><td>BUF</td><td> 66</td><td> 301</td><td>22</td><td>50</td><td>2013-12-31 22:00:00</td></tr>\n",
              "\t<tr><td>2013</td><td>12</td><td>31</td><td>2328</td><td>2330</td><td> -2</td><td> 412</td><td> 409</td><td>  3</td><td>B6</td><td>1389</td><td>N651JB</td><td>EWR</td><td>SJU</td><td>198</td><td>1608</td><td>23</td><td>30</td><td>2013-12-31 23:00:00</td></tr>\n",
              "\t<tr><td>2013</td><td>12</td><td>31</td><td>2332</td><td>2245</td><td> 47</td><td>  58</td><td>   3</td><td> 55</td><td>B6</td><td> 486</td><td>N334JB</td><td>JFK</td><td>ROC</td><td> 60</td><td> 264</td><td>22</td><td>45</td><td>2013-12-31 22:00:00</td></tr>\n",
              "\t<tr><td>2013</td><td>12</td><td>31</td><td>2355</td><td>2359</td><td> -4</td><td> 430</td><td> 440</td><td>-10</td><td>B6</td><td>1503</td><td>N509JB</td><td>JFK</td><td>SJU</td><td>195</td><td>1598</td><td>23</td><td>59</td><td>2013-12-31 23:00:00</td></tr>\n",
              "\t<tr><td>2013</td><td>12</td><td>31</td><td>2356</td><td>2359</td><td> -3</td><td> 436</td><td> 445</td><td> -9</td><td>B6</td><td> 745</td><td>N665JB</td><td>JFK</td><td>PSE</td><td>200</td><td>1617</td><td>23</td><td>59</td><td>2013-12-31 23:00:00</td></tr>\n",
              "\t<tr><td>2013</td><td>12</td><td>31</td><td>  NA</td><td>1520</td><td> NA</td><td>  NA</td><td>1705</td><td> NA</td><td>AA</td><td> 341</td><td>N568AA</td><td>LGA</td><td>ORD</td><td> NA</td><td> 733</td><td>15</td><td>20</td><td>2013-12-31 15:00:00</td></tr>\n",
              "\t<tr><td>2013</td><td>12</td><td>31</td><td>  NA</td><td>2025</td><td> NA</td><td>  NA</td><td>2205</td><td> NA</td><td>AA</td><td> 371</td><td>N482AA</td><td>LGA</td><td>ORD</td><td> NA</td><td> 733</td><td>20</td><td>25</td><td>2013-12-31 20:00:00</td></tr>\n",
              "\t<tr><td>2013</td><td>12</td><td>31</td><td>  NA</td><td>1932</td><td> NA</td><td>  NA</td><td>2305</td><td> NA</td><td>B6</td><td> 161</td><td>N516JB</td><td>JFK</td><td>SMF</td><td> NA</td><td>2521</td><td>19</td><td>32</td><td>2013-12-31 19:00:00</td></tr>\n",
              "\t<tr><td>2013</td><td>12</td><td>31</td><td>  NA</td><td>1505</td><td> NA</td><td>  NA</td><td>1725</td><td> NA</td><td>EV</td><td>4181</td><td>N24103</td><td>EWR</td><td>MCI</td><td> NA</td><td>1092</td><td>15</td><td> 5</td><td>2013-12-31 15:00:00</td></tr>\n",
              "\t<tr><td>2013</td><td>12</td><td>31</td><td>  NA</td><td>1000</td><td> NA</td><td>  NA</td><td>1252</td><td> NA</td><td>UA</td><td>1124</td><td>NA    </td><td>EWR</td><td>EGE</td><td> NA</td><td>1725</td><td>10</td><td> 0</td><td>2013-12-31 10:00:00</td></tr>\n",
              "\t<tr><td>2013</td><td>12</td><td>31</td><td>  NA</td><td> 840</td><td> NA</td><td>  NA</td><td>1205</td><td> NA</td><td>UA</td><td>1151</td><td>NA    </td><td>EWR</td><td>SEA</td><td> NA</td><td>2402</td><td> 8</td><td>40</td><td>2013-12-31 08:00:00</td></tr>\n",
              "\t<tr><td>2013</td><td>12</td><td>31</td><td>  NA</td><td> 754</td><td> NA</td><td>  NA</td><td>1118</td><td> NA</td><td>UA</td><td>1455</td><td>NA    </td><td>EWR</td><td>LAX</td><td> NA</td><td>2454</td><td> 7</td><td>54</td><td>2013-12-31 07:00:00</td></tr>\n",
              "\t<tr><td>2013</td><td>12</td><td>31</td><td>  NA</td><td>2000</td><td> NA</td><td>  NA</td><td>2146</td><td> NA</td><td>UA</td><td>1482</td><td>NA    </td><td>EWR</td><td>ORD</td><td> NA</td><td> 719</td><td>20</td><td> 0</td><td>2013-12-31 20:00:00</td></tr>\n",
              "\t<tr><td>2013</td><td>12</td><td>31</td><td>  NA</td><td>1500</td><td> NA</td><td>  NA</td><td>1817</td><td> NA</td><td>UA</td><td>1483</td><td>NA    </td><td>EWR</td><td>AUS</td><td> NA</td><td>1504</td><td>15</td><td> 0</td><td>2013-12-31 15:00:00</td></tr>\n",
              "\t<tr><td>2013</td><td>12</td><td>31</td><td>  NA</td><td>1430</td><td> NA</td><td>  NA</td><td>1750</td><td> NA</td><td>UA</td><td>1493</td><td>NA    </td><td>EWR</td><td>LAX</td><td> NA</td><td>2454</td><td>14</td><td>30</td><td>2013-12-31 14:00:00</td></tr>\n",
              "\t<tr><td>2013</td><td>12</td><td>31</td><td>  NA</td><td> 855</td><td> NA</td><td>  NA</td><td>1142</td><td> NA</td><td>UA</td><td>1506</td><td>NA    </td><td>EWR</td><td>JAC</td><td> NA</td><td>1874</td><td> 8</td><td>55</td><td>2013-12-31 08:00:00</td></tr>\n",
              "\t<tr><td>2013</td><td>12</td><td>31</td><td>  NA</td><td> 705</td><td> NA</td><td>  NA</td><td> 931</td><td> NA</td><td>UA</td><td>1729</td><td>NA    </td><td>EWR</td><td>DEN</td><td> NA</td><td>1605</td><td> 7</td><td> 5</td><td>2013-12-31 07:00:00</td></tr>\n",
              "\t<tr><td>2013</td><td>12</td><td>31</td><td>  NA</td><td> 825</td><td> NA</td><td>  NA</td><td>1029</td><td> NA</td><td>US</td><td>1831</td><td>NA    </td><td>JFK</td><td>CLT</td><td> NA</td><td> 541</td><td> 8</td><td>25</td><td>2013-12-31 08:00:00</td></tr>\n",
              "\t<tr><td>2013</td><td>12</td><td>31</td><td>  NA</td><td>1615</td><td> NA</td><td>  NA</td><td>1800</td><td> NA</td><td>MQ</td><td>3301</td><td>N844MQ</td><td>LGA</td><td>RDU</td><td> NA</td><td> 431</td><td>16</td><td>15</td><td>2013-12-31 16:00:00</td></tr>\n",
              "\t<tr><td>2013</td><td>12</td><td>31</td><td>  NA</td><td> 600</td><td> NA</td><td>  NA</td><td> 735</td><td> NA</td><td>UA</td><td> 219</td><td>NA    </td><td>EWR</td><td>ORD</td><td> NA</td><td> 719</td><td> 6</td><td> 0</td><td>2013-12-31 06:00:00</td></tr>\n",
              "\t<tr><td>2013</td><td>12</td><td>31</td><td>  NA</td><td> 830</td><td> NA</td><td>  NA</td><td>1154</td><td> NA</td><td>UA</td><td> 443</td><td>NA    </td><td>JFK</td><td>LAX</td><td> NA</td><td>2475</td><td> 8</td><td>30</td><td>2013-12-31 08:00:00</td></tr>\n",
              "</tbody>\n",
              "</table>\n"
            ],
            "text/markdown": "\nA data.frame: 776 × 19\n\n| year &lt;int&gt; | month &lt;int&gt; | day &lt;int&gt; | dep_time &lt;int&gt; | sched_dep_time &lt;int&gt; | dep_delay &lt;int&gt; | arr_time &lt;int&gt; | sched_arr_time &lt;int&gt; | arr_delay &lt;int&gt; | carrier &lt;chr&gt; | flight &lt;int&gt; | tailnum &lt;chr&gt; | origin &lt;chr&gt; | dest &lt;chr&gt; | air_time &lt;int&gt; | distance &lt;int&gt; | hour &lt;int&gt; | minute &lt;int&gt; | time_hour &lt;chr&gt; |\n|---|---|---|---|---|---|---|---|---|---|---|---|---|---|---|---|---|---|---|\n| 2013 | 12 | 31 |  13 | 2359 |  14 |  439 |  437 |   2 | B6 |  839 | N566JB | JFK | BQN | 189 | 1576 | 23 | 59 | 2013-12-31 23:00:00 |\n| 2013 | 12 | 31 |  18 | 2359 |  19 |  449 |  444 |   5 | DL |  412 | N713TW | JFK | SJU | 192 | 1598 | 23 | 59 | 2013-12-31 23:00:00 |\n| 2013 | 12 | 31 |  26 | 2245 | 101 |  129 | 2353 |  96 | B6 |  108 | N374JB | JFK | PWM |  50 |  273 | 22 | 45 | 2013-12-31 22:00:00 |\n| 2013 | 12 | 31 | 459 |  500 |  -1 |  655 |  651 |   4 | US | 1895 | N557UW | EWR | CLT |  95 |  529 |  5 |  0 | 2013-12-31 05:00:00 |\n| 2013 | 12 | 31 | 514 |  515 |  -1 |  814 |  812 |   2 | UA |  700 | N470UA | EWR | IAH | 223 | 1400 |  5 | 15 | 2013-12-31 05:00:00 |\n| 2013 | 12 | 31 | 549 |  551 |  -2 |  925 |  900 |  25 | UA |  274 | N577UA | EWR | LAX | 346 | 2454 |  5 | 51 | 2013-12-31 05:00:00 |\n| 2013 | 12 | 31 | 550 |  600 | -10 |  725 |  745 | -20 | AA |  301 | N3CXAA | LGA | ORD | 127 |  733 |  6 |  0 | 2013-12-31 06:00:00 |\n| 2013 | 12 | 31 | 552 |  600 |  -8 |  811 |  826 | -15 | EV | 3825 | N14916 | EWR | IND | 118 |  645 |  6 |  0 | 2013-12-31 06:00:00 |\n| 2013 | 12 | 31 | 553 |  600 |  -7 |  741 |  754 | -13 | DL |  731 | N333NB | LGA | DTW |  86 |  502 |  6 |  0 | 2013-12-31 06:00:00 |\n| 2013 | 12 | 31 | 554 |  550 |   4 | 1024 | 1027 |  -3 | B6 |  939 | N552JB | JFK | BQN | 195 | 1576 |  5 | 50 | 2013-12-31 05:00:00 |\n| 2013 | 12 | 31 | 555 |  600 |  -5 |  901 |  849 |  12 | B6 |  353 | N746JB | JFK | PBI | 167 | 1028 |  6 |  0 | 2013-12-31 06:00:00 |\n| 2013 | 12 | 31 | 555 |  600 |  -5 |  835 |  831 |   4 | DL |  904 | N3741S | LGA | ATL | 137 |  762 |  6 |  0 | 2013-12-31 06:00:00 |\n| 2013 | 12 | 31 | 555 |  551 |   4 |  853 |  851 |   2 | UA |  566 | N491UA | EWR | TPA | 164 |  997 |  5 | 51 | 2013-12-31 05:00:00 |\n| 2013 | 12 | 31 | 556 |  600 |  -4 |  909 |  846 |  23 | B6 |  583 | N715JB | JFK | MCO | 162 |  944 |  6 |  0 | 2013-12-31 06:00:00 |\n| 2013 | 12 | 31 | 556 |  605 |  -9 |  808 |  814 |  -6 | DL | 1919 | N958DL | LGA | MSP | 160 | 1020 |  6 |  5 | 2013-12-31 06:00:00 |\n| 2013 | 12 | 31 | 557 |  603 |  -6 |  719 |  719 |   0 | EV | 4241 | N15574 | EWR | DCA |  45 |  199 |  6 |  3 | 2013-12-31 06:00:00 |\n| 2013 | 12 | 31 | 558 |  600 |  -2 |  919 |  905 |  14 | AA | 1175 | N3JEAA | LGA | MIA | 173 | 1096 |  6 |  0 | 2013-12-31 06:00:00 |\n| 2013 | 12 | 31 | 559 |  600 |  -1 |  917 |  855 |  22 | B6 |  605 | N597JB | EWR | FLL | 167 | 1065 |  6 |  0 | 2013-12-31 06:00:00 |\n| 2013 | 12 | 31 | 600 |  540 |  20 |  928 |  850 |  38 | AA | 2243 | N5EMAA | JFK | MIA | 171 | 1089 |  5 | 40 | 2013-12-31 05:00:00 |\n| 2013 | 12 | 31 | 602 |  605 |  -3 |  744 |  805 | -21 | DL | 2505 | N358NB | EWR | DTW |  87 |  488 |  6 |  5 | 2013-12-31 06:00:00 |\n| 2013 | 12 | 31 | 602 |  605 |  -3 |  708 |  723 | -15 | EV | 6177 | N14543 | EWR | IAD |  45 |  212 |  6 |  5 | 2013-12-31 06:00:00 |\n| 2013 | 12 | 31 | 603 |  611 |  -8 | 1045 | 1055 | -10 | B6 | 1403 | N547JB | JFK | SJU | 198 | 1598 |  6 | 11 | 2013-12-31 06:00:00 |\n| 2013 | 12 | 31 | 607 |  600 |   7 |  848 |  825 |  23 | WN | 1716 | N7740A | LGA | ATL | 137 |  762 |  6 |  0 | 2013-12-31 06:00:00 |\n| 2013 | 12 | 31 | 608 |  615 |  -7 |  812 |  818 |  -6 | US | 1963 | N192UW | EWR | CLT | 106 |  529 |  6 | 15 | 2013-12-31 06:00:00 |\n| 2013 | 12 | 31 | 609 |  610 |  -1 |  911 |  915 |  -4 | AA | 1205 | N5DHAA | EWR | MIA | 163 | 1085 |  6 | 10 | 2013-12-31 06:00:00 |\n| 2013 | 12 | 31 | 609 |  615 |  -6 |  848 |  850 |  -2 | DL |  404 | N392DA | JFK | ATL | 133 |  760 |  6 | 15 | 2013-12-31 06:00:00 |\n| 2013 | 12 | 31 | 609 |  614 |  -5 |  755 |  751 |   4 | EV | 3812 | N13994 | EWR | RDU |  81 |  416 |  6 | 14 | 2013-12-31 06:00:00 |\n| 2013 | 12 | 31 | 610 |  615 |  -5 |  828 |  849 | -21 | DL |  479 | N3766  | JFK | ATL | 119 |  760 |  6 | 15 | 2013-12-31 06:00:00 |\n| 2013 | 12 | 31 | 616 |  611 |   5 |  933 |  912 |  21 | B6 |  601 | N643JB | JFK | FLL | 173 | 1069 |  6 | 11 | 2013-12-31 06:00:00 |\n| 2013 | 12 | 31 | 616 |  630 | -14 |  922 |  919 |   3 | B6 | 1099 | N563JB | LGA | MCO | 159 |  950 |  6 | 30 | 2013-12-31 06:00:00 |\n| ⋮ | ⋮ | ⋮ | ⋮ | ⋮ | ⋮ | ⋮ | ⋮ | ⋮ | ⋮ | ⋮ | ⋮ | ⋮ | ⋮ | ⋮ | ⋮ | ⋮ | ⋮ | ⋮ |\n| 2013 | 12 | 31 | 2155 | 2039 |  76 |  253 | 2355 |  NA | B6 | 1205 | N627JB | JFK | PDX |  NA | 2454 | 20 | 39 | 2013-12-31 20:00:00 |\n| 2013 | 12 | 31 | 2155 | 2150 |   5 |  110 |   51 |  19 | B6 | 1901 | N729JB | JFK | FLL | 164 | 1069 | 21 | 50 | 2013-12-31 21:00:00 |\n| 2013 | 12 | 31 | 2159 | 2155 |   4 |   55 |   46 |   9 | B6 | 2053 | N593JB | JFK | PBI | 155 | 1028 | 21 | 55 | 2013-12-31 21:00:00 |\n| 2013 | 12 | 31 | 2206 | 2110 |  56 |   44 | 2339 |  65 | B6 |  775 | N184JB | JFK | MSY | 195 | 1182 | 21 | 10 | 2013-12-31 21:00:00 |\n| 2013 | 12 | 31 | 2211 | 2159 |  12 |  100 |   45 |  15 | B6 | 1183 | N715JB | JFK | MCO | 148 |  944 | 21 | 59 | 2013-12-31 21:00:00 |\n| 2013 | 12 | 31 | 2218 | 2219 |  -1 |  315 |  304 |  11 | B6 | 1203 | N625JB | JFK | SJU | 202 | 1598 | 22 | 19 | 2013-12-31 22:00:00 |\n| 2013 | 12 | 31 | 2235 | 2245 | -10 | 2351 | 2355 |  -4 | B6 |  234 | N355JB | JFK | BTV |  49 |  266 | 22 | 45 | 2013-12-31 22:00:00 |\n| 2013 | 12 | 31 | 2245 | 2250 |  -5 | 2359 | 2356 |   3 | B6 | 1816 | N318JB | JFK | SYR |  51 |  209 | 22 | 50 | 2013-12-31 22:00:00 |\n| 2013 | 12 | 31 | 2310 | 2255 |  15 |    7 | 2356 |  11 | B6 |  718 | N279JB | JFK | BOS |  40 |  187 | 22 | 55 | 2013-12-31 22:00:00 |\n| 2013 | 12 | 31 | 2321 | 2250 |  31 |   46 |    8 |  38 | B6 | 2002 | N179JB | JFK | BUF |  66 |  301 | 22 | 50 | 2013-12-31 22:00:00 |\n| 2013 | 12 | 31 | 2328 | 2330 |  -2 |  412 |  409 |   3 | B6 | 1389 | N651JB | EWR | SJU | 198 | 1608 | 23 | 30 | 2013-12-31 23:00:00 |\n| 2013 | 12 | 31 | 2332 | 2245 |  47 |   58 |    3 |  55 | B6 |  486 | N334JB | JFK | ROC |  60 |  264 | 22 | 45 | 2013-12-31 22:00:00 |\n| 2013 | 12 | 31 | 2355 | 2359 |  -4 |  430 |  440 | -10 | B6 | 1503 | N509JB | JFK | SJU | 195 | 1598 | 23 | 59 | 2013-12-31 23:00:00 |\n| 2013 | 12 | 31 | 2356 | 2359 |  -3 |  436 |  445 |  -9 | B6 |  745 | N665JB | JFK | PSE | 200 | 1617 | 23 | 59 | 2013-12-31 23:00:00 |\n| 2013 | 12 | 31 |   NA | 1520 |  NA |   NA | 1705 |  NA | AA |  341 | N568AA | LGA | ORD |  NA |  733 | 15 | 20 | 2013-12-31 15:00:00 |\n| 2013 | 12 | 31 |   NA | 2025 |  NA |   NA | 2205 |  NA | AA |  371 | N482AA | LGA | ORD |  NA |  733 | 20 | 25 | 2013-12-31 20:00:00 |\n| 2013 | 12 | 31 |   NA | 1932 |  NA |   NA | 2305 |  NA | B6 |  161 | N516JB | JFK | SMF |  NA | 2521 | 19 | 32 | 2013-12-31 19:00:00 |\n| 2013 | 12 | 31 |   NA | 1505 |  NA |   NA | 1725 |  NA | EV | 4181 | N24103 | EWR | MCI |  NA | 1092 | 15 |  5 | 2013-12-31 15:00:00 |\n| 2013 | 12 | 31 |   NA | 1000 |  NA |   NA | 1252 |  NA | UA | 1124 | NA     | EWR | EGE |  NA | 1725 | 10 |  0 | 2013-12-31 10:00:00 |\n| 2013 | 12 | 31 |   NA |  840 |  NA |   NA | 1205 |  NA | UA | 1151 | NA     | EWR | SEA |  NA | 2402 |  8 | 40 | 2013-12-31 08:00:00 |\n| 2013 | 12 | 31 |   NA |  754 |  NA |   NA | 1118 |  NA | UA | 1455 | NA     | EWR | LAX |  NA | 2454 |  7 | 54 | 2013-12-31 07:00:00 |\n| 2013 | 12 | 31 |   NA | 2000 |  NA |   NA | 2146 |  NA | UA | 1482 | NA     | EWR | ORD |  NA |  719 | 20 |  0 | 2013-12-31 20:00:00 |\n| 2013 | 12 | 31 |   NA | 1500 |  NA |   NA | 1817 |  NA | UA | 1483 | NA     | EWR | AUS |  NA | 1504 | 15 |  0 | 2013-12-31 15:00:00 |\n| 2013 | 12 | 31 |   NA | 1430 |  NA |   NA | 1750 |  NA | UA | 1493 | NA     | EWR | LAX |  NA | 2454 | 14 | 30 | 2013-12-31 14:00:00 |\n| 2013 | 12 | 31 |   NA |  855 |  NA |   NA | 1142 |  NA | UA | 1506 | NA     | EWR | JAC |  NA | 1874 |  8 | 55 | 2013-12-31 08:00:00 |\n| 2013 | 12 | 31 |   NA |  705 |  NA |   NA |  931 |  NA | UA | 1729 | NA     | EWR | DEN |  NA | 1605 |  7 |  5 | 2013-12-31 07:00:00 |\n| 2013 | 12 | 31 |   NA |  825 |  NA |   NA | 1029 |  NA | US | 1831 | NA     | JFK | CLT |  NA |  541 |  8 | 25 | 2013-12-31 08:00:00 |\n| 2013 | 12 | 31 |   NA | 1615 |  NA |   NA | 1800 |  NA | MQ | 3301 | N844MQ | LGA | RDU |  NA |  431 | 16 | 15 | 2013-12-31 16:00:00 |\n| 2013 | 12 | 31 |   NA |  600 |  NA |   NA |  735 |  NA | UA |  219 | NA     | EWR | ORD |  NA |  719 |  6 |  0 | 2013-12-31 06:00:00 |\n| 2013 | 12 | 31 |   NA |  830 |  NA |   NA | 1154 |  NA | UA |  443 | NA     | JFK | LAX |  NA | 2475 |  8 | 30 | 2013-12-31 08:00:00 |\n\n",
            "text/latex": "A data.frame: 776 × 19\n\\begin{tabular}{lllllllllllllllllll}\n year & month & day & dep\\_time & sched\\_dep\\_time & dep\\_delay & arr\\_time & sched\\_arr\\_time & arr\\_delay & carrier & flight & tailnum & origin & dest & air\\_time & distance & hour & minute & time\\_hour\\\\\n <int> & <int> & <int> & <int> & <int> & <int> & <int> & <int> & <int> & <chr> & <int> & <chr> & <chr> & <chr> & <int> & <int> & <int> & <int> & <chr>\\\\\n\\hline\n\t 2013 & 12 & 31 &  13 & 2359 &  14 &  439 &  437 &   2 & B6 &  839 & N566JB & JFK & BQN & 189 & 1576 & 23 & 59 & 2013-12-31 23:00:00\\\\\n\t 2013 & 12 & 31 &  18 & 2359 &  19 &  449 &  444 &   5 & DL &  412 & N713TW & JFK & SJU & 192 & 1598 & 23 & 59 & 2013-12-31 23:00:00\\\\\n\t 2013 & 12 & 31 &  26 & 2245 & 101 &  129 & 2353 &  96 & B6 &  108 & N374JB & JFK & PWM &  50 &  273 & 22 & 45 & 2013-12-31 22:00:00\\\\\n\t 2013 & 12 & 31 & 459 &  500 &  -1 &  655 &  651 &   4 & US & 1895 & N557UW & EWR & CLT &  95 &  529 &  5 &  0 & 2013-12-31 05:00:00\\\\\n\t 2013 & 12 & 31 & 514 &  515 &  -1 &  814 &  812 &   2 & UA &  700 & N470UA & EWR & IAH & 223 & 1400 &  5 & 15 & 2013-12-31 05:00:00\\\\\n\t 2013 & 12 & 31 & 549 &  551 &  -2 &  925 &  900 &  25 & UA &  274 & N577UA & EWR & LAX & 346 & 2454 &  5 & 51 & 2013-12-31 05:00:00\\\\\n\t 2013 & 12 & 31 & 550 &  600 & -10 &  725 &  745 & -20 & AA &  301 & N3CXAA & LGA & ORD & 127 &  733 &  6 &  0 & 2013-12-31 06:00:00\\\\\n\t 2013 & 12 & 31 & 552 &  600 &  -8 &  811 &  826 & -15 & EV & 3825 & N14916 & EWR & IND & 118 &  645 &  6 &  0 & 2013-12-31 06:00:00\\\\\n\t 2013 & 12 & 31 & 553 &  600 &  -7 &  741 &  754 & -13 & DL &  731 & N333NB & LGA & DTW &  86 &  502 &  6 &  0 & 2013-12-31 06:00:00\\\\\n\t 2013 & 12 & 31 & 554 &  550 &   4 & 1024 & 1027 &  -3 & B6 &  939 & N552JB & JFK & BQN & 195 & 1576 &  5 & 50 & 2013-12-31 05:00:00\\\\\n\t 2013 & 12 & 31 & 555 &  600 &  -5 &  901 &  849 &  12 & B6 &  353 & N746JB & JFK & PBI & 167 & 1028 &  6 &  0 & 2013-12-31 06:00:00\\\\\n\t 2013 & 12 & 31 & 555 &  600 &  -5 &  835 &  831 &   4 & DL &  904 & N3741S & LGA & ATL & 137 &  762 &  6 &  0 & 2013-12-31 06:00:00\\\\\n\t 2013 & 12 & 31 & 555 &  551 &   4 &  853 &  851 &   2 & UA &  566 & N491UA & EWR & TPA & 164 &  997 &  5 & 51 & 2013-12-31 05:00:00\\\\\n\t 2013 & 12 & 31 & 556 &  600 &  -4 &  909 &  846 &  23 & B6 &  583 & N715JB & JFK & MCO & 162 &  944 &  6 &  0 & 2013-12-31 06:00:00\\\\\n\t 2013 & 12 & 31 & 556 &  605 &  -9 &  808 &  814 &  -6 & DL & 1919 & N958DL & LGA & MSP & 160 & 1020 &  6 &  5 & 2013-12-31 06:00:00\\\\\n\t 2013 & 12 & 31 & 557 &  603 &  -6 &  719 &  719 &   0 & EV & 4241 & N15574 & EWR & DCA &  45 &  199 &  6 &  3 & 2013-12-31 06:00:00\\\\\n\t 2013 & 12 & 31 & 558 &  600 &  -2 &  919 &  905 &  14 & AA & 1175 & N3JEAA & LGA & MIA & 173 & 1096 &  6 &  0 & 2013-12-31 06:00:00\\\\\n\t 2013 & 12 & 31 & 559 &  600 &  -1 &  917 &  855 &  22 & B6 &  605 & N597JB & EWR & FLL & 167 & 1065 &  6 &  0 & 2013-12-31 06:00:00\\\\\n\t 2013 & 12 & 31 & 600 &  540 &  20 &  928 &  850 &  38 & AA & 2243 & N5EMAA & JFK & MIA & 171 & 1089 &  5 & 40 & 2013-12-31 05:00:00\\\\\n\t 2013 & 12 & 31 & 602 &  605 &  -3 &  744 &  805 & -21 & DL & 2505 & N358NB & EWR & DTW &  87 &  488 &  6 &  5 & 2013-12-31 06:00:00\\\\\n\t 2013 & 12 & 31 & 602 &  605 &  -3 &  708 &  723 & -15 & EV & 6177 & N14543 & EWR & IAD &  45 &  212 &  6 &  5 & 2013-12-31 06:00:00\\\\\n\t 2013 & 12 & 31 & 603 &  611 &  -8 & 1045 & 1055 & -10 & B6 & 1403 & N547JB & JFK & SJU & 198 & 1598 &  6 & 11 & 2013-12-31 06:00:00\\\\\n\t 2013 & 12 & 31 & 607 &  600 &   7 &  848 &  825 &  23 & WN & 1716 & N7740A & LGA & ATL & 137 &  762 &  6 &  0 & 2013-12-31 06:00:00\\\\\n\t 2013 & 12 & 31 & 608 &  615 &  -7 &  812 &  818 &  -6 & US & 1963 & N192UW & EWR & CLT & 106 &  529 &  6 & 15 & 2013-12-31 06:00:00\\\\\n\t 2013 & 12 & 31 & 609 &  610 &  -1 &  911 &  915 &  -4 & AA & 1205 & N5DHAA & EWR & MIA & 163 & 1085 &  6 & 10 & 2013-12-31 06:00:00\\\\\n\t 2013 & 12 & 31 & 609 &  615 &  -6 &  848 &  850 &  -2 & DL &  404 & N392DA & JFK & ATL & 133 &  760 &  6 & 15 & 2013-12-31 06:00:00\\\\\n\t 2013 & 12 & 31 & 609 &  614 &  -5 &  755 &  751 &   4 & EV & 3812 & N13994 & EWR & RDU &  81 &  416 &  6 & 14 & 2013-12-31 06:00:00\\\\\n\t 2013 & 12 & 31 & 610 &  615 &  -5 &  828 &  849 & -21 & DL &  479 & N3766  & JFK & ATL & 119 &  760 &  6 & 15 & 2013-12-31 06:00:00\\\\\n\t 2013 & 12 & 31 & 616 &  611 &   5 &  933 &  912 &  21 & B6 &  601 & N643JB & JFK & FLL & 173 & 1069 &  6 & 11 & 2013-12-31 06:00:00\\\\\n\t 2013 & 12 & 31 & 616 &  630 & -14 &  922 &  919 &   3 & B6 & 1099 & N563JB & LGA & MCO & 159 &  950 &  6 & 30 & 2013-12-31 06:00:00\\\\\n\t ⋮ & ⋮ & ⋮ & ⋮ & ⋮ & ⋮ & ⋮ & ⋮ & ⋮ & ⋮ & ⋮ & ⋮ & ⋮ & ⋮ & ⋮ & ⋮ & ⋮ & ⋮ & ⋮\\\\\n\t 2013 & 12 & 31 & 2155 & 2039 &  76 &  253 & 2355 &  NA & B6 & 1205 & N627JB & JFK & PDX &  NA & 2454 & 20 & 39 & 2013-12-31 20:00:00\\\\\n\t 2013 & 12 & 31 & 2155 & 2150 &   5 &  110 &   51 &  19 & B6 & 1901 & N729JB & JFK & FLL & 164 & 1069 & 21 & 50 & 2013-12-31 21:00:00\\\\\n\t 2013 & 12 & 31 & 2159 & 2155 &   4 &   55 &   46 &   9 & B6 & 2053 & N593JB & JFK & PBI & 155 & 1028 & 21 & 55 & 2013-12-31 21:00:00\\\\\n\t 2013 & 12 & 31 & 2206 & 2110 &  56 &   44 & 2339 &  65 & B6 &  775 & N184JB & JFK & MSY & 195 & 1182 & 21 & 10 & 2013-12-31 21:00:00\\\\\n\t 2013 & 12 & 31 & 2211 & 2159 &  12 &  100 &   45 &  15 & B6 & 1183 & N715JB & JFK & MCO & 148 &  944 & 21 & 59 & 2013-12-31 21:00:00\\\\\n\t 2013 & 12 & 31 & 2218 & 2219 &  -1 &  315 &  304 &  11 & B6 & 1203 & N625JB & JFK & SJU & 202 & 1598 & 22 & 19 & 2013-12-31 22:00:00\\\\\n\t 2013 & 12 & 31 & 2235 & 2245 & -10 & 2351 & 2355 &  -4 & B6 &  234 & N355JB & JFK & BTV &  49 &  266 & 22 & 45 & 2013-12-31 22:00:00\\\\\n\t 2013 & 12 & 31 & 2245 & 2250 &  -5 & 2359 & 2356 &   3 & B6 & 1816 & N318JB & JFK & SYR &  51 &  209 & 22 & 50 & 2013-12-31 22:00:00\\\\\n\t 2013 & 12 & 31 & 2310 & 2255 &  15 &    7 & 2356 &  11 & B6 &  718 & N279JB & JFK & BOS &  40 &  187 & 22 & 55 & 2013-12-31 22:00:00\\\\\n\t 2013 & 12 & 31 & 2321 & 2250 &  31 &   46 &    8 &  38 & B6 & 2002 & N179JB & JFK & BUF &  66 &  301 & 22 & 50 & 2013-12-31 22:00:00\\\\\n\t 2013 & 12 & 31 & 2328 & 2330 &  -2 &  412 &  409 &   3 & B6 & 1389 & N651JB & EWR & SJU & 198 & 1608 & 23 & 30 & 2013-12-31 23:00:00\\\\\n\t 2013 & 12 & 31 & 2332 & 2245 &  47 &   58 &    3 &  55 & B6 &  486 & N334JB & JFK & ROC &  60 &  264 & 22 & 45 & 2013-12-31 22:00:00\\\\\n\t 2013 & 12 & 31 & 2355 & 2359 &  -4 &  430 &  440 & -10 & B6 & 1503 & N509JB & JFK & SJU & 195 & 1598 & 23 & 59 & 2013-12-31 23:00:00\\\\\n\t 2013 & 12 & 31 & 2356 & 2359 &  -3 &  436 &  445 &  -9 & B6 &  745 & N665JB & JFK & PSE & 200 & 1617 & 23 & 59 & 2013-12-31 23:00:00\\\\\n\t 2013 & 12 & 31 &   NA & 1520 &  NA &   NA & 1705 &  NA & AA &  341 & N568AA & LGA & ORD &  NA &  733 & 15 & 20 & 2013-12-31 15:00:00\\\\\n\t 2013 & 12 & 31 &   NA & 2025 &  NA &   NA & 2205 &  NA & AA &  371 & N482AA & LGA & ORD &  NA &  733 & 20 & 25 & 2013-12-31 20:00:00\\\\\n\t 2013 & 12 & 31 &   NA & 1932 &  NA &   NA & 2305 &  NA & B6 &  161 & N516JB & JFK & SMF &  NA & 2521 & 19 & 32 & 2013-12-31 19:00:00\\\\\n\t 2013 & 12 & 31 &   NA & 1505 &  NA &   NA & 1725 &  NA & EV & 4181 & N24103 & EWR & MCI &  NA & 1092 & 15 &  5 & 2013-12-31 15:00:00\\\\\n\t 2013 & 12 & 31 &   NA & 1000 &  NA &   NA & 1252 &  NA & UA & 1124 & NA     & EWR & EGE &  NA & 1725 & 10 &  0 & 2013-12-31 10:00:00\\\\\n\t 2013 & 12 & 31 &   NA &  840 &  NA &   NA & 1205 &  NA & UA & 1151 & NA     & EWR & SEA &  NA & 2402 &  8 & 40 & 2013-12-31 08:00:00\\\\\n\t 2013 & 12 & 31 &   NA &  754 &  NA &   NA & 1118 &  NA & UA & 1455 & NA     & EWR & LAX &  NA & 2454 &  7 & 54 & 2013-12-31 07:00:00\\\\\n\t 2013 & 12 & 31 &   NA & 2000 &  NA &   NA & 2146 &  NA & UA & 1482 & NA     & EWR & ORD &  NA &  719 & 20 &  0 & 2013-12-31 20:00:00\\\\\n\t 2013 & 12 & 31 &   NA & 1500 &  NA &   NA & 1817 &  NA & UA & 1483 & NA     & EWR & AUS &  NA & 1504 & 15 &  0 & 2013-12-31 15:00:00\\\\\n\t 2013 & 12 & 31 &   NA & 1430 &  NA &   NA & 1750 &  NA & UA & 1493 & NA     & EWR & LAX &  NA & 2454 & 14 & 30 & 2013-12-31 14:00:00\\\\\n\t 2013 & 12 & 31 &   NA &  855 &  NA &   NA & 1142 &  NA & UA & 1506 & NA     & EWR & JAC &  NA & 1874 &  8 & 55 & 2013-12-31 08:00:00\\\\\n\t 2013 & 12 & 31 &   NA &  705 &  NA &   NA &  931 &  NA & UA & 1729 & NA     & EWR & DEN &  NA & 1605 &  7 &  5 & 2013-12-31 07:00:00\\\\\n\t 2013 & 12 & 31 &   NA &  825 &  NA &   NA & 1029 &  NA & US & 1831 & NA     & JFK & CLT &  NA &  541 &  8 & 25 & 2013-12-31 08:00:00\\\\\n\t 2013 & 12 & 31 &   NA & 1615 &  NA &   NA & 1800 &  NA & MQ & 3301 & N844MQ & LGA & RDU &  NA &  431 & 16 & 15 & 2013-12-31 16:00:00\\\\\n\t 2013 & 12 & 31 &   NA &  600 &  NA &   NA &  735 &  NA & UA &  219 & NA     & EWR & ORD &  NA &  719 &  6 &  0 & 2013-12-31 06:00:00\\\\\n\t 2013 & 12 & 31 &   NA &  830 &  NA &   NA & 1154 &  NA & UA &  443 & NA     & JFK & LAX &  NA & 2475 &  8 & 30 & 2013-12-31 08:00:00\\\\\n\\end{tabular}\n",
            "text/plain": [
              "    year month day dep_time sched_dep_time dep_delay arr_time sched_arr_time\n",
              "1   2013 12    31   13      2359            14        439      437          \n",
              "2   2013 12    31   18      2359            19        449      444          \n",
              "3   2013 12    31   26      2245           101        129     2353          \n",
              "4   2013 12    31  459       500            -1        655      651          \n",
              "5   2013 12    31  514       515            -1        814      812          \n",
              "6   2013 12    31  549       551            -2        925      900          \n",
              "7   2013 12    31  550       600           -10        725      745          \n",
              "8   2013 12    31  552       600            -8        811      826          \n",
              "9   2013 12    31  553       600            -7        741      754          \n",
              "10  2013 12    31  554       550             4       1024     1027          \n",
              "11  2013 12    31  555       600            -5        901      849          \n",
              "12  2013 12    31  555       600            -5        835      831          \n",
              "13  2013 12    31  555       551             4        853      851          \n",
              "14  2013 12    31  556       600            -4        909      846          \n",
              "15  2013 12    31  556       605            -9        808      814          \n",
              "16  2013 12    31  557       603            -6        719      719          \n",
              "17  2013 12    31  558       600            -2        919      905          \n",
              "18  2013 12    31  559       600            -1        917      855          \n",
              "19  2013 12    31  600       540            20        928      850          \n",
              "20  2013 12    31  602       605            -3        744      805          \n",
              "21  2013 12    31  602       605            -3        708      723          \n",
              "22  2013 12    31  603       611            -8       1045     1055          \n",
              "23  2013 12    31  607       600             7        848      825          \n",
              "24  2013 12    31  608       615            -7        812      818          \n",
              "25  2013 12    31  609       610            -1        911      915          \n",
              "26  2013 12    31  609       615            -6        848      850          \n",
              "27  2013 12    31  609       614            -5        755      751          \n",
              "28  2013 12    31  610       615            -5        828      849          \n",
              "29  2013 12    31  616       611             5        933      912          \n",
              "30  2013 12    31  616       630           -14        922      919          \n",
              "⋮   ⋮    ⋮     ⋮   ⋮        ⋮              ⋮         ⋮        ⋮             \n",
              "747 2013 12    31  2155     2039            76        253     2355          \n",
              "748 2013 12    31  2155     2150             5        110       51          \n",
              "749 2013 12    31  2159     2155             4         55       46          \n",
              "750 2013 12    31  2206     2110            56         44     2339          \n",
              "751 2013 12    31  2211     2159            12        100       45          \n",
              "752 2013 12    31  2218     2219            -1        315      304          \n",
              "753 2013 12    31  2235     2245           -10       2351     2355          \n",
              "754 2013 12    31  2245     2250            -5       2359     2356          \n",
              "755 2013 12    31  2310     2255            15          7     2356          \n",
              "756 2013 12    31  2321     2250            31         46        8          \n",
              "757 2013 12    31  2328     2330            -2        412      409          \n",
              "758 2013 12    31  2332     2245            47         58        3          \n",
              "759 2013 12    31  2355     2359            -4        430      440          \n",
              "760 2013 12    31  2356     2359            -3        436      445          \n",
              "761 2013 12    31    NA     1520            NA         NA     1705          \n",
              "762 2013 12    31    NA     2025            NA         NA     2205          \n",
              "763 2013 12    31    NA     1932            NA         NA     2305          \n",
              "764 2013 12    31    NA     1505            NA         NA     1725          \n",
              "765 2013 12    31    NA     1000            NA         NA     1252          \n",
              "766 2013 12    31    NA      840            NA         NA     1205          \n",
              "767 2013 12    31    NA      754            NA         NA     1118          \n",
              "768 2013 12    31    NA     2000            NA         NA     2146          \n",
              "769 2013 12    31    NA     1500            NA         NA     1817          \n",
              "770 2013 12    31    NA     1430            NA         NA     1750          \n",
              "771 2013 12    31    NA      855            NA         NA     1142          \n",
              "772 2013 12    31    NA      705            NA         NA      931          \n",
              "773 2013 12    31    NA      825            NA         NA     1029          \n",
              "774 2013 12    31    NA     1615            NA         NA     1800          \n",
              "775 2013 12    31    NA      600            NA         NA      735          \n",
              "776 2013 12    31    NA      830            NA         NA     1154          \n",
              "    arr_delay carrier flight tailnum origin dest air_time distance hour minute\n",
              "1     2       B6       839   N566JB  JFK    BQN  189      1576     23   59    \n",
              "2     5       DL       412   N713TW  JFK    SJU  192      1598     23   59    \n",
              "3    96       B6       108   N374JB  JFK    PWM   50       273     22   45    \n",
              "4     4       US      1895   N557UW  EWR    CLT   95       529      5    0    \n",
              "5     2       UA       700   N470UA  EWR    IAH  223      1400      5   15    \n",
              "6    25       UA       274   N577UA  EWR    LAX  346      2454      5   51    \n",
              "7   -20       AA       301   N3CXAA  LGA    ORD  127       733      6    0    \n",
              "8   -15       EV      3825   N14916  EWR    IND  118       645      6    0    \n",
              "9   -13       DL       731   N333NB  LGA    DTW   86       502      6    0    \n",
              "10   -3       B6       939   N552JB  JFK    BQN  195      1576      5   50    \n",
              "11   12       B6       353   N746JB  JFK    PBI  167      1028      6    0    \n",
              "12    4       DL       904   N3741S  LGA    ATL  137       762      6    0    \n",
              "13    2       UA       566   N491UA  EWR    TPA  164       997      5   51    \n",
              "14   23       B6       583   N715JB  JFK    MCO  162       944      6    0    \n",
              "15   -6       DL      1919   N958DL  LGA    MSP  160      1020      6    5    \n",
              "16    0       EV      4241   N15574  EWR    DCA   45       199      6    3    \n",
              "17   14       AA      1175   N3JEAA  LGA    MIA  173      1096      6    0    \n",
              "18   22       B6       605   N597JB  EWR    FLL  167      1065      6    0    \n",
              "19   38       AA      2243   N5EMAA  JFK    MIA  171      1089      5   40    \n",
              "20  -21       DL      2505   N358NB  EWR    DTW   87       488      6    5    \n",
              "21  -15       EV      6177   N14543  EWR    IAD   45       212      6    5    \n",
              "22  -10       B6      1403   N547JB  JFK    SJU  198      1598      6   11    \n",
              "23   23       WN      1716   N7740A  LGA    ATL  137       762      6    0    \n",
              "24   -6       US      1963   N192UW  EWR    CLT  106       529      6   15    \n",
              "25   -4       AA      1205   N5DHAA  EWR    MIA  163      1085      6   10    \n",
              "26   -2       DL       404   N392DA  JFK    ATL  133       760      6   15    \n",
              "27    4       EV      3812   N13994  EWR    RDU   81       416      6   14    \n",
              "28  -21       DL       479   N3766   JFK    ATL  119       760      6   15    \n",
              "29   21       B6       601   N643JB  JFK    FLL  173      1069      6   11    \n",
              "30    3       B6      1099   N563JB  LGA    MCO  159       950      6   30    \n",
              "⋮   ⋮         ⋮       ⋮      ⋮       ⋮      ⋮    ⋮        ⋮        ⋮    ⋮     \n",
              "747  NA       B6      1205   N627JB  JFK    PDX   NA      2454     20   39    \n",
              "748  19       B6      1901   N729JB  JFK    FLL  164      1069     21   50    \n",
              "749   9       B6      2053   N593JB  JFK    PBI  155      1028     21   55    \n",
              "750  65       B6       775   N184JB  JFK    MSY  195      1182     21   10    \n",
              "751  15       B6      1183   N715JB  JFK    MCO  148       944     21   59    \n",
              "752  11       B6      1203   N625JB  JFK    SJU  202      1598     22   19    \n",
              "753  -4       B6       234   N355JB  JFK    BTV   49       266     22   45    \n",
              "754   3       B6      1816   N318JB  JFK    SYR   51       209     22   50    \n",
              "755  11       B6       718   N279JB  JFK    BOS   40       187     22   55    \n",
              "756  38       B6      2002   N179JB  JFK    BUF   66       301     22   50    \n",
              "757   3       B6      1389   N651JB  EWR    SJU  198      1608     23   30    \n",
              "758  55       B6       486   N334JB  JFK    ROC   60       264     22   45    \n",
              "759 -10       B6      1503   N509JB  JFK    SJU  195      1598     23   59    \n",
              "760  -9       B6       745   N665JB  JFK    PSE  200      1617     23   59    \n",
              "761  NA       AA       341   N568AA  LGA    ORD   NA       733     15   20    \n",
              "762  NA       AA       371   N482AA  LGA    ORD   NA       733     20   25    \n",
              "763  NA       B6       161   N516JB  JFK    SMF   NA      2521     19   32    \n",
              "764  NA       EV      4181   N24103  EWR    MCI   NA      1092     15    5    \n",
              "765  NA       UA      1124   NA      EWR    EGE   NA      1725     10    0    \n",
              "766  NA       UA      1151   NA      EWR    SEA   NA      2402      8   40    \n",
              "767  NA       UA      1455   NA      EWR    LAX   NA      2454      7   54    \n",
              "768  NA       UA      1482   NA      EWR    ORD   NA       719     20    0    \n",
              "769  NA       UA      1483   NA      EWR    AUS   NA      1504     15    0    \n",
              "770  NA       UA      1493   NA      EWR    LAX   NA      2454     14   30    \n",
              "771  NA       UA      1506   NA      EWR    JAC   NA      1874      8   55    \n",
              "772  NA       UA      1729   NA      EWR    DEN   NA      1605      7    5    \n",
              "773  NA       US      1831   NA      JFK    CLT   NA       541      8   25    \n",
              "774  NA       MQ      3301   N844MQ  LGA    RDU   NA       431     16   15    \n",
              "775  NA       UA       219   NA      EWR    ORD   NA       719      6    0    \n",
              "776  NA       UA       443   NA      JFK    LAX   NA      2475      8   30    \n",
              "    time_hour          \n",
              "1   2013-12-31 23:00:00\n",
              "2   2013-12-31 23:00:00\n",
              "3   2013-12-31 22:00:00\n",
              "4   2013-12-31 05:00:00\n",
              "5   2013-12-31 05:00:00\n",
              "6   2013-12-31 05:00:00\n",
              "7   2013-12-31 06:00:00\n",
              "8   2013-12-31 06:00:00\n",
              "9   2013-12-31 06:00:00\n",
              "10  2013-12-31 05:00:00\n",
              "11  2013-12-31 06:00:00\n",
              "12  2013-12-31 06:00:00\n",
              "13  2013-12-31 05:00:00\n",
              "14  2013-12-31 06:00:00\n",
              "15  2013-12-31 06:00:00\n",
              "16  2013-12-31 06:00:00\n",
              "17  2013-12-31 06:00:00\n",
              "18  2013-12-31 06:00:00\n",
              "19  2013-12-31 05:00:00\n",
              "20  2013-12-31 06:00:00\n",
              "21  2013-12-31 06:00:00\n",
              "22  2013-12-31 06:00:00\n",
              "23  2013-12-31 06:00:00\n",
              "24  2013-12-31 06:00:00\n",
              "25  2013-12-31 06:00:00\n",
              "26  2013-12-31 06:00:00\n",
              "27  2013-12-31 06:00:00\n",
              "28  2013-12-31 06:00:00\n",
              "29  2013-12-31 06:00:00\n",
              "30  2013-12-31 06:00:00\n",
              "⋮   ⋮                  \n",
              "747 2013-12-31 20:00:00\n",
              "748 2013-12-31 21:00:00\n",
              "749 2013-12-31 21:00:00\n",
              "750 2013-12-31 21:00:00\n",
              "751 2013-12-31 21:00:00\n",
              "752 2013-12-31 22:00:00\n",
              "753 2013-12-31 22:00:00\n",
              "754 2013-12-31 22:00:00\n",
              "755 2013-12-31 22:00:00\n",
              "756 2013-12-31 22:00:00\n",
              "757 2013-12-31 23:00:00\n",
              "758 2013-12-31 22:00:00\n",
              "759 2013-12-31 23:00:00\n",
              "760 2013-12-31 23:00:00\n",
              "761 2013-12-31 15:00:00\n",
              "762 2013-12-31 20:00:00\n",
              "763 2013-12-31 19:00:00\n",
              "764 2013-12-31 15:00:00\n",
              "765 2013-12-31 10:00:00\n",
              "766 2013-12-31 08:00:00\n",
              "767 2013-12-31 07:00:00\n",
              "768 2013-12-31 20:00:00\n",
              "769 2013-12-31 15:00:00\n",
              "770 2013-12-31 14:00:00\n",
              "771 2013-12-31 08:00:00\n",
              "772 2013-12-31 07:00:00\n",
              "773 2013-12-31 08:00:00\n",
              "774 2013-12-31 16:00:00\n",
              "775 2013-12-31 06:00:00\n",
              "776 2013-12-31 08:00:00"
            ]
          },
          "metadata": {}
        }
      ]
    },
    {
      "cell_type": "markdown",
      "metadata": {
        "id": "H4FP6WNIRPyY"
      },
      "source": [
        "### 4.2 Función count()\n",
        "\n",
        "Como su nombre lo indica, esta función nos permite contar registros de una tabla. Es de suma utilidad cuando se utiliza dentro de agrupaciones de tablas. Estas últimas las veremos más adelante. \n",
        "\n",
        "Alternativamente, en la librería _dplyr_, contamos con la función `N()` la cual también retorna el conteo de registros."
      ]
    },
    {
      "cell_type": "code",
      "metadata": {
        "trusted": true,
        "id": "LmMG115pRPyY",
        "outputId": "58230f53-ffbf-48d5-b9af-8e7006475ab1",
        "colab": {
          "base_uri": "https://localhost:8080/",
          "height": 867
        }
      },
      "source": [
        "# count() y N() ----------------------------------------------------------------\n",
        "# ¿Cuántos vuelos hay registrados para el 25 de dic?¿y el primero de enero?\n",
        "\n",
        "#flights %>%\n",
        "  # filter(grepl('2013-12-25|2013-01-01', time_hour)) %>%\n",
        "  # filter((month == 12 & day == 25) | (month == 1 & day == 1)) %>%\n",
        "  # filter(month == 12 & (day >= 1 & day <= 25)) %>% # Entre 1 y 25 de Dicimebre\n",
        "  #between((month == 3 & day == 25), (month == 4 & day == 5))# %>% # Entre 25/03 y 05/04\n",
        "  #group_by(month, day) %>%\n",
        "  #count() %>%\n",
        "\n",
        "#between(flights, (flights$month == 3 & flights$day == 25), (flights$month == 4 & flights$day == 5))\n",
        "flights_mutado <- flights %>%\n",
        "  mutate(\n",
        "    nuevo_dia = ifelse(day < 10, paste0('0', day), day),\n",
        "    nuevo_mes = ifelse(month < 10, paste0('0', month), month),\n",
        "    fecha = as.Date(paste(nuevo_dia, nuevo_mes, year, sep='-'), '%d-%m-%Y'))\n",
        "head(flights_mutado)\n",
        "\n",
        "filter(flights_mutado, between(fecha, as.Date('25-03-2013', '%d-%m-%Y'), as.Date('2013-04-05', '%Y-%m-%d'))) %>%# 11461 x 22\n",
        "  group_by(month, day) %>%\n",
        "  count()"
      ],
      "execution_count": 67,
      "outputs": [
        {
          "output_type": "display_data",
          "data": {
            "text/html": [
              "<table class=\"dataframe\">\n",
              "<caption>A data.frame: 6 × 22</caption>\n",
              "<thead>\n",
              "\t<tr><th></th><th scope=col>year</th><th scope=col>month</th><th scope=col>day</th><th scope=col>dep_time</th><th scope=col>sched_dep_time</th><th scope=col>dep_delay</th><th scope=col>arr_time</th><th scope=col>sched_arr_time</th><th scope=col>arr_delay</th><th scope=col>carrier</th><th scope=col>⋯</th><th scope=col>origin</th><th scope=col>dest</th><th scope=col>air_time</th><th scope=col>distance</th><th scope=col>hour</th><th scope=col>minute</th><th scope=col>time_hour</th><th scope=col>nuevo_dia</th><th scope=col>nuevo_mes</th><th scope=col>fecha</th></tr>\n",
              "\t<tr><th></th><th scope=col>&lt;int&gt;</th><th scope=col>&lt;int&gt;</th><th scope=col>&lt;int&gt;</th><th scope=col>&lt;int&gt;</th><th scope=col>&lt;int&gt;</th><th scope=col>&lt;int&gt;</th><th scope=col>&lt;int&gt;</th><th scope=col>&lt;int&gt;</th><th scope=col>&lt;int&gt;</th><th scope=col>&lt;chr&gt;</th><th scope=col>⋯</th><th scope=col>&lt;chr&gt;</th><th scope=col>&lt;chr&gt;</th><th scope=col>&lt;int&gt;</th><th scope=col>&lt;int&gt;</th><th scope=col>&lt;int&gt;</th><th scope=col>&lt;int&gt;</th><th scope=col>&lt;chr&gt;</th><th scope=col>&lt;chr&gt;</th><th scope=col>&lt;chr&gt;</th><th scope=col>&lt;date&gt;</th></tr>\n",
              "</thead>\n",
              "<tbody>\n",
              "\t<tr><th scope=row>1</th><td>2013</td><td>1</td><td>1</td><td>517</td><td>515</td><td> 2</td><td> 830</td><td> 819</td><td> 11</td><td>UA</td><td>⋯</td><td>EWR</td><td>IAH</td><td>227</td><td>1400</td><td>5</td><td>15</td><td>2013-01-01 05:00:00</td><td>01</td><td>01</td><td>2013-01-01</td></tr>\n",
              "\t<tr><th scope=row>2</th><td>2013</td><td>1</td><td>1</td><td>533</td><td>529</td><td> 4</td><td> 850</td><td> 830</td><td> 20</td><td>UA</td><td>⋯</td><td>LGA</td><td>IAH</td><td>227</td><td>1416</td><td>5</td><td>29</td><td>2013-01-01 05:00:00</td><td>01</td><td>01</td><td>2013-01-01</td></tr>\n",
              "\t<tr><th scope=row>3</th><td>2013</td><td>1</td><td>1</td><td>542</td><td>540</td><td> 2</td><td> 923</td><td> 850</td><td> 33</td><td>AA</td><td>⋯</td><td>JFK</td><td>MIA</td><td>160</td><td>1089</td><td>5</td><td>40</td><td>2013-01-01 05:00:00</td><td>01</td><td>01</td><td>2013-01-01</td></tr>\n",
              "\t<tr><th scope=row>4</th><td>2013</td><td>1</td><td>1</td><td>544</td><td>545</td><td>-1</td><td>1004</td><td>1022</td><td>-18</td><td>B6</td><td>⋯</td><td>JFK</td><td>BQN</td><td>183</td><td>1576</td><td>5</td><td>45</td><td>2013-01-01 05:00:00</td><td>01</td><td>01</td><td>2013-01-01</td></tr>\n",
              "\t<tr><th scope=row>5</th><td>2013</td><td>1</td><td>1</td><td>554</td><td>600</td><td>-6</td><td> 812</td><td> 837</td><td>-25</td><td>DL</td><td>⋯</td><td>LGA</td><td>ATL</td><td>116</td><td> 762</td><td>6</td><td> 0</td><td>2013-01-01 06:00:00</td><td>01</td><td>01</td><td>2013-01-01</td></tr>\n",
              "\t<tr><th scope=row>6</th><td>2013</td><td>1</td><td>1</td><td>554</td><td>558</td><td>-4</td><td> 740</td><td> 728</td><td> 12</td><td>UA</td><td>⋯</td><td>EWR</td><td>ORD</td><td>150</td><td> 719</td><td>5</td><td>58</td><td>2013-01-01 05:00:00</td><td>01</td><td>01</td><td>2013-01-01</td></tr>\n",
              "</tbody>\n",
              "</table>\n"
            ],
            "text/markdown": "\nA data.frame: 6 × 22\n\n| <!--/--> | year &lt;int&gt; | month &lt;int&gt; | day &lt;int&gt; | dep_time &lt;int&gt; | sched_dep_time &lt;int&gt; | dep_delay &lt;int&gt; | arr_time &lt;int&gt; | sched_arr_time &lt;int&gt; | arr_delay &lt;int&gt; | carrier &lt;chr&gt; | ⋯ ⋯ | origin &lt;chr&gt; | dest &lt;chr&gt; | air_time &lt;int&gt; | distance &lt;int&gt; | hour &lt;int&gt; | minute &lt;int&gt; | time_hour &lt;chr&gt; | nuevo_dia &lt;chr&gt; | nuevo_mes &lt;chr&gt; | fecha &lt;date&gt; |\n|---|---|---|---|---|---|---|---|---|---|---|---|---|---|---|---|---|---|---|---|---|---|\n| 1 | 2013 | 1 | 1 | 517 | 515 |  2 |  830 |  819 |  11 | UA | ⋯ | EWR | IAH | 227 | 1400 | 5 | 15 | 2013-01-01 05:00:00 | 01 | 01 | 2013-01-01 |\n| 2 | 2013 | 1 | 1 | 533 | 529 |  4 |  850 |  830 |  20 | UA | ⋯ | LGA | IAH | 227 | 1416 | 5 | 29 | 2013-01-01 05:00:00 | 01 | 01 | 2013-01-01 |\n| 3 | 2013 | 1 | 1 | 542 | 540 |  2 |  923 |  850 |  33 | AA | ⋯ | JFK | MIA | 160 | 1089 | 5 | 40 | 2013-01-01 05:00:00 | 01 | 01 | 2013-01-01 |\n| 4 | 2013 | 1 | 1 | 544 | 545 | -1 | 1004 | 1022 | -18 | B6 | ⋯ | JFK | BQN | 183 | 1576 | 5 | 45 | 2013-01-01 05:00:00 | 01 | 01 | 2013-01-01 |\n| 5 | 2013 | 1 | 1 | 554 | 600 | -6 |  812 |  837 | -25 | DL | ⋯ | LGA | ATL | 116 |  762 | 6 |  0 | 2013-01-01 06:00:00 | 01 | 01 | 2013-01-01 |\n| 6 | 2013 | 1 | 1 | 554 | 558 | -4 |  740 |  728 |  12 | UA | ⋯ | EWR | ORD | 150 |  719 | 5 | 58 | 2013-01-01 05:00:00 | 01 | 01 | 2013-01-01 |\n\n",
            "text/latex": "A data.frame: 6 × 22\n\\begin{tabular}{r|lllllllllllllllllllll}\n  & year & month & day & dep\\_time & sched\\_dep\\_time & dep\\_delay & arr\\_time & sched\\_arr\\_time & arr\\_delay & carrier & ⋯ & origin & dest & air\\_time & distance & hour & minute & time\\_hour & nuevo\\_dia & nuevo\\_mes & fecha\\\\\n  & <int> & <int> & <int> & <int> & <int> & <int> & <int> & <int> & <int> & <chr> & ⋯ & <chr> & <chr> & <int> & <int> & <int> & <int> & <chr> & <chr> & <chr> & <date>\\\\\n\\hline\n\t1 & 2013 & 1 & 1 & 517 & 515 &  2 &  830 &  819 &  11 & UA & ⋯ & EWR & IAH & 227 & 1400 & 5 & 15 & 2013-01-01 05:00:00 & 01 & 01 & 2013-01-01\\\\\n\t2 & 2013 & 1 & 1 & 533 & 529 &  4 &  850 &  830 &  20 & UA & ⋯ & LGA & IAH & 227 & 1416 & 5 & 29 & 2013-01-01 05:00:00 & 01 & 01 & 2013-01-01\\\\\n\t3 & 2013 & 1 & 1 & 542 & 540 &  2 &  923 &  850 &  33 & AA & ⋯ & JFK & MIA & 160 & 1089 & 5 & 40 & 2013-01-01 05:00:00 & 01 & 01 & 2013-01-01\\\\\n\t4 & 2013 & 1 & 1 & 544 & 545 & -1 & 1004 & 1022 & -18 & B6 & ⋯ & JFK & BQN & 183 & 1576 & 5 & 45 & 2013-01-01 05:00:00 & 01 & 01 & 2013-01-01\\\\\n\t5 & 2013 & 1 & 1 & 554 & 600 & -6 &  812 &  837 & -25 & DL & ⋯ & LGA & ATL & 116 &  762 & 6 &  0 & 2013-01-01 06:00:00 & 01 & 01 & 2013-01-01\\\\\n\t6 & 2013 & 1 & 1 & 554 & 558 & -4 &  740 &  728 &  12 & UA & ⋯ & EWR & ORD & 150 &  719 & 5 & 58 & 2013-01-01 05:00:00 & 01 & 01 & 2013-01-01\\\\\n\\end{tabular}\n",
            "text/plain": [
              "  year month day dep_time sched_dep_time dep_delay arr_time sched_arr_time\n",
              "1 2013 1     1   517      515             2         830      819          \n",
              "2 2013 1     1   533      529             4         850      830          \n",
              "3 2013 1     1   542      540             2         923      850          \n",
              "4 2013 1     1   544      545            -1        1004     1022          \n",
              "5 2013 1     1   554      600            -6         812      837          \n",
              "6 2013 1     1   554      558            -4         740      728          \n",
              "  arr_delay carrier ⋯ origin dest air_time distance hour minute\n",
              "1  11       UA      ⋯ EWR    IAH  227      1400     5    15    \n",
              "2  20       UA      ⋯ LGA    IAH  227      1416     5    29    \n",
              "3  33       AA      ⋯ JFK    MIA  160      1089     5    40    \n",
              "4 -18       B6      ⋯ JFK    BQN  183      1576     5    45    \n",
              "5 -25       DL      ⋯ LGA    ATL  116       762     6     0    \n",
              "6  12       UA      ⋯ EWR    ORD  150       719     5    58    \n",
              "  time_hour           nuevo_dia nuevo_mes fecha     \n",
              "1 2013-01-01 05:00:00 01        01        2013-01-01\n",
              "2 2013-01-01 05:00:00 01        01        2013-01-01\n",
              "3 2013-01-01 05:00:00 01        01        2013-01-01\n",
              "4 2013-01-01 05:00:00 01        01        2013-01-01\n",
              "5 2013-01-01 06:00:00 01        01        2013-01-01\n",
              "6 2013-01-01 05:00:00 01        01        2013-01-01"
            ]
          },
          "metadata": {}
        },
        {
          "output_type": "display_data",
          "data": {
            "text/html": [
              "<table class=\"dataframe\">\n",
              "<caption>A grouped_df: 12 × 3</caption>\n",
              "<thead>\n",
              "\t<tr><th scope=col>month</th><th scope=col>day</th><th scope=col>n</th></tr>\n",
              "\t<tr><th scope=col>&lt;int&gt;</th><th scope=col>&lt;int&gt;</th><th scope=col>&lt;int&gt;</th></tr>\n",
              "</thead>\n",
              "<tbody>\n",
              "\t<tr><td>3</td><td>25</td><td>978</td></tr>\n",
              "\t<tr><td>3</td><td>26</td><td>973</td></tr>\n",
              "\t<tr><td>3</td><td>27</td><td>977</td></tr>\n",
              "\t<tr><td>3</td><td>28</td><td>982</td></tr>\n",
              "\t<tr><td>3</td><td>29</td><td>974</td></tr>\n",
              "\t<tr><td>3</td><td>30</td><td>769</td></tr>\n",
              "\t<tr><td>3</td><td>31</td><td>897</td></tr>\n",
              "\t<tr><td>4</td><td> 1</td><td>970</td></tr>\n",
              "\t<tr><td>4</td><td> 2</td><td>983</td></tr>\n",
              "\t<tr><td>4</td><td> 3</td><td>992</td></tr>\n",
              "\t<tr><td>4</td><td> 4</td><td>985</td></tr>\n",
              "\t<tr><td>4</td><td> 5</td><td>981</td></tr>\n",
              "</tbody>\n",
              "</table>\n"
            ],
            "text/markdown": "\nA grouped_df: 12 × 3\n\n| month &lt;int&gt; | day &lt;int&gt; | n &lt;int&gt; |\n|---|---|---|\n| 3 | 25 | 978 |\n| 3 | 26 | 973 |\n| 3 | 27 | 977 |\n| 3 | 28 | 982 |\n| 3 | 29 | 974 |\n| 3 | 30 | 769 |\n| 3 | 31 | 897 |\n| 4 |  1 | 970 |\n| 4 |  2 | 983 |\n| 4 |  3 | 992 |\n| 4 |  4 | 985 |\n| 4 |  5 | 981 |\n\n",
            "text/latex": "A grouped\\_df: 12 × 3\n\\begin{tabular}{lll}\n month & day & n\\\\\n <int> & <int> & <int>\\\\\n\\hline\n\t 3 & 25 & 978\\\\\n\t 3 & 26 & 973\\\\\n\t 3 & 27 & 977\\\\\n\t 3 & 28 & 982\\\\\n\t 3 & 29 & 974\\\\\n\t 3 & 30 & 769\\\\\n\t 3 & 31 & 897\\\\\n\t 4 &  1 & 970\\\\\n\t 4 &  2 & 983\\\\\n\t 4 &  3 & 992\\\\\n\t 4 &  4 & 985\\\\\n\t 4 &  5 & 981\\\\\n\\end{tabular}\n",
            "text/plain": [
              "   month day n  \n",
              "1  3     25  978\n",
              "2  3     26  973\n",
              "3  3     27  977\n",
              "4  3     28  982\n",
              "5  3     29  974\n",
              "6  3     30  769\n",
              "7  3     31  897\n",
              "8  4      1  970\n",
              "9  4      2  983\n",
              "10 4      3  992\n",
              "11 4      4  985\n",
              "12 4      5  981"
            ]
          },
          "metadata": {}
        }
      ]
    },
    {
      "cell_type": "code",
      "source": [
        "flights_mutado %>%\n",
        "  mutate(\n",
        "    week = strftime(fecha, format = '%V')\n",
        "  ) %>%\n",
        "  group_by(week) %>%\n",
        "  count()"
      ],
      "metadata": {
        "id": "EghzX07NYXR-",
        "outputId": "92b0af73-4ff7-4fde-9c32-ef51ad715a48",
        "colab": {
          "base_uri": "https://localhost:8080/",
          "height": 1000
        }
      },
      "execution_count": 72,
      "outputs": [
        {
          "output_type": "display_data",
          "data": {
            "text/html": [
              "<table class=\"dataframe\">\n",
              "<caption>A grouped_df: 52 × 2</caption>\n",
              "<thead>\n",
              "\t<tr><th scope=col>week</th><th scope=col>n</th></tr>\n",
              "\t<tr><th scope=col>&lt;chr&gt;</th><th scope=col>&lt;int&gt;</th></tr>\n",
              "</thead>\n",
              "<tbody>\n",
              "\t<tr><td>01</td><td>6910</td></tr>\n",
              "\t<tr><td>02</td><td>6114</td></tr>\n",
              "\t<tr><td>03</td><td>6034</td></tr>\n",
              "\t<tr><td>04</td><td>6049</td></tr>\n",
              "\t<tr><td>05</td><td>6063</td></tr>\n",
              "\t<tr><td>06</td><td>6104</td></tr>\n",
              "\t<tr><td>07</td><td>6236</td></tr>\n",
              "\t<tr><td>08</td><td>6381</td></tr>\n",
              "\t<tr><td>09</td><td>6444</td></tr>\n",
              "\t<tr><td>10</td><td>6546</td></tr>\n",
              "\t<tr><td>11</td><td>6555</td></tr>\n",
              "\t<tr><td>12</td><td>6547</td></tr>\n",
              "\t<tr><td>13</td><td>6550</td></tr>\n",
              "\t<tr><td>14</td><td>6592</td></tr>\n",
              "\t<tr><td>15</td><td>6613</td></tr>\n",
              "\t<tr><td>16</td><td>6622</td></tr>\n",
              "\t<tr><td>17</td><td>6560</td></tr>\n",
              "\t<tr><td>18</td><td>6525</td></tr>\n",
              "\t<tr><td>19</td><td>6493</td></tr>\n",
              "\t<tr><td>20</td><td>6523</td></tr>\n",
              "\t<tr><td>21</td><td>6340</td></tr>\n",
              "\t<tr><td>22</td><td>6523</td></tr>\n",
              "\t<tr><td>23</td><td>6550</td></tr>\n",
              "\t<tr><td>24</td><td>6647</td></tr>\n",
              "\t<tr><td>25</td><td>6680</td></tr>\n",
              "\t<tr><td>26</td><td>6701</td></tr>\n",
              "\t<tr><td>27</td><td>6192</td></tr>\n",
              "\t<tr><td>28</td><td>6759</td></tr>\n",
              "\t<tr><td>29</td><td>6737</td></tr>\n",
              "\t<tr><td>30</td><td>6740</td></tr>\n",
              "\t<tr><td>31</td><td>6734</td></tr>\n",
              "\t<tr><td>32</td><td>6733</td></tr>\n",
              "\t<tr><td>33</td><td>6685</td></tr>\n",
              "\t<tr><td>34</td><td>6628</td></tr>\n",
              "\t<tr><td>35</td><td>6262</td></tr>\n",
              "\t<tr><td>36</td><td>6365</td></tr>\n",
              "\t<tr><td>37</td><td>6473</td></tr>\n",
              "\t<tr><td>38</td><td>6508</td></tr>\n",
              "\t<tr><td>39</td><td>6517</td></tr>\n",
              "\t<tr><td>40</td><td>6527</td></tr>\n",
              "\t<tr><td>41</td><td>6495</td></tr>\n",
              "\t<tr><td>42</td><td>6511</td></tr>\n",
              "\t<tr><td>43</td><td>6506</td></tr>\n",
              "\t<tr><td>44</td><td>6420</td></tr>\n",
              "\t<tr><td>45</td><td>6505</td></tr>\n",
              "\t<tr><td>46</td><td>6515</td></tr>\n",
              "\t<tr><td>47</td><td>6574</td></tr>\n",
              "\t<tr><td>48</td><td>6084</td></tr>\n",
              "\t<tr><td>49</td><td>6440</td></tr>\n",
              "\t<tr><td>50</td><td>6369</td></tr>\n",
              "\t<tr><td>51</td><td>6529</td></tr>\n",
              "\t<tr><td>52</td><td>6066</td></tr>\n",
              "</tbody>\n",
              "</table>\n"
            ],
            "text/markdown": "\nA grouped_df: 52 × 2\n\n| week &lt;chr&gt; | n &lt;int&gt; |\n|---|---|\n| 01 | 6910 |\n| 02 | 6114 |\n| 03 | 6034 |\n| 04 | 6049 |\n| 05 | 6063 |\n| 06 | 6104 |\n| 07 | 6236 |\n| 08 | 6381 |\n| 09 | 6444 |\n| 10 | 6546 |\n| 11 | 6555 |\n| 12 | 6547 |\n| 13 | 6550 |\n| 14 | 6592 |\n| 15 | 6613 |\n| 16 | 6622 |\n| 17 | 6560 |\n| 18 | 6525 |\n| 19 | 6493 |\n| 20 | 6523 |\n| 21 | 6340 |\n| 22 | 6523 |\n| 23 | 6550 |\n| 24 | 6647 |\n| 25 | 6680 |\n| 26 | 6701 |\n| 27 | 6192 |\n| 28 | 6759 |\n| 29 | 6737 |\n| 30 | 6740 |\n| 31 | 6734 |\n| 32 | 6733 |\n| 33 | 6685 |\n| 34 | 6628 |\n| 35 | 6262 |\n| 36 | 6365 |\n| 37 | 6473 |\n| 38 | 6508 |\n| 39 | 6517 |\n| 40 | 6527 |\n| 41 | 6495 |\n| 42 | 6511 |\n| 43 | 6506 |\n| 44 | 6420 |\n| 45 | 6505 |\n| 46 | 6515 |\n| 47 | 6574 |\n| 48 | 6084 |\n| 49 | 6440 |\n| 50 | 6369 |\n| 51 | 6529 |\n| 52 | 6066 |\n\n",
            "text/latex": "A grouped\\_df: 52 × 2\n\\begin{tabular}{ll}\n week & n\\\\\n <chr> & <int>\\\\\n\\hline\n\t 01 & 6910\\\\\n\t 02 & 6114\\\\\n\t 03 & 6034\\\\\n\t 04 & 6049\\\\\n\t 05 & 6063\\\\\n\t 06 & 6104\\\\\n\t 07 & 6236\\\\\n\t 08 & 6381\\\\\n\t 09 & 6444\\\\\n\t 10 & 6546\\\\\n\t 11 & 6555\\\\\n\t 12 & 6547\\\\\n\t 13 & 6550\\\\\n\t 14 & 6592\\\\\n\t 15 & 6613\\\\\n\t 16 & 6622\\\\\n\t 17 & 6560\\\\\n\t 18 & 6525\\\\\n\t 19 & 6493\\\\\n\t 20 & 6523\\\\\n\t 21 & 6340\\\\\n\t 22 & 6523\\\\\n\t 23 & 6550\\\\\n\t 24 & 6647\\\\\n\t 25 & 6680\\\\\n\t 26 & 6701\\\\\n\t 27 & 6192\\\\\n\t 28 & 6759\\\\\n\t 29 & 6737\\\\\n\t 30 & 6740\\\\\n\t 31 & 6734\\\\\n\t 32 & 6733\\\\\n\t 33 & 6685\\\\\n\t 34 & 6628\\\\\n\t 35 & 6262\\\\\n\t 36 & 6365\\\\\n\t 37 & 6473\\\\\n\t 38 & 6508\\\\\n\t 39 & 6517\\\\\n\t 40 & 6527\\\\\n\t 41 & 6495\\\\\n\t 42 & 6511\\\\\n\t 43 & 6506\\\\\n\t 44 & 6420\\\\\n\t 45 & 6505\\\\\n\t 46 & 6515\\\\\n\t 47 & 6574\\\\\n\t 48 & 6084\\\\\n\t 49 & 6440\\\\\n\t 50 & 6369\\\\\n\t 51 & 6529\\\\\n\t 52 & 6066\\\\\n\\end{tabular}\n",
            "text/plain": [
              "   week n   \n",
              "1  01   6910\n",
              "2  02   6114\n",
              "3  03   6034\n",
              "4  04   6049\n",
              "5  05   6063\n",
              "6  06   6104\n",
              "7  07   6236\n",
              "8  08   6381\n",
              "9  09   6444\n",
              "10 10   6546\n",
              "11 11   6555\n",
              "12 12   6547\n",
              "13 13   6550\n",
              "14 14   6592\n",
              "15 15   6613\n",
              "16 16   6622\n",
              "17 17   6560\n",
              "18 18   6525\n",
              "19 19   6493\n",
              "20 20   6523\n",
              "21 21   6340\n",
              "22 22   6523\n",
              "23 23   6550\n",
              "24 24   6647\n",
              "25 25   6680\n",
              "26 26   6701\n",
              "27 27   6192\n",
              "28 28   6759\n",
              "29 29   6737\n",
              "30 30   6740\n",
              "31 31   6734\n",
              "32 32   6733\n",
              "33 33   6685\n",
              "34 34   6628\n",
              "35 35   6262\n",
              "36 36   6365\n",
              "37 37   6473\n",
              "38 38   6508\n",
              "39 39   6517\n",
              "40 40   6527\n",
              "41 41   6495\n",
              "42 42   6511\n",
              "43 43   6506\n",
              "44 44   6420\n",
              "45 45   6505\n",
              "46 46   6515\n",
              "47 47   6574\n",
              "48 48   6084\n",
              "49 49   6440\n",
              "50 50   6369\n",
              "51 51   6529\n",
              "52 52   6066"
            ]
          },
          "metadata": {}
        }
      ]
    },
    {
      "cell_type": "code",
      "metadata": {
        "trusted": true,
        "id": "pvkqzxk3RPyf"
      },
      "source": [
        "#si quisiéramos guardar resgidtros en el disco, una manera es usando write.csv()\n",
        "\n"
      ],
      "execution_count": null,
      "outputs": []
    },
    {
      "cell_type": "code",
      "metadata": {
        "trusted": true,
        "id": "SIuMwcy8RPyh",
        "outputId": "24c6f72f-f1cf-4d18-c6aa-d194bc955b86",
        "colab": {
          "base_uri": "https://localhost:8080/",
          "height": 34
        }
      },
      "source": [
        "# ¿Cuántos vuelos hay registrados entre noviembre y diciembre?¿A qué porcentaje del total corresponde?\n",
        "seleccion <- flights %>% filter(month >= 11)\n",
        "(nrow(seleccion) / nrow(flights)) * 100"
      ],
      "execution_count": 75,
      "outputs": [
        {
          "output_type": "display_data",
          "data": {
            "text/html": [
              "16.4509941325985"
            ],
            "text/markdown": "16.4509941325985",
            "text/latex": "16.4509941325985",
            "text/plain": [
              "[1] 16.45099"
            ]
          },
          "metadata": {}
        }
      ]
    },
    {
      "cell_type": "code",
      "metadata": {
        "trusted": true,
        "id": "3XFpG_fYRPyj",
        "outputId": "a40848f1-27d2-4e54-ffce-d114ecd8e689",
        "colab": {
          "base_uri": "https://localhost:8080/",
          "height": 34
        }
      },
      "source": [
        "# ¿Qué porcentaje de vuelos tienen un retraso  (de salida o llegada) mayor a una hora?\n",
        "\n",
        "#columnas arr_delay o dep_delay\n",
        "retraso <- flights %>% filter(arr_delay > 60 | dep_delay > 60)\n",
        "(nrow(retraso) / nrow(flights))* 100"
      ],
      "execution_count": 76,
      "outputs": [
        {
          "output_type": "display_data",
          "data": {
            "text/html": [
              "9.41426942537473"
            ],
            "text/markdown": "9.41426942537473",
            "text/latex": "9.41426942537473",
            "text/plain": [
              "[1] 9.414269"
            ]
          },
          "metadata": {}
        }
      ]
    },
    {
      "cell_type": "code",
      "metadata": {
        "trusted": true,
        "id": "qnB-hTU-RPyl",
        "outputId": "215127eb-d490-4249-b3e3-b15ed04872bc",
        "colab": {
          "base_uri": "https://localhost:8080/",
          "height": 164
        }
      },
      "source": [
        "# ¿Cuántos vuelos llegaron con al menos dos horas de retraso pero no se retrasaron al partir?\n",
        "flights %>%\n",
        "  filter(arr_delay > 120 & dep_delay <= 0) %>%\n",
        "  count()"
      ],
      "execution_count": 79,
      "outputs": [
        {
          "output_type": "display_data",
          "data": {
            "text/html": [
              "<table class=\"dataframe\">\n",
              "<caption>A data.frame: 1 × 1</caption>\n",
              "<thead>\n",
              "\t<tr><th scope=col>n</th></tr>\n",
              "\t<tr><th scope=col>&lt;int&gt;</th></tr>\n",
              "</thead>\n",
              "<tbody>\n",
              "\t<tr><td>29</td></tr>\n",
              "</tbody>\n",
              "</table>\n"
            ],
            "text/markdown": "\nA data.frame: 1 × 1\n\n| n &lt;int&gt; |\n|---|\n| 29 |\n\n",
            "text/latex": "A data.frame: 1 × 1\n\\begin{tabular}{l}\n n\\\\\n <int>\\\\\n\\hline\n\t 29\\\\\n\\end{tabular}\n",
            "text/plain": [
              "  n \n",
              "1 29"
            ]
          },
          "metadata": {}
        }
      ]
    },
    {
      "cell_type": "markdown",
      "metadata": {
        "id": "zr5FIczKRPym"
      },
      "source": [
        "### 4.3 Función arrange()\n",
        "\n",
        "Esta función nos permite ordernar registros basándose en la indexación de alguna columna. Es el equivalente a la sentencia `order by` en sql. \n",
        "Esta función recibe como argumento principal un dataset a ordenar, y los nombres de las columnas por las cuales se quiere ordenar. Para más información consultar la ayuda de esta función (?arrange)\n"
      ]
    },
    {
      "cell_type": "code",
      "metadata": {
        "trusted": true,
        "id": "aGK8DaZVRPyn"
      },
      "source": [
        "# arrange() ----------------------------------------------------------------\n",
        "# Ejemplo, podemos ordenar la data flights por mes y arr_delay\n",
        "\n"
      ],
      "execution_count": null,
      "outputs": []
    },
    {
      "cell_type": "markdown",
      "metadata": {
        "id": "7HrxhqMGRPyp"
      },
      "source": [
        "### 4.3 Funciones select() y rename()\n",
        "\n",
        "La con la función `select` podemos seleccionar un subconjunto de columas de la tabla original. A difernecia de SQL en esta sentencia no podremos crear nuevas columnas, sólo renombrarlas en algunos casos. Notar que (obviamente) no se mantienen las columnas que no ingresan como argumento a la función.\n",
        "\n",
        "La función rename() permite renombrar columnas existentes, manteniendo las columnas que no se están renombrando."
      ]
    },
    {
      "cell_type": "code",
      "source": [
        "summary(flights)"
      ],
      "metadata": {
        "id": "lNsBSV3ycMDz",
        "outputId": "2065856f-5ba6-49f7-9971-fe0cae89b4aa",
        "colab": {
          "base_uri": "https://localhost:8080/",
          "height": 711
        }
      },
      "execution_count": 80,
      "outputs": [
        {
          "output_type": "display_data",
          "data": {
            "text/plain": [
              "      year          month             day           dep_time    sched_dep_time\n",
              " Min.   :2013   Min.   : 1.000   Min.   : 1.00   Min.   :   1   Min.   : 106  \n",
              " 1st Qu.:2013   1st Qu.: 4.000   1st Qu.: 8.00   1st Qu.: 907   1st Qu.: 906  \n",
              " Median :2013   Median : 7.000   Median :16.00   Median :1401   Median :1359  \n",
              " Mean   :2013   Mean   : 6.549   Mean   :15.71   Mean   :1349   Mean   :1344  \n",
              " 3rd Qu.:2013   3rd Qu.:10.000   3rd Qu.:23.00   3rd Qu.:1744   3rd Qu.:1729  \n",
              " Max.   :2013   Max.   :12.000   Max.   :31.00   Max.   :2400   Max.   :2359  \n",
              "                                                 NA's   :8255                 \n",
              "   dep_delay          arr_time    sched_arr_time   arr_delay       \n",
              " Min.   : -43.00   Min.   :   1   Min.   :   1   Min.   : -86.000  \n",
              " 1st Qu.:  -5.00   1st Qu.:1104   1st Qu.:1124   1st Qu.: -17.000  \n",
              " Median :  -2.00   Median :1535   Median :1556   Median :  -5.000  \n",
              " Mean   :  12.64   Mean   :1502   Mean   :1536   Mean   :   6.895  \n",
              " 3rd Qu.:  11.00   3rd Qu.:1940   3rd Qu.:1945   3rd Qu.:  14.000  \n",
              " Max.   :1301.00   Max.   :2400   Max.   :2359   Max.   :1272.000  \n",
              " NA's   :8255      NA's   :8713                  NA's   :9430      \n",
              "   carrier              flight       tailnum             origin         \n",
              " Length:336776      Min.   :   1   Length:336776      Length:336776     \n",
              " Class :character   1st Qu.: 553   Class :character   Class :character  \n",
              " Mode  :character   Median :1496   Mode  :character   Mode  :character  \n",
              "                    Mean   :1972                                        \n",
              "                    3rd Qu.:3465                                        \n",
              "                    Max.   :8500                                        \n",
              "                                                                        \n",
              "     dest              air_time        distance         hour      \n",
              " Length:336776      Min.   : 20.0   Min.   :  17   Min.   : 1.00  \n",
              " Class :character   1st Qu.: 82.0   1st Qu.: 502   1st Qu.: 9.00  \n",
              " Mode  :character   Median :129.0   Median : 872   Median :13.00  \n",
              "                    Mean   :150.7   Mean   :1040   Mean   :13.18  \n",
              "                    3rd Qu.:192.0   3rd Qu.:1389   3rd Qu.:17.00  \n",
              "                    Max.   :695.0   Max.   :4983   Max.   :23.00  \n",
              "                    NA's   :9430                                  \n",
              "     minute       time_hour        \n",
              " Min.   : 0.00   Length:336776     \n",
              " 1st Qu.: 8.00   Class :character  \n",
              " Median :29.00   Mode  :character  \n",
              " Mean   :26.23                     \n",
              " 3rd Qu.:44.00                     \n",
              " Max.   :59.00                     \n",
              "                                   "
            ]
          },
          "metadata": {}
        }
      ]
    },
    {
      "cell_type": "code",
      "metadata": {
        "trusted": true,
        "id": "he9R_3AURPyp",
        "outputId": "d99e010f-c74d-44f6-9650-6900b5112d8d",
        "colab": {
          "base_uri": "https://localhost:8080/",
          "height": 1000
        }
      },
      "source": [
        "# select() y rename() ----------------------------------------------------------------\n",
        "# Ejemplo: Podemos seleccionar las columnas year, month, day, origin, dest\n",
        "\n",
        "# Cómo lo haríamos con la sintaxis básica? (recorr como acceder a través del nombre a un vector, matrix, lista, o data.frame)\n",
        "\n",
        "flights %>%\n",
        "  rename(\n",
        "    ano = year,\n",
        "    mes = month,\n",
        "    dia = day,\n",
        "    origen = origin)"
      ],
      "execution_count": 88,
      "outputs": [
        {
          "output_type": "display_data",
          "data": {
            "text/html": [
              "<table class=\"dataframe\">\n",
              "<caption>A data.frame: 336776 × 19</caption>\n",
              "<thead>\n",
              "\t<tr><th scope=col>ano</th><th scope=col>mes</th><th scope=col>dia</th><th scope=col>dep_time</th><th scope=col>sched_dep_time</th><th scope=col>dep_delay</th><th scope=col>arr_time</th><th scope=col>sched_arr_time</th><th scope=col>arr_delay</th><th scope=col>carrier</th><th scope=col>flight</th><th scope=col>tailnum</th><th scope=col>origen</th><th scope=col>dest</th><th scope=col>air_time</th><th scope=col>distance</th><th scope=col>hour</th><th scope=col>minute</th><th scope=col>time_hour</th></tr>\n",
              "\t<tr><th scope=col>&lt;int&gt;</th><th scope=col>&lt;int&gt;</th><th scope=col>&lt;int&gt;</th><th scope=col>&lt;int&gt;</th><th scope=col>&lt;int&gt;</th><th scope=col>&lt;int&gt;</th><th scope=col>&lt;int&gt;</th><th scope=col>&lt;int&gt;</th><th scope=col>&lt;int&gt;</th><th scope=col>&lt;chr&gt;</th><th scope=col>&lt;int&gt;</th><th scope=col>&lt;chr&gt;</th><th scope=col>&lt;chr&gt;</th><th scope=col>&lt;chr&gt;</th><th scope=col>&lt;int&gt;</th><th scope=col>&lt;int&gt;</th><th scope=col>&lt;int&gt;</th><th scope=col>&lt;int&gt;</th><th scope=col>&lt;chr&gt;</th></tr>\n",
              "</thead>\n",
              "<tbody>\n",
              "\t<tr><td>2013</td><td>1</td><td>1</td><td>517</td><td>515</td><td> 2</td><td> 830</td><td> 819</td><td> 11</td><td>UA</td><td>1545</td><td>N14228</td><td>EWR</td><td>IAH</td><td>227</td><td>1400</td><td>5</td><td>15</td><td>2013-01-01 05:00:00</td></tr>\n",
              "\t<tr><td>2013</td><td>1</td><td>1</td><td>533</td><td>529</td><td> 4</td><td> 850</td><td> 830</td><td> 20</td><td>UA</td><td>1714</td><td>N24211</td><td>LGA</td><td>IAH</td><td>227</td><td>1416</td><td>5</td><td>29</td><td>2013-01-01 05:00:00</td></tr>\n",
              "\t<tr><td>2013</td><td>1</td><td>1</td><td>542</td><td>540</td><td> 2</td><td> 923</td><td> 850</td><td> 33</td><td>AA</td><td>1141</td><td>N619AA</td><td>JFK</td><td>MIA</td><td>160</td><td>1089</td><td>5</td><td>40</td><td>2013-01-01 05:00:00</td></tr>\n",
              "\t<tr><td>2013</td><td>1</td><td>1</td><td>544</td><td>545</td><td>-1</td><td>1004</td><td>1022</td><td>-18</td><td>B6</td><td> 725</td><td>N804JB</td><td>JFK</td><td>BQN</td><td>183</td><td>1576</td><td>5</td><td>45</td><td>2013-01-01 05:00:00</td></tr>\n",
              "\t<tr><td>2013</td><td>1</td><td>1</td><td>554</td><td>600</td><td>-6</td><td> 812</td><td> 837</td><td>-25</td><td>DL</td><td> 461</td><td>N668DN</td><td>LGA</td><td>ATL</td><td>116</td><td> 762</td><td>6</td><td> 0</td><td>2013-01-01 06:00:00</td></tr>\n",
              "\t<tr><td>2013</td><td>1</td><td>1</td><td>554</td><td>558</td><td>-4</td><td> 740</td><td> 728</td><td> 12</td><td>UA</td><td>1696</td><td>N39463</td><td>EWR</td><td>ORD</td><td>150</td><td> 719</td><td>5</td><td>58</td><td>2013-01-01 05:00:00</td></tr>\n",
              "\t<tr><td>2013</td><td>1</td><td>1</td><td>555</td><td>600</td><td>-5</td><td> 913</td><td> 854</td><td> 19</td><td>B6</td><td> 507</td><td>N516JB</td><td>EWR</td><td>FLL</td><td>158</td><td>1065</td><td>6</td><td> 0</td><td>2013-01-01 06:00:00</td></tr>\n",
              "\t<tr><td>2013</td><td>1</td><td>1</td><td>557</td><td>600</td><td>-3</td><td> 709</td><td> 723</td><td>-14</td><td>EV</td><td>5708</td><td>N829AS</td><td>LGA</td><td>IAD</td><td> 53</td><td> 229</td><td>6</td><td> 0</td><td>2013-01-01 06:00:00</td></tr>\n",
              "\t<tr><td>2013</td><td>1</td><td>1</td><td>557</td><td>600</td><td>-3</td><td> 838</td><td> 846</td><td> -8</td><td>B6</td><td>  79</td><td>N593JB</td><td>JFK</td><td>MCO</td><td>140</td><td> 944</td><td>6</td><td> 0</td><td>2013-01-01 06:00:00</td></tr>\n",
              "\t<tr><td>2013</td><td>1</td><td>1</td><td>558</td><td>600</td><td>-2</td><td> 753</td><td> 745</td><td>  8</td><td>AA</td><td> 301</td><td>N3ALAA</td><td>LGA</td><td>ORD</td><td>138</td><td> 733</td><td>6</td><td> 0</td><td>2013-01-01 06:00:00</td></tr>\n",
              "\t<tr><td>2013</td><td>1</td><td>1</td><td>558</td><td>600</td><td>-2</td><td> 849</td><td> 851</td><td> -2</td><td>B6</td><td>  49</td><td>N793JB</td><td>JFK</td><td>PBI</td><td>149</td><td>1028</td><td>6</td><td> 0</td><td>2013-01-01 06:00:00</td></tr>\n",
              "\t<tr><td>2013</td><td>1</td><td>1</td><td>558</td><td>600</td><td>-2</td><td> 853</td><td> 856</td><td> -3</td><td>B6</td><td>  71</td><td>N657JB</td><td>JFK</td><td>TPA</td><td>158</td><td>1005</td><td>6</td><td> 0</td><td>2013-01-01 06:00:00</td></tr>\n",
              "\t<tr><td>2013</td><td>1</td><td>1</td><td>558</td><td>600</td><td>-2</td><td> 924</td><td> 917</td><td>  7</td><td>UA</td><td> 194</td><td>N29129</td><td>JFK</td><td>LAX</td><td>345</td><td>2475</td><td>6</td><td> 0</td><td>2013-01-01 06:00:00</td></tr>\n",
              "\t<tr><td>2013</td><td>1</td><td>1</td><td>558</td><td>600</td><td>-2</td><td> 923</td><td> 937</td><td>-14</td><td>UA</td><td>1124</td><td>N53441</td><td>EWR</td><td>SFO</td><td>361</td><td>2565</td><td>6</td><td> 0</td><td>2013-01-01 06:00:00</td></tr>\n",
              "\t<tr><td>2013</td><td>1</td><td>1</td><td>559</td><td>600</td><td>-1</td><td> 941</td><td> 910</td><td> 31</td><td>AA</td><td> 707</td><td>N3DUAA</td><td>LGA</td><td>DFW</td><td>257</td><td>1389</td><td>6</td><td> 0</td><td>2013-01-01 06:00:00</td></tr>\n",
              "\t<tr><td>2013</td><td>1</td><td>1</td><td>559</td><td>559</td><td> 0</td><td> 702</td><td> 706</td><td> -4</td><td>B6</td><td>1806</td><td>N708JB</td><td>JFK</td><td>BOS</td><td> 44</td><td> 187</td><td>5</td><td>59</td><td>2013-01-01 05:00:00</td></tr>\n",
              "\t<tr><td>2013</td><td>1</td><td>1</td><td>559</td><td>600</td><td>-1</td><td> 854</td><td> 902</td><td> -8</td><td>UA</td><td>1187</td><td>N76515</td><td>EWR</td><td>LAS</td><td>337</td><td>2227</td><td>6</td><td> 0</td><td>2013-01-01 06:00:00</td></tr>\n",
              "\t<tr><td>2013</td><td>1</td><td>1</td><td>600</td><td>600</td><td> 0</td><td> 851</td><td> 858</td><td> -7</td><td>B6</td><td> 371</td><td>N595JB</td><td>LGA</td><td>FLL</td><td>152</td><td>1076</td><td>6</td><td> 0</td><td>2013-01-01 06:00:00</td></tr>\n",
              "\t<tr><td>2013</td><td>1</td><td>1</td><td>600</td><td>600</td><td> 0</td><td> 837</td><td> 825</td><td> 12</td><td>MQ</td><td>4650</td><td>N542MQ</td><td>LGA</td><td>ATL</td><td>134</td><td> 762</td><td>6</td><td> 0</td><td>2013-01-01 06:00:00</td></tr>\n",
              "\t<tr><td>2013</td><td>1</td><td>1</td><td>601</td><td>600</td><td> 1</td><td> 844</td><td> 850</td><td> -6</td><td>B6</td><td> 343</td><td>N644JB</td><td>EWR</td><td>PBI</td><td>147</td><td>1023</td><td>6</td><td> 0</td><td>2013-01-01 06:00:00</td></tr>\n",
              "\t<tr><td>2013</td><td>1</td><td>1</td><td>602</td><td>610</td><td>-8</td><td> 812</td><td> 820</td><td> -8</td><td>DL</td><td>1919</td><td>N971DL</td><td>LGA</td><td>MSP</td><td>170</td><td>1020</td><td>6</td><td>10</td><td>2013-01-01 06:00:00</td></tr>\n",
              "\t<tr><td>2013</td><td>1</td><td>1</td><td>602</td><td>605</td><td>-3</td><td> 821</td><td> 805</td><td> 16</td><td>MQ</td><td>4401</td><td>N730MQ</td><td>LGA</td><td>DTW</td><td>105</td><td> 502</td><td>6</td><td> 5</td><td>2013-01-01 06:00:00</td></tr>\n",
              "\t<tr><td>2013</td><td>1</td><td>1</td><td>606</td><td>610</td><td>-4</td><td> 858</td><td> 910</td><td>-12</td><td>AA</td><td>1895</td><td>N633AA</td><td>EWR</td><td>MIA</td><td>152</td><td>1085</td><td>6</td><td>10</td><td>2013-01-01 06:00:00</td></tr>\n",
              "\t<tr><td>2013</td><td>1</td><td>1</td><td>606</td><td>610</td><td>-4</td><td> 837</td><td> 845</td><td> -8</td><td>DL</td><td>1743</td><td>N3739P</td><td>JFK</td><td>ATL</td><td>128</td><td> 760</td><td>6</td><td>10</td><td>2013-01-01 06:00:00</td></tr>\n",
              "\t<tr><td>2013</td><td>1</td><td>1</td><td>607</td><td>607</td><td> 0</td><td> 858</td><td> 915</td><td>-17</td><td>UA</td><td>1077</td><td>N53442</td><td>EWR</td><td>MIA</td><td>157</td><td>1085</td><td>6</td><td> 7</td><td>2013-01-01 06:00:00</td></tr>\n",
              "\t<tr><td>2013</td><td>1</td><td>1</td><td>608</td><td>600</td><td> 8</td><td> 807</td><td> 735</td><td> 32</td><td>MQ</td><td>3768</td><td>N9EAMQ</td><td>EWR</td><td>ORD</td><td>139</td><td> 719</td><td>6</td><td> 0</td><td>2013-01-01 06:00:00</td></tr>\n",
              "\t<tr><td>2013</td><td>1</td><td>1</td><td>611</td><td>600</td><td>11</td><td> 945</td><td> 931</td><td> 14</td><td>UA</td><td> 303</td><td>N532UA</td><td>JFK</td><td>SFO</td><td>366</td><td>2586</td><td>6</td><td> 0</td><td>2013-01-01 06:00:00</td></tr>\n",
              "\t<tr><td>2013</td><td>1</td><td>1</td><td>613</td><td>610</td><td> 3</td><td> 925</td><td> 921</td><td>  4</td><td>B6</td><td> 135</td><td>N635JB</td><td>JFK</td><td>RSW</td><td>175</td><td>1074</td><td>6</td><td>10</td><td>2013-01-01 06:00:00</td></tr>\n",
              "\t<tr><td>2013</td><td>1</td><td>1</td><td>615</td><td>615</td><td> 0</td><td>1039</td><td>1100</td><td>-21</td><td>B6</td><td> 709</td><td>N794JB</td><td>JFK</td><td>SJU</td><td>182</td><td>1598</td><td>6</td><td>15</td><td>2013-01-01 06:00:00</td></tr>\n",
              "\t<tr><td>2013</td><td>1</td><td>1</td><td>615</td><td>615</td><td> 0</td><td> 833</td><td> 842</td><td> -9</td><td>DL</td><td> 575</td><td>N326NB</td><td>EWR</td><td>ATL</td><td>120</td><td> 746</td><td>6</td><td>15</td><td>2013-01-01 06:00:00</td></tr>\n",
              "\t<tr><td>⋮</td><td>⋮</td><td>⋮</td><td>⋮</td><td>⋮</td><td>⋮</td><td>⋮</td><td>⋮</td><td>⋮</td><td>⋮</td><td>⋮</td><td>⋮</td><td>⋮</td><td>⋮</td><td>⋮</td><td>⋮</td><td>⋮</td><td>⋮</td><td>⋮</td></tr>\n",
              "\t<tr><td>2013</td><td>9</td><td>30</td><td>2123</td><td>2125</td><td> -2</td><td>2223</td><td>2247</td><td>-24</td><td>EV</td><td>5489</td><td>N712EV</td><td>LGA</td><td>CHO</td><td> 45</td><td> 305</td><td>21</td><td>25</td><td>2013-09-30 21:00:00</td></tr>\n",
              "\t<tr><td>2013</td><td>9</td><td>30</td><td>2127</td><td>2129</td><td> -2</td><td>2314</td><td>2323</td><td> -9</td><td>EV</td><td>3833</td><td>N16546</td><td>EWR</td><td>CLT</td><td> 72</td><td> 529</td><td>21</td><td>29</td><td>2013-09-30 21:00:00</td></tr>\n",
              "\t<tr><td>2013</td><td>9</td><td>30</td><td>2128</td><td>2130</td><td> -2</td><td>2328</td><td>2359</td><td>-31</td><td>B6</td><td>  97</td><td>N807JB</td><td>JFK</td><td>DEN</td><td>213</td><td>1626</td><td>21</td><td>30</td><td>2013-09-30 21:00:00</td></tr>\n",
              "\t<tr><td>2013</td><td>9</td><td>30</td><td>2129</td><td>2059</td><td> 30</td><td>2230</td><td>2232</td><td> -2</td><td>EV</td><td>5048</td><td>N751EV</td><td>LGA</td><td>RIC</td><td> 45</td><td> 292</td><td>20</td><td>59</td><td>2013-09-30 20:00:00</td></tr>\n",
              "\t<tr><td>2013</td><td>9</td><td>30</td><td>2131</td><td>2140</td><td> -9</td><td>2225</td><td>2255</td><td>-30</td><td>MQ</td><td>3621</td><td>N807MQ</td><td>JFK</td><td>DCA</td><td> 36</td><td> 213</td><td>21</td><td>40</td><td>2013-09-30 21:00:00</td></tr>\n",
              "\t<tr><td>2013</td><td>9</td><td>30</td><td>2140</td><td>2140</td><td>  0</td><td>  10</td><td>  40</td><td>-30</td><td>AA</td><td> 185</td><td>N335AA</td><td>JFK</td><td>LAX</td><td>298</td><td>2475</td><td>21</td><td>40</td><td>2013-09-30 21:00:00</td></tr>\n",
              "\t<tr><td>2013</td><td>9</td><td>30</td><td>2142</td><td>2129</td><td> 13</td><td>2250</td><td>2239</td><td> 11</td><td>EV</td><td>4509</td><td>N12957</td><td>EWR</td><td>PWM</td><td> 47</td><td> 284</td><td>21</td><td>29</td><td>2013-09-30 21:00:00</td></tr>\n",
              "\t<tr><td>2013</td><td>9</td><td>30</td><td>2145</td><td>2145</td><td>  0</td><td> 115</td><td> 140</td><td>-25</td><td>B6</td><td>1103</td><td>N633JB</td><td>JFK</td><td>SJU</td><td>192</td><td>1598</td><td>21</td><td>45</td><td>2013-09-30 21:00:00</td></tr>\n",
              "\t<tr><td>2013</td><td>9</td><td>30</td><td>2147</td><td>2137</td><td> 10</td><td>  30</td><td>  27</td><td>  3</td><td>B6</td><td>1371</td><td>N627JB</td><td>LGA</td><td>FLL</td><td>139</td><td>1076</td><td>21</td><td>37</td><td>2013-09-30 21:00:00</td></tr>\n",
              "\t<tr><td>2013</td><td>9</td><td>30</td><td>2149</td><td>2156</td><td> -7</td><td>2245</td><td>2308</td><td>-23</td><td>UA</td><td> 523</td><td>N813UA</td><td>EWR</td><td>BOS</td><td> 37</td><td> 200</td><td>21</td><td>56</td><td>2013-09-30 21:00:00</td></tr>\n",
              "\t<tr><td>2013</td><td>9</td><td>30</td><td>2150</td><td>2159</td><td> -9</td><td>2250</td><td>2306</td><td>-16</td><td>EV</td><td>3842</td><td>N10575</td><td>EWR</td><td>MHT</td><td> 39</td><td> 209</td><td>21</td><td>59</td><td>2013-09-30 21:00:00</td></tr>\n",
              "\t<tr><td>2013</td><td>9</td><td>30</td><td>2159</td><td>1845</td><td>194</td><td>2344</td><td>2030</td><td>194</td><td>9E</td><td>3320</td><td>N906XJ</td><td>JFK</td><td>BUF</td><td> 50</td><td> 301</td><td>18</td><td>45</td><td>2013-09-30 18:00:00</td></tr>\n",
              "\t<tr><td>2013</td><td>9</td><td>30</td><td>2203</td><td>2205</td><td> -2</td><td>2339</td><td>2331</td><td>  8</td><td>EV</td><td>5311</td><td>N722EV</td><td>LGA</td><td>BGR</td><td> 61</td><td> 378</td><td>22</td><td> 5</td><td>2013-09-30 22:00:00</td></tr>\n",
              "\t<tr><td>2013</td><td>9</td><td>30</td><td>2207</td><td>2140</td><td> 27</td><td>2257</td><td>2250</td><td>  7</td><td>MQ</td><td>3660</td><td>N532MQ</td><td>LGA</td><td>BNA</td><td> 97</td><td> 764</td><td>21</td><td>40</td><td>2013-09-30 21:00:00</td></tr>\n",
              "\t<tr><td>2013</td><td>9</td><td>30</td><td>2211</td><td>2059</td><td> 72</td><td>2339</td><td>2242</td><td> 57</td><td>EV</td><td>4672</td><td>N12145</td><td>EWR</td><td>STL</td><td>120</td><td> 872</td><td>20</td><td>59</td><td>2013-09-30 20:00:00</td></tr>\n",
              "\t<tr><td>2013</td><td>9</td><td>30</td><td>2231</td><td>2245</td><td>-14</td><td>2335</td><td>2356</td><td>-21</td><td>B6</td><td> 108</td><td>N193JB</td><td>JFK</td><td>PWM</td><td> 48</td><td> 273</td><td>22</td><td>45</td><td>2013-09-30 22:00:00</td></tr>\n",
              "\t<tr><td>2013</td><td>9</td><td>30</td><td>2233</td><td>2113</td><td> 80</td><td> 112</td><td>  30</td><td> 42</td><td>UA</td><td> 471</td><td>N578UA</td><td>EWR</td><td>SFO</td><td>318</td><td>2565</td><td>21</td><td>13</td><td>2013-09-30 21:00:00</td></tr>\n",
              "\t<tr><td>2013</td><td>9</td><td>30</td><td>2235</td><td>2001</td><td>154</td><td>  59</td><td>2249</td><td>130</td><td>B6</td><td>1083</td><td>N804JB</td><td>JFK</td><td>MCO</td><td>123</td><td> 944</td><td>20</td><td> 1</td><td>2013-09-30 20:00:00</td></tr>\n",
              "\t<tr><td>2013</td><td>9</td><td>30</td><td>2237</td><td>2245</td><td> -8</td><td>2345</td><td>2353</td><td> -8</td><td>B6</td><td> 234</td><td>N318JB</td><td>JFK</td><td>BTV</td><td> 43</td><td> 266</td><td>22</td><td>45</td><td>2013-09-30 22:00:00</td></tr>\n",
              "\t<tr><td>2013</td><td>9</td><td>30</td><td>2240</td><td>2245</td><td> -5</td><td>2334</td><td>2351</td><td>-17</td><td>B6</td><td>1816</td><td>N354JB</td><td>JFK</td><td>SYR</td><td> 41</td><td> 209</td><td>22</td><td>45</td><td>2013-09-30 22:00:00</td></tr>\n",
              "\t<tr><td>2013</td><td>9</td><td>30</td><td>2240</td><td>2250</td><td>-10</td><td>2347</td><td>   7</td><td>-20</td><td>B6</td><td>2002</td><td>N281JB</td><td>JFK</td><td>BUF</td><td> 52</td><td> 301</td><td>22</td><td>50</td><td>2013-09-30 22:00:00</td></tr>\n",
              "\t<tr><td>2013</td><td>9</td><td>30</td><td>2241</td><td>2246</td><td> -5</td><td>2345</td><td>   1</td><td>-16</td><td>B6</td><td> 486</td><td>N346JB</td><td>JFK</td><td>ROC</td><td> 47</td><td> 264</td><td>22</td><td>46</td><td>2013-09-30 22:00:00</td></tr>\n",
              "\t<tr><td>2013</td><td>9</td><td>30</td><td>2307</td><td>2255</td><td> 12</td><td>2359</td><td>2358</td><td>  1</td><td>B6</td><td> 718</td><td>N565JB</td><td>JFK</td><td>BOS</td><td> 33</td><td> 187</td><td>22</td><td>55</td><td>2013-09-30 22:00:00</td></tr>\n",
              "\t<tr><td>2013</td><td>9</td><td>30</td><td>2349</td><td>2359</td><td>-10</td><td> 325</td><td> 350</td><td>-25</td><td>B6</td><td> 745</td><td>N516JB</td><td>JFK</td><td>PSE</td><td>196</td><td>1617</td><td>23</td><td>59</td><td>2013-09-30 23:00:00</td></tr>\n",
              "\t<tr><td>2013</td><td>9</td><td>30</td><td>  NA</td><td>1842</td><td> NA</td><td>  NA</td><td>2019</td><td> NA</td><td>EV</td><td>5274</td><td>N740EV</td><td>LGA</td><td>BNA</td><td> NA</td><td> 764</td><td>18</td><td>42</td><td>2013-09-30 18:00:00</td></tr>\n",
              "\t<tr><td>2013</td><td>9</td><td>30</td><td>  NA</td><td>1455</td><td> NA</td><td>  NA</td><td>1634</td><td> NA</td><td>9E</td><td>3393</td><td>NA    </td><td>JFK</td><td>DCA</td><td> NA</td><td> 213</td><td>14</td><td>55</td><td>2013-09-30 14:00:00</td></tr>\n",
              "\t<tr><td>2013</td><td>9</td><td>30</td><td>  NA</td><td>2200</td><td> NA</td><td>  NA</td><td>2312</td><td> NA</td><td>9E</td><td>3525</td><td>NA    </td><td>LGA</td><td>SYR</td><td> NA</td><td> 198</td><td>22</td><td> 0</td><td>2013-09-30 22:00:00</td></tr>\n",
              "\t<tr><td>2013</td><td>9</td><td>30</td><td>  NA</td><td>1210</td><td> NA</td><td>  NA</td><td>1330</td><td> NA</td><td>MQ</td><td>3461</td><td>N535MQ</td><td>LGA</td><td>BNA</td><td> NA</td><td> 764</td><td>12</td><td>10</td><td>2013-09-30 12:00:00</td></tr>\n",
              "\t<tr><td>2013</td><td>9</td><td>30</td><td>  NA</td><td>1159</td><td> NA</td><td>  NA</td><td>1344</td><td> NA</td><td>MQ</td><td>3572</td><td>N511MQ</td><td>LGA</td><td>CLE</td><td> NA</td><td> 419</td><td>11</td><td>59</td><td>2013-09-30 11:00:00</td></tr>\n",
              "\t<tr><td>2013</td><td>9</td><td>30</td><td>  NA</td><td> 840</td><td> NA</td><td>  NA</td><td>1020</td><td> NA</td><td>MQ</td><td>3531</td><td>N839MQ</td><td>LGA</td><td>RDU</td><td> NA</td><td> 431</td><td> 8</td><td>40</td><td>2013-09-30 08:00:00</td></tr>\n",
              "</tbody>\n",
              "</table>\n"
            ],
            "text/markdown": "\nA data.frame: 336776 × 19\n\n| ano &lt;int&gt; | mes &lt;int&gt; | dia &lt;int&gt; | dep_time &lt;int&gt; | sched_dep_time &lt;int&gt; | dep_delay &lt;int&gt; | arr_time &lt;int&gt; | sched_arr_time &lt;int&gt; | arr_delay &lt;int&gt; | carrier &lt;chr&gt; | flight &lt;int&gt; | tailnum &lt;chr&gt; | origen &lt;chr&gt; | dest &lt;chr&gt; | air_time &lt;int&gt; | distance &lt;int&gt; | hour &lt;int&gt; | minute &lt;int&gt; | time_hour &lt;chr&gt; |\n|---|---|---|---|---|---|---|---|---|---|---|---|---|---|---|---|---|---|---|\n| 2013 | 1 | 1 | 517 | 515 |  2 |  830 |  819 |  11 | UA | 1545 | N14228 | EWR | IAH | 227 | 1400 | 5 | 15 | 2013-01-01 05:00:00 |\n| 2013 | 1 | 1 | 533 | 529 |  4 |  850 |  830 |  20 | UA | 1714 | N24211 | LGA | IAH | 227 | 1416 | 5 | 29 | 2013-01-01 05:00:00 |\n| 2013 | 1 | 1 | 542 | 540 |  2 |  923 |  850 |  33 | AA | 1141 | N619AA | JFK | MIA | 160 | 1089 | 5 | 40 | 2013-01-01 05:00:00 |\n| 2013 | 1 | 1 | 544 | 545 | -1 | 1004 | 1022 | -18 | B6 |  725 | N804JB | JFK | BQN | 183 | 1576 | 5 | 45 | 2013-01-01 05:00:00 |\n| 2013 | 1 | 1 | 554 | 600 | -6 |  812 |  837 | -25 | DL |  461 | N668DN | LGA | ATL | 116 |  762 | 6 |  0 | 2013-01-01 06:00:00 |\n| 2013 | 1 | 1 | 554 | 558 | -4 |  740 |  728 |  12 | UA | 1696 | N39463 | EWR | ORD | 150 |  719 | 5 | 58 | 2013-01-01 05:00:00 |\n| 2013 | 1 | 1 | 555 | 600 | -5 |  913 |  854 |  19 | B6 |  507 | N516JB | EWR | FLL | 158 | 1065 | 6 |  0 | 2013-01-01 06:00:00 |\n| 2013 | 1 | 1 | 557 | 600 | -3 |  709 |  723 | -14 | EV | 5708 | N829AS | LGA | IAD |  53 |  229 | 6 |  0 | 2013-01-01 06:00:00 |\n| 2013 | 1 | 1 | 557 | 600 | -3 |  838 |  846 |  -8 | B6 |   79 | N593JB | JFK | MCO | 140 |  944 | 6 |  0 | 2013-01-01 06:00:00 |\n| 2013 | 1 | 1 | 558 | 600 | -2 |  753 |  745 |   8 | AA |  301 | N3ALAA | LGA | ORD | 138 |  733 | 6 |  0 | 2013-01-01 06:00:00 |\n| 2013 | 1 | 1 | 558 | 600 | -2 |  849 |  851 |  -2 | B6 |   49 | N793JB | JFK | PBI | 149 | 1028 | 6 |  0 | 2013-01-01 06:00:00 |\n| 2013 | 1 | 1 | 558 | 600 | -2 |  853 |  856 |  -3 | B6 |   71 | N657JB | JFK | TPA | 158 | 1005 | 6 |  0 | 2013-01-01 06:00:00 |\n| 2013 | 1 | 1 | 558 | 600 | -2 |  924 |  917 |   7 | UA |  194 | N29129 | JFK | LAX | 345 | 2475 | 6 |  0 | 2013-01-01 06:00:00 |\n| 2013 | 1 | 1 | 558 | 600 | -2 |  923 |  937 | -14 | UA | 1124 | N53441 | EWR | SFO | 361 | 2565 | 6 |  0 | 2013-01-01 06:00:00 |\n| 2013 | 1 | 1 | 559 | 600 | -1 |  941 |  910 |  31 | AA |  707 | N3DUAA | LGA | DFW | 257 | 1389 | 6 |  0 | 2013-01-01 06:00:00 |\n| 2013 | 1 | 1 | 559 | 559 |  0 |  702 |  706 |  -4 | B6 | 1806 | N708JB | JFK | BOS |  44 |  187 | 5 | 59 | 2013-01-01 05:00:00 |\n| 2013 | 1 | 1 | 559 | 600 | -1 |  854 |  902 |  -8 | UA | 1187 | N76515 | EWR | LAS | 337 | 2227 | 6 |  0 | 2013-01-01 06:00:00 |\n| 2013 | 1 | 1 | 600 | 600 |  0 |  851 |  858 |  -7 | B6 |  371 | N595JB | LGA | FLL | 152 | 1076 | 6 |  0 | 2013-01-01 06:00:00 |\n| 2013 | 1 | 1 | 600 | 600 |  0 |  837 |  825 |  12 | MQ | 4650 | N542MQ | LGA | ATL | 134 |  762 | 6 |  0 | 2013-01-01 06:00:00 |\n| 2013 | 1 | 1 | 601 | 600 |  1 |  844 |  850 |  -6 | B6 |  343 | N644JB | EWR | PBI | 147 | 1023 | 6 |  0 | 2013-01-01 06:00:00 |\n| 2013 | 1 | 1 | 602 | 610 | -8 |  812 |  820 |  -8 | DL | 1919 | N971DL | LGA | MSP | 170 | 1020 | 6 | 10 | 2013-01-01 06:00:00 |\n| 2013 | 1 | 1 | 602 | 605 | -3 |  821 |  805 |  16 | MQ | 4401 | N730MQ | LGA | DTW | 105 |  502 | 6 |  5 | 2013-01-01 06:00:00 |\n| 2013 | 1 | 1 | 606 | 610 | -4 |  858 |  910 | -12 | AA | 1895 | N633AA | EWR | MIA | 152 | 1085 | 6 | 10 | 2013-01-01 06:00:00 |\n| 2013 | 1 | 1 | 606 | 610 | -4 |  837 |  845 |  -8 | DL | 1743 | N3739P | JFK | ATL | 128 |  760 | 6 | 10 | 2013-01-01 06:00:00 |\n| 2013 | 1 | 1 | 607 | 607 |  0 |  858 |  915 | -17 | UA | 1077 | N53442 | EWR | MIA | 157 | 1085 | 6 |  7 | 2013-01-01 06:00:00 |\n| 2013 | 1 | 1 | 608 | 600 |  8 |  807 |  735 |  32 | MQ | 3768 | N9EAMQ | EWR | ORD | 139 |  719 | 6 |  0 | 2013-01-01 06:00:00 |\n| 2013 | 1 | 1 | 611 | 600 | 11 |  945 |  931 |  14 | UA |  303 | N532UA | JFK | SFO | 366 | 2586 | 6 |  0 | 2013-01-01 06:00:00 |\n| 2013 | 1 | 1 | 613 | 610 |  3 |  925 |  921 |   4 | B6 |  135 | N635JB | JFK | RSW | 175 | 1074 | 6 | 10 | 2013-01-01 06:00:00 |\n| 2013 | 1 | 1 | 615 | 615 |  0 | 1039 | 1100 | -21 | B6 |  709 | N794JB | JFK | SJU | 182 | 1598 | 6 | 15 | 2013-01-01 06:00:00 |\n| 2013 | 1 | 1 | 615 | 615 |  0 |  833 |  842 |  -9 | DL |  575 | N326NB | EWR | ATL | 120 |  746 | 6 | 15 | 2013-01-01 06:00:00 |\n| ⋮ | ⋮ | ⋮ | ⋮ | ⋮ | ⋮ | ⋮ | ⋮ | ⋮ | ⋮ | ⋮ | ⋮ | ⋮ | ⋮ | ⋮ | ⋮ | ⋮ | ⋮ | ⋮ |\n| 2013 | 9 | 30 | 2123 | 2125 |  -2 | 2223 | 2247 | -24 | EV | 5489 | N712EV | LGA | CHO |  45 |  305 | 21 | 25 | 2013-09-30 21:00:00 |\n| 2013 | 9 | 30 | 2127 | 2129 |  -2 | 2314 | 2323 |  -9 | EV | 3833 | N16546 | EWR | CLT |  72 |  529 | 21 | 29 | 2013-09-30 21:00:00 |\n| 2013 | 9 | 30 | 2128 | 2130 |  -2 | 2328 | 2359 | -31 | B6 |   97 | N807JB | JFK | DEN | 213 | 1626 | 21 | 30 | 2013-09-30 21:00:00 |\n| 2013 | 9 | 30 | 2129 | 2059 |  30 | 2230 | 2232 |  -2 | EV | 5048 | N751EV | LGA | RIC |  45 |  292 | 20 | 59 | 2013-09-30 20:00:00 |\n| 2013 | 9 | 30 | 2131 | 2140 |  -9 | 2225 | 2255 | -30 | MQ | 3621 | N807MQ | JFK | DCA |  36 |  213 | 21 | 40 | 2013-09-30 21:00:00 |\n| 2013 | 9 | 30 | 2140 | 2140 |   0 |   10 |   40 | -30 | AA |  185 | N335AA | JFK | LAX | 298 | 2475 | 21 | 40 | 2013-09-30 21:00:00 |\n| 2013 | 9 | 30 | 2142 | 2129 |  13 | 2250 | 2239 |  11 | EV | 4509 | N12957 | EWR | PWM |  47 |  284 | 21 | 29 | 2013-09-30 21:00:00 |\n| 2013 | 9 | 30 | 2145 | 2145 |   0 |  115 |  140 | -25 | B6 | 1103 | N633JB | JFK | SJU | 192 | 1598 | 21 | 45 | 2013-09-30 21:00:00 |\n| 2013 | 9 | 30 | 2147 | 2137 |  10 |   30 |   27 |   3 | B6 | 1371 | N627JB | LGA | FLL | 139 | 1076 | 21 | 37 | 2013-09-30 21:00:00 |\n| 2013 | 9 | 30 | 2149 | 2156 |  -7 | 2245 | 2308 | -23 | UA |  523 | N813UA | EWR | BOS |  37 |  200 | 21 | 56 | 2013-09-30 21:00:00 |\n| 2013 | 9 | 30 | 2150 | 2159 |  -9 | 2250 | 2306 | -16 | EV | 3842 | N10575 | EWR | MHT |  39 |  209 | 21 | 59 | 2013-09-30 21:00:00 |\n| 2013 | 9 | 30 | 2159 | 1845 | 194 | 2344 | 2030 | 194 | 9E | 3320 | N906XJ | JFK | BUF |  50 |  301 | 18 | 45 | 2013-09-30 18:00:00 |\n| 2013 | 9 | 30 | 2203 | 2205 |  -2 | 2339 | 2331 |   8 | EV | 5311 | N722EV | LGA | BGR |  61 |  378 | 22 |  5 | 2013-09-30 22:00:00 |\n| 2013 | 9 | 30 | 2207 | 2140 |  27 | 2257 | 2250 |   7 | MQ | 3660 | N532MQ | LGA | BNA |  97 |  764 | 21 | 40 | 2013-09-30 21:00:00 |\n| 2013 | 9 | 30 | 2211 | 2059 |  72 | 2339 | 2242 |  57 | EV | 4672 | N12145 | EWR | STL | 120 |  872 | 20 | 59 | 2013-09-30 20:00:00 |\n| 2013 | 9 | 30 | 2231 | 2245 | -14 | 2335 | 2356 | -21 | B6 |  108 | N193JB | JFK | PWM |  48 |  273 | 22 | 45 | 2013-09-30 22:00:00 |\n| 2013 | 9 | 30 | 2233 | 2113 |  80 |  112 |   30 |  42 | UA |  471 | N578UA | EWR | SFO | 318 | 2565 | 21 | 13 | 2013-09-30 21:00:00 |\n| 2013 | 9 | 30 | 2235 | 2001 | 154 |   59 | 2249 | 130 | B6 | 1083 | N804JB | JFK | MCO | 123 |  944 | 20 |  1 | 2013-09-30 20:00:00 |\n| 2013 | 9 | 30 | 2237 | 2245 |  -8 | 2345 | 2353 |  -8 | B6 |  234 | N318JB | JFK | BTV |  43 |  266 | 22 | 45 | 2013-09-30 22:00:00 |\n| 2013 | 9 | 30 | 2240 | 2245 |  -5 | 2334 | 2351 | -17 | B6 | 1816 | N354JB | JFK | SYR |  41 |  209 | 22 | 45 | 2013-09-30 22:00:00 |\n| 2013 | 9 | 30 | 2240 | 2250 | -10 | 2347 |    7 | -20 | B6 | 2002 | N281JB | JFK | BUF |  52 |  301 | 22 | 50 | 2013-09-30 22:00:00 |\n| 2013 | 9 | 30 | 2241 | 2246 |  -5 | 2345 |    1 | -16 | B6 |  486 | N346JB | JFK | ROC |  47 |  264 | 22 | 46 | 2013-09-30 22:00:00 |\n| 2013 | 9 | 30 | 2307 | 2255 |  12 | 2359 | 2358 |   1 | B6 |  718 | N565JB | JFK | BOS |  33 |  187 | 22 | 55 | 2013-09-30 22:00:00 |\n| 2013 | 9 | 30 | 2349 | 2359 | -10 |  325 |  350 | -25 | B6 |  745 | N516JB | JFK | PSE | 196 | 1617 | 23 | 59 | 2013-09-30 23:00:00 |\n| 2013 | 9 | 30 |   NA | 1842 |  NA |   NA | 2019 |  NA | EV | 5274 | N740EV | LGA | BNA |  NA |  764 | 18 | 42 | 2013-09-30 18:00:00 |\n| 2013 | 9 | 30 |   NA | 1455 |  NA |   NA | 1634 |  NA | 9E | 3393 | NA     | JFK | DCA |  NA |  213 | 14 | 55 | 2013-09-30 14:00:00 |\n| 2013 | 9 | 30 |   NA | 2200 |  NA |   NA | 2312 |  NA | 9E | 3525 | NA     | LGA | SYR |  NA |  198 | 22 |  0 | 2013-09-30 22:00:00 |\n| 2013 | 9 | 30 |   NA | 1210 |  NA |   NA | 1330 |  NA | MQ | 3461 | N535MQ | LGA | BNA |  NA |  764 | 12 | 10 | 2013-09-30 12:00:00 |\n| 2013 | 9 | 30 |   NA | 1159 |  NA |   NA | 1344 |  NA | MQ | 3572 | N511MQ | LGA | CLE |  NA |  419 | 11 | 59 | 2013-09-30 11:00:00 |\n| 2013 | 9 | 30 |   NA |  840 |  NA |   NA | 1020 |  NA | MQ | 3531 | N839MQ | LGA | RDU |  NA |  431 |  8 | 40 | 2013-09-30 08:00:00 |\n\n",
            "text/latex": "A data.frame: 336776 × 19\n\\begin{tabular}{lllllllllllllllllll}\n ano & mes & dia & dep\\_time & sched\\_dep\\_time & dep\\_delay & arr\\_time & sched\\_arr\\_time & arr\\_delay & carrier & flight & tailnum & origen & dest & air\\_time & distance & hour & minute & time\\_hour\\\\\n <int> & <int> & <int> & <int> & <int> & <int> & <int> & <int> & <int> & <chr> & <int> & <chr> & <chr> & <chr> & <int> & <int> & <int> & <int> & <chr>\\\\\n\\hline\n\t 2013 & 1 & 1 & 517 & 515 &  2 &  830 &  819 &  11 & UA & 1545 & N14228 & EWR & IAH & 227 & 1400 & 5 & 15 & 2013-01-01 05:00:00\\\\\n\t 2013 & 1 & 1 & 533 & 529 &  4 &  850 &  830 &  20 & UA & 1714 & N24211 & LGA & IAH & 227 & 1416 & 5 & 29 & 2013-01-01 05:00:00\\\\\n\t 2013 & 1 & 1 & 542 & 540 &  2 &  923 &  850 &  33 & AA & 1141 & N619AA & JFK & MIA & 160 & 1089 & 5 & 40 & 2013-01-01 05:00:00\\\\\n\t 2013 & 1 & 1 & 544 & 545 & -1 & 1004 & 1022 & -18 & B6 &  725 & N804JB & JFK & BQN & 183 & 1576 & 5 & 45 & 2013-01-01 05:00:00\\\\\n\t 2013 & 1 & 1 & 554 & 600 & -6 &  812 &  837 & -25 & DL &  461 & N668DN & LGA & ATL & 116 &  762 & 6 &  0 & 2013-01-01 06:00:00\\\\\n\t 2013 & 1 & 1 & 554 & 558 & -4 &  740 &  728 &  12 & UA & 1696 & N39463 & EWR & ORD & 150 &  719 & 5 & 58 & 2013-01-01 05:00:00\\\\\n\t 2013 & 1 & 1 & 555 & 600 & -5 &  913 &  854 &  19 & B6 &  507 & N516JB & EWR & FLL & 158 & 1065 & 6 &  0 & 2013-01-01 06:00:00\\\\\n\t 2013 & 1 & 1 & 557 & 600 & -3 &  709 &  723 & -14 & EV & 5708 & N829AS & LGA & IAD &  53 &  229 & 6 &  0 & 2013-01-01 06:00:00\\\\\n\t 2013 & 1 & 1 & 557 & 600 & -3 &  838 &  846 &  -8 & B6 &   79 & N593JB & JFK & MCO & 140 &  944 & 6 &  0 & 2013-01-01 06:00:00\\\\\n\t 2013 & 1 & 1 & 558 & 600 & -2 &  753 &  745 &   8 & AA &  301 & N3ALAA & LGA & ORD & 138 &  733 & 6 &  0 & 2013-01-01 06:00:00\\\\\n\t 2013 & 1 & 1 & 558 & 600 & -2 &  849 &  851 &  -2 & B6 &   49 & N793JB & JFK & PBI & 149 & 1028 & 6 &  0 & 2013-01-01 06:00:00\\\\\n\t 2013 & 1 & 1 & 558 & 600 & -2 &  853 &  856 &  -3 & B6 &   71 & N657JB & JFK & TPA & 158 & 1005 & 6 &  0 & 2013-01-01 06:00:00\\\\\n\t 2013 & 1 & 1 & 558 & 600 & -2 &  924 &  917 &   7 & UA &  194 & N29129 & JFK & LAX & 345 & 2475 & 6 &  0 & 2013-01-01 06:00:00\\\\\n\t 2013 & 1 & 1 & 558 & 600 & -2 &  923 &  937 & -14 & UA & 1124 & N53441 & EWR & SFO & 361 & 2565 & 6 &  0 & 2013-01-01 06:00:00\\\\\n\t 2013 & 1 & 1 & 559 & 600 & -1 &  941 &  910 &  31 & AA &  707 & N3DUAA & LGA & DFW & 257 & 1389 & 6 &  0 & 2013-01-01 06:00:00\\\\\n\t 2013 & 1 & 1 & 559 & 559 &  0 &  702 &  706 &  -4 & B6 & 1806 & N708JB & JFK & BOS &  44 &  187 & 5 & 59 & 2013-01-01 05:00:00\\\\\n\t 2013 & 1 & 1 & 559 & 600 & -1 &  854 &  902 &  -8 & UA & 1187 & N76515 & EWR & LAS & 337 & 2227 & 6 &  0 & 2013-01-01 06:00:00\\\\\n\t 2013 & 1 & 1 & 600 & 600 &  0 &  851 &  858 &  -7 & B6 &  371 & N595JB & LGA & FLL & 152 & 1076 & 6 &  0 & 2013-01-01 06:00:00\\\\\n\t 2013 & 1 & 1 & 600 & 600 &  0 &  837 &  825 &  12 & MQ & 4650 & N542MQ & LGA & ATL & 134 &  762 & 6 &  0 & 2013-01-01 06:00:00\\\\\n\t 2013 & 1 & 1 & 601 & 600 &  1 &  844 &  850 &  -6 & B6 &  343 & N644JB & EWR & PBI & 147 & 1023 & 6 &  0 & 2013-01-01 06:00:00\\\\\n\t 2013 & 1 & 1 & 602 & 610 & -8 &  812 &  820 &  -8 & DL & 1919 & N971DL & LGA & MSP & 170 & 1020 & 6 & 10 & 2013-01-01 06:00:00\\\\\n\t 2013 & 1 & 1 & 602 & 605 & -3 &  821 &  805 &  16 & MQ & 4401 & N730MQ & LGA & DTW & 105 &  502 & 6 &  5 & 2013-01-01 06:00:00\\\\\n\t 2013 & 1 & 1 & 606 & 610 & -4 &  858 &  910 & -12 & AA & 1895 & N633AA & EWR & MIA & 152 & 1085 & 6 & 10 & 2013-01-01 06:00:00\\\\\n\t 2013 & 1 & 1 & 606 & 610 & -4 &  837 &  845 &  -8 & DL & 1743 & N3739P & JFK & ATL & 128 &  760 & 6 & 10 & 2013-01-01 06:00:00\\\\\n\t 2013 & 1 & 1 & 607 & 607 &  0 &  858 &  915 & -17 & UA & 1077 & N53442 & EWR & MIA & 157 & 1085 & 6 &  7 & 2013-01-01 06:00:00\\\\\n\t 2013 & 1 & 1 & 608 & 600 &  8 &  807 &  735 &  32 & MQ & 3768 & N9EAMQ & EWR & ORD & 139 &  719 & 6 &  0 & 2013-01-01 06:00:00\\\\\n\t 2013 & 1 & 1 & 611 & 600 & 11 &  945 &  931 &  14 & UA &  303 & N532UA & JFK & SFO & 366 & 2586 & 6 &  0 & 2013-01-01 06:00:00\\\\\n\t 2013 & 1 & 1 & 613 & 610 &  3 &  925 &  921 &   4 & B6 &  135 & N635JB & JFK & RSW & 175 & 1074 & 6 & 10 & 2013-01-01 06:00:00\\\\\n\t 2013 & 1 & 1 & 615 & 615 &  0 & 1039 & 1100 & -21 & B6 &  709 & N794JB & JFK & SJU & 182 & 1598 & 6 & 15 & 2013-01-01 06:00:00\\\\\n\t 2013 & 1 & 1 & 615 & 615 &  0 &  833 &  842 &  -9 & DL &  575 & N326NB & EWR & ATL & 120 &  746 & 6 & 15 & 2013-01-01 06:00:00\\\\\n\t ⋮ & ⋮ & ⋮ & ⋮ & ⋮ & ⋮ & ⋮ & ⋮ & ⋮ & ⋮ & ⋮ & ⋮ & ⋮ & ⋮ & ⋮ & ⋮ & ⋮ & ⋮ & ⋮\\\\\n\t 2013 & 9 & 30 & 2123 & 2125 &  -2 & 2223 & 2247 & -24 & EV & 5489 & N712EV & LGA & CHO &  45 &  305 & 21 & 25 & 2013-09-30 21:00:00\\\\\n\t 2013 & 9 & 30 & 2127 & 2129 &  -2 & 2314 & 2323 &  -9 & EV & 3833 & N16546 & EWR & CLT &  72 &  529 & 21 & 29 & 2013-09-30 21:00:00\\\\\n\t 2013 & 9 & 30 & 2128 & 2130 &  -2 & 2328 & 2359 & -31 & B6 &   97 & N807JB & JFK & DEN & 213 & 1626 & 21 & 30 & 2013-09-30 21:00:00\\\\\n\t 2013 & 9 & 30 & 2129 & 2059 &  30 & 2230 & 2232 &  -2 & EV & 5048 & N751EV & LGA & RIC &  45 &  292 & 20 & 59 & 2013-09-30 20:00:00\\\\\n\t 2013 & 9 & 30 & 2131 & 2140 &  -9 & 2225 & 2255 & -30 & MQ & 3621 & N807MQ & JFK & DCA &  36 &  213 & 21 & 40 & 2013-09-30 21:00:00\\\\\n\t 2013 & 9 & 30 & 2140 & 2140 &   0 &   10 &   40 & -30 & AA &  185 & N335AA & JFK & LAX & 298 & 2475 & 21 & 40 & 2013-09-30 21:00:00\\\\\n\t 2013 & 9 & 30 & 2142 & 2129 &  13 & 2250 & 2239 &  11 & EV & 4509 & N12957 & EWR & PWM &  47 &  284 & 21 & 29 & 2013-09-30 21:00:00\\\\\n\t 2013 & 9 & 30 & 2145 & 2145 &   0 &  115 &  140 & -25 & B6 & 1103 & N633JB & JFK & SJU & 192 & 1598 & 21 & 45 & 2013-09-30 21:00:00\\\\\n\t 2013 & 9 & 30 & 2147 & 2137 &  10 &   30 &   27 &   3 & B6 & 1371 & N627JB & LGA & FLL & 139 & 1076 & 21 & 37 & 2013-09-30 21:00:00\\\\\n\t 2013 & 9 & 30 & 2149 & 2156 &  -7 & 2245 & 2308 & -23 & UA &  523 & N813UA & EWR & BOS &  37 &  200 & 21 & 56 & 2013-09-30 21:00:00\\\\\n\t 2013 & 9 & 30 & 2150 & 2159 &  -9 & 2250 & 2306 & -16 & EV & 3842 & N10575 & EWR & MHT &  39 &  209 & 21 & 59 & 2013-09-30 21:00:00\\\\\n\t 2013 & 9 & 30 & 2159 & 1845 & 194 & 2344 & 2030 & 194 & 9E & 3320 & N906XJ & JFK & BUF &  50 &  301 & 18 & 45 & 2013-09-30 18:00:00\\\\\n\t 2013 & 9 & 30 & 2203 & 2205 &  -2 & 2339 & 2331 &   8 & EV & 5311 & N722EV & LGA & BGR &  61 &  378 & 22 &  5 & 2013-09-30 22:00:00\\\\\n\t 2013 & 9 & 30 & 2207 & 2140 &  27 & 2257 & 2250 &   7 & MQ & 3660 & N532MQ & LGA & BNA &  97 &  764 & 21 & 40 & 2013-09-30 21:00:00\\\\\n\t 2013 & 9 & 30 & 2211 & 2059 &  72 & 2339 & 2242 &  57 & EV & 4672 & N12145 & EWR & STL & 120 &  872 & 20 & 59 & 2013-09-30 20:00:00\\\\\n\t 2013 & 9 & 30 & 2231 & 2245 & -14 & 2335 & 2356 & -21 & B6 &  108 & N193JB & JFK & PWM &  48 &  273 & 22 & 45 & 2013-09-30 22:00:00\\\\\n\t 2013 & 9 & 30 & 2233 & 2113 &  80 &  112 &   30 &  42 & UA &  471 & N578UA & EWR & SFO & 318 & 2565 & 21 & 13 & 2013-09-30 21:00:00\\\\\n\t 2013 & 9 & 30 & 2235 & 2001 & 154 &   59 & 2249 & 130 & B6 & 1083 & N804JB & JFK & MCO & 123 &  944 & 20 &  1 & 2013-09-30 20:00:00\\\\\n\t 2013 & 9 & 30 & 2237 & 2245 &  -8 & 2345 & 2353 &  -8 & B6 &  234 & N318JB & JFK & BTV &  43 &  266 & 22 & 45 & 2013-09-30 22:00:00\\\\\n\t 2013 & 9 & 30 & 2240 & 2245 &  -5 & 2334 & 2351 & -17 & B6 & 1816 & N354JB & JFK & SYR &  41 &  209 & 22 & 45 & 2013-09-30 22:00:00\\\\\n\t 2013 & 9 & 30 & 2240 & 2250 & -10 & 2347 &    7 & -20 & B6 & 2002 & N281JB & JFK & BUF &  52 &  301 & 22 & 50 & 2013-09-30 22:00:00\\\\\n\t 2013 & 9 & 30 & 2241 & 2246 &  -5 & 2345 &    1 & -16 & B6 &  486 & N346JB & JFK & ROC &  47 &  264 & 22 & 46 & 2013-09-30 22:00:00\\\\\n\t 2013 & 9 & 30 & 2307 & 2255 &  12 & 2359 & 2358 &   1 & B6 &  718 & N565JB & JFK & BOS &  33 &  187 & 22 & 55 & 2013-09-30 22:00:00\\\\\n\t 2013 & 9 & 30 & 2349 & 2359 & -10 &  325 &  350 & -25 & B6 &  745 & N516JB & JFK & PSE & 196 & 1617 & 23 & 59 & 2013-09-30 23:00:00\\\\\n\t 2013 & 9 & 30 &   NA & 1842 &  NA &   NA & 2019 &  NA & EV & 5274 & N740EV & LGA & BNA &  NA &  764 & 18 & 42 & 2013-09-30 18:00:00\\\\\n\t 2013 & 9 & 30 &   NA & 1455 &  NA &   NA & 1634 &  NA & 9E & 3393 & NA     & JFK & DCA &  NA &  213 & 14 & 55 & 2013-09-30 14:00:00\\\\\n\t 2013 & 9 & 30 &   NA & 2200 &  NA &   NA & 2312 &  NA & 9E & 3525 & NA     & LGA & SYR &  NA &  198 & 22 &  0 & 2013-09-30 22:00:00\\\\\n\t 2013 & 9 & 30 &   NA & 1210 &  NA &   NA & 1330 &  NA & MQ & 3461 & N535MQ & LGA & BNA &  NA &  764 & 12 & 10 & 2013-09-30 12:00:00\\\\\n\t 2013 & 9 & 30 &   NA & 1159 &  NA &   NA & 1344 &  NA & MQ & 3572 & N511MQ & LGA & CLE &  NA &  419 & 11 & 59 & 2013-09-30 11:00:00\\\\\n\t 2013 & 9 & 30 &   NA &  840 &  NA &   NA & 1020 &  NA & MQ & 3531 & N839MQ & LGA & RDU &  NA &  431 &  8 & 40 & 2013-09-30 08:00:00\\\\\n\\end{tabular}\n",
            "text/plain": [
              "       ano  mes dia dep_time sched_dep_time dep_delay arr_time sched_arr_time\n",
              "1      2013 1   1   517      515             2         830      819          \n",
              "2      2013 1   1   533      529             4         850      830          \n",
              "3      2013 1   1   542      540             2         923      850          \n",
              "4      2013 1   1   544      545            -1        1004     1022          \n",
              "5      2013 1   1   554      600            -6         812      837          \n",
              "6      2013 1   1   554      558            -4         740      728          \n",
              "7      2013 1   1   555      600            -5         913      854          \n",
              "8      2013 1   1   557      600            -3         709      723          \n",
              "9      2013 1   1   557      600            -3         838      846          \n",
              "10     2013 1   1   558      600            -2         753      745          \n",
              "11     2013 1   1   558      600            -2         849      851          \n",
              "12     2013 1   1   558      600            -2         853      856          \n",
              "13     2013 1   1   558      600            -2         924      917          \n",
              "14     2013 1   1   558      600            -2         923      937          \n",
              "15     2013 1   1   559      600            -1         941      910          \n",
              "16     2013 1   1   559      559             0         702      706          \n",
              "17     2013 1   1   559      600            -1         854      902          \n",
              "18     2013 1   1   600      600             0         851      858          \n",
              "19     2013 1   1   600      600             0         837      825          \n",
              "20     2013 1   1   601      600             1         844      850          \n",
              "21     2013 1   1   602      610            -8         812      820          \n",
              "22     2013 1   1   602      605            -3         821      805          \n",
              "23     2013 1   1   606      610            -4         858      910          \n",
              "24     2013 1   1   606      610            -4         837      845          \n",
              "25     2013 1   1   607      607             0         858      915          \n",
              "26     2013 1   1   608      600             8         807      735          \n",
              "27     2013 1   1   611      600            11         945      931          \n",
              "28     2013 1   1   613      610             3         925      921          \n",
              "29     2013 1   1   615      615             0        1039     1100          \n",
              "30     2013 1   1   615      615             0         833      842          \n",
              "⋮      ⋮    ⋮   ⋮   ⋮        ⋮              ⋮         ⋮        ⋮             \n",
              "336747 2013 9   30  2123     2125            -2       2223     2247          \n",
              "336748 2013 9   30  2127     2129            -2       2314     2323          \n",
              "336749 2013 9   30  2128     2130            -2       2328     2359          \n",
              "336750 2013 9   30  2129     2059            30       2230     2232          \n",
              "336751 2013 9   30  2131     2140            -9       2225     2255          \n",
              "336752 2013 9   30  2140     2140             0         10       40          \n",
              "336753 2013 9   30  2142     2129            13       2250     2239          \n",
              "336754 2013 9   30  2145     2145             0        115      140          \n",
              "336755 2013 9   30  2147     2137            10         30       27          \n",
              "336756 2013 9   30  2149     2156            -7       2245     2308          \n",
              "336757 2013 9   30  2150     2159            -9       2250     2306          \n",
              "336758 2013 9   30  2159     1845           194       2344     2030          \n",
              "336759 2013 9   30  2203     2205            -2       2339     2331          \n",
              "336760 2013 9   30  2207     2140            27       2257     2250          \n",
              "336761 2013 9   30  2211     2059            72       2339     2242          \n",
              "336762 2013 9   30  2231     2245           -14       2335     2356          \n",
              "336763 2013 9   30  2233     2113            80        112       30          \n",
              "336764 2013 9   30  2235     2001           154         59     2249          \n",
              "336765 2013 9   30  2237     2245            -8       2345     2353          \n",
              "336766 2013 9   30  2240     2245            -5       2334     2351          \n",
              "336767 2013 9   30  2240     2250           -10       2347        7          \n",
              "336768 2013 9   30  2241     2246            -5       2345        1          \n",
              "336769 2013 9   30  2307     2255            12       2359     2358          \n",
              "336770 2013 9   30  2349     2359           -10        325      350          \n",
              "336771 2013 9   30    NA     1842            NA         NA     2019          \n",
              "336772 2013 9   30    NA     1455            NA         NA     1634          \n",
              "336773 2013 9   30    NA     2200            NA         NA     2312          \n",
              "336774 2013 9   30    NA     1210            NA         NA     1330          \n",
              "336775 2013 9   30    NA     1159            NA         NA     1344          \n",
              "336776 2013 9   30    NA      840            NA         NA     1020          \n",
              "       arr_delay carrier flight tailnum origen dest air_time distance hour\n",
              "1       11       UA      1545   N14228  EWR    IAH  227      1400     5   \n",
              "2       20       UA      1714   N24211  LGA    IAH  227      1416     5   \n",
              "3       33       AA      1141   N619AA  JFK    MIA  160      1089     5   \n",
              "4      -18       B6       725   N804JB  JFK    BQN  183      1576     5   \n",
              "5      -25       DL       461   N668DN  LGA    ATL  116       762     6   \n",
              "6       12       UA      1696   N39463  EWR    ORD  150       719     5   \n",
              "7       19       B6       507   N516JB  EWR    FLL  158      1065     6   \n",
              "8      -14       EV      5708   N829AS  LGA    IAD   53       229     6   \n",
              "9       -8       B6        79   N593JB  JFK    MCO  140       944     6   \n",
              "10       8       AA       301   N3ALAA  LGA    ORD  138       733     6   \n",
              "11      -2       B6        49   N793JB  JFK    PBI  149      1028     6   \n",
              "12      -3       B6        71   N657JB  JFK    TPA  158      1005     6   \n",
              "13       7       UA       194   N29129  JFK    LAX  345      2475     6   \n",
              "14     -14       UA      1124   N53441  EWR    SFO  361      2565     6   \n",
              "15      31       AA       707   N3DUAA  LGA    DFW  257      1389     6   \n",
              "16      -4       B6      1806   N708JB  JFK    BOS   44       187     5   \n",
              "17      -8       UA      1187   N76515  EWR    LAS  337      2227     6   \n",
              "18      -7       B6       371   N595JB  LGA    FLL  152      1076     6   \n",
              "19      12       MQ      4650   N542MQ  LGA    ATL  134       762     6   \n",
              "20      -6       B6       343   N644JB  EWR    PBI  147      1023     6   \n",
              "21      -8       DL      1919   N971DL  LGA    MSP  170      1020     6   \n",
              "22      16       MQ      4401   N730MQ  LGA    DTW  105       502     6   \n",
              "23     -12       AA      1895   N633AA  EWR    MIA  152      1085     6   \n",
              "24      -8       DL      1743   N3739P  JFK    ATL  128       760     6   \n",
              "25     -17       UA      1077   N53442  EWR    MIA  157      1085     6   \n",
              "26      32       MQ      3768   N9EAMQ  EWR    ORD  139       719     6   \n",
              "27      14       UA       303   N532UA  JFK    SFO  366      2586     6   \n",
              "28       4       B6       135   N635JB  JFK    RSW  175      1074     6   \n",
              "29     -21       B6       709   N794JB  JFK    SJU  182      1598     6   \n",
              "30      -9       DL       575   N326NB  EWR    ATL  120       746     6   \n",
              "⋮      ⋮         ⋮       ⋮      ⋮       ⋮      ⋮    ⋮        ⋮        ⋮   \n",
              "336747 -24       EV      5489   N712EV  LGA    CHO   45       305     21  \n",
              "336748  -9       EV      3833   N16546  EWR    CLT   72       529     21  \n",
              "336749 -31       B6        97   N807JB  JFK    DEN  213      1626     21  \n",
              "336750  -2       EV      5048   N751EV  LGA    RIC   45       292     20  \n",
              "336751 -30       MQ      3621   N807MQ  JFK    DCA   36       213     21  \n",
              "336752 -30       AA       185   N335AA  JFK    LAX  298      2475     21  \n",
              "336753  11       EV      4509   N12957  EWR    PWM   47       284     21  \n",
              "336754 -25       B6      1103   N633JB  JFK    SJU  192      1598     21  \n",
              "336755   3       B6      1371   N627JB  LGA    FLL  139      1076     21  \n",
              "336756 -23       UA       523   N813UA  EWR    BOS   37       200     21  \n",
              "336757 -16       EV      3842   N10575  EWR    MHT   39       209     21  \n",
              "336758 194       9E      3320   N906XJ  JFK    BUF   50       301     18  \n",
              "336759   8       EV      5311   N722EV  LGA    BGR   61       378     22  \n",
              "336760   7       MQ      3660   N532MQ  LGA    BNA   97       764     21  \n",
              "336761  57       EV      4672   N12145  EWR    STL  120       872     20  \n",
              "336762 -21       B6       108   N193JB  JFK    PWM   48       273     22  \n",
              "336763  42       UA       471   N578UA  EWR    SFO  318      2565     21  \n",
              "336764 130       B6      1083   N804JB  JFK    MCO  123       944     20  \n",
              "336765  -8       B6       234   N318JB  JFK    BTV   43       266     22  \n",
              "336766 -17       B6      1816   N354JB  JFK    SYR   41       209     22  \n",
              "336767 -20       B6      2002   N281JB  JFK    BUF   52       301     22  \n",
              "336768 -16       B6       486   N346JB  JFK    ROC   47       264     22  \n",
              "336769   1       B6       718   N565JB  JFK    BOS   33       187     22  \n",
              "336770 -25       B6       745   N516JB  JFK    PSE  196      1617     23  \n",
              "336771  NA       EV      5274   N740EV  LGA    BNA   NA       764     18  \n",
              "336772  NA       9E      3393   NA      JFK    DCA   NA       213     14  \n",
              "336773  NA       9E      3525   NA      LGA    SYR   NA       198     22  \n",
              "336774  NA       MQ      3461   N535MQ  LGA    BNA   NA       764     12  \n",
              "336775  NA       MQ      3572   N511MQ  LGA    CLE   NA       419     11  \n",
              "336776  NA       MQ      3531   N839MQ  LGA    RDU   NA       431      8  \n",
              "       minute time_hour          \n",
              "1      15     2013-01-01 05:00:00\n",
              "2      29     2013-01-01 05:00:00\n",
              "3      40     2013-01-01 05:00:00\n",
              "4      45     2013-01-01 05:00:00\n",
              "5       0     2013-01-01 06:00:00\n",
              "6      58     2013-01-01 05:00:00\n",
              "7       0     2013-01-01 06:00:00\n",
              "8       0     2013-01-01 06:00:00\n",
              "9       0     2013-01-01 06:00:00\n",
              "10      0     2013-01-01 06:00:00\n",
              "11      0     2013-01-01 06:00:00\n",
              "12      0     2013-01-01 06:00:00\n",
              "13      0     2013-01-01 06:00:00\n",
              "14      0     2013-01-01 06:00:00\n",
              "15      0     2013-01-01 06:00:00\n",
              "16     59     2013-01-01 05:00:00\n",
              "17      0     2013-01-01 06:00:00\n",
              "18      0     2013-01-01 06:00:00\n",
              "19      0     2013-01-01 06:00:00\n",
              "20      0     2013-01-01 06:00:00\n",
              "21     10     2013-01-01 06:00:00\n",
              "22      5     2013-01-01 06:00:00\n",
              "23     10     2013-01-01 06:00:00\n",
              "24     10     2013-01-01 06:00:00\n",
              "25      7     2013-01-01 06:00:00\n",
              "26      0     2013-01-01 06:00:00\n",
              "27      0     2013-01-01 06:00:00\n",
              "28     10     2013-01-01 06:00:00\n",
              "29     15     2013-01-01 06:00:00\n",
              "30     15     2013-01-01 06:00:00\n",
              "⋮      ⋮      ⋮                  \n",
              "336747 25     2013-09-30 21:00:00\n",
              "336748 29     2013-09-30 21:00:00\n",
              "336749 30     2013-09-30 21:00:00\n",
              "336750 59     2013-09-30 20:00:00\n",
              "336751 40     2013-09-30 21:00:00\n",
              "336752 40     2013-09-30 21:00:00\n",
              "336753 29     2013-09-30 21:00:00\n",
              "336754 45     2013-09-30 21:00:00\n",
              "336755 37     2013-09-30 21:00:00\n",
              "336756 56     2013-09-30 21:00:00\n",
              "336757 59     2013-09-30 21:00:00\n",
              "336758 45     2013-09-30 18:00:00\n",
              "336759  5     2013-09-30 22:00:00\n",
              "336760 40     2013-09-30 21:00:00\n",
              "336761 59     2013-09-30 20:00:00\n",
              "336762 45     2013-09-30 22:00:00\n",
              "336763 13     2013-09-30 21:00:00\n",
              "336764  1     2013-09-30 20:00:00\n",
              "336765 45     2013-09-30 22:00:00\n",
              "336766 45     2013-09-30 22:00:00\n",
              "336767 50     2013-09-30 22:00:00\n",
              "336768 46     2013-09-30 22:00:00\n",
              "336769 55     2013-09-30 22:00:00\n",
              "336770 59     2013-09-30 23:00:00\n",
              "336771 42     2013-09-30 18:00:00\n",
              "336772 55     2013-09-30 14:00:00\n",
              "336773  0     2013-09-30 22:00:00\n",
              "336774 10     2013-09-30 12:00:00\n",
              "336775 59     2013-09-30 11:00:00\n",
              "336776 40     2013-09-30 08:00:00"
            ]
          },
          "metadata": {}
        }
      ]
    },
    {
      "cell_type": "code",
      "metadata": {
        "trusted": true,
        "scrolled": false,
        "id": "HFlJeLmMRPyr"
      },
      "source": [
        "# podemos renombrar la columna year\n",
        "\n",
        "# NOTA: esto no modifica el dataset original\n"
      ],
      "execution_count": null,
      "outputs": []
    },
    {
      "cell_type": "code",
      "metadata": {
        "trusted": true,
        "id": "Hg-abspERPyw"
      },
      "source": [
        "#Existe gran variedad (pueden consultar la documentación respectiva)  de otras funciones dentro del package dplyr, por ejemplo: Seleccionar solo las variables que comiencen con \"d\"\n",
        "# para su estudio\n",
        "\n"
      ],
      "execution_count": null,
      "outputs": []
    },
    {
      "cell_type": "code",
      "metadata": {
        "trusted": true,
        "id": "hBiqCaokRPyy"
      },
      "source": [],
      "execution_count": null,
      "outputs": []
    },
    {
      "cell_type": "markdown",
      "metadata": {
        "id": "6k5I_iHZRPy0"
      },
      "source": [
        "### 4.4 Función mutate()\n",
        "\n",
        "Una de las funciones más útiles de dplyr es la función mutate(), la cual permite crear nuevas columnas, o modificar las existentes. "
      ]
    },
    {
      "cell_type": "code",
      "metadata": {
        "trusted": true,
        "scrolled": false,
        "id": "id5cyTJ2RPy0"
      },
      "source": [
        "# mutate() ----------------------------------------------------------------\n",
        "# Crear una nueva columna llamada retraso_neto, que contenga la suma de arr_delay y dep_delay\n",
        "\n",
        "#antes\n",
        "\n",
        "#ahora\n",
        "\n",
        "# Recordar que esta nueva columna solo existe en la ejecución y no se ha modificado el dataset original.\n"
      ],
      "execution_count": null,
      "outputs": []
    },
    {
      "cell_type": "code",
      "metadata": {
        "trusted": true,
        "id": "jwsvIq-eRPy2"
      },
      "source": [
        "# Primero defina una nueva data llamada muestra_fl que contenga la fecha, los retrasos, la distancia, y el tiempo de vuelo\n",
        "# Cree una columna llamada gain que contenga la diferenecia entre arr_delay y dep_delay, y otra llamada speed que mida la velocidad en horas (distancia / tiempo de vuelo * 60)\n"
      ],
      "execution_count": null,
      "outputs": []
    },
    {
      "cell_type": "markdown",
      "metadata": {
        "id": "wk8Qt1ICRPy4"
      },
      "source": [
        "### Operador %>% \n",
        "\n",
        "El operador estrella de dplyr. Funciona como una composición de funciones, y nos permite generar _pipe-lines_, permitiendo  que la generación  del código sea más ordenada, y con ello, su lectura más sencilla.\n",
        "\n",
        "Este operdaor actua de la sifuiente manera, <br>\n",
        "\n",
        "    x %>% f(y) , es equivalente a,  f(x,y)\n",
        "\n"
      ]
    },
    {
      "cell_type": "code",
      "metadata": {
        "trusted": true,
        "id": "8s1tOO0RRPy4"
      },
      "source": [
        "# Operador %>% ----------------------------------------------------------------\n",
        "# Ejemplo sencillo \n",
        "\n",
        "# head(vuelos)\n",
        "\n",
        "\n",
        "# Utilizando %>%\n",
        "\n",
        "\n"
      ],
      "execution_count": null,
      "outputs": []
    },
    {
      "cell_type": "code",
      "metadata": {
        "trusted": true,
        "id": "6nBWGFwsRPy6"
      },
      "source": [
        "# Genere el conteo de vuelos por mes y día,\n",
        "# luego filtre por aquellos registros donde el día es 1,\n",
        "# ordene de manera descendiente por n,\n",
        "# finalmente muestra la cabecera del dataset resultante.\n",
        "\n",
        "## ANTES\n"
      ],
      "execution_count": null,
      "outputs": []
    },
    {
      "cell_type": "code",
      "metadata": {
        "trusted": true,
        "id": "Hckg9wkGRPy8"
      },
      "source": [
        "# Genere el conteo de vuelos por mes y día,\n",
        "# luego filtre por aquellos registros donde el día es 1,\n",
        "# ordene de manera descendiente por n,\n",
        "# finalmente muestra la cabecera del dataset resultante.\n",
        "\n",
        "## AHORA\n",
        "\n"
      ],
      "execution_count": null,
      "outputs": []
    },
    {
      "cell_type": "code",
      "metadata": {
        "trusted": true,
        "id": "Ml1egmO7RPy-"
      },
      "source": [
        "# A la onsulta anterior podríamos agregar una nueva columna indicando si el totalde vuelos es mayor a 970\n"
      ],
      "execution_count": null,
      "outputs": []
    },
    {
      "cell_type": "code",
      "metadata": {
        "trusted": true,
        "id": "eRuQuH-oRPzA"
      },
      "source": [
        "# Genere una nueva variable llamada day2 que pegue un \"0\" \n",
        "# a la variable day si es que esta contiene un dígito del 1 al 9.\n",
        "# Para pegar cadena de caracteres sin espacios puede utilizar \n",
        "# la función paste0\n",
        "\n",
        "#?paste0, ?nchar\n",
        "\n",
        "\n"
      ],
      "execution_count": null,
      "outputs": []
    },
    {
      "cell_type": "code",
      "metadata": {
        "trusted": true,
        "id": "Md5AK7xfRPzE"
      },
      "source": [
        "# Con esta variable genere un entero llamado fecha, que concatena year,month y day 2."
      ],
      "execution_count": null,
      "outputs": []
    },
    {
      "cell_type": "markdown",
      "metadata": {
        "id": "kEFrLb_zRPzG"
      },
      "source": [
        "### 4.5 Función group_by() y summarise()\n",
        "\n",
        "La función `summarise()` calcula medidas agregadas sobre columnas, mientras que la función `group_by`, genera un data.frame \"en bloques\" dados por la(s) columna(s) ingresadas como parámetros en la función.\n",
        "\n"
      ]
    },
    {
      "cell_type": "code",
      "metadata": {
        "trusted": true,
        "id": "4ytKeSHGRPzG",
        "outputId": "15d36abb-7e04-4591-9b65-b7d1507bab4a",
        "colab": {
          "base_uri": "https://localhost:8080/",
          "height": 255
        }
      },
      "source": [
        "# group_by() y summarise() ----------------------------------------------------------------\n",
        "# Ejemplo sencillo\n",
        "exam2 <- data.frame(\n",
        "  x = c(1:5),\n",
        "  y = c(7:11),\n",
        "  z = c(\"A\", \"B\", \"A\", \"B\", \"C\")\n",
        ")\n",
        "exam2\n"
      ],
      "execution_count": 89,
      "outputs": [
        {
          "output_type": "display_data",
          "data": {
            "text/html": [
              "<table class=\"dataframe\">\n",
              "<caption>A data.frame: 5 × 3</caption>\n",
              "<thead>\n",
              "\t<tr><th scope=col>x</th><th scope=col>y</th><th scope=col>z</th></tr>\n",
              "\t<tr><th scope=col>&lt;int&gt;</th><th scope=col>&lt;int&gt;</th><th scope=col>&lt;chr&gt;</th></tr>\n",
              "</thead>\n",
              "<tbody>\n",
              "\t<tr><td>1</td><td> 7</td><td>A</td></tr>\n",
              "\t<tr><td>2</td><td> 8</td><td>B</td></tr>\n",
              "\t<tr><td>3</td><td> 9</td><td>A</td></tr>\n",
              "\t<tr><td>4</td><td>10</td><td>B</td></tr>\n",
              "\t<tr><td>5</td><td>11</td><td>C</td></tr>\n",
              "</tbody>\n",
              "</table>\n"
            ],
            "text/markdown": "\nA data.frame: 5 × 3\n\n| x &lt;int&gt; | y &lt;int&gt; | z &lt;chr&gt; |\n|---|---|---|\n| 1 |  7 | A |\n| 2 |  8 | B |\n| 3 |  9 | A |\n| 4 | 10 | B |\n| 5 | 11 | C |\n\n",
            "text/latex": "A data.frame: 5 × 3\n\\begin{tabular}{lll}\n x & y & z\\\\\n <int> & <int> & <chr>\\\\\n\\hline\n\t 1 &  7 & A\\\\\n\t 2 &  8 & B\\\\\n\t 3 &  9 & A\\\\\n\t 4 & 10 & B\\\\\n\t 5 & 11 & C\\\\\n\\end{tabular}\n",
            "text/plain": [
              "  x y  z\n",
              "1 1  7 A\n",
              "2 2  8 B\n",
              "3 3  9 A\n",
              "4 4 10 B\n",
              "5 5 11 C"
            ]
          },
          "metadata": {}
        }
      ]
    },
    {
      "cell_type": "code",
      "metadata": {
        "trusted": true,
        "id": "wyjN-OYiRPzI",
        "outputId": "3aab13c0-e037-4099-9439-aa27e6099aeb",
        "colab": {
          "base_uri": "https://localhost:8080/",
          "height": 255
        }
      },
      "source": [
        "# Podemos generar un número de fila por cada grupo\n",
        "exam2 %>%\n",
        "  group_by(z) %>%\n",
        "  mutate(\n",
        "    fila = sum(x)\n",
        "  )"
      ],
      "execution_count": 92,
      "outputs": [
        {
          "output_type": "display_data",
          "data": {
            "text/html": [
              "<table class=\"dataframe\">\n",
              "<caption>A grouped_df: 5 × 4</caption>\n",
              "<thead>\n",
              "\t<tr><th scope=col>x</th><th scope=col>y</th><th scope=col>z</th><th scope=col>fila</th></tr>\n",
              "\t<tr><th scope=col>&lt;int&gt;</th><th scope=col>&lt;int&gt;</th><th scope=col>&lt;chr&gt;</th><th scope=col>&lt;int&gt;</th></tr>\n",
              "</thead>\n",
              "<tbody>\n",
              "\t<tr><td>1</td><td> 7</td><td>A</td><td>4</td></tr>\n",
              "\t<tr><td>2</td><td> 8</td><td>B</td><td>6</td></tr>\n",
              "\t<tr><td>3</td><td> 9</td><td>A</td><td>4</td></tr>\n",
              "\t<tr><td>4</td><td>10</td><td>B</td><td>6</td></tr>\n",
              "\t<tr><td>5</td><td>11</td><td>C</td><td>5</td></tr>\n",
              "</tbody>\n",
              "</table>\n"
            ],
            "text/markdown": "\nA grouped_df: 5 × 4\n\n| x &lt;int&gt; | y &lt;int&gt; | z &lt;chr&gt; | fila &lt;int&gt; |\n|---|---|---|---|\n| 1 |  7 | A | 4 |\n| 2 |  8 | B | 6 |\n| 3 |  9 | A | 4 |\n| 4 | 10 | B | 6 |\n| 5 | 11 | C | 5 |\n\n",
            "text/latex": "A grouped\\_df: 5 × 4\n\\begin{tabular}{llll}\n x & y & z & fila\\\\\n <int> & <int> & <chr> & <int>\\\\\n\\hline\n\t 1 &  7 & A & 4\\\\\n\t 2 &  8 & B & 6\\\\\n\t 3 &  9 & A & 4\\\\\n\t 4 & 10 & B & 6\\\\\n\t 5 & 11 & C & 5\\\\\n\\end{tabular}\n",
            "text/plain": [
              "  x y  z fila\n",
              "1 1  7 A 4   \n",
              "2 2  8 B 6   \n",
              "3 3  9 A 4   \n",
              "4 4 10 B 6   \n",
              "5 5 11 C 5   "
            ]
          },
          "metadata": {}
        }
      ]
    },
    {
      "cell_type": "code",
      "metadata": {
        "trusted": true,
        "id": "nqMyjd6aRPzK",
        "outputId": "0e1bb8b5-2343-4313-9029-9d1210256f48",
        "colab": {
          "base_uri": "https://localhost:8080/",
          "height": 339
        }
      },
      "source": [
        "# 1) Aplicar la función summarise a la columna 'y' y calcular su promedio\n",
        "\n",
        "exam2 %>%\n",
        "  summarise(mean(y))\n",
        "\n",
        "exam2 %>%\n",
        "  group_by(z) %>%\n",
        "  summarise(mean(y))\n",
        "\n",
        "# 2) Generar grupos según la variable z. (a diferencia de sql, el comando group_by() no requiere de una medida agregada para que este funcione.)\n",
        "# select z, avg(x) mean_x, sum(x) tot_x from exam2 group by z\n",
        "\n"
      ],
      "execution_count": 94,
      "outputs": [
        {
          "output_type": "display_data",
          "data": {
            "text/html": [
              "<table class=\"dataframe\">\n",
              "<caption>A data.frame: 1 × 1</caption>\n",
              "<thead>\n",
              "\t<tr><th scope=col>mean(y)</th></tr>\n",
              "\t<tr><th scope=col>&lt;dbl&gt;</th></tr>\n",
              "</thead>\n",
              "<tbody>\n",
              "\t<tr><td>9</td></tr>\n",
              "</tbody>\n",
              "</table>\n"
            ],
            "text/markdown": "\nA data.frame: 1 × 1\n\n| mean(y) &lt;dbl&gt; |\n|---|\n| 9 |\n\n",
            "text/latex": "A data.frame: 1 × 1\n\\begin{tabular}{l}\n mean(y)\\\\\n <dbl>\\\\\n\\hline\n\t 9\\\\\n\\end{tabular}\n",
            "text/plain": [
              "  mean(y)\n",
              "1 9      "
            ]
          },
          "metadata": {}
        },
        {
          "output_type": "display_data",
          "data": {
            "text/html": [
              "<table class=\"dataframe\">\n",
              "<caption>A tibble: 3 × 2</caption>\n",
              "<thead>\n",
              "\t<tr><th scope=col>z</th><th scope=col>mean(y)</th></tr>\n",
              "\t<tr><th scope=col>&lt;chr&gt;</th><th scope=col>&lt;dbl&gt;</th></tr>\n",
              "</thead>\n",
              "<tbody>\n",
              "\t<tr><td>A</td><td> 8</td></tr>\n",
              "\t<tr><td>B</td><td> 9</td></tr>\n",
              "\t<tr><td>C</td><td>11</td></tr>\n",
              "</tbody>\n",
              "</table>\n"
            ],
            "text/markdown": "\nA tibble: 3 × 2\n\n| z &lt;chr&gt; | mean(y) &lt;dbl&gt; |\n|---|---|\n| A |  8 |\n| B |  9 |\n| C | 11 |\n\n",
            "text/latex": "A tibble: 3 × 2\n\\begin{tabular}{ll}\n z & mean(y)\\\\\n <chr> & <dbl>\\\\\n\\hline\n\t A &  8\\\\\n\t B &  9\\\\\n\t C & 11\\\\\n\\end{tabular}\n",
            "text/plain": [
              "  z mean(y)\n",
              "1 A  8     \n",
              "2 B  9     \n",
              "3 C 11     "
            ]
          },
          "metadata": {}
        }
      ]
    },
    {
      "cell_type": "code",
      "metadata": {
        "trusted": true,
        "id": "4-Ru4aPVRPzL",
        "outputId": "1954c395-41b4-43f3-c8fb-4fea8fb772fd",
        "colab": {
          "base_uri": "https://localhost:8080/",
          "height": 192
        }
      },
      "source": [
        "# 3) Calcular media de x e y en cada valor de z.\n",
        "# podemos calcular máximos y mínimos\n",
        "exam2 %>%\n",
        "  group_by(z) %>%\n",
        "  summarise(mean(x), mean(y))"
      ],
      "execution_count": 97,
      "outputs": [
        {
          "output_type": "display_data",
          "data": {
            "text/html": [
              "<table class=\"dataframe\">\n",
              "<caption>A tibble: 3 × 3</caption>\n",
              "<thead>\n",
              "\t<tr><th scope=col>z</th><th scope=col>mean(x)</th><th scope=col>mean(y)</th></tr>\n",
              "\t<tr><th scope=col>&lt;chr&gt;</th><th scope=col>&lt;dbl&gt;</th><th scope=col>&lt;dbl&gt;</th></tr>\n",
              "</thead>\n",
              "<tbody>\n",
              "\t<tr><td>A</td><td>2</td><td> 8</td></tr>\n",
              "\t<tr><td>B</td><td>3</td><td> 9</td></tr>\n",
              "\t<tr><td>C</td><td>5</td><td>11</td></tr>\n",
              "</tbody>\n",
              "</table>\n"
            ],
            "text/markdown": "\nA tibble: 3 × 3\n\n| z &lt;chr&gt; | mean(x) &lt;dbl&gt; | mean(y) &lt;dbl&gt; |\n|---|---|---|\n| A | 2 |  8 |\n| B | 3 |  9 |\n| C | 5 | 11 |\n\n",
            "text/latex": "A tibble: 3 × 3\n\\begin{tabular}{lll}\n z & mean(x) & mean(y)\\\\\n <chr> & <dbl> & <dbl>\\\\\n\\hline\n\t A & 2 &  8\\\\\n\t B & 3 &  9\\\\\n\t C & 5 & 11\\\\\n\\end{tabular}\n",
            "text/plain": [
              "  z mean(x) mean(y)\n",
              "1 A 2        8     \n",
              "2 B 3        9     \n",
              "3 C 5       11     "
            ]
          },
          "metadata": {}
        }
      ]
    },
    {
      "cell_type": "code",
      "metadata": {
        "trusted": true,
        "id": "o837pCUtRPzU",
        "outputId": "ed37f6b4-afce-412f-969e-d1dfd66ccbb6",
        "colab": {
          "base_uri": "https://localhost:8080/",
          "height": 1000
        }
      },
      "source": [
        "# promedio de retraso de llegada por origen-destino\n",
        "flights %>%\n",
        "  group_by(origin, dest) %>%\n",
        "  summarise(prom_arr_delay = mean(arr_delay, na.rm = TRUE)) %>%\n",
        "  arrange(desc(prom_arr_delay))\n"
      ],
      "execution_count": 106,
      "outputs": [
        {
          "output_type": "stream",
          "name": "stderr",
          "text": [
            "\u001b[1m\u001b[22m`summarise()` has grouped output by 'origin'. You can override using the\n",
            "`.groups` argument.\n"
          ]
        },
        {
          "output_type": "display_data",
          "data": {
            "text/html": [
              "<table class=\"dataframe\">\n",
              "<caption>A grouped_df: 224 × 3</caption>\n",
              "<thead>\n",
              "\t<tr><th scope=col>origin</th><th scope=col>dest</th><th scope=col>prom_arr_delay</th></tr>\n",
              "\t<tr><th scope=col>&lt;chr&gt;</th><th scope=col>&lt;chr&gt;</th><th scope=col>&lt;dbl&gt;</th></tr>\n",
              "</thead>\n",
              "<tbody>\n",
              "\t<tr><td>EWR</td><td>CAE</td><td>44.58511</td></tr>\n",
              "\t<tr><td>EWR</td><td>TYS</td><td>41.15016</td></tr>\n",
              "\t<tr><td>EWR</td><td>TUL</td><td>33.65986</td></tr>\n",
              "\t<tr><td>EWR</td><td>OKC</td><td>30.61905</td></tr>\n",
              "\t<tr><td>EWR</td><td>JAC</td><td>29.89474</td></tr>\n",
              "\t<tr><td>EWR</td><td>RIC</td><td>25.82043</td></tr>\n",
              "\t<tr><td>EWR</td><td>MKE</td><td>24.00378</td></tr>\n",
              "\t<tr><td>EWR</td><td>DSM</td><td>23.54872</td></tr>\n",
              "\t<tr><td>EWR</td><td>MSN</td><td>23.19710</td></tr>\n",
              "\t<tr><td>EWR</td><td>PWM</td><td>23.00548</td></tr>\n",
              "\t<tr><td>JFK</td><td>CMH</td><td>22.92057</td></tr>\n",
              "\t<tr><td>EWR</td><td>DCA</td><td>21.31398</td></tr>\n",
              "\t<tr><td>EWR</td><td>ROC</td><td>20.66393</td></tr>\n",
              "\t<tr><td>EWR</td><td>MCI</td><td>20.23981</td></tr>\n",
              "\t<tr><td>EWR</td><td>MEM</td><td>19.90769</td></tr>\n",
              "\t<tr><td>LGA</td><td>CAK</td><td>19.69834</td></tr>\n",
              "\t<tr><td>LGA</td><td>CAE</td><td>19.66667</td></tr>\n",
              "\t<tr><td>EWR</td><td>GRR</td><td>19.37064</td></tr>\n",
              "\t<tr><td>JFK</td><td>CVG</td><td>19.10504</td></tr>\n",
              "\t<tr><td>JFK</td><td>EGE</td><td>18.53465</td></tr>\n",
              "\t<tr><td>EWR</td><td>DAY</td><td>18.38411</td></tr>\n",
              "\t<tr><td>EWR</td><td>GSP</td><td>18.14306</td></tr>\n",
              "\t<tr><td>EWR</td><td>SAV</td><td>17.69016</td></tr>\n",
              "\t<tr><td>EWR</td><td>GSO</td><td>17.66220</td></tr>\n",
              "\t<tr><td>LGA</td><td>MHT</td><td>17.52778</td></tr>\n",
              "\t<tr><td>JFK</td><td>CLE</td><td>17.38438</td></tr>\n",
              "\t<tr><td>JFK</td><td>IAH</td><td>17.13284</td></tr>\n",
              "\t<tr><td>LGA</td><td>BHM</td><td>17.01119</td></tr>\n",
              "\t<tr><td>EWR</td><td>PHL</td><td>16.54167</td></tr>\n",
              "\t<tr><td>EWR</td><td>SDF</td><td>16.45902</td></tr>\n",
              "\t<tr><td>⋮</td><td>⋮</td><td>⋮</td></tr>\n",
              "\t<tr><td>EWR</td><td>AUS</td><td> -0.4743992</td></tr>\n",
              "\t<tr><td>JFK</td><td>LAX</td><td> -0.4805986</td></tr>\n",
              "\t<tr><td>EWR</td><td>LAS</td><td> -0.7693467</td></tr>\n",
              "\t<tr><td>LGA</td><td>DFW</td><td> -1.2599317</td></tr>\n",
              "\t<tr><td>JFK</td><td>SLC</td><td> -1.6961905</td></tr>\n",
              "\t<tr><td>JFK</td><td>SEA</td><td> -1.7566265</td></tr>\n",
              "\t<tr><td>JFK</td><td>MIA</td><td> -1.9872146</td></tr>\n",
              "\t<tr><td>LGA</td><td>GRR</td><td> -2.1250000</td></tr>\n",
              "\t<tr><td>EWR</td><td>RSW</td><td> -2.2591292</td></tr>\n",
              "\t<tr><td>LGA</td><td>BOS</td><td> -2.4195402</td></tr>\n",
              "\t<tr><td>LGA</td><td>BUF</td><td> -2.4508197</td></tr>\n",
              "\t<tr><td>EWR</td><td>ANC</td><td> -2.5000000</td></tr>\n",
              "\t<tr><td>LGA</td><td>MYR</td><td> -3.0000000</td></tr>\n",
              "\t<tr><td>LGA</td><td>SDF</td><td> -3.4428571</td></tr>\n",
              "\t<tr><td>LGA</td><td>DAY</td><td> -4.9473684</td></tr>\n",
              "\t<tr><td>JFK</td><td>MEM</td><td> -5.0000000</td></tr>\n",
              "\t<tr><td>LGA</td><td>IND</td><td> -5.0000000</td></tr>\n",
              "\t<tr><td>EWR</td><td>EGE</td><td> -5.3490566</td></tr>\n",
              "\t<tr><td>EWR</td><td>SBN</td><td> -5.5000000</td></tr>\n",
              "\t<tr><td>JFK</td><td>STT</td><td> -6.3727273</td></tr>\n",
              "\t<tr><td>JFK</td><td>HNL</td><td> -6.9152047</td></tr>\n",
              "\t<tr><td>LGA</td><td>BWI</td><td> -7.8666667</td></tr>\n",
              "\t<tr><td>EWR</td><td>SNA</td><td> -7.8682266</td></tr>\n",
              "\t<tr><td>JFK</td><td>STL</td><td> -8.0000000</td></tr>\n",
              "\t<tr><td>LGA</td><td>SAV</td><td>-10.5147059</td></tr>\n",
              "\t<tr><td>LGA</td><td>AVL</td><td>-12.1000000</td></tr>\n",
              "\t<tr><td>JFK</td><td>PSP</td><td>-12.7222222</td></tr>\n",
              "\t<tr><td>JFK</td><td>BHM</td><td>-19.0000000</td></tr>\n",
              "\t<tr><td>LGA</td><td>LEX</td><td>-22.0000000</td></tr>\n",
              "\t<tr><td>EWR</td><td>LGA</td><td>        NaN</td></tr>\n",
              "</tbody>\n",
              "</table>\n"
            ],
            "text/markdown": "\nA grouped_df: 224 × 3\n\n| origin &lt;chr&gt; | dest &lt;chr&gt; | prom_arr_delay &lt;dbl&gt; |\n|---|---|---|\n| EWR | CAE | 44.58511 |\n| EWR | TYS | 41.15016 |\n| EWR | TUL | 33.65986 |\n| EWR | OKC | 30.61905 |\n| EWR | JAC | 29.89474 |\n| EWR | RIC | 25.82043 |\n| EWR | MKE | 24.00378 |\n| EWR | DSM | 23.54872 |\n| EWR | MSN | 23.19710 |\n| EWR | PWM | 23.00548 |\n| JFK | CMH | 22.92057 |\n| EWR | DCA | 21.31398 |\n| EWR | ROC | 20.66393 |\n| EWR | MCI | 20.23981 |\n| EWR | MEM | 19.90769 |\n| LGA | CAK | 19.69834 |\n| LGA | CAE | 19.66667 |\n| EWR | GRR | 19.37064 |\n| JFK | CVG | 19.10504 |\n| JFK | EGE | 18.53465 |\n| EWR | DAY | 18.38411 |\n| EWR | GSP | 18.14306 |\n| EWR | SAV | 17.69016 |\n| EWR | GSO | 17.66220 |\n| LGA | MHT | 17.52778 |\n| JFK | CLE | 17.38438 |\n| JFK | IAH | 17.13284 |\n| LGA | BHM | 17.01119 |\n| EWR | PHL | 16.54167 |\n| EWR | SDF | 16.45902 |\n| ⋮ | ⋮ | ⋮ |\n| EWR | AUS |  -0.4743992 |\n| JFK | LAX |  -0.4805986 |\n| EWR | LAS |  -0.7693467 |\n| LGA | DFW |  -1.2599317 |\n| JFK | SLC |  -1.6961905 |\n| JFK | SEA |  -1.7566265 |\n| JFK | MIA |  -1.9872146 |\n| LGA | GRR |  -2.1250000 |\n| EWR | RSW |  -2.2591292 |\n| LGA | BOS |  -2.4195402 |\n| LGA | BUF |  -2.4508197 |\n| EWR | ANC |  -2.5000000 |\n| LGA | MYR |  -3.0000000 |\n| LGA | SDF |  -3.4428571 |\n| LGA | DAY |  -4.9473684 |\n| JFK | MEM |  -5.0000000 |\n| LGA | IND |  -5.0000000 |\n| EWR | EGE |  -5.3490566 |\n| EWR | SBN |  -5.5000000 |\n| JFK | STT |  -6.3727273 |\n| JFK | HNL |  -6.9152047 |\n| LGA | BWI |  -7.8666667 |\n| EWR | SNA |  -7.8682266 |\n| JFK | STL |  -8.0000000 |\n| LGA | SAV | -10.5147059 |\n| LGA | AVL | -12.1000000 |\n| JFK | PSP | -12.7222222 |\n| JFK | BHM | -19.0000000 |\n| LGA | LEX | -22.0000000 |\n| EWR | LGA |         NaN |\n\n",
            "text/latex": "A grouped\\_df: 224 × 3\n\\begin{tabular}{lll}\n origin & dest & prom\\_arr\\_delay\\\\\n <chr> & <chr> & <dbl>\\\\\n\\hline\n\t EWR & CAE & 44.58511\\\\\n\t EWR & TYS & 41.15016\\\\\n\t EWR & TUL & 33.65986\\\\\n\t EWR & OKC & 30.61905\\\\\n\t EWR & JAC & 29.89474\\\\\n\t EWR & RIC & 25.82043\\\\\n\t EWR & MKE & 24.00378\\\\\n\t EWR & DSM & 23.54872\\\\\n\t EWR & MSN & 23.19710\\\\\n\t EWR & PWM & 23.00548\\\\\n\t JFK & CMH & 22.92057\\\\\n\t EWR & DCA & 21.31398\\\\\n\t EWR & ROC & 20.66393\\\\\n\t EWR & MCI & 20.23981\\\\\n\t EWR & MEM & 19.90769\\\\\n\t LGA & CAK & 19.69834\\\\\n\t LGA & CAE & 19.66667\\\\\n\t EWR & GRR & 19.37064\\\\\n\t JFK & CVG & 19.10504\\\\\n\t JFK & EGE & 18.53465\\\\\n\t EWR & DAY & 18.38411\\\\\n\t EWR & GSP & 18.14306\\\\\n\t EWR & SAV & 17.69016\\\\\n\t EWR & GSO & 17.66220\\\\\n\t LGA & MHT & 17.52778\\\\\n\t JFK & CLE & 17.38438\\\\\n\t JFK & IAH & 17.13284\\\\\n\t LGA & BHM & 17.01119\\\\\n\t EWR & PHL & 16.54167\\\\\n\t EWR & SDF & 16.45902\\\\\n\t ⋮ & ⋮ & ⋮\\\\\n\t EWR & AUS &  -0.4743992\\\\\n\t JFK & LAX &  -0.4805986\\\\\n\t EWR & LAS &  -0.7693467\\\\\n\t LGA & DFW &  -1.2599317\\\\\n\t JFK & SLC &  -1.6961905\\\\\n\t JFK & SEA &  -1.7566265\\\\\n\t JFK & MIA &  -1.9872146\\\\\n\t LGA & GRR &  -2.1250000\\\\\n\t EWR & RSW &  -2.2591292\\\\\n\t LGA & BOS &  -2.4195402\\\\\n\t LGA & BUF &  -2.4508197\\\\\n\t EWR & ANC &  -2.5000000\\\\\n\t LGA & MYR &  -3.0000000\\\\\n\t LGA & SDF &  -3.4428571\\\\\n\t LGA & DAY &  -4.9473684\\\\\n\t JFK & MEM &  -5.0000000\\\\\n\t LGA & IND &  -5.0000000\\\\\n\t EWR & EGE &  -5.3490566\\\\\n\t EWR & SBN &  -5.5000000\\\\\n\t JFK & STT &  -6.3727273\\\\\n\t JFK & HNL &  -6.9152047\\\\\n\t LGA & BWI &  -7.8666667\\\\\n\t EWR & SNA &  -7.8682266\\\\\n\t JFK & STL &  -8.0000000\\\\\n\t LGA & SAV & -10.5147059\\\\\n\t LGA & AVL & -12.1000000\\\\\n\t JFK & PSP & -12.7222222\\\\\n\t JFK & BHM & -19.0000000\\\\\n\t LGA & LEX & -22.0000000\\\\\n\t EWR & LGA &         NaN\\\\\n\\end{tabular}\n",
            "text/plain": [
              "    origin dest prom_arr_delay\n",
              "1   EWR    CAE  44.58511      \n",
              "2   EWR    TYS  41.15016      \n",
              "3   EWR    TUL  33.65986      \n",
              "4   EWR    OKC  30.61905      \n",
              "5   EWR    JAC  29.89474      \n",
              "6   EWR    RIC  25.82043      \n",
              "7   EWR    MKE  24.00378      \n",
              "8   EWR    DSM  23.54872      \n",
              "9   EWR    MSN  23.19710      \n",
              "10  EWR    PWM  23.00548      \n",
              "11  JFK    CMH  22.92057      \n",
              "12  EWR    DCA  21.31398      \n",
              "13  EWR    ROC  20.66393      \n",
              "14  EWR    MCI  20.23981      \n",
              "15  EWR    MEM  19.90769      \n",
              "16  LGA    CAK  19.69834      \n",
              "17  LGA    CAE  19.66667      \n",
              "18  EWR    GRR  19.37064      \n",
              "19  JFK    CVG  19.10504      \n",
              "20  JFK    EGE  18.53465      \n",
              "21  EWR    DAY  18.38411      \n",
              "22  EWR    GSP  18.14306      \n",
              "23  EWR    SAV  17.69016      \n",
              "24  EWR    GSO  17.66220      \n",
              "25  LGA    MHT  17.52778      \n",
              "26  JFK    CLE  17.38438      \n",
              "27  JFK    IAH  17.13284      \n",
              "28  LGA    BHM  17.01119      \n",
              "29  EWR    PHL  16.54167      \n",
              "30  EWR    SDF  16.45902      \n",
              "⋮   ⋮      ⋮    ⋮             \n",
              "195 EWR    AUS   -0.4743992   \n",
              "196 JFK    LAX   -0.4805986   \n",
              "197 EWR    LAS   -0.7693467   \n",
              "198 LGA    DFW   -1.2599317   \n",
              "199 JFK    SLC   -1.6961905   \n",
              "200 JFK    SEA   -1.7566265   \n",
              "201 JFK    MIA   -1.9872146   \n",
              "202 LGA    GRR   -2.1250000   \n",
              "203 EWR    RSW   -2.2591292   \n",
              "204 LGA    BOS   -2.4195402   \n",
              "205 LGA    BUF   -2.4508197   \n",
              "206 EWR    ANC   -2.5000000   \n",
              "207 LGA    MYR   -3.0000000   \n",
              "208 LGA    SDF   -3.4428571   \n",
              "209 LGA    DAY   -4.9473684   \n",
              "210 JFK    MEM   -5.0000000   \n",
              "211 LGA    IND   -5.0000000   \n",
              "212 EWR    EGE   -5.3490566   \n",
              "213 EWR    SBN   -5.5000000   \n",
              "214 JFK    STT   -6.3727273   \n",
              "215 JFK    HNL   -6.9152047   \n",
              "216 LGA    BWI   -7.8666667   \n",
              "217 EWR    SNA   -7.8682266   \n",
              "218 JFK    STL   -8.0000000   \n",
              "219 LGA    SAV  -10.5147059   \n",
              "220 LGA    AVL  -12.1000000   \n",
              "221 JFK    PSP  -12.7222222   \n",
              "222 JFK    BHM  -19.0000000   \n",
              "223 LGA    LEX  -22.0000000   \n",
              "224 EWR    LGA          NaN   "
            ]
          },
          "metadata": {}
        }
      ]
    },
    {
      "cell_type": "code",
      "source": [
        "names(flights)"
      ],
      "metadata": {
        "id": "O3eAyLrKfQqG",
        "outputId": "4170824c-ab03-4571-8b5f-abda610c5948",
        "colab": {
          "base_uri": "https://localhost:8080/",
          "height": 52
        }
      },
      "execution_count": 98,
      "outputs": [
        {
          "output_type": "display_data",
          "data": {
            "text/html": [
              "<style>\n",
              ".list-inline {list-style: none; margin:0; padding: 0}\n",
              ".list-inline>li {display: inline-block}\n",
              ".list-inline>li:not(:last-child)::after {content: \"\\00b7\"; padding: 0 .5ex}\n",
              "</style>\n",
              "<ol class=list-inline><li>'year'</li><li>'month'</li><li>'day'</li><li>'dep_time'</li><li>'sched_dep_time'</li><li>'dep_delay'</li><li>'arr_time'</li><li>'sched_arr_time'</li><li>'arr_delay'</li><li>'carrier'</li><li>'flight'</li><li>'tailnum'</li><li>'origin'</li><li>'dest'</li><li>'air_time'</li><li>'distance'</li><li>'hour'</li><li>'minute'</li><li>'time_hour'</li></ol>\n"
            ],
            "text/markdown": "1. 'year'\n2. 'month'\n3. 'day'\n4. 'dep_time'\n5. 'sched_dep_time'\n6. 'dep_delay'\n7. 'arr_time'\n8. 'sched_arr_time'\n9. 'arr_delay'\n10. 'carrier'\n11. 'flight'\n12. 'tailnum'\n13. 'origin'\n14. 'dest'\n15. 'air_time'\n16. 'distance'\n17. 'hour'\n18. 'minute'\n19. 'time_hour'\n\n\n",
            "text/latex": "\\begin{enumerate*}\n\\item 'year'\n\\item 'month'\n\\item 'day'\n\\item 'dep\\_time'\n\\item 'sched\\_dep\\_time'\n\\item 'dep\\_delay'\n\\item 'arr\\_time'\n\\item 'sched\\_arr\\_time'\n\\item 'arr\\_delay'\n\\item 'carrier'\n\\item 'flight'\n\\item 'tailnum'\n\\item 'origin'\n\\item 'dest'\n\\item 'air\\_time'\n\\item 'distance'\n\\item 'hour'\n\\item 'minute'\n\\item 'time\\_hour'\n\\end{enumerate*}\n",
            "text/plain": [
              " [1] \"year\"           \"month\"          \"day\"            \"dep_time\"      \n",
              " [5] \"sched_dep_time\" \"dep_delay\"      \"arr_time\"       \"sched_arr_time\"\n",
              " [9] \"arr_delay\"      \"carrier\"        \"flight\"         \"tailnum\"       \n",
              "[13] \"origin\"         \"dest\"           \"air_time\"       \"distance\"      \n",
              "[17] \"hour\"           \"minute\"         \"time_hour\"     "
            ]
          },
          "metadata": {}
        }
      ]
    },
    {
      "cell_type": "code",
      "metadata": {
        "trusted": true,
        "id": "DsrFjp7oRPzW"
      },
      "source": [
        "# ¿Cuáles son los aeropuertos de destino con mayor retraso medio en su llegada?\n",
        "\n"
      ],
      "execution_count": null,
      "outputs": []
    },
    {
      "cell_type": "code",
      "metadata": {
        "trusted": true,
        "id": "Cb8r9XleRPzX"
      },
      "source": [
        "# los podemos remover mediante el argumento na.rm de la función mean()\n"
      ],
      "execution_count": null,
      "outputs": []
    },
    {
      "cell_type": "code",
      "metadata": {
        "trusted": true,
        "id": "CH9XRbK8RPzZ",
        "outputId": "83024d61-8cf6-48e9-f1f1-dd8ff541bbbd",
        "colab": {
          "base_uri": "https://localhost:8080/",
          "height": 410
        }
      },
      "source": [
        "# si quisiéramos ratar los NA's, podemos hacerlo de la sgte. manera\n",
        "\n",
        "#consultamos los NA en arr_delay\n",
        "\n",
        "# Recordar que NA == NA retorna NA . is.na(NA) retorna TRUE\n",
        "\n",
        "head(filter(flights, is.na(arr_delay)))"
      ],
      "execution_count": 109,
      "outputs": [
        {
          "output_type": "display_data",
          "data": {
            "text/html": [
              "<table class=\"dataframe\">\n",
              "<caption>A data.frame: 6 × 19</caption>\n",
              "<thead>\n",
              "\t<tr><th></th><th scope=col>year</th><th scope=col>month</th><th scope=col>day</th><th scope=col>dep_time</th><th scope=col>sched_dep_time</th><th scope=col>dep_delay</th><th scope=col>arr_time</th><th scope=col>sched_arr_time</th><th scope=col>arr_delay</th><th scope=col>carrier</th><th scope=col>flight</th><th scope=col>tailnum</th><th scope=col>origin</th><th scope=col>dest</th><th scope=col>air_time</th><th scope=col>distance</th><th scope=col>hour</th><th scope=col>minute</th><th scope=col>time_hour</th></tr>\n",
              "\t<tr><th></th><th scope=col>&lt;int&gt;</th><th scope=col>&lt;int&gt;</th><th scope=col>&lt;int&gt;</th><th scope=col>&lt;int&gt;</th><th scope=col>&lt;int&gt;</th><th scope=col>&lt;int&gt;</th><th scope=col>&lt;int&gt;</th><th scope=col>&lt;int&gt;</th><th scope=col>&lt;int&gt;</th><th scope=col>&lt;chr&gt;</th><th scope=col>&lt;int&gt;</th><th scope=col>&lt;chr&gt;</th><th scope=col>&lt;chr&gt;</th><th scope=col>&lt;chr&gt;</th><th scope=col>&lt;int&gt;</th><th scope=col>&lt;int&gt;</th><th scope=col>&lt;int&gt;</th><th scope=col>&lt;int&gt;</th><th scope=col>&lt;chr&gt;</th></tr>\n",
              "</thead>\n",
              "<tbody>\n",
              "\t<tr><th scope=row>1</th><td>2013</td><td>1</td><td>1</td><td>1525</td><td>1530</td><td>-5</td><td>1934</td><td>1805</td><td>NA</td><td>MQ</td><td>4525</td><td>N719MQ</td><td>LGA</td><td>XNA</td><td>NA</td><td>1147</td><td>15</td><td>30</td><td>2013-01-01 15:00:00</td></tr>\n",
              "\t<tr><th scope=row>2</th><td>2013</td><td>1</td><td>1</td><td>1528</td><td>1459</td><td>29</td><td>2002</td><td>1647</td><td>NA</td><td>EV</td><td>3806</td><td>N17108</td><td>EWR</td><td>STL</td><td>NA</td><td> 872</td><td>14</td><td>59</td><td>2013-01-01 14:00:00</td></tr>\n",
              "\t<tr><th scope=row>3</th><td>2013</td><td>1</td><td>1</td><td>1740</td><td>1745</td><td>-5</td><td>2158</td><td>2020</td><td>NA</td><td>MQ</td><td>4413</td><td>N739MQ</td><td>LGA</td><td>XNA</td><td>NA</td><td>1147</td><td>17</td><td>45</td><td>2013-01-01 17:00:00</td></tr>\n",
              "\t<tr><th scope=row>4</th><td>2013</td><td>1</td><td>1</td><td>1807</td><td>1738</td><td>29</td><td>2251</td><td>2103</td><td>NA</td><td>UA</td><td>1228</td><td>N31412</td><td>EWR</td><td>SAN</td><td>NA</td><td>2425</td><td>17</td><td>38</td><td>2013-01-01 17:00:00</td></tr>\n",
              "\t<tr><th scope=row>5</th><td>2013</td><td>1</td><td>1</td><td>1939</td><td>1840</td><td>59</td><td>  29</td><td>2151</td><td>NA</td><td>9E</td><td>3325</td><td>N905XJ</td><td>JFK</td><td>DFW</td><td>NA</td><td>1391</td><td>18</td><td>40</td><td>2013-01-01 18:00:00</td></tr>\n",
              "\t<tr><th scope=row>6</th><td>2013</td><td>1</td><td>1</td><td>1952</td><td>1930</td><td>22</td><td>2358</td><td>2207</td><td>NA</td><td>EV</td><td>4333</td><td>N11194</td><td>EWR</td><td>TUL</td><td>NA</td><td>1215</td><td>19</td><td>30</td><td>2013-01-01 19:00:00</td></tr>\n",
              "</tbody>\n",
              "</table>\n"
            ],
            "text/markdown": "\nA data.frame: 6 × 19\n\n| <!--/--> | year &lt;int&gt; | month &lt;int&gt; | day &lt;int&gt; | dep_time &lt;int&gt; | sched_dep_time &lt;int&gt; | dep_delay &lt;int&gt; | arr_time &lt;int&gt; | sched_arr_time &lt;int&gt; | arr_delay &lt;int&gt; | carrier &lt;chr&gt; | flight &lt;int&gt; | tailnum &lt;chr&gt; | origin &lt;chr&gt; | dest &lt;chr&gt; | air_time &lt;int&gt; | distance &lt;int&gt; | hour &lt;int&gt; | minute &lt;int&gt; | time_hour &lt;chr&gt; |\n|---|---|---|---|---|---|---|---|---|---|---|---|---|---|---|---|---|---|---|---|\n| 1 | 2013 | 1 | 1 | 1525 | 1530 | -5 | 1934 | 1805 | NA | MQ | 4525 | N719MQ | LGA | XNA | NA | 1147 | 15 | 30 | 2013-01-01 15:00:00 |\n| 2 | 2013 | 1 | 1 | 1528 | 1459 | 29 | 2002 | 1647 | NA | EV | 3806 | N17108 | EWR | STL | NA |  872 | 14 | 59 | 2013-01-01 14:00:00 |\n| 3 | 2013 | 1 | 1 | 1740 | 1745 | -5 | 2158 | 2020 | NA | MQ | 4413 | N739MQ | LGA | XNA | NA | 1147 | 17 | 45 | 2013-01-01 17:00:00 |\n| 4 | 2013 | 1 | 1 | 1807 | 1738 | 29 | 2251 | 2103 | NA | UA | 1228 | N31412 | EWR | SAN | NA | 2425 | 17 | 38 | 2013-01-01 17:00:00 |\n| 5 | 2013 | 1 | 1 | 1939 | 1840 | 59 |   29 | 2151 | NA | 9E | 3325 | N905XJ | JFK | DFW | NA | 1391 | 18 | 40 | 2013-01-01 18:00:00 |\n| 6 | 2013 | 1 | 1 | 1952 | 1930 | 22 | 2358 | 2207 | NA | EV | 4333 | N11194 | EWR | TUL | NA | 1215 | 19 | 30 | 2013-01-01 19:00:00 |\n\n",
            "text/latex": "A data.frame: 6 × 19\n\\begin{tabular}{r|lllllllllllllllllll}\n  & year & month & day & dep\\_time & sched\\_dep\\_time & dep\\_delay & arr\\_time & sched\\_arr\\_time & arr\\_delay & carrier & flight & tailnum & origin & dest & air\\_time & distance & hour & minute & time\\_hour\\\\\n  & <int> & <int> & <int> & <int> & <int> & <int> & <int> & <int> & <int> & <chr> & <int> & <chr> & <chr> & <chr> & <int> & <int> & <int> & <int> & <chr>\\\\\n\\hline\n\t1 & 2013 & 1 & 1 & 1525 & 1530 & -5 & 1934 & 1805 & NA & MQ & 4525 & N719MQ & LGA & XNA & NA & 1147 & 15 & 30 & 2013-01-01 15:00:00\\\\\n\t2 & 2013 & 1 & 1 & 1528 & 1459 & 29 & 2002 & 1647 & NA & EV & 3806 & N17108 & EWR & STL & NA &  872 & 14 & 59 & 2013-01-01 14:00:00\\\\\n\t3 & 2013 & 1 & 1 & 1740 & 1745 & -5 & 2158 & 2020 & NA & MQ & 4413 & N739MQ & LGA & XNA & NA & 1147 & 17 & 45 & 2013-01-01 17:00:00\\\\\n\t4 & 2013 & 1 & 1 & 1807 & 1738 & 29 & 2251 & 2103 & NA & UA & 1228 & N31412 & EWR & SAN & NA & 2425 & 17 & 38 & 2013-01-01 17:00:00\\\\\n\t5 & 2013 & 1 & 1 & 1939 & 1840 & 59 &   29 & 2151 & NA & 9E & 3325 & N905XJ & JFK & DFW & NA & 1391 & 18 & 40 & 2013-01-01 18:00:00\\\\\n\t6 & 2013 & 1 & 1 & 1952 & 1930 & 22 & 2358 & 2207 & NA & EV & 4333 & N11194 & EWR & TUL & NA & 1215 & 19 & 30 & 2013-01-01 19:00:00\\\\\n\\end{tabular}\n",
            "text/plain": [
              "  year month day dep_time sched_dep_time dep_delay arr_time sched_arr_time\n",
              "1 2013 1     1   1525     1530           -5        1934     1805          \n",
              "2 2013 1     1   1528     1459           29        2002     1647          \n",
              "3 2013 1     1   1740     1745           -5        2158     2020          \n",
              "4 2013 1     1   1807     1738           29        2251     2103          \n",
              "5 2013 1     1   1939     1840           59          29     2151          \n",
              "6 2013 1     1   1952     1930           22        2358     2207          \n",
              "  arr_delay carrier flight tailnum origin dest air_time distance hour minute\n",
              "1 NA        MQ      4525   N719MQ  LGA    XNA  NA       1147     15   30    \n",
              "2 NA        EV      3806   N17108  EWR    STL  NA        872     14   59    \n",
              "3 NA        MQ      4413   N739MQ  LGA    XNA  NA       1147     17   45    \n",
              "4 NA        UA      1228   N31412  EWR    SAN  NA       2425     17   38    \n",
              "5 NA        9E      3325   N905XJ  JFK    DFW  NA       1391     18   40    \n",
              "6 NA        EV      4333   N11194  EWR    TUL  NA       1215     19   30    \n",
              "  time_hour          \n",
              "1 2013-01-01 15:00:00\n",
              "2 2013-01-01 14:00:00\n",
              "3 2013-01-01 17:00:00\n",
              "4 2013-01-01 17:00:00\n",
              "5 2013-01-01 18:00:00\n",
              "6 2013-01-01 19:00:00"
            ]
          },
          "metadata": {}
        }
      ]
    },
    {
      "cell_type": "code",
      "metadata": {
        "trusted": true,
        "id": "H_X1J0OyRPzc",
        "outputId": "911632d0-3409-45d3-9347-1ddf431b01a6",
        "colab": {
          "base_uri": "https://localhost:8080/",
          "height": 1000
        }
      },
      "source": [
        "# Si queremos reemplazar los NA's por el promedio de arr_delay (?)\n",
        "\n",
        " flights %>%\n",
        "   mutate(\n",
        "    arr_delay = ifelse(is.na(arr_delay), mean(arr_delay, na.rm = TRUE), arr_delay)\n",
        "   )"
      ],
      "execution_count": 111,
      "outputs": [
        {
          "output_type": "display_data",
          "data": {
            "text/html": [
              "<table class=\"dataframe\">\n",
              "<caption>A data.frame: 336776 × 19</caption>\n",
              "<thead>\n",
              "\t<tr><th scope=col>year</th><th scope=col>month</th><th scope=col>day</th><th scope=col>dep_time</th><th scope=col>sched_dep_time</th><th scope=col>dep_delay</th><th scope=col>arr_time</th><th scope=col>sched_arr_time</th><th scope=col>arr_delay</th><th scope=col>carrier</th><th scope=col>flight</th><th scope=col>tailnum</th><th scope=col>origin</th><th scope=col>dest</th><th scope=col>air_time</th><th scope=col>distance</th><th scope=col>hour</th><th scope=col>minute</th><th scope=col>time_hour</th></tr>\n",
              "\t<tr><th scope=col>&lt;int&gt;</th><th scope=col>&lt;int&gt;</th><th scope=col>&lt;int&gt;</th><th scope=col>&lt;int&gt;</th><th scope=col>&lt;int&gt;</th><th scope=col>&lt;int&gt;</th><th scope=col>&lt;int&gt;</th><th scope=col>&lt;int&gt;</th><th scope=col>&lt;dbl&gt;</th><th scope=col>&lt;chr&gt;</th><th scope=col>&lt;int&gt;</th><th scope=col>&lt;chr&gt;</th><th scope=col>&lt;chr&gt;</th><th scope=col>&lt;chr&gt;</th><th scope=col>&lt;int&gt;</th><th scope=col>&lt;int&gt;</th><th scope=col>&lt;int&gt;</th><th scope=col>&lt;int&gt;</th><th scope=col>&lt;chr&gt;</th></tr>\n",
              "</thead>\n",
              "<tbody>\n",
              "\t<tr><td>2013</td><td>1</td><td>1</td><td>517</td><td>515</td><td> 2</td><td> 830</td><td> 819</td><td> 11</td><td>UA</td><td>1545</td><td>N14228</td><td>EWR</td><td>IAH</td><td>227</td><td>1400</td><td>5</td><td>15</td><td>2013-01-01 05:00:00</td></tr>\n",
              "\t<tr><td>2013</td><td>1</td><td>1</td><td>533</td><td>529</td><td> 4</td><td> 850</td><td> 830</td><td> 20</td><td>UA</td><td>1714</td><td>N24211</td><td>LGA</td><td>IAH</td><td>227</td><td>1416</td><td>5</td><td>29</td><td>2013-01-01 05:00:00</td></tr>\n",
              "\t<tr><td>2013</td><td>1</td><td>1</td><td>542</td><td>540</td><td> 2</td><td> 923</td><td> 850</td><td> 33</td><td>AA</td><td>1141</td><td>N619AA</td><td>JFK</td><td>MIA</td><td>160</td><td>1089</td><td>5</td><td>40</td><td>2013-01-01 05:00:00</td></tr>\n",
              "\t<tr><td>2013</td><td>1</td><td>1</td><td>544</td><td>545</td><td>-1</td><td>1004</td><td>1022</td><td>-18</td><td>B6</td><td> 725</td><td>N804JB</td><td>JFK</td><td>BQN</td><td>183</td><td>1576</td><td>5</td><td>45</td><td>2013-01-01 05:00:00</td></tr>\n",
              "\t<tr><td>2013</td><td>1</td><td>1</td><td>554</td><td>600</td><td>-6</td><td> 812</td><td> 837</td><td>-25</td><td>DL</td><td> 461</td><td>N668DN</td><td>LGA</td><td>ATL</td><td>116</td><td> 762</td><td>6</td><td> 0</td><td>2013-01-01 06:00:00</td></tr>\n",
              "\t<tr><td>2013</td><td>1</td><td>1</td><td>554</td><td>558</td><td>-4</td><td> 740</td><td> 728</td><td> 12</td><td>UA</td><td>1696</td><td>N39463</td><td>EWR</td><td>ORD</td><td>150</td><td> 719</td><td>5</td><td>58</td><td>2013-01-01 05:00:00</td></tr>\n",
              "\t<tr><td>2013</td><td>1</td><td>1</td><td>555</td><td>600</td><td>-5</td><td> 913</td><td> 854</td><td> 19</td><td>B6</td><td> 507</td><td>N516JB</td><td>EWR</td><td>FLL</td><td>158</td><td>1065</td><td>6</td><td> 0</td><td>2013-01-01 06:00:00</td></tr>\n",
              "\t<tr><td>2013</td><td>1</td><td>1</td><td>557</td><td>600</td><td>-3</td><td> 709</td><td> 723</td><td>-14</td><td>EV</td><td>5708</td><td>N829AS</td><td>LGA</td><td>IAD</td><td> 53</td><td> 229</td><td>6</td><td> 0</td><td>2013-01-01 06:00:00</td></tr>\n",
              "\t<tr><td>2013</td><td>1</td><td>1</td><td>557</td><td>600</td><td>-3</td><td> 838</td><td> 846</td><td> -8</td><td>B6</td><td>  79</td><td>N593JB</td><td>JFK</td><td>MCO</td><td>140</td><td> 944</td><td>6</td><td> 0</td><td>2013-01-01 06:00:00</td></tr>\n",
              "\t<tr><td>2013</td><td>1</td><td>1</td><td>558</td><td>600</td><td>-2</td><td> 753</td><td> 745</td><td>  8</td><td>AA</td><td> 301</td><td>N3ALAA</td><td>LGA</td><td>ORD</td><td>138</td><td> 733</td><td>6</td><td> 0</td><td>2013-01-01 06:00:00</td></tr>\n",
              "\t<tr><td>2013</td><td>1</td><td>1</td><td>558</td><td>600</td><td>-2</td><td> 849</td><td> 851</td><td> -2</td><td>B6</td><td>  49</td><td>N793JB</td><td>JFK</td><td>PBI</td><td>149</td><td>1028</td><td>6</td><td> 0</td><td>2013-01-01 06:00:00</td></tr>\n",
              "\t<tr><td>2013</td><td>1</td><td>1</td><td>558</td><td>600</td><td>-2</td><td> 853</td><td> 856</td><td> -3</td><td>B6</td><td>  71</td><td>N657JB</td><td>JFK</td><td>TPA</td><td>158</td><td>1005</td><td>6</td><td> 0</td><td>2013-01-01 06:00:00</td></tr>\n",
              "\t<tr><td>2013</td><td>1</td><td>1</td><td>558</td><td>600</td><td>-2</td><td> 924</td><td> 917</td><td>  7</td><td>UA</td><td> 194</td><td>N29129</td><td>JFK</td><td>LAX</td><td>345</td><td>2475</td><td>6</td><td> 0</td><td>2013-01-01 06:00:00</td></tr>\n",
              "\t<tr><td>2013</td><td>1</td><td>1</td><td>558</td><td>600</td><td>-2</td><td> 923</td><td> 937</td><td>-14</td><td>UA</td><td>1124</td><td>N53441</td><td>EWR</td><td>SFO</td><td>361</td><td>2565</td><td>6</td><td> 0</td><td>2013-01-01 06:00:00</td></tr>\n",
              "\t<tr><td>2013</td><td>1</td><td>1</td><td>559</td><td>600</td><td>-1</td><td> 941</td><td> 910</td><td> 31</td><td>AA</td><td> 707</td><td>N3DUAA</td><td>LGA</td><td>DFW</td><td>257</td><td>1389</td><td>6</td><td> 0</td><td>2013-01-01 06:00:00</td></tr>\n",
              "\t<tr><td>2013</td><td>1</td><td>1</td><td>559</td><td>559</td><td> 0</td><td> 702</td><td> 706</td><td> -4</td><td>B6</td><td>1806</td><td>N708JB</td><td>JFK</td><td>BOS</td><td> 44</td><td> 187</td><td>5</td><td>59</td><td>2013-01-01 05:00:00</td></tr>\n",
              "\t<tr><td>2013</td><td>1</td><td>1</td><td>559</td><td>600</td><td>-1</td><td> 854</td><td> 902</td><td> -8</td><td>UA</td><td>1187</td><td>N76515</td><td>EWR</td><td>LAS</td><td>337</td><td>2227</td><td>6</td><td> 0</td><td>2013-01-01 06:00:00</td></tr>\n",
              "\t<tr><td>2013</td><td>1</td><td>1</td><td>600</td><td>600</td><td> 0</td><td> 851</td><td> 858</td><td> -7</td><td>B6</td><td> 371</td><td>N595JB</td><td>LGA</td><td>FLL</td><td>152</td><td>1076</td><td>6</td><td> 0</td><td>2013-01-01 06:00:00</td></tr>\n",
              "\t<tr><td>2013</td><td>1</td><td>1</td><td>600</td><td>600</td><td> 0</td><td> 837</td><td> 825</td><td> 12</td><td>MQ</td><td>4650</td><td>N542MQ</td><td>LGA</td><td>ATL</td><td>134</td><td> 762</td><td>6</td><td> 0</td><td>2013-01-01 06:00:00</td></tr>\n",
              "\t<tr><td>2013</td><td>1</td><td>1</td><td>601</td><td>600</td><td> 1</td><td> 844</td><td> 850</td><td> -6</td><td>B6</td><td> 343</td><td>N644JB</td><td>EWR</td><td>PBI</td><td>147</td><td>1023</td><td>6</td><td> 0</td><td>2013-01-01 06:00:00</td></tr>\n",
              "\t<tr><td>2013</td><td>1</td><td>1</td><td>602</td><td>610</td><td>-8</td><td> 812</td><td> 820</td><td> -8</td><td>DL</td><td>1919</td><td>N971DL</td><td>LGA</td><td>MSP</td><td>170</td><td>1020</td><td>6</td><td>10</td><td>2013-01-01 06:00:00</td></tr>\n",
              "\t<tr><td>2013</td><td>1</td><td>1</td><td>602</td><td>605</td><td>-3</td><td> 821</td><td> 805</td><td> 16</td><td>MQ</td><td>4401</td><td>N730MQ</td><td>LGA</td><td>DTW</td><td>105</td><td> 502</td><td>6</td><td> 5</td><td>2013-01-01 06:00:00</td></tr>\n",
              "\t<tr><td>2013</td><td>1</td><td>1</td><td>606</td><td>610</td><td>-4</td><td> 858</td><td> 910</td><td>-12</td><td>AA</td><td>1895</td><td>N633AA</td><td>EWR</td><td>MIA</td><td>152</td><td>1085</td><td>6</td><td>10</td><td>2013-01-01 06:00:00</td></tr>\n",
              "\t<tr><td>2013</td><td>1</td><td>1</td><td>606</td><td>610</td><td>-4</td><td> 837</td><td> 845</td><td> -8</td><td>DL</td><td>1743</td><td>N3739P</td><td>JFK</td><td>ATL</td><td>128</td><td> 760</td><td>6</td><td>10</td><td>2013-01-01 06:00:00</td></tr>\n",
              "\t<tr><td>2013</td><td>1</td><td>1</td><td>607</td><td>607</td><td> 0</td><td> 858</td><td> 915</td><td>-17</td><td>UA</td><td>1077</td><td>N53442</td><td>EWR</td><td>MIA</td><td>157</td><td>1085</td><td>6</td><td> 7</td><td>2013-01-01 06:00:00</td></tr>\n",
              "\t<tr><td>2013</td><td>1</td><td>1</td><td>608</td><td>600</td><td> 8</td><td> 807</td><td> 735</td><td> 32</td><td>MQ</td><td>3768</td><td>N9EAMQ</td><td>EWR</td><td>ORD</td><td>139</td><td> 719</td><td>6</td><td> 0</td><td>2013-01-01 06:00:00</td></tr>\n",
              "\t<tr><td>2013</td><td>1</td><td>1</td><td>611</td><td>600</td><td>11</td><td> 945</td><td> 931</td><td> 14</td><td>UA</td><td> 303</td><td>N532UA</td><td>JFK</td><td>SFO</td><td>366</td><td>2586</td><td>6</td><td> 0</td><td>2013-01-01 06:00:00</td></tr>\n",
              "\t<tr><td>2013</td><td>1</td><td>1</td><td>613</td><td>610</td><td> 3</td><td> 925</td><td> 921</td><td>  4</td><td>B6</td><td> 135</td><td>N635JB</td><td>JFK</td><td>RSW</td><td>175</td><td>1074</td><td>6</td><td>10</td><td>2013-01-01 06:00:00</td></tr>\n",
              "\t<tr><td>2013</td><td>1</td><td>1</td><td>615</td><td>615</td><td> 0</td><td>1039</td><td>1100</td><td>-21</td><td>B6</td><td> 709</td><td>N794JB</td><td>JFK</td><td>SJU</td><td>182</td><td>1598</td><td>6</td><td>15</td><td>2013-01-01 06:00:00</td></tr>\n",
              "\t<tr><td>2013</td><td>1</td><td>1</td><td>615</td><td>615</td><td> 0</td><td> 833</td><td> 842</td><td> -9</td><td>DL</td><td> 575</td><td>N326NB</td><td>EWR</td><td>ATL</td><td>120</td><td> 746</td><td>6</td><td>15</td><td>2013-01-01 06:00:00</td></tr>\n",
              "\t<tr><td>⋮</td><td>⋮</td><td>⋮</td><td>⋮</td><td>⋮</td><td>⋮</td><td>⋮</td><td>⋮</td><td>⋮</td><td>⋮</td><td>⋮</td><td>⋮</td><td>⋮</td><td>⋮</td><td>⋮</td><td>⋮</td><td>⋮</td><td>⋮</td><td>⋮</td></tr>\n",
              "\t<tr><td>2013</td><td>9</td><td>30</td><td>2123</td><td>2125</td><td> -2</td><td>2223</td><td>2247</td><td>-24.000000</td><td>EV</td><td>5489</td><td>N712EV</td><td>LGA</td><td>CHO</td><td> 45</td><td> 305</td><td>21</td><td>25</td><td>2013-09-30 21:00:00</td></tr>\n",
              "\t<tr><td>2013</td><td>9</td><td>30</td><td>2127</td><td>2129</td><td> -2</td><td>2314</td><td>2323</td><td> -9.000000</td><td>EV</td><td>3833</td><td>N16546</td><td>EWR</td><td>CLT</td><td> 72</td><td> 529</td><td>21</td><td>29</td><td>2013-09-30 21:00:00</td></tr>\n",
              "\t<tr><td>2013</td><td>9</td><td>30</td><td>2128</td><td>2130</td><td> -2</td><td>2328</td><td>2359</td><td>-31.000000</td><td>B6</td><td>  97</td><td>N807JB</td><td>JFK</td><td>DEN</td><td>213</td><td>1626</td><td>21</td><td>30</td><td>2013-09-30 21:00:00</td></tr>\n",
              "\t<tr><td>2013</td><td>9</td><td>30</td><td>2129</td><td>2059</td><td> 30</td><td>2230</td><td>2232</td><td> -2.000000</td><td>EV</td><td>5048</td><td>N751EV</td><td>LGA</td><td>RIC</td><td> 45</td><td> 292</td><td>20</td><td>59</td><td>2013-09-30 20:00:00</td></tr>\n",
              "\t<tr><td>2013</td><td>9</td><td>30</td><td>2131</td><td>2140</td><td> -9</td><td>2225</td><td>2255</td><td>-30.000000</td><td>MQ</td><td>3621</td><td>N807MQ</td><td>JFK</td><td>DCA</td><td> 36</td><td> 213</td><td>21</td><td>40</td><td>2013-09-30 21:00:00</td></tr>\n",
              "\t<tr><td>2013</td><td>9</td><td>30</td><td>2140</td><td>2140</td><td>  0</td><td>  10</td><td>  40</td><td>-30.000000</td><td>AA</td><td> 185</td><td>N335AA</td><td>JFK</td><td>LAX</td><td>298</td><td>2475</td><td>21</td><td>40</td><td>2013-09-30 21:00:00</td></tr>\n",
              "\t<tr><td>2013</td><td>9</td><td>30</td><td>2142</td><td>2129</td><td> 13</td><td>2250</td><td>2239</td><td> 11.000000</td><td>EV</td><td>4509</td><td>N12957</td><td>EWR</td><td>PWM</td><td> 47</td><td> 284</td><td>21</td><td>29</td><td>2013-09-30 21:00:00</td></tr>\n",
              "\t<tr><td>2013</td><td>9</td><td>30</td><td>2145</td><td>2145</td><td>  0</td><td> 115</td><td> 140</td><td>-25.000000</td><td>B6</td><td>1103</td><td>N633JB</td><td>JFK</td><td>SJU</td><td>192</td><td>1598</td><td>21</td><td>45</td><td>2013-09-30 21:00:00</td></tr>\n",
              "\t<tr><td>2013</td><td>9</td><td>30</td><td>2147</td><td>2137</td><td> 10</td><td>  30</td><td>  27</td><td>  3.000000</td><td>B6</td><td>1371</td><td>N627JB</td><td>LGA</td><td>FLL</td><td>139</td><td>1076</td><td>21</td><td>37</td><td>2013-09-30 21:00:00</td></tr>\n",
              "\t<tr><td>2013</td><td>9</td><td>30</td><td>2149</td><td>2156</td><td> -7</td><td>2245</td><td>2308</td><td>-23.000000</td><td>UA</td><td> 523</td><td>N813UA</td><td>EWR</td><td>BOS</td><td> 37</td><td> 200</td><td>21</td><td>56</td><td>2013-09-30 21:00:00</td></tr>\n",
              "\t<tr><td>2013</td><td>9</td><td>30</td><td>2150</td><td>2159</td><td> -9</td><td>2250</td><td>2306</td><td>-16.000000</td><td>EV</td><td>3842</td><td>N10575</td><td>EWR</td><td>MHT</td><td> 39</td><td> 209</td><td>21</td><td>59</td><td>2013-09-30 21:00:00</td></tr>\n",
              "\t<tr><td>2013</td><td>9</td><td>30</td><td>2159</td><td>1845</td><td>194</td><td>2344</td><td>2030</td><td>194.000000</td><td>9E</td><td>3320</td><td>N906XJ</td><td>JFK</td><td>BUF</td><td> 50</td><td> 301</td><td>18</td><td>45</td><td>2013-09-30 18:00:00</td></tr>\n",
              "\t<tr><td>2013</td><td>9</td><td>30</td><td>2203</td><td>2205</td><td> -2</td><td>2339</td><td>2331</td><td>  8.000000</td><td>EV</td><td>5311</td><td>N722EV</td><td>LGA</td><td>BGR</td><td> 61</td><td> 378</td><td>22</td><td> 5</td><td>2013-09-30 22:00:00</td></tr>\n",
              "\t<tr><td>2013</td><td>9</td><td>30</td><td>2207</td><td>2140</td><td> 27</td><td>2257</td><td>2250</td><td>  7.000000</td><td>MQ</td><td>3660</td><td>N532MQ</td><td>LGA</td><td>BNA</td><td> 97</td><td> 764</td><td>21</td><td>40</td><td>2013-09-30 21:00:00</td></tr>\n",
              "\t<tr><td>2013</td><td>9</td><td>30</td><td>2211</td><td>2059</td><td> 72</td><td>2339</td><td>2242</td><td> 57.000000</td><td>EV</td><td>4672</td><td>N12145</td><td>EWR</td><td>STL</td><td>120</td><td> 872</td><td>20</td><td>59</td><td>2013-09-30 20:00:00</td></tr>\n",
              "\t<tr><td>2013</td><td>9</td><td>30</td><td>2231</td><td>2245</td><td>-14</td><td>2335</td><td>2356</td><td>-21.000000</td><td>B6</td><td> 108</td><td>N193JB</td><td>JFK</td><td>PWM</td><td> 48</td><td> 273</td><td>22</td><td>45</td><td>2013-09-30 22:00:00</td></tr>\n",
              "\t<tr><td>2013</td><td>9</td><td>30</td><td>2233</td><td>2113</td><td> 80</td><td> 112</td><td>  30</td><td> 42.000000</td><td>UA</td><td> 471</td><td>N578UA</td><td>EWR</td><td>SFO</td><td>318</td><td>2565</td><td>21</td><td>13</td><td>2013-09-30 21:00:00</td></tr>\n",
              "\t<tr><td>2013</td><td>9</td><td>30</td><td>2235</td><td>2001</td><td>154</td><td>  59</td><td>2249</td><td>130.000000</td><td>B6</td><td>1083</td><td>N804JB</td><td>JFK</td><td>MCO</td><td>123</td><td> 944</td><td>20</td><td> 1</td><td>2013-09-30 20:00:00</td></tr>\n",
              "\t<tr><td>2013</td><td>9</td><td>30</td><td>2237</td><td>2245</td><td> -8</td><td>2345</td><td>2353</td><td> -8.000000</td><td>B6</td><td> 234</td><td>N318JB</td><td>JFK</td><td>BTV</td><td> 43</td><td> 266</td><td>22</td><td>45</td><td>2013-09-30 22:00:00</td></tr>\n",
              "\t<tr><td>2013</td><td>9</td><td>30</td><td>2240</td><td>2245</td><td> -5</td><td>2334</td><td>2351</td><td>-17.000000</td><td>B6</td><td>1816</td><td>N354JB</td><td>JFK</td><td>SYR</td><td> 41</td><td> 209</td><td>22</td><td>45</td><td>2013-09-30 22:00:00</td></tr>\n",
              "\t<tr><td>2013</td><td>9</td><td>30</td><td>2240</td><td>2250</td><td>-10</td><td>2347</td><td>   7</td><td>-20.000000</td><td>B6</td><td>2002</td><td>N281JB</td><td>JFK</td><td>BUF</td><td> 52</td><td> 301</td><td>22</td><td>50</td><td>2013-09-30 22:00:00</td></tr>\n",
              "\t<tr><td>2013</td><td>9</td><td>30</td><td>2241</td><td>2246</td><td> -5</td><td>2345</td><td>   1</td><td>-16.000000</td><td>B6</td><td> 486</td><td>N346JB</td><td>JFK</td><td>ROC</td><td> 47</td><td> 264</td><td>22</td><td>46</td><td>2013-09-30 22:00:00</td></tr>\n",
              "\t<tr><td>2013</td><td>9</td><td>30</td><td>2307</td><td>2255</td><td> 12</td><td>2359</td><td>2358</td><td>  1.000000</td><td>B6</td><td> 718</td><td>N565JB</td><td>JFK</td><td>BOS</td><td> 33</td><td> 187</td><td>22</td><td>55</td><td>2013-09-30 22:00:00</td></tr>\n",
              "\t<tr><td>2013</td><td>9</td><td>30</td><td>2349</td><td>2359</td><td>-10</td><td> 325</td><td> 350</td><td>-25.000000</td><td>B6</td><td> 745</td><td>N516JB</td><td>JFK</td><td>PSE</td><td>196</td><td>1617</td><td>23</td><td>59</td><td>2013-09-30 23:00:00</td></tr>\n",
              "\t<tr><td>2013</td><td>9</td><td>30</td><td>  NA</td><td>1842</td><td> NA</td><td>  NA</td><td>2019</td><td>  6.895377</td><td>EV</td><td>5274</td><td>N740EV</td><td>LGA</td><td>BNA</td><td> NA</td><td> 764</td><td>18</td><td>42</td><td>2013-09-30 18:00:00</td></tr>\n",
              "\t<tr><td>2013</td><td>9</td><td>30</td><td>  NA</td><td>1455</td><td> NA</td><td>  NA</td><td>1634</td><td>  6.895377</td><td>9E</td><td>3393</td><td>NA    </td><td>JFK</td><td>DCA</td><td> NA</td><td> 213</td><td>14</td><td>55</td><td>2013-09-30 14:00:00</td></tr>\n",
              "\t<tr><td>2013</td><td>9</td><td>30</td><td>  NA</td><td>2200</td><td> NA</td><td>  NA</td><td>2312</td><td>  6.895377</td><td>9E</td><td>3525</td><td>NA    </td><td>LGA</td><td>SYR</td><td> NA</td><td> 198</td><td>22</td><td> 0</td><td>2013-09-30 22:00:00</td></tr>\n",
              "\t<tr><td>2013</td><td>9</td><td>30</td><td>  NA</td><td>1210</td><td> NA</td><td>  NA</td><td>1330</td><td>  6.895377</td><td>MQ</td><td>3461</td><td>N535MQ</td><td>LGA</td><td>BNA</td><td> NA</td><td> 764</td><td>12</td><td>10</td><td>2013-09-30 12:00:00</td></tr>\n",
              "\t<tr><td>2013</td><td>9</td><td>30</td><td>  NA</td><td>1159</td><td> NA</td><td>  NA</td><td>1344</td><td>  6.895377</td><td>MQ</td><td>3572</td><td>N511MQ</td><td>LGA</td><td>CLE</td><td> NA</td><td> 419</td><td>11</td><td>59</td><td>2013-09-30 11:00:00</td></tr>\n",
              "\t<tr><td>2013</td><td>9</td><td>30</td><td>  NA</td><td> 840</td><td> NA</td><td>  NA</td><td>1020</td><td>  6.895377</td><td>MQ</td><td>3531</td><td>N839MQ</td><td>LGA</td><td>RDU</td><td> NA</td><td> 431</td><td> 8</td><td>40</td><td>2013-09-30 08:00:00</td></tr>\n",
              "</tbody>\n",
              "</table>\n"
            ],
            "text/markdown": "\nA data.frame: 336776 × 19\n\n| year &lt;int&gt; | month &lt;int&gt; | day &lt;int&gt; | dep_time &lt;int&gt; | sched_dep_time &lt;int&gt; | dep_delay &lt;int&gt; | arr_time &lt;int&gt; | sched_arr_time &lt;int&gt; | arr_delay &lt;dbl&gt; | carrier &lt;chr&gt; | flight &lt;int&gt; | tailnum &lt;chr&gt; | origin &lt;chr&gt; | dest &lt;chr&gt; | air_time &lt;int&gt; | distance &lt;int&gt; | hour &lt;int&gt; | minute &lt;int&gt; | time_hour &lt;chr&gt; |\n|---|---|---|---|---|---|---|---|---|---|---|---|---|---|---|---|---|---|---|\n| 2013 | 1 | 1 | 517 | 515 |  2 |  830 |  819 |  11 | UA | 1545 | N14228 | EWR | IAH | 227 | 1400 | 5 | 15 | 2013-01-01 05:00:00 |\n| 2013 | 1 | 1 | 533 | 529 |  4 |  850 |  830 |  20 | UA | 1714 | N24211 | LGA | IAH | 227 | 1416 | 5 | 29 | 2013-01-01 05:00:00 |\n| 2013 | 1 | 1 | 542 | 540 |  2 |  923 |  850 |  33 | AA | 1141 | N619AA | JFK | MIA | 160 | 1089 | 5 | 40 | 2013-01-01 05:00:00 |\n| 2013 | 1 | 1 | 544 | 545 | -1 | 1004 | 1022 | -18 | B6 |  725 | N804JB | JFK | BQN | 183 | 1576 | 5 | 45 | 2013-01-01 05:00:00 |\n| 2013 | 1 | 1 | 554 | 600 | -6 |  812 |  837 | -25 | DL |  461 | N668DN | LGA | ATL | 116 |  762 | 6 |  0 | 2013-01-01 06:00:00 |\n| 2013 | 1 | 1 | 554 | 558 | -4 |  740 |  728 |  12 | UA | 1696 | N39463 | EWR | ORD | 150 |  719 | 5 | 58 | 2013-01-01 05:00:00 |\n| 2013 | 1 | 1 | 555 | 600 | -5 |  913 |  854 |  19 | B6 |  507 | N516JB | EWR | FLL | 158 | 1065 | 6 |  0 | 2013-01-01 06:00:00 |\n| 2013 | 1 | 1 | 557 | 600 | -3 |  709 |  723 | -14 | EV | 5708 | N829AS | LGA | IAD |  53 |  229 | 6 |  0 | 2013-01-01 06:00:00 |\n| 2013 | 1 | 1 | 557 | 600 | -3 |  838 |  846 |  -8 | B6 |   79 | N593JB | JFK | MCO | 140 |  944 | 6 |  0 | 2013-01-01 06:00:00 |\n| 2013 | 1 | 1 | 558 | 600 | -2 |  753 |  745 |   8 | AA |  301 | N3ALAA | LGA | ORD | 138 |  733 | 6 |  0 | 2013-01-01 06:00:00 |\n| 2013 | 1 | 1 | 558 | 600 | -2 |  849 |  851 |  -2 | B6 |   49 | N793JB | JFK | PBI | 149 | 1028 | 6 |  0 | 2013-01-01 06:00:00 |\n| 2013 | 1 | 1 | 558 | 600 | -2 |  853 |  856 |  -3 | B6 |   71 | N657JB | JFK | TPA | 158 | 1005 | 6 |  0 | 2013-01-01 06:00:00 |\n| 2013 | 1 | 1 | 558 | 600 | -2 |  924 |  917 |   7 | UA |  194 | N29129 | JFK | LAX | 345 | 2475 | 6 |  0 | 2013-01-01 06:00:00 |\n| 2013 | 1 | 1 | 558 | 600 | -2 |  923 |  937 | -14 | UA | 1124 | N53441 | EWR | SFO | 361 | 2565 | 6 |  0 | 2013-01-01 06:00:00 |\n| 2013 | 1 | 1 | 559 | 600 | -1 |  941 |  910 |  31 | AA |  707 | N3DUAA | LGA | DFW | 257 | 1389 | 6 |  0 | 2013-01-01 06:00:00 |\n| 2013 | 1 | 1 | 559 | 559 |  0 |  702 |  706 |  -4 | B6 | 1806 | N708JB | JFK | BOS |  44 |  187 | 5 | 59 | 2013-01-01 05:00:00 |\n| 2013 | 1 | 1 | 559 | 600 | -1 |  854 |  902 |  -8 | UA | 1187 | N76515 | EWR | LAS | 337 | 2227 | 6 |  0 | 2013-01-01 06:00:00 |\n| 2013 | 1 | 1 | 600 | 600 |  0 |  851 |  858 |  -7 | B6 |  371 | N595JB | LGA | FLL | 152 | 1076 | 6 |  0 | 2013-01-01 06:00:00 |\n| 2013 | 1 | 1 | 600 | 600 |  0 |  837 |  825 |  12 | MQ | 4650 | N542MQ | LGA | ATL | 134 |  762 | 6 |  0 | 2013-01-01 06:00:00 |\n| 2013 | 1 | 1 | 601 | 600 |  1 |  844 |  850 |  -6 | B6 |  343 | N644JB | EWR | PBI | 147 | 1023 | 6 |  0 | 2013-01-01 06:00:00 |\n| 2013 | 1 | 1 | 602 | 610 | -8 |  812 |  820 |  -8 | DL | 1919 | N971DL | LGA | MSP | 170 | 1020 | 6 | 10 | 2013-01-01 06:00:00 |\n| 2013 | 1 | 1 | 602 | 605 | -3 |  821 |  805 |  16 | MQ | 4401 | N730MQ | LGA | DTW | 105 |  502 | 6 |  5 | 2013-01-01 06:00:00 |\n| 2013 | 1 | 1 | 606 | 610 | -4 |  858 |  910 | -12 | AA | 1895 | N633AA | EWR | MIA | 152 | 1085 | 6 | 10 | 2013-01-01 06:00:00 |\n| 2013 | 1 | 1 | 606 | 610 | -4 |  837 |  845 |  -8 | DL | 1743 | N3739P | JFK | ATL | 128 |  760 | 6 | 10 | 2013-01-01 06:00:00 |\n| 2013 | 1 | 1 | 607 | 607 |  0 |  858 |  915 | -17 | UA | 1077 | N53442 | EWR | MIA | 157 | 1085 | 6 |  7 | 2013-01-01 06:00:00 |\n| 2013 | 1 | 1 | 608 | 600 |  8 |  807 |  735 |  32 | MQ | 3768 | N9EAMQ | EWR | ORD | 139 |  719 | 6 |  0 | 2013-01-01 06:00:00 |\n| 2013 | 1 | 1 | 611 | 600 | 11 |  945 |  931 |  14 | UA |  303 | N532UA | JFK | SFO | 366 | 2586 | 6 |  0 | 2013-01-01 06:00:00 |\n| 2013 | 1 | 1 | 613 | 610 |  3 |  925 |  921 |   4 | B6 |  135 | N635JB | JFK | RSW | 175 | 1074 | 6 | 10 | 2013-01-01 06:00:00 |\n| 2013 | 1 | 1 | 615 | 615 |  0 | 1039 | 1100 | -21 | B6 |  709 | N794JB | JFK | SJU | 182 | 1598 | 6 | 15 | 2013-01-01 06:00:00 |\n| 2013 | 1 | 1 | 615 | 615 |  0 |  833 |  842 |  -9 | DL |  575 | N326NB | EWR | ATL | 120 |  746 | 6 | 15 | 2013-01-01 06:00:00 |\n| ⋮ | ⋮ | ⋮ | ⋮ | ⋮ | ⋮ | ⋮ | ⋮ | ⋮ | ⋮ | ⋮ | ⋮ | ⋮ | ⋮ | ⋮ | ⋮ | ⋮ | ⋮ | ⋮ |\n| 2013 | 9 | 30 | 2123 | 2125 |  -2 | 2223 | 2247 | -24.000000 | EV | 5489 | N712EV | LGA | CHO |  45 |  305 | 21 | 25 | 2013-09-30 21:00:00 |\n| 2013 | 9 | 30 | 2127 | 2129 |  -2 | 2314 | 2323 |  -9.000000 | EV | 3833 | N16546 | EWR | CLT |  72 |  529 | 21 | 29 | 2013-09-30 21:00:00 |\n| 2013 | 9 | 30 | 2128 | 2130 |  -2 | 2328 | 2359 | -31.000000 | B6 |   97 | N807JB | JFK | DEN | 213 | 1626 | 21 | 30 | 2013-09-30 21:00:00 |\n| 2013 | 9 | 30 | 2129 | 2059 |  30 | 2230 | 2232 |  -2.000000 | EV | 5048 | N751EV | LGA | RIC |  45 |  292 | 20 | 59 | 2013-09-30 20:00:00 |\n| 2013 | 9 | 30 | 2131 | 2140 |  -9 | 2225 | 2255 | -30.000000 | MQ | 3621 | N807MQ | JFK | DCA |  36 |  213 | 21 | 40 | 2013-09-30 21:00:00 |\n| 2013 | 9 | 30 | 2140 | 2140 |   0 |   10 |   40 | -30.000000 | AA |  185 | N335AA | JFK | LAX | 298 | 2475 | 21 | 40 | 2013-09-30 21:00:00 |\n| 2013 | 9 | 30 | 2142 | 2129 |  13 | 2250 | 2239 |  11.000000 | EV | 4509 | N12957 | EWR | PWM |  47 |  284 | 21 | 29 | 2013-09-30 21:00:00 |\n| 2013 | 9 | 30 | 2145 | 2145 |   0 |  115 |  140 | -25.000000 | B6 | 1103 | N633JB | JFK | SJU | 192 | 1598 | 21 | 45 | 2013-09-30 21:00:00 |\n| 2013 | 9 | 30 | 2147 | 2137 |  10 |   30 |   27 |   3.000000 | B6 | 1371 | N627JB | LGA | FLL | 139 | 1076 | 21 | 37 | 2013-09-30 21:00:00 |\n| 2013 | 9 | 30 | 2149 | 2156 |  -7 | 2245 | 2308 | -23.000000 | UA |  523 | N813UA | EWR | BOS |  37 |  200 | 21 | 56 | 2013-09-30 21:00:00 |\n| 2013 | 9 | 30 | 2150 | 2159 |  -9 | 2250 | 2306 | -16.000000 | EV | 3842 | N10575 | EWR | MHT |  39 |  209 | 21 | 59 | 2013-09-30 21:00:00 |\n| 2013 | 9 | 30 | 2159 | 1845 | 194 | 2344 | 2030 | 194.000000 | 9E | 3320 | N906XJ | JFK | BUF |  50 |  301 | 18 | 45 | 2013-09-30 18:00:00 |\n| 2013 | 9 | 30 | 2203 | 2205 |  -2 | 2339 | 2331 |   8.000000 | EV | 5311 | N722EV | LGA | BGR |  61 |  378 | 22 |  5 | 2013-09-30 22:00:00 |\n| 2013 | 9 | 30 | 2207 | 2140 |  27 | 2257 | 2250 |   7.000000 | MQ | 3660 | N532MQ | LGA | BNA |  97 |  764 | 21 | 40 | 2013-09-30 21:00:00 |\n| 2013 | 9 | 30 | 2211 | 2059 |  72 | 2339 | 2242 |  57.000000 | EV | 4672 | N12145 | EWR | STL | 120 |  872 | 20 | 59 | 2013-09-30 20:00:00 |\n| 2013 | 9 | 30 | 2231 | 2245 | -14 | 2335 | 2356 | -21.000000 | B6 |  108 | N193JB | JFK | PWM |  48 |  273 | 22 | 45 | 2013-09-30 22:00:00 |\n| 2013 | 9 | 30 | 2233 | 2113 |  80 |  112 |   30 |  42.000000 | UA |  471 | N578UA | EWR | SFO | 318 | 2565 | 21 | 13 | 2013-09-30 21:00:00 |\n| 2013 | 9 | 30 | 2235 | 2001 | 154 |   59 | 2249 | 130.000000 | B6 | 1083 | N804JB | JFK | MCO | 123 |  944 | 20 |  1 | 2013-09-30 20:00:00 |\n| 2013 | 9 | 30 | 2237 | 2245 |  -8 | 2345 | 2353 |  -8.000000 | B6 |  234 | N318JB | JFK | BTV |  43 |  266 | 22 | 45 | 2013-09-30 22:00:00 |\n| 2013 | 9 | 30 | 2240 | 2245 |  -5 | 2334 | 2351 | -17.000000 | B6 | 1816 | N354JB | JFK | SYR |  41 |  209 | 22 | 45 | 2013-09-30 22:00:00 |\n| 2013 | 9 | 30 | 2240 | 2250 | -10 | 2347 |    7 | -20.000000 | B6 | 2002 | N281JB | JFK | BUF |  52 |  301 | 22 | 50 | 2013-09-30 22:00:00 |\n| 2013 | 9 | 30 | 2241 | 2246 |  -5 | 2345 |    1 | -16.000000 | B6 |  486 | N346JB | JFK | ROC |  47 |  264 | 22 | 46 | 2013-09-30 22:00:00 |\n| 2013 | 9 | 30 | 2307 | 2255 |  12 | 2359 | 2358 |   1.000000 | B6 |  718 | N565JB | JFK | BOS |  33 |  187 | 22 | 55 | 2013-09-30 22:00:00 |\n| 2013 | 9 | 30 | 2349 | 2359 | -10 |  325 |  350 | -25.000000 | B6 |  745 | N516JB | JFK | PSE | 196 | 1617 | 23 | 59 | 2013-09-30 23:00:00 |\n| 2013 | 9 | 30 |   NA | 1842 |  NA |   NA | 2019 |   6.895377 | EV | 5274 | N740EV | LGA | BNA |  NA |  764 | 18 | 42 | 2013-09-30 18:00:00 |\n| 2013 | 9 | 30 |   NA | 1455 |  NA |   NA | 1634 |   6.895377 | 9E | 3393 | NA     | JFK | DCA |  NA |  213 | 14 | 55 | 2013-09-30 14:00:00 |\n| 2013 | 9 | 30 |   NA | 2200 |  NA |   NA | 2312 |   6.895377 | 9E | 3525 | NA     | LGA | SYR |  NA |  198 | 22 |  0 | 2013-09-30 22:00:00 |\n| 2013 | 9 | 30 |   NA | 1210 |  NA |   NA | 1330 |   6.895377 | MQ | 3461 | N535MQ | LGA | BNA |  NA |  764 | 12 | 10 | 2013-09-30 12:00:00 |\n| 2013 | 9 | 30 |   NA | 1159 |  NA |   NA | 1344 |   6.895377 | MQ | 3572 | N511MQ | LGA | CLE |  NA |  419 | 11 | 59 | 2013-09-30 11:00:00 |\n| 2013 | 9 | 30 |   NA |  840 |  NA |   NA | 1020 |   6.895377 | MQ | 3531 | N839MQ | LGA | RDU |  NA |  431 |  8 | 40 | 2013-09-30 08:00:00 |\n\n",
            "text/latex": "A data.frame: 336776 × 19\n\\begin{tabular}{lllllllllllllllllll}\n year & month & day & dep\\_time & sched\\_dep\\_time & dep\\_delay & arr\\_time & sched\\_arr\\_time & arr\\_delay & carrier & flight & tailnum & origin & dest & air\\_time & distance & hour & minute & time\\_hour\\\\\n <int> & <int> & <int> & <int> & <int> & <int> & <int> & <int> & <dbl> & <chr> & <int> & <chr> & <chr> & <chr> & <int> & <int> & <int> & <int> & <chr>\\\\\n\\hline\n\t 2013 & 1 & 1 & 517 & 515 &  2 &  830 &  819 &  11 & UA & 1545 & N14228 & EWR & IAH & 227 & 1400 & 5 & 15 & 2013-01-01 05:00:00\\\\\n\t 2013 & 1 & 1 & 533 & 529 &  4 &  850 &  830 &  20 & UA & 1714 & N24211 & LGA & IAH & 227 & 1416 & 5 & 29 & 2013-01-01 05:00:00\\\\\n\t 2013 & 1 & 1 & 542 & 540 &  2 &  923 &  850 &  33 & AA & 1141 & N619AA & JFK & MIA & 160 & 1089 & 5 & 40 & 2013-01-01 05:00:00\\\\\n\t 2013 & 1 & 1 & 544 & 545 & -1 & 1004 & 1022 & -18 & B6 &  725 & N804JB & JFK & BQN & 183 & 1576 & 5 & 45 & 2013-01-01 05:00:00\\\\\n\t 2013 & 1 & 1 & 554 & 600 & -6 &  812 &  837 & -25 & DL &  461 & N668DN & LGA & ATL & 116 &  762 & 6 &  0 & 2013-01-01 06:00:00\\\\\n\t 2013 & 1 & 1 & 554 & 558 & -4 &  740 &  728 &  12 & UA & 1696 & N39463 & EWR & ORD & 150 &  719 & 5 & 58 & 2013-01-01 05:00:00\\\\\n\t 2013 & 1 & 1 & 555 & 600 & -5 &  913 &  854 &  19 & B6 &  507 & N516JB & EWR & FLL & 158 & 1065 & 6 &  0 & 2013-01-01 06:00:00\\\\\n\t 2013 & 1 & 1 & 557 & 600 & -3 &  709 &  723 & -14 & EV & 5708 & N829AS & LGA & IAD &  53 &  229 & 6 &  0 & 2013-01-01 06:00:00\\\\\n\t 2013 & 1 & 1 & 557 & 600 & -3 &  838 &  846 &  -8 & B6 &   79 & N593JB & JFK & MCO & 140 &  944 & 6 &  0 & 2013-01-01 06:00:00\\\\\n\t 2013 & 1 & 1 & 558 & 600 & -2 &  753 &  745 &   8 & AA &  301 & N3ALAA & LGA & ORD & 138 &  733 & 6 &  0 & 2013-01-01 06:00:00\\\\\n\t 2013 & 1 & 1 & 558 & 600 & -2 &  849 &  851 &  -2 & B6 &   49 & N793JB & JFK & PBI & 149 & 1028 & 6 &  0 & 2013-01-01 06:00:00\\\\\n\t 2013 & 1 & 1 & 558 & 600 & -2 &  853 &  856 &  -3 & B6 &   71 & N657JB & JFK & TPA & 158 & 1005 & 6 &  0 & 2013-01-01 06:00:00\\\\\n\t 2013 & 1 & 1 & 558 & 600 & -2 &  924 &  917 &   7 & UA &  194 & N29129 & JFK & LAX & 345 & 2475 & 6 &  0 & 2013-01-01 06:00:00\\\\\n\t 2013 & 1 & 1 & 558 & 600 & -2 &  923 &  937 & -14 & UA & 1124 & N53441 & EWR & SFO & 361 & 2565 & 6 &  0 & 2013-01-01 06:00:00\\\\\n\t 2013 & 1 & 1 & 559 & 600 & -1 &  941 &  910 &  31 & AA &  707 & N3DUAA & LGA & DFW & 257 & 1389 & 6 &  0 & 2013-01-01 06:00:00\\\\\n\t 2013 & 1 & 1 & 559 & 559 &  0 &  702 &  706 &  -4 & B6 & 1806 & N708JB & JFK & BOS &  44 &  187 & 5 & 59 & 2013-01-01 05:00:00\\\\\n\t 2013 & 1 & 1 & 559 & 600 & -1 &  854 &  902 &  -8 & UA & 1187 & N76515 & EWR & LAS & 337 & 2227 & 6 &  0 & 2013-01-01 06:00:00\\\\\n\t 2013 & 1 & 1 & 600 & 600 &  0 &  851 &  858 &  -7 & B6 &  371 & N595JB & LGA & FLL & 152 & 1076 & 6 &  0 & 2013-01-01 06:00:00\\\\\n\t 2013 & 1 & 1 & 600 & 600 &  0 &  837 &  825 &  12 & MQ & 4650 & N542MQ & LGA & ATL & 134 &  762 & 6 &  0 & 2013-01-01 06:00:00\\\\\n\t 2013 & 1 & 1 & 601 & 600 &  1 &  844 &  850 &  -6 & B6 &  343 & N644JB & EWR & PBI & 147 & 1023 & 6 &  0 & 2013-01-01 06:00:00\\\\\n\t 2013 & 1 & 1 & 602 & 610 & -8 &  812 &  820 &  -8 & DL & 1919 & N971DL & LGA & MSP & 170 & 1020 & 6 & 10 & 2013-01-01 06:00:00\\\\\n\t 2013 & 1 & 1 & 602 & 605 & -3 &  821 &  805 &  16 & MQ & 4401 & N730MQ & LGA & DTW & 105 &  502 & 6 &  5 & 2013-01-01 06:00:00\\\\\n\t 2013 & 1 & 1 & 606 & 610 & -4 &  858 &  910 & -12 & AA & 1895 & N633AA & EWR & MIA & 152 & 1085 & 6 & 10 & 2013-01-01 06:00:00\\\\\n\t 2013 & 1 & 1 & 606 & 610 & -4 &  837 &  845 &  -8 & DL & 1743 & N3739P & JFK & ATL & 128 &  760 & 6 & 10 & 2013-01-01 06:00:00\\\\\n\t 2013 & 1 & 1 & 607 & 607 &  0 &  858 &  915 & -17 & UA & 1077 & N53442 & EWR & MIA & 157 & 1085 & 6 &  7 & 2013-01-01 06:00:00\\\\\n\t 2013 & 1 & 1 & 608 & 600 &  8 &  807 &  735 &  32 & MQ & 3768 & N9EAMQ & EWR & ORD & 139 &  719 & 6 &  0 & 2013-01-01 06:00:00\\\\\n\t 2013 & 1 & 1 & 611 & 600 & 11 &  945 &  931 &  14 & UA &  303 & N532UA & JFK & SFO & 366 & 2586 & 6 &  0 & 2013-01-01 06:00:00\\\\\n\t 2013 & 1 & 1 & 613 & 610 &  3 &  925 &  921 &   4 & B6 &  135 & N635JB & JFK & RSW & 175 & 1074 & 6 & 10 & 2013-01-01 06:00:00\\\\\n\t 2013 & 1 & 1 & 615 & 615 &  0 & 1039 & 1100 & -21 & B6 &  709 & N794JB & JFK & SJU & 182 & 1598 & 6 & 15 & 2013-01-01 06:00:00\\\\\n\t 2013 & 1 & 1 & 615 & 615 &  0 &  833 &  842 &  -9 & DL &  575 & N326NB & EWR & ATL & 120 &  746 & 6 & 15 & 2013-01-01 06:00:00\\\\\n\t ⋮ & ⋮ & ⋮ & ⋮ & ⋮ & ⋮ & ⋮ & ⋮ & ⋮ & ⋮ & ⋮ & ⋮ & ⋮ & ⋮ & ⋮ & ⋮ & ⋮ & ⋮ & ⋮\\\\\n\t 2013 & 9 & 30 & 2123 & 2125 &  -2 & 2223 & 2247 & -24.000000 & EV & 5489 & N712EV & LGA & CHO &  45 &  305 & 21 & 25 & 2013-09-30 21:00:00\\\\\n\t 2013 & 9 & 30 & 2127 & 2129 &  -2 & 2314 & 2323 &  -9.000000 & EV & 3833 & N16546 & EWR & CLT &  72 &  529 & 21 & 29 & 2013-09-30 21:00:00\\\\\n\t 2013 & 9 & 30 & 2128 & 2130 &  -2 & 2328 & 2359 & -31.000000 & B6 &   97 & N807JB & JFK & DEN & 213 & 1626 & 21 & 30 & 2013-09-30 21:00:00\\\\\n\t 2013 & 9 & 30 & 2129 & 2059 &  30 & 2230 & 2232 &  -2.000000 & EV & 5048 & N751EV & LGA & RIC &  45 &  292 & 20 & 59 & 2013-09-30 20:00:00\\\\\n\t 2013 & 9 & 30 & 2131 & 2140 &  -9 & 2225 & 2255 & -30.000000 & MQ & 3621 & N807MQ & JFK & DCA &  36 &  213 & 21 & 40 & 2013-09-30 21:00:00\\\\\n\t 2013 & 9 & 30 & 2140 & 2140 &   0 &   10 &   40 & -30.000000 & AA &  185 & N335AA & JFK & LAX & 298 & 2475 & 21 & 40 & 2013-09-30 21:00:00\\\\\n\t 2013 & 9 & 30 & 2142 & 2129 &  13 & 2250 & 2239 &  11.000000 & EV & 4509 & N12957 & EWR & PWM &  47 &  284 & 21 & 29 & 2013-09-30 21:00:00\\\\\n\t 2013 & 9 & 30 & 2145 & 2145 &   0 &  115 &  140 & -25.000000 & B6 & 1103 & N633JB & JFK & SJU & 192 & 1598 & 21 & 45 & 2013-09-30 21:00:00\\\\\n\t 2013 & 9 & 30 & 2147 & 2137 &  10 &   30 &   27 &   3.000000 & B6 & 1371 & N627JB & LGA & FLL & 139 & 1076 & 21 & 37 & 2013-09-30 21:00:00\\\\\n\t 2013 & 9 & 30 & 2149 & 2156 &  -7 & 2245 & 2308 & -23.000000 & UA &  523 & N813UA & EWR & BOS &  37 &  200 & 21 & 56 & 2013-09-30 21:00:00\\\\\n\t 2013 & 9 & 30 & 2150 & 2159 &  -9 & 2250 & 2306 & -16.000000 & EV & 3842 & N10575 & EWR & MHT &  39 &  209 & 21 & 59 & 2013-09-30 21:00:00\\\\\n\t 2013 & 9 & 30 & 2159 & 1845 & 194 & 2344 & 2030 & 194.000000 & 9E & 3320 & N906XJ & JFK & BUF &  50 &  301 & 18 & 45 & 2013-09-30 18:00:00\\\\\n\t 2013 & 9 & 30 & 2203 & 2205 &  -2 & 2339 & 2331 &   8.000000 & EV & 5311 & N722EV & LGA & BGR &  61 &  378 & 22 &  5 & 2013-09-30 22:00:00\\\\\n\t 2013 & 9 & 30 & 2207 & 2140 &  27 & 2257 & 2250 &   7.000000 & MQ & 3660 & N532MQ & LGA & BNA &  97 &  764 & 21 & 40 & 2013-09-30 21:00:00\\\\\n\t 2013 & 9 & 30 & 2211 & 2059 &  72 & 2339 & 2242 &  57.000000 & EV & 4672 & N12145 & EWR & STL & 120 &  872 & 20 & 59 & 2013-09-30 20:00:00\\\\\n\t 2013 & 9 & 30 & 2231 & 2245 & -14 & 2335 & 2356 & -21.000000 & B6 &  108 & N193JB & JFK & PWM &  48 &  273 & 22 & 45 & 2013-09-30 22:00:00\\\\\n\t 2013 & 9 & 30 & 2233 & 2113 &  80 &  112 &   30 &  42.000000 & UA &  471 & N578UA & EWR & SFO & 318 & 2565 & 21 & 13 & 2013-09-30 21:00:00\\\\\n\t 2013 & 9 & 30 & 2235 & 2001 & 154 &   59 & 2249 & 130.000000 & B6 & 1083 & N804JB & JFK & MCO & 123 &  944 & 20 &  1 & 2013-09-30 20:00:00\\\\\n\t 2013 & 9 & 30 & 2237 & 2245 &  -8 & 2345 & 2353 &  -8.000000 & B6 &  234 & N318JB & JFK & BTV &  43 &  266 & 22 & 45 & 2013-09-30 22:00:00\\\\\n\t 2013 & 9 & 30 & 2240 & 2245 &  -5 & 2334 & 2351 & -17.000000 & B6 & 1816 & N354JB & JFK & SYR &  41 &  209 & 22 & 45 & 2013-09-30 22:00:00\\\\\n\t 2013 & 9 & 30 & 2240 & 2250 & -10 & 2347 &    7 & -20.000000 & B6 & 2002 & N281JB & JFK & BUF &  52 &  301 & 22 & 50 & 2013-09-30 22:00:00\\\\\n\t 2013 & 9 & 30 & 2241 & 2246 &  -5 & 2345 &    1 & -16.000000 & B6 &  486 & N346JB & JFK & ROC &  47 &  264 & 22 & 46 & 2013-09-30 22:00:00\\\\\n\t 2013 & 9 & 30 & 2307 & 2255 &  12 & 2359 & 2358 &   1.000000 & B6 &  718 & N565JB & JFK & BOS &  33 &  187 & 22 & 55 & 2013-09-30 22:00:00\\\\\n\t 2013 & 9 & 30 & 2349 & 2359 & -10 &  325 &  350 & -25.000000 & B6 &  745 & N516JB & JFK & PSE & 196 & 1617 & 23 & 59 & 2013-09-30 23:00:00\\\\\n\t 2013 & 9 & 30 &   NA & 1842 &  NA &   NA & 2019 &   6.895377 & EV & 5274 & N740EV & LGA & BNA &  NA &  764 & 18 & 42 & 2013-09-30 18:00:00\\\\\n\t 2013 & 9 & 30 &   NA & 1455 &  NA &   NA & 1634 &   6.895377 & 9E & 3393 & NA     & JFK & DCA &  NA &  213 & 14 & 55 & 2013-09-30 14:00:00\\\\\n\t 2013 & 9 & 30 &   NA & 2200 &  NA &   NA & 2312 &   6.895377 & 9E & 3525 & NA     & LGA & SYR &  NA &  198 & 22 &  0 & 2013-09-30 22:00:00\\\\\n\t 2013 & 9 & 30 &   NA & 1210 &  NA &   NA & 1330 &   6.895377 & MQ & 3461 & N535MQ & LGA & BNA &  NA &  764 & 12 & 10 & 2013-09-30 12:00:00\\\\\n\t 2013 & 9 & 30 &   NA & 1159 &  NA &   NA & 1344 &   6.895377 & MQ & 3572 & N511MQ & LGA & CLE &  NA &  419 & 11 & 59 & 2013-09-30 11:00:00\\\\\n\t 2013 & 9 & 30 &   NA &  840 &  NA &   NA & 1020 &   6.895377 & MQ & 3531 & N839MQ & LGA & RDU &  NA &  431 &  8 & 40 & 2013-09-30 08:00:00\\\\\n\\end{tabular}\n",
            "text/plain": [
              "       year month day dep_time sched_dep_time dep_delay arr_time sched_arr_time\n",
              "1      2013 1     1   517      515             2         830      819          \n",
              "2      2013 1     1   533      529             4         850      830          \n",
              "3      2013 1     1   542      540             2         923      850          \n",
              "4      2013 1     1   544      545            -1        1004     1022          \n",
              "5      2013 1     1   554      600            -6         812      837          \n",
              "6      2013 1     1   554      558            -4         740      728          \n",
              "7      2013 1     1   555      600            -5         913      854          \n",
              "8      2013 1     1   557      600            -3         709      723          \n",
              "9      2013 1     1   557      600            -3         838      846          \n",
              "10     2013 1     1   558      600            -2         753      745          \n",
              "11     2013 1     1   558      600            -2         849      851          \n",
              "12     2013 1     1   558      600            -2         853      856          \n",
              "13     2013 1     1   558      600            -2         924      917          \n",
              "14     2013 1     1   558      600            -2         923      937          \n",
              "15     2013 1     1   559      600            -1         941      910          \n",
              "16     2013 1     1   559      559             0         702      706          \n",
              "17     2013 1     1   559      600            -1         854      902          \n",
              "18     2013 1     1   600      600             0         851      858          \n",
              "19     2013 1     1   600      600             0         837      825          \n",
              "20     2013 1     1   601      600             1         844      850          \n",
              "21     2013 1     1   602      610            -8         812      820          \n",
              "22     2013 1     1   602      605            -3         821      805          \n",
              "23     2013 1     1   606      610            -4         858      910          \n",
              "24     2013 1     1   606      610            -4         837      845          \n",
              "25     2013 1     1   607      607             0         858      915          \n",
              "26     2013 1     1   608      600             8         807      735          \n",
              "27     2013 1     1   611      600            11         945      931          \n",
              "28     2013 1     1   613      610             3         925      921          \n",
              "29     2013 1     1   615      615             0        1039     1100          \n",
              "30     2013 1     1   615      615             0         833      842          \n",
              "⋮      ⋮    ⋮     ⋮   ⋮        ⋮              ⋮         ⋮        ⋮             \n",
              "336747 2013 9     30  2123     2125            -2       2223     2247          \n",
              "336748 2013 9     30  2127     2129            -2       2314     2323          \n",
              "336749 2013 9     30  2128     2130            -2       2328     2359          \n",
              "336750 2013 9     30  2129     2059            30       2230     2232          \n",
              "336751 2013 9     30  2131     2140            -9       2225     2255          \n",
              "336752 2013 9     30  2140     2140             0         10       40          \n",
              "336753 2013 9     30  2142     2129            13       2250     2239          \n",
              "336754 2013 9     30  2145     2145             0        115      140          \n",
              "336755 2013 9     30  2147     2137            10         30       27          \n",
              "336756 2013 9     30  2149     2156            -7       2245     2308          \n",
              "336757 2013 9     30  2150     2159            -9       2250     2306          \n",
              "336758 2013 9     30  2159     1845           194       2344     2030          \n",
              "336759 2013 9     30  2203     2205            -2       2339     2331          \n",
              "336760 2013 9     30  2207     2140            27       2257     2250          \n",
              "336761 2013 9     30  2211     2059            72       2339     2242          \n",
              "336762 2013 9     30  2231     2245           -14       2335     2356          \n",
              "336763 2013 9     30  2233     2113            80        112       30          \n",
              "336764 2013 9     30  2235     2001           154         59     2249          \n",
              "336765 2013 9     30  2237     2245            -8       2345     2353          \n",
              "336766 2013 9     30  2240     2245            -5       2334     2351          \n",
              "336767 2013 9     30  2240     2250           -10       2347        7          \n",
              "336768 2013 9     30  2241     2246            -5       2345        1          \n",
              "336769 2013 9     30  2307     2255            12       2359     2358          \n",
              "336770 2013 9     30  2349     2359           -10        325      350          \n",
              "336771 2013 9     30    NA     1842            NA         NA     2019          \n",
              "336772 2013 9     30    NA     1455            NA         NA     1634          \n",
              "336773 2013 9     30    NA     2200            NA         NA     2312          \n",
              "336774 2013 9     30    NA     1210            NA         NA     1330          \n",
              "336775 2013 9     30    NA     1159            NA         NA     1344          \n",
              "336776 2013 9     30    NA      840            NA         NA     1020          \n",
              "       arr_delay  carrier flight tailnum origin dest air_time distance hour\n",
              "1       11        UA      1545   N14228  EWR    IAH  227      1400     5   \n",
              "2       20        UA      1714   N24211  LGA    IAH  227      1416     5   \n",
              "3       33        AA      1141   N619AA  JFK    MIA  160      1089     5   \n",
              "4      -18        B6       725   N804JB  JFK    BQN  183      1576     5   \n",
              "5      -25        DL       461   N668DN  LGA    ATL  116       762     6   \n",
              "6       12        UA      1696   N39463  EWR    ORD  150       719     5   \n",
              "7       19        B6       507   N516JB  EWR    FLL  158      1065     6   \n",
              "8      -14        EV      5708   N829AS  LGA    IAD   53       229     6   \n",
              "9       -8        B6        79   N593JB  JFK    MCO  140       944     6   \n",
              "10       8        AA       301   N3ALAA  LGA    ORD  138       733     6   \n",
              "11      -2        B6        49   N793JB  JFK    PBI  149      1028     6   \n",
              "12      -3        B6        71   N657JB  JFK    TPA  158      1005     6   \n",
              "13       7        UA       194   N29129  JFK    LAX  345      2475     6   \n",
              "14     -14        UA      1124   N53441  EWR    SFO  361      2565     6   \n",
              "15      31        AA       707   N3DUAA  LGA    DFW  257      1389     6   \n",
              "16      -4        B6      1806   N708JB  JFK    BOS   44       187     5   \n",
              "17      -8        UA      1187   N76515  EWR    LAS  337      2227     6   \n",
              "18      -7        B6       371   N595JB  LGA    FLL  152      1076     6   \n",
              "19      12        MQ      4650   N542MQ  LGA    ATL  134       762     6   \n",
              "20      -6        B6       343   N644JB  EWR    PBI  147      1023     6   \n",
              "21      -8        DL      1919   N971DL  LGA    MSP  170      1020     6   \n",
              "22      16        MQ      4401   N730MQ  LGA    DTW  105       502     6   \n",
              "23     -12        AA      1895   N633AA  EWR    MIA  152      1085     6   \n",
              "24      -8        DL      1743   N3739P  JFK    ATL  128       760     6   \n",
              "25     -17        UA      1077   N53442  EWR    MIA  157      1085     6   \n",
              "26      32        MQ      3768   N9EAMQ  EWR    ORD  139       719     6   \n",
              "27      14        UA       303   N532UA  JFK    SFO  366      2586     6   \n",
              "28       4        B6       135   N635JB  JFK    RSW  175      1074     6   \n",
              "29     -21        B6       709   N794JB  JFK    SJU  182      1598     6   \n",
              "30      -9        DL       575   N326NB  EWR    ATL  120       746     6   \n",
              "⋮      ⋮          ⋮       ⋮      ⋮       ⋮      ⋮    ⋮        ⋮        ⋮   \n",
              "336747 -24.000000 EV      5489   N712EV  LGA    CHO   45       305     21  \n",
              "336748  -9.000000 EV      3833   N16546  EWR    CLT   72       529     21  \n",
              "336749 -31.000000 B6        97   N807JB  JFK    DEN  213      1626     21  \n",
              "336750  -2.000000 EV      5048   N751EV  LGA    RIC   45       292     20  \n",
              "336751 -30.000000 MQ      3621   N807MQ  JFK    DCA   36       213     21  \n",
              "336752 -30.000000 AA       185   N335AA  JFK    LAX  298      2475     21  \n",
              "336753  11.000000 EV      4509   N12957  EWR    PWM   47       284     21  \n",
              "336754 -25.000000 B6      1103   N633JB  JFK    SJU  192      1598     21  \n",
              "336755   3.000000 B6      1371   N627JB  LGA    FLL  139      1076     21  \n",
              "336756 -23.000000 UA       523   N813UA  EWR    BOS   37       200     21  \n",
              "336757 -16.000000 EV      3842   N10575  EWR    MHT   39       209     21  \n",
              "336758 194.000000 9E      3320   N906XJ  JFK    BUF   50       301     18  \n",
              "336759   8.000000 EV      5311   N722EV  LGA    BGR   61       378     22  \n",
              "336760   7.000000 MQ      3660   N532MQ  LGA    BNA   97       764     21  \n",
              "336761  57.000000 EV      4672   N12145  EWR    STL  120       872     20  \n",
              "336762 -21.000000 B6       108   N193JB  JFK    PWM   48       273     22  \n",
              "336763  42.000000 UA       471   N578UA  EWR    SFO  318      2565     21  \n",
              "336764 130.000000 B6      1083   N804JB  JFK    MCO  123       944     20  \n",
              "336765  -8.000000 B6       234   N318JB  JFK    BTV   43       266     22  \n",
              "336766 -17.000000 B6      1816   N354JB  JFK    SYR   41       209     22  \n",
              "336767 -20.000000 B6      2002   N281JB  JFK    BUF   52       301     22  \n",
              "336768 -16.000000 B6       486   N346JB  JFK    ROC   47       264     22  \n",
              "336769   1.000000 B6       718   N565JB  JFK    BOS   33       187     22  \n",
              "336770 -25.000000 B6       745   N516JB  JFK    PSE  196      1617     23  \n",
              "336771   6.895377 EV      5274   N740EV  LGA    BNA   NA       764     18  \n",
              "336772   6.895377 9E      3393   NA      JFK    DCA   NA       213     14  \n",
              "336773   6.895377 9E      3525   NA      LGA    SYR   NA       198     22  \n",
              "336774   6.895377 MQ      3461   N535MQ  LGA    BNA   NA       764     12  \n",
              "336775   6.895377 MQ      3572   N511MQ  LGA    CLE   NA       419     11  \n",
              "336776   6.895377 MQ      3531   N839MQ  LGA    RDU   NA       431      8  \n",
              "       minute time_hour          \n",
              "1      15     2013-01-01 05:00:00\n",
              "2      29     2013-01-01 05:00:00\n",
              "3      40     2013-01-01 05:00:00\n",
              "4      45     2013-01-01 05:00:00\n",
              "5       0     2013-01-01 06:00:00\n",
              "6      58     2013-01-01 05:00:00\n",
              "7       0     2013-01-01 06:00:00\n",
              "8       0     2013-01-01 06:00:00\n",
              "9       0     2013-01-01 06:00:00\n",
              "10      0     2013-01-01 06:00:00\n",
              "11      0     2013-01-01 06:00:00\n",
              "12      0     2013-01-01 06:00:00\n",
              "13      0     2013-01-01 06:00:00\n",
              "14      0     2013-01-01 06:00:00\n",
              "15      0     2013-01-01 06:00:00\n",
              "16     59     2013-01-01 05:00:00\n",
              "17      0     2013-01-01 06:00:00\n",
              "18      0     2013-01-01 06:00:00\n",
              "19      0     2013-01-01 06:00:00\n",
              "20      0     2013-01-01 06:00:00\n",
              "21     10     2013-01-01 06:00:00\n",
              "22      5     2013-01-01 06:00:00\n",
              "23     10     2013-01-01 06:00:00\n",
              "24     10     2013-01-01 06:00:00\n",
              "25      7     2013-01-01 06:00:00\n",
              "26      0     2013-01-01 06:00:00\n",
              "27      0     2013-01-01 06:00:00\n",
              "28     10     2013-01-01 06:00:00\n",
              "29     15     2013-01-01 06:00:00\n",
              "30     15     2013-01-01 06:00:00\n",
              "⋮      ⋮      ⋮                  \n",
              "336747 25     2013-09-30 21:00:00\n",
              "336748 29     2013-09-30 21:00:00\n",
              "336749 30     2013-09-30 21:00:00\n",
              "336750 59     2013-09-30 20:00:00\n",
              "336751 40     2013-09-30 21:00:00\n",
              "336752 40     2013-09-30 21:00:00\n",
              "336753 29     2013-09-30 21:00:00\n",
              "336754 45     2013-09-30 21:00:00\n",
              "336755 37     2013-09-30 21:00:00\n",
              "336756 56     2013-09-30 21:00:00\n",
              "336757 59     2013-09-30 21:00:00\n",
              "336758 45     2013-09-30 18:00:00\n",
              "336759  5     2013-09-30 22:00:00\n",
              "336760 40     2013-09-30 21:00:00\n",
              "336761 59     2013-09-30 20:00:00\n",
              "336762 45     2013-09-30 22:00:00\n",
              "336763 13     2013-09-30 21:00:00\n",
              "336764  1     2013-09-30 20:00:00\n",
              "336765 45     2013-09-30 22:00:00\n",
              "336766 45     2013-09-30 22:00:00\n",
              "336767 50     2013-09-30 22:00:00\n",
              "336768 46     2013-09-30 22:00:00\n",
              "336769 55     2013-09-30 22:00:00\n",
              "336770 59     2013-09-30 23:00:00\n",
              "336771 42     2013-09-30 18:00:00\n",
              "336772 55     2013-09-30 14:00:00\n",
              "336773  0     2013-09-30 22:00:00\n",
              "336774 10     2013-09-30 12:00:00\n",
              "336775 59     2013-09-30 11:00:00\n",
              "336776 40     2013-09-30 08:00:00"
            ]
          },
          "metadata": {}
        }
      ]
    },
    {
      "cell_type": "code",
      "metadata": {
        "trusted": true,
        "id": "KM0gkGfVRPze"
      },
      "source": [
        "# ¿Cuál es el promedio de arr_delay y distance por cada aeropuerto de destino?¿Cuántos vuelos llegaron acada uno de los destinos?. Ayuda: Recuerde que el conteo se puede determinar de dos maneras: con la función count() o con la función n().\n",
        "\n",
        ")\n",
        "\n"
      ],
      "execution_count": null,
      "outputs": []
    },
    {
      "cell_type": "markdown",
      "metadata": {
        "id": "0AaOeJiZRPzj"
      },
      "source": [
        "### 4.6 Función sample_n() y sample_frac()\n",
        "\n",
        "Estas funciones nos permitirán extraer muestras aleatorias de nuestros conjuntos de datos. Esto será de suma importancia cuando trabajemos con modelos de ML."
      ]
    },
    {
      "cell_type": "code",
      "metadata": {
        "trusted": true,
        "id": "Ggzl8QxDRPzk",
        "outputId": "03e02f7c-c03c-42e1-fc77-4f4009f02dc3",
        "colab": {
          "base_uri": "https://localhost:8080/",
          "height": 410
        }
      },
      "source": [
        "# sample_n() y sample_frac()-------------------------------------------------------------\n",
        "\n",
        "# muestra aleatoria de 100 registros de vuelos\n",
        "set.seed(120)\n",
        "sample_n(flights, 6)\n",
        "\n",
        "\n"
      ],
      "execution_count": 121,
      "outputs": [
        {
          "output_type": "display_data",
          "data": {
            "text/html": [
              "<table class=\"dataframe\">\n",
              "<caption>A data.frame: 6 × 19</caption>\n",
              "<thead>\n",
              "\t<tr><th scope=col>year</th><th scope=col>month</th><th scope=col>day</th><th scope=col>dep_time</th><th scope=col>sched_dep_time</th><th scope=col>dep_delay</th><th scope=col>arr_time</th><th scope=col>sched_arr_time</th><th scope=col>arr_delay</th><th scope=col>carrier</th><th scope=col>flight</th><th scope=col>tailnum</th><th scope=col>origin</th><th scope=col>dest</th><th scope=col>air_time</th><th scope=col>distance</th><th scope=col>hour</th><th scope=col>minute</th><th scope=col>time_hour</th></tr>\n",
              "\t<tr><th scope=col>&lt;int&gt;</th><th scope=col>&lt;int&gt;</th><th scope=col>&lt;int&gt;</th><th scope=col>&lt;int&gt;</th><th scope=col>&lt;int&gt;</th><th scope=col>&lt;int&gt;</th><th scope=col>&lt;int&gt;</th><th scope=col>&lt;int&gt;</th><th scope=col>&lt;int&gt;</th><th scope=col>&lt;chr&gt;</th><th scope=col>&lt;int&gt;</th><th scope=col>&lt;chr&gt;</th><th scope=col>&lt;chr&gt;</th><th scope=col>&lt;chr&gt;</th><th scope=col>&lt;int&gt;</th><th scope=col>&lt;int&gt;</th><th scope=col>&lt;int&gt;</th><th scope=col>&lt;int&gt;</th><th scope=col>&lt;chr&gt;</th></tr>\n",
              "</thead>\n",
              "<tbody>\n",
              "\t<tr><td>2013</td><td> 7</td><td>22</td><td> 906</td><td> 910</td><td>-4</td><td>1153</td><td>1215</td><td>-22</td><td>UA</td><td>1232</td><td>N37464</td><td>EWR</td><td>LAX</td><td>320</td><td>2454</td><td> 9</td><td>10</td><td>2013-07-22 09:00:00</td></tr>\n",
              "\t<tr><td>2013</td><td>10</td><td>28</td><td> 654</td><td> 700</td><td>-6</td><td> 806</td><td> 809</td><td> -3</td><td>US</td><td>2169</td><td>N721UW</td><td>LGA</td><td>DCA</td><td> 43</td><td> 214</td><td> 7</td><td> 0</td><td>2013-10-28 07:00:00</td></tr>\n",
              "\t<tr><td>2013</td><td> 5</td><td>10</td><td>2104</td><td>2041</td><td>23</td><td>  49</td><td>  16</td><td> 33</td><td>UA</td><td> 292</td><td>N842UA</td><td>EWR</td><td>LAX</td><td>312</td><td>2454</td><td>20</td><td>41</td><td>2013-05-10 20:00:00</td></tr>\n",
              "\t<tr><td>2013</td><td> 2</td><td>20</td><td>1423</td><td>1350</td><td>33</td><td>1606</td><td>1545</td><td> 21</td><td>MQ</td><td>4577</td><td>N6EAMQ</td><td>LGA</td><td>CLT</td><td> 83</td><td> 544</td><td>13</td><td>50</td><td>2013-02-20 13:00:00</td></tr>\n",
              "\t<tr><td>2013</td><td> 8</td><td> 1</td><td>1421</td><td>1359</td><td>22</td><td>1633</td><td>1636</td><td> -3</td><td>UA</td><td>1108</td><td>N77530</td><td>EWR</td><td>IAH</td><td>175</td><td>1400</td><td>13</td><td>59</td><td>2013-08-01 13:00:00</td></tr>\n",
              "\t<tr><td>2013</td><td> 4</td><td> 3</td><td>1321</td><td>1325</td><td>-4</td><td>1440</td><td>1500</td><td>-20</td><td>AA</td><td> 331</td><td>N555AA</td><td>LGA</td><td>ORD</td><td>118</td><td> 733</td><td>13</td><td>25</td><td>2013-04-03 13:00:00</td></tr>\n",
              "</tbody>\n",
              "</table>\n"
            ],
            "text/markdown": "\nA data.frame: 6 × 19\n\n| year &lt;int&gt; | month &lt;int&gt; | day &lt;int&gt; | dep_time &lt;int&gt; | sched_dep_time &lt;int&gt; | dep_delay &lt;int&gt; | arr_time &lt;int&gt; | sched_arr_time &lt;int&gt; | arr_delay &lt;int&gt; | carrier &lt;chr&gt; | flight &lt;int&gt; | tailnum &lt;chr&gt; | origin &lt;chr&gt; | dest &lt;chr&gt; | air_time &lt;int&gt; | distance &lt;int&gt; | hour &lt;int&gt; | minute &lt;int&gt; | time_hour &lt;chr&gt; |\n|---|---|---|---|---|---|---|---|---|---|---|---|---|---|---|---|---|---|---|\n| 2013 |  7 | 22 |  906 |  910 | -4 | 1153 | 1215 | -22 | UA | 1232 | N37464 | EWR | LAX | 320 | 2454 |  9 | 10 | 2013-07-22 09:00:00 |\n| 2013 | 10 | 28 |  654 |  700 | -6 |  806 |  809 |  -3 | US | 2169 | N721UW | LGA | DCA |  43 |  214 |  7 |  0 | 2013-10-28 07:00:00 |\n| 2013 |  5 | 10 | 2104 | 2041 | 23 |   49 |   16 |  33 | UA |  292 | N842UA | EWR | LAX | 312 | 2454 | 20 | 41 | 2013-05-10 20:00:00 |\n| 2013 |  2 | 20 | 1423 | 1350 | 33 | 1606 | 1545 |  21 | MQ | 4577 | N6EAMQ | LGA | CLT |  83 |  544 | 13 | 50 | 2013-02-20 13:00:00 |\n| 2013 |  8 |  1 | 1421 | 1359 | 22 | 1633 | 1636 |  -3 | UA | 1108 | N77530 | EWR | IAH | 175 | 1400 | 13 | 59 | 2013-08-01 13:00:00 |\n| 2013 |  4 |  3 | 1321 | 1325 | -4 | 1440 | 1500 | -20 | AA |  331 | N555AA | LGA | ORD | 118 |  733 | 13 | 25 | 2013-04-03 13:00:00 |\n\n",
            "text/latex": "A data.frame: 6 × 19\n\\begin{tabular}{lllllllllllllllllll}\n year & month & day & dep\\_time & sched\\_dep\\_time & dep\\_delay & arr\\_time & sched\\_arr\\_time & arr\\_delay & carrier & flight & tailnum & origin & dest & air\\_time & distance & hour & minute & time\\_hour\\\\\n <int> & <int> & <int> & <int> & <int> & <int> & <int> & <int> & <int> & <chr> & <int> & <chr> & <chr> & <chr> & <int> & <int> & <int> & <int> & <chr>\\\\\n\\hline\n\t 2013 &  7 & 22 &  906 &  910 & -4 & 1153 & 1215 & -22 & UA & 1232 & N37464 & EWR & LAX & 320 & 2454 &  9 & 10 & 2013-07-22 09:00:00\\\\\n\t 2013 & 10 & 28 &  654 &  700 & -6 &  806 &  809 &  -3 & US & 2169 & N721UW & LGA & DCA &  43 &  214 &  7 &  0 & 2013-10-28 07:00:00\\\\\n\t 2013 &  5 & 10 & 2104 & 2041 & 23 &   49 &   16 &  33 & UA &  292 & N842UA & EWR & LAX & 312 & 2454 & 20 & 41 & 2013-05-10 20:00:00\\\\\n\t 2013 &  2 & 20 & 1423 & 1350 & 33 & 1606 & 1545 &  21 & MQ & 4577 & N6EAMQ & LGA & CLT &  83 &  544 & 13 & 50 & 2013-02-20 13:00:00\\\\\n\t 2013 &  8 &  1 & 1421 & 1359 & 22 & 1633 & 1636 &  -3 & UA & 1108 & N77530 & EWR & IAH & 175 & 1400 & 13 & 59 & 2013-08-01 13:00:00\\\\\n\t 2013 &  4 &  3 & 1321 & 1325 & -4 & 1440 & 1500 & -20 & AA &  331 & N555AA & LGA & ORD & 118 &  733 & 13 & 25 & 2013-04-03 13:00:00\\\\\n\\end{tabular}\n",
            "text/plain": [
              "  year month day dep_time sched_dep_time dep_delay arr_time sched_arr_time\n",
              "1 2013  7    22   906      910           -4        1153     1215          \n",
              "2 2013 10    28   654      700           -6         806      809          \n",
              "3 2013  5    10  2104     2041           23          49       16          \n",
              "4 2013  2    20  1423     1350           33        1606     1545          \n",
              "5 2013  8     1  1421     1359           22        1633     1636          \n",
              "6 2013  4     3  1321     1325           -4        1440     1500          \n",
              "  arr_delay carrier flight tailnum origin dest air_time distance hour minute\n",
              "1 -22       UA      1232   N37464  EWR    LAX  320      2454      9   10    \n",
              "2  -3       US      2169   N721UW  LGA    DCA   43       214      7    0    \n",
              "3  33       UA       292   N842UA  EWR    LAX  312      2454     20   41    \n",
              "4  21       MQ      4577   N6EAMQ  LGA    CLT   83       544     13   50    \n",
              "5  -3       UA      1108   N77530  EWR    IAH  175      1400     13   59    \n",
              "6 -20       AA       331   N555AA  LGA    ORD  118       733     13   25    \n",
              "  time_hour          \n",
              "1 2013-07-22 09:00:00\n",
              "2 2013-10-28 07:00:00\n",
              "3 2013-05-10 20:00:00\n",
              "4 2013-02-20 13:00:00\n",
              "5 2013-08-01 13:00:00\n",
              "6 2013-04-03 13:00:00"
            ]
          },
          "metadata": {}
        }
      ]
    }
  ]
}