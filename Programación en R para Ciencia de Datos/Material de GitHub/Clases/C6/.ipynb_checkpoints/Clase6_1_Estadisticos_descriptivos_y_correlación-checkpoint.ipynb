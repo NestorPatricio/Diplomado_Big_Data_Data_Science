{
 "cells": [
  {
   "cell_type": "markdown",
   "metadata": {
    "colab_type": "text",
    "id": "view-in-github"
   },
   "source": [
    "<a href=\"https://colab.research.google.com/github/majorquev/DBDC_202304_Programacion_en_R_para_ciencia_de_datos/blob/main/Clases/C6/Clase6_1_Estadisticos_descriptivos_y_correlaci%C3%B3n.ipynb\" target=\"_parent\"><img src=\"https://colab.research.google.com/assets/colab-badge.svg\" alt=\"Open In Colab\"/></a>"
   ]
  },
  {
   "cell_type": "code",
   "execution_count": null,
   "metadata": {
    "id": "SiyCstC3taEv"
   },
   "outputs": [],
   "source": [
    "options(repr.plot.width=8, repr.plot.height=6)"
   ]
  },
  {
   "cell_type": "markdown",
   "metadata": {
    "id": "A1CRkvEqtaEy"
   },
   "source": [
    "# Parte 4: Análisis descriptivo con R\n",
    "\n",
    "**Autor:** Miguel Jorquera Viguera<br>\n",
    "**E-mail:** majorquev@gmail.com<br>\n",
    "**Ayudante:** Rodrigo Morales<br>\n",
    "**E-mail ayudante:** rumorale1@gmail.com\n",
    "\n",
    "\n",
    "Una de las fases principales dentro de un proyecto de Data Science, corresponde al análisis exploratorio de datos. Es en esta etapa donde se realizan los primeros hallazgos, se verifica la calidad de los datos, se detectan anomalías, se identifican patrones y se realizan preguntas claves que permitan comenzar a realizar inferencias , o si es el caso, comenzar a plantear modelos con fines predictivos. \n",
    "\n",
    "## I. Estadísticos descriptivos\n",
    "### a) Medidas de posición\n",
    "Corresponden a valores que nos permiten dividir nuestra muestra en conjuntos con aproximadamente la misma cantidad de individuos.\n",
    "### b) Medidas de tendencia central\n",
    "Corresponden a medidas a las que tienden “agruparse” los datos de la muestra .\n",
    "### c) Medidas de dispersión\n",
    "Medidas que cuantifican el nivel de heterogeneidad de una variable numérica.\n",
    "\n",
    "\n",
    "En R contamos con funciones para lo anterior:\n",
    "\n",
    " - summary(): Por defecto entrega estadísticos de posición (cuartiles), min, max y media.\n",
    " - quantiles(): Retorna uno o varios percentiles de interés.\n",
    " - mean(): Calcula la media de un vector numérico.\n",
    " - median(): Calcula la mediana de un vector numérico.\n",
    " - sd(): Retorna la desviación estándar muestral.\n",
    " - var(): Retorna la varianza muestral.\n",
    "\n",
    "### I.1. Descripción de data _mpg_\n",
    "\n",
    "Analicemos el rendimiento en ciudad en función de los estadísticos descriptivos más conocidos.\n"
   ]
  },
  {
   "cell_type": "code",
   "execution_count": null,
   "metadata": {
    "id": "oXGQ0nTUtaEz"
   },
   "outputs": [],
   "source": [
    "library(ggplot2)\n",
    "library(dplyr)"
   ]
  },
  {
   "cell_type": "code",
   "execution_count": null,
   "metadata": {
    "id": "FtACdAo07S_x"
   },
   "outputs": [],
   "source": [
    "data(mpg)\n",
    "head(mpg)\n",
    "# cyl: cilindros\n",
    "# displ: Engine displacement, in lt \"cilindrada\"\n",
    "# drv: traccion\n",
    "# cty: city miles miles per gallonb\n",
    "# hwy: highway miles per gallon\n",
    "# fl: fuel type\n",
    "# class: \"type\" of car"
   ]
  },
  {
   "cell_type": "markdown",
   "metadata": {
    "id": "uFwlRpMnsGhY"
   },
   "source": [
    "### Media, Mediana  y percentiles\n",
    "Los percentiles, en particular la mediana corresponden a estadísticos de posición, ya que nos permiten \"ubicarnos\" dentro de la muestra que estamos analizando y nos dan una primera idea sobre la distribución de los datos a analizar. Por su parte la media (aritmética) corresponde a un estadístico de tendencia central."
   ]
  },
  {
   "cell_type": "code",
   "execution_count": null,
   "metadata": {
    "id": "QTX6t-qetaE2"
   },
   "outputs": [],
   "source": [
    "# describamos el rendimiento en carretera en función de los estadísticos de pos., tendencia central  y dispersión\n",
    "\n",
    "# promedio\n",
    "print(paste(\"El promedio es: \", mean(mpg$hwy)))\n",
    "# mediana\n",
    "print(paste(\"La mediana es: \", median(mpg$hwy)))\n",
    "# percentiles\n",
    "\n",
    "# Ambos a la vez\n",
    "\n"
   ]
  },
  {
   "cell_type": "code",
   "execution_count": null,
   "metadata": {
    "id": "OOslmhxItaE_"
   },
   "outputs": [],
   "source": [
    "# recordar que podemos visualizar los cuartiles en un boxplot\n",
    "\n"
   ]
  },
  {
   "cell_type": "markdown",
   "metadata": {
    "id": "cAFXlV4OtqkN"
   },
   "source": [
    "### Medidas de dispersión\n",
    "Rango, desviación estándar  y rango intercuartílico. Son medidas que buscan cuantificar el nivel de dispersión o heterogeneidad de nuestra muestra. "
   ]
  },
  {
   "cell_type": "code",
   "execution_count": null,
   "metadata": {
    "id": "JCFwaE3_taFB"
   },
   "outputs": [],
   "source": [
    "# Rango Inter-cuartílico\n",
    "# Una obs se considera \"extrema\" si si valor está por sobre (debajo) 1.5 veces el rango intercuartílico (RI = Q3- Q1)\n",
    "# IQR(mpg$hwy)\n"
   ]
  },
  {
   "cell_type": "code",
   "execution_count": null,
   "metadata": {
    "id": "JeKxvq20_re2"
   },
   "outputs": [],
   "source": [
    "# lim inf 1.5*IQR (por \"debajo\")\n",
    "\n",
    "# lim sup 1.5*IQR (por \"arriba\")\n"
   ]
  },
  {
   "cell_type": "code",
   "execution_count": null,
   "metadata": {
    "id": "TzOiNHZxtaFE"
   },
   "outputs": [],
   "source": [
    "# medidas de dispersión ---------------\n",
    "\n",
    "# Rango\n",
    "\n",
    "\n",
    "# Cómo saber cuál es el auto que tiene el menor rendimiento en carretera\n",
    "\n",
    "\n",
    "# Desviación estándar\n",
    "\n",
    "\n",
    "# Coef de variación = desviación estandar / |promedio|\n"
   ]
  },
  {
   "cell_type": "markdown",
   "metadata": {
    "id": "YgmHOgY6taFL"
   },
   "source": [
    "## II. Correlación de variables"
   ]
  },
  {
   "cell_type": "markdown",
   "metadata": {
    "id": "M1Pb8F5_taFL"
   },
   "source": [
    "Las medidas de correlación buscan cuantificar el nivel de asociación que existe entre dos variables. Uno de los coeficientes más populares para medir la dependencia lineal entre dos variables corresponde al coeficiente de corelación de Pearson.\n",
    "\n",
    "Matemáticamente, el coeficiente de correlación de Pearson entre dos variables aleatorias X e Y se define como \n",
    "\n",
    "$$\\rho = \\dfrac{\\mathbb{E}[(X-\\mu_X)(Y-\\mu_Y)]}{\\sqrt{\\sigma^2_X\\sigma^2_Y}}$$\n",
    "\n",
    "Este coeficiente varía entre -1 y 1, y alcanza dichos valores siempre que X e Y formen una recta.\n",
    "\n",
    "Exploremos algunos ejemplos\n",
    "\n",
    "\n",
    "\n",
    "\n"
   ]
  },
  {
   "cell_type": "markdown",
   "metadata": {
    "id": "AjZgijXTtaFM"
   },
   "source": [
    "**¿Cómo es la relación entre el rendimiento en carretera y el tamaño del motor?**"
   ]
  },
  {
   "cell_type": "code",
   "execution_count": null,
   "metadata": {
    "id": "J7OZkTYOtaFM"
   },
   "outputs": [],
   "source": [
    "# Gráficamente x = displ, y = hwy\n",
    "ggplot(mpg, aes(x = displ, y = hwy)) +\n",
    "  geom_point()"
   ]
  },
  {
   "cell_type": "code",
   "execution_count": null,
   "metadata": {
    "id": "anffOHwKPx4i"
   },
   "outputs": [],
   "source": [
    "# podemos añadir \"recta\" de tendencia\n",
    "ggplot(mpg, aes(x = displ, y = hwy)) +\n",
    "  geom_point() "
   ]
  },
  {
   "cell_type": "markdown",
   "metadata": {
    "id": "BRyrWN-_taFO"
   },
   "source": [
    "Podemos seleccionar las columnas *mpg,disp,hp,drat,wt,qsec* y generar un gráfico de dispersión para cada par de ellas, con la función plot() del paquete _base_."
   ]
  },
  {
   "cell_type": "code",
   "execution_count": null,
   "metadata": {
    "id": "SyjyY4fdtaFP"
   },
   "outputs": [],
   "source": [
    "data(mtcars)\n",
    "head(mtcars)"
   ]
  },
  {
   "cell_type": "code",
   "execution_count": null,
   "metadata": {
    "id": "MblLPSs6taFV"
   },
   "outputs": [],
   "source": [
    "#Podemos graficar algunas de las variables de interés\n",
    "\n",
    "\n",
    "aux <- mtcars %>% \n",
    "    select(mpg,disp,hp,drat,wt,qsec)"
   ]
  },
  {
   "cell_type": "code",
   "execution_count": null,
   "metadata": {
    "id": "h29oaP0itaFX"
   },
   "outputs": [],
   "source": [
    "options(repr.plot.width=16, repr.plot.height=9)\n",
    "plot(aux)"
   ]
  },
  {
   "cell_type": "markdown",
   "metadata": {
    "id": "StGYYhpptaFY"
   },
   "source": [
    "### P1. Comando cor\n",
    "Investigue el comando cor y utilícelo con la selección previa de columnas.\n",
    "¿Qué observa?"
   ]
  },
  {
   "cell_type": "markdown",
   "metadata": {
    "id": "sMjtfLV5taFZ"
   },
   "source": [
    "### P2. De acuerdo a  la documentación, cambie el método de cálculo a \"spearman\"\n",
    "¿Que observa?"
   ]
  },
  {
   "cell_type": "code",
   "execution_count": null,
   "metadata": {
    "id": "ibmQvQtRtaFZ",
    "scrolled": false
   },
   "outputs": [],
   "source": [
    "cor(aux) # por defecto calcula correlación de pearson\n"
   ]
  },
  {
   "cell_type": "markdown",
   "metadata": {
    "id": "0FajK0QWtaFc"
   },
   "source": [
    "## NOTA: parámetro method de la función cor()"
   ]
  },
  {
   "cell_type": "code",
   "execution_count": null,
   "metadata": {
    "id": "1IJqGrv0taFc"
   },
   "outputs": [],
   "source": [
    "set.seed(123) # Semilla para generar númeos aleatorios\n",
    "x <- rnorm(100) # variable X\n",
    "e <- rnorm(100, sd = .5) # error aleatorio\n",
    "# Modelar y como funcion de x y un error aleatorio\n",
    "# y = f(x) + e\n",
    "y <- 1+ 3*x^3 + e\n",
    "\n",
    "A <- data.frame(x = x, y = y)\n"
   ]
  },
  {
   "cell_type": "markdown",
   "metadata": {
    "id": "rc6j4U1iSVqt"
   },
   "source": [
    "$y = f(x) + \\epsilon$ \\\\\n",
    "$y = 3x^{3} + 1 + \\epsilon$"
   ]
  },
  {
   "cell_type": "code",
   "execution_count": null,
   "metadata": {
    "id": "war1LE7itaFe"
   },
   "outputs": [],
   "source": [
    "# Gráficamente la relación de x e  y \n",
    "  \n",
    "A %>%\n",
    "    ggplot() +\n",
    "    aes(x = x, y = y) +\n",
    "    geom_point()"
   ]
  },
  {
   "cell_type": "code",
   "execution_count": null,
   "metadata": {
    "id": "cYwfxmErtaFg"
   },
   "outputs": [],
   "source": [
    "# parámetro method de la función cor()\n",
    "cor(A$x,A$y)\n",
    "cor(A$x,A$y, method = \"spearman\")"
   ]
  },
  {
   "cell_type": "markdown",
   "metadata": {
    "id": "Gm2FQf2-taFi"
   },
   "source": [
    "## Gráfico de correlación"
   ]
  },
  {
   "cell_type": "code",
   "execution_count": null,
   "metadata": {
    "id": "jk-NPuEotaFj"
   },
   "outputs": [],
   "source": [
    "#install.packages(\"corrplot\")\n",
    "library(corrplot)\n",
    "\n",
    "# función corrplot()"
   ]
  },
  {
   "cell_type": "markdown",
   "metadata": {
    "id": "-ESr1IKbtaFk"
   },
   "source": [
    "### P3. Opciones de corrplot\n",
    "Identifique (en la documentación de la función corplot) otros métodos de visualización "
   ]
  },
  {
   "cell_type": "code",
   "execution_count": null,
   "metadata": {
    "id": "s7HTVoZJtaFl"
   },
   "outputs": [],
   "source": [
    "matriz_cor <- cor(aux)\n",
    "matriz_cor"
   ]
  },
  {
   "cell_type": "code",
   "execution_count": null,
   "metadata": {
    "id": "XERoyCK6taFn"
   },
   "outputs": [],
   "source": [
    "# Función corplot()\n",
    "# podemos modificar el parámetro \"method\"\n",
    "corrplot(matriz_cor)"
   ]
  }
 ],
 "metadata": {
  "colab": {
   "include_colab_link": true,
   "provenance": []
  },
  "kernelspec": {
   "display_name": "R",
   "language": "R",
   "name": "ir"
  },
  "language_info": {
   "codemirror_mode": "r",
   "file_extension": ".r",
   "mimetype": "text/x-r-source",
   "name": "R",
   "pygments_lexer": "r",
   "version": "4.3.0"
  }
 },
 "nbformat": 4,
 "nbformat_minor": 1
}
