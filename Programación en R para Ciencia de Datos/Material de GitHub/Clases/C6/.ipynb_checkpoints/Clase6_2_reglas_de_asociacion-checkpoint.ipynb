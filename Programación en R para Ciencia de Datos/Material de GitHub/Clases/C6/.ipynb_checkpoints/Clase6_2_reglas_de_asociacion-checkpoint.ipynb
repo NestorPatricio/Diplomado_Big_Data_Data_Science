{
 "cells": [
  {
   "cell_type": "markdown",
   "metadata": {
    "colab_type": "text",
    "id": "view-in-github"
   },
   "source": [
    "<a href=\"https://colab.research.google.com/github/majorquev/DBDC_202304_Programacion_en_R_para_ciencia_de_datos/blob/main/Clases/C6/Clase6_2_reglas_de_asociacion.ipynb\" target=\"_parent\"><img src=\"https://colab.research.google.com/assets/colab-badge.svg\" alt=\"Open In Colab\"/></a>"
   ]
  },
  {
   "cell_type": "markdown",
   "metadata": {
    "collapsed": true,
    "id": "puXmDUFl1o5x"
   },
   "source": [
    "# Parte 4: Reglas de asociación\n",
    "\n",
    "\n",
    "**Autor:** Miguel Jorquera Viguera<br>\n",
    "**E-mail:** majorquev@gmail.com<br>\n",
    "**Ayudante:** Rodrigo Morales<br>\n",
    "**E-mail ayudante:** rumorale1@gmail.com\n",
    "\n",
    "Las reglas de asociación nos permiten identificar relaciones entre variables a través de grandes datasets. Es posible cuantificar que tan \"fuerte\" es la relación obtenida mediante diversas métricas de interés, entre las cuales se destacan el _lift_, _support_ y _confidence_ de una regla.\n",
    "\n",
    "Para más detalles sobre la definición y algoritmo de generación de las reglas refiérase a la presentación de la clase 7 de este curso.\n",
    "\n",
    "\n"
   ]
  },
  {
   "cell_type": "code",
   "execution_count": null,
   "metadata": {
    "id": "J4ZRjiE61o5z"
   },
   "outputs": [],
   "source": [
    "# install.packages(\"arules\")"
   ]
  },
  {
   "cell_type": "code",
   "execution_count": null,
   "metadata": {
    "id": "LCmAsrTB1o52"
   },
   "outputs": [],
   "source": [
    "library(arules)\n",
    "library(dplyr)\n",
    "data(Groceries)\n",
    "class(Groceries)\n",
    "\n",
    "inspect(head(Groceries, 6))"
   ]
  },
  {
   "cell_type": "code",
   "execution_count": null,
   "metadata": {
    "id": "cSSTweZI1o56"
   },
   "outputs": [],
   "source": [
    "Groceries"
   ]
  },
  {
   "cell_type": "raw",
   "metadata": {},
   "source": []
  },
  {
   "cell_type": "code",
   "execution_count": null,
   "metadata": {
    "id": "dW8kxNGH1o59"
   },
   "outputs": [],
   "source": [
    "?transactions"
   ]
  },
  {
   "cell_type": "code",
   "execution_count": null,
   "metadata": {
    "id": "9T0kVTyE1o6A"
   },
   "outputs": [],
   "source": [
    " # Numero de items por observación mediante comndo size\n",
    "size(head(Groceries,6))"
   ]
  },
  {
   "cell_type": "code",
   "execution_count": null,
   "metadata": {
    "id": "XbBIRvxW1o6C"
   },
   "outputs": [],
   "source": [
    " #LIST convierte las trasacciones a una lista (con mayusculas)\n",
    "lista <- LIST(head(Groceries,6))"
   ]
  },
  {
   "cell_type": "code",
   "execution_count": null,
   "metadata": {
    "id": "XrM4ZhHG1o6E"
   },
   "outputs": [],
   "source": [
    "lista\n",
    "class(lista)\n",
    "str(lista)"
   ]
  },
  {
   "cell_type": "code",
   "execution_count": null,
   "metadata": {
    "id": "Eab2Wj8G1o6H"
   },
   "outputs": [],
   "source": [
    "class(Groceries)"
   ]
  },
  {
   "cell_type": "code",
   "execution_count": null,
   "metadata": {
    "id": "6DM_CQJ31o6K"
   },
   "outputs": [],
   "source": [
    "frequentItems <- eclat(Groceries, \n",
    "                        parameter = list(supp = 0.02)\n",
    "                       ) # se calcula el support para items frecuentes"
   ]
  },
  {
   "cell_type": "code",
   "execution_count": null,
   "metadata": {
    "id": "WKmAHTus1o6N",
    "scrolled": false
   },
   "outputs": [],
   "source": [
    "inspect(frequentItems)"
   ]
  },
  {
   "cell_type": "code",
   "execution_count": null,
   "metadata": {
    "id": "YyVyWW9f1o6P"
   },
   "outputs": [],
   "source": [
    "itemFrequencyPlot(Groceries,\n",
    "                  topN=10, \n",
    "                  type=\"absolute\", \n",
    "                  main=\"Item Frequency\") #podemos graficar los items frecuentes"
   ]
  },
  {
   "cell_type": "markdown",
   "metadata": {
    "id": "nTpLz0q91o6R"
   },
   "source": [
    "## ¿Cómo determinamos las reglas?"
   ]
  },
  {
   "cell_type": "code",
   "execution_count": null,
   "metadata": {
    "id": "-u-9A9mU1o6R"
   },
   "outputs": [],
   "source": [
    "rules <- apriori(data = Groceries, #debe ser del tipo \"transactions\"\n",
    "                 parameter = list(supp=0.01, conf = 0.08),\n",
    "                )\n",
    "rules"
   ]
  },
  {
   "cell_type": "code",
   "execution_count": null,
   "metadata": {
    "id": "LSadl69B1o6T"
   },
   "outputs": [],
   "source": []
  },
  {
   "cell_type": "code",
   "execution_count": null,
   "metadata": {
    "id": "I_UAfL9O1o6X",
    "scrolled": true
   },
   "outputs": [],
   "source": [
    "length(rules)\n",
    "inspect(rules)"
   ]
  },
  {
   "cell_type": "code",
   "execution_count": null,
   "metadata": {
    "id": "TG6929gJ1o6Z"
   },
   "outputs": [],
   "source": [
    "## Y si queremos buscar con qué combinar un producto determinado, por ejemplo leche\n",
    "rules <- apriori( data = Groceries, \n",
    "                  parameter =list (supp=0.05,conf = 0.10, minlen = 2),\n",
    "                  #appearance = list(default=\"rhs\", lhs =\"whole milk\"),\n",
    "                  control = list (verbose=F)) \n",
    "\n",
    "class(rules)\n",
    "rules"
   ]
  },
  {
   "cell_type": "code",
   "execution_count": null,
   "metadata": {
    "id": "lzZTO2Eb1o6b",
    "scrolled": false
   },
   "outputs": [],
   "source": [
    "inspect(rules)"
   ]
  },
  {
   "cell_type": "code",
   "execution_count": null,
   "metadata": {
    "id": "L8MexhwO1o6d"
   },
   "outputs": [],
   "source": [
    "rules_conf <- sort(rules, \n",
    "                   by=\"lift\",\n",
    "                   decreasing=TRUE) # ordenando por confidence rules."
   ]
  },
  {
   "cell_type": "code",
   "execution_count": null,
   "metadata": {
    "id": "gnAQp3aW1o6f",
    "scrolled": false
   },
   "outputs": [],
   "source": [
    "rules\n",
    "inspect(rules_conf)"
   ]
  },
  {
   "cell_type": "markdown",
   "metadata": {
    "id": "FYGsdGry1o6h"
   },
   "source": [
    "## Transformación a objetos de clase transaction\n",
    "\n",
    "\n",
    "\n"
   ]
  },
  {
   "cell_type": "code",
   "execution_count": null,
   "metadata": {
    "id": "CQl-ZjXq1o6h"
   },
   "outputs": [],
   "source": [
    " ?transactions"
   ]
  }
 ],
 "metadata": {
  "colab": {
   "include_colab_link": true,
   "provenance": []
  },
  "kernelspec": {
   "display_name": "R",
   "language": "R",
   "name": "ir"
  },
  "language_info": {
   "codemirror_mode": "r",
   "file_extension": ".r",
   "mimetype": "text/x-r-source",
   "name": "R",
   "pygments_lexer": "r",
   "version": "4.3.0"
  }
 },
 "nbformat": 4,
 "nbformat_minor": 1
}
