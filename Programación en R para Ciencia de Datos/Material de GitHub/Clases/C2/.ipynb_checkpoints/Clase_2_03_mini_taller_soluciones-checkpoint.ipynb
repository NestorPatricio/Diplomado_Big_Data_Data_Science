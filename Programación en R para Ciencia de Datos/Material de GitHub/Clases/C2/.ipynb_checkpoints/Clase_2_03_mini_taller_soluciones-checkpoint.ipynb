{
 "cells": [
  {
   "cell_type": "markdown",
   "metadata": {
    "colab_type": "text",
    "id": "view-in-github"
   },
   "source": [
    "<a href=\"https://colab.research.google.com/github/majorquev/DBDC_202304_Programacion_en_R_para_ciencia_de_datos/blob/main/Clases/C2/Clase_2_03_mini_taller_soluciones.ipynb\" target=\"_parent\"><img src=\"https://colab.research.google.com/assets/colab-badge.svg\" alt=\"Open In Colab\"/></a>"
   ]
  },
  {
   "cell_type": "markdown",
   "metadata": {
    "id": "x-GJ_euMr-qr"
   },
   "source": [
    "#**Mini taller 1**\n",
    "**Autor:** Miguel Jorquera Viguera <br>\n",
    "**E-mail:** majorquev@gmail.com<br>\n",
    "**Ayudante:** Rodrigo Morales<br>\n",
    "**E-mail ayudante:**  rumorale1@gmail.com<br>"
   ]
  },
  {
   "cell_type": "markdown",
   "metadata": {
    "collapsed": true,
    "id": "EZ0yOlnfm5Zb"
   },
   "source": [
    "\n",
    "Los dataframes corresponden a uno de los objetos más utilizados en R para analizar datos tabulares,\n",
    "por lo que se hace necesario en muchos casos realizar consultas a los datos que contiene un dataframe,\n",
    "(filtros, cruces de tablas, creación de columnas, etc). Por ahora veremos una de las formas más \"primitivas\" para la manipulación de un data.frame.\n",
    "\n",
    "Para ello consideremos el siguiente ejercicio.\n",
    "\n",
    "**Paso 1**\n",
    "Mediante la función rnorm(), genere una muestra aleatoria de 100 datos , con media 21 y desviación estándar 8 (más adelante veremos esto con un poco más de detalle), y guárdela en una variable llamada temp.\n",
    "\n"
   ]
  },
  {
   "cell_type": "code",
   "execution_count": null,
   "metadata": {
    "colab": {
     "base_uri": "https://localhost:8080/",
     "height": 277
    },
    "id": "9f6cXmN3m5Zc",
    "outputId": "613128c7-871b-4d0b-d979-cbbc586d4714"
   },
   "outputs": [
    {
     "data": {
      "text/html": [
       "<style>\n",
       ".list-inline {list-style: none; margin:0; padding: 0}\n",
       ".list-inline>li {display: inline-block}\n",
       ".list-inline>li:not(:last-child)::after {content: \"\\00b7\"; padding: 0 .5ex}\n",
       "</style>\n",
       "<ol class=list-inline><li>12.4281110413814</li><li>24.5639731932465</li><li>11.8388678766539</li><li>25.849546828122</li><li>14.6742310316222</li><li>32.6288364439813</li><li>22.1742602498902</li><li>16.1597743230903</li><li>18.4505236187956</li><li>28.9964785941416</li><li>16.5166634615642</li><li>7.45867017578408</li><li>12.8434952533621</li><li>2.80093352339423</li><li>29.1462197409436</li><li>17.1586774844326</li><li>12.7118750009924</li><li>31.6748592194501</li><li>21.7916992190924</li><li>21.7077475042266</li><li>14.9824914555825</li><li>32.7065088374367</li><li>5.88841035114478</li><li>10.9031098756306</li><li>29.1484676364529</li><li>15.0681676292945</li><li>16.9233109627377</li><li>26.7552599036064</li><li>11.883925046833</li><li>32.3605471706308</li><li>15.7973879173745</li><li>21.8379943369966</li><li>17.6798196371366</li><li>16.6724463207992</li><li>27.6800979422817</li><li>10.616193669951</li><li>16.4343988312898</li><li>18.2972128610554</li><li>30.1338512482532</li><li>18.6245399690855</li><li>24.3722271906338</li><li>4.44918345945921</li><li>10.623531759819</li><li>6.52264966041212</li><li>29.394315449964</li><li>22.8320530046255</li><li>28.0480731860712</li><li>25.2490076868799</li><li>20.3796938061031</li><li>2.92043712252323</li><li>28.7335390231926</li><li>35.7898709065963</li><li>27.2311724763598</li><li>36.036434797909</li><li>23.0544024598914</li><li>27.9673854349111</li><li>28.6183495593835</li><li>21.7243286706292</li><li>18.1813150537509</li><li>13.4244372589926</li><li>5.65161673799496</li><li>19.7309701040782</li><li>29.4012904974115</li><li>20.6874066787942</li><li>32.0889387567439</li><li>22.7357408696236</li><li>32.2934878376944</li><li>21.5850655805427</li><li>21.8388086514925</li><li>24.5082786064792</li><li>31.7595446118451</li><li>10.8556735373596</li><li>37.1201989044859</li><li>15.6371866086864</li><li>28.870136377851</li><li>10.210351043039</li><li>16.511424652517</li><li>22.2613645424</li><li>21.9235589323912</li><li>24.9287328083048</li><li>31.8976415208475</li><li>4.48188856573482</li><li>30.4466692685159</li><li>15.0185960563047</li><li>17.8063181321254</li><li>19.9058212371093</li><li>14.271193142384</li><li>23.2723030498377</li><li>8.69655975705856</li><li>26.7817710246947</li><li>28.8292366150867</li><li>13.3664026318357</li><li>23.680405226421</li><li>2.43393184507049</li><li>16.1889677104825</li><li>13.8177047697075</li><li>12.0947087264718</li><li>6.95248302241532</li><li>11.9680586548813</li><li>14.8503082726067</li></ol>\n"
      ],
      "text/latex": [
       "\\begin{enumerate*}\n",
       "\\item 12.4281110413814\n",
       "\\item 24.5639731932465\n",
       "\\item 11.8388678766539\n",
       "\\item 25.849546828122\n",
       "\\item 14.6742310316222\n",
       "\\item 32.6288364439813\n",
       "\\item 22.1742602498902\n",
       "\\item 16.1597743230903\n",
       "\\item 18.4505236187956\n",
       "\\item 28.9964785941416\n",
       "\\item 16.5166634615642\n",
       "\\item 7.45867017578408\n",
       "\\item 12.8434952533621\n",
       "\\item 2.80093352339423\n",
       "\\item 29.1462197409436\n",
       "\\item 17.1586774844326\n",
       "\\item 12.7118750009924\n",
       "\\item 31.6748592194501\n",
       "\\item 21.7916992190924\n",
       "\\item 21.7077475042266\n",
       "\\item 14.9824914555825\n",
       "\\item 32.7065088374367\n",
       "\\item 5.88841035114478\n",
       "\\item 10.9031098756306\n",
       "\\item 29.1484676364529\n",
       "\\item 15.0681676292945\n",
       "\\item 16.9233109627377\n",
       "\\item 26.7552599036064\n",
       "\\item 11.883925046833\n",
       "\\item 32.3605471706308\n",
       "\\item 15.7973879173745\n",
       "\\item 21.8379943369966\n",
       "\\item 17.6798196371366\n",
       "\\item 16.6724463207992\n",
       "\\item 27.6800979422817\n",
       "\\item 10.616193669951\n",
       "\\item 16.4343988312898\n",
       "\\item 18.2972128610554\n",
       "\\item 30.1338512482532\n",
       "\\item 18.6245399690855\n",
       "\\item 24.3722271906338\n",
       "\\item 4.44918345945921\n",
       "\\item 10.623531759819\n",
       "\\item 6.52264966041212\n",
       "\\item 29.394315449964\n",
       "\\item 22.8320530046255\n",
       "\\item 28.0480731860712\n",
       "\\item 25.2490076868799\n",
       "\\item 20.3796938061031\n",
       "\\item 2.92043712252323\n",
       "\\item 28.7335390231926\n",
       "\\item 35.7898709065963\n",
       "\\item 27.2311724763598\n",
       "\\item 36.036434797909\n",
       "\\item 23.0544024598914\n",
       "\\item 27.9673854349111\n",
       "\\item 28.6183495593835\n",
       "\\item 21.7243286706292\n",
       "\\item 18.1813150537509\n",
       "\\item 13.4244372589926\n",
       "\\item 5.65161673799496\n",
       "\\item 19.7309701040782\n",
       "\\item 29.4012904974115\n",
       "\\item 20.6874066787942\n",
       "\\item 32.0889387567439\n",
       "\\item 22.7357408696236\n",
       "\\item 32.2934878376944\n",
       "\\item 21.5850655805427\n",
       "\\item 21.8388086514925\n",
       "\\item 24.5082786064792\n",
       "\\item 31.7595446118451\n",
       "\\item 10.8556735373596\n",
       "\\item 37.1201989044859\n",
       "\\item 15.6371866086864\n",
       "\\item 28.870136377851\n",
       "\\item 10.210351043039\n",
       "\\item 16.511424652517\n",
       "\\item 22.2613645424\n",
       "\\item 21.9235589323912\n",
       "\\item 24.9287328083048\n",
       "\\item 31.8976415208475\n",
       "\\item 4.48188856573482\n",
       "\\item 30.4466692685159\n",
       "\\item 15.0185960563047\n",
       "\\item 17.8063181321254\n",
       "\\item 19.9058212371093\n",
       "\\item 14.271193142384\n",
       "\\item 23.2723030498377\n",
       "\\item 8.69655975705856\n",
       "\\item 26.7817710246947\n",
       "\\item 28.8292366150867\n",
       "\\item 13.3664026318357\n",
       "\\item 23.680405226421\n",
       "\\item 2.43393184507049\n",
       "\\item 16.1889677104825\n",
       "\\item 13.8177047697075\n",
       "\\item 12.0947087264718\n",
       "\\item 6.95248302241532\n",
       "\\item 11.9680586548813\n",
       "\\item 14.8503082726067\n",
       "\\end{enumerate*}\n"
      ],
      "text/markdown": [
       "1. 12.4281110413814\n",
       "2. 24.5639731932465\n",
       "3. 11.8388678766539\n",
       "4. 25.849546828122\n",
       "5. 14.6742310316222\n",
       "6. 32.6288364439813\n",
       "7. 22.1742602498902\n",
       "8. 16.1597743230903\n",
       "9. 18.4505236187956\n",
       "10. 28.9964785941416\n",
       "11. 16.5166634615642\n",
       "12. 7.45867017578408\n",
       "13. 12.8434952533621\n",
       "14. 2.80093352339423\n",
       "15. 29.1462197409436\n",
       "16. 17.1586774844326\n",
       "17. 12.7118750009924\n",
       "18. 31.6748592194501\n",
       "19. 21.7916992190924\n",
       "20. 21.7077475042266\n",
       "21. 14.9824914555825\n",
       "22. 32.7065088374367\n",
       "23. 5.88841035114478\n",
       "24. 10.9031098756306\n",
       "25. 29.1484676364529\n",
       "26. 15.0681676292945\n",
       "27. 16.9233109627377\n",
       "28. 26.7552599036064\n",
       "29. 11.883925046833\n",
       "30. 32.3605471706308\n",
       "31. 15.7973879173745\n",
       "32. 21.8379943369966\n",
       "33. 17.6798196371366\n",
       "34. 16.6724463207992\n",
       "35. 27.6800979422817\n",
       "36. 10.616193669951\n",
       "37. 16.4343988312898\n",
       "38. 18.2972128610554\n",
       "39. 30.1338512482532\n",
       "40. 18.6245399690855\n",
       "41. 24.3722271906338\n",
       "42. 4.44918345945921\n",
       "43. 10.623531759819\n",
       "44. 6.52264966041212\n",
       "45. 29.394315449964\n",
       "46. 22.8320530046255\n",
       "47. 28.0480731860712\n",
       "48. 25.2490076868799\n",
       "49. 20.3796938061031\n",
       "50. 2.92043712252323\n",
       "51. 28.7335390231926\n",
       "52. 35.7898709065963\n",
       "53. 27.2311724763598\n",
       "54. 36.036434797909\n",
       "55. 23.0544024598914\n",
       "56. 27.9673854349111\n",
       "57. 28.6183495593835\n",
       "58. 21.7243286706292\n",
       "59. 18.1813150537509\n",
       "60. 13.4244372589926\n",
       "61. 5.65161673799496\n",
       "62. 19.7309701040782\n",
       "63. 29.4012904974115\n",
       "64. 20.6874066787942\n",
       "65. 32.0889387567439\n",
       "66. 22.7357408696236\n",
       "67. 32.2934878376944\n",
       "68. 21.5850655805427\n",
       "69. 21.8388086514925\n",
       "70. 24.5082786064792\n",
       "71. 31.7595446118451\n",
       "72. 10.8556735373596\n",
       "73. 37.1201989044859\n",
       "74. 15.6371866086864\n",
       "75. 28.870136377851\n",
       "76. 10.210351043039\n",
       "77. 16.511424652517\n",
       "78. 22.2613645424\n",
       "79. 21.9235589323912\n",
       "80. 24.9287328083048\n",
       "81. 31.8976415208475\n",
       "82. 4.48188856573482\n",
       "83. 30.4466692685159\n",
       "84. 15.0185960563047\n",
       "85. 17.8063181321254\n",
       "86. 19.9058212371093\n",
       "87. 14.271193142384\n",
       "88. 23.2723030498377\n",
       "89. 8.69655975705856\n",
       "90. 26.7817710246947\n",
       "91. 28.8292366150867\n",
       "92. 13.3664026318357\n",
       "93. 23.680405226421\n",
       "94. 2.43393184507049\n",
       "95. 16.1889677104825\n",
       "96. 13.8177047697075\n",
       "97. 12.0947087264718\n",
       "98. 6.95248302241532\n",
       "99. 11.9680586548813\n",
       "100. 14.8503082726067\n",
       "\n",
       "\n"
      ],
      "text/plain": [
       "  [1] 12.428111 24.563973 11.838868 25.849547 14.674231 32.628836 22.174260\n",
       "  [8] 16.159774 18.450524 28.996479 16.516663  7.458670 12.843495  2.800934\n",
       " [15] 29.146220 17.158677 12.711875 31.674859 21.791699 21.707748 14.982491\n",
       " [22] 32.706509  5.888410 10.903110 29.148468 15.068168 16.923311 26.755260\n",
       " [29] 11.883925 32.360547 15.797388 21.837994 17.679820 16.672446 27.680098\n",
       " [36] 10.616194 16.434399 18.297213 30.133851 18.624540 24.372227  4.449183\n",
       " [43] 10.623532  6.522650 29.394315 22.832053 28.048073 25.249008 20.379694\n",
       " [50]  2.920437 28.733539 35.789871 27.231172 36.036435 23.054402 27.967385\n",
       " [57] 28.618350 21.724329 18.181315 13.424437  5.651617 19.730970 29.401290\n",
       " [64] 20.687407 32.088939 22.735741 32.293488 21.585066 21.838809 24.508279\n",
       " [71] 31.759545 10.855674 37.120199 15.637187 28.870136 10.210351 16.511425\n",
       " [78] 22.261365 21.923559 24.928733 31.897642  4.481889 30.446669 15.018596\n",
       " [85] 17.806318 19.905821 14.271193 23.272303  8.696560 26.781771 28.829237\n",
       " [92] 13.366403 23.680405  2.433932 16.188968 13.817705 12.094709  6.952483\n",
       " [99] 11.968059 14.850308"
      ]
     },
     "metadata": {},
     "output_type": "display_data"
    }
   ],
   "source": [
    "# 5.3 Mini taller --------\n",
    "# Paso 1\n",
    "temp <- rnorm(n = 100, mean = 21, sd = 8)\n",
    "temp\n"
   ]
  },
  {
   "cell_type": "code",
   "execution_count": null,
   "metadata": {
    "id": "Y6ILF-Szm5Zg"
   },
   "outputs": [],
   "source": [
    "# Dejar como parámetro el largo del vector temp\n",
    "N <- length(temp)"
   ]
  },
  {
   "cell_type": "markdown",
   "metadata": {
    "id": "C4MEJWjBm5Zi"
   },
   "source": [
    "**Paso 2**\n",
    "\n",
    "Genere un vector llamado _dia_ del mismo largo que que *temp*, que contenga los días consecutivos de la semana, partiendo del lunes. (utilice la función _rep()_ )"
   ]
  },
  {
   "cell_type": "code",
   "execution_count": null,
   "metadata": {
    "colab": {
     "base_uri": "https://localhost:8080/",
     "height": 34
    },
    "id": "1PWK1DPXm5Zj",
    "outputId": "1e8d0c9d-67a3-4fd7-8077-e9c149e26222"
   },
   "outputs": [
    {
     "data": {
      "text/html": [
       "100"
      ],
      "text/latex": [
       "100"
      ],
      "text/markdown": [
       "100"
      ],
      "text/plain": [
       "[1] 100"
      ]
     },
     "metadata": {},
     "output_type": "display_data"
    }
   ],
   "source": [
    "# Paso 2\n",
    "#dia <- rep(c(\"L\",\"M\",\"W\",\"J\",\"V\",\"S\",\"D\"), 100 ) repite el vector de largo7, 100 veces. Genera un vector resultante de largo 700\n",
    "dia <- rep(c(\"L\",\"M\",\"W\",\"J\",\"V\",\"S\",\"D\"), length.out = N)\n",
    "length(dia)"
   ]
  },
  {
   "cell_type": "markdown",
   "metadata": {
    "id": "n1n3ptOIm5Zm"
   },
   "source": [
    "**Paso 3**\n",
    "\n",
    "Genere un vector llamado _est_, del mismo largo que _temp_, que en el primer tercio contenga el valor \"E1\", en el segundo tercio \"E2\", y en el tercer tercio \"E3\". Por ejemplo, si _temp_ tuviese 10 datos, el vector _est_ se vería como \n",
    "\n",
    "\n",
    "<center>  _est_ = (E1,E1,E1,E2,E2,E2,E3,E3,E3,E3) </center>"
   ]
  },
  {
   "cell_type": "code",
   "execution_count": null,
   "metadata": {
    "colab": {
     "base_uri": "https://localhost:8080/",
     "height": 104
    },
    "id": "eobMVmXxm5Zn",
    "outputId": "6f1f03ba-a5da-4b0b-c072-cfe08da64d31"
   },
   "outputs": [
    {
     "data": {
      "text/html": [
       "<style>\n",
       ".list-inline {list-style: none; margin:0; padding: 0}\n",
       ".list-inline>li {display: inline-block}\n",
       ".list-inline>li:not(:last-child)::after {content: \"\\00b7\"; padding: 0 .5ex}\n",
       "</style>\n",
       "<ol class=list-inline><li>'E1'</li><li>'E1'</li><li>'E1'</li><li>'E1'</li><li>'E1'</li><li>'E1'</li><li>'E1'</li><li>'E1'</li><li>'E1'</li><li>'E1'</li><li>'E1'</li><li>'E1'</li><li>'E1'</li><li>'E1'</li><li>'E1'</li><li>'E1'</li><li>'E1'</li><li>'E1'</li><li>'E1'</li><li>'E1'</li><li>'E1'</li><li>'E1'</li><li>'E1'</li><li>'E1'</li><li>'E1'</li><li>'E1'</li><li>'E1'</li><li>'E1'</li><li>'E1'</li><li>'E1'</li><li>'E1'</li><li>'E1'</li><li>'E1'</li><li>'E2'</li><li>'E2'</li><li>'E2'</li><li>'E2'</li><li>'E2'</li><li>'E2'</li><li>'E2'</li><li>'E2'</li><li>'E2'</li><li>'E2'</li><li>'E2'</li><li>'E2'</li><li>'E2'</li><li>'E2'</li><li>'E2'</li><li>'E2'</li><li>'E2'</li><li>'E2'</li><li>'E2'</li><li>'E2'</li><li>'E2'</li><li>'E2'</li><li>'E2'</li><li>'E2'</li><li>'E2'</li><li>'E2'</li><li>'E2'</li><li>'E2'</li><li>'E2'</li><li>'E2'</li><li>'E2'</li><li>'E2'</li><li>'E2'</li><li>'E3'</li><li>'E3'</li><li>'E3'</li><li>'E3'</li><li>'E3'</li><li>'E3'</li><li>'E3'</li><li>'E3'</li><li>'E3'</li><li>'E3'</li><li>'E3'</li><li>'E3'</li><li>'E3'</li><li>'E3'</li><li>'E3'</li><li>'E3'</li><li>'E3'</li><li>'E3'</li><li>'E3'</li><li>'E3'</li><li>'E3'</li><li>'E3'</li><li>'E3'</li><li>'E3'</li><li>'E3'</li><li>'E3'</li><li>'E3'</li><li>'E3'</li><li>'E3'</li><li>'E3'</li><li>'E3'</li><li>'E3'</li><li>'E3'</li><li>'E3'</li></ol>\n"
      ],
      "text/latex": [
       "\\begin{enumerate*}\n",
       "\\item 'E1'\n",
       "\\item 'E1'\n",
       "\\item 'E1'\n",
       "\\item 'E1'\n",
       "\\item 'E1'\n",
       "\\item 'E1'\n",
       "\\item 'E1'\n",
       "\\item 'E1'\n",
       "\\item 'E1'\n",
       "\\item 'E1'\n",
       "\\item 'E1'\n",
       "\\item 'E1'\n",
       "\\item 'E1'\n",
       "\\item 'E1'\n",
       "\\item 'E1'\n",
       "\\item 'E1'\n",
       "\\item 'E1'\n",
       "\\item 'E1'\n",
       "\\item 'E1'\n",
       "\\item 'E1'\n",
       "\\item 'E1'\n",
       "\\item 'E1'\n",
       "\\item 'E1'\n",
       "\\item 'E1'\n",
       "\\item 'E1'\n",
       "\\item 'E1'\n",
       "\\item 'E1'\n",
       "\\item 'E1'\n",
       "\\item 'E1'\n",
       "\\item 'E1'\n",
       "\\item 'E1'\n",
       "\\item 'E1'\n",
       "\\item 'E1'\n",
       "\\item 'E2'\n",
       "\\item 'E2'\n",
       "\\item 'E2'\n",
       "\\item 'E2'\n",
       "\\item 'E2'\n",
       "\\item 'E2'\n",
       "\\item 'E2'\n",
       "\\item 'E2'\n",
       "\\item 'E2'\n",
       "\\item 'E2'\n",
       "\\item 'E2'\n",
       "\\item 'E2'\n",
       "\\item 'E2'\n",
       "\\item 'E2'\n",
       "\\item 'E2'\n",
       "\\item 'E2'\n",
       "\\item 'E2'\n",
       "\\item 'E2'\n",
       "\\item 'E2'\n",
       "\\item 'E2'\n",
       "\\item 'E2'\n",
       "\\item 'E2'\n",
       "\\item 'E2'\n",
       "\\item 'E2'\n",
       "\\item 'E2'\n",
       "\\item 'E2'\n",
       "\\item 'E2'\n",
       "\\item 'E2'\n",
       "\\item 'E2'\n",
       "\\item 'E2'\n",
       "\\item 'E2'\n",
       "\\item 'E2'\n",
       "\\item 'E2'\n",
       "\\item 'E3'\n",
       "\\item 'E3'\n",
       "\\item 'E3'\n",
       "\\item 'E3'\n",
       "\\item 'E3'\n",
       "\\item 'E3'\n",
       "\\item 'E3'\n",
       "\\item 'E3'\n",
       "\\item 'E3'\n",
       "\\item 'E3'\n",
       "\\item 'E3'\n",
       "\\item 'E3'\n",
       "\\item 'E3'\n",
       "\\item 'E3'\n",
       "\\item 'E3'\n",
       "\\item 'E3'\n",
       "\\item 'E3'\n",
       "\\item 'E3'\n",
       "\\item 'E3'\n",
       "\\item 'E3'\n",
       "\\item 'E3'\n",
       "\\item 'E3'\n",
       "\\item 'E3'\n",
       "\\item 'E3'\n",
       "\\item 'E3'\n",
       "\\item 'E3'\n",
       "\\item 'E3'\n",
       "\\item 'E3'\n",
       "\\item 'E3'\n",
       "\\item 'E3'\n",
       "\\item 'E3'\n",
       "\\item 'E3'\n",
       "\\item 'E3'\n",
       "\\item 'E3'\n",
       "\\end{enumerate*}\n"
      ],
      "text/markdown": [
       "1. 'E1'\n",
       "2. 'E1'\n",
       "3. 'E1'\n",
       "4. 'E1'\n",
       "5. 'E1'\n",
       "6. 'E1'\n",
       "7. 'E1'\n",
       "8. 'E1'\n",
       "9. 'E1'\n",
       "10. 'E1'\n",
       "11. 'E1'\n",
       "12. 'E1'\n",
       "13. 'E1'\n",
       "14. 'E1'\n",
       "15. 'E1'\n",
       "16. 'E1'\n",
       "17. 'E1'\n",
       "18. 'E1'\n",
       "19. 'E1'\n",
       "20. 'E1'\n",
       "21. 'E1'\n",
       "22. 'E1'\n",
       "23. 'E1'\n",
       "24. 'E1'\n",
       "25. 'E1'\n",
       "26. 'E1'\n",
       "27. 'E1'\n",
       "28. 'E1'\n",
       "29. 'E1'\n",
       "30. 'E1'\n",
       "31. 'E1'\n",
       "32. 'E1'\n",
       "33. 'E1'\n",
       "34. 'E2'\n",
       "35. 'E2'\n",
       "36. 'E2'\n",
       "37. 'E2'\n",
       "38. 'E2'\n",
       "39. 'E2'\n",
       "40. 'E2'\n",
       "41. 'E2'\n",
       "42. 'E2'\n",
       "43. 'E2'\n",
       "44. 'E2'\n",
       "45. 'E2'\n",
       "46. 'E2'\n",
       "47. 'E2'\n",
       "48. 'E2'\n",
       "49. 'E2'\n",
       "50. 'E2'\n",
       "51. 'E2'\n",
       "52. 'E2'\n",
       "53. 'E2'\n",
       "54. 'E2'\n",
       "55. 'E2'\n",
       "56. 'E2'\n",
       "57. 'E2'\n",
       "58. 'E2'\n",
       "59. 'E2'\n",
       "60. 'E2'\n",
       "61. 'E2'\n",
       "62. 'E2'\n",
       "63. 'E2'\n",
       "64. 'E2'\n",
       "65. 'E2'\n",
       "66. 'E2'\n",
       "67. 'E3'\n",
       "68. 'E3'\n",
       "69. 'E3'\n",
       "70. 'E3'\n",
       "71. 'E3'\n",
       "72. 'E3'\n",
       "73. 'E3'\n",
       "74. 'E3'\n",
       "75. 'E3'\n",
       "76. 'E3'\n",
       "77. 'E3'\n",
       "78. 'E3'\n",
       "79. 'E3'\n",
       "80. 'E3'\n",
       "81. 'E3'\n",
       "82. 'E3'\n",
       "83. 'E3'\n",
       "84. 'E3'\n",
       "85. 'E3'\n",
       "86. 'E3'\n",
       "87. 'E3'\n",
       "88. 'E3'\n",
       "89. 'E3'\n",
       "90. 'E3'\n",
       "91. 'E3'\n",
       "92. 'E3'\n",
       "93. 'E3'\n",
       "94. 'E3'\n",
       "95. 'E3'\n",
       "96. 'E3'\n",
       "97. 'E3'\n",
       "98. 'E3'\n",
       "99. 'E3'\n",
       "100. 'E3'\n",
       "\n",
       "\n"
      ],
      "text/plain": [
       "  [1] \"E1\" \"E1\" \"E1\" \"E1\" \"E1\" \"E1\" \"E1\" \"E1\" \"E1\" \"E1\" \"E1\" \"E1\" \"E1\" \"E1\" \"E1\"\n",
       " [16] \"E1\" \"E1\" \"E1\" \"E1\" \"E1\" \"E1\" \"E1\" \"E1\" \"E1\" \"E1\" \"E1\" \"E1\" \"E1\" \"E1\" \"E1\"\n",
       " [31] \"E1\" \"E1\" \"E1\" \"E2\" \"E2\" \"E2\" \"E2\" \"E2\" \"E2\" \"E2\" \"E2\" \"E2\" \"E2\" \"E2\" \"E2\"\n",
       " [46] \"E2\" \"E2\" \"E2\" \"E2\" \"E2\" \"E2\" \"E2\" \"E2\" \"E2\" \"E2\" \"E2\" \"E2\" \"E2\" \"E2\" \"E2\"\n",
       " [61] \"E2\" \"E2\" \"E2\" \"E2\" \"E2\" \"E2\" \"E3\" \"E3\" \"E3\" \"E3\" \"E3\" \"E3\" \"E3\" \"E3\" \"E3\"\n",
       " [76] \"E3\" \"E3\" \"E3\" \"E3\" \"E3\" \"E3\" \"E3\" \"E3\" \"E3\" \"E3\" \"E3\" \"E3\" \"E3\" \"E3\" \"E3\"\n",
       " [91] \"E3\" \"E3\" \"E3\" \"E3\" \"E3\" \"E3\" \"E3\" \"E3\" \"E3\" \"E3\""
      ]
     },
     "metadata": {},
     "output_type": "display_data"
    },
    {
     "data": {
      "text/html": [
       "100"
      ],
      "text/latex": [
       "100"
      ],
      "text/markdown": [
       "100"
      ],
      "text/plain": [
       "[1] 100"
      ]
     },
     "metadata": {},
     "output_type": "display_data"
    }
   ],
   "source": [
    "# Paso 3\n",
    "est <- rep(c(\"E1\",\"E2\",\"E3\"),times = c(33,33,34))\n",
    "est\n",
    "length(est)"
   ]
  },
  {
   "cell_type": "markdown",
   "metadata": {
    "id": "bZZScNwUm5Zp"
   },
   "source": [
    ",**Paso 4**\n",
    "\n",
    "Genere un vector llamado _lluvia_ del mismo largo que _temp_, que sea TRUE en las posiciones en que _temp_ sea menor que 20, y FALSE en caso contrario."
   ]
  },
  {
   "cell_type": "code",
   "execution_count": null,
   "metadata": {
    "colab": {
     "base_uri": "https://localhost:8080/",
     "height": 121
    },
    "id": "AbtOs123m5Zq",
    "outputId": "8772a0cd-1c42-4326-c1f5-2f2821e45e7c"
   },
   "outputs": [
    {
     "data": {
      "text/html": [
       "<style>\n",
       ".list-inline {list-style: none; margin:0; padding: 0}\n",
       ".list-inline>li {display: inline-block}\n",
       ".list-inline>li:not(:last-child)::after {content: \"\\00b7\"; padding: 0 .5ex}\n",
       "</style>\n",
       "<ol class=list-inline><li>TRUE</li><li>FALSE</li><li>TRUE</li><li>FALSE</li><li>TRUE</li><li>FALSE</li><li>FALSE</li><li>TRUE</li><li>TRUE</li><li>FALSE</li><li>TRUE</li><li>TRUE</li><li>TRUE</li><li>TRUE</li><li>FALSE</li><li>TRUE</li><li>TRUE</li><li>FALSE</li><li>FALSE</li><li>FALSE</li><li>TRUE</li><li>FALSE</li><li>TRUE</li><li>TRUE</li><li>FALSE</li><li>TRUE</li><li>TRUE</li><li>FALSE</li><li>TRUE</li><li>FALSE</li><li>TRUE</li><li>FALSE</li><li>TRUE</li><li>TRUE</li><li>FALSE</li><li>TRUE</li><li>TRUE</li><li>TRUE</li><li>FALSE</li><li>TRUE</li><li>FALSE</li><li>TRUE</li><li>TRUE</li><li>TRUE</li><li>FALSE</li><li>FALSE</li><li>FALSE</li><li>FALSE</li><li>FALSE</li><li>TRUE</li><li>FALSE</li><li>FALSE</li><li>FALSE</li><li>FALSE</li><li>FALSE</li><li>FALSE</li><li>FALSE</li><li>FALSE</li><li>TRUE</li><li>TRUE</li><li>TRUE</li><li>TRUE</li><li>FALSE</li><li>FALSE</li><li>FALSE</li><li>FALSE</li><li>FALSE</li><li>FALSE</li><li>FALSE</li><li>FALSE</li><li>FALSE</li><li>TRUE</li><li>FALSE</li><li>TRUE</li><li>FALSE</li><li>TRUE</li><li>TRUE</li><li>FALSE</li><li>FALSE</li><li>FALSE</li><li>FALSE</li><li>TRUE</li><li>FALSE</li><li>TRUE</li><li>TRUE</li><li>TRUE</li><li>TRUE</li><li>FALSE</li><li>TRUE</li><li>FALSE</li><li>FALSE</li><li>TRUE</li><li>FALSE</li><li>TRUE</li><li>TRUE</li><li>TRUE</li><li>TRUE</li><li>TRUE</li><li>TRUE</li><li>TRUE</li></ol>\n"
      ],
      "text/latex": [
       "\\begin{enumerate*}\n",
       "\\item TRUE\n",
       "\\item FALSE\n",
       "\\item TRUE\n",
       "\\item FALSE\n",
       "\\item TRUE\n",
       "\\item FALSE\n",
       "\\item FALSE\n",
       "\\item TRUE\n",
       "\\item TRUE\n",
       "\\item FALSE\n",
       "\\item TRUE\n",
       "\\item TRUE\n",
       "\\item TRUE\n",
       "\\item TRUE\n",
       "\\item FALSE\n",
       "\\item TRUE\n",
       "\\item TRUE\n",
       "\\item FALSE\n",
       "\\item FALSE\n",
       "\\item FALSE\n",
       "\\item TRUE\n",
       "\\item FALSE\n",
       "\\item TRUE\n",
       "\\item TRUE\n",
       "\\item FALSE\n",
       "\\item TRUE\n",
       "\\item TRUE\n",
       "\\item FALSE\n",
       "\\item TRUE\n",
       "\\item FALSE\n",
       "\\item TRUE\n",
       "\\item FALSE\n",
       "\\item TRUE\n",
       "\\item TRUE\n",
       "\\item FALSE\n",
       "\\item TRUE\n",
       "\\item TRUE\n",
       "\\item TRUE\n",
       "\\item FALSE\n",
       "\\item TRUE\n",
       "\\item FALSE\n",
       "\\item TRUE\n",
       "\\item TRUE\n",
       "\\item TRUE\n",
       "\\item FALSE\n",
       "\\item FALSE\n",
       "\\item FALSE\n",
       "\\item FALSE\n",
       "\\item FALSE\n",
       "\\item TRUE\n",
       "\\item FALSE\n",
       "\\item FALSE\n",
       "\\item FALSE\n",
       "\\item FALSE\n",
       "\\item FALSE\n",
       "\\item FALSE\n",
       "\\item FALSE\n",
       "\\item FALSE\n",
       "\\item TRUE\n",
       "\\item TRUE\n",
       "\\item TRUE\n",
       "\\item TRUE\n",
       "\\item FALSE\n",
       "\\item FALSE\n",
       "\\item FALSE\n",
       "\\item FALSE\n",
       "\\item FALSE\n",
       "\\item FALSE\n",
       "\\item FALSE\n",
       "\\item FALSE\n",
       "\\item FALSE\n",
       "\\item TRUE\n",
       "\\item FALSE\n",
       "\\item TRUE\n",
       "\\item FALSE\n",
       "\\item TRUE\n",
       "\\item TRUE\n",
       "\\item FALSE\n",
       "\\item FALSE\n",
       "\\item FALSE\n",
       "\\item FALSE\n",
       "\\item TRUE\n",
       "\\item FALSE\n",
       "\\item TRUE\n",
       "\\item TRUE\n",
       "\\item TRUE\n",
       "\\item TRUE\n",
       "\\item FALSE\n",
       "\\item TRUE\n",
       "\\item FALSE\n",
       "\\item FALSE\n",
       "\\item TRUE\n",
       "\\item FALSE\n",
       "\\item TRUE\n",
       "\\item TRUE\n",
       "\\item TRUE\n",
       "\\item TRUE\n",
       "\\item TRUE\n",
       "\\item TRUE\n",
       "\\item TRUE\n",
       "\\end{enumerate*}\n"
      ],
      "text/markdown": [
       "1. TRUE\n",
       "2. FALSE\n",
       "3. TRUE\n",
       "4. FALSE\n",
       "5. TRUE\n",
       "6. FALSE\n",
       "7. FALSE\n",
       "8. TRUE\n",
       "9. TRUE\n",
       "10. FALSE\n",
       "11. TRUE\n",
       "12. TRUE\n",
       "13. TRUE\n",
       "14. TRUE\n",
       "15. FALSE\n",
       "16. TRUE\n",
       "17. TRUE\n",
       "18. FALSE\n",
       "19. FALSE\n",
       "20. FALSE\n",
       "21. TRUE\n",
       "22. FALSE\n",
       "23. TRUE\n",
       "24. TRUE\n",
       "25. FALSE\n",
       "26. TRUE\n",
       "27. TRUE\n",
       "28. FALSE\n",
       "29. TRUE\n",
       "30. FALSE\n",
       "31. TRUE\n",
       "32. FALSE\n",
       "33. TRUE\n",
       "34. TRUE\n",
       "35. FALSE\n",
       "36. TRUE\n",
       "37. TRUE\n",
       "38. TRUE\n",
       "39. FALSE\n",
       "40. TRUE\n",
       "41. FALSE\n",
       "42. TRUE\n",
       "43. TRUE\n",
       "44. TRUE\n",
       "45. FALSE\n",
       "46. FALSE\n",
       "47. FALSE\n",
       "48. FALSE\n",
       "49. FALSE\n",
       "50. TRUE\n",
       "51. FALSE\n",
       "52. FALSE\n",
       "53. FALSE\n",
       "54. FALSE\n",
       "55. FALSE\n",
       "56. FALSE\n",
       "57. FALSE\n",
       "58. FALSE\n",
       "59. TRUE\n",
       "60. TRUE\n",
       "61. TRUE\n",
       "62. TRUE\n",
       "63. FALSE\n",
       "64. FALSE\n",
       "65. FALSE\n",
       "66. FALSE\n",
       "67. FALSE\n",
       "68. FALSE\n",
       "69. FALSE\n",
       "70. FALSE\n",
       "71. FALSE\n",
       "72. TRUE\n",
       "73. FALSE\n",
       "74. TRUE\n",
       "75. FALSE\n",
       "76. TRUE\n",
       "77. TRUE\n",
       "78. FALSE\n",
       "79. FALSE\n",
       "80. FALSE\n",
       "81. FALSE\n",
       "82. TRUE\n",
       "83. FALSE\n",
       "84. TRUE\n",
       "85. TRUE\n",
       "86. TRUE\n",
       "87. TRUE\n",
       "88. FALSE\n",
       "89. TRUE\n",
       "90. FALSE\n",
       "91. FALSE\n",
       "92. TRUE\n",
       "93. FALSE\n",
       "94. TRUE\n",
       "95. TRUE\n",
       "96. TRUE\n",
       "97. TRUE\n",
       "98. TRUE\n",
       "99. TRUE\n",
       "100. TRUE\n",
       "\n",
       "\n"
      ],
      "text/plain": [
       "  [1]  TRUE FALSE  TRUE FALSE  TRUE FALSE FALSE  TRUE  TRUE FALSE  TRUE  TRUE\n",
       " [13]  TRUE  TRUE FALSE  TRUE  TRUE FALSE FALSE FALSE  TRUE FALSE  TRUE  TRUE\n",
       " [25] FALSE  TRUE  TRUE FALSE  TRUE FALSE  TRUE FALSE  TRUE  TRUE FALSE  TRUE\n",
       " [37]  TRUE  TRUE FALSE  TRUE FALSE  TRUE  TRUE  TRUE FALSE FALSE FALSE FALSE\n",
       " [49] FALSE  TRUE FALSE FALSE FALSE FALSE FALSE FALSE FALSE FALSE  TRUE  TRUE\n",
       " [61]  TRUE  TRUE FALSE FALSE FALSE FALSE FALSE FALSE FALSE FALSE FALSE  TRUE\n",
       " [73] FALSE  TRUE FALSE  TRUE  TRUE FALSE FALSE FALSE FALSE  TRUE FALSE  TRUE\n",
       " [85]  TRUE  TRUE  TRUE FALSE  TRUE FALSE FALSE  TRUE FALSE  TRUE  TRUE  TRUE\n",
       " [97]  TRUE  TRUE  TRUE  TRUE"
      ]
     },
     "metadata": {},
     "output_type": "display_data"
    }
   ],
   "source": [
    "# Paso 4\n",
    "lluvia <- temp < 20\n",
    "lluvia"
   ]
  },
  {
   "cell_type": "markdown",
   "metadata": {
    "id": "i7p8FIdtm5Zs"
   },
   "source": [
    "**Paso 5**\n",
    "\n",
    "Finalmente cree un data frame llamado _precipitaciones_ con las siguientes columnas:<br>\n",
    "\n",
    "*Dia_semana* (con los valores del vector _dia_)<br>\n",
    "*Temperatura* (con los valores del vector _temp_)<br>\n",
    "*Llueve* (con los valores del vector _lluvia_)<br>\n",
    "*Estacion* (con los valores del vector _est_)<br>"
   ]
  },
  {
   "cell_type": "code",
   "execution_count": null,
   "metadata": {
    "id": "o-TVm7uum5Zs"
   },
   "outputs": [],
   "source": [
    "# Paso 5\n",
    "precipitaciones <- data.frame(Dia_semana = dia\n",
    "                             ,Temperatura = temp\n",
    "                             ,Llueve = lluvia\n",
    "                             ,Estacion = est)\n"
   ]
  },
  {
   "cell_type": "code",
   "execution_count": null,
   "metadata": {
    "colab": {
     "base_uri": "https://localhost:8080/",
     "height": 286
    },
    "id": "odfNHSZy0BeY",
    "outputId": "8650ba33-b1b1-48f2-cbe8-890efdc55591"
   },
   "outputs": [
    {
     "data": {
      "text/html": [
       "<table class=\"dataframe\">\n",
       "<caption>A data.frame: 6 × 4</caption>\n",
       "<thead>\n",
       "\t<tr><th></th><th scope=col>Dia_semana</th><th scope=col>Temperatura</th><th scope=col>Llueve</th><th scope=col>Estacion</th></tr>\n",
       "\t<tr><th></th><th scope=col>&lt;chr&gt;</th><th scope=col>&lt;dbl&gt;</th><th scope=col>&lt;lgl&gt;</th><th scope=col>&lt;chr&gt;</th></tr>\n",
       "</thead>\n",
       "<tbody>\n",
       "\t<tr><th scope=row>1</th><td>L</td><td>12.42811</td><td> TRUE</td><td>E1</td></tr>\n",
       "\t<tr><th scope=row>2</th><td>M</td><td>24.56397</td><td>FALSE</td><td>E1</td></tr>\n",
       "\t<tr><th scope=row>3</th><td>W</td><td>11.83887</td><td> TRUE</td><td>E1</td></tr>\n",
       "\t<tr><th scope=row>4</th><td>J</td><td>25.84955</td><td>FALSE</td><td>E1</td></tr>\n",
       "\t<tr><th scope=row>5</th><td>V</td><td>14.67423</td><td> TRUE</td><td>E1</td></tr>\n",
       "\t<tr><th scope=row>6</th><td>S</td><td>32.62884</td><td>FALSE</td><td>E1</td></tr>\n",
       "</tbody>\n",
       "</table>\n"
      ],
      "text/latex": [
       "A data.frame: 6 × 4\n",
       "\\begin{tabular}{r|llll}\n",
       "  & Dia\\_semana & Temperatura & Llueve & Estacion\\\\\n",
       "  & <chr> & <dbl> & <lgl> & <chr>\\\\\n",
       "\\hline\n",
       "\t1 & L & 12.42811 &  TRUE & E1\\\\\n",
       "\t2 & M & 24.56397 & FALSE & E1\\\\\n",
       "\t3 & W & 11.83887 &  TRUE & E1\\\\\n",
       "\t4 & J & 25.84955 & FALSE & E1\\\\\n",
       "\t5 & V & 14.67423 &  TRUE & E1\\\\\n",
       "\t6 & S & 32.62884 & FALSE & E1\\\\\n",
       "\\end{tabular}\n"
      ],
      "text/markdown": [
       "\n",
       "A data.frame: 6 × 4\n",
       "\n",
       "| <!--/--> | Dia_semana &lt;chr&gt; | Temperatura &lt;dbl&gt; | Llueve &lt;lgl&gt; | Estacion &lt;chr&gt; |\n",
       "|---|---|---|---|---|\n",
       "| 1 | L | 12.42811 |  TRUE | E1 |\n",
       "| 2 | M | 24.56397 | FALSE | E1 |\n",
       "| 3 | W | 11.83887 |  TRUE | E1 |\n",
       "| 4 | J | 25.84955 | FALSE | E1 |\n",
       "| 5 | V | 14.67423 |  TRUE | E1 |\n",
       "| 6 | S | 32.62884 | FALSE | E1 |\n",
       "\n"
      ],
      "text/plain": [
       "  Dia_semana Temperatura Llueve Estacion\n",
       "1 L          12.42811     TRUE  E1      \n",
       "2 M          24.56397    FALSE  E1      \n",
       "3 W          11.83887     TRUE  E1      \n",
       "4 J          25.84955    FALSE  E1      \n",
       "5 V          14.67423     TRUE  E1      \n",
       "6 S          32.62884    FALSE  E1      "
      ]
     },
     "metadata": {},
     "output_type": "display_data"
    }
   ],
   "source": [
    "head(precipitaciones)"
   ]
  },
  {
   "cell_type": "code",
   "execution_count": null,
   "metadata": {
    "colab": {
     "base_uri": "https://localhost:8080/",
     "height": 568
    },
    "id": "VCyZHAMe0HFj",
    "outputId": "d88fed55-c97a-4f95-a423-37c5a7ca2194"
   },
   "outputs": [
    {
     "data": {
      "text/html": [
       "<table class=\"dataframe\">\n",
       "<caption>A data.frame: 15 × 4</caption>\n",
       "<thead>\n",
       "\t<tr><th></th><th scope=col>Dia_semana</th><th scope=col>Temperatura</th><th scope=col>Llueve</th><th scope=col>Estacion</th></tr>\n",
       "\t<tr><th></th><th scope=col>&lt;chr&gt;</th><th scope=col>&lt;dbl&gt;</th><th scope=col>&lt;lgl&gt;</th><th scope=col>&lt;chr&gt;</th></tr>\n",
       "</thead>\n",
       "<tbody>\n",
       "\t<tr><th scope=row>1</th><td>L</td><td>12.428111</td><td> TRUE</td><td>E1</td></tr>\n",
       "\t<tr><th scope=row>2</th><td>M</td><td>24.563973</td><td>FALSE</td><td>E1</td></tr>\n",
       "\t<tr><th scope=row>3</th><td>W</td><td>11.838868</td><td> TRUE</td><td>E1</td></tr>\n",
       "\t<tr><th scope=row>4</th><td>J</td><td>25.849547</td><td>FALSE</td><td>E1</td></tr>\n",
       "\t<tr><th scope=row>5</th><td>V</td><td>14.674231</td><td> TRUE</td><td>E1</td></tr>\n",
       "\t<tr><th scope=row>6</th><td>S</td><td>32.628836</td><td>FALSE</td><td>E1</td></tr>\n",
       "\t<tr><th scope=row>7</th><td>D</td><td>22.174260</td><td>FALSE</td><td>E1</td></tr>\n",
       "\t<tr><th scope=row>8</th><td>L</td><td>16.159774</td><td> TRUE</td><td>E1</td></tr>\n",
       "\t<tr><th scope=row>9</th><td>M</td><td>18.450524</td><td> TRUE</td><td>E1</td></tr>\n",
       "\t<tr><th scope=row>10</th><td>W</td><td>28.996479</td><td>FALSE</td><td>E1</td></tr>\n",
       "\t<tr><th scope=row>11</th><td>J</td><td>16.516663</td><td> TRUE</td><td>E1</td></tr>\n",
       "\t<tr><th scope=row>12</th><td>V</td><td> 7.458670</td><td> TRUE</td><td>E1</td></tr>\n",
       "\t<tr><th scope=row>13</th><td>S</td><td>12.843495</td><td> TRUE</td><td>E1</td></tr>\n",
       "\t<tr><th scope=row>14</th><td>D</td><td> 2.800934</td><td> TRUE</td><td>E1</td></tr>\n",
       "\t<tr><th scope=row>15</th><td>L</td><td>29.146220</td><td>FALSE</td><td>E1</td></tr>\n",
       "</tbody>\n",
       "</table>\n"
      ],
      "text/latex": [
       "A data.frame: 15 × 4\n",
       "\\begin{tabular}{r|llll}\n",
       "  & Dia\\_semana & Temperatura & Llueve & Estacion\\\\\n",
       "  & <chr> & <dbl> & <lgl> & <chr>\\\\\n",
       "\\hline\n",
       "\t1 & L & 12.428111 &  TRUE & E1\\\\\n",
       "\t2 & M & 24.563973 & FALSE & E1\\\\\n",
       "\t3 & W & 11.838868 &  TRUE & E1\\\\\n",
       "\t4 & J & 25.849547 & FALSE & E1\\\\\n",
       "\t5 & V & 14.674231 &  TRUE & E1\\\\\n",
       "\t6 & S & 32.628836 & FALSE & E1\\\\\n",
       "\t7 & D & 22.174260 & FALSE & E1\\\\\n",
       "\t8 & L & 16.159774 &  TRUE & E1\\\\\n",
       "\t9 & M & 18.450524 &  TRUE & E1\\\\\n",
       "\t10 & W & 28.996479 & FALSE & E1\\\\\n",
       "\t11 & J & 16.516663 &  TRUE & E1\\\\\n",
       "\t12 & V &  7.458670 &  TRUE & E1\\\\\n",
       "\t13 & S & 12.843495 &  TRUE & E1\\\\\n",
       "\t14 & D &  2.800934 &  TRUE & E1\\\\\n",
       "\t15 & L & 29.146220 & FALSE & E1\\\\\n",
       "\\end{tabular}\n"
      ],
      "text/markdown": [
       "\n",
       "A data.frame: 15 × 4\n",
       "\n",
       "| <!--/--> | Dia_semana &lt;chr&gt; | Temperatura &lt;dbl&gt; | Llueve &lt;lgl&gt; | Estacion &lt;chr&gt; |\n",
       "|---|---|---|---|---|\n",
       "| 1 | L | 12.428111 |  TRUE | E1 |\n",
       "| 2 | M | 24.563973 | FALSE | E1 |\n",
       "| 3 | W | 11.838868 |  TRUE | E1 |\n",
       "| 4 | J | 25.849547 | FALSE | E1 |\n",
       "| 5 | V | 14.674231 |  TRUE | E1 |\n",
       "| 6 | S | 32.628836 | FALSE | E1 |\n",
       "| 7 | D | 22.174260 | FALSE | E1 |\n",
       "| 8 | L | 16.159774 |  TRUE | E1 |\n",
       "| 9 | M | 18.450524 |  TRUE | E1 |\n",
       "| 10 | W | 28.996479 | FALSE | E1 |\n",
       "| 11 | J | 16.516663 |  TRUE | E1 |\n",
       "| 12 | V |  7.458670 |  TRUE | E1 |\n",
       "| 13 | S | 12.843495 |  TRUE | E1 |\n",
       "| 14 | D |  2.800934 |  TRUE | E1 |\n",
       "| 15 | L | 29.146220 | FALSE | E1 |\n",
       "\n"
      ],
      "text/plain": [
       "   Dia_semana Temperatura Llueve Estacion\n",
       "1  L          12.428111    TRUE  E1      \n",
       "2  M          24.563973   FALSE  E1      \n",
       "3  W          11.838868    TRUE  E1      \n",
       "4  J          25.849547   FALSE  E1      \n",
       "5  V          14.674231    TRUE  E1      \n",
       "6  S          32.628836   FALSE  E1      \n",
       "7  D          22.174260   FALSE  E1      \n",
       "8  L          16.159774    TRUE  E1      \n",
       "9  M          18.450524    TRUE  E1      \n",
       "10 W          28.996479   FALSE  E1      \n",
       "11 J          16.516663    TRUE  E1      \n",
       "12 V           7.458670    TRUE  E1      \n",
       "13 S          12.843495    TRUE  E1      \n",
       "14 D           2.800934    TRUE  E1      \n",
       "15 L          29.146220   FALSE  E1      "
      ]
     },
     "metadata": {},
     "output_type": "display_data"
    }
   ],
   "source": [
    "head(precipitaciones,15)"
   ]
  },
  {
   "cell_type": "code",
   "execution_count": null,
   "metadata": {
    "colab": {
     "base_uri": "https://localhost:8080/",
     "height": 286
    },
    "id": "2YzuZ7up0KKm",
    "outputId": "0b5bf85a-fd07-48e4-c949-2e358c60090b"
   },
   "outputs": [
    {
     "data": {
      "text/html": [
       "<table class=\"dataframe\">\n",
       "<caption>A data.frame: 6 × 4</caption>\n",
       "<thead>\n",
       "\t<tr><th></th><th scope=col>Dia_semana</th><th scope=col>Temperatura</th><th scope=col>Llueve</th><th scope=col>Estacion</th></tr>\n",
       "\t<tr><th></th><th scope=col>&lt;chr&gt;</th><th scope=col>&lt;dbl&gt;</th><th scope=col>&lt;lgl&gt;</th><th scope=col>&lt;chr&gt;</th></tr>\n",
       "</thead>\n",
       "<tbody>\n",
       "\t<tr><th scope=row>95</th><td>J</td><td>16.188968</td><td>TRUE</td><td>E3</td></tr>\n",
       "\t<tr><th scope=row>96</th><td>V</td><td>13.817705</td><td>TRUE</td><td>E3</td></tr>\n",
       "\t<tr><th scope=row>97</th><td>S</td><td>12.094709</td><td>TRUE</td><td>E3</td></tr>\n",
       "\t<tr><th scope=row>98</th><td>D</td><td> 6.952483</td><td>TRUE</td><td>E3</td></tr>\n",
       "\t<tr><th scope=row>99</th><td>L</td><td>11.968059</td><td>TRUE</td><td>E3</td></tr>\n",
       "\t<tr><th scope=row>100</th><td>M</td><td>14.850308</td><td>TRUE</td><td>E3</td></tr>\n",
       "</tbody>\n",
       "</table>\n"
      ],
      "text/latex": [
       "A data.frame: 6 × 4\n",
       "\\begin{tabular}{r|llll}\n",
       "  & Dia\\_semana & Temperatura & Llueve & Estacion\\\\\n",
       "  & <chr> & <dbl> & <lgl> & <chr>\\\\\n",
       "\\hline\n",
       "\t95 & J & 16.188968 & TRUE & E3\\\\\n",
       "\t96 & V & 13.817705 & TRUE & E3\\\\\n",
       "\t97 & S & 12.094709 & TRUE & E3\\\\\n",
       "\t98 & D &  6.952483 & TRUE & E3\\\\\n",
       "\t99 & L & 11.968059 & TRUE & E3\\\\\n",
       "\t100 & M & 14.850308 & TRUE & E3\\\\\n",
       "\\end{tabular}\n"
      ],
      "text/markdown": [
       "\n",
       "A data.frame: 6 × 4\n",
       "\n",
       "| <!--/--> | Dia_semana &lt;chr&gt; | Temperatura &lt;dbl&gt; | Llueve &lt;lgl&gt; | Estacion &lt;chr&gt; |\n",
       "|---|---|---|---|---|\n",
       "| 95 | J | 16.188968 | TRUE | E3 |\n",
       "| 96 | V | 13.817705 | TRUE | E3 |\n",
       "| 97 | S | 12.094709 | TRUE | E3 |\n",
       "| 98 | D |  6.952483 | TRUE | E3 |\n",
       "| 99 | L | 11.968059 | TRUE | E3 |\n",
       "| 100 | M | 14.850308 | TRUE | E3 |\n",
       "\n"
      ],
      "text/plain": [
       "    Dia_semana Temperatura Llueve Estacion\n",
       "95  J          16.188968   TRUE   E3      \n",
       "96  V          13.817705   TRUE   E3      \n",
       "97  S          12.094709   TRUE   E3      \n",
       "98  D           6.952483   TRUE   E3      \n",
       "99  L          11.968059   TRUE   E3      \n",
       "100 M          14.850308   TRUE   E3      "
      ]
     },
     "metadata": {},
     "output_type": "display_data"
    }
   ],
   "source": [
    "tail(precipitaciones)"
   ]
  },
  {
   "cell_type": "code",
   "execution_count": null,
   "metadata": {
    "colab": {
     "base_uri": "https://localhost:8080/",
     "height": 568
    },
    "id": "vHadq6-20NLY",
    "outputId": "0ecfd1b9-375a-416d-e95f-593e64f63883"
   },
   "outputs": [
    {
     "data": {
      "text/html": [
       "<table class=\"dataframe\">\n",
       "<caption>A data.frame: 15 × 4</caption>\n",
       "<thead>\n",
       "\t<tr><th></th><th scope=col>Dia_semana</th><th scope=col>Temperatura</th><th scope=col>Llueve</th><th scope=col>Estacion</th></tr>\n",
       "\t<tr><th></th><th scope=col>&lt;chr&gt;</th><th scope=col>&lt;dbl&gt;</th><th scope=col>&lt;lgl&gt;</th><th scope=col>&lt;chr&gt;</th></tr>\n",
       "</thead>\n",
       "<tbody>\n",
       "\t<tr><th scope=row>86</th><td>M</td><td>19.905821</td><td> TRUE</td><td>E3</td></tr>\n",
       "\t<tr><th scope=row>87</th><td>W</td><td>14.271193</td><td> TRUE</td><td>E3</td></tr>\n",
       "\t<tr><th scope=row>88</th><td>J</td><td>23.272303</td><td>FALSE</td><td>E3</td></tr>\n",
       "\t<tr><th scope=row>89</th><td>V</td><td> 8.696560</td><td> TRUE</td><td>E3</td></tr>\n",
       "\t<tr><th scope=row>90</th><td>S</td><td>26.781771</td><td>FALSE</td><td>E3</td></tr>\n",
       "\t<tr><th scope=row>91</th><td>D</td><td>28.829237</td><td>FALSE</td><td>E3</td></tr>\n",
       "\t<tr><th scope=row>92</th><td>L</td><td>13.366403</td><td> TRUE</td><td>E3</td></tr>\n",
       "\t<tr><th scope=row>93</th><td>M</td><td>23.680405</td><td>FALSE</td><td>E3</td></tr>\n",
       "\t<tr><th scope=row>94</th><td>W</td><td> 2.433932</td><td> TRUE</td><td>E3</td></tr>\n",
       "\t<tr><th scope=row>95</th><td>J</td><td>16.188968</td><td> TRUE</td><td>E3</td></tr>\n",
       "\t<tr><th scope=row>96</th><td>V</td><td>13.817705</td><td> TRUE</td><td>E3</td></tr>\n",
       "\t<tr><th scope=row>97</th><td>S</td><td>12.094709</td><td> TRUE</td><td>E3</td></tr>\n",
       "\t<tr><th scope=row>98</th><td>D</td><td> 6.952483</td><td> TRUE</td><td>E3</td></tr>\n",
       "\t<tr><th scope=row>99</th><td>L</td><td>11.968059</td><td> TRUE</td><td>E3</td></tr>\n",
       "\t<tr><th scope=row>100</th><td>M</td><td>14.850308</td><td> TRUE</td><td>E3</td></tr>\n",
       "</tbody>\n",
       "</table>\n"
      ],
      "text/latex": [
       "A data.frame: 15 × 4\n",
       "\\begin{tabular}{r|llll}\n",
       "  & Dia\\_semana & Temperatura & Llueve & Estacion\\\\\n",
       "  & <chr> & <dbl> & <lgl> & <chr>\\\\\n",
       "\\hline\n",
       "\t86 & M & 19.905821 &  TRUE & E3\\\\\n",
       "\t87 & W & 14.271193 &  TRUE & E3\\\\\n",
       "\t88 & J & 23.272303 & FALSE & E3\\\\\n",
       "\t89 & V &  8.696560 &  TRUE & E3\\\\\n",
       "\t90 & S & 26.781771 & FALSE & E3\\\\\n",
       "\t91 & D & 28.829237 & FALSE & E3\\\\\n",
       "\t92 & L & 13.366403 &  TRUE & E3\\\\\n",
       "\t93 & M & 23.680405 & FALSE & E3\\\\\n",
       "\t94 & W &  2.433932 &  TRUE & E3\\\\\n",
       "\t95 & J & 16.188968 &  TRUE & E3\\\\\n",
       "\t96 & V & 13.817705 &  TRUE & E3\\\\\n",
       "\t97 & S & 12.094709 &  TRUE & E3\\\\\n",
       "\t98 & D &  6.952483 &  TRUE & E3\\\\\n",
       "\t99 & L & 11.968059 &  TRUE & E3\\\\\n",
       "\t100 & M & 14.850308 &  TRUE & E3\\\\\n",
       "\\end{tabular}\n"
      ],
      "text/markdown": [
       "\n",
       "A data.frame: 15 × 4\n",
       "\n",
       "| <!--/--> | Dia_semana &lt;chr&gt; | Temperatura &lt;dbl&gt; | Llueve &lt;lgl&gt; | Estacion &lt;chr&gt; |\n",
       "|---|---|---|---|---|\n",
       "| 86 | M | 19.905821 |  TRUE | E3 |\n",
       "| 87 | W | 14.271193 |  TRUE | E3 |\n",
       "| 88 | J | 23.272303 | FALSE | E3 |\n",
       "| 89 | V |  8.696560 |  TRUE | E3 |\n",
       "| 90 | S | 26.781771 | FALSE | E3 |\n",
       "| 91 | D | 28.829237 | FALSE | E3 |\n",
       "| 92 | L | 13.366403 |  TRUE | E3 |\n",
       "| 93 | M | 23.680405 | FALSE | E3 |\n",
       "| 94 | W |  2.433932 |  TRUE | E3 |\n",
       "| 95 | J | 16.188968 |  TRUE | E3 |\n",
       "| 96 | V | 13.817705 |  TRUE | E3 |\n",
       "| 97 | S | 12.094709 |  TRUE | E3 |\n",
       "| 98 | D |  6.952483 |  TRUE | E3 |\n",
       "| 99 | L | 11.968059 |  TRUE | E3 |\n",
       "| 100 | M | 14.850308 |  TRUE | E3 |\n",
       "\n"
      ],
      "text/plain": [
       "    Dia_semana Temperatura Llueve Estacion\n",
       "86  M          19.905821    TRUE  E3      \n",
       "87  W          14.271193    TRUE  E3      \n",
       "88  J          23.272303   FALSE  E3      \n",
       "89  V           8.696560    TRUE  E3      \n",
       "90  S          26.781771   FALSE  E3      \n",
       "91  D          28.829237   FALSE  E3      \n",
       "92  L          13.366403    TRUE  E3      \n",
       "93  M          23.680405   FALSE  E3      \n",
       "94  W           2.433932    TRUE  E3      \n",
       "95  J          16.188968    TRUE  E3      \n",
       "96  V          13.817705    TRUE  E3      \n",
       "97  S          12.094709    TRUE  E3      \n",
       "98  D           6.952483    TRUE  E3      \n",
       "99  L          11.968059    TRUE  E3      \n",
       "100 M          14.850308    TRUE  E3      "
      ]
     },
     "metadata": {},
     "output_type": "display_data"
    }
   ],
   "source": [
    "tail(precipitaciones,15)"
   ]
  },
  {
   "cell_type": "code",
   "execution_count": null,
   "metadata": {
    "colab": {
     "base_uri": "https://localhost:8080/",
     "height": 145
    },
    "id": "3ncxD9mi0Y9j",
    "outputId": "b44ffaa2-39c6-4580-90bf-6471188b9cae"
   },
   "outputs": [
    {
     "data": {
      "text/plain": [
       "  Dia_semana         Temperatura       Llueve          Estacion        \n",
       " Length:100         Min.   : 2.434   Mode :logical   Length:100        \n",
       " Class :character   1st Qu.:13.719   FALSE:50        Class :character  \n",
       " Mode  :character   Median :20.143   TRUE :50        Mode  :character  \n",
       "                    Mean   :19.949                                     \n",
       "                    3rd Qu.:27.343                                     \n",
       "                    Max.   :37.120                                     "
      ]
     },
     "metadata": {},
     "output_type": "display_data"
    }
   ],
   "source": [
    "summary(precipitaciones)"
   ]
  },
  {
   "cell_type": "markdown",
   "metadata": {
    "id": "kIjelA5sm5Zx"
   },
   "source": [
    "#### Strings como factores\n",
    "Cuando en R se declara una variable como factor, internamente se codifican sus categorías con valores 0 o 1. Por ejemplo, para las variables _Dia_ y _Estacion_ podemos generar sus matriz de diseño, indicando un 1 si el día (o estación) corresponde a la nueva columna generada, 0 si  no:\n",
    "\n",
    " |Dia |Temperatura    |Llueve| Estacion| | Dia.L|Dia.M|Dia.W|Dia.J|Dia.V|Dia.S|Dia.D|Est.1|Est.2|Est.3|\n",
    " |----|------------   |------|---------| |---   |---  |---  |---  |---  |---  |---  |---  |---  |---  |\n",
    " |L\t  |16.300201      |TRUE  |\tE1     | |1     |0    |0    |0    |0    |0    |0    |1    |0    |0    |\n",
    " |M   |21.042854      |FALSE |\tE1     | |0     |1    |0    |0    |0    |0    |0    |1    |0    |0    |\n",
    " |J\t  |31.256043      |FALSE |\tE3     | |0     |0    |0    |1    |0    |0    |0    |0    |0    |1    |\n",
    " |S\t  |40.083514      |FALSE |\tE3     | |0     |0    |0    |0    |0    |1    |0    |0    |0    |1    |\n",
    " \n",
    " Cuando se quiere generar un resumen de una variable categórica, o cuando se quiere incluir una variable de este tipo en el entrenamiento de un modelo será necesario declarar dicha variable como factor."
   ]
  },
  {
   "cell_type": "code",
   "execution_count": null,
   "metadata": {
    "id": "UQN71LvGm5Z-"
   },
   "outputs": [],
   "source": [
    "#podemos volver a coercionar las columnas a clase factor,  con la función as.factor\n",
    "precipitaciones$Dia_semana <- as.factor(precipitaciones$Dia_semana)\n",
    "precipitaciones$Estacion <- as.factor(precipitaciones$Estacion)"
   ]
  },
  {
   "cell_type": "code",
   "execution_count": null,
   "metadata": {
    "colab": {
     "base_uri": "https://localhost:8080/",
     "height": 286
    },
    "id": "-bmXaPY01iIV",
    "outputId": "a91889ea-be5e-45f0-be52-6396c79b123e"
   },
   "outputs": [
    {
     "data": {
      "text/html": [
       "<table class=\"dataframe\">\n",
       "<caption>A data.frame: 6 × 4</caption>\n",
       "<thead>\n",
       "\t<tr><th></th><th scope=col>Dia_semana</th><th scope=col>Temperatura</th><th scope=col>Llueve</th><th scope=col>Estacion</th></tr>\n",
       "\t<tr><th></th><th scope=col>&lt;fct&gt;</th><th scope=col>&lt;dbl&gt;</th><th scope=col>&lt;lgl&gt;</th><th scope=col>&lt;fct&gt;</th></tr>\n",
       "</thead>\n",
       "<tbody>\n",
       "\t<tr><th scope=row>1</th><td>L</td><td>12.42811</td><td> TRUE</td><td>E1</td></tr>\n",
       "\t<tr><th scope=row>2</th><td>M</td><td>24.56397</td><td>FALSE</td><td>E1</td></tr>\n",
       "\t<tr><th scope=row>3</th><td>W</td><td>11.83887</td><td> TRUE</td><td>E1</td></tr>\n",
       "\t<tr><th scope=row>4</th><td>J</td><td>25.84955</td><td>FALSE</td><td>E1</td></tr>\n",
       "\t<tr><th scope=row>5</th><td>V</td><td>14.67423</td><td> TRUE</td><td>E1</td></tr>\n",
       "\t<tr><th scope=row>6</th><td>S</td><td>32.62884</td><td>FALSE</td><td>E1</td></tr>\n",
       "</tbody>\n",
       "</table>\n"
      ],
      "text/latex": [
       "A data.frame: 6 × 4\n",
       "\\begin{tabular}{r|llll}\n",
       "  & Dia\\_semana & Temperatura & Llueve & Estacion\\\\\n",
       "  & <fct> & <dbl> & <lgl> & <fct>\\\\\n",
       "\\hline\n",
       "\t1 & L & 12.42811 &  TRUE & E1\\\\\n",
       "\t2 & M & 24.56397 & FALSE & E1\\\\\n",
       "\t3 & W & 11.83887 &  TRUE & E1\\\\\n",
       "\t4 & J & 25.84955 & FALSE & E1\\\\\n",
       "\t5 & V & 14.67423 &  TRUE & E1\\\\\n",
       "\t6 & S & 32.62884 & FALSE & E1\\\\\n",
       "\\end{tabular}\n"
      ],
      "text/markdown": [
       "\n",
       "A data.frame: 6 × 4\n",
       "\n",
       "| <!--/--> | Dia_semana &lt;fct&gt; | Temperatura &lt;dbl&gt; | Llueve &lt;lgl&gt; | Estacion &lt;fct&gt; |\n",
       "|---|---|---|---|---|\n",
       "| 1 | L | 12.42811 |  TRUE | E1 |\n",
       "| 2 | M | 24.56397 | FALSE | E1 |\n",
       "| 3 | W | 11.83887 |  TRUE | E1 |\n",
       "| 4 | J | 25.84955 | FALSE | E1 |\n",
       "| 5 | V | 14.67423 |  TRUE | E1 |\n",
       "| 6 | S | 32.62884 | FALSE | E1 |\n",
       "\n"
      ],
      "text/plain": [
       "  Dia_semana Temperatura Llueve Estacion\n",
       "1 L          12.42811     TRUE  E1      \n",
       "2 M          24.56397    FALSE  E1      \n",
       "3 W          11.83887     TRUE  E1      \n",
       "4 J          25.84955    FALSE  E1      \n",
       "5 V          14.67423     TRUE  E1      \n",
       "6 S          32.62884    FALSE  E1      "
      ]
     },
     "metadata": {},
     "output_type": "display_data"
    }
   ],
   "source": [
    "head(precipitaciones)"
   ]
  },
  {
   "cell_type": "code",
   "execution_count": null,
   "metadata": {
    "colab": {
     "base_uri": "https://localhost:8080/",
     "height": 163
    },
    "id": "PICD4IQx1mjk",
    "outputId": "d31d65cc-fe68-41b6-f623-2d57480249c4"
   },
   "outputs": [
    {
     "data": {
      "text/plain": [
       " Dia_semana  Temperatura       Llueve        Estacion\n",
       " D:14       Min.   : 2.434   Mode :logical   E1:33   \n",
       " J:14       1st Qu.:13.719   FALSE:50        E2:33   \n",
       " L:15       Median :20.143   TRUE :50        E3:34   \n",
       " M:15       Mean   :19.949                           \n",
       " S:14       3rd Qu.:27.343                           \n",
       " V:14       Max.   :37.120                           \n",
       " W:14                                                "
      ]
     },
     "metadata": {},
     "output_type": "display_data"
    }
   ],
   "source": [
    "summary(precipitaciones)"
   ]
  },
  {
   "cell_type": "code",
   "execution_count": null,
   "metadata": {
    "colab": {
     "base_uri": "https://localhost:8080/",
     "height": 34
    },
    "id": "2qF38h3E16Cd",
    "outputId": "c9aa01b8-20a6-48c8-8631-d3757e8d9e0d"
   },
   "outputs": [
    {
     "data": {
      "text/html": [
       "<style>\n",
       ".list-inline {list-style: none; margin:0; padding: 0}\n",
       ".list-inline>li {display: inline-block}\n",
       ".list-inline>li:not(:last-child)::after {content: \"\\00b7\"; padding: 0 .5ex}\n",
       "</style>\n",
       "<ol class=list-inline><li>'D'</li><li>'J'</li><li>'L'</li><li>'M'</li><li>'S'</li><li>'V'</li><li>'W'</li></ol>\n"
      ],
      "text/latex": [
       "\\begin{enumerate*}\n",
       "\\item 'D'\n",
       "\\item 'J'\n",
       "\\item 'L'\n",
       "\\item 'M'\n",
       "\\item 'S'\n",
       "\\item 'V'\n",
       "\\item 'W'\n",
       "\\end{enumerate*}\n"
      ],
      "text/markdown": [
       "1. 'D'\n",
       "2. 'J'\n",
       "3. 'L'\n",
       "4. 'M'\n",
       "5. 'S'\n",
       "6. 'V'\n",
       "7. 'W'\n",
       "\n",
       "\n"
      ],
      "text/plain": [
       "[1] \"D\" \"J\" \"L\" \"M\" \"S\" \"V\" \"W\""
      ]
     },
     "metadata": {},
     "output_type": "display_data"
    }
   ],
   "source": [
    "levels(precipitaciones$Dia_semana)"
   ]
  },
  {
   "cell_type": "code",
   "execution_count": null,
   "metadata": {
    "id": "aX5kKu7M1__4"
   },
   "outputs": [],
   "source": [
    "precipitaciones$Dia_semana <- as.character(precipitaciones$Dia_semana)\n",
    "precipitaciones$Estacion <- as.character(precipitaciones$Estacion)"
   ]
  },
  {
   "cell_type": "code",
   "execution_count": null,
   "metadata": {
    "colab": {
     "base_uri": "https://localhost:8080/",
     "height": 286
    },
    "id": "C5zE3aAM2Gzb",
    "outputId": "2aa4f026-665c-4a1b-aed4-9852d229ca44"
   },
   "outputs": [
    {
     "data": {
      "text/html": [
       "<table class=\"dataframe\">\n",
       "<caption>A data.frame: 6 × 4</caption>\n",
       "<thead>\n",
       "\t<tr><th></th><th scope=col>Dia_semana</th><th scope=col>Temperatura</th><th scope=col>Llueve</th><th scope=col>Estacion</th></tr>\n",
       "\t<tr><th></th><th scope=col>&lt;chr&gt;</th><th scope=col>&lt;dbl&gt;</th><th scope=col>&lt;lgl&gt;</th><th scope=col>&lt;chr&gt;</th></tr>\n",
       "</thead>\n",
       "<tbody>\n",
       "\t<tr><th scope=row>1</th><td>L</td><td>12.42811</td><td> TRUE</td><td>E1</td></tr>\n",
       "\t<tr><th scope=row>2</th><td>M</td><td>24.56397</td><td>FALSE</td><td>E1</td></tr>\n",
       "\t<tr><th scope=row>3</th><td>W</td><td>11.83887</td><td> TRUE</td><td>E1</td></tr>\n",
       "\t<tr><th scope=row>4</th><td>J</td><td>25.84955</td><td>FALSE</td><td>E1</td></tr>\n",
       "\t<tr><th scope=row>5</th><td>V</td><td>14.67423</td><td> TRUE</td><td>E1</td></tr>\n",
       "\t<tr><th scope=row>6</th><td>S</td><td>32.62884</td><td>FALSE</td><td>E1</td></tr>\n",
       "</tbody>\n",
       "</table>\n"
      ],
      "text/latex": [
       "A data.frame: 6 × 4\n",
       "\\begin{tabular}{r|llll}\n",
       "  & Dia\\_semana & Temperatura & Llueve & Estacion\\\\\n",
       "  & <chr> & <dbl> & <lgl> & <chr>\\\\\n",
       "\\hline\n",
       "\t1 & L & 12.42811 &  TRUE & E1\\\\\n",
       "\t2 & M & 24.56397 & FALSE & E1\\\\\n",
       "\t3 & W & 11.83887 &  TRUE & E1\\\\\n",
       "\t4 & J & 25.84955 & FALSE & E1\\\\\n",
       "\t5 & V & 14.67423 &  TRUE & E1\\\\\n",
       "\t6 & S & 32.62884 & FALSE & E1\\\\\n",
       "\\end{tabular}\n"
      ],
      "text/markdown": [
       "\n",
       "A data.frame: 6 × 4\n",
       "\n",
       "| <!--/--> | Dia_semana &lt;chr&gt; | Temperatura &lt;dbl&gt; | Llueve &lt;lgl&gt; | Estacion &lt;chr&gt; |\n",
       "|---|---|---|---|---|\n",
       "| 1 | L | 12.42811 |  TRUE | E1 |\n",
       "| 2 | M | 24.56397 | FALSE | E1 |\n",
       "| 3 | W | 11.83887 |  TRUE | E1 |\n",
       "| 4 | J | 25.84955 | FALSE | E1 |\n",
       "| 5 | V | 14.67423 |  TRUE | E1 |\n",
       "| 6 | S | 32.62884 | FALSE | E1 |\n",
       "\n"
      ],
      "text/plain": [
       "  Dia_semana Temperatura Llueve Estacion\n",
       "1 L          12.42811     TRUE  E1      \n",
       "2 M          24.56397    FALSE  E1      \n",
       "3 W          11.83887     TRUE  E1      \n",
       "4 J          25.84955    FALSE  E1      \n",
       "5 V          14.67423     TRUE  E1      \n",
       "6 S          32.62884    FALSE  E1      "
      ]
     },
     "metadata": {},
     "output_type": "display_data"
    }
   ],
   "source": [
    "head(precipitaciones)"
   ]
  },
  {
   "cell_type": "code",
   "execution_count": null,
   "metadata": {
    "colab": {
     "base_uri": "https://localhost:8080/",
     "height": 69
    },
    "id": "5kjmwaOUm5aA",
    "outputId": "6f853628-ee67-4891-b03e-18d49c792e40"
   },
   "outputs": [
    {
     "data": {
      "text/html": [
       "12.7876991368362"
      ],
      "text/latex": [
       "12.7876991368362"
      ],
      "text/markdown": [
       "12.7876991368362"
      ],
      "text/plain": [
       "[1] 12.7877"
      ]
     },
     "metadata": {},
     "output_type": "display_data"
    },
    {
     "data": {
      "text/html": [
       "12.7876991368362"
      ],
      "text/latex": [
       "12.7876991368362"
      ],
      "text/markdown": [
       "12.7876991368362"
      ],
      "text/plain": [
       "[1] 12.7877"
      ]
     },
     "metadata": {},
     "output_type": "display_data"
    },
    {
     "data": {
      "text/html": [
       "12.7876991368362"
      ],
      "text/latex": [
       "12.7876991368362"
      ],
      "text/markdown": [
       "12.7876991368362"
      ],
      "text/plain": [
       "[1] 12.7877"
      ]
     },
     "metadata": {},
     "output_type": "display_data"
    }
   ],
   "source": [
    "# Un poco de exploración --------------------------------\n",
    "# ¿Cuál es la temperatura promedio cuando llovió?\n",
    "mean(precipitaciones[precipitaciones$Llueve == TRUE,\"Temperatura\" ])\n",
    "mean(precipitaciones[precipitaciones$Llueve == TRUE,]$Temperatura)\n",
    "mean(precipitaciones[precipitaciones$Llueve,]$Temperatura)# En este caso en particular\n",
    "\n",
    "\n",
    "\n"
   ]
  },
  {
   "cell_type": "code",
   "execution_count": null,
   "metadata": {
    "colab": {
     "base_uri": "https://localhost:8080/",
     "height": 69
    },
    "id": "FLiXLAw-3iTK",
    "outputId": "1b250948-0177-47c7-deb9-5aaa73142219"
   },
   "outputs": [
    {
     "data": {
      "text/html": [
       "27.1099556416673"
      ],
      "text/latex": [
       "27.1099556416673"
      ],
      "text/markdown": [
       "27.1099556416673"
      ],
      "text/plain": [
       "[1] 27.10996"
      ]
     },
     "metadata": {},
     "output_type": "display_data"
    },
    {
     "data": {
      "text/html": [
       "27.1099556416673"
      ],
      "text/latex": [
       "27.1099556416673"
      ],
      "text/markdown": [
       "27.1099556416673"
      ],
      "text/plain": [
       "[1] 27.10996"
      ]
     },
     "metadata": {},
     "output_type": "display_data"
    },
    {
     "data": {
      "text/html": [
       "27.1099556416673"
      ],
      "text/latex": [
       "27.1099556416673"
      ],
      "text/markdown": [
       "27.1099556416673"
      ],
      "text/plain": [
       "[1] 27.10996"
      ]
     },
     "metadata": {},
     "output_type": "display_data"
    }
   ],
   "source": [
    "# ¿Cuál es la temperatura promedio cuando NO llovió?\n",
    "mean(precipitaciones[!precipitaciones$Llueve == TRUE,\"Temperatura\" ])\n",
    "mean(precipitaciones[precipitaciones$Llueve == FALSE,\"Temperatura\" ])\n",
    "mean(precipitaciones[!precipitaciones$Llueve,\"Temperatura\" ])\n",
    "#Lo mismo pero sólo de los registros de E1"
   ]
  },
  {
   "cell_type": "code",
   "execution_count": null,
   "metadata": {
    "colab": {
     "base_uri": "https://localhost:8080/",
     "height": 69
    },
    "id": "TJuAlpPxm5aC",
    "outputId": "5b340b94-cb23-4827-9850-4256a604177b"
   },
   "outputs": [
    {
     "data": {
      "text/html": [
       "'W'"
      ],
      "text/latex": [
       "'W'"
      ],
      "text/markdown": [
       "'W'"
      ],
      "text/plain": [
       "[1] \"W\""
      ]
     },
     "metadata": {},
     "output_type": "display_data"
    },
    {
     "data": {
      "text/html": [
       "'W'"
      ],
      "text/latex": [
       "'W'"
      ],
      "text/markdown": [
       "'W'"
      ],
      "text/plain": [
       "[1] \"W\""
      ]
     },
     "metadata": {},
     "output_type": "display_data"
    },
    {
     "data": {
      "text/html": [
       "'W'"
      ],
      "text/latex": [
       "'W'"
      ],
      "text/markdown": [
       "'W'"
      ],
      "text/plain": [
       "[1] \"W\""
      ]
     },
     "metadata": {},
     "output_type": "display_data"
    }
   ],
   "source": [
    "# ¿Qué día era cuando se alcanzó la mínima temperatura?¿y la ,máxima?\n",
    "#La función which.min #o .max . retorna la posición donde se alcanza el min/max de un vector.\n",
    "\n",
    "# opcion 1\n",
    "fila_min_temp <- which.min(precipitaciones$Temperatura)\n",
    "precipitaciones[fila_min_temp, \"Dia_semana\"]\n",
    "\n",
    "\n",
    "# opcion 2\n",
    "precipitaciones[fila_min_temp, ]$Dia_semana\n",
    "precipitaciones$Dia_semana[fila_min_temp]"
   ]
  },
  {
   "cell_type": "code",
   "execution_count": null,
   "metadata": {
    "colab": {
     "base_uri": "https://localhost:8080/",
     "height": 34
    },
    "id": "WHf5YnPWm5aF",
    "outputId": "2c91e944-686d-4172-8d6e-b0d3cd7bda03"
   },
   "outputs": [
    {
     "data": {
      "text/html": [
       "<style>\n",
       ".list-inline {list-style: none; margin:0; padding: 0}\n",
       ".list-inline>li {display: inline-block}\n",
       ".list-inline>li:not(:last-child)::after {content: \"\\00b7\"; padding: 0 .5ex}\n",
       "</style>\n",
       "<ol class=list-inline><li>7</li><li>8</li><li>9</li></ol>\n"
      ],
      "text/latex": [
       "\\begin{enumerate*}\n",
       "\\item 7\n",
       "\\item 8\n",
       "\\item 9\n",
       "\\end{enumerate*}\n"
      ],
      "text/markdown": [
       "1. 7\n",
       "2. 8\n",
       "3. 9\n",
       "\n",
       "\n"
      ],
      "text/plain": [
       "[1] 7 8 9"
      ]
     },
     "metadata": {},
     "output_type": "display_data"
    }
   ],
   "source": [
    "# Una forma de eliminar registros en vector\n",
    "ej <- c(7,8,9) #Eliminar la pos 2\n",
    "\n",
    "ej\n",
    "\n",
    "\n"
   ]
  },
  {
   "cell_type": "code",
   "execution_count": null,
   "metadata": {
    "colab": {
     "base_uri": "https://localhost:8080/"
    },
    "id": "D1qYGc4b5X0J",
    "outputId": "d2d5eab2-e710-4344-8793-f27ca199c2eb"
   },
   "outputs": [
    {
     "name": "stdout",
     "output_type": "stream",
     "text": [
      "'data.frame':\t100 obs. of  4 variables:\n",
      " $ Dia_semana : chr  \"L\" \"M\" \"W\" \"J\" ...\n",
      " $ Temperatura: num  12.4 24.6 11.8 25.8 14.7 ...\n",
      " $ Llueve     : logi  TRUE FALSE TRUE FALSE TRUE FALSE ...\n",
      " $ Estacion   : chr  \"E1\" \"E1\" \"E1\" \"E1\" ...\n"
     ]
    }
   ],
   "source": [
    "str(precipitaciones)"
   ]
  },
  {
   "cell_type": "code",
   "execution_count": null,
   "metadata": {
    "colab": {
     "base_uri": "https://localhost:8080/",
     "height": 34
    },
    "id": "HOJcAa_m41N5",
    "outputId": "4ebb07ee-1650-4544-bffd-5c4b9e5b2c15"
   },
   "outputs": [
    {
     "data": {
      "text/html": [
       "8"
      ],
      "text/latex": [
       "8"
      ],
      "text/markdown": [
       "8"
      ],
      "text/plain": [
       "[1] 8"
      ]
     },
     "metadata": {},
     "output_type": "display_data"
    }
   ],
   "source": [
    "ej[-c(1,3)] # eliminando la 1  y la 3\n"
   ]
  },
  {
   "cell_type": "code",
   "execution_count": null,
   "metadata": {
    "colab": {
     "base_uri": "https://localhost:8080/",
     "height": 1000
    },
    "id": "6Vx1ojnAm5aH",
    "outputId": "6330d5aa-7e18-4cd0-8df5-a1f62588c7ec"
   },
   "outputs": [
    {
     "data": {
      "text/html": [
       "<table class=\"dataframe\">\n",
       "<caption>A data.frame: 98 × 4</caption>\n",
       "<thead>\n",
       "\t<tr><th></th><th scope=col>Dia_semana</th><th scope=col>Temperatura</th><th scope=col>Llueve</th><th scope=col>Estacion</th></tr>\n",
       "\t<tr><th></th><th scope=col>&lt;chr&gt;</th><th scope=col>&lt;dbl&gt;</th><th scope=col>&lt;lgl&gt;</th><th scope=col>&lt;chr&gt;</th></tr>\n",
       "</thead>\n",
       "<tbody>\n",
       "\t<tr><th scope=row>1</th><td>L</td><td>12.428111</td><td> TRUE</td><td>E1</td></tr>\n",
       "\t<tr><th scope=row>2</th><td>M</td><td>24.563973</td><td>FALSE</td><td>E1</td></tr>\n",
       "\t<tr><th scope=row>5</th><td>V</td><td>14.674231</td><td> TRUE</td><td>E1</td></tr>\n",
       "\t<tr><th scope=row>6</th><td>S</td><td>32.628836</td><td>FALSE</td><td>E1</td></tr>\n",
       "\t<tr><th scope=row>7</th><td>D</td><td>22.174260</td><td>FALSE</td><td>E1</td></tr>\n",
       "\t<tr><th scope=row>8</th><td>L</td><td>16.159774</td><td> TRUE</td><td>E1</td></tr>\n",
       "\t<tr><th scope=row>9</th><td>M</td><td>18.450524</td><td> TRUE</td><td>E1</td></tr>\n",
       "\t<tr><th scope=row>10</th><td>W</td><td>28.996479</td><td>FALSE</td><td>E1</td></tr>\n",
       "\t<tr><th scope=row>11</th><td>J</td><td>16.516663</td><td> TRUE</td><td>E1</td></tr>\n",
       "\t<tr><th scope=row>12</th><td>V</td><td> 7.458670</td><td> TRUE</td><td>E1</td></tr>\n",
       "\t<tr><th scope=row>13</th><td>S</td><td>12.843495</td><td> TRUE</td><td>E1</td></tr>\n",
       "\t<tr><th scope=row>14</th><td>D</td><td> 2.800934</td><td> TRUE</td><td>E1</td></tr>\n",
       "\t<tr><th scope=row>15</th><td>L</td><td>29.146220</td><td>FALSE</td><td>E1</td></tr>\n",
       "\t<tr><th scope=row>16</th><td>M</td><td>17.158677</td><td> TRUE</td><td>E1</td></tr>\n",
       "\t<tr><th scope=row>17</th><td>W</td><td>12.711875</td><td> TRUE</td><td>E1</td></tr>\n",
       "\t<tr><th scope=row>18</th><td>J</td><td>31.674859</td><td>FALSE</td><td>E1</td></tr>\n",
       "\t<tr><th scope=row>19</th><td>V</td><td>21.791699</td><td>FALSE</td><td>E1</td></tr>\n",
       "\t<tr><th scope=row>20</th><td>S</td><td>21.707748</td><td>FALSE</td><td>E1</td></tr>\n",
       "\t<tr><th scope=row>21</th><td>D</td><td>14.982491</td><td> TRUE</td><td>E1</td></tr>\n",
       "\t<tr><th scope=row>22</th><td>L</td><td>32.706509</td><td>FALSE</td><td>E1</td></tr>\n",
       "\t<tr><th scope=row>23</th><td>M</td><td> 5.888410</td><td> TRUE</td><td>E1</td></tr>\n",
       "\t<tr><th scope=row>24</th><td>W</td><td>10.903110</td><td> TRUE</td><td>E1</td></tr>\n",
       "\t<tr><th scope=row>25</th><td>J</td><td>29.148468</td><td>FALSE</td><td>E1</td></tr>\n",
       "\t<tr><th scope=row>26</th><td>V</td><td>15.068168</td><td> TRUE</td><td>E1</td></tr>\n",
       "\t<tr><th scope=row>27</th><td>S</td><td>16.923311</td><td> TRUE</td><td>E1</td></tr>\n",
       "\t<tr><th scope=row>28</th><td>D</td><td>26.755260</td><td>FALSE</td><td>E1</td></tr>\n",
       "\t<tr><th scope=row>29</th><td>L</td><td>11.883925</td><td> TRUE</td><td>E1</td></tr>\n",
       "\t<tr><th scope=row>30</th><td>M</td><td>32.360547</td><td>FALSE</td><td>E1</td></tr>\n",
       "\t<tr><th scope=row>31</th><td>W</td><td>15.797388</td><td> TRUE</td><td>E1</td></tr>\n",
       "\t<tr><th scope=row>32</th><td>J</td><td>21.837994</td><td>FALSE</td><td>E1</td></tr>\n",
       "\t<tr><th scope=row>⋮</th><td>⋮</td><td>⋮</td><td>⋮</td><td>⋮</td></tr>\n",
       "\t<tr><th scope=row>71</th><td>L</td><td>31.759545</td><td>FALSE</td><td>E3</td></tr>\n",
       "\t<tr><th scope=row>72</th><td>M</td><td>10.855674</td><td> TRUE</td><td>E3</td></tr>\n",
       "\t<tr><th scope=row>73</th><td>W</td><td>37.120199</td><td>FALSE</td><td>E3</td></tr>\n",
       "\t<tr><th scope=row>74</th><td>J</td><td>15.637187</td><td> TRUE</td><td>E3</td></tr>\n",
       "\t<tr><th scope=row>75</th><td>V</td><td>28.870136</td><td>FALSE</td><td>E3</td></tr>\n",
       "\t<tr><th scope=row>76</th><td>S</td><td>10.210351</td><td> TRUE</td><td>E3</td></tr>\n",
       "\t<tr><th scope=row>77</th><td>D</td><td>16.511425</td><td> TRUE</td><td>E3</td></tr>\n",
       "\t<tr><th scope=row>78</th><td>L</td><td>22.261365</td><td>FALSE</td><td>E3</td></tr>\n",
       "\t<tr><th scope=row>79</th><td>M</td><td>21.923559</td><td>FALSE</td><td>E3</td></tr>\n",
       "\t<tr><th scope=row>80</th><td>W</td><td>24.928733</td><td>FALSE</td><td>E3</td></tr>\n",
       "\t<tr><th scope=row>81</th><td>J</td><td>31.897642</td><td>FALSE</td><td>E3</td></tr>\n",
       "\t<tr><th scope=row>82</th><td>V</td><td> 4.481889</td><td> TRUE</td><td>E3</td></tr>\n",
       "\t<tr><th scope=row>83</th><td>S</td><td>30.446669</td><td>FALSE</td><td>E3</td></tr>\n",
       "\t<tr><th scope=row>84</th><td>D</td><td>15.018596</td><td> TRUE</td><td>E3</td></tr>\n",
       "\t<tr><th scope=row>85</th><td>L</td><td>17.806318</td><td> TRUE</td><td>E3</td></tr>\n",
       "\t<tr><th scope=row>86</th><td>M</td><td>19.905821</td><td> TRUE</td><td>E3</td></tr>\n",
       "\t<tr><th scope=row>87</th><td>W</td><td>14.271193</td><td> TRUE</td><td>E3</td></tr>\n",
       "\t<tr><th scope=row>88</th><td>J</td><td>23.272303</td><td>FALSE</td><td>E3</td></tr>\n",
       "\t<tr><th scope=row>89</th><td>V</td><td> 8.696560</td><td> TRUE</td><td>E3</td></tr>\n",
       "\t<tr><th scope=row>90</th><td>S</td><td>26.781771</td><td>FALSE</td><td>E3</td></tr>\n",
       "\t<tr><th scope=row>91</th><td>D</td><td>28.829237</td><td>FALSE</td><td>E3</td></tr>\n",
       "\t<tr><th scope=row>92</th><td>L</td><td>13.366403</td><td> TRUE</td><td>E3</td></tr>\n",
       "\t<tr><th scope=row>93</th><td>M</td><td>23.680405</td><td>FALSE</td><td>E3</td></tr>\n",
       "\t<tr><th scope=row>94</th><td>W</td><td> 2.433932</td><td> TRUE</td><td>E3</td></tr>\n",
       "\t<tr><th scope=row>95</th><td>J</td><td>16.188968</td><td> TRUE</td><td>E3</td></tr>\n",
       "\t<tr><th scope=row>96</th><td>V</td><td>13.817705</td><td> TRUE</td><td>E3</td></tr>\n",
       "\t<tr><th scope=row>97</th><td>S</td><td>12.094709</td><td> TRUE</td><td>E3</td></tr>\n",
       "\t<tr><th scope=row>98</th><td>D</td><td> 6.952483</td><td> TRUE</td><td>E3</td></tr>\n",
       "\t<tr><th scope=row>99</th><td>L</td><td>11.968059</td><td> TRUE</td><td>E3</td></tr>\n",
       "\t<tr><th scope=row>100</th><td>M</td><td>14.850308</td><td> TRUE</td><td>E3</td></tr>\n",
       "</tbody>\n",
       "</table>\n"
      ],
      "text/latex": [
       "A data.frame: 98 × 4\n",
       "\\begin{tabular}{r|llll}\n",
       "  & Dia\\_semana & Temperatura & Llueve & Estacion\\\\\n",
       "  & <chr> & <dbl> & <lgl> & <chr>\\\\\n",
       "\\hline\n",
       "\t1 & L & 12.428111 &  TRUE & E1\\\\\n",
       "\t2 & M & 24.563973 & FALSE & E1\\\\\n",
       "\t5 & V & 14.674231 &  TRUE & E1\\\\\n",
       "\t6 & S & 32.628836 & FALSE & E1\\\\\n",
       "\t7 & D & 22.174260 & FALSE & E1\\\\\n",
       "\t8 & L & 16.159774 &  TRUE & E1\\\\\n",
       "\t9 & M & 18.450524 &  TRUE & E1\\\\\n",
       "\t10 & W & 28.996479 & FALSE & E1\\\\\n",
       "\t11 & J & 16.516663 &  TRUE & E1\\\\\n",
       "\t12 & V &  7.458670 &  TRUE & E1\\\\\n",
       "\t13 & S & 12.843495 &  TRUE & E1\\\\\n",
       "\t14 & D &  2.800934 &  TRUE & E1\\\\\n",
       "\t15 & L & 29.146220 & FALSE & E1\\\\\n",
       "\t16 & M & 17.158677 &  TRUE & E1\\\\\n",
       "\t17 & W & 12.711875 &  TRUE & E1\\\\\n",
       "\t18 & J & 31.674859 & FALSE & E1\\\\\n",
       "\t19 & V & 21.791699 & FALSE & E1\\\\\n",
       "\t20 & S & 21.707748 & FALSE & E1\\\\\n",
       "\t21 & D & 14.982491 &  TRUE & E1\\\\\n",
       "\t22 & L & 32.706509 & FALSE & E1\\\\\n",
       "\t23 & M &  5.888410 &  TRUE & E1\\\\\n",
       "\t24 & W & 10.903110 &  TRUE & E1\\\\\n",
       "\t25 & J & 29.148468 & FALSE & E1\\\\\n",
       "\t26 & V & 15.068168 &  TRUE & E1\\\\\n",
       "\t27 & S & 16.923311 &  TRUE & E1\\\\\n",
       "\t28 & D & 26.755260 & FALSE & E1\\\\\n",
       "\t29 & L & 11.883925 &  TRUE & E1\\\\\n",
       "\t30 & M & 32.360547 & FALSE & E1\\\\\n",
       "\t31 & W & 15.797388 &  TRUE & E1\\\\\n",
       "\t32 & J & 21.837994 & FALSE & E1\\\\\n",
       "\t⋮ & ⋮ & ⋮ & ⋮ & ⋮\\\\\n",
       "\t71 & L & 31.759545 & FALSE & E3\\\\\n",
       "\t72 & M & 10.855674 &  TRUE & E3\\\\\n",
       "\t73 & W & 37.120199 & FALSE & E3\\\\\n",
       "\t74 & J & 15.637187 &  TRUE & E3\\\\\n",
       "\t75 & V & 28.870136 & FALSE & E3\\\\\n",
       "\t76 & S & 10.210351 &  TRUE & E3\\\\\n",
       "\t77 & D & 16.511425 &  TRUE & E3\\\\\n",
       "\t78 & L & 22.261365 & FALSE & E3\\\\\n",
       "\t79 & M & 21.923559 & FALSE & E3\\\\\n",
       "\t80 & W & 24.928733 & FALSE & E3\\\\\n",
       "\t81 & J & 31.897642 & FALSE & E3\\\\\n",
       "\t82 & V &  4.481889 &  TRUE & E3\\\\\n",
       "\t83 & S & 30.446669 & FALSE & E3\\\\\n",
       "\t84 & D & 15.018596 &  TRUE & E3\\\\\n",
       "\t85 & L & 17.806318 &  TRUE & E3\\\\\n",
       "\t86 & M & 19.905821 &  TRUE & E3\\\\\n",
       "\t87 & W & 14.271193 &  TRUE & E3\\\\\n",
       "\t88 & J & 23.272303 & FALSE & E3\\\\\n",
       "\t89 & V &  8.696560 &  TRUE & E3\\\\\n",
       "\t90 & S & 26.781771 & FALSE & E3\\\\\n",
       "\t91 & D & 28.829237 & FALSE & E3\\\\\n",
       "\t92 & L & 13.366403 &  TRUE & E3\\\\\n",
       "\t93 & M & 23.680405 & FALSE & E3\\\\\n",
       "\t94 & W &  2.433932 &  TRUE & E3\\\\\n",
       "\t95 & J & 16.188968 &  TRUE & E3\\\\\n",
       "\t96 & V & 13.817705 &  TRUE & E3\\\\\n",
       "\t97 & S & 12.094709 &  TRUE & E3\\\\\n",
       "\t98 & D &  6.952483 &  TRUE & E3\\\\\n",
       "\t99 & L & 11.968059 &  TRUE & E3\\\\\n",
       "\t100 & M & 14.850308 &  TRUE & E3\\\\\n",
       "\\end{tabular}\n"
      ],
      "text/markdown": [
       "\n",
       "A data.frame: 98 × 4\n",
       "\n",
       "| <!--/--> | Dia_semana &lt;chr&gt; | Temperatura &lt;dbl&gt; | Llueve &lt;lgl&gt; | Estacion &lt;chr&gt; |\n",
       "|---|---|---|---|---|\n",
       "| 1 | L | 12.428111 |  TRUE | E1 |\n",
       "| 2 | M | 24.563973 | FALSE | E1 |\n",
       "| 5 | V | 14.674231 |  TRUE | E1 |\n",
       "| 6 | S | 32.628836 | FALSE | E1 |\n",
       "| 7 | D | 22.174260 | FALSE | E1 |\n",
       "| 8 | L | 16.159774 |  TRUE | E1 |\n",
       "| 9 | M | 18.450524 |  TRUE | E1 |\n",
       "| 10 | W | 28.996479 | FALSE | E1 |\n",
       "| 11 | J | 16.516663 |  TRUE | E1 |\n",
       "| 12 | V |  7.458670 |  TRUE | E1 |\n",
       "| 13 | S | 12.843495 |  TRUE | E1 |\n",
       "| 14 | D |  2.800934 |  TRUE | E1 |\n",
       "| 15 | L | 29.146220 | FALSE | E1 |\n",
       "| 16 | M | 17.158677 |  TRUE | E1 |\n",
       "| 17 | W | 12.711875 |  TRUE | E1 |\n",
       "| 18 | J | 31.674859 | FALSE | E1 |\n",
       "| 19 | V | 21.791699 | FALSE | E1 |\n",
       "| 20 | S | 21.707748 | FALSE | E1 |\n",
       "| 21 | D | 14.982491 |  TRUE | E1 |\n",
       "| 22 | L | 32.706509 | FALSE | E1 |\n",
       "| 23 | M |  5.888410 |  TRUE | E1 |\n",
       "| 24 | W | 10.903110 |  TRUE | E1 |\n",
       "| 25 | J | 29.148468 | FALSE | E1 |\n",
       "| 26 | V | 15.068168 |  TRUE | E1 |\n",
       "| 27 | S | 16.923311 |  TRUE | E1 |\n",
       "| 28 | D | 26.755260 | FALSE | E1 |\n",
       "| 29 | L | 11.883925 |  TRUE | E1 |\n",
       "| 30 | M | 32.360547 | FALSE | E1 |\n",
       "| 31 | W | 15.797388 |  TRUE | E1 |\n",
       "| 32 | J | 21.837994 | FALSE | E1 |\n",
       "| ⋮ | ⋮ | ⋮ | ⋮ | ⋮ |\n",
       "| 71 | L | 31.759545 | FALSE | E3 |\n",
       "| 72 | M | 10.855674 |  TRUE | E3 |\n",
       "| 73 | W | 37.120199 | FALSE | E3 |\n",
       "| 74 | J | 15.637187 |  TRUE | E3 |\n",
       "| 75 | V | 28.870136 | FALSE | E3 |\n",
       "| 76 | S | 10.210351 |  TRUE | E3 |\n",
       "| 77 | D | 16.511425 |  TRUE | E3 |\n",
       "| 78 | L | 22.261365 | FALSE | E3 |\n",
       "| 79 | M | 21.923559 | FALSE | E3 |\n",
       "| 80 | W | 24.928733 | FALSE | E3 |\n",
       "| 81 | J | 31.897642 | FALSE | E3 |\n",
       "| 82 | V |  4.481889 |  TRUE | E3 |\n",
       "| 83 | S | 30.446669 | FALSE | E3 |\n",
       "| 84 | D | 15.018596 |  TRUE | E3 |\n",
       "| 85 | L | 17.806318 |  TRUE | E3 |\n",
       "| 86 | M | 19.905821 |  TRUE | E3 |\n",
       "| 87 | W | 14.271193 |  TRUE | E3 |\n",
       "| 88 | J | 23.272303 | FALSE | E3 |\n",
       "| 89 | V |  8.696560 |  TRUE | E3 |\n",
       "| 90 | S | 26.781771 | FALSE | E3 |\n",
       "| 91 | D | 28.829237 | FALSE | E3 |\n",
       "| 92 | L | 13.366403 |  TRUE | E3 |\n",
       "| 93 | M | 23.680405 | FALSE | E3 |\n",
       "| 94 | W |  2.433932 |  TRUE | E3 |\n",
       "| 95 | J | 16.188968 |  TRUE | E3 |\n",
       "| 96 | V | 13.817705 |  TRUE | E3 |\n",
       "| 97 | S | 12.094709 |  TRUE | E3 |\n",
       "| 98 | D |  6.952483 |  TRUE | E3 |\n",
       "| 99 | L | 11.968059 |  TRUE | E3 |\n",
       "| 100 | M | 14.850308 |  TRUE | E3 |\n",
       "\n"
      ],
      "text/plain": [
       "    Dia_semana Temperatura Llueve Estacion\n",
       "1   L          12.428111    TRUE  E1      \n",
       "2   M          24.563973   FALSE  E1      \n",
       "5   V          14.674231    TRUE  E1      \n",
       "6   S          32.628836   FALSE  E1      \n",
       "7   D          22.174260   FALSE  E1      \n",
       "8   L          16.159774    TRUE  E1      \n",
       "9   M          18.450524    TRUE  E1      \n",
       "10  W          28.996479   FALSE  E1      \n",
       "11  J          16.516663    TRUE  E1      \n",
       "12  V           7.458670    TRUE  E1      \n",
       "13  S          12.843495    TRUE  E1      \n",
       "14  D           2.800934    TRUE  E1      \n",
       "15  L          29.146220   FALSE  E1      \n",
       "16  M          17.158677    TRUE  E1      \n",
       "17  W          12.711875    TRUE  E1      \n",
       "18  J          31.674859   FALSE  E1      \n",
       "19  V          21.791699   FALSE  E1      \n",
       "20  S          21.707748   FALSE  E1      \n",
       "21  D          14.982491    TRUE  E1      \n",
       "22  L          32.706509   FALSE  E1      \n",
       "23  M           5.888410    TRUE  E1      \n",
       "24  W          10.903110    TRUE  E1      \n",
       "25  J          29.148468   FALSE  E1      \n",
       "26  V          15.068168    TRUE  E1      \n",
       "27  S          16.923311    TRUE  E1      \n",
       "28  D          26.755260   FALSE  E1      \n",
       "29  L          11.883925    TRUE  E1      \n",
       "30  M          32.360547   FALSE  E1      \n",
       "31  W          15.797388    TRUE  E1      \n",
       "32  J          21.837994   FALSE  E1      \n",
       "⋮   ⋮          ⋮           ⋮      ⋮       \n",
       "71  L          31.759545   FALSE  E3      \n",
       "72  M          10.855674    TRUE  E3      \n",
       "73  W          37.120199   FALSE  E3      \n",
       "74  J          15.637187    TRUE  E3      \n",
       "75  V          28.870136   FALSE  E3      \n",
       "76  S          10.210351    TRUE  E3      \n",
       "77  D          16.511425    TRUE  E3      \n",
       "78  L          22.261365   FALSE  E3      \n",
       "79  M          21.923559   FALSE  E3      \n",
       "80  W          24.928733   FALSE  E3      \n",
       "81  J          31.897642   FALSE  E3      \n",
       "82  V           4.481889    TRUE  E3      \n",
       "83  S          30.446669   FALSE  E3      \n",
       "84  D          15.018596    TRUE  E3      \n",
       "85  L          17.806318    TRUE  E3      \n",
       "86  M          19.905821    TRUE  E3      \n",
       "87  W          14.271193    TRUE  E3      \n",
       "88  J          23.272303   FALSE  E3      \n",
       "89  V           8.696560    TRUE  E3      \n",
       "90  S          26.781771   FALSE  E3      \n",
       "91  D          28.829237   FALSE  E3      \n",
       "92  L          13.366403    TRUE  E3      \n",
       "93  M          23.680405   FALSE  E3      \n",
       "94  W           2.433932    TRUE  E3      \n",
       "95  J          16.188968    TRUE  E3      \n",
       "96  V          13.817705    TRUE  E3      \n",
       "97  S          12.094709    TRUE  E3      \n",
       "98  D           6.952483    TRUE  E3      \n",
       "99  L          11.968059    TRUE  E3      \n",
       "100 M          14.850308    TRUE  E3      "
      ]
     },
     "metadata": {},
     "output_type": "display_data"
    },
    {
     "data": {
      "text/html": [
       "<table class=\"dataframe\">\n",
       "<caption>A data.frame: 98 × 4</caption>\n",
       "<thead>\n",
       "\t<tr><th></th><th scope=col>Dia_semana</th><th scope=col>Temperatura</th><th scope=col>Llueve</th><th scope=col>Estacion</th></tr>\n",
       "\t<tr><th></th><th scope=col>&lt;chr&gt;</th><th scope=col>&lt;dbl&gt;</th><th scope=col>&lt;lgl&gt;</th><th scope=col>&lt;chr&gt;</th></tr>\n",
       "</thead>\n",
       "<tbody>\n",
       "\t<tr><th scope=row>1</th><td>L</td><td>12.428111</td><td> TRUE</td><td>E1</td></tr>\n",
       "\t<tr><th scope=row>2</th><td>M</td><td>24.563973</td><td>FALSE</td><td>E1</td></tr>\n",
       "\t<tr><th scope=row>5</th><td>V</td><td>14.674231</td><td> TRUE</td><td>E1</td></tr>\n",
       "\t<tr><th scope=row>6</th><td>S</td><td>32.628836</td><td>FALSE</td><td>E1</td></tr>\n",
       "\t<tr><th scope=row>7</th><td>D</td><td>22.174260</td><td>FALSE</td><td>E1</td></tr>\n",
       "\t<tr><th scope=row>8</th><td>L</td><td>16.159774</td><td> TRUE</td><td>E1</td></tr>\n",
       "\t<tr><th scope=row>9</th><td>M</td><td>18.450524</td><td> TRUE</td><td>E1</td></tr>\n",
       "\t<tr><th scope=row>10</th><td>W</td><td>28.996479</td><td>FALSE</td><td>E1</td></tr>\n",
       "\t<tr><th scope=row>11</th><td>J</td><td>16.516663</td><td> TRUE</td><td>E1</td></tr>\n",
       "\t<tr><th scope=row>12</th><td>V</td><td> 7.458670</td><td> TRUE</td><td>E1</td></tr>\n",
       "\t<tr><th scope=row>13</th><td>S</td><td>12.843495</td><td> TRUE</td><td>E1</td></tr>\n",
       "\t<tr><th scope=row>14</th><td>D</td><td> 2.800934</td><td> TRUE</td><td>E1</td></tr>\n",
       "\t<tr><th scope=row>15</th><td>L</td><td>29.146220</td><td>FALSE</td><td>E1</td></tr>\n",
       "\t<tr><th scope=row>16</th><td>M</td><td>17.158677</td><td> TRUE</td><td>E1</td></tr>\n",
       "\t<tr><th scope=row>17</th><td>W</td><td>12.711875</td><td> TRUE</td><td>E1</td></tr>\n",
       "\t<tr><th scope=row>18</th><td>J</td><td>31.674859</td><td>FALSE</td><td>E1</td></tr>\n",
       "\t<tr><th scope=row>19</th><td>V</td><td>21.791699</td><td>FALSE</td><td>E1</td></tr>\n",
       "\t<tr><th scope=row>20</th><td>S</td><td>21.707748</td><td>FALSE</td><td>E1</td></tr>\n",
       "\t<tr><th scope=row>21</th><td>D</td><td>14.982491</td><td> TRUE</td><td>E1</td></tr>\n",
       "\t<tr><th scope=row>22</th><td>L</td><td>32.706509</td><td>FALSE</td><td>E1</td></tr>\n",
       "\t<tr><th scope=row>23</th><td>M</td><td> 5.888410</td><td> TRUE</td><td>E1</td></tr>\n",
       "\t<tr><th scope=row>24</th><td>W</td><td>10.903110</td><td> TRUE</td><td>E1</td></tr>\n",
       "\t<tr><th scope=row>25</th><td>J</td><td>29.148468</td><td>FALSE</td><td>E1</td></tr>\n",
       "\t<tr><th scope=row>26</th><td>V</td><td>15.068168</td><td> TRUE</td><td>E1</td></tr>\n",
       "\t<tr><th scope=row>27</th><td>S</td><td>16.923311</td><td> TRUE</td><td>E1</td></tr>\n",
       "\t<tr><th scope=row>28</th><td>D</td><td>26.755260</td><td>FALSE</td><td>E1</td></tr>\n",
       "\t<tr><th scope=row>29</th><td>L</td><td>11.883925</td><td> TRUE</td><td>E1</td></tr>\n",
       "\t<tr><th scope=row>30</th><td>M</td><td>32.360547</td><td>FALSE</td><td>E1</td></tr>\n",
       "\t<tr><th scope=row>31</th><td>W</td><td>15.797388</td><td> TRUE</td><td>E1</td></tr>\n",
       "\t<tr><th scope=row>32</th><td>J</td><td>21.837994</td><td>FALSE</td><td>E1</td></tr>\n",
       "\t<tr><th scope=row>⋮</th><td>⋮</td><td>⋮</td><td>⋮</td><td>⋮</td></tr>\n",
       "\t<tr><th scope=row>71</th><td>L</td><td>31.759545</td><td>FALSE</td><td>E3</td></tr>\n",
       "\t<tr><th scope=row>72</th><td>M</td><td>10.855674</td><td> TRUE</td><td>E3</td></tr>\n",
       "\t<tr><th scope=row>73</th><td>W</td><td>37.120199</td><td>FALSE</td><td>E3</td></tr>\n",
       "\t<tr><th scope=row>74</th><td>J</td><td>15.637187</td><td> TRUE</td><td>E3</td></tr>\n",
       "\t<tr><th scope=row>75</th><td>V</td><td>28.870136</td><td>FALSE</td><td>E3</td></tr>\n",
       "\t<tr><th scope=row>76</th><td>S</td><td>10.210351</td><td> TRUE</td><td>E3</td></tr>\n",
       "\t<tr><th scope=row>77</th><td>D</td><td>16.511425</td><td> TRUE</td><td>E3</td></tr>\n",
       "\t<tr><th scope=row>78</th><td>L</td><td>22.261365</td><td>FALSE</td><td>E3</td></tr>\n",
       "\t<tr><th scope=row>79</th><td>M</td><td>21.923559</td><td>FALSE</td><td>E3</td></tr>\n",
       "\t<tr><th scope=row>80</th><td>W</td><td>24.928733</td><td>FALSE</td><td>E3</td></tr>\n",
       "\t<tr><th scope=row>81</th><td>J</td><td>31.897642</td><td>FALSE</td><td>E3</td></tr>\n",
       "\t<tr><th scope=row>82</th><td>V</td><td> 4.481889</td><td> TRUE</td><td>E3</td></tr>\n",
       "\t<tr><th scope=row>83</th><td>S</td><td>30.446669</td><td>FALSE</td><td>E3</td></tr>\n",
       "\t<tr><th scope=row>84</th><td>D</td><td>15.018596</td><td> TRUE</td><td>E3</td></tr>\n",
       "\t<tr><th scope=row>85</th><td>L</td><td>17.806318</td><td> TRUE</td><td>E3</td></tr>\n",
       "\t<tr><th scope=row>86</th><td>M</td><td>19.905821</td><td> TRUE</td><td>E3</td></tr>\n",
       "\t<tr><th scope=row>87</th><td>W</td><td>14.271193</td><td> TRUE</td><td>E3</td></tr>\n",
       "\t<tr><th scope=row>88</th><td>J</td><td>23.272303</td><td>FALSE</td><td>E3</td></tr>\n",
       "\t<tr><th scope=row>89</th><td>V</td><td> 8.696560</td><td> TRUE</td><td>E3</td></tr>\n",
       "\t<tr><th scope=row>90</th><td>S</td><td>26.781771</td><td>FALSE</td><td>E3</td></tr>\n",
       "\t<tr><th scope=row>91</th><td>D</td><td>28.829237</td><td>FALSE</td><td>E3</td></tr>\n",
       "\t<tr><th scope=row>92</th><td>L</td><td>13.366403</td><td> TRUE</td><td>E3</td></tr>\n",
       "\t<tr><th scope=row>93</th><td>M</td><td>23.680405</td><td>FALSE</td><td>E3</td></tr>\n",
       "\t<tr><th scope=row>94</th><td>W</td><td> 2.433932</td><td> TRUE</td><td>E3</td></tr>\n",
       "\t<tr><th scope=row>95</th><td>J</td><td>16.188968</td><td> TRUE</td><td>E3</td></tr>\n",
       "\t<tr><th scope=row>96</th><td>V</td><td>13.817705</td><td> TRUE</td><td>E3</td></tr>\n",
       "\t<tr><th scope=row>97</th><td>S</td><td>12.094709</td><td> TRUE</td><td>E3</td></tr>\n",
       "\t<tr><th scope=row>98</th><td>D</td><td> 6.952483</td><td> TRUE</td><td>E3</td></tr>\n",
       "\t<tr><th scope=row>99</th><td>L</td><td>11.968059</td><td> TRUE</td><td>E3</td></tr>\n",
       "\t<tr><th scope=row>100</th><td>M</td><td>14.850308</td><td> TRUE</td><td>E3</td></tr>\n",
       "</tbody>\n",
       "</table>\n"
      ],
      "text/latex": [
       "A data.frame: 98 × 4\n",
       "\\begin{tabular}{r|llll}\n",
       "  & Dia\\_semana & Temperatura & Llueve & Estacion\\\\\n",
       "  & <chr> & <dbl> & <lgl> & <chr>\\\\\n",
       "\\hline\n",
       "\t1 & L & 12.428111 &  TRUE & E1\\\\\n",
       "\t2 & M & 24.563973 & FALSE & E1\\\\\n",
       "\t5 & V & 14.674231 &  TRUE & E1\\\\\n",
       "\t6 & S & 32.628836 & FALSE & E1\\\\\n",
       "\t7 & D & 22.174260 & FALSE & E1\\\\\n",
       "\t8 & L & 16.159774 &  TRUE & E1\\\\\n",
       "\t9 & M & 18.450524 &  TRUE & E1\\\\\n",
       "\t10 & W & 28.996479 & FALSE & E1\\\\\n",
       "\t11 & J & 16.516663 &  TRUE & E1\\\\\n",
       "\t12 & V &  7.458670 &  TRUE & E1\\\\\n",
       "\t13 & S & 12.843495 &  TRUE & E1\\\\\n",
       "\t14 & D &  2.800934 &  TRUE & E1\\\\\n",
       "\t15 & L & 29.146220 & FALSE & E1\\\\\n",
       "\t16 & M & 17.158677 &  TRUE & E1\\\\\n",
       "\t17 & W & 12.711875 &  TRUE & E1\\\\\n",
       "\t18 & J & 31.674859 & FALSE & E1\\\\\n",
       "\t19 & V & 21.791699 & FALSE & E1\\\\\n",
       "\t20 & S & 21.707748 & FALSE & E1\\\\\n",
       "\t21 & D & 14.982491 &  TRUE & E1\\\\\n",
       "\t22 & L & 32.706509 & FALSE & E1\\\\\n",
       "\t23 & M &  5.888410 &  TRUE & E1\\\\\n",
       "\t24 & W & 10.903110 &  TRUE & E1\\\\\n",
       "\t25 & J & 29.148468 & FALSE & E1\\\\\n",
       "\t26 & V & 15.068168 &  TRUE & E1\\\\\n",
       "\t27 & S & 16.923311 &  TRUE & E1\\\\\n",
       "\t28 & D & 26.755260 & FALSE & E1\\\\\n",
       "\t29 & L & 11.883925 &  TRUE & E1\\\\\n",
       "\t30 & M & 32.360547 & FALSE & E1\\\\\n",
       "\t31 & W & 15.797388 &  TRUE & E1\\\\\n",
       "\t32 & J & 21.837994 & FALSE & E1\\\\\n",
       "\t⋮ & ⋮ & ⋮ & ⋮ & ⋮\\\\\n",
       "\t71 & L & 31.759545 & FALSE & E3\\\\\n",
       "\t72 & M & 10.855674 &  TRUE & E3\\\\\n",
       "\t73 & W & 37.120199 & FALSE & E3\\\\\n",
       "\t74 & J & 15.637187 &  TRUE & E3\\\\\n",
       "\t75 & V & 28.870136 & FALSE & E3\\\\\n",
       "\t76 & S & 10.210351 &  TRUE & E3\\\\\n",
       "\t77 & D & 16.511425 &  TRUE & E3\\\\\n",
       "\t78 & L & 22.261365 & FALSE & E3\\\\\n",
       "\t79 & M & 21.923559 & FALSE & E3\\\\\n",
       "\t80 & W & 24.928733 & FALSE & E3\\\\\n",
       "\t81 & J & 31.897642 & FALSE & E3\\\\\n",
       "\t82 & V &  4.481889 &  TRUE & E3\\\\\n",
       "\t83 & S & 30.446669 & FALSE & E3\\\\\n",
       "\t84 & D & 15.018596 &  TRUE & E3\\\\\n",
       "\t85 & L & 17.806318 &  TRUE & E3\\\\\n",
       "\t86 & M & 19.905821 &  TRUE & E3\\\\\n",
       "\t87 & W & 14.271193 &  TRUE & E3\\\\\n",
       "\t88 & J & 23.272303 & FALSE & E3\\\\\n",
       "\t89 & V &  8.696560 &  TRUE & E3\\\\\n",
       "\t90 & S & 26.781771 & FALSE & E3\\\\\n",
       "\t91 & D & 28.829237 & FALSE & E3\\\\\n",
       "\t92 & L & 13.366403 &  TRUE & E3\\\\\n",
       "\t93 & M & 23.680405 & FALSE & E3\\\\\n",
       "\t94 & W &  2.433932 &  TRUE & E3\\\\\n",
       "\t95 & J & 16.188968 &  TRUE & E3\\\\\n",
       "\t96 & V & 13.817705 &  TRUE & E3\\\\\n",
       "\t97 & S & 12.094709 &  TRUE & E3\\\\\n",
       "\t98 & D &  6.952483 &  TRUE & E3\\\\\n",
       "\t99 & L & 11.968059 &  TRUE & E3\\\\\n",
       "\t100 & M & 14.850308 &  TRUE & E3\\\\\n",
       "\\end{tabular}\n"
      ],
      "text/markdown": [
       "\n",
       "A data.frame: 98 × 4\n",
       "\n",
       "| <!--/--> | Dia_semana &lt;chr&gt; | Temperatura &lt;dbl&gt; | Llueve &lt;lgl&gt; | Estacion &lt;chr&gt; |\n",
       "|---|---|---|---|---|\n",
       "| 1 | L | 12.428111 |  TRUE | E1 |\n",
       "| 2 | M | 24.563973 | FALSE | E1 |\n",
       "| 5 | V | 14.674231 |  TRUE | E1 |\n",
       "| 6 | S | 32.628836 | FALSE | E1 |\n",
       "| 7 | D | 22.174260 | FALSE | E1 |\n",
       "| 8 | L | 16.159774 |  TRUE | E1 |\n",
       "| 9 | M | 18.450524 |  TRUE | E1 |\n",
       "| 10 | W | 28.996479 | FALSE | E1 |\n",
       "| 11 | J | 16.516663 |  TRUE | E1 |\n",
       "| 12 | V |  7.458670 |  TRUE | E1 |\n",
       "| 13 | S | 12.843495 |  TRUE | E1 |\n",
       "| 14 | D |  2.800934 |  TRUE | E1 |\n",
       "| 15 | L | 29.146220 | FALSE | E1 |\n",
       "| 16 | M | 17.158677 |  TRUE | E1 |\n",
       "| 17 | W | 12.711875 |  TRUE | E1 |\n",
       "| 18 | J | 31.674859 | FALSE | E1 |\n",
       "| 19 | V | 21.791699 | FALSE | E1 |\n",
       "| 20 | S | 21.707748 | FALSE | E1 |\n",
       "| 21 | D | 14.982491 |  TRUE | E1 |\n",
       "| 22 | L | 32.706509 | FALSE | E1 |\n",
       "| 23 | M |  5.888410 |  TRUE | E1 |\n",
       "| 24 | W | 10.903110 |  TRUE | E1 |\n",
       "| 25 | J | 29.148468 | FALSE | E1 |\n",
       "| 26 | V | 15.068168 |  TRUE | E1 |\n",
       "| 27 | S | 16.923311 |  TRUE | E1 |\n",
       "| 28 | D | 26.755260 | FALSE | E1 |\n",
       "| 29 | L | 11.883925 |  TRUE | E1 |\n",
       "| 30 | M | 32.360547 | FALSE | E1 |\n",
       "| 31 | W | 15.797388 |  TRUE | E1 |\n",
       "| 32 | J | 21.837994 | FALSE | E1 |\n",
       "| ⋮ | ⋮ | ⋮ | ⋮ | ⋮ |\n",
       "| 71 | L | 31.759545 | FALSE | E3 |\n",
       "| 72 | M | 10.855674 |  TRUE | E3 |\n",
       "| 73 | W | 37.120199 | FALSE | E3 |\n",
       "| 74 | J | 15.637187 |  TRUE | E3 |\n",
       "| 75 | V | 28.870136 | FALSE | E3 |\n",
       "| 76 | S | 10.210351 |  TRUE | E3 |\n",
       "| 77 | D | 16.511425 |  TRUE | E3 |\n",
       "| 78 | L | 22.261365 | FALSE | E3 |\n",
       "| 79 | M | 21.923559 | FALSE | E3 |\n",
       "| 80 | W | 24.928733 | FALSE | E3 |\n",
       "| 81 | J | 31.897642 | FALSE | E3 |\n",
       "| 82 | V |  4.481889 |  TRUE | E3 |\n",
       "| 83 | S | 30.446669 | FALSE | E3 |\n",
       "| 84 | D | 15.018596 |  TRUE | E3 |\n",
       "| 85 | L | 17.806318 |  TRUE | E3 |\n",
       "| 86 | M | 19.905821 |  TRUE | E3 |\n",
       "| 87 | W | 14.271193 |  TRUE | E3 |\n",
       "| 88 | J | 23.272303 | FALSE | E3 |\n",
       "| 89 | V |  8.696560 |  TRUE | E3 |\n",
       "| 90 | S | 26.781771 | FALSE | E3 |\n",
       "| 91 | D | 28.829237 | FALSE | E3 |\n",
       "| 92 | L | 13.366403 |  TRUE | E3 |\n",
       "| 93 | M | 23.680405 | FALSE | E3 |\n",
       "| 94 | W |  2.433932 |  TRUE | E3 |\n",
       "| 95 | J | 16.188968 |  TRUE | E3 |\n",
       "| 96 | V | 13.817705 |  TRUE | E3 |\n",
       "| 97 | S | 12.094709 |  TRUE | E3 |\n",
       "| 98 | D |  6.952483 |  TRUE | E3 |\n",
       "| 99 | L | 11.968059 |  TRUE | E3 |\n",
       "| 100 | M | 14.850308 |  TRUE | E3 |\n",
       "\n"
      ],
      "text/plain": [
       "    Dia_semana Temperatura Llueve Estacion\n",
       "1   L          12.428111    TRUE  E1      \n",
       "2   M          24.563973   FALSE  E1      \n",
       "5   V          14.674231    TRUE  E1      \n",
       "6   S          32.628836   FALSE  E1      \n",
       "7   D          22.174260   FALSE  E1      \n",
       "8   L          16.159774    TRUE  E1      \n",
       "9   M          18.450524    TRUE  E1      \n",
       "10  W          28.996479   FALSE  E1      \n",
       "11  J          16.516663    TRUE  E1      \n",
       "12  V           7.458670    TRUE  E1      \n",
       "13  S          12.843495    TRUE  E1      \n",
       "14  D           2.800934    TRUE  E1      \n",
       "15  L          29.146220   FALSE  E1      \n",
       "16  M          17.158677    TRUE  E1      \n",
       "17  W          12.711875    TRUE  E1      \n",
       "18  J          31.674859   FALSE  E1      \n",
       "19  V          21.791699   FALSE  E1      \n",
       "20  S          21.707748   FALSE  E1      \n",
       "21  D          14.982491    TRUE  E1      \n",
       "22  L          32.706509   FALSE  E1      \n",
       "23  M           5.888410    TRUE  E1      \n",
       "24  W          10.903110    TRUE  E1      \n",
       "25  J          29.148468   FALSE  E1      \n",
       "26  V          15.068168    TRUE  E1      \n",
       "27  S          16.923311    TRUE  E1      \n",
       "28  D          26.755260   FALSE  E1      \n",
       "29  L          11.883925    TRUE  E1      \n",
       "30  M          32.360547   FALSE  E1      \n",
       "31  W          15.797388    TRUE  E1      \n",
       "32  J          21.837994   FALSE  E1      \n",
       "⋮   ⋮          ⋮           ⋮      ⋮       \n",
       "71  L          31.759545   FALSE  E3      \n",
       "72  M          10.855674    TRUE  E3      \n",
       "73  W          37.120199   FALSE  E3      \n",
       "74  J          15.637187    TRUE  E3      \n",
       "75  V          28.870136   FALSE  E3      \n",
       "76  S          10.210351    TRUE  E3      \n",
       "77  D          16.511425    TRUE  E3      \n",
       "78  L          22.261365   FALSE  E3      \n",
       "79  M          21.923559   FALSE  E3      \n",
       "80  W          24.928733   FALSE  E3      \n",
       "81  J          31.897642   FALSE  E3      \n",
       "82  V           4.481889    TRUE  E3      \n",
       "83  S          30.446669   FALSE  E3      \n",
       "84  D          15.018596    TRUE  E3      \n",
       "85  L          17.806318    TRUE  E3      \n",
       "86  M          19.905821    TRUE  E3      \n",
       "87  W          14.271193    TRUE  E3      \n",
       "88  J          23.272303   FALSE  E3      \n",
       "89  V           8.696560    TRUE  E3      \n",
       "90  S          26.781771   FALSE  E3      \n",
       "91  D          28.829237   FALSE  E3      \n",
       "92  L          13.366403    TRUE  E3      \n",
       "93  M          23.680405   FALSE  E3      \n",
       "94  W           2.433932    TRUE  E3      \n",
       "95  J          16.188968    TRUE  E3      \n",
       "96  V          13.817705    TRUE  E3      \n",
       "97  S          12.094709    TRUE  E3      \n",
       "98  D           6.952483    TRUE  E3      \n",
       "99  L          11.968059    TRUE  E3      \n",
       "100 M          14.850308    TRUE  E3      "
      ]
     },
     "metadata": {},
     "output_type": "display_data"
    }
   ],
   "source": [
    "# POdemos eliminar los registros de posición 3 y 4\n",
    "precipitaciones[-c(3,4),]\n",
    "precipitaciones[-(3:4),]"
   ]
  },
  {
   "cell_type": "code",
   "execution_count": null,
   "metadata": {
    "colab": {
     "base_uri": "https://localhost:8080/",
     "height": 1000
    },
    "id": "K9Qv9n_nm5aJ",
    "outputId": "d702f55f-cdae-4176-c68b-800160f9fab3"
   },
   "outputs": [
    {
     "data": {
      "text/html": [
       "<table class=\"dataframe\">\n",
       "<caption>A data.frame: 95 × 4</caption>\n",
       "<thead>\n",
       "\t<tr><th></th><th scope=col>Dia_semana</th><th scope=col>Temperatura</th><th scope=col>Llueve</th><th scope=col>Estacion</th></tr>\n",
       "\t<tr><th></th><th scope=col>&lt;chr&gt;</th><th scope=col>&lt;dbl&gt;</th><th scope=col>&lt;lgl&gt;</th><th scope=col>&lt;chr&gt;</th></tr>\n",
       "</thead>\n",
       "<tbody>\n",
       "\t<tr><th scope=row>1</th><td>L</td><td>12.428111</td><td> TRUE</td><td>E1</td></tr>\n",
       "\t<tr><th scope=row>2</th><td>M</td><td>24.563973</td><td>FALSE</td><td>E1</td></tr>\n",
       "\t<tr><th scope=row>3</th><td>W</td><td>11.838868</td><td> TRUE</td><td>E1</td></tr>\n",
       "\t<tr><th scope=row>4</th><td>J</td><td>25.849547</td><td>FALSE</td><td>E1</td></tr>\n",
       "\t<tr><th scope=row>5</th><td>V</td><td>14.674231</td><td> TRUE</td><td>E1</td></tr>\n",
       "\t<tr><th scope=row>6</th><td>S</td><td>32.628836</td><td>FALSE</td><td>E1</td></tr>\n",
       "\t<tr><th scope=row>7</th><td>D</td><td>22.174260</td><td>FALSE</td><td>E1</td></tr>\n",
       "\t<tr><th scope=row>8</th><td>L</td><td>16.159774</td><td> TRUE</td><td>E1</td></tr>\n",
       "\t<tr><th scope=row>9</th><td>M</td><td>18.450524</td><td> TRUE</td><td>E1</td></tr>\n",
       "\t<tr><th scope=row>10</th><td>W</td><td>28.996479</td><td>FALSE</td><td>E1</td></tr>\n",
       "\t<tr><th scope=row>11</th><td>J</td><td>16.516663</td><td> TRUE</td><td>E1</td></tr>\n",
       "\t<tr><th scope=row>12</th><td>V</td><td> 7.458670</td><td> TRUE</td><td>E1</td></tr>\n",
       "\t<tr><th scope=row>13</th><td>S</td><td>12.843495</td><td> TRUE</td><td>E1</td></tr>\n",
       "\t<tr><th scope=row>14</th><td>D</td><td> 2.800934</td><td> TRUE</td><td>E1</td></tr>\n",
       "\t<tr><th scope=row>15</th><td>L</td><td>29.146220</td><td>FALSE</td><td>E1</td></tr>\n",
       "\t<tr><th scope=row>16</th><td>M</td><td>17.158677</td><td> TRUE</td><td>E1</td></tr>\n",
       "\t<tr><th scope=row>17</th><td>W</td><td>12.711875</td><td> TRUE</td><td>E1</td></tr>\n",
       "\t<tr><th scope=row>18</th><td>J</td><td>31.674859</td><td>FALSE</td><td>E1</td></tr>\n",
       "\t<tr><th scope=row>19</th><td>V</td><td>21.791699</td><td>FALSE</td><td>E1</td></tr>\n",
       "\t<tr><th scope=row>20</th><td>S</td><td>21.707748</td><td>FALSE</td><td>E1</td></tr>\n",
       "\t<tr><th scope=row>21</th><td>D</td><td>14.982491</td><td> TRUE</td><td>E1</td></tr>\n",
       "\t<tr><th scope=row>22</th><td>L</td><td>32.706509</td><td>FALSE</td><td>E1</td></tr>\n",
       "\t<tr><th scope=row>23</th><td>M</td><td> 5.888410</td><td> TRUE</td><td>E1</td></tr>\n",
       "\t<tr><th scope=row>24</th><td>W</td><td>10.903110</td><td> TRUE</td><td>E1</td></tr>\n",
       "\t<tr><th scope=row>25</th><td>J</td><td>29.148468</td><td>FALSE</td><td>E1</td></tr>\n",
       "\t<tr><th scope=row>26</th><td>V</td><td>15.068168</td><td> TRUE</td><td>E1</td></tr>\n",
       "\t<tr><th scope=row>27</th><td>S</td><td>16.923311</td><td> TRUE</td><td>E1</td></tr>\n",
       "\t<tr><th scope=row>28</th><td>D</td><td>26.755260</td><td>FALSE</td><td>E1</td></tr>\n",
       "\t<tr><th scope=row>29</th><td>L</td><td>11.883925</td><td> TRUE</td><td>E1</td></tr>\n",
       "\t<tr><th scope=row>30</th><td>M</td><td>32.360547</td><td>FALSE</td><td>E1</td></tr>\n",
       "\t<tr><th scope=row>⋮</th><td>⋮</td><td>⋮</td><td>⋮</td><td>⋮</td></tr>\n",
       "\t<tr><th scope=row>66</th><td>W</td><td>22.735741</td><td>FALSE</td><td>E2</td></tr>\n",
       "\t<tr><th scope=row>67</th><td>J</td><td>32.293488</td><td>FALSE</td><td>E3</td></tr>\n",
       "\t<tr><th scope=row>68</th><td>V</td><td>21.585066</td><td>FALSE</td><td>E3</td></tr>\n",
       "\t<tr><th scope=row>69</th><td>S</td><td>21.838809</td><td>FALSE</td><td>E3</td></tr>\n",
       "\t<tr><th scope=row>71</th><td>L</td><td>31.759545</td><td>FALSE</td><td>E3</td></tr>\n",
       "\t<tr><th scope=row>72</th><td>M</td><td>10.855674</td><td> TRUE</td><td>E3</td></tr>\n",
       "\t<tr><th scope=row>73</th><td>W</td><td>37.120199</td><td>FALSE</td><td>E3</td></tr>\n",
       "\t<tr><th scope=row>74</th><td>J</td><td>15.637187</td><td> TRUE</td><td>E3</td></tr>\n",
       "\t<tr><th scope=row>75</th><td>V</td><td>28.870136</td><td>FALSE</td><td>E3</td></tr>\n",
       "\t<tr><th scope=row>76</th><td>S</td><td>10.210351</td><td> TRUE</td><td>E3</td></tr>\n",
       "\t<tr><th scope=row>78</th><td>L</td><td>22.261365</td><td>FALSE</td><td>E3</td></tr>\n",
       "\t<tr><th scope=row>79</th><td>M</td><td>21.923559</td><td>FALSE</td><td>E3</td></tr>\n",
       "\t<tr><th scope=row>80</th><td>W</td><td>24.928733</td><td>FALSE</td><td>E3</td></tr>\n",
       "\t<tr><th scope=row>81</th><td>J</td><td>31.897642</td><td>FALSE</td><td>E3</td></tr>\n",
       "\t<tr><th scope=row>82</th><td>V</td><td> 4.481889</td><td> TRUE</td><td>E3</td></tr>\n",
       "\t<tr><th scope=row>83</th><td>S</td><td>30.446669</td><td>FALSE</td><td>E3</td></tr>\n",
       "\t<tr><th scope=row>85</th><td>L</td><td>17.806318</td><td> TRUE</td><td>E3</td></tr>\n",
       "\t<tr><th scope=row>86</th><td>M</td><td>19.905821</td><td> TRUE</td><td>E3</td></tr>\n",
       "\t<tr><th scope=row>87</th><td>W</td><td>14.271193</td><td> TRUE</td><td>E3</td></tr>\n",
       "\t<tr><th scope=row>88</th><td>J</td><td>23.272303</td><td>FALSE</td><td>E3</td></tr>\n",
       "\t<tr><th scope=row>89</th><td>V</td><td> 8.696560</td><td> TRUE</td><td>E3</td></tr>\n",
       "\t<tr><th scope=row>90</th><td>S</td><td>26.781771</td><td>FALSE</td><td>E3</td></tr>\n",
       "\t<tr><th scope=row>92</th><td>L</td><td>13.366403</td><td> TRUE</td><td>E3</td></tr>\n",
       "\t<tr><th scope=row>93</th><td>M</td><td>23.680405</td><td>FALSE</td><td>E3</td></tr>\n",
       "\t<tr><th scope=row>94</th><td>W</td><td> 2.433932</td><td> TRUE</td><td>E3</td></tr>\n",
       "\t<tr><th scope=row>95</th><td>J</td><td>16.188968</td><td> TRUE</td><td>E3</td></tr>\n",
       "\t<tr><th scope=row>96</th><td>V</td><td>13.817705</td><td> TRUE</td><td>E3</td></tr>\n",
       "\t<tr><th scope=row>97</th><td>S</td><td>12.094709</td><td> TRUE</td><td>E3</td></tr>\n",
       "\t<tr><th scope=row>99</th><td>L</td><td>11.968059</td><td> TRUE</td><td>E3</td></tr>\n",
       "\t<tr><th scope=row>100</th><td>M</td><td>14.850308</td><td> TRUE</td><td>E3</td></tr>\n",
       "</tbody>\n",
       "</table>\n"
      ],
      "text/latex": [
       "A data.frame: 95 × 4\n",
       "\\begin{tabular}{r|llll}\n",
       "  & Dia\\_semana & Temperatura & Llueve & Estacion\\\\\n",
       "  & <chr> & <dbl> & <lgl> & <chr>\\\\\n",
       "\\hline\n",
       "\t1 & L & 12.428111 &  TRUE & E1\\\\\n",
       "\t2 & M & 24.563973 & FALSE & E1\\\\\n",
       "\t3 & W & 11.838868 &  TRUE & E1\\\\\n",
       "\t4 & J & 25.849547 & FALSE & E1\\\\\n",
       "\t5 & V & 14.674231 &  TRUE & E1\\\\\n",
       "\t6 & S & 32.628836 & FALSE & E1\\\\\n",
       "\t7 & D & 22.174260 & FALSE & E1\\\\\n",
       "\t8 & L & 16.159774 &  TRUE & E1\\\\\n",
       "\t9 & M & 18.450524 &  TRUE & E1\\\\\n",
       "\t10 & W & 28.996479 & FALSE & E1\\\\\n",
       "\t11 & J & 16.516663 &  TRUE & E1\\\\\n",
       "\t12 & V &  7.458670 &  TRUE & E1\\\\\n",
       "\t13 & S & 12.843495 &  TRUE & E1\\\\\n",
       "\t14 & D &  2.800934 &  TRUE & E1\\\\\n",
       "\t15 & L & 29.146220 & FALSE & E1\\\\\n",
       "\t16 & M & 17.158677 &  TRUE & E1\\\\\n",
       "\t17 & W & 12.711875 &  TRUE & E1\\\\\n",
       "\t18 & J & 31.674859 & FALSE & E1\\\\\n",
       "\t19 & V & 21.791699 & FALSE & E1\\\\\n",
       "\t20 & S & 21.707748 & FALSE & E1\\\\\n",
       "\t21 & D & 14.982491 &  TRUE & E1\\\\\n",
       "\t22 & L & 32.706509 & FALSE & E1\\\\\n",
       "\t23 & M &  5.888410 &  TRUE & E1\\\\\n",
       "\t24 & W & 10.903110 &  TRUE & E1\\\\\n",
       "\t25 & J & 29.148468 & FALSE & E1\\\\\n",
       "\t26 & V & 15.068168 &  TRUE & E1\\\\\n",
       "\t27 & S & 16.923311 &  TRUE & E1\\\\\n",
       "\t28 & D & 26.755260 & FALSE & E1\\\\\n",
       "\t29 & L & 11.883925 &  TRUE & E1\\\\\n",
       "\t30 & M & 32.360547 & FALSE & E1\\\\\n",
       "\t⋮ & ⋮ & ⋮ & ⋮ & ⋮\\\\\n",
       "\t66 & W & 22.735741 & FALSE & E2\\\\\n",
       "\t67 & J & 32.293488 & FALSE & E3\\\\\n",
       "\t68 & V & 21.585066 & FALSE & E3\\\\\n",
       "\t69 & S & 21.838809 & FALSE & E3\\\\\n",
       "\t71 & L & 31.759545 & FALSE & E3\\\\\n",
       "\t72 & M & 10.855674 &  TRUE & E3\\\\\n",
       "\t73 & W & 37.120199 & FALSE & E3\\\\\n",
       "\t74 & J & 15.637187 &  TRUE & E3\\\\\n",
       "\t75 & V & 28.870136 & FALSE & E3\\\\\n",
       "\t76 & S & 10.210351 &  TRUE & E3\\\\\n",
       "\t78 & L & 22.261365 & FALSE & E3\\\\\n",
       "\t79 & M & 21.923559 & FALSE & E3\\\\\n",
       "\t80 & W & 24.928733 & FALSE & E3\\\\\n",
       "\t81 & J & 31.897642 & FALSE & E3\\\\\n",
       "\t82 & V &  4.481889 &  TRUE & E3\\\\\n",
       "\t83 & S & 30.446669 & FALSE & E3\\\\\n",
       "\t85 & L & 17.806318 &  TRUE & E3\\\\\n",
       "\t86 & M & 19.905821 &  TRUE & E3\\\\\n",
       "\t87 & W & 14.271193 &  TRUE & E3\\\\\n",
       "\t88 & J & 23.272303 & FALSE & E3\\\\\n",
       "\t89 & V &  8.696560 &  TRUE & E3\\\\\n",
       "\t90 & S & 26.781771 & FALSE & E3\\\\\n",
       "\t92 & L & 13.366403 &  TRUE & E3\\\\\n",
       "\t93 & M & 23.680405 & FALSE & E3\\\\\n",
       "\t94 & W &  2.433932 &  TRUE & E3\\\\\n",
       "\t95 & J & 16.188968 &  TRUE & E3\\\\\n",
       "\t96 & V & 13.817705 &  TRUE & E3\\\\\n",
       "\t97 & S & 12.094709 &  TRUE & E3\\\\\n",
       "\t99 & L & 11.968059 &  TRUE & E3\\\\\n",
       "\t100 & M & 14.850308 &  TRUE & E3\\\\\n",
       "\\end{tabular}\n"
      ],
      "text/markdown": [
       "\n",
       "A data.frame: 95 × 4\n",
       "\n",
       "| <!--/--> | Dia_semana &lt;chr&gt; | Temperatura &lt;dbl&gt; | Llueve &lt;lgl&gt; | Estacion &lt;chr&gt; |\n",
       "|---|---|---|---|---|\n",
       "| 1 | L | 12.428111 |  TRUE | E1 |\n",
       "| 2 | M | 24.563973 | FALSE | E1 |\n",
       "| 3 | W | 11.838868 |  TRUE | E1 |\n",
       "| 4 | J | 25.849547 | FALSE | E1 |\n",
       "| 5 | V | 14.674231 |  TRUE | E1 |\n",
       "| 6 | S | 32.628836 | FALSE | E1 |\n",
       "| 7 | D | 22.174260 | FALSE | E1 |\n",
       "| 8 | L | 16.159774 |  TRUE | E1 |\n",
       "| 9 | M | 18.450524 |  TRUE | E1 |\n",
       "| 10 | W | 28.996479 | FALSE | E1 |\n",
       "| 11 | J | 16.516663 |  TRUE | E1 |\n",
       "| 12 | V |  7.458670 |  TRUE | E1 |\n",
       "| 13 | S | 12.843495 |  TRUE | E1 |\n",
       "| 14 | D |  2.800934 |  TRUE | E1 |\n",
       "| 15 | L | 29.146220 | FALSE | E1 |\n",
       "| 16 | M | 17.158677 |  TRUE | E1 |\n",
       "| 17 | W | 12.711875 |  TRUE | E1 |\n",
       "| 18 | J | 31.674859 | FALSE | E1 |\n",
       "| 19 | V | 21.791699 | FALSE | E1 |\n",
       "| 20 | S | 21.707748 | FALSE | E1 |\n",
       "| 21 | D | 14.982491 |  TRUE | E1 |\n",
       "| 22 | L | 32.706509 | FALSE | E1 |\n",
       "| 23 | M |  5.888410 |  TRUE | E1 |\n",
       "| 24 | W | 10.903110 |  TRUE | E1 |\n",
       "| 25 | J | 29.148468 | FALSE | E1 |\n",
       "| 26 | V | 15.068168 |  TRUE | E1 |\n",
       "| 27 | S | 16.923311 |  TRUE | E1 |\n",
       "| 28 | D | 26.755260 | FALSE | E1 |\n",
       "| 29 | L | 11.883925 |  TRUE | E1 |\n",
       "| 30 | M | 32.360547 | FALSE | E1 |\n",
       "| ⋮ | ⋮ | ⋮ | ⋮ | ⋮ |\n",
       "| 66 | W | 22.735741 | FALSE | E2 |\n",
       "| 67 | J | 32.293488 | FALSE | E3 |\n",
       "| 68 | V | 21.585066 | FALSE | E3 |\n",
       "| 69 | S | 21.838809 | FALSE | E3 |\n",
       "| 71 | L | 31.759545 | FALSE | E3 |\n",
       "| 72 | M | 10.855674 |  TRUE | E3 |\n",
       "| 73 | W | 37.120199 | FALSE | E3 |\n",
       "| 74 | J | 15.637187 |  TRUE | E3 |\n",
       "| 75 | V | 28.870136 | FALSE | E3 |\n",
       "| 76 | S | 10.210351 |  TRUE | E3 |\n",
       "| 78 | L | 22.261365 | FALSE | E3 |\n",
       "| 79 | M | 21.923559 | FALSE | E3 |\n",
       "| 80 | W | 24.928733 | FALSE | E3 |\n",
       "| 81 | J | 31.897642 | FALSE | E3 |\n",
       "| 82 | V |  4.481889 |  TRUE | E3 |\n",
       "| 83 | S | 30.446669 | FALSE | E3 |\n",
       "| 85 | L | 17.806318 |  TRUE | E3 |\n",
       "| 86 | M | 19.905821 |  TRUE | E3 |\n",
       "| 87 | W | 14.271193 |  TRUE | E3 |\n",
       "| 88 | J | 23.272303 | FALSE | E3 |\n",
       "| 89 | V |  8.696560 |  TRUE | E3 |\n",
       "| 90 | S | 26.781771 | FALSE | E3 |\n",
       "| 92 | L | 13.366403 |  TRUE | E3 |\n",
       "| 93 | M | 23.680405 | FALSE | E3 |\n",
       "| 94 | W |  2.433932 |  TRUE | E3 |\n",
       "| 95 | J | 16.188968 |  TRUE | E3 |\n",
       "| 96 | V | 13.817705 |  TRUE | E3 |\n",
       "| 97 | S | 12.094709 |  TRUE | E3 |\n",
       "| 99 | L | 11.968059 |  TRUE | E3 |\n",
       "| 100 | M | 14.850308 |  TRUE | E3 |\n",
       "\n"
      ],
      "text/plain": [
       "    Dia_semana Temperatura Llueve Estacion\n",
       "1   L          12.428111    TRUE  E1      \n",
       "2   M          24.563973   FALSE  E1      \n",
       "3   W          11.838868    TRUE  E1      \n",
       "4   J          25.849547   FALSE  E1      \n",
       "5   V          14.674231    TRUE  E1      \n",
       "6   S          32.628836   FALSE  E1      \n",
       "7   D          22.174260   FALSE  E1      \n",
       "8   L          16.159774    TRUE  E1      \n",
       "9   M          18.450524    TRUE  E1      \n",
       "10  W          28.996479   FALSE  E1      \n",
       "11  J          16.516663    TRUE  E1      \n",
       "12  V           7.458670    TRUE  E1      \n",
       "13  S          12.843495    TRUE  E1      \n",
       "14  D           2.800934    TRUE  E1      \n",
       "15  L          29.146220   FALSE  E1      \n",
       "16  M          17.158677    TRUE  E1      \n",
       "17  W          12.711875    TRUE  E1      \n",
       "18  J          31.674859   FALSE  E1      \n",
       "19  V          21.791699   FALSE  E1      \n",
       "20  S          21.707748   FALSE  E1      \n",
       "21  D          14.982491    TRUE  E1      \n",
       "22  L          32.706509   FALSE  E1      \n",
       "23  M           5.888410    TRUE  E1      \n",
       "24  W          10.903110    TRUE  E1      \n",
       "25  J          29.148468   FALSE  E1      \n",
       "26  V          15.068168    TRUE  E1      \n",
       "27  S          16.923311    TRUE  E1      \n",
       "28  D          26.755260   FALSE  E1      \n",
       "29  L          11.883925    TRUE  E1      \n",
       "30  M          32.360547   FALSE  E1      \n",
       "⋮   ⋮          ⋮           ⋮      ⋮       \n",
       "66  W          22.735741   FALSE  E2      \n",
       "67  J          32.293488   FALSE  E3      \n",
       "68  V          21.585066   FALSE  E3      \n",
       "69  S          21.838809   FALSE  E3      \n",
       "71  L          31.759545   FALSE  E3      \n",
       "72  M          10.855674    TRUE  E3      \n",
       "73  W          37.120199   FALSE  E3      \n",
       "74  J          15.637187    TRUE  E3      \n",
       "75  V          28.870136   FALSE  E3      \n",
       "76  S          10.210351    TRUE  E3      \n",
       "78  L          22.261365   FALSE  E3      \n",
       "79  M          21.923559   FALSE  E3      \n",
       "80  W          24.928733   FALSE  E3      \n",
       "81  J          31.897642   FALSE  E3      \n",
       "82  V           4.481889    TRUE  E3      \n",
       "83  S          30.446669   FALSE  E3      \n",
       "85  L          17.806318    TRUE  E3      \n",
       "86  M          19.905821    TRUE  E3      \n",
       "87  W          14.271193    TRUE  E3      \n",
       "88  J          23.272303   FALSE  E3      \n",
       "89  V           8.696560    TRUE  E3      \n",
       "90  S          26.781771   FALSE  E3      \n",
       "92  L          13.366403    TRUE  E3      \n",
       "93  M          23.680405   FALSE  E3      \n",
       "94  W           2.433932    TRUE  E3      \n",
       "95  J          16.188968    TRUE  E3      \n",
       "96  V          13.817705    TRUE  E3      \n",
       "97  S          12.094709    TRUE  E3      \n",
       "99  L          11.968059    TRUE  E3      \n",
       "100 M          14.850308    TRUE  E3      "
      ]
     },
     "metadata": {},
     "output_type": "display_data"
    },
    {
     "data": {
      "text/html": [
       "<style>\n",
       ".list-inline {list-style: none; margin:0; padding: 0}\n",
       ".list-inline>li {display: inline-block}\n",
       ".list-inline>li:not(:last-child)::after {content: \"\\00b7\"; padding: 0 .5ex}\n",
       "</style>\n",
       "<ol class=list-inline><li>100</li><li>4</li></ol>\n"
      ],
      "text/latex": [
       "\\begin{enumerate*}\n",
       "\\item 100\n",
       "\\item 4\n",
       "\\end{enumerate*}\n"
      ],
      "text/markdown": [
       "1. 100\n",
       "2. 4\n",
       "\n",
       "\n"
      ],
      "text/plain": [
       "[1] 100   4"
      ]
     },
     "metadata": {},
     "output_type": "display_data"
    }
   ],
   "source": [
    "# Se sabe que la Estación E3 falla todos los días domingo, por lo que se quiere eliminar tales registros de la tabla. Elimínelos!\n",
    "precipitaciones[!(precipitaciones$Estacion == \"E3\" & precipitaciones$Dia_semana == \"D\"),]\n",
    "\n",
    "\n",
    "\n",
    "dim(precipitaciones)"
   ]
  },
  {
   "cell_type": "code",
   "execution_count": null,
   "metadata": {
    "colab": {
     "base_uri": "https://localhost:8080/",
     "height": 1000
    },
    "id": "IegprpD26agy",
    "outputId": "4ba87ef1-2377-4316-c6bb-f343be0a6ea8"
   },
   "outputs": [
    {
     "data": {
      "text/html": [
       "<style>\n",
       ".list-inline {list-style: none; margin:0; padding: 0}\n",
       ".list-inline>li {display: inline-block}\n",
       ".list-inline>li:not(:last-child)::after {content: \"\\00b7\"; padding: 0 .5ex}\n",
       "</style>\n",
       "<ol class=list-inline><li>70</li><li>77</li><li>84</li><li>91</li><li>98</li></ol>\n"
      ],
      "text/latex": [
       "\\begin{enumerate*}\n",
       "\\item 70\n",
       "\\item 77\n",
       "\\item 84\n",
       "\\item 91\n",
       "\\item 98\n",
       "\\end{enumerate*}\n"
      ],
      "text/markdown": [
       "1. 70\n",
       "2. 77\n",
       "3. 84\n",
       "4. 91\n",
       "5. 98\n",
       "\n",
       "\n"
      ],
      "text/plain": [
       "[1] 70 77 84 91 98"
      ]
     },
     "metadata": {},
     "output_type": "display_data"
    },
    {
     "data": {
      "text/html": [
       "<table class=\"dataframe\">\n",
       "<caption>A data.frame: 95 × 4</caption>\n",
       "<thead>\n",
       "\t<tr><th></th><th scope=col>Dia_semana</th><th scope=col>Temperatura</th><th scope=col>Llueve</th><th scope=col>Estacion</th></tr>\n",
       "\t<tr><th></th><th scope=col>&lt;chr&gt;</th><th scope=col>&lt;dbl&gt;</th><th scope=col>&lt;lgl&gt;</th><th scope=col>&lt;chr&gt;</th></tr>\n",
       "</thead>\n",
       "<tbody>\n",
       "\t<tr><th scope=row>1</th><td>L</td><td>12.428111</td><td> TRUE</td><td>E1</td></tr>\n",
       "\t<tr><th scope=row>2</th><td>M</td><td>24.563973</td><td>FALSE</td><td>E1</td></tr>\n",
       "\t<tr><th scope=row>3</th><td>W</td><td>11.838868</td><td> TRUE</td><td>E1</td></tr>\n",
       "\t<tr><th scope=row>4</th><td>J</td><td>25.849547</td><td>FALSE</td><td>E1</td></tr>\n",
       "\t<tr><th scope=row>5</th><td>V</td><td>14.674231</td><td> TRUE</td><td>E1</td></tr>\n",
       "\t<tr><th scope=row>6</th><td>S</td><td>32.628836</td><td>FALSE</td><td>E1</td></tr>\n",
       "\t<tr><th scope=row>7</th><td>D</td><td>22.174260</td><td>FALSE</td><td>E1</td></tr>\n",
       "\t<tr><th scope=row>8</th><td>L</td><td>16.159774</td><td> TRUE</td><td>E1</td></tr>\n",
       "\t<tr><th scope=row>9</th><td>M</td><td>18.450524</td><td> TRUE</td><td>E1</td></tr>\n",
       "\t<tr><th scope=row>10</th><td>W</td><td>28.996479</td><td>FALSE</td><td>E1</td></tr>\n",
       "\t<tr><th scope=row>11</th><td>J</td><td>16.516663</td><td> TRUE</td><td>E1</td></tr>\n",
       "\t<tr><th scope=row>12</th><td>V</td><td> 7.458670</td><td> TRUE</td><td>E1</td></tr>\n",
       "\t<tr><th scope=row>13</th><td>S</td><td>12.843495</td><td> TRUE</td><td>E1</td></tr>\n",
       "\t<tr><th scope=row>14</th><td>D</td><td> 2.800934</td><td> TRUE</td><td>E1</td></tr>\n",
       "\t<tr><th scope=row>15</th><td>L</td><td>29.146220</td><td>FALSE</td><td>E1</td></tr>\n",
       "\t<tr><th scope=row>16</th><td>M</td><td>17.158677</td><td> TRUE</td><td>E1</td></tr>\n",
       "\t<tr><th scope=row>17</th><td>W</td><td>12.711875</td><td> TRUE</td><td>E1</td></tr>\n",
       "\t<tr><th scope=row>18</th><td>J</td><td>31.674859</td><td>FALSE</td><td>E1</td></tr>\n",
       "\t<tr><th scope=row>19</th><td>V</td><td>21.791699</td><td>FALSE</td><td>E1</td></tr>\n",
       "\t<tr><th scope=row>20</th><td>S</td><td>21.707748</td><td>FALSE</td><td>E1</td></tr>\n",
       "\t<tr><th scope=row>21</th><td>D</td><td>14.982491</td><td> TRUE</td><td>E1</td></tr>\n",
       "\t<tr><th scope=row>22</th><td>L</td><td>32.706509</td><td>FALSE</td><td>E1</td></tr>\n",
       "\t<tr><th scope=row>23</th><td>M</td><td> 5.888410</td><td> TRUE</td><td>E1</td></tr>\n",
       "\t<tr><th scope=row>24</th><td>W</td><td>10.903110</td><td> TRUE</td><td>E1</td></tr>\n",
       "\t<tr><th scope=row>25</th><td>J</td><td>29.148468</td><td>FALSE</td><td>E1</td></tr>\n",
       "\t<tr><th scope=row>26</th><td>V</td><td>15.068168</td><td> TRUE</td><td>E1</td></tr>\n",
       "\t<tr><th scope=row>27</th><td>S</td><td>16.923311</td><td> TRUE</td><td>E1</td></tr>\n",
       "\t<tr><th scope=row>28</th><td>D</td><td>26.755260</td><td>FALSE</td><td>E1</td></tr>\n",
       "\t<tr><th scope=row>29</th><td>L</td><td>11.883925</td><td> TRUE</td><td>E1</td></tr>\n",
       "\t<tr><th scope=row>30</th><td>M</td><td>32.360547</td><td>FALSE</td><td>E1</td></tr>\n",
       "\t<tr><th scope=row>⋮</th><td>⋮</td><td>⋮</td><td>⋮</td><td>⋮</td></tr>\n",
       "\t<tr><th scope=row>66</th><td>W</td><td>22.735741</td><td>FALSE</td><td>E2</td></tr>\n",
       "\t<tr><th scope=row>67</th><td>J</td><td>32.293488</td><td>FALSE</td><td>E3</td></tr>\n",
       "\t<tr><th scope=row>68</th><td>V</td><td>21.585066</td><td>FALSE</td><td>E3</td></tr>\n",
       "\t<tr><th scope=row>69</th><td>S</td><td>21.838809</td><td>FALSE</td><td>E3</td></tr>\n",
       "\t<tr><th scope=row>71</th><td>L</td><td>31.759545</td><td>FALSE</td><td>E3</td></tr>\n",
       "\t<tr><th scope=row>72</th><td>M</td><td>10.855674</td><td> TRUE</td><td>E3</td></tr>\n",
       "\t<tr><th scope=row>73</th><td>W</td><td>37.120199</td><td>FALSE</td><td>E3</td></tr>\n",
       "\t<tr><th scope=row>74</th><td>J</td><td>15.637187</td><td> TRUE</td><td>E3</td></tr>\n",
       "\t<tr><th scope=row>75</th><td>V</td><td>28.870136</td><td>FALSE</td><td>E3</td></tr>\n",
       "\t<tr><th scope=row>76</th><td>S</td><td>10.210351</td><td> TRUE</td><td>E3</td></tr>\n",
       "\t<tr><th scope=row>78</th><td>L</td><td>22.261365</td><td>FALSE</td><td>E3</td></tr>\n",
       "\t<tr><th scope=row>79</th><td>M</td><td>21.923559</td><td>FALSE</td><td>E3</td></tr>\n",
       "\t<tr><th scope=row>80</th><td>W</td><td>24.928733</td><td>FALSE</td><td>E3</td></tr>\n",
       "\t<tr><th scope=row>81</th><td>J</td><td>31.897642</td><td>FALSE</td><td>E3</td></tr>\n",
       "\t<tr><th scope=row>82</th><td>V</td><td> 4.481889</td><td> TRUE</td><td>E3</td></tr>\n",
       "\t<tr><th scope=row>83</th><td>S</td><td>30.446669</td><td>FALSE</td><td>E3</td></tr>\n",
       "\t<tr><th scope=row>85</th><td>L</td><td>17.806318</td><td> TRUE</td><td>E3</td></tr>\n",
       "\t<tr><th scope=row>86</th><td>M</td><td>19.905821</td><td> TRUE</td><td>E3</td></tr>\n",
       "\t<tr><th scope=row>87</th><td>W</td><td>14.271193</td><td> TRUE</td><td>E3</td></tr>\n",
       "\t<tr><th scope=row>88</th><td>J</td><td>23.272303</td><td>FALSE</td><td>E3</td></tr>\n",
       "\t<tr><th scope=row>89</th><td>V</td><td> 8.696560</td><td> TRUE</td><td>E3</td></tr>\n",
       "\t<tr><th scope=row>90</th><td>S</td><td>26.781771</td><td>FALSE</td><td>E3</td></tr>\n",
       "\t<tr><th scope=row>92</th><td>L</td><td>13.366403</td><td> TRUE</td><td>E3</td></tr>\n",
       "\t<tr><th scope=row>93</th><td>M</td><td>23.680405</td><td>FALSE</td><td>E3</td></tr>\n",
       "\t<tr><th scope=row>94</th><td>W</td><td> 2.433932</td><td> TRUE</td><td>E3</td></tr>\n",
       "\t<tr><th scope=row>95</th><td>J</td><td>16.188968</td><td> TRUE</td><td>E3</td></tr>\n",
       "\t<tr><th scope=row>96</th><td>V</td><td>13.817705</td><td> TRUE</td><td>E3</td></tr>\n",
       "\t<tr><th scope=row>97</th><td>S</td><td>12.094709</td><td> TRUE</td><td>E3</td></tr>\n",
       "\t<tr><th scope=row>99</th><td>L</td><td>11.968059</td><td> TRUE</td><td>E3</td></tr>\n",
       "\t<tr><th scope=row>100</th><td>M</td><td>14.850308</td><td> TRUE</td><td>E3</td></tr>\n",
       "</tbody>\n",
       "</table>\n"
      ],
      "text/latex": [
       "A data.frame: 95 × 4\n",
       "\\begin{tabular}{r|llll}\n",
       "  & Dia\\_semana & Temperatura & Llueve & Estacion\\\\\n",
       "  & <chr> & <dbl> & <lgl> & <chr>\\\\\n",
       "\\hline\n",
       "\t1 & L & 12.428111 &  TRUE & E1\\\\\n",
       "\t2 & M & 24.563973 & FALSE & E1\\\\\n",
       "\t3 & W & 11.838868 &  TRUE & E1\\\\\n",
       "\t4 & J & 25.849547 & FALSE & E1\\\\\n",
       "\t5 & V & 14.674231 &  TRUE & E1\\\\\n",
       "\t6 & S & 32.628836 & FALSE & E1\\\\\n",
       "\t7 & D & 22.174260 & FALSE & E1\\\\\n",
       "\t8 & L & 16.159774 &  TRUE & E1\\\\\n",
       "\t9 & M & 18.450524 &  TRUE & E1\\\\\n",
       "\t10 & W & 28.996479 & FALSE & E1\\\\\n",
       "\t11 & J & 16.516663 &  TRUE & E1\\\\\n",
       "\t12 & V &  7.458670 &  TRUE & E1\\\\\n",
       "\t13 & S & 12.843495 &  TRUE & E1\\\\\n",
       "\t14 & D &  2.800934 &  TRUE & E1\\\\\n",
       "\t15 & L & 29.146220 & FALSE & E1\\\\\n",
       "\t16 & M & 17.158677 &  TRUE & E1\\\\\n",
       "\t17 & W & 12.711875 &  TRUE & E1\\\\\n",
       "\t18 & J & 31.674859 & FALSE & E1\\\\\n",
       "\t19 & V & 21.791699 & FALSE & E1\\\\\n",
       "\t20 & S & 21.707748 & FALSE & E1\\\\\n",
       "\t21 & D & 14.982491 &  TRUE & E1\\\\\n",
       "\t22 & L & 32.706509 & FALSE & E1\\\\\n",
       "\t23 & M &  5.888410 &  TRUE & E1\\\\\n",
       "\t24 & W & 10.903110 &  TRUE & E1\\\\\n",
       "\t25 & J & 29.148468 & FALSE & E1\\\\\n",
       "\t26 & V & 15.068168 &  TRUE & E1\\\\\n",
       "\t27 & S & 16.923311 &  TRUE & E1\\\\\n",
       "\t28 & D & 26.755260 & FALSE & E1\\\\\n",
       "\t29 & L & 11.883925 &  TRUE & E1\\\\\n",
       "\t30 & M & 32.360547 & FALSE & E1\\\\\n",
       "\t⋮ & ⋮ & ⋮ & ⋮ & ⋮\\\\\n",
       "\t66 & W & 22.735741 & FALSE & E2\\\\\n",
       "\t67 & J & 32.293488 & FALSE & E3\\\\\n",
       "\t68 & V & 21.585066 & FALSE & E3\\\\\n",
       "\t69 & S & 21.838809 & FALSE & E3\\\\\n",
       "\t71 & L & 31.759545 & FALSE & E3\\\\\n",
       "\t72 & M & 10.855674 &  TRUE & E3\\\\\n",
       "\t73 & W & 37.120199 & FALSE & E3\\\\\n",
       "\t74 & J & 15.637187 &  TRUE & E3\\\\\n",
       "\t75 & V & 28.870136 & FALSE & E3\\\\\n",
       "\t76 & S & 10.210351 &  TRUE & E3\\\\\n",
       "\t78 & L & 22.261365 & FALSE & E3\\\\\n",
       "\t79 & M & 21.923559 & FALSE & E3\\\\\n",
       "\t80 & W & 24.928733 & FALSE & E3\\\\\n",
       "\t81 & J & 31.897642 & FALSE & E3\\\\\n",
       "\t82 & V &  4.481889 &  TRUE & E3\\\\\n",
       "\t83 & S & 30.446669 & FALSE & E3\\\\\n",
       "\t85 & L & 17.806318 &  TRUE & E3\\\\\n",
       "\t86 & M & 19.905821 &  TRUE & E3\\\\\n",
       "\t87 & W & 14.271193 &  TRUE & E3\\\\\n",
       "\t88 & J & 23.272303 & FALSE & E3\\\\\n",
       "\t89 & V &  8.696560 &  TRUE & E3\\\\\n",
       "\t90 & S & 26.781771 & FALSE & E3\\\\\n",
       "\t92 & L & 13.366403 &  TRUE & E3\\\\\n",
       "\t93 & M & 23.680405 & FALSE & E3\\\\\n",
       "\t94 & W &  2.433932 &  TRUE & E3\\\\\n",
       "\t95 & J & 16.188968 &  TRUE & E3\\\\\n",
       "\t96 & V & 13.817705 &  TRUE & E3\\\\\n",
       "\t97 & S & 12.094709 &  TRUE & E3\\\\\n",
       "\t99 & L & 11.968059 &  TRUE & E3\\\\\n",
       "\t100 & M & 14.850308 &  TRUE & E3\\\\\n",
       "\\end{tabular}\n"
      ],
      "text/markdown": [
       "\n",
       "A data.frame: 95 × 4\n",
       "\n",
       "| <!--/--> | Dia_semana &lt;chr&gt; | Temperatura &lt;dbl&gt; | Llueve &lt;lgl&gt; | Estacion &lt;chr&gt; |\n",
       "|---|---|---|---|---|\n",
       "| 1 | L | 12.428111 |  TRUE | E1 |\n",
       "| 2 | M | 24.563973 | FALSE | E1 |\n",
       "| 3 | W | 11.838868 |  TRUE | E1 |\n",
       "| 4 | J | 25.849547 | FALSE | E1 |\n",
       "| 5 | V | 14.674231 |  TRUE | E1 |\n",
       "| 6 | S | 32.628836 | FALSE | E1 |\n",
       "| 7 | D | 22.174260 | FALSE | E1 |\n",
       "| 8 | L | 16.159774 |  TRUE | E1 |\n",
       "| 9 | M | 18.450524 |  TRUE | E1 |\n",
       "| 10 | W | 28.996479 | FALSE | E1 |\n",
       "| 11 | J | 16.516663 |  TRUE | E1 |\n",
       "| 12 | V |  7.458670 |  TRUE | E1 |\n",
       "| 13 | S | 12.843495 |  TRUE | E1 |\n",
       "| 14 | D |  2.800934 |  TRUE | E1 |\n",
       "| 15 | L | 29.146220 | FALSE | E1 |\n",
       "| 16 | M | 17.158677 |  TRUE | E1 |\n",
       "| 17 | W | 12.711875 |  TRUE | E1 |\n",
       "| 18 | J | 31.674859 | FALSE | E1 |\n",
       "| 19 | V | 21.791699 | FALSE | E1 |\n",
       "| 20 | S | 21.707748 | FALSE | E1 |\n",
       "| 21 | D | 14.982491 |  TRUE | E1 |\n",
       "| 22 | L | 32.706509 | FALSE | E1 |\n",
       "| 23 | M |  5.888410 |  TRUE | E1 |\n",
       "| 24 | W | 10.903110 |  TRUE | E1 |\n",
       "| 25 | J | 29.148468 | FALSE | E1 |\n",
       "| 26 | V | 15.068168 |  TRUE | E1 |\n",
       "| 27 | S | 16.923311 |  TRUE | E1 |\n",
       "| 28 | D | 26.755260 | FALSE | E1 |\n",
       "| 29 | L | 11.883925 |  TRUE | E1 |\n",
       "| 30 | M | 32.360547 | FALSE | E1 |\n",
       "| ⋮ | ⋮ | ⋮ | ⋮ | ⋮ |\n",
       "| 66 | W | 22.735741 | FALSE | E2 |\n",
       "| 67 | J | 32.293488 | FALSE | E3 |\n",
       "| 68 | V | 21.585066 | FALSE | E3 |\n",
       "| 69 | S | 21.838809 | FALSE | E3 |\n",
       "| 71 | L | 31.759545 | FALSE | E3 |\n",
       "| 72 | M | 10.855674 |  TRUE | E3 |\n",
       "| 73 | W | 37.120199 | FALSE | E3 |\n",
       "| 74 | J | 15.637187 |  TRUE | E3 |\n",
       "| 75 | V | 28.870136 | FALSE | E3 |\n",
       "| 76 | S | 10.210351 |  TRUE | E3 |\n",
       "| 78 | L | 22.261365 | FALSE | E3 |\n",
       "| 79 | M | 21.923559 | FALSE | E3 |\n",
       "| 80 | W | 24.928733 | FALSE | E3 |\n",
       "| 81 | J | 31.897642 | FALSE | E3 |\n",
       "| 82 | V |  4.481889 |  TRUE | E3 |\n",
       "| 83 | S | 30.446669 | FALSE | E3 |\n",
       "| 85 | L | 17.806318 |  TRUE | E3 |\n",
       "| 86 | M | 19.905821 |  TRUE | E3 |\n",
       "| 87 | W | 14.271193 |  TRUE | E3 |\n",
       "| 88 | J | 23.272303 | FALSE | E3 |\n",
       "| 89 | V |  8.696560 |  TRUE | E3 |\n",
       "| 90 | S | 26.781771 | FALSE | E3 |\n",
       "| 92 | L | 13.366403 |  TRUE | E3 |\n",
       "| 93 | M | 23.680405 | FALSE | E3 |\n",
       "| 94 | W |  2.433932 |  TRUE | E3 |\n",
       "| 95 | J | 16.188968 |  TRUE | E3 |\n",
       "| 96 | V | 13.817705 |  TRUE | E3 |\n",
       "| 97 | S | 12.094709 |  TRUE | E3 |\n",
       "| 99 | L | 11.968059 |  TRUE | E3 |\n",
       "| 100 | M | 14.850308 |  TRUE | E3 |\n",
       "\n"
      ],
      "text/plain": [
       "    Dia_semana Temperatura Llueve Estacion\n",
       "1   L          12.428111    TRUE  E1      \n",
       "2   M          24.563973   FALSE  E1      \n",
       "3   W          11.838868    TRUE  E1      \n",
       "4   J          25.849547   FALSE  E1      \n",
       "5   V          14.674231    TRUE  E1      \n",
       "6   S          32.628836   FALSE  E1      \n",
       "7   D          22.174260   FALSE  E1      \n",
       "8   L          16.159774    TRUE  E1      \n",
       "9   M          18.450524    TRUE  E1      \n",
       "10  W          28.996479   FALSE  E1      \n",
       "11  J          16.516663    TRUE  E1      \n",
       "12  V           7.458670    TRUE  E1      \n",
       "13  S          12.843495    TRUE  E1      \n",
       "14  D           2.800934    TRUE  E1      \n",
       "15  L          29.146220   FALSE  E1      \n",
       "16  M          17.158677    TRUE  E1      \n",
       "17  W          12.711875    TRUE  E1      \n",
       "18  J          31.674859   FALSE  E1      \n",
       "19  V          21.791699   FALSE  E1      \n",
       "20  S          21.707748   FALSE  E1      \n",
       "21  D          14.982491    TRUE  E1      \n",
       "22  L          32.706509   FALSE  E1      \n",
       "23  M           5.888410    TRUE  E1      \n",
       "24  W          10.903110    TRUE  E1      \n",
       "25  J          29.148468   FALSE  E1      \n",
       "26  V          15.068168    TRUE  E1      \n",
       "27  S          16.923311    TRUE  E1      \n",
       "28  D          26.755260   FALSE  E1      \n",
       "29  L          11.883925    TRUE  E1      \n",
       "30  M          32.360547   FALSE  E1      \n",
       "⋮   ⋮          ⋮           ⋮      ⋮       \n",
       "66  W          22.735741   FALSE  E2      \n",
       "67  J          32.293488   FALSE  E3      \n",
       "68  V          21.585066   FALSE  E3      \n",
       "69  S          21.838809   FALSE  E3      \n",
       "71  L          31.759545   FALSE  E3      \n",
       "72  M          10.855674    TRUE  E3      \n",
       "73  W          37.120199   FALSE  E3      \n",
       "74  J          15.637187    TRUE  E3      \n",
       "75  V          28.870136   FALSE  E3      \n",
       "76  S          10.210351    TRUE  E3      \n",
       "78  L          22.261365   FALSE  E3      \n",
       "79  M          21.923559   FALSE  E3      \n",
       "80  W          24.928733   FALSE  E3      \n",
       "81  J          31.897642   FALSE  E3      \n",
       "82  V           4.481889    TRUE  E3      \n",
       "83  S          30.446669   FALSE  E3      \n",
       "85  L          17.806318    TRUE  E3      \n",
       "86  M          19.905821    TRUE  E3      \n",
       "87  W          14.271193    TRUE  E3      \n",
       "88  J          23.272303   FALSE  E3      \n",
       "89  V           8.696560    TRUE  E3      \n",
       "90  S          26.781771   FALSE  E3      \n",
       "92  L          13.366403    TRUE  E3      \n",
       "93  M          23.680405   FALSE  E3      \n",
       "94  W           2.433932    TRUE  E3      \n",
       "95  J          16.188968    TRUE  E3      \n",
       "96  V          13.817705    TRUE  E3      \n",
       "97  S          12.094709    TRUE  E3      \n",
       "99  L          11.968059    TRUE  E3      \n",
       "100 M          14.850308    TRUE  E3      "
      ]
     },
     "metadata": {},
     "output_type": "display_data"
    }
   ],
   "source": [
    "posiciones_eliminar<-which(precipitaciones[,\"Estacion\"]==\"E3\"& precipitaciones[,\"Dia_semana\"]==\"D\")\n",
    "posiciones_eliminar\n",
    "precipitaciones[-posiciones_eliminar,]"
   ]
  },
  {
   "cell_type": "code",
   "execution_count": null,
   "metadata": {
    "colab": {
     "base_uri": "https://localhost:8080/",
     "height": 98
    },
    "id": "mJYGELeS7VYz",
    "outputId": "0064500d-d98d-469c-f082-58b18ba2f1e4"
   },
   "outputs": [
    {
     "data": {
      "text/html": [
       "<table class=\"dataframe\">\n",
       "<caption>A data.frame: 0 × 4</caption>\n",
       "<thead>\n",
       "\t<tr><th scope=col>Dia_semana</th><th scope=col>Temperatura</th><th scope=col>Llueve</th><th scope=col>Estacion</th></tr>\n",
       "\t<tr><th scope=col>&lt;chr&gt;</th><th scope=col>&lt;dbl&gt;</th><th scope=col>&lt;lgl&gt;</th><th scope=col>&lt;chr&gt;</th></tr>\n",
       "</thead>\n",
       "<tbody>\n",
       "</tbody>\n",
       "</table>\n"
      ],
      "text/latex": [
       "A data.frame: 0 × 4\n",
       "\\begin{tabular}{llll}\n",
       " Dia\\_semana & Temperatura & Llueve & Estacion\\\\\n",
       " <chr> & <dbl> & <lgl> & <chr>\\\\\n",
       "\\hline\n",
       "\\end{tabular}\n"
      ],
      "text/markdown": [
       "\n",
       "A data.frame: 0 × 4\n",
       "\n",
       "| Dia_semana &lt;chr&gt; | Temperatura &lt;dbl&gt; | Llueve &lt;lgl&gt; | Estacion &lt;chr&gt; |\n",
       "|---|---|---|---|\n",
       "\n"
      ],
      "text/plain": [
       "     Dia_semana Temperatura Llueve Estacion"
      ]
     },
     "metadata": {},
     "output_type": "display_data"
    }
   ],
   "source": [
    "precipitaciones[(precipitaciones$Estacion != \"E3\") | (precipitaciones$Dia_Semana != \"D\"),] # Pendiente"
   ]
  },
  {
   "cell_type": "code",
   "execution_count": null,
   "metadata": {
    "id": "St0A3Gdq6op4"
   },
   "outputs": [],
   "source": [
    "precipitaciones <- precipitaciones[-posiciones_eliminar,]"
   ]
  },
  {
   "cell_type": "code",
   "execution_count": null,
   "metadata": {
    "colab": {
     "base_uri": "https://localhost:8080/",
     "height": 34
    },
    "id": "nuW7ux65m5aL",
    "outputId": "c23b7d58-4927-4997-b34b-dea7b5704f09"
   },
   "outputs": [
    {
     "data": {
      "text/html": [
       "<style>\n",
       ".list-inline {list-style: none; margin:0; padding: 0}\n",
       ".list-inline>li {display: inline-block}\n",
       ".list-inline>li:not(:last-child)::after {content: \"\\00b7\"; padding: 0 .5ex}\n",
       "</style>\n",
       "<ol class=list-inline><li>95</li><li>4</li></ol>\n"
      ],
      "text/latex": [
       "\\begin{enumerate*}\n",
       "\\item 95\n",
       "\\item 4\n",
       "\\end{enumerate*}\n"
      ],
      "text/markdown": [
       "1. 95\n",
       "2. 4\n",
       "\n",
       "\n"
      ],
      "text/plain": [
       "[1] 95  4"
      ]
     },
     "metadata": {},
     "output_type": "display_data"
    }
   ],
   "source": [
    "dim(precipitaciones)"
   ]
  },
  {
   "cell_type": "markdown",
   "metadata": {
    "id": "5fmGF0Qam5aN"
   },
   "source": [
    "## 5.4 Cómo guardar ambiente de trabajo o variables definidas en el\n",
    "\n",
    "### Directorio de trabajo\n",
    "\n",
    "El directorio de trabajo corresponde a la ubicación en el sistema de archivos, desde donde la sesión de R podrá acceder directamente para guardar o cargar datos.\n"
   ]
  },
  {
   "cell_type": "code",
   "execution_count": null,
   "metadata": {
    "colab": {
     "base_uri": "https://localhost:8080/",
     "height": 34
    },
    "id": "OfyO5MKOm5aO",
    "outputId": "c1feb4f9-17a4-43ed-c86b-32860453493d"
   },
   "outputs": [
    {
     "data": {
      "text/html": [
       "'/content'"
      ],
      "text/latex": [
       "'/content'"
      ],
      "text/markdown": [
       "'/content'"
      ],
      "text/plain": [
       "[1] \"/content\""
      ]
     },
     "metadata": {},
     "output_type": "display_data"
    }
   ],
   "source": [
    "# para saber en qué directorio se está trabajando\n",
    "getwd()"
   ]
  },
  {
   "cell_type": "code",
   "execution_count": null,
   "metadata": {
    "id": "fHZIjYhRm5aQ"
   },
   "outputs": [],
   "source": [
    "# para cambiar el directorio de trabajo\n",
    "setwd(\"./sample_data\")\n"
   ]
  },
  {
   "cell_type": "code",
   "execution_count": null,
   "metadata": {
    "colab": {
     "base_uri": "https://localhost:8080/",
     "height": 34
    },
    "id": "zEVIHGjo8Tkp",
    "outputId": "fe37e25d-7585-45a5-c7a6-9f189caf0fb9"
   },
   "outputs": [
    {
     "data": {
      "text/html": [
       "'/content/sample_data'"
      ],
      "text/latex": [
       "'/content/sample\\_data'"
      ],
      "text/markdown": [
       "'/content/sample_data'"
      ],
      "text/plain": [
       "[1] \"/content/sample_data\""
      ]
     },
     "metadata": {},
     "output_type": "display_data"
    }
   ],
   "source": [
    "getwd()"
   ]
  },
  {
   "cell_type": "markdown",
   "metadata": {
    "id": "_M-D6sgRm5aU"
   },
   "source": [
    "### Formato rds \n",
    "\n",
    "Una manera de guardar variables creadas en el ambiente de la sessión de R, es mediante la utilización del formato *.rds. Este formato permite guardar los objetos declarados y leerlos rápidamente en cualquier otra sesión que se inicie posteriormente. Es últil por ejemplo para guardar en disco modelos entrenados para ser utilizados para predicciones futuras.\n"
   ]
  },
  {
   "cell_type": "code",
   "execution_count": null,
   "metadata": {
    "id": "11jJ5B50m5aV"
   },
   "outputs": [],
   "source": [
    "# Función saveRDS() # Guardar\n",
    "# guarde en el directorio actual el dataframe _precipitaciones_\n",
    "saveRDS(precipitaciones,\"prep_data.rds\")"
   ]
  },
  {
   "cell_type": "code",
   "execution_count": null,
   "metadata": {
    "id": "N3CUi0tx867t"
   },
   "outputs": [],
   "source": [
    "saveRDS(temp,\"../prep_data2.rds\")"
   ]
  },
  {
   "cell_type": "code",
   "execution_count": null,
   "metadata": {
    "id": "aRrSOlqR8r7_"
   },
   "outputs": [],
   "source": [
    "write.csv(precipitaciones,\"prep_data.csv\")"
   ]
  },
  {
   "cell_type": "code",
   "execution_count": null,
   "metadata": {
    "id": "DixES_Kjm5ah"
   },
   "outputs": [],
   "source": [
    "# readRDS()  Leer, pero ojo que es necesario asignar  a una variable\n",
    "prep2 <- readRDS(\"../prep_data2.rds\")"
   ]
  },
  {
   "cell_type": "code",
   "execution_count": null,
   "metadata": {
    "colab": {
     "base_uri": "https://localhost:8080/",
     "height": 34
    },
    "id": "ghzMpITu9RHJ",
    "outputId": "3e09df42-84f1-47a3-d6a5-132b12a9c7a6"
   },
   "outputs": [
    {
     "data": {
      "text/html": [
       "<style>\n",
       ".list-inline {list-style: none; margin:0; padding: 0}\n",
       ".list-inline>li {display: inline-block}\n",
       ".list-inline>li:not(:last-child)::after {content: \"\\00b7\"; padding: 0 .5ex}\n",
       "</style>\n",
       "<ol class=list-inline><li>12.4281110413814</li><li>24.5639731932465</li><li>11.8388678766539</li><li>25.849546828122</li><li>14.6742310316222</li><li>32.6288364439813</li></ol>\n"
      ],
      "text/latex": [
       "\\begin{enumerate*}\n",
       "\\item 12.4281110413814\n",
       "\\item 24.5639731932465\n",
       "\\item 11.8388678766539\n",
       "\\item 25.849546828122\n",
       "\\item 14.6742310316222\n",
       "\\item 32.6288364439813\n",
       "\\end{enumerate*}\n"
      ],
      "text/markdown": [
       "1. 12.4281110413814\n",
       "2. 24.5639731932465\n",
       "3. 11.8388678766539\n",
       "4. 25.849546828122\n",
       "5. 14.6742310316222\n",
       "6. 32.6288364439813\n",
       "\n",
       "\n"
      ],
      "text/plain": [
       "[1] 12.42811 24.56397 11.83887 25.84955 14.67423 32.62884"
      ]
     },
     "metadata": {},
     "output_type": "display_data"
    }
   ],
   "source": [
    "head(prep2)"
   ]
  },
  {
   "cell_type": "markdown",
   "metadata": {
    "id": "PaENnhLJ9XQG"
   },
   "source": []
  },
  {
   "cell_type": "markdown",
   "metadata": {
    "id": "_4pmC4cBm5as"
   },
   "source": [
    "### Formato RData\n",
    "\n",
    "Cuando se quiere guardar el ambiente de trabajo completo, o bien un mayor número de objetos ya creados, se puede utilizar la función _save_\n"
   ]
  },
  {
   "cell_type": "code",
   "execution_count": null,
   "metadata": {
    "id": "M5yFyJ27m5at"
   },
   "outputs": [],
   "source": [
    "# Función save para guardar uno o más objetos del ambiente.\n",
    "\n",
    "save(temp,precipitaciones,dia, file = \"../ambiente1.RData\")"
   ]
  },
  {
   "cell_type": "code",
   "execution_count": null,
   "metadata": {
    "id": "ezrQj9Kj9x8E"
   },
   "outputs": [],
   "source": [
    "rm(list = ls())"
   ]
  },
  {
   "cell_type": "code",
   "execution_count": null,
   "metadata": {
    "colab": {
     "base_uri": "https://localhost:8080/",
     "height": 98
    },
    "id": "rZ2FZr1K98GR",
    "outputId": "339791bf-062a-4d7b-8c9c-bbba61da4558"
   },
   "outputs": [
    {
     "ename": "ERROR",
     "evalue": "ignored",
     "output_type": "error",
     "traceback": [
      "Error in eval(expr, envir, enclos): object 'temp' not found\nTraceback:\n"
     ]
    }
   ],
   "source": [
    "temp"
   ]
  },
  {
   "cell_type": "code",
   "execution_count": null,
   "metadata": {
    "id": "YDmd1Npmm5ay"
   },
   "outputs": [],
   "source": [
    "# Eventualmente podemos \"cargar \" a sesión, con la función load()\n",
    "load(\"../ambiente1.RData\")"
   ]
  },
  {
   "cell_type": "code",
   "execution_count": null,
   "metadata": {
    "colab": {
     "base_uri": "https://localhost:8080/",
     "height": 34
    },
    "id": "Ugwp16iR-JjK",
    "outputId": "e383e72e-a5e1-4218-d359-35608379ec87"
   },
   "outputs": [
    {
     "data": {
      "text/html": [
       "<style>\n",
       ".list-inline {list-style: none; margin:0; padding: 0}\n",
       ".list-inline>li {display: inline-block}\n",
       ".list-inline>li:not(:last-child)::after {content: \"\\00b7\"; padding: 0 .5ex}\n",
       "</style>\n",
       "<ol class=list-inline><li>'dia'</li><li>'precipitaciones'</li><li>'temp'</li></ol>\n"
      ],
      "text/latex": [
       "\\begin{enumerate*}\n",
       "\\item 'dia'\n",
       "\\item 'precipitaciones'\n",
       "\\item 'temp'\n",
       "\\end{enumerate*}\n"
      ],
      "text/markdown": [
       "1. 'dia'\n",
       "2. 'precipitaciones'\n",
       "3. 'temp'\n",
       "\n",
       "\n"
      ],
      "text/plain": [
       "[1] \"dia\"             \"precipitaciones\" \"temp\"           "
      ]
     },
     "metadata": {},
     "output_type": "display_data"
    }
   ],
   "source": [
    "ls()"
   ]
  }
 ],
 "metadata": {
  "colab": {
   "include_colab_link": true,
   "provenance": []
  },
  "kernelspec": {
   "display_name": "R",
   "language": "R",
   "name": "ir"
  },
  "language_info": {
   "codemirror_mode": "r",
   "file_extension": ".r",
   "mimetype": "text/x-r-source",
   "name": "R",
   "pygments_lexer": "r",
   "version": "4.3.0"
  }
 },
 "nbformat": 4,
 "nbformat_minor": 1
}
