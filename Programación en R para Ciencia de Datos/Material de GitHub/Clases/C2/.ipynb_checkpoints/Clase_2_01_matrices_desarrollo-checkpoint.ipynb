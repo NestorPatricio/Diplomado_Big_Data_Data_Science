{
 "cells": [
  {
   "cell_type": "markdown",
   "metadata": {
    "colab_type": "text",
    "id": "view-in-github"
   },
   "source": [
    "<a href=\"https://colab.research.google.com/github/majorquev/DBDC_202304_Programacion_en_R_para_ciencia_de_datos/blob/main/Clases/C2/Clase_2_01_matrices_desarrollo.ipynb\" target=\"_parent\"><img src=\"https://colab.research.google.com/assets/colab-badge.svg\" alt=\"Open In Colab\"/></a>"
   ]
  },
  {
   "cell_type": "markdown",
   "metadata": {
    "collapsed": true,
    "id": "qGvtNqVzSqoX"
   },
   "source": [
    "# Parte 1: Introducción a R (continuación)\n",
    "\n",
    "**Autor:** Miguel Jorquera Viguera<br>\n",
    "**E-mail:** majorquev@gmail.com<br>\n",
    "**Ayudante:** Rodrigo Morales <br>\n",
    "**E-mail ayudante:** rumorale1@gmail.com\n",
    "\n",
    "\n",
    "\n",
    "### 3.2 Matrices\n",
    "\n",
    "En R, así como en otros lenguajes de programación, una matriz es básicamente un arreglo bi-dimensional, donde las entradas horizontales se entienden como filas y las verticales como columnas. Es posible imaginar una matriz como un arreglo de vectores como columnas (o filas) del mismo largo.\n",
    "\n",
    " * ¿Qué se guarda en una matriz?<br>\n",
    "    Sólo datos de un mismo tipo. \n",
    "     \n",
    " * ¿Cómo se declara una matriz?<br>\n",
    "    Se puede definir de varias maneras, indicando los elementos que la componen, o combinando vectores como filas o columnas.\n",
    " \n",
    " * ¿Cómo se accede a sus elementos?<br>\n",
    "    Indicando la posición del vector fila, seguido de la posición del vector columna (como es usual)."
   ]
  },
  {
   "cell_type": "code",
   "execution_count": 2,
   "metadata": {
    "colab": {
     "base_uri": "https://localhost:8080/",
     "height": 247
    },
    "id": "TKVO3cuZSqoY",
    "outputId": "5e2f1321-d2d7-4104-974c-f86e1e310021"
   },
   "outputs": [
    {
     "data": {
      "text/html": [
       "<table class=\"dataframe\">\n",
       "<caption>A matrix: 2 × 3 of type dbl</caption>\n",
       "<tbody>\n",
       "\t<tr><td>1</td><td>2</td><td>5</td></tr>\n",
       "\t<tr><td>1</td><td>3</td><td>8</td></tr>\n",
       "</tbody>\n",
       "</table>\n"
      ],
      "text/latex": [
       "A matrix: 2 × 3 of type dbl\n",
       "\\begin{tabular}{lll}\n",
       "\t 1 & 2 & 5\\\\\n",
       "\t 1 & 3 & 8\\\\\n",
       "\\end{tabular}\n"
      ],
      "text/markdown": [
       "\n",
       "A matrix: 2 × 3 of type dbl\n",
       "\n",
       "| 1 | 2 | 5 |\n",
       "| 1 | 3 | 8 |\n",
       "\n"
      ],
      "text/plain": [
       "     [,1] [,2] [,3]\n",
       "[1,] 1    2    5   \n",
       "[2,] 1    3    8   "
      ]
     },
     "metadata": {},
     "output_type": "display_data"
    },
    {
     "data": {
      "text/html": [
       "<table class=\"dataframe\">\n",
       "<caption>A matrix: 2 × 3 of type dbl</caption>\n",
       "<tbody>\n",
       "\t<tr><td>1</td><td>1</td><td>2</td></tr>\n",
       "\t<tr><td>3</td><td>5</td><td>8</td></tr>\n",
       "</tbody>\n",
       "</table>\n"
      ],
      "text/latex": [
       "A matrix: 2 × 3 of type dbl\n",
       "\\begin{tabular}{lll}\n",
       "\t 1 & 1 & 2\\\\\n",
       "\t 3 & 5 & 8\\\\\n",
       "\\end{tabular}\n"
      ],
      "text/markdown": [
       "\n",
       "A matrix: 2 × 3 of type dbl\n",
       "\n",
       "| 1 | 1 | 2 |\n",
       "| 3 | 5 | 8 |\n",
       "\n"
      ],
      "text/plain": [
       "     [,1] [,2] [,3]\n",
       "[1,] 1    1    2   \n",
       "[2,] 3    5    8   "
      ]
     },
     "metadata": {},
     "output_type": "display_data"
    }
   ],
   "source": [
    "# 3.2 Matrices ------------\n",
    "#?matrix de dos filas y 3 columnas, parametros ncol, nrow y byrow\n",
    "# recibe un vector de elementos\n",
    "A <- matrix(c(1,1,2,3,5,8), ncol = 3, nrow = 2)\n",
    "A\n",
    "\n",
    "B <- matrix(c(1,1,2,3,5,8), ncol = 3, nrow = 2, byrow = T)\n",
    "B"
   ]
  },
  {
   "cell_type": "code",
   "execution_count": 3,
   "metadata": {
    "colab": {
     "base_uri": "https://localhost:8080/",
     "height": 34
    },
    "id": "Gm3PDTciSqof",
    "outputId": "6ce8686c-0361-4283-f69c-00a1d317c9e4"
   },
   "outputs": [
    {
     "data": {
      "text/html": [
       "<style>\n",
       ".list-inline {list-style: none; margin:0; padding: 0}\n",
       ".list-inline>li {display: inline-block}\n",
       ".list-inline>li:not(:last-child)::after {content: \"\\00b7\"; padding: 0 .5ex}\n",
       "</style>\n",
       "<ol class=list-inline><li>'matrix'</li><li>'array'</li></ol>\n"
      ],
      "text/latex": [
       "\\begin{enumerate*}\n",
       "\\item 'matrix'\n",
       "\\item 'array'\n",
       "\\end{enumerate*}\n"
      ],
      "text/markdown": [
       "1. 'matrix'\n",
       "2. 'array'\n",
       "\n",
       "\n"
      ],
      "text/plain": [
       "[1] \"matrix\" \"array\" "
      ]
     },
     "metadata": {},
     "output_type": "display_data"
    }
   ],
   "source": [
    "# clase y atributo dim\n",
    "class(A)"
   ]
  },
  {
   "cell_type": "code",
   "execution_count": 4,
   "metadata": {
    "colab": {
     "base_uri": "https://localhost:8080/",
     "height": 34
    },
    "id": "69gLPOUrO6dV",
    "outputId": "9c51e1f5-3957-464b-f03a-d3407b541213"
   },
   "outputs": [
    {
     "data": {
      "text/html": [
       "<style>\n",
       ".list-inline {list-style: none; margin:0; padding: 0}\n",
       ".list-inline>li {display: inline-block}\n",
       ".list-inline>li:not(:last-child)::after {content: \"\\00b7\"; padding: 0 .5ex}\n",
       "</style>\n",
       "<ol class=list-inline><li>2</li><li>3</li></ol>\n"
      ],
      "text/latex": [
       "\\begin{enumerate*}\n",
       "\\item 2\n",
       "\\item 3\n",
       "\\end{enumerate*}\n"
      ],
      "text/markdown": [
       "1. 2\n",
       "2. 3\n",
       "\n",
       "\n"
      ],
      "text/plain": [
       "[1] 2 3"
      ]
     },
     "metadata": {},
     "output_type": "display_data"
    }
   ],
   "source": [
    "dim(A)"
   ]
  },
  {
   "cell_type": "code",
   "execution_count": 5,
   "metadata": {
    "id": "2TXNSoedSqoh"
   },
   "outputs": [],
   "source": [
    "# Genere dos vectores del mismo largo y forme una matriz.\n",
    "\n",
    "c1 <- 1:3\n",
    "c2 <- 5:7\n",
    "\n"
   ]
  },
  {
   "cell_type": "code",
   "execution_count": 9,
   "metadata": {
    "colab": {
     "base_uri": "https://localhost:8080/",
     "height": 293
    },
    "id": "W3g76XEkSqok",
    "outputId": "152f9fb2-0c98-45b9-8758-46d8fd0359cd"
   },
   "outputs": [
    {
     "data": {
      "text/html": [
       "<table class=\"dataframe\">\n",
       "<caption>A matrix: 3 × 2 of type int</caption>\n",
       "<thead>\n",
       "\t<tr><th scope=col>c1</th><th scope=col>c2</th></tr>\n",
       "</thead>\n",
       "<tbody>\n",
       "\t<tr><td>1</td><td>5</td></tr>\n",
       "\t<tr><td>2</td><td>6</td></tr>\n",
       "\t<tr><td>3</td><td>7</td></tr>\n",
       "</tbody>\n",
       "</table>\n"
      ],
      "text/latex": [
       "A matrix: 3 × 2 of type int\n",
       "\\begin{tabular}{ll}\n",
       " c1 & c2\\\\\n",
       "\\hline\n",
       "\t 1 & 5\\\\\n",
       "\t 2 & 6\\\\\n",
       "\t 3 & 7\\\\\n",
       "\\end{tabular}\n"
      ],
      "text/markdown": [
       "\n",
       "A matrix: 3 × 2 of type int\n",
       "\n",
       "| c1 | c2 |\n",
       "|---|---|\n",
       "| 1 | 5 |\n",
       "| 2 | 6 |\n",
       "| 3 | 7 |\n",
       "\n"
      ],
      "text/plain": [
       "     c1 c2\n",
       "[1,] 1  5 \n",
       "[2,] 2  6 \n",
       "[3,] 3  7 "
      ]
     },
     "metadata": {},
     "output_type": "display_data"
    },
    {
     "data": {
      "text/html": [
       "<table class=\"dataframe\">\n",
       "<caption>A matrix: 2 × 3 of type int</caption>\n",
       "<tbody>\n",
       "\t<tr><th scope=row>c1</th><td>1</td><td>2</td><td>3</td></tr>\n",
       "\t<tr><th scope=row>c2</th><td>5</td><td>6</td><td>7</td></tr>\n",
       "</tbody>\n",
       "</table>\n"
      ],
      "text/latex": [
       "A matrix: 2 × 3 of type int\n",
       "\\begin{tabular}{r|lll}\n",
       "\tc1 & 1 & 2 & 3\\\\\n",
       "\tc2 & 5 & 6 & 7\\\\\n",
       "\\end{tabular}\n"
      ],
      "text/markdown": [
       "\n",
       "A matrix: 2 × 3 of type int\n",
       "\n",
       "| c1 | 1 | 2 | 3 |\n",
       "| c2 | 5 | 6 | 7 |\n",
       "\n"
      ],
      "text/plain": [
       "   [,1] [,2] [,3]\n",
       "c1 1    2    3   \n",
       "c2 5    6    7   "
      ]
     },
     "metadata": {},
     "output_type": "display_data"
    }
   ],
   "source": [
    "# funciones cbind() [une vectores como columnas]\n",
    "# y rbind() [une vectores como filas] (pensadas para matrices)\n",
    "#?cbind\n",
    "\n",
    "M1 <- cbind(c1,c2)\n",
    "M2 <- rbind(c1,c2)\n",
    "M1\n",
    "M2"
   ]
  },
  {
   "cell_type": "code",
   "execution_count": 14,
   "metadata": {
    "colab": {
     "base_uri": "https://localhost:8080/",
     "height": 52
    },
    "id": "w4cyWOkAPcle",
    "outputId": "596dfe7e-b277-4e79-cb4d-99ed211f1d2c"
   },
   "outputs": [
    {
     "data": {
      "text/html": [
       "<style>\n",
       ".list-inline {list-style: none; margin:0; padding: 0}\n",
       ".list-inline>li {display: inline-block}\n",
       ".list-inline>li:not(:last-child)::after {content: \"\\00b7\"; padding: 0 .5ex}\n",
       "</style>\n",
       "<ol class=list-inline><li>'c1'</li><li>'c2'</li></ol>\n"
      ],
      "text/latex": [
       "\\begin{enumerate*}\n",
       "\\item 'c1'\n",
       "\\item 'c2'\n",
       "\\end{enumerate*}\n"
      ],
      "text/markdown": [
       "1. 'c1'\n",
       "2. 'c2'\n",
       "\n",
       "\n"
      ],
      "text/plain": [
       "[1] \"c1\" \"c2\""
      ]
     },
     "metadata": {},
     "output_type": "display_data"
    },
    {
     "data": {
      "text/plain": [
       "NULL"
      ]
     },
     "metadata": {},
     "output_type": "display_data"
    }
   ],
   "source": [
    "colnames(M1)\n",
    "rownames(M1)\n",
    "\n"
   ]
  },
  {
   "cell_type": "code",
   "execution_count": 15,
   "metadata": {
    "colab": {
     "base_uri": "https://localhost:8080/",
     "height": 52
    },
    "id": "5IdpWxppP3AG",
    "outputId": "9cf07b1a-0262-4194-fb8f-7eabb1889c3f"
   },
   "outputs": [
    {
     "data": {
      "text/html": [
       "<style>\n",
       ".list-inline {list-style: none; margin:0; padding: 0}\n",
       ".list-inline>li {display: inline-block}\n",
       ".list-inline>li:not(:last-child)::after {content: \"\\00b7\"; padding: 0 .5ex}\n",
       "</style>\n",
       "<ol class=list-inline><li>'c1'</li><li>'c2'</li></ol>\n"
      ],
      "text/latex": [
       "\\begin{enumerate*}\n",
       "\\item 'c1'\n",
       "\\item 'c2'\n",
       "\\end{enumerate*}\n"
      ],
      "text/markdown": [
       "1. 'c1'\n",
       "2. 'c2'\n",
       "\n",
       "\n"
      ],
      "text/plain": [
       "[1] \"c1\" \"c2\""
      ]
     },
     "metadata": {},
     "output_type": "display_data"
    },
    {
     "data": {
      "text/plain": [
       "NULL"
      ]
     },
     "metadata": {},
     "output_type": "display_data"
    }
   ],
   "source": [
    "rownames(M2)\n",
    "colnames(M2)"
   ]
  },
  {
   "cell_type": "code",
   "execution_count": 16,
   "metadata": {
    "colab": {
     "base_uri": "https://localhost:8080/",
     "height": 146
    },
    "id": "ds9erwbP3sMG",
    "outputId": "678c96d6-305d-40a3-ab0f-62ac56a96029"
   },
   "outputs": [
    {
     "data": {
      "text/html": [
       "<table class=\"dataframe\">\n",
       "<caption>A matrix: 3 × 3 of type dbl</caption>\n",
       "<tbody>\n",
       "\t<tr><th scope=row>c1</th><td> 1</td><td> 2</td><td> 3</td></tr>\n",
       "\t<tr><th scope=row>c2</th><td> 5</td><td> 6</td><td> 7</td></tr>\n",
       "\t<tr><th scope=row>f3</th><td>10</td><td>11</td><td>12</td></tr>\n",
       "</tbody>\n",
       "</table>\n"
      ],
      "text/latex": [
       "A matrix: 3 × 3 of type dbl\n",
       "\\begin{tabular}{r|lll}\n",
       "\tc1 &  1 &  2 &  3\\\\\n",
       "\tc2 &  5 &  6 &  7\\\\\n",
       "\tf3 & 10 & 11 & 12\\\\\n",
       "\\end{tabular}\n"
      ],
      "text/markdown": [
       "\n",
       "A matrix: 3 × 3 of type dbl\n",
       "\n",
       "| c1 |  1 |  2 |  3 |\n",
       "| c2 |  5 |  6 |  7 |\n",
       "| f3 | 10 | 11 | 12 |\n",
       "\n"
      ],
      "text/plain": [
       "   [,1] [,2] [,3]\n",
       "c1  1    2    3  \n",
       "c2  5    6    7  \n",
       "f3 10   11   12  "
      ]
     },
     "metadata": {},
     "output_type": "display_data"
    }
   ],
   "source": [
    "# NOTA: Podemos añadir una fila a una matriz existente\n",
    "f3 <- c(10,11,12)\n",
    "rbind(M2,f3)"
   ]
  },
  {
   "cell_type": "code",
   "execution_count": 17,
   "metadata": {
    "colab": {
     "base_uri": "https://localhost:8080/",
     "height": 178
    },
    "id": "jhGVYgl4QKe1",
    "outputId": "7671b8f6-8a30-4615-e6f7-4a07dd305881"
   },
   "outputs": [
    {
     "data": {
      "text/html": [
       "<table class=\"dataframe\">\n",
       "<caption>A matrix: 3 × 3 of type dbl</caption>\n",
       "<thead>\n",
       "\t<tr><th scope=col>c1</th><th scope=col>c2</th><th scope=col>f3</th></tr>\n",
       "</thead>\n",
       "<tbody>\n",
       "\t<tr><td>1</td><td>5</td><td>10</td></tr>\n",
       "\t<tr><td>2</td><td>6</td><td>11</td></tr>\n",
       "\t<tr><td>3</td><td>7</td><td>12</td></tr>\n",
       "</tbody>\n",
       "</table>\n"
      ],
      "text/latex": [
       "A matrix: 3 × 3 of type dbl\n",
       "\\begin{tabular}{lll}\n",
       " c1 & c2 & f3\\\\\n",
       "\\hline\n",
       "\t 1 & 5 & 10\\\\\n",
       "\t 2 & 6 & 11\\\\\n",
       "\t 3 & 7 & 12\\\\\n",
       "\\end{tabular}\n"
      ],
      "text/markdown": [
       "\n",
       "A matrix: 3 × 3 of type dbl\n",
       "\n",
       "| c1 | c2 | f3 |\n",
       "|---|---|---|\n",
       "| 1 | 5 | 10 |\n",
       "| 2 | 6 | 11 |\n",
       "| 3 | 7 | 12 |\n",
       "\n"
      ],
      "text/plain": [
       "     c1 c2 f3\n",
       "[1,] 1  5  10\n",
       "[2,] 2  6  11\n",
       "[3,] 3  7  12"
      ]
     },
     "metadata": {},
     "output_type": "display_data"
    }
   ],
   "source": [
    "# NOTA: Podemos añadir una columna a una matriz existente\n",
    "f3 <- c(10,11,12)\n",
    "cbind(M1,f3)"
   ]
  },
  {
   "cell_type": "code",
   "execution_count": 18,
   "metadata": {
    "colab": {
     "base_uri": "https://localhost:8080/",
     "height": 180
    },
    "id": "gDzbcsNVSqom",
    "outputId": "d0730c47-3a29-4ce1-f8b6-ba84b388b9e2"
   },
   "outputs": [
    {
     "name": "stderr",
     "output_type": "stream",
     "text": [
      "Warning message in rbind(M2, c(100, 200)):\n",
      "“number of columns of result is not a multiple of vector length (arg 2)”\n"
     ]
    },
    {
     "data": {
      "text/html": [
       "<table class=\"dataframe\">\n",
       "<caption>A matrix: 3 × 3 of type dbl</caption>\n",
       "<tbody>\n",
       "\t<tr><th scope=row>c1</th><td>  1</td><td>  2</td><td>  3</td></tr>\n",
       "\t<tr><th scope=row>c2</th><td>  5</td><td>  6</td><td>  7</td></tr>\n",
       "\t<tr><th scope=row></th><td>100</td><td>200</td><td>100</td></tr>\n",
       "</tbody>\n",
       "</table>\n"
      ],
      "text/latex": [
       "A matrix: 3 × 3 of type dbl\n",
       "\\begin{tabular}{r|lll}\n",
       "\tc1 &   1 &   2 &   3\\\\\n",
       "\tc2 &   5 &   6 &   7\\\\\n",
       "\t & 100 & 200 & 100\\\\\n",
       "\\end{tabular}\n"
      ],
      "text/markdown": [
       "\n",
       "A matrix: 3 × 3 of type dbl\n",
       "\n",
       "| c1 |   1 |   2 |   3 |\n",
       "| c2 |   5 |   6 |   7 |\n",
       "| <!----> | 100 | 200 | 100 |\n",
       "\n"
      ],
      "text/plain": [
       "   [,1] [,2] [,3]\n",
       "c1   1    2    3 \n",
       "c2   5    6    7 \n",
       "   100  200  100 "
      ]
     },
     "metadata": {},
     "output_type": "display_data"
    }
   ],
   "source": [
    "# si combinamos vectores de distinto largo?\n",
    "# R recicla valores (recordar explicación)\n",
    "\n",
    "rbind(M2,c(100,200))\n"
   ]
  },
  {
   "cell_type": "code",
   "execution_count": 19,
   "metadata": {
    "colab": {
     "base_uri": "https://localhost:8080/",
     "height": 348
    },
    "id": "QLOH0514Sqoo",
    "outputId": "c8a92d53-77b1-488b-9ed8-f9f37c21b0c4"
   },
   "outputs": [
    {
     "data": {
      "text/html": [
       "<table class=\"dataframe\">\n",
       "<caption>A matrix: 10 × 10 of type int</caption>\n",
       "<tbody>\n",
       "\t<tr><td>1</td><td>0</td><td>0</td><td>0</td><td>0</td><td>0</td><td>0</td><td>0</td><td>0</td><td> 0</td></tr>\n",
       "\t<tr><td>0</td><td>2</td><td>0</td><td>0</td><td>0</td><td>0</td><td>0</td><td>0</td><td>0</td><td> 0</td></tr>\n",
       "\t<tr><td>0</td><td>0</td><td>3</td><td>0</td><td>0</td><td>0</td><td>0</td><td>0</td><td>0</td><td> 0</td></tr>\n",
       "\t<tr><td>0</td><td>0</td><td>0</td><td>4</td><td>0</td><td>0</td><td>0</td><td>0</td><td>0</td><td> 0</td></tr>\n",
       "\t<tr><td>0</td><td>0</td><td>0</td><td>0</td><td>5</td><td>0</td><td>0</td><td>0</td><td>0</td><td> 0</td></tr>\n",
       "\t<tr><td>0</td><td>0</td><td>0</td><td>0</td><td>0</td><td>6</td><td>0</td><td>0</td><td>0</td><td> 0</td></tr>\n",
       "\t<tr><td>0</td><td>0</td><td>0</td><td>0</td><td>0</td><td>0</td><td>7</td><td>0</td><td>0</td><td> 0</td></tr>\n",
       "\t<tr><td>0</td><td>0</td><td>0</td><td>0</td><td>0</td><td>0</td><td>0</td><td>8</td><td>0</td><td> 0</td></tr>\n",
       "\t<tr><td>0</td><td>0</td><td>0</td><td>0</td><td>0</td><td>0</td><td>0</td><td>0</td><td>9</td><td> 0</td></tr>\n",
       "\t<tr><td>0</td><td>0</td><td>0</td><td>0</td><td>0</td><td>0</td><td>0</td><td>0</td><td>0</td><td>10</td></tr>\n",
       "</tbody>\n",
       "</table>\n"
      ],
      "text/latex": [
       "A matrix: 10 × 10 of type int\n",
       "\\begin{tabular}{llllllllll}\n",
       "\t 1 & 0 & 0 & 0 & 0 & 0 & 0 & 0 & 0 &  0\\\\\n",
       "\t 0 & 2 & 0 & 0 & 0 & 0 & 0 & 0 & 0 &  0\\\\\n",
       "\t 0 & 0 & 3 & 0 & 0 & 0 & 0 & 0 & 0 &  0\\\\\n",
       "\t 0 & 0 & 0 & 4 & 0 & 0 & 0 & 0 & 0 &  0\\\\\n",
       "\t 0 & 0 & 0 & 0 & 5 & 0 & 0 & 0 & 0 &  0\\\\\n",
       "\t 0 & 0 & 0 & 0 & 0 & 6 & 0 & 0 & 0 &  0\\\\\n",
       "\t 0 & 0 & 0 & 0 & 0 & 0 & 7 & 0 & 0 &  0\\\\\n",
       "\t 0 & 0 & 0 & 0 & 0 & 0 & 0 & 8 & 0 &  0\\\\\n",
       "\t 0 & 0 & 0 & 0 & 0 & 0 & 0 & 0 & 9 &  0\\\\\n",
       "\t 0 & 0 & 0 & 0 & 0 & 0 & 0 & 0 & 0 & 10\\\\\n",
       "\\end{tabular}\n"
      ],
      "text/markdown": [
       "\n",
       "A matrix: 10 × 10 of type int\n",
       "\n",
       "| 1 | 0 | 0 | 0 | 0 | 0 | 0 | 0 | 0 |  0 |\n",
       "| 0 | 2 | 0 | 0 | 0 | 0 | 0 | 0 | 0 |  0 |\n",
       "| 0 | 0 | 3 | 0 | 0 | 0 | 0 | 0 | 0 |  0 |\n",
       "| 0 | 0 | 0 | 4 | 0 | 0 | 0 | 0 | 0 |  0 |\n",
       "| 0 | 0 | 0 | 0 | 5 | 0 | 0 | 0 | 0 |  0 |\n",
       "| 0 | 0 | 0 | 0 | 0 | 6 | 0 | 0 | 0 |  0 |\n",
       "| 0 | 0 | 0 | 0 | 0 | 0 | 7 | 0 | 0 |  0 |\n",
       "| 0 | 0 | 0 | 0 | 0 | 0 | 0 | 8 | 0 |  0 |\n",
       "| 0 | 0 | 0 | 0 | 0 | 0 | 0 | 0 | 9 |  0 |\n",
       "| 0 | 0 | 0 | 0 | 0 | 0 | 0 | 0 | 0 | 10 |\n",
       "\n"
      ],
      "text/plain": [
       "      [,1] [,2] [,3] [,4] [,5] [,6] [,7] [,8] [,9] [,10]\n",
       " [1,] 1    0    0    0    0    0    0    0    0     0   \n",
       " [2,] 0    2    0    0    0    0    0    0    0     0   \n",
       " [3,] 0    0    3    0    0    0    0    0    0     0   \n",
       " [4,] 0    0    0    4    0    0    0    0    0     0   \n",
       " [5,] 0    0    0    0    5    0    0    0    0     0   \n",
       " [6,] 0    0    0    0    0    6    0    0    0     0   \n",
       " [7,] 0    0    0    0    0    0    7    0    0     0   \n",
       " [8,] 0    0    0    0    0    0    0    8    0     0   \n",
       " [9,] 0    0    0    0    0    0    0    0    9     0   \n",
       "[10,] 0    0    0    0    0    0    0    0    0    10   "
      ]
     },
     "metadata": {},
     "output_type": "display_data"
    }
   ],
   "source": [
    "# función diag para la definición de matrices diagonales\n",
    "#?diag \n",
    "\n",
    "diag(1:10)\n"
   ]
  },
  {
   "cell_type": "code",
   "execution_count": 21,
   "metadata": {
    "colab": {
     "base_uri": "https://localhost:8080/",
     "height": 132
    },
    "id": "xIfUV82ASqot",
    "outputId": "525581c2-5019-4f79-84e1-e851ed77d4cb"
   },
   "outputs": [
    {
     "data": {
      "text/html": [
       "<table class=\"dataframe\">\n",
       "<caption>A matrix: 2 × 3 of type int</caption>\n",
       "<tbody>\n",
       "\t<tr><th scope=row>c1</th><td>1</td><td>2</td><td>3</td></tr>\n",
       "\t<tr><th scope=row>c2</th><td>5</td><td>6</td><td>7</td></tr>\n",
       "</tbody>\n",
       "</table>\n"
      ],
      "text/latex": [
       "A matrix: 2 × 3 of type int\n",
       "\\begin{tabular}{r|lll}\n",
       "\tc1 & 1 & 2 & 3\\\\\n",
       "\tc2 & 5 & 6 & 7\\\\\n",
       "\\end{tabular}\n"
      ],
      "text/markdown": [
       "\n",
       "A matrix: 2 × 3 of type int\n",
       "\n",
       "| c1 | 1 | 2 | 3 |\n",
       "| c2 | 5 | 6 | 7 |\n",
       "\n"
      ],
      "text/plain": [
       "   [,1] [,2] [,3]\n",
       "c1 1    2    3   \n",
       "c2 5    6    7   "
      ]
     },
     "metadata": {},
     "output_type": "display_data"
    },
    {
     "data": {
      "text/html": [
       "<strong>c2:</strong> 7"
      ],
      "text/latex": [
       "\\textbf{c2:} 7"
      ],
      "text/markdown": [
       "**c2:** 7"
      ],
      "text/plain": [
       "c2 \n",
       " 7 "
      ]
     },
     "metadata": {},
     "output_type": "display_data"
    }
   ],
   "source": [
    "# Podemos acceder a los elementos de una matriz\n",
    "# indicando la posición de la fila y la columna de la casilla correspondiente.\n",
    "# Ejemplo: rescatar el elemnto de la segunda fila y tercera columna de M2\n",
    "M2\n",
    "M2[2,3]\n",
    "\n"
   ]
  },
  {
   "cell_type": "code",
   "execution_count": 22,
   "metadata": {
    "colab": {
     "base_uri": "https://localhost:8080/",
     "height": 34
    },
    "id": "xpChz7f25BTv",
    "outputId": "f89bc5e1-d8b6-4511-b563-0251602eab77"
   },
   "outputs": [
    {
     "data": {
      "text/html": [
       "<strong>c2:</strong> 5"
      ],
      "text/latex": [
       "\\textbf{c2:} 5"
      ],
      "text/markdown": [
       "**c2:** 5"
      ],
      "text/plain": [
       "c2 \n",
       " 5 "
      ]
     },
     "metadata": {},
     "output_type": "display_data"
    }
   ],
   "source": [
    "# quiero rescatar el elemento \"(2,1)\"\n",
    "\n",
    "M2[2,1]"
   ]
  },
  {
   "cell_type": "code",
   "execution_count": 23,
   "metadata": {
    "colab": {
     "base_uri": "https://localhost:8080/",
     "height": 34
    },
    "id": "XZ9li5x25CT5",
    "outputId": "0e46ee81-7a5e-41cb-8800-5584d609ed23"
   },
   "outputs": [
    {
     "data": {
      "text/html": [
       "<style>\n",
       ".list-inline {list-style: none; margin:0; padding: 0}\n",
       ".list-inline>li {display: inline-block}\n",
       ".list-inline>li:not(:last-child)::after {content: \"\\00b7\"; padding: 0 .5ex}\n",
       "</style>\n",
       "<ol class=list-inline><li>5</li><li>1</li></ol>\n"
      ],
      "text/latex": [
       "\\begin{enumerate*}\n",
       "\\item 5\n",
       "\\item 1\n",
       "\\end{enumerate*}\n"
      ],
      "text/markdown": [
       "1. 5\n",
       "2. 1\n",
       "\n",
       "\n"
      ],
      "text/plain": [
       "[1] 5 1"
      ]
     },
     "metadata": {},
     "output_type": "display_data"
    }
   ],
   "source": [
    "# CUIDADO:No es lo mismo que \n",
    "M2[c(2,1)]# Acá R interpreta M2 como un vector (recorrido como columnas de la matriz) y retorna los elmentos de pos 2  y 1."
   ]
  },
  {
   "cell_type": "code",
   "execution_count": 26,
   "metadata": {
    "colab": {
     "base_uri": "https://localhost:8080/",
     "height": 149
    },
    "id": "0irI-CBJSqou",
    "outputId": "a82d6f59-92e7-4833-b04d-783a6f3965ed"
   },
   "outputs": [
    {
     "data": {
      "text/html": [
       "<table class=\"dataframe\">\n",
       "<caption>A matrix: 2 × 3 of type int</caption>\n",
       "<tbody>\n",
       "\t<tr><th scope=row>c1</th><td>1</td><td>2</td><td>3</td></tr>\n",
       "\t<tr><th scope=row>c2</th><td>5</td><td>6</td><td>7</td></tr>\n",
       "</tbody>\n",
       "</table>\n"
      ],
      "text/latex": [
       "A matrix: 2 × 3 of type int\n",
       "\\begin{tabular}{r|lll}\n",
       "\tc1 & 1 & 2 & 3\\\\\n",
       "\tc2 & 5 & 6 & 7\\\\\n",
       "\\end{tabular}\n"
      ],
      "text/markdown": [
       "\n",
       "A matrix: 2 × 3 of type int\n",
       "\n",
       "| c1 | 1 | 2 | 3 |\n",
       "| c2 | 5 | 6 | 7 |\n",
       "\n"
      ],
      "text/plain": [
       "   [,1] [,2] [,3]\n",
       "c1 1    2    3   \n",
       "c2 5    6    7   "
      ]
     },
     "metadata": {},
     "output_type": "display_data"
    },
    {
     "data": {
      "text/html": [
       "<style>\n",
       ".list-inline {list-style: none; margin:0; padding: 0}\n",
       ".list-inline>li {display: inline-block}\n",
       ".list-inline>li:not(:last-child)::after {content: \"\\00b7\"; padding: 0 .5ex}\n",
       "</style>\n",
       "<ol class=list-inline><li>5</li><li>6</li><li>7</li></ol>\n"
      ],
      "text/latex": [
       "\\begin{enumerate*}\n",
       "\\item 5\n",
       "\\item 6\n",
       "\\item 7\n",
       "\\end{enumerate*}\n"
      ],
      "text/markdown": [
       "1. 5\n",
       "2. 6\n",
       "3. 7\n",
       "\n",
       "\n"
      ],
      "text/plain": [
       "[1] 5 6 7"
      ]
     },
     "metadata": {},
     "output_type": "display_data"
    },
    {
     "data": {
      "text/html": [
       "<style>\n",
       ".dl-inline {width: auto; margin:0; padding: 0}\n",
       ".dl-inline>dt, .dl-inline>dd {float: none; width: auto; display: inline-block}\n",
       ".dl-inline>dt::after {content: \":\\0020\"; padding-right: .5ex}\n",
       ".dl-inline>dt:not(:first-of-type) {padding-left: .5ex}\n",
       "</style><dl class=dl-inline><dt>c1</dt><dd>3</dd><dt>c2</dt><dd>7</dd></dl>\n"
      ],
      "text/latex": [
       "\\begin{description*}\n",
       "\\item[c1] 3\n",
       "\\item[c2] 7\n",
       "\\end{description*}\n"
      ],
      "text/markdown": [
       "c1\n",
       ":   3c2\n",
       ":   7\n",
       "\n"
      ],
      "text/plain": [
       "c1 c2 \n",
       " 3  7 "
      ]
     },
     "metadata": {},
     "output_type": "display_data"
    }
   ],
   "source": [
    "# Para acceder a una fila completa\n",
    "M2\n",
    "M2[2,]\n",
    "\n",
    "# Para acceder a una columna completa\n",
    "\n",
    "M2[,3]"
   ]
  },
  {
   "cell_type": "code",
   "execution_count": 27,
   "metadata": {
    "id": "rkq7J4nLSqow"
   },
   "outputs": [],
   "source": [
    "#Recordemos que podemos actualizar elementos de un vector como:\n",
    "\n",
    "# quiero cambiar el 6 (de la pos 2,2) por un -99 \n",
    "M2[2,2] <- -99\n"
   ]
  },
  {
   "cell_type": "code",
   "execution_count": 28,
   "metadata": {
    "colab": {
     "base_uri": "https://localhost:8080/",
     "height": 114
    },
    "id": "f3mONhrfSkRV",
    "outputId": "d1ef8883-b64a-4bc5-ef1b-07aa71879bbb"
   },
   "outputs": [
    {
     "data": {
      "text/html": [
       "<table class=\"dataframe\">\n",
       "<caption>A matrix: 2 × 3 of type dbl</caption>\n",
       "<tbody>\n",
       "\t<tr><th scope=row>c1</th><td>1</td><td>  2</td><td>3</td></tr>\n",
       "\t<tr><th scope=row>c2</th><td>5</td><td>-99</td><td>7</td></tr>\n",
       "</tbody>\n",
       "</table>\n"
      ],
      "text/latex": [
       "A matrix: 2 × 3 of type dbl\n",
       "\\begin{tabular}{r|lll}\n",
       "\tc1 & 1 &   2 & 3\\\\\n",
       "\tc2 & 5 & -99 & 7\\\\\n",
       "\\end{tabular}\n"
      ],
      "text/markdown": [
       "\n",
       "A matrix: 2 × 3 of type dbl\n",
       "\n",
       "| c1 | 1 |   2 | 3 |\n",
       "| c2 | 5 | -99 | 7 |\n",
       "\n"
      ],
      "text/plain": [
       "   [,1] [,2] [,3]\n",
       "c1 1      2  3   \n",
       "c2 5    -99  7   "
      ]
     },
     "metadata": {},
     "output_type": "display_data"
    }
   ],
   "source": [
    "M2"
   ]
  },
  {
   "cell_type": "code",
   "execution_count": 32,
   "metadata": {
    "id": "KstW38ylSkSV"
   },
   "outputs": [],
   "source": [
    "# Acceso mediante nombres\n",
    "# Primero pongamos nombres a las filas\n",
    "rownames(M1) <- c(\"f1\",\"f2\",\"f3\")"
   ]
  },
  {
   "cell_type": "code",
   "execution_count": 33,
   "metadata": {
    "colab": {
     "base_uri": "https://localhost:8080/",
     "height": 178
    },
    "id": "EW53UJEfS-qj",
    "outputId": "29464cec-c997-4f56-df27-b1d9f0b3bd62"
   },
   "outputs": [
    {
     "data": {
      "text/html": [
       "<table class=\"dataframe\">\n",
       "<caption>A matrix: 3 × 2 of type int</caption>\n",
       "<thead>\n",
       "\t<tr><th></th><th scope=col>c1</th><th scope=col>c2</th></tr>\n",
       "</thead>\n",
       "<tbody>\n",
       "\t<tr><th scope=row>f1</th><td>1</td><td>5</td></tr>\n",
       "\t<tr><th scope=row>f2</th><td>2</td><td>6</td></tr>\n",
       "\t<tr><th scope=row>f3</th><td>3</td><td>7</td></tr>\n",
       "</tbody>\n",
       "</table>\n"
      ],
      "text/latex": [
       "A matrix: 3 × 2 of type int\n",
       "\\begin{tabular}{r|ll}\n",
       "  & c1 & c2\\\\\n",
       "\\hline\n",
       "\tf1 & 1 & 5\\\\\n",
       "\tf2 & 2 & 6\\\\\n",
       "\tf3 & 3 & 7\\\\\n",
       "\\end{tabular}\n"
      ],
      "text/markdown": [
       "\n",
       "A matrix: 3 × 2 of type int\n",
       "\n",
       "| <!--/--> | c1 | c2 |\n",
       "|---|---|---|\n",
       "| f1 | 1 | 5 |\n",
       "| f2 | 2 | 6 |\n",
       "| f3 | 3 | 7 |\n",
       "\n"
      ],
      "text/plain": [
       "   c1 c2\n",
       "f1 1  5 \n",
       "f2 2  6 \n",
       "f3 3  7 "
      ]
     },
     "metadata": {},
     "output_type": "display_data"
    }
   ],
   "source": [
    "M1"
   ]
  },
  {
   "cell_type": "code",
   "execution_count": 35,
   "metadata": {
    "colab": {
     "base_uri": "https://localhost:8080/",
     "height": 34
    },
    "id": "0mKL1vhcSkVc",
    "outputId": "1ad5f6a7-3b5a-4489-ce23-6aed90f745fd"
   },
   "outputs": [
    {
     "data": {
      "text/html": [
       "7"
      ],
      "text/latex": [
       "7"
      ],
      "text/markdown": [
       "7"
      ],
      "text/plain": [
       "[1] 7"
      ]
     },
     "metadata": {},
     "output_type": "display_data"
    }
   ],
   "source": [
    "# Acceso mediante nomnbres\n",
    "# Elemento de la segunda fila tercera columna (3,2)\n",
    "\n",
    "M1[\"f3\",\"c2\"]"
   ]
  },
  {
   "cell_type": "code",
   "execution_count": 40,
   "metadata": {
    "colab": {
     "base_uri": "https://localhost:8080/",
     "height": 146
    },
    "id": "qt9bcwQgSqo0",
    "outputId": "170a61f9-7bde-4bbc-8f98-c1190ea99079"
   },
   "outputs": [
    {
     "data": {
      "text/html": [
       "<table class=\"dataframe\">\n",
       "<caption>A matrix: 3 × 2 of type lgl</caption>\n",
       "<tbody>\n",
       "\t<tr><td> TRUE</td><td>FALSE</td></tr>\n",
       "\t<tr><td>FALSE</td><td>FALSE</td></tr>\n",
       "\t<tr><td>FALSE</td><td> TRUE</td></tr>\n",
       "</tbody>\n",
       "</table>\n"
      ],
      "text/latex": [
       "A matrix: 3 × 2 of type lgl\n",
       "\\begin{tabular}{ll}\n",
       "\t  TRUE & FALSE\\\\\n",
       "\t FALSE & FALSE\\\\\n",
       "\t FALSE &  TRUE\\\\\n",
       "\\end{tabular}\n"
      ],
      "text/markdown": [
       "\n",
       "A matrix: 3 × 2 of type lgl\n",
       "\n",
       "|  TRUE | FALSE |\n",
       "| FALSE | FALSE |\n",
       "| FALSE |  TRUE |\n",
       "\n"
      ],
      "text/plain": [
       "     [,1]  [,2] \n",
       "[1,]  TRUE FALSE\n",
       "[2,] FALSE FALSE\n",
       "[3,] FALSE  TRUE"
      ]
     },
     "metadata": {},
     "output_type": "display_data"
    }
   ],
   "source": [
    "# Acceso mediante \"indicatrices\" lógicas \n",
    "#Quiero obtener los elementos (1,1) y (3,2) de M3\n",
    "# 1: Crear una matriz de 3x2 con TRUE en dichas posiciones y FALSE en las restantes.\n",
    "ind <- matrix(c(T,F,F,F,F,T),nrow = 3, ncol=2)\n",
    "ind\n"
   ]
  },
  {
   "cell_type": "code",
   "execution_count": 41,
   "metadata": {
    "colab": {
     "base_uri": "https://localhost:8080/",
     "height": 34
    },
    "id": "7J6avJS774KM",
    "outputId": "a8e70d8a-c1d5-4c09-ba18-1b11fdf3d4c9"
   },
   "outputs": [
    {
     "data": {
      "text/html": [
       "<style>\n",
       ".list-inline {list-style: none; margin:0; padding: 0}\n",
       ".list-inline>li {display: inline-block}\n",
       ".list-inline>li:not(:last-child)::after {content: \"\\00b7\"; padding: 0 .5ex}\n",
       "</style>\n",
       "<ol class=list-inline><li>1</li><li>7</li></ol>\n"
      ],
      "text/latex": [
       "\\begin{enumerate*}\n",
       "\\item 1\n",
       "\\item 7\n",
       "\\end{enumerate*}\n"
      ],
      "text/markdown": [
       "1. 1\n",
       "2. 7\n",
       "\n",
       "\n"
      ],
      "text/plain": [
       "[1] 1 7"
      ]
     },
     "metadata": {},
     "output_type": "display_data"
    }
   ],
   "source": [
    "M1[ind]"
   ]
  },
  {
   "cell_type": "code",
   "execution_count": 42,
   "metadata": {
    "colab": {
     "base_uri": "https://localhost:8080/",
     "height": 34
    },
    "id": "m4DDikCTSqo2",
    "outputId": "5ea85d96-2c6d-48f6-f11d-88c94b56e835"
   },
   "outputs": [
    {
     "data": {
      "text/html": [
       "<style>\n",
       ".list-inline {list-style: none; margin:0; padding: 0}\n",
       ".list-inline>li {display: inline-block}\n",
       ".list-inline>li:not(:last-child)::after {content: \"\\00b7\"; padding: 0 .5ex}\n",
       "</style>\n",
       "<ol class=list-inline><li>6</li><li>7</li></ol>\n"
      ],
      "text/latex": [
       "\\begin{enumerate*}\n",
       "\\item 6\n",
       "\\item 7\n",
       "\\end{enumerate*}\n"
      ],
      "text/markdown": [
       "1. 6\n",
       "2. 7\n",
       "\n",
       "\n"
      ],
      "text/plain": [
       "[1] 6 7"
      ]
     },
     "metadata": {},
     "output_type": "display_data"
    }
   ],
   "source": [
    "# Podemos evaluar las casillas de una atriz mediante sentencias lógicas\n",
    "M1[M1 > 5]# Esto nos retorna los elementos de la matriz mayores a 5."
   ]
  },
  {
   "cell_type": "code",
   "execution_count": 44,
   "metadata": {
    "colab": {
     "base_uri": "https://localhost:8080/",
     "height": 147
    },
    "id": "EacRiYt3Uf9t",
    "outputId": "b8bfd4b9-3502-49ea-8abd-463b3c4d5046"
   },
   "outputs": [
    {
     "data": {
      "text/html": [
       "<table class=\"dataframe\">\n",
       "<caption>A matrix: 2 × 2 of type int</caption>\n",
       "<thead>\n",
       "\t<tr><th></th><th scope=col>row</th><th scope=col>col</th></tr>\n",
       "</thead>\n",
       "<tbody>\n",
       "\t<tr><th scope=row>f2</th><td>2</td><td>2</td></tr>\n",
       "\t<tr><th scope=row>f3</th><td>3</td><td>2</td></tr>\n",
       "</tbody>\n",
       "</table>\n"
      ],
      "text/latex": [
       "A matrix: 2 × 2 of type int\n",
       "\\begin{tabular}{r|ll}\n",
       "  & row & col\\\\\n",
       "\\hline\n",
       "\tf2 & 2 & 2\\\\\n",
       "\tf3 & 3 & 2\\\\\n",
       "\\end{tabular}\n"
      ],
      "text/markdown": [
       "\n",
       "A matrix: 2 × 2 of type int\n",
       "\n",
       "| <!--/--> | row | col |\n",
       "|---|---|---|\n",
       "| f2 | 2 | 2 |\n",
       "| f3 | 3 | 2 |\n",
       "\n"
      ],
      "text/plain": [
       "   row col\n",
       "f2 2   2  \n",
       "f3 3   2  "
      ]
     },
     "metadata": {},
     "output_type": "display_data"
    }
   ],
   "source": [
    "which(M1 > 5,arr.ind = TRUE)# Aprendimos algo nuevo! Gracias Néstor!"
   ]
  },
  {
   "cell_type": "markdown",
   "metadata": {
    "id": "DtKi8VpVSqo8"
   },
   "source": [
    "**Álgebra de matrices**\n",
    "\n",
    "Las operaciones suma (resta) y ponderación por escalar se llevan cabo mediante los mismos operadores utilizados para valores numéricos y vectores (+,-,*, /). Para multiplicar matrices en cambio, se utiliza el operador %*%, mientras que para invertirlas se utiliza la función solve(), t() para transponer y det() para el cálculo del determinante en el caso de matrices cuadradas."
   ]
  },
  {
   "cell_type": "code",
   "execution_count": 46,
   "metadata": {
    "colab": {
     "base_uri": "https://localhost:8080/",
     "height": 307
    },
    "id": "yxrjsz27Sqo8",
    "outputId": "a5574cec-e021-4af3-bb25-fba5a435a8f8"
   },
   "outputs": [
    {
     "data": {
      "text/html": [
       "<table class=\"dataframe\">\n",
       "<caption>A matrix: 3 × 2 of type int</caption>\n",
       "<thead>\n",
       "\t<tr><th></th><th scope=col>c1</th><th scope=col>c2</th></tr>\n",
       "</thead>\n",
       "<tbody>\n",
       "\t<tr><th scope=row>f1</th><td>1</td><td>5</td></tr>\n",
       "\t<tr><th scope=row>f2</th><td>2</td><td>6</td></tr>\n",
       "\t<tr><th scope=row>f3</th><td>3</td><td>7</td></tr>\n",
       "</tbody>\n",
       "</table>\n"
      ],
      "text/latex": [
       "A matrix: 3 × 2 of type int\n",
       "\\begin{tabular}{r|ll}\n",
       "  & c1 & c2\\\\\n",
       "\\hline\n",
       "\tf1 & 1 & 5\\\\\n",
       "\tf2 & 2 & 6\\\\\n",
       "\tf3 & 3 & 7\\\\\n",
       "\\end{tabular}\n"
      ],
      "text/markdown": [
       "\n",
       "A matrix: 3 × 2 of type int\n",
       "\n",
       "| <!--/--> | c1 | c2 |\n",
       "|---|---|---|\n",
       "| f1 | 1 | 5 |\n",
       "| f2 | 2 | 6 |\n",
       "| f3 | 3 | 7 |\n",
       "\n"
      ],
      "text/plain": [
       "   c1 c2\n",
       "f1 1  5 \n",
       "f2 2  6 \n",
       "f3 3  7 "
      ]
     },
     "metadata": {},
     "output_type": "display_data"
    },
    {
     "data": {
      "text/html": [
       "<table class=\"dataframe\">\n",
       "<caption>A matrix: 2 × 3 of type int</caption>\n",
       "<thead>\n",
       "\t<tr><th></th><th scope=col>f1</th><th scope=col>f2</th><th scope=col>f3</th></tr>\n",
       "</thead>\n",
       "<tbody>\n",
       "\t<tr><th scope=row>c1</th><td>1</td><td>2</td><td>3</td></tr>\n",
       "\t<tr><th scope=row>c2</th><td>5</td><td>6</td><td>7</td></tr>\n",
       "</tbody>\n",
       "</table>\n"
      ],
      "text/latex": [
       "A matrix: 2 × 3 of type int\n",
       "\\begin{tabular}{r|lll}\n",
       "  & f1 & f2 & f3\\\\\n",
       "\\hline\n",
       "\tc1 & 1 & 2 & 3\\\\\n",
       "\tc2 & 5 & 6 & 7\\\\\n",
       "\\end{tabular}\n"
      ],
      "text/markdown": [
       "\n",
       "A matrix: 2 × 3 of type int\n",
       "\n",
       "| <!--/--> | f1 | f2 | f3 |\n",
       "|---|---|---|---|\n",
       "| c1 | 1 | 2 | 3 |\n",
       "| c2 | 5 | 6 | 7 |\n",
       "\n"
      ],
      "text/plain": [
       "   f1 f2 f3\n",
       "c1 1  2  3 \n",
       "c2 5  6  7 "
      ]
     },
     "metadata": {},
     "output_type": "display_data"
    }
   ],
   "source": [
    "# transponer una matriz\n",
    "M1\n",
    "t(M1)"
   ]
  },
  {
   "cell_type": "code",
   "execution_count": 47,
   "metadata": {
    "colab": {
     "base_uri": "https://localhost:8080/",
     "height": 178
    },
    "id": "tSphDch3Sqo-",
    "outputId": "c6a81603-e2ee-4974-bea2-affdf814abd8"
   },
   "outputs": [
    {
     "data": {
      "text/html": [
       "<table class=\"dataframe\">\n",
       "<caption>A matrix: 3 × 2 of type int</caption>\n",
       "<thead>\n",
       "\t<tr><th></th><th scope=col>c1</th><th scope=col>c2</th></tr>\n",
       "</thead>\n",
       "<tbody>\n",
       "\t<tr><th scope=row>f1</th><td>2</td><td>10</td></tr>\n",
       "\t<tr><th scope=row>f2</th><td>4</td><td>12</td></tr>\n",
       "\t<tr><th scope=row>f3</th><td>6</td><td>14</td></tr>\n",
       "</tbody>\n",
       "</table>\n"
      ],
      "text/latex": [
       "A matrix: 3 × 2 of type int\n",
       "\\begin{tabular}{r|ll}\n",
       "  & c1 & c2\\\\\n",
       "\\hline\n",
       "\tf1 & 2 & 10\\\\\n",
       "\tf2 & 4 & 12\\\\\n",
       "\tf3 & 6 & 14\\\\\n",
       "\\end{tabular}\n"
      ],
      "text/markdown": [
       "\n",
       "A matrix: 3 × 2 of type int\n",
       "\n",
       "| <!--/--> | c1 | c2 |\n",
       "|---|---|---|\n",
       "| f1 | 2 | 10 |\n",
       "| f2 | 4 | 12 |\n",
       "| f3 | 6 | 14 |\n",
       "\n"
      ],
      "text/plain": [
       "   c1 c2\n",
       "f1 2  10\n",
       "f2 4  12\n",
       "f3 6  14"
      ]
     },
     "metadata": {},
     "output_type": "display_data"
    }
   ],
   "source": [
    "# 3.2 Álgbra de matrices  ------------\n",
    "# Ejemplo simple de álgebra de matrices\n",
    "M1+M1\n"
   ]
  },
  {
   "cell_type": "code",
   "execution_count": 49,
   "metadata": {
    "colab": {
     "base_uri": "https://localhost:8080/",
     "height": 307
    },
    "id": "crNocLSqSqpA",
    "outputId": "d9c35f18-1d44-4306-adf5-cbb7784ddaab"
   },
   "outputs": [
    {
     "data": {
      "text/html": [
       "<table class=\"dataframe\">\n",
       "<caption>A matrix: 3 × 2 of type int</caption>\n",
       "<thead>\n",
       "\t<tr><th></th><th scope=col>c1</th><th scope=col>c2</th></tr>\n",
       "</thead>\n",
       "<tbody>\n",
       "\t<tr><th scope=row>f1</th><td>1</td><td>25</td></tr>\n",
       "\t<tr><th scope=row>f2</th><td>4</td><td>36</td></tr>\n",
       "\t<tr><th scope=row>f3</th><td>9</td><td>49</td></tr>\n",
       "</tbody>\n",
       "</table>\n"
      ],
      "text/latex": [
       "A matrix: 3 × 2 of type int\n",
       "\\begin{tabular}{r|ll}\n",
       "  & c1 & c2\\\\\n",
       "\\hline\n",
       "\tf1 & 1 & 25\\\\\n",
       "\tf2 & 4 & 36\\\\\n",
       "\tf3 & 9 & 49\\\\\n",
       "\\end{tabular}\n"
      ],
      "text/markdown": [
       "\n",
       "A matrix: 3 × 2 of type int\n",
       "\n",
       "| <!--/--> | c1 | c2 |\n",
       "|---|---|---|\n",
       "| f1 | 1 | 25 |\n",
       "| f2 | 4 | 36 |\n",
       "| f3 | 9 | 49 |\n",
       "\n"
      ],
      "text/plain": [
       "   c1 c2\n",
       "f1 1  25\n",
       "f2 4  36\n",
       "f3 9  49"
      ]
     },
     "metadata": {},
     "output_type": "display_data"
    },
    {
     "data": {
      "text/html": [
       "<table class=\"dataframe\">\n",
       "<caption>A matrix: 3 × 3 of type dbl</caption>\n",
       "<tbody>\n",
       "\t<tr><th scope=row>f1</th><td>26</td><td>-493</td><td>38</td></tr>\n",
       "\t<tr><th scope=row>f2</th><td>32</td><td>-590</td><td>48</td></tr>\n",
       "\t<tr><th scope=row>f3</th><td>38</td><td>-687</td><td>58</td></tr>\n",
       "</tbody>\n",
       "</table>\n"
      ],
      "text/latex": [
       "A matrix: 3 × 3 of type dbl\n",
       "\\begin{tabular}{r|lll}\n",
       "\tf1 & 26 & -493 & 38\\\\\n",
       "\tf2 & 32 & -590 & 48\\\\\n",
       "\tf3 & 38 & -687 & 58\\\\\n",
       "\\end{tabular}\n"
      ],
      "text/markdown": [
       "\n",
       "A matrix: 3 × 3 of type dbl\n",
       "\n",
       "| f1 | 26 | -493 | 38 |\n",
       "| f2 | 32 | -590 | 48 |\n",
       "| f3 | 38 | -687 | 58 |\n",
       "\n"
      ],
      "text/plain": [
       "   [,1] [,2] [,3]\n",
       "f1 26   -493 38  \n",
       "f2 32   -590 48  \n",
       "f3 38   -687 58  "
      ]
     },
     "metadata": {},
     "output_type": "display_data"
    }
   ],
   "source": [
    "# Multiplicación de matrices\n",
    "M1 * M1 # multiplicación componente a componente\n",
    "\n",
    "M1 %*% M2# multiplación matricial"
   ]
  },
  {
   "cell_type": "code",
   "execution_count": 50,
   "metadata": {
    "colab": {
     "base_uri": "https://localhost:8080/",
     "height": 34
    },
    "id": "RdPKIzaySqpC",
    "outputId": "4b9e9225-df50-451f-b896-61cc98e0a58e"
   },
   "outputs": [
    {
     "data": {
      "text/html": [
       "0"
      ],
      "text/latex": [
       "0"
      ],
      "text/markdown": [
       "0"
      ],
      "text/plain": [
       "[1] 0"
      ]
     },
     "metadata": {},
     "output_type": "display_data"
    }
   ],
   "source": [
    "# podemos calcular determinantes\n",
    "# ?det\n",
    "det(M1 %*% M2)\n"
   ]
  },
  {
   "cell_type": "code",
   "execution_count": null,
   "metadata": {
    "id": "Tymq9t9NSqpH"
   },
   "outputs": [],
   "source": [
    "# Podemos invertir matrices\n",
    "# ?solve\n"
   ]
  }
 ],
 "metadata": {
  "colab": {
   "include_colab_link": true,
   "provenance": []
  },
  "kernelspec": {
   "display_name": "R",
   "language": "R",
   "name": "ir"
  },
  "language_info": {
   "codemirror_mode": "r",
   "file_extension": ".r",
   "mimetype": "text/x-r-source",
   "name": "R",
   "pygments_lexer": "r",
   "version": "4.3.0"
  }
 },
 "nbformat": 4,
 "nbformat_minor": 1
}
