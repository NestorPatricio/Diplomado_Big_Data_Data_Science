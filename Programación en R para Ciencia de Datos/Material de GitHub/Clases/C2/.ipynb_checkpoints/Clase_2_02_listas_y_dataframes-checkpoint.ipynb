{
 "cells": [
  {
   "cell_type": "markdown",
   "metadata": {
    "colab_type": "text",
    "id": "view-in-github"
   },
   "source": [
    "<a href=\"https://colab.research.google.com/github/majorquev/DBDC_202304_Programacion_en_R_para_ciencia_de_datos/blob/main/Clases/C2/Clase_2_02_listas_y_dataframes.ipynb\" target=\"_parent\"><img src=\"https://colab.research.google.com/assets/colab-badge.svg\" alt=\"Open In Colab\"/></a>"
   ]
  },
  {
   "cell_type": "markdown",
   "metadata": {
    "collapsed": true,
    "id": "fgQ2azLwTpRn"
   },
   "source": [
    "# Parte 1: Introducción a R (continuación)\n",
    "\n",
    "**Autor:** Miguel Jorquera Viguera<br>\n",
    "**E-mail:** majorquev@gmail.com<br>\n",
    "**Ayudante:** Rodrigo Morales <br>\n",
    "**E-mail ayudante:** rumorale1@gmail.com\n",
    "\n",
    "\n",
    "## 5. Listas y Dataframes\n",
    "\n",
    "### 5.1 Listas\n",
    "\n",
    "Hasta aquí contamos con dos tipos de objetos para almacenar datos; vectores y matrices. Sin embargo, en ambos casos se tiene la limitante de que no es posible combinar distintos tipos de datos en diferentes entradas. Un objeto que permite una mayor flexibilidad son las listas. En R, una lista es básicamente un arreglo unidimensional, donde en cada entrada es posible almacenar distintos **objetos** (los cuales a su vez pueden almacenar distintos tipos de datos (u otros objetos).\n",
    "En resumen,\n",
    "\n",
    "   * ¿Qué son?<br>\n",
    "    Arreglos unidimensionales que guardan distintos tipos de datos u objetos.<br>\n",
    "\n",
    "   * ¿Cómo se declaran?<br>\n",
    "    Se pueden declarar mediante el comando list() o combinando listas existentes. <br>\n",
    "    \n",
    "   * ¿Cómo se accede a sus elementos?<br>\n",
    "    Usando [ ] (retorna lista), o bien usando [ [ ] ] (retorna el objeto). \n",
    "    En cada caso se puede indicar la posición o nombre del objeto que se quiere rescatar.<br>\n",
    "    Otra manera es mediante el símbolo $ seguido del nombre del objeto.\n",
    "\n"
   ]
  },
  {
   "cell_type": "code",
   "execution_count": 1,
   "metadata": {
    "colab": {
     "base_uri": "https://localhost:8080/",
     "height": 34
    },
    "id": "VG1YIFPcWntM",
    "outputId": "da0fab89-02c3-4fce-df36-d21403c47dd3"
   },
   "outputs": [
    {
     "data": {
      "text/html": [
       "<style>\n",
       ".dl-inline {width: auto; margin:0; padding: 0}\n",
       ".dl-inline>dt, .dl-inline>dd {float: none; width: auto; display: inline-block}\n",
       ".dl-inline>dt::after {content: \":\\0020\"; padding-right: .5ex}\n",
       ".dl-inline>dt:not(:first-of-type) {padding-left: .5ex}\n",
       "</style><dl class=dl-inline><dt>a</dt><dd>1</dd><dt>b</dt><dd>4</dd><dt>c</dt><dd>5</dd></dl>\n"
      ],
      "text/latex": [
       "\\begin{description*}\n",
       "\\item[a] 1\n",
       "\\item[b] 4\n",
       "\\item[c] 5\n",
       "\\end{description*}\n"
      ],
      "text/markdown": [
       "a\n",
       ":   1b\n",
       ":   4c\n",
       ":   5\n",
       "\n"
      ],
      "text/plain": [
       "a b c \n",
       "1 4 5 "
      ]
     },
     "metadata": {},
     "output_type": "display_data"
    }
   ],
   "source": [
    "v <- c(a = 1, b=4,c = 5) # Recordar que podemos definir los elemntos de un vector con nombres\n",
    "v"
   ]
  },
  {
   "cell_type": "code",
   "execution_count": 3,
   "metadata": {
    "colab": {
     "base_uri": "https://localhost:8080/",
     "height": 52
    },
    "id": "fKcZCcrqW4cI",
    "outputId": "cab1f2d9-da9f-4aa9-9825-3f64e5648187"
   },
   "outputs": [
    {
     "data": {
      "text/html": [
       "<style>\n",
       ".list-inline {list-style: none; margin:0; padding: 0}\n",
       ".list-inline>li {display: inline-block}\n",
       ".list-inline>li:not(:last-child)::after {content: \"\\00b7\"; padding: 0 .5ex}\n",
       "</style>\n",
       "<ol class=list-inline><li>'a'</li><li>'b'</li><li>'c'</li><li>'d'</li><li>'e'</li><li>'f'</li><li>'g'</li><li>'h'</li><li>'i'</li><li>'j'</li><li>'k'</li><li>'l'</li><li>'m'</li><li>'n'</li><li>'o'</li><li>'p'</li><li>'q'</li><li>'r'</li><li>'s'</li><li>'t'</li><li>'u'</li><li>'v'</li><li>'w'</li><li>'x'</li><li>'y'</li><li>'z'</li></ol>\n"
      ],
      "text/latex": [
       "\\begin{enumerate*}\n",
       "\\item 'a'\n",
       "\\item 'b'\n",
       "\\item 'c'\n",
       "\\item 'd'\n",
       "\\item 'e'\n",
       "\\item 'f'\n",
       "\\item 'g'\n",
       "\\item 'h'\n",
       "\\item 'i'\n",
       "\\item 'j'\n",
       "\\item 'k'\n",
       "\\item 'l'\n",
       "\\item 'm'\n",
       "\\item 'n'\n",
       "\\item 'o'\n",
       "\\item 'p'\n",
       "\\item 'q'\n",
       "\\item 'r'\n",
       "\\item 's'\n",
       "\\item 't'\n",
       "\\item 'u'\n",
       "\\item 'v'\n",
       "\\item 'w'\n",
       "\\item 'x'\n",
       "\\item 'y'\n",
       "\\item 'z'\n",
       "\\end{enumerate*}\n"
      ],
      "text/markdown": [
       "1. 'a'\n",
       "2. 'b'\n",
       "3. 'c'\n",
       "4. 'd'\n",
       "5. 'e'\n",
       "6. 'f'\n",
       "7. 'g'\n",
       "8. 'h'\n",
       "9. 'i'\n",
       "10. 'j'\n",
       "11. 'k'\n",
       "12. 'l'\n",
       "13. 'm'\n",
       "14. 'n'\n",
       "15. 'o'\n",
       "16. 'p'\n",
       "17. 'q'\n",
       "18. 'r'\n",
       "19. 's'\n",
       "20. 't'\n",
       "21. 'u'\n",
       "22. 'v'\n",
       "23. 'w'\n",
       "24. 'x'\n",
       "25. 'y'\n",
       "26. 'z'\n",
       "\n",
       "\n"
      ],
      "text/plain": [
       " [1] \"a\" \"b\" \"c\" \"d\" \"e\" \"f\" \"g\" \"h\" \"i\" \"j\" \"k\" \"l\" \"m\" \"n\" \"o\" \"p\" \"q\" \"r\" \"s\"\n",
       "[20] \"t\" \"u\" \"v\" \"w\" \"x\" \"y\" \"z\""
      ]
     },
     "metadata": {},
     "output_type": "display_data"
    },
    {
     "data": {
      "text/html": [
       "<style>\n",
       ".list-inline {list-style: none; margin:0; padding: 0}\n",
       ".list-inline>li {display: inline-block}\n",
       ".list-inline>li:not(:last-child)::after {content: \"\\00b7\"; padding: 0 .5ex}\n",
       "</style>\n",
       "<ol class=list-inline><li>'A'</li><li>'B'</li><li>'C'</li><li>'D'</li><li>'E'</li><li>'F'</li><li>'G'</li><li>'H'</li><li>'I'</li><li>'J'</li><li>'K'</li><li>'L'</li><li>'M'</li><li>'N'</li><li>'O'</li><li>'P'</li><li>'Q'</li><li>'R'</li><li>'S'</li><li>'T'</li><li>'U'</li><li>'V'</li><li>'W'</li><li>'X'</li><li>'Y'</li><li>'Z'</li></ol>\n"
      ],
      "text/latex": [
       "\\begin{enumerate*}\n",
       "\\item 'A'\n",
       "\\item 'B'\n",
       "\\item 'C'\n",
       "\\item 'D'\n",
       "\\item 'E'\n",
       "\\item 'F'\n",
       "\\item 'G'\n",
       "\\item 'H'\n",
       "\\item 'I'\n",
       "\\item 'J'\n",
       "\\item 'K'\n",
       "\\item 'L'\n",
       "\\item 'M'\n",
       "\\item 'N'\n",
       "\\item 'O'\n",
       "\\item 'P'\n",
       "\\item 'Q'\n",
       "\\item 'R'\n",
       "\\item 'S'\n",
       "\\item 'T'\n",
       "\\item 'U'\n",
       "\\item 'V'\n",
       "\\item 'W'\n",
       "\\item 'X'\n",
       "\\item 'Y'\n",
       "\\item 'Z'\n",
       "\\end{enumerate*}\n"
      ],
      "text/markdown": [
       "1. 'A'\n",
       "2. 'B'\n",
       "3. 'C'\n",
       "4. 'D'\n",
       "5. 'E'\n",
       "6. 'F'\n",
       "7. 'G'\n",
       "8. 'H'\n",
       "9. 'I'\n",
       "10. 'J'\n",
       "11. 'K'\n",
       "12. 'L'\n",
       "13. 'M'\n",
       "14. 'N'\n",
       "15. 'O'\n",
       "16. 'P'\n",
       "17. 'Q'\n",
       "18. 'R'\n",
       "19. 'S'\n",
       "20. 'T'\n",
       "21. 'U'\n",
       "22. 'V'\n",
       "23. 'W'\n",
       "24. 'X'\n",
       "25. 'Y'\n",
       "26. 'Z'\n",
       "\n",
       "\n"
      ],
      "text/plain": [
       " [1] \"A\" \"B\" \"C\" \"D\" \"E\" \"F\" \"G\" \"H\" \"I\" \"J\" \"K\" \"L\" \"M\" \"N\" \"O\" \"P\" \"Q\" \"R\" \"S\"\n",
       "[20] \"T\" \"U\" \"V\" \"W\" \"X\" \"Y\" \"Z\""
      ]
     },
     "metadata": {},
     "output_type": "display_data"
    }
   ],
   "source": [
    "#tip\n",
    "letters\n",
    "LETTERS"
   ]
  },
  {
   "cell_type": "code",
   "execution_count": null,
   "metadata": {
    "id": "Ao1wFCByTpRx"
   },
   "outputs": [],
   "source": [
    "# Podemos guardar los objetos en slots con nombres\n"
   ]
  },
  {
   "cell_type": "code",
   "execution_count": 4,
   "metadata": {
    "id": "zZHpLzzRTpRp"
   },
   "outputs": [],
   "source": [
    "# 5. Listas y dataframes ------------\n",
    "# 5.1 Listas  ------------\n",
    "# Cómo declarar una lista (comando list() )\n",
    "#num,letra, pl, mat, lista\n",
    "l1 <- list(num = 10\n",
    ",\n",
    "           letra = c(\"a\",\"b\"),\n",
    "           pl = \"hola soy una frase\",\n",
    "           mat = diag(1:3),\n",
    "           lista = list(100, c(T,F)))"
   ]
  },
  {
   "cell_type": "code",
   "execution_count": 5,
   "metadata": {
    "colab": {
     "base_uri": "https://localhost:8080/",
     "height": 379
    },
    "id": "jT_l2TN0XQ5w",
    "outputId": "9f51321c-ae36-4828-ed05-8a3c82ffcdf6"
   },
   "outputs": [
    {
     "data": {
      "text/html": [
       "<dl>\n",
       "\t<dt>$num</dt>\n",
       "\t\t<dd>10</dd>\n",
       "\t<dt>$letra</dt>\n",
       "\t\t<dd><style>\n",
       ".list-inline {list-style: none; margin:0; padding: 0}\n",
       ".list-inline>li {display: inline-block}\n",
       ".list-inline>li:not(:last-child)::after {content: \"\\00b7\"; padding: 0 .5ex}\n",
       "</style>\n",
       "<ol class=list-inline><li>'a'</li><li>'b'</li></ol>\n",
       "</dd>\n",
       "\t<dt>$pl</dt>\n",
       "\t\t<dd>'hola soy una frase'</dd>\n",
       "\t<dt>$mat</dt>\n",
       "\t\t<dd><table class=\"dataframe\">\n",
       "<caption>A matrix: 3 × 3 of type int</caption>\n",
       "<tbody>\n",
       "\t<tr><td>1</td><td>0</td><td>0</td></tr>\n",
       "\t<tr><td>0</td><td>2</td><td>0</td></tr>\n",
       "\t<tr><td>0</td><td>0</td><td>3</td></tr>\n",
       "</tbody>\n",
       "</table>\n",
       "</dd>\n",
       "\t<dt>$lista</dt>\n",
       "\t\t<dd><ol>\n",
       "\t<li>100</li>\n",
       "\t<li><style>\n",
       ".list-inline {list-style: none; margin:0; padding: 0}\n",
       ".list-inline>li {display: inline-block}\n",
       ".list-inline>li:not(:last-child)::after {content: \"\\00b7\"; padding: 0 .5ex}\n",
       "</style>\n",
       "<ol class=list-inline><li>TRUE</li><li>FALSE</li></ol>\n",
       "</li>\n",
       "</ol>\n",
       "</dd>\n",
       "</dl>\n"
      ],
      "text/latex": [
       "\\begin{description}\n",
       "\\item[\\$num] 10\n",
       "\\item[\\$letra] \\begin{enumerate*}\n",
       "\\item 'a'\n",
       "\\item 'b'\n",
       "\\end{enumerate*}\n",
       "\n",
       "\\item[\\$pl] 'hola soy una frase'\n",
       "\\item[\\$mat] A matrix: 3 × 3 of type int\n",
       "\\begin{tabular}{lll}\n",
       "\t 1 & 0 & 0\\\\\n",
       "\t 0 & 2 & 0\\\\\n",
       "\t 0 & 0 & 3\\\\\n",
       "\\end{tabular}\n",
       "\n",
       "\\item[\\$lista] \\begin{enumerate}\n",
       "\\item 100\n",
       "\\item \\begin{enumerate*}\n",
       "\\item TRUE\n",
       "\\item FALSE\n",
       "\\end{enumerate*}\n",
       "\n",
       "\\end{enumerate}\n",
       "\n",
       "\\end{description}\n"
      ],
      "text/markdown": [
       "$num\n",
       ":   10\n",
       "$letra\n",
       ":   1. 'a'\n",
       "2. 'b'\n",
       "\n",
       "\n",
       "\n",
       "$pl\n",
       ":   'hola soy una frase'\n",
       "$mat\n",
       ":   \n",
       "A matrix: 3 × 3 of type int\n",
       "\n",
       "| 1 | 0 | 0 |\n",
       "| 0 | 2 | 0 |\n",
       "| 0 | 0 | 3 |\n",
       "\n",
       "\n",
       "$lista\n",
       ":   1. 100\n",
       "2. 1. TRUE\n",
       "2. FALSE\n",
       "\n",
       "\n",
       "\n",
       "\n",
       "\n",
       "\n",
       "\n",
       "\n"
      ],
      "text/plain": [
       "$num\n",
       "[1] 10\n",
       "\n",
       "$letra\n",
       "[1] \"a\" \"b\"\n",
       "\n",
       "$pl\n",
       "[1] \"hola soy una frase\"\n",
       "\n",
       "$mat\n",
       "     [,1] [,2] [,3]\n",
       "[1,]    1    0    0\n",
       "[2,]    0    2    0\n",
       "[3,]    0    0    3\n",
       "\n",
       "$lista\n",
       "$lista[[1]]\n",
       "[1] 100\n",
       "\n",
       "$lista[[2]]\n",
       "[1]  TRUE FALSE\n",
       "\n"
      ]
     },
     "metadata": {},
     "output_type": "display_data"
    }
   ],
   "source": [
    "l1"
   ]
  },
  {
   "cell_type": "code",
   "execution_count": 6,
   "metadata": {
    "colab": {
     "base_uri": "https://localhost:8080/"
    },
    "id": "_iwOQA-xTzww",
    "outputId": "b0ccf2f4-2007-4dc9-b3cc-1e4e27e8a56c"
   },
   "outputs": [
    {
     "name": "stdout",
     "output_type": "stream",
     "text": [
      "List of 5\n",
      " $ num  : num 10\n",
      " $ letra: chr [1:2] \"a\" \"b\"\n",
      " $ pl   : chr \"hola soy una frase\"\n",
      " $ mat  : int [1:3, 1:3] 1 0 0 0 2 0 0 0 3\n",
      " $ lista:List of 2\n",
      "  ..$ : num 100\n",
      "  ..$ : logi [1:2] TRUE FALSE\n"
     ]
    }
   ],
   "source": [
    "# estructura\n",
    "str(l1)"
   ]
  },
  {
   "cell_type": "code",
   "execution_count": 7,
   "metadata": {
    "colab": {
     "base_uri": "https://localhost:8080/",
     "height": 34
    },
    "id": "Ps-7oV3HXtqK",
    "outputId": "064e1865-2590-4f30-a682-5ef1d803f639"
   },
   "outputs": [
    {
     "data": {
      "text/html": [
       "5"
      ],
      "text/latex": [
       "5"
      ],
      "text/markdown": [
       "5"
      ],
      "text/plain": [
       "[1] 5"
      ]
     },
     "metadata": {},
     "output_type": "display_data"
    }
   ],
   "source": [
    "length(l1)"
   ]
  },
  {
   "cell_type": "code",
   "execution_count": 8,
   "metadata": {
    "colab": {
     "base_uri": "https://localhost:8080/"
    },
    "id": "GBuxGL4cTpR0",
    "outputId": "48aa6e75-7366-40e9-9e33-7c2b0c8c855d"
   },
   "outputs": [
    {
     "name": "stdout",
     "output_type": "stream",
     "text": [
      "List of 2\n",
      " $ prim: int [1:2] 1 2\n",
      " $ seg : chr [1:26] \"A\" \"B\" \"C\" \"D\" ...\n"
     ]
    }
   ],
   "source": [
    "# Podemos combinar listas\n",
    "l2 <- list(prim = 1:2,\n",
    "           seg = LETTERS)\n",
    "\n",
    "str(l2)\n",
    "\n"
   ]
  },
  {
   "cell_type": "code",
   "execution_count": 9,
   "metadata": {
    "colab": {
     "base_uri": "https://localhost:8080/"
    },
    "id": "r99GPAOtYI0y",
    "outputId": "fedbd927-587a-4c3f-bbc0-c2497c3a7ec3"
   },
   "outputs": [
    {
     "name": "stdout",
     "output_type": "stream",
     "text": [
      "List of 7\n",
      " $ num  : num 10\n",
      " $ letra: chr [1:2] \"a\" \"b\"\n",
      " $ pl   : chr \"hola soy una frase\"\n",
      " $ mat  : int [1:3, 1:3] 1 0 0 0 2 0 0 0 3\n",
      " $ lista:List of 2\n",
      "  ..$ : num 100\n",
      "  ..$ : logi [1:2] TRUE FALSE\n",
      " $ prim : int [1:2] 1 2\n",
      " $ seg  : chr [1:26] \"A\" \"B\" \"C\" \"D\" ...\n"
     ]
    }
   ],
   "source": [
    "# Combinamos las dos listas (l1,l2)\n",
    "l3 <- c(l1,l2)\n",
    "str(l3)"
   ]
  },
  {
   "cell_type": "code",
   "execution_count": 10,
   "metadata": {
    "colab": {
     "base_uri": "https://localhost:8080/",
     "height": 180
    },
    "id": "uUv7BQfnTpR3",
    "outputId": "edca2762-217a-4e15-a017-da820242249c"
   },
   "outputs": [
    {
     "data": {
      "text/html": [
       "<strong>$mat</strong> = <table class=\"dataframe\">\n",
       "<caption>A matrix: 3 × 3 of type int</caption>\n",
       "<tbody>\n",
       "\t<tr><td>1</td><td>0</td><td>0</td></tr>\n",
       "\t<tr><td>0</td><td>2</td><td>0</td></tr>\n",
       "\t<tr><td>0</td><td>0</td><td>3</td></tr>\n",
       "</tbody>\n",
       "</table>\n"
      ],
      "text/latex": [
       "\\textbf{\\$mat} = A matrix: 3 × 3 of type int\n",
       "\\begin{tabular}{lll}\n",
       "\t 1 & 0 & 0\\\\\n",
       "\t 0 & 2 & 0\\\\\n",
       "\t 0 & 0 & 3\\\\\n",
       "\\end{tabular}\n"
      ],
      "text/markdown": [
       "**$mat** = \n",
       "A matrix: 3 × 3 of type int\n",
       "\n",
       "| 1 | 0 | 0 |\n",
       "| 0 | 2 | 0 |\n",
       "| 0 | 0 | 3 |\n",
       "\n"
      ],
      "text/plain": [
       "$mat\n",
       "     [,1] [,2] [,3]\n",
       "[1,]    1    0    0\n",
       "[2,]    0    2    0\n",
       "[3,]    0    0    3\n"
      ]
     },
     "metadata": {},
     "output_type": "display_data"
    }
   ],
   "source": [
    "# Acceso mediante posición\n",
    "# Queremos rescatar el elemtno de pos 4\n",
    "\n",
    "l3[4]# Esto retorna un lista con el elemento"
   ]
  },
  {
   "cell_type": "code",
   "execution_count": 11,
   "metadata": {
    "colab": {
     "base_uri": "https://localhost:8080/"
    },
    "id": "NgkIgof_Y3-M",
    "outputId": "f0f3db86-9f10-4ec2-9322-6d7dde441cb0"
   },
   "outputs": [
    {
     "name": "stdout",
     "output_type": "stream",
     "text": [
      "List of 1\n",
      " $ mat: int [1:3, 1:3] 1 0 0 0 2 0 0 0 3\n"
     ]
    }
   ],
   "source": [
    "str(l3[4])"
   ]
  },
  {
   "cell_type": "code",
   "execution_count": 12,
   "metadata": {
    "colab": {
     "base_uri": "https://localhost:8080/",
     "height": 243
    },
    "id": "L3RDKUqOTpR5",
    "outputId": "b34b14e7-f1e7-43c0-817b-136ce6637b4e"
   },
   "outputs": [
    {
     "data": {
      "text/html": [
       "<dl>\n",
       "\t<dt>$letra</dt>\n",
       "\t\t<dd><style>\n",
       ".list-inline {list-style: none; margin:0; padding: 0}\n",
       ".list-inline>li {display: inline-block}\n",
       ".list-inline>li:not(:last-child)::after {content: \"\\00b7\"; padding: 0 .5ex}\n",
       "</style>\n",
       "<ol class=list-inline><li>'a'</li><li>'b'</li></ol>\n",
       "</dd>\n",
       "\t<dt>$mat</dt>\n",
       "\t\t<dd><table class=\"dataframe\">\n",
       "<caption>A matrix: 3 × 3 of type int</caption>\n",
       "<tbody>\n",
       "\t<tr><td>1</td><td>0</td><td>0</td></tr>\n",
       "\t<tr><td>0</td><td>2</td><td>0</td></tr>\n",
       "\t<tr><td>0</td><td>0</td><td>3</td></tr>\n",
       "</tbody>\n",
       "</table>\n",
       "</dd>\n",
       "</dl>\n"
      ],
      "text/latex": [
       "\\begin{description}\n",
       "\\item[\\$letra] \\begin{enumerate*}\n",
       "\\item 'a'\n",
       "\\item 'b'\n",
       "\\end{enumerate*}\n",
       "\n",
       "\\item[\\$mat] A matrix: 3 × 3 of type int\n",
       "\\begin{tabular}{lll}\n",
       "\t 1 & 0 & 0\\\\\n",
       "\t 0 & 2 & 0\\\\\n",
       "\t 0 & 0 & 3\\\\\n",
       "\\end{tabular}\n",
       "\n",
       "\\end{description}\n"
      ],
      "text/markdown": [
       "$letra\n",
       ":   1. 'a'\n",
       "2. 'b'\n",
       "\n",
       "\n",
       "\n",
       "$mat\n",
       ":   \n",
       "A matrix: 3 × 3 of type int\n",
       "\n",
       "| 1 | 0 | 0 |\n",
       "| 0 | 2 | 0 |\n",
       "| 0 | 0 | 3 |\n",
       "\n",
       "\n",
       "\n",
       "\n"
      ],
      "text/plain": [
       "$letra\n",
       "[1] \"a\" \"b\"\n",
       "\n",
       "$mat\n",
       "     [,1] [,2] [,3]\n",
       "[1,]    1    0    0\n",
       "[2,]    0    2    0\n",
       "[3,]    0    0    3\n"
      ]
     },
     "metadata": {},
     "output_type": "display_data"
    }
   ],
   "source": [
    "l3[c(2,4)]# Retorna una lista con los elemtnos de pos 2  y 4"
   ]
  },
  {
   "cell_type": "code",
   "execution_count": 13,
   "metadata": {
    "colab": {
     "base_uri": "https://localhost:8080/",
     "height": 52
    },
    "id": "QbQ8QHARTpR7",
    "outputId": "2b927099-1670-4196-dae2-c9f63dae0268"
   },
   "outputs": [
    {
     "data": {
      "text/html": [
       "<strong>$num</strong> = 10"
      ],
      "text/latex": [
       "\\textbf{\\$num} = 10"
      ],
      "text/markdown": [
       "**$num** = 10"
      ],
      "text/plain": [
       "$num\n",
       "[1] 10\n"
      ]
     },
     "metadata": {},
     "output_type": "display_data"
    },
    {
     "data": {
      "text/html": [
       "10"
      ],
      "text/latex": [
       "10"
      ],
      "text/markdown": [
       "10"
      ],
      "text/plain": [
       "[1] 10"
      ]
     },
     "metadata": {},
     "output_type": "display_data"
    }
   ],
   "source": [
    "# NOTA lista[.] retorna un lista con un elemento,\n",
    "# lista[[.]] retorna el elmento de la lista lista[.]\n",
    "l3[1]# Esto es una lista\n",
    "l3[[1]]# Esto es el objeto al interior de la lista\n"
   ]
  },
  {
   "cell_type": "code",
   "execution_count": null,
   "metadata": {
    "colab": {
     "base_uri": "https://localhost:8080/",
     "height": 34
    },
    "id": "5obOTjhJZhgf",
    "outputId": "175bbbe7-38fe-4d6d-e1f1-a1c67added78"
   },
   "outputs": [
    {
     "data": {
      "text/html": [
       "15"
      ],
      "text/latex": [
       "15"
      ],
      "text/markdown": [
       "15"
      ],
      "text/plain": [
       "[1] 15"
      ]
     },
     "metadata": {},
     "output_type": "display_data"
    }
   ],
   "source": [
    "#Ahora si\n",
    "l3[[1]] + 5"
   ]
  },
  {
   "cell_type": "code",
   "execution_count": null,
   "metadata": {
    "colab": {
     "base_uri": "https://localhost:8080/"
    },
    "id": "wpkesJL9ZpTW",
    "outputId": "3f335ea2-d3f3-45d7-f69b-22a21e39cc7e"
   },
   "outputs": [
    {
     "name": "stdout",
     "output_type": "stream",
     "text": [
      "List of 7\n",
      " $ num  : num 10\n",
      " $ letra: chr [1:2] \"a\" \"b\"\n",
      " $ pl   : chr \"hola soy una frase\"\n",
      " $ mat  : int [1:3, 1:3] 1 0 0 0 2 0 0 0 3\n",
      " $ lista:List of 2\n",
      "  ..$ : num 100\n",
      "  ..$ : logi [1:2] TRUE FALSE\n",
      " $ prim : int [1:2] 1 2\n",
      " $ seg  : chr [1:26] \"A\" \"B\" \"C\" \"D\" ...\n"
     ]
    }
   ],
   "source": [
    "str(l3)"
   ]
  },
  {
   "cell_type": "code",
   "execution_count": 14,
   "metadata": {
    "colab": {
     "base_uri": "https://localhost:8080/",
     "height": 34
    },
    "id": "kaOJqYJETpSC",
    "outputId": "be25b2b4-9260-49a8-af32-6a1dddf8d37f"
   },
   "outputs": [
    {
     "data": {
      "text/html": [
       "'J'"
      ],
      "text/latex": [
       "'J'"
      ],
      "text/markdown": [
       "'J'"
      ],
      "text/plain": [
       "[1] \"J\""
      ]
     },
     "metadata": {},
     "output_type": "display_data"
    }
   ],
   "source": [
    "# Del vector que está en la pos 7 de l3, quiero la décima letra.\n",
    "l3[[7]][10]\n"
   ]
  },
  {
   "cell_type": "code",
   "execution_count": 15,
   "metadata": {
    "colab": {
     "base_uri": "https://localhost:8080/",
     "height": 97
    },
    "id": "UZ4k5DQ9TpSE",
    "outputId": "b1ca565e-accf-42bf-acb8-424a4a31cc43"
   },
   "outputs": [
    {
     "data": {
      "text/html": [
       "<strong>$lista</strong> = <ol>\n",
       "\t<li>100</li>\n",
       "\t<li><style>\n",
       ".list-inline {list-style: none; margin:0; padding: 0}\n",
       ".list-inline>li {display: inline-block}\n",
       ".list-inline>li:not(:last-child)::after {content: \"\\00b7\"; padding: 0 .5ex}\n",
       "</style>\n",
       "<ol class=list-inline><li>TRUE</li><li>FALSE</li></ol>\n",
       "</li>\n",
       "</ol>\n"
      ],
      "text/latex": [
       "\\textbf{\\$lista} = \\begin{enumerate}\n",
       "\\item 100\n",
       "\\item \\begin{enumerate*}\n",
       "\\item TRUE\n",
       "\\item FALSE\n",
       "\\end{enumerate*}\n",
       "\n",
       "\\end{enumerate}\n"
      ],
      "text/markdown": [
       "**$lista** = 1. 100\n",
       "2. 1. TRUE\n",
       "2. FALSE\n",
       "\n",
       "\n",
       "\n",
       "\n",
       "\n"
      ],
      "text/plain": [
       "$lista\n",
       "$lista[[1]]\n",
       "[1] 100\n",
       "\n",
       "$lista[[2]]\n",
       "[1]  TRUE FALSE\n",
       "\n"
      ]
     },
     "metadata": {},
     "output_type": "display_data"
    }
   ],
   "source": [
    "# De la lista que está en la pos 5, quiero el segundo elemento del vector de la segunda entrada\n",
    "l3[5] # esta es la lista con la lista del slot 5\n"
   ]
  },
  {
   "cell_type": "code",
   "execution_count": 16,
   "metadata": {
    "colab": {
     "base_uri": "https://localhost:8080/",
     "height": 80
    },
    "id": "evLMt11fa2Wn",
    "outputId": "864df27f-42ef-4de4-891f-a4554603178d"
   },
   "outputs": [
    {
     "data": {
      "text/html": [
       "<ol>\n",
       "\t<li>100</li>\n",
       "\t<li><style>\n",
       ".list-inline {list-style: none; margin:0; padding: 0}\n",
       ".list-inline>li {display: inline-block}\n",
       ".list-inline>li:not(:last-child)::after {content: \"\\00b7\"; padding: 0 .5ex}\n",
       "</style>\n",
       "<ol class=list-inline><li>TRUE</li><li>FALSE</li></ol>\n",
       "</li>\n",
       "</ol>\n"
      ],
      "text/latex": [
       "\\begin{enumerate}\n",
       "\\item 100\n",
       "\\item \\begin{enumerate*}\n",
       "\\item TRUE\n",
       "\\item FALSE\n",
       "\\end{enumerate*}\n",
       "\n",
       "\\end{enumerate}\n"
      ],
      "text/markdown": [
       "1. 100\n",
       "2. 1. TRUE\n",
       "2. FALSE\n",
       "\n",
       "\n",
       "\n",
       "\n",
       "\n"
      ],
      "text/plain": [
       "[[1]]\n",
       "[1] 100\n",
       "\n",
       "[[2]]\n",
       "[1]  TRUE FALSE\n"
      ]
     },
     "metadata": {},
     "output_type": "display_data"
    }
   ],
   "source": [
    "l3[[5]]# esta es la lista guardada en el slot 5"
   ]
  },
  {
   "cell_type": "code",
   "execution_count": 17,
   "metadata": {
    "colab": {
     "base_uri": "https://localhost:8080/",
     "height": 34
    },
    "id": "HaNx5TvIa934",
    "outputId": "a19e5705-7767-4054-c667-515828697c1f"
   },
   "outputs": [
    {
     "data": {
      "text/html": [
       "<style>\n",
       ".list-inline {list-style: none; margin:0; padding: 0}\n",
       ".list-inline>li {display: inline-block}\n",
       ".list-inline>li:not(:last-child)::after {content: \"\\00b7\"; padding: 0 .5ex}\n",
       "</style>\n",
       "<ol class=list-inline><li>TRUE</li><li>FALSE</li></ol>\n"
      ],
      "text/latex": [
       "\\begin{enumerate*}\n",
       "\\item TRUE\n",
       "\\item FALSE\n",
       "\\end{enumerate*}\n"
      ],
      "text/markdown": [
       "1. TRUE\n",
       "2. FALSE\n",
       "\n",
       "\n"
      ],
      "text/plain": [
       "[1]  TRUE FALSE"
      ]
     },
     "metadata": {},
     "output_type": "display_data"
    }
   ],
   "source": [
    "l3[[5]][[2]]# Es el vector que está en la segunda pos de la lista l3[[5]]"
   ]
  },
  {
   "cell_type": "code",
   "execution_count": 18,
   "metadata": {
    "colab": {
     "base_uri": "https://localhost:8080/",
     "height": 34
    },
    "id": "ihe8zazvbHyX",
    "outputId": "907c83e4-ae13-4392-e825-5f23f835abba"
   },
   "outputs": [
    {
     "data": {
      "text/html": [
       "FALSE"
      ],
      "text/latex": [
       "FALSE"
      ],
      "text/markdown": [
       "FALSE"
      ],
      "text/plain": [
       "[1] FALSE"
      ]
     },
     "metadata": {},
     "output_type": "display_data"
    }
   ],
   "source": [
    "l3[[5]][[2]][2]# Es segundo elmento del vector l3[[5]][[2]]"
   ]
  },
  {
   "cell_type": "code",
   "execution_count": 19,
   "metadata": {
    "colab": {
     "base_uri": "https://localhost:8080/"
    },
    "id": "qQjw7GWcbWQZ",
    "outputId": "d28e36b9-932f-4549-eaff-c5b942ae6a34"
   },
   "outputs": [
    {
     "name": "stdout",
     "output_type": "stream",
     "text": [
      "List of 7\n",
      " $ num  : num 10\n",
      " $ letra: chr [1:2] \"a\" \"b\"\n",
      " $ pl   : chr \"hola soy una frase\"\n",
      " $ mat  : int [1:3, 1:3] 1 0 0 0 2 0 0 0 3\n",
      " $ lista:List of 2\n",
      "  ..$ : num 100\n",
      "  ..$ : logi [1:2] TRUE FALSE\n",
      " $ prim : int [1:2] 1 2\n",
      " $ seg  : chr [1:26] \"A\" \"B\" \"C\" \"D\" ...\n"
     ]
    }
   ],
   "source": [
    "str(l3)"
   ]
  },
  {
   "cell_type": "code",
   "execution_count": 20,
   "metadata": {
    "colab": {
     "base_uri": "https://localhost:8080/",
     "height": 34
    },
    "id": "jYFKb27-TpSG",
    "outputId": "ce3872ce-4696-45b1-e9be-24b9202f0d89"
   },
   "outputs": [
    {
     "data": {
      "text/html": [
       "FALSE"
      ],
      "text/latex": [
       "FALSE"
      ],
      "text/markdown": [
       "FALSE"
      ],
      "text/plain": [
       "[1] FALSE"
      ]
     },
     "metadata": {},
     "output_type": "display_data"
    }
   ],
   "source": [
    "# Acceso mediante nombre\n",
    "\n",
    "l3[[\"lista\"]][[2]][2]"
   ]
  },
  {
   "cell_type": "code",
   "execution_count": null,
   "metadata": {
    "id": "ANfY2M7hbm_w"
   },
   "outputs": [],
   "source": []
  },
  {
   "cell_type": "code",
   "execution_count": 21,
   "metadata": {
    "colab": {
     "base_uri": "https://localhost:8080/",
     "height": 180
    },
    "id": "9Aij-cPFbb-Y",
    "outputId": "34243971-be49-4eaf-bc99-48508bd4359a"
   },
   "outputs": [
    {
     "data": {
      "text/html": [
       "<strong>$mat</strong> = <table class=\"dataframe\">\n",
       "<caption>A matrix: 3 × 3 of type int</caption>\n",
       "<tbody>\n",
       "\t<tr><td>1</td><td>0</td><td>0</td></tr>\n",
       "\t<tr><td>0</td><td>2</td><td>0</td></tr>\n",
       "\t<tr><td>0</td><td>0</td><td>3</td></tr>\n",
       "</tbody>\n",
       "</table>\n"
      ],
      "text/latex": [
       "\\textbf{\\$mat} = A matrix: 3 × 3 of type int\n",
       "\\begin{tabular}{lll}\n",
       "\t 1 & 0 & 0\\\\\n",
       "\t 0 & 2 & 0\\\\\n",
       "\t 0 & 0 & 3\\\\\n",
       "\\end{tabular}\n"
      ],
      "text/markdown": [
       "**$mat** = \n",
       "A matrix: 3 × 3 of type int\n",
       "\n",
       "| 1 | 0 | 0 |\n",
       "| 0 | 2 | 0 |\n",
       "| 0 | 0 | 3 |\n",
       "\n"
      ],
      "text/plain": [
       "$mat\n",
       "     [,1] [,2] [,3]\n",
       "[1,]    1    0    0\n",
       "[2,]    0    2    0\n",
       "[3,]    0    0    3\n"
      ]
     },
     "metadata": {},
     "output_type": "display_data"
    }
   ],
   "source": [
    "l3[\"mat\"]# lista con la matriz\n"
   ]
  },
  {
   "cell_type": "code",
   "execution_count": 22,
   "metadata": {
    "colab": {
     "base_uri": "https://localhost:8080/",
     "height": 163
    },
    "id": "I0LI2tPtbnuR",
    "outputId": "bbccb5bf-0fdb-43ee-daa0-560cb1225a2d"
   },
   "outputs": [
    {
     "data": {
      "text/html": [
       "<table class=\"dataframe\">\n",
       "<caption>A matrix: 3 × 3 of type int</caption>\n",
       "<tbody>\n",
       "\t<tr><td>1</td><td>0</td><td>0</td></tr>\n",
       "\t<tr><td>0</td><td>2</td><td>0</td></tr>\n",
       "\t<tr><td>0</td><td>0</td><td>3</td></tr>\n",
       "</tbody>\n",
       "</table>\n"
      ],
      "text/latex": [
       "A matrix: 3 × 3 of type int\n",
       "\\begin{tabular}{lll}\n",
       "\t 1 & 0 & 0\\\\\n",
       "\t 0 & 2 & 0\\\\\n",
       "\t 0 & 0 & 3\\\\\n",
       "\\end{tabular}\n"
      ],
      "text/markdown": [
       "\n",
       "A matrix: 3 × 3 of type int\n",
       "\n",
       "| 1 | 0 | 0 |\n",
       "| 0 | 2 | 0 |\n",
       "| 0 | 0 | 3 |\n",
       "\n"
      ],
      "text/plain": [
       "     [,1] [,2] [,3]\n",
       "[1,] 1    0    0   \n",
       "[2,] 0    2    0   \n",
       "[3,] 0    0    3   "
      ]
     },
     "metadata": {},
     "output_type": "display_data"
    }
   ],
   "source": [
    "l3[[\"mat\"]]# Matriz"
   ]
  },
  {
   "cell_type": "code",
   "execution_count": null,
   "metadata": {
    "colab": {
     "base_uri": "https://localhost:8080/",
     "height": 163
    },
    "id": "a9UBaNOuTpSI",
    "outputId": "52d0c1c1-47de-46e0-b01e-6484cf978e05"
   },
   "outputs": [
    {
     "data": {
      "text/html": [
       "<table class=\"dataframe\">\n",
       "<caption>A matrix: 3 × 3 of type int</caption>\n",
       "<tbody>\n",
       "\t<tr><td>1</td><td>0</td><td>0</td></tr>\n",
       "\t<tr><td>0</td><td>2</td><td>0</td></tr>\n",
       "\t<tr><td>0</td><td>0</td><td>3</td></tr>\n",
       "</tbody>\n",
       "</table>\n"
      ],
      "text/latex": [
       "A matrix: 3 × 3 of type int\n",
       "\\begin{tabular}{lll}\n",
       "\t 1 & 0 & 0\\\\\n",
       "\t 0 & 2 & 0\\\\\n",
       "\t 0 & 0 & 3\\\\\n",
       "\\end{tabular}\n"
      ],
      "text/markdown": [
       "\n",
       "A matrix: 3 × 3 of type int\n",
       "\n",
       "| 1 | 0 | 0 |\n",
       "| 0 | 2 | 0 |\n",
       "| 0 | 0 | 3 |\n",
       "\n"
      ],
      "text/plain": [
       "     [,1] [,2] [,3]\n",
       "[1,] 1    0    0   \n",
       "[2,] 0    2    0   \n",
       "[3,] 0    0    3   "
      ]
     },
     "metadata": {},
     "output_type": "display_data"
    }
   ],
   "source": [
    "# acceso vía \"$\"\n",
    "l3$mat# Es equivalente a l3[[\"mat\"]]  o l3[[4]]\n",
    "\n",
    "\n"
   ]
  },
  {
   "cell_type": "code",
   "execution_count": 1,
   "metadata": {
    "id": "aknx89ujcEc3"
   },
   "outputs": [],
   "source": [
    "l4 <- list(a = list(x = 1, y =2),\n",
    "           b = list(w = 8, z = list(q = 10)),\n",
    "           b = \"X\")"
   ]
  },
  {
   "cell_type": "code",
   "execution_count": 3,
   "metadata": {},
   "outputs": [
    {
     "data": {
      "text/html": [
       "<dl>\n",
       "\t<dt>$a</dt>\n",
       "\t\t<dd><dl>\n",
       "\t<dt>$x</dt>\n",
       "\t\t<dd>1</dd>\n",
       "\t<dt>$y</dt>\n",
       "\t\t<dd>2</dd>\n",
       "</dl>\n",
       "</dd>\n",
       "\t<dt>$b</dt>\n",
       "\t\t<dd><dl>\n",
       "\t<dt>$w</dt>\n",
       "\t\t<dd>8</dd>\n",
       "\t<dt>$z</dt>\n",
       "\t\t<dd><strong>$q</strong> = 10</dd>\n",
       "</dl>\n",
       "</dd>\n",
       "\t<dt>$b</dt>\n",
       "\t\t<dd>'X'</dd>\n",
       "</dl>\n"
      ],
      "text/latex": [
       "\\begin{description}\n",
       "\\item[\\$a] \\begin{description}\n",
       "\\item[\\$x] 1\n",
       "\\item[\\$y] 2\n",
       "\\end{description}\n",
       "\n",
       "\\item[\\$b] \\begin{description}\n",
       "\\item[\\$w] 8\n",
       "\\item[\\$z] \\textbf{\\$q} = 10\n",
       "\\end{description}\n",
       "\n",
       "\\item[\\$b] 'X'\n",
       "\\end{description}\n"
      ],
      "text/markdown": [
       "$a\n",
       ":   $x\n",
       ":   1\n",
       "$y\n",
       ":   2\n",
       "\n",
       "\n",
       "\n",
       "$b\n",
       ":   $w\n",
       ":   8\n",
       "$z\n",
       ":   **$q** = 10\n",
       "\n",
       "\n",
       "\n",
       "$b\n",
       ":   'X'\n",
       "\n",
       "\n"
      ],
      "text/plain": [
       "$a\n",
       "$a$x\n",
       "[1] 1\n",
       "\n",
       "$a$y\n",
       "[1] 2\n",
       "\n",
       "\n",
       "$b\n",
       "$b$w\n",
       "[1] 8\n",
       "\n",
       "$b$z\n",
       "$b$z$q\n",
       "[1] 10\n",
       "\n",
       "\n",
       "\n",
       "$b\n",
       "[1] \"X\"\n"
      ]
     },
     "metadata": {},
     "output_type": "display_data"
    }
   ],
   "source": [
    "l4"
   ]
  },
  {
   "cell_type": "code",
   "execution_count": 47,
   "metadata": {
    "colab": {
     "base_uri": "https://localhost:8080/",
     "height": 194
    },
    "id": "s1LlQ9jg0hr9",
    "outputId": "7a3819d8-9216-481c-c8ae-00fdaf02db6a"
   },
   "outputs": [
    {
     "data": {
      "text/html": [
       "<dl>\n",
       "\t<dt>$b</dt>\n",
       "\t\t<dd><dl>\n",
       "\t<dt>$w</dt>\n",
       "\t\t<dd>8</dd>\n",
       "\t<dt>$z</dt>\n",
       "\t\t<dd><strong>$q</strong> = 10</dd>\n",
       "</dl>\n",
       "</dd>\n",
       "\t<dt>$b</dt>\n",
       "\t\t<dd>'X'</dd>\n",
       "</dl>\n"
      ],
      "text/latex": [
       "\\begin{description}\n",
       "\\item[\\$b] \\begin{description}\n",
       "\\item[\\$w] 8\n",
       "\\item[\\$z] \\textbf{\\$q} = 10\n",
       "\\end{description}\n",
       "\n",
       "\\item[\\$b] 'X'\n",
       "\\end{description}\n"
      ],
      "text/markdown": [
       "$b\n",
       ":   $w\n",
       ":   8\n",
       "$z\n",
       ":   **$q** = 10\n",
       "\n",
       "\n",
       "\n",
       "$b\n",
       ":   'X'\n",
       "\n",
       "\n"
      ],
      "text/plain": [
       "$b\n",
       "$b$w\n",
       "[1] 8\n",
       "\n",
       "$b$z\n",
       "$b$z$q\n",
       "[1] 10\n",
       "\n",
       "\n",
       "\n",
       "$b\n",
       "[1] \"X\"\n"
      ]
     },
     "metadata": {},
     "output_type": "display_data"
    }
   ],
   "source": [
    "l4[which(names(l4) == \"b\")]"
   ]
  },
  {
   "cell_type": "code",
   "execution_count": 48,
   "metadata": {
    "colab": {
     "base_uri": "https://localhost:8080/"
    },
    "id": "V7LvAkzncUgH",
    "outputId": "54b6379f-3b91-4a50-e278-4609ea146346"
   },
   "outputs": [
    {
     "name": "stdout",
     "output_type": "stream",
     "text": [
      "List of 3\n",
      " $ a:List of 2\n",
      "  ..$ x: num 1\n",
      "  ..$ y: num 2\n",
      " $ b:List of 2\n",
      "  ..$ w: num 8\n",
      "  ..$ z:List of 1\n",
      "  .. ..$ q: num 10\n",
      " $ b: chr \"X\"\n"
     ]
    }
   ],
   "source": [
    "str(l4)"
   ]
  },
  {
   "cell_type": "code",
   "execution_count": 49,
   "metadata": {
    "colab": {
     "base_uri": "https://localhost:8080/",
     "height": 52
    },
    "id": "Lmpx4qjacZQG",
    "outputId": "4c560ff2-cd66-42f5-a9cd-ba16fb1412e2"
   },
   "outputs": [
    {
     "data": {
      "text/html": [
       "10"
      ],
      "text/latex": [
       "10"
      ],
      "text/markdown": [
       "10"
      ],
      "text/plain": [
       "[1] 10"
      ]
     },
     "metadata": {},
     "output_type": "display_data"
    },
    {
     "data": {
      "text/html": [
       "10"
      ],
      "text/latex": [
       "10"
      ],
      "text/markdown": [
       "10"
      ],
      "text/plain": [
       "[1] 10"
      ]
     },
     "metadata": {},
     "output_type": "display_data"
    }
   ],
   "source": [
    "l4$b$z$q\n",
    "\n",
    "#o equivalentemente.\n",
    "\n",
    "l4[[\"b\"]][[\"z\"]][[\"q\"]]"
   ]
  },
  {
   "cell_type": "code",
   "execution_count": 50,
   "metadata": {
    "colab": {
     "base_uri": "https://localhost:8080/",
     "height": 52
    },
    "id": "Dumeo0-NTpSM",
    "outputId": "1998310f-1317-4f70-802e-25f539748ebc"
   },
   "outputs": [
    {
     "data": {
      "text/html": [
       "3"
      ],
      "text/latex": [
       "3"
      ],
      "text/markdown": [
       "3"
      ],
      "text/plain": [
       "[1] 3"
      ]
     },
     "metadata": {},
     "output_type": "display_data"
    },
    {
     "data": {
      "text/html": [
       "<style>\n",
       ".list-inline {list-style: none; margin:0; padding: 0}\n",
       ".list-inline>li {display: inline-block}\n",
       ".list-inline>li:not(:last-child)::after {content: \"\\00b7\"; padding: 0 .5ex}\n",
       "</style>\n",
       "<ol class=list-inline><li>'a'</li><li>'b'</li><li>'b'</li></ol>\n"
      ],
      "text/latex": [
       "\\begin{enumerate*}\n",
       "\\item 'a'\n",
       "\\item 'b'\n",
       "\\item 'b'\n",
       "\\end{enumerate*}\n"
      ],
      "text/markdown": [
       "1. 'a'\n",
       "2. 'b'\n",
       "3. 'b'\n",
       "\n",
       "\n"
      ],
      "text/plain": [
       "[1] \"a\" \"b\" \"b\""
      ]
     },
     "metadata": {},
     "output_type": "display_data"
    }
   ],
   "source": [
    "# para saber el largo de la lista/vector\n",
    "length(l4)\n",
    "# Para obtener los nombres de la lista\n",
    "names(l4)\n",
    "# si quisiéramos renombrar los slots. Ej. Cambiar el tercer nombre por \"c\".\n",
    "names(l4)[3] <- \"c\""
   ]
  },
  {
   "cell_type": "code",
   "execution_count": 51,
   "metadata": {
    "colab": {
     "base_uri": "https://localhost:8080/",
     "height": 34
    },
    "id": "1OJZ-zEe1ogM",
    "outputId": "0ce0a314-456e-415b-e38d-e0c8d0c2d9d7"
   },
   "outputs": [
    {
     "data": {
      "text/html": [
       "<style>\n",
       ".list-inline {list-style: none; margin:0; padding: 0}\n",
       ".list-inline>li {display: inline-block}\n",
       ".list-inline>li:not(:last-child)::after {content: \"\\00b7\"; padding: 0 .5ex}\n",
       "</style>\n",
       "<ol class=list-inline><li>'a'</li><li>'b'</li><li>'c'</li></ol>\n"
      ],
      "text/latex": [
       "\\begin{enumerate*}\n",
       "\\item 'a'\n",
       "\\item 'b'\n",
       "\\item 'c'\n",
       "\\end{enumerate*}\n"
      ],
      "text/markdown": [
       "1. 'a'\n",
       "2. 'b'\n",
       "3. 'c'\n",
       "\n",
       "\n"
      ],
      "text/plain": [
       "[1] \"a\" \"b\" \"c\""
      ]
     },
     "metadata": {},
     "output_type": "display_data"
    }
   ],
   "source": [
    "names(l4)"
   ]
  },
  {
   "cell_type": "code",
   "execution_count": 52,
   "metadata": {
    "id": "Uij1PdVrTpSO"
   },
   "outputs": [],
   "source": [
    "# También podemos crear nuevos \"slots\"\n",
    "## Indicando nombre en [[]] y luego asignando\n",
    "l4[[\"d\"]] <- c(2:7)"
   ]
  },
  {
   "cell_type": "code",
   "execution_count": 53,
   "metadata": {
    "id": "eBQlYO8815YW"
   },
   "outputs": [],
   "source": [
    "# o alternativamente con \"$\"\n",
    "l4$e <- LETTERS"
   ]
  },
  {
   "cell_type": "code",
   "execution_count": 54,
   "metadata": {
    "colab": {
     "base_uri": "https://localhost:8080/"
    },
    "id": "Ui-b7jaa12Mp",
    "outputId": "7122de72-2bc7-4322-cd20-3e2131fe1f14"
   },
   "outputs": [
    {
     "name": "stdout",
     "output_type": "stream",
     "text": [
      "List of 5\n",
      " $ a:List of 2\n",
      "  ..$ x: num 1\n",
      "  ..$ y: num 2\n",
      " $ b:List of 2\n",
      "  ..$ w: num 8\n",
      "  ..$ z:List of 1\n",
      "  .. ..$ q: num 10\n",
      " $ c: chr \"X\"\n",
      " $ d: int [1:6] 2 3 4 5 6 7\n",
      " $ e: chr [1:26] \"A\" \"B\" \"C\" \"D\" ...\n"
     ]
    }
   ],
   "source": [
    "str(l4)"
   ]
  },
  {
   "cell_type": "code",
   "execution_count": 55,
   "metadata": {
    "id": "rBB4hT9RTpSQ"
   },
   "outputs": [],
   "source": [
    "# podemos modificar elementos dentro de un slot\n",
    "l4$c <- LETTERS\n"
   ]
  },
  {
   "cell_type": "code",
   "execution_count": 57,
   "metadata": {
    "id": "sQegM6e02Y0f"
   },
   "outputs": [],
   "source": [
    "# Néstor quiere permutar entradas\n",
    "l4 <- c(l4[\"a\"],l4[\"c\"],l4[\"b\"],l4[4:length(l4)])"
   ]
  },
  {
   "cell_type": "code",
   "execution_count": 58,
   "metadata": {
    "colab": {
     "base_uri": "https://localhost:8080/"
    },
    "id": "I81keYBJ27HP",
    "outputId": "fde28f99-c0fe-4fcc-e30f-2ece05408fcb"
   },
   "outputs": [
    {
     "name": "stdout",
     "output_type": "stream",
     "text": [
      "List of 5\n",
      " $ a:List of 2\n",
      "  ..$ x: num 1\n",
      "  ..$ y: num 2\n",
      " $ c: chr [1:26] \"A\" \"B\" \"C\" \"D\" ...\n",
      " $ b:List of 2\n",
      "  ..$ w: num 8\n",
      "  ..$ z:List of 1\n",
      "  .. ..$ q: num 10\n",
      " $ d: int [1:6] 2 3 4 5 6 7\n",
      " $ e: chr [1:26] \"A\" \"B\" \"C\" \"D\" ...\n"
     ]
    }
   ],
   "source": [
    "str(l4)"
   ]
  },
  {
   "cell_type": "code",
   "execution_count": 59,
   "metadata": {
    "id": "15hcVRo13G1V"
   },
   "outputs": [],
   "source": [
    "#cambiar el contnido de a por e\n",
    "aux <- l4$e"
   ]
  },
  {
   "cell_type": "code",
   "execution_count": 60,
   "metadata": {
    "id": "C_CAE2Ti3PEV"
   },
   "outputs": [],
   "source": [
    "l4$e <- l4$a\n",
    "l4$a <- aux "
   ]
  },
  {
   "cell_type": "code",
   "execution_count": 61,
   "metadata": {
    "colab": {
     "base_uri": "https://localhost:8080/"
    },
    "id": "qGYI7gjH3bUK",
    "outputId": "b0a696b7-d1db-4e94-cc3a-428230ddadcb"
   },
   "outputs": [
    {
     "name": "stdout",
     "output_type": "stream",
     "text": [
      "List of 5\n",
      " $ a: chr [1:26] \"A\" \"B\" \"C\" \"D\" ...\n",
      " $ c: chr [1:26] \"A\" \"B\" \"C\" \"D\" ...\n",
      " $ b:List of 2\n",
      "  ..$ w: num 8\n",
      "  ..$ z:List of 1\n",
      "  .. ..$ q: num 10\n",
      " $ d: int [1:6] 2 3 4 5 6 7\n",
      " $ e:List of 2\n",
      "  ..$ x: num 1\n",
      "  ..$ y: num 2\n"
     ]
    }
   ],
   "source": [
    "str(l4)"
   ]
  },
  {
   "cell_type": "markdown",
   "metadata": {
    "id": "128wI4ZoTpSS"
   },
   "source": [
    "### 5.2 Dataframes\n",
    "\n",
    "Un dataframe es un caso particular de una lista, donde los objetos de cada entrada corresponden a vectores de datos del mismo largo. E este caso cada vector corresponde a una columna del data.frame, mientras que la cantidad de filas corresponde al largo común de los vectores de cada entrada. El objeto resultante es una *tabla*, de ahora en adelante *data.frame*, cuyas columnas poseen distintos tipos de datos entre sí. \n",
    "\n",
    " * ¿Cómo se declara un dataframe?<br>\n",
    "     Mediante la función data.frame(), indicando los vectores que conformarán las columnas.\n",
    " \n",
    " * ¿Cómo se accede a los datos de un data.frame?<br>\n",
    "    Al ser una lista, se puede acceder de la misma manera. Sin embargo también es posible acceder del modo en que se accede a los elementos de una matriz."
   ]
  },
  {
   "cell_type": "code",
   "execution_count": 63,
   "metadata": {
    "id": "qJ-2zVWVTpST"
   },
   "outputs": [],
   "source": [
    "# 5.2 Dataframes ----------\n",
    "# Ejemplo sencillo de definición de un data.frame\n",
    "# recordar que 1:3 es lo mismo que c(1,2,3)\n",
    "df <- data.frame( edad = c(18,23,34,40),\n",
    "                  nombre = c(\"miguel\", \"jorge\", \"angel\", \"ale\"),\n",
    "                  tiene_mascota = c(F,T,T,F)\n",
    "                  )\n"
   ]
  },
  {
   "cell_type": "code",
   "execution_count": 64,
   "metadata": {
    "colab": {
     "base_uri": "https://localhost:8080/"
    },
    "id": "jNA5Qe0q5Fya",
    "outputId": "e7df958b-5178-4ad1-c031-e66a8a023a50"
   },
   "outputs": [
    {
     "name": "stdout",
     "output_type": "stream",
     "text": [
      "'data.frame':\t4 obs. of  3 variables:\n",
      " $ edad         : num  18 23 34 40\n",
      " $ nombre       : chr  \"miguel\" \"jorge\" \"angel\" \"ale\"\n",
      " $ tiene_mascota: logi  FALSE TRUE TRUE FALSE\n"
     ]
    }
   ],
   "source": [
    "str(df)"
   ]
  },
  {
   "cell_type": "code",
   "execution_count": 65,
   "metadata": {
    "colab": {
     "base_uri": "https://localhost:8080/",
     "height": 223
    },
    "id": "c3nucBT45PC7",
    "outputId": "e235e6b3-6c0c-4094-e130-a8fe1d4084d1"
   },
   "outputs": [
    {
     "data": {
      "text/html": [
       "<table class=\"dataframe\">\n",
       "<caption>A data.frame: 4 × 3</caption>\n",
       "<thead>\n",
       "\t<tr><th scope=col>edad</th><th scope=col>nombre</th><th scope=col>tiene_mascota</th></tr>\n",
       "\t<tr><th scope=col>&lt;dbl&gt;</th><th scope=col>&lt;chr&gt;</th><th scope=col>&lt;lgl&gt;</th></tr>\n",
       "</thead>\n",
       "<tbody>\n",
       "\t<tr><td>18</td><td>miguel</td><td>FALSE</td></tr>\n",
       "\t<tr><td>23</td><td>jorge </td><td> TRUE</td></tr>\n",
       "\t<tr><td>34</td><td>angel </td><td> TRUE</td></tr>\n",
       "\t<tr><td>40</td><td>ale   </td><td>FALSE</td></tr>\n",
       "</tbody>\n",
       "</table>\n"
      ],
      "text/latex": [
       "A data.frame: 4 × 3\n",
       "\\begin{tabular}{lll}\n",
       " edad & nombre & tiene\\_mascota\\\\\n",
       " <dbl> & <chr> & <lgl>\\\\\n",
       "\\hline\n",
       "\t 18 & miguel & FALSE\\\\\n",
       "\t 23 & jorge  &  TRUE\\\\\n",
       "\t 34 & angel  &  TRUE\\\\\n",
       "\t 40 & ale    & FALSE\\\\\n",
       "\\end{tabular}\n"
      ],
      "text/markdown": [
       "\n",
       "A data.frame: 4 × 3\n",
       "\n",
       "| edad &lt;dbl&gt; | nombre &lt;chr&gt; | tiene_mascota &lt;lgl&gt; |\n",
       "|---|---|---|\n",
       "| 18 | miguel | FALSE |\n",
       "| 23 | jorge  |  TRUE |\n",
       "| 34 | angel  |  TRUE |\n",
       "| 40 | ale    | FALSE |\n",
       "\n"
      ],
      "text/plain": [
       "  edad nombre tiene_mascota\n",
       "1 18   miguel FALSE        \n",
       "2 23   jorge   TRUE        \n",
       "3 34   angel   TRUE        \n",
       "4 40   ale    FALSE        "
      ]
     },
     "metadata": {},
     "output_type": "display_data"
    }
   ],
   "source": [
    "df"
   ]
  },
  {
   "cell_type": "code",
   "execution_count": 67,
   "metadata": {
    "colab": {
     "base_uri": "https://localhost:8080/",
     "height": 52
    },
    "id": "nv7stC8ITpSY",
    "outputId": "804908af-b74c-434a-b776-a9f86227b990"
   },
   "outputs": [
    {
     "data": {
      "text/html": [
       "<style>\n",
       ".list-inline {list-style: none; margin:0; padding: 0}\n",
       ".list-inline>li {display: inline-block}\n",
       ".list-inline>li:not(:last-child)::after {content: \"\\00b7\"; padding: 0 .5ex}\n",
       "</style>\n",
       "<ol class=list-inline><li>'miguel'</li><li>'jorge'</li><li>'angel'</li><li>'ale'</li></ol>\n"
      ],
      "text/latex": [
       "\\begin{enumerate*}\n",
       "\\item 'miguel'\n",
       "\\item 'jorge'\n",
       "\\item 'angel'\n",
       "\\item 'ale'\n",
       "\\end{enumerate*}\n"
      ],
      "text/markdown": [
       "1. 'miguel'\n",
       "2. 'jorge'\n",
       "3. 'angel'\n",
       "4. 'ale'\n",
       "\n",
       "\n"
      ],
      "text/plain": [
       "[1] \"miguel\" \"jorge\"  \"angel\"  \"ale\"   "
      ]
     },
     "metadata": {},
     "output_type": "display_data"
    },
    {
     "data": {
      "text/html": [
       "<style>\n",
       ".list-inline {list-style: none; margin:0; padding: 0}\n",
       ".list-inline>li {display: inline-block}\n",
       ".list-inline>li:not(:last-child)::after {content: \"\\00b7\"; padding: 0 .5ex}\n",
       "</style>\n",
       "<ol class=list-inline><li>'miguel'</li><li>'jorge'</li><li>'angel'</li><li>'ale'</li></ol>\n"
      ],
      "text/latex": [
       "\\begin{enumerate*}\n",
       "\\item 'miguel'\n",
       "\\item 'jorge'\n",
       "\\item 'angel'\n",
       "\\item 'ale'\n",
       "\\end{enumerate*}\n"
      ],
      "text/markdown": [
       "1. 'miguel'\n",
       "2. 'jorge'\n",
       "3. 'angel'\n",
       "4. 'ale'\n",
       "\n",
       "\n"
      ],
      "text/plain": [
       "[1] \"miguel\" \"jorge\"  \"angel\"  \"ale\"   "
      ]
     },
     "metadata": {},
     "output_type": "display_data"
    }
   ],
   "source": [
    "# Acceso a columnas de un data.frame (Ej acceder a la columna nombre)\n",
    "## Como en una matriz\n",
    "df[,2]# retorna un vector con los elementos de la columna.\n",
    "df[,\"nombre\"]\n",
    "\n",
    "\n"
   ]
  },
  {
   "cell_type": "code",
   "execution_count": 69,
   "metadata": {
    "colab": {
     "base_uri": "https://localhost:8080/",
     "height": 69
    },
    "id": "3t6_J3BHTpSb",
    "outputId": "401d6813-8f8c-4e39-d6bc-05cb5110258f"
   },
   "outputs": [
    {
     "data": {
      "text/html": [
       "<style>\n",
       ".list-inline {list-style: none; margin:0; padding: 0}\n",
       ".list-inline>li {display: inline-block}\n",
       ".list-inline>li:not(:last-child)::after {content: \"\\00b7\"; padding: 0 .5ex}\n",
       "</style>\n",
       "<ol class=list-inline><li>'miguel'</li><li>'jorge'</li><li>'angel'</li><li>'ale'</li></ol>\n"
      ],
      "text/latex": [
       "\\begin{enumerate*}\n",
       "\\item 'miguel'\n",
       "\\item 'jorge'\n",
       "\\item 'angel'\n",
       "\\item 'ale'\n",
       "\\end{enumerate*}\n"
      ],
      "text/markdown": [
       "1. 'miguel'\n",
       "2. 'jorge'\n",
       "3. 'angel'\n",
       "4. 'ale'\n",
       "\n",
       "\n"
      ],
      "text/plain": [
       "[1] \"miguel\" \"jorge\"  \"angel\"  \"ale\"   "
      ]
     },
     "metadata": {},
     "output_type": "display_data"
    },
    {
     "data": {
      "text/html": [
       "<style>\n",
       ".list-inline {list-style: none; margin:0; padding: 0}\n",
       ".list-inline>li {display: inline-block}\n",
       ".list-inline>li:not(:last-child)::after {content: \"\\00b7\"; padding: 0 .5ex}\n",
       "</style>\n",
       "<ol class=list-inline><li>'miguel'</li><li>'jorge'</li><li>'angel'</li><li>'ale'</li></ol>\n"
      ],
      "text/latex": [
       "\\begin{enumerate*}\n",
       "\\item 'miguel'\n",
       "\\item 'jorge'\n",
       "\\item 'angel'\n",
       "\\item 'ale'\n",
       "\\end{enumerate*}\n"
      ],
      "text/markdown": [
       "1. 'miguel'\n",
       "2. 'jorge'\n",
       "3. 'angel'\n",
       "4. 'ale'\n",
       "\n",
       "\n"
      ],
      "text/plain": [
       "[1] \"miguel\" \"jorge\"  \"angel\"  \"ale\"   "
      ]
     },
     "metadata": {},
     "output_type": "display_data"
    },
    {
     "data": {
      "text/html": [
       "<style>\n",
       ".list-inline {list-style: none; margin:0; padding: 0}\n",
       ".list-inline>li {display: inline-block}\n",
       ".list-inline>li:not(:last-child)::after {content: \"\\00b7\"; padding: 0 .5ex}\n",
       "</style>\n",
       "<ol class=list-inline><li>'miguel'</li><li>'jorge'</li><li>'angel'</li><li>'ale'</li></ol>\n"
      ],
      "text/latex": [
       "\\begin{enumerate*}\n",
       "\\item 'miguel'\n",
       "\\item 'jorge'\n",
       "\\item 'angel'\n",
       "\\item 'ale'\n",
       "\\end{enumerate*}\n"
      ],
      "text/markdown": [
       "1. 'miguel'\n",
       "2. 'jorge'\n",
       "3. 'angel'\n",
       "4. 'ale'\n",
       "\n",
       "\n"
      ],
      "text/plain": [
       "[1] \"miguel\" \"jorge\"  \"angel\"  \"ale\"   "
      ]
     },
     "metadata": {},
     "output_type": "display_data"
    }
   ],
   "source": [
    "## Igual que en una lista\n",
    "df$nombre# retorna un vector con los elementos de la columna.\n",
    "df[[2]]\n",
    "df[[\"nombre\"]]"
   ]
  },
  {
   "cell_type": "code",
   "execution_count": 70,
   "metadata": {
    "colab": {
     "base_uri": "https://localhost:8080/",
     "height": 499
    },
    "id": "tS7Kcj0_6J1J",
    "outputId": "cf277340-c31e-4249-ca22-604404a8808f"
   },
   "outputs": [
    {
     "data": {
      "text/html": [
       "<table class=\"dataframe\">\n",
       "<caption>A data.frame: 4 × 1</caption>\n",
       "<thead>\n",
       "\t<tr><th scope=col>nombre</th></tr>\n",
       "\t<tr><th scope=col>&lt;chr&gt;</th></tr>\n",
       "</thead>\n",
       "<tbody>\n",
       "\t<tr><td>miguel</td></tr>\n",
       "\t<tr><td>jorge </td></tr>\n",
       "\t<tr><td>angel </td></tr>\n",
       "\t<tr><td>ale   </td></tr>\n",
       "</tbody>\n",
       "</table>\n"
      ],
      "text/latex": [
       "A data.frame: 4 × 1\n",
       "\\begin{tabular}{l}\n",
       " nombre\\\\\n",
       " <chr>\\\\\n",
       "\\hline\n",
       "\t miguel\\\\\n",
       "\t jorge \\\\\n",
       "\t angel \\\\\n",
       "\t ale   \\\\\n",
       "\\end{tabular}\n"
      ],
      "text/markdown": [
       "\n",
       "A data.frame: 4 × 1\n",
       "\n",
       "| nombre &lt;chr&gt; |\n",
       "|---|\n",
       "| miguel |\n",
       "| jorge  |\n",
       "| angel  |\n",
       "| ale    |\n",
       "\n"
      ],
      "text/plain": [
       "  nombre\n",
       "1 miguel\n",
       "2 jorge \n",
       "3 angel \n",
       "4 ale   "
      ]
     },
     "metadata": {},
     "output_type": "display_data"
    },
    {
     "data": {
      "text/html": [
       "<table class=\"dataframe\">\n",
       "<caption>A data.frame: 4 × 1</caption>\n",
       "<thead>\n",
       "\t<tr><th scope=col>nombre</th></tr>\n",
       "\t<tr><th scope=col>&lt;chr&gt;</th></tr>\n",
       "</thead>\n",
       "<tbody>\n",
       "\t<tr><td>miguel</td></tr>\n",
       "\t<tr><td>jorge </td></tr>\n",
       "\t<tr><td>angel </td></tr>\n",
       "\t<tr><td>ale   </td></tr>\n",
       "</tbody>\n",
       "</table>\n"
      ],
      "text/latex": [
       "A data.frame: 4 × 1\n",
       "\\begin{tabular}{l}\n",
       " nombre\\\\\n",
       " <chr>\\\\\n",
       "\\hline\n",
       "\t miguel\\\\\n",
       "\t jorge \\\\\n",
       "\t angel \\\\\n",
       "\t ale   \\\\\n",
       "\\end{tabular}\n"
      ],
      "text/markdown": [
       "\n",
       "A data.frame: 4 × 1\n",
       "\n",
       "| nombre &lt;chr&gt; |\n",
       "|---|\n",
       "| miguel |\n",
       "| jorge  |\n",
       "| angel  |\n",
       "| ale    |\n",
       "\n"
      ],
      "text/plain": [
       "  nombre\n",
       "1 miguel\n",
       "2 jorge \n",
       "3 angel \n",
       "4 ale   "
      ]
     },
     "metadata": {},
     "output_type": "display_data"
    }
   ],
   "source": [
    "## Igual que en una lista\n",
    "df[2]\n",
    "df[\"nombre\"]"
   ]
  },
  {
   "cell_type": "code",
   "execution_count": 72,
   "metadata": {
    "colab": {
     "base_uri": "https://localhost:8080/",
     "height": 147
    },
    "id": "CojdmEs9TpSd",
    "outputId": "2d7215a4-89c9-4089-a8da-b2ae44bd586e"
   },
   "outputs": [
    {
     "data": {
      "text/html": [
       "<table class=\"dataframe\">\n",
       "<caption>A data.frame: 1 × 3</caption>\n",
       "<thead>\n",
       "\t<tr><th></th><th scope=col>edad</th><th scope=col>nombre</th><th scope=col>tiene_mascota</th></tr>\n",
       "\t<tr><th></th><th scope=col>&lt;dbl&gt;</th><th scope=col>&lt;chr&gt;</th><th scope=col>&lt;lgl&gt;</th></tr>\n",
       "</thead>\n",
       "<tbody>\n",
       "\t<tr><th scope=row>2</th><td>23</td><td>jorge</td><td>TRUE</td></tr>\n",
       "</tbody>\n",
       "</table>\n"
      ],
      "text/latex": [
       "A data.frame: 1 × 3\n",
       "\\begin{tabular}{r|lll}\n",
       "  & edad & nombre & tiene\\_mascota\\\\\n",
       "  & <dbl> & <chr> & <lgl>\\\\\n",
       "\\hline\n",
       "\t2 & 23 & jorge & TRUE\\\\\n",
       "\\end{tabular}\n"
      ],
      "text/markdown": [
       "\n",
       "A data.frame: 1 × 3\n",
       "\n",
       "| <!--/--> | edad &lt;dbl&gt; | nombre &lt;chr&gt; | tiene_mascota &lt;lgl&gt; |\n",
       "|---|---|---|---|\n",
       "| 2 | 23 | jorge | TRUE |\n",
       "\n"
      ],
      "text/plain": [
       "  edad nombre tiene_mascota\n",
       "2 23   jorge  TRUE         "
      ]
     },
     "metadata": {},
     "output_type": "display_data"
    },
    {
     "data": {
      "text/html": [
       "'jorge'"
      ],
      "text/latex": [
       "'jorge'"
      ],
      "text/markdown": [
       "'jorge'"
      ],
      "text/plain": [
       "[1] \"jorge\""
      ]
     },
     "metadata": {},
     "output_type": "display_data"
    }
   ],
   "source": [
    "##  Ganamos acceso como matriz\n",
    "# segunda fila de df\n",
    "df[2,]\n",
    "\n",
    "# segunda columna y segunda fila\n",
    "df[2,2]\n",
    "\n"
   ]
  },
  {
   "cell_type": "code",
   "execution_count": 73,
   "metadata": {
    "colab": {
     "base_uri": "https://localhost:8080/",
     "height": 34
    },
    "id": "o4imicJl6h4D",
    "outputId": "202a0d41-2abe-4adc-d090-913ec94ef805"
   },
   "outputs": [
    {
     "data": {
      "text/html": [
       "'jorge'"
      ],
      "text/latex": [
       "'jorge'"
      ],
      "text/markdown": [
       "'jorge'"
      ],
      "text/plain": [
       "[1] \"jorge\""
      ]
     },
     "metadata": {},
     "output_type": "display_data"
    }
   ],
   "source": [
    "df[2,\"nombre\"]"
   ]
  },
  {
   "cell_type": "markdown",
   "metadata": {
    "id": "tUjHiPtB6oTY"
   },
   "source": [
    "**NOTA**: Nombres de columnas y filas.\n",
    "Idem que para el caso de matrices\n"
   ]
  },
  {
   "cell_type": "code",
   "execution_count": 76,
   "metadata": {
    "colab": {
     "base_uri": "https://localhost:8080/",
     "height": 69
    },
    "id": "fRRMmTN86nbl",
    "outputId": "5f02cd50-b4a3-41ee-be1f-285989f07f0a"
   },
   "outputs": [
    {
     "data": {
      "text/html": [
       "<style>\n",
       ".list-inline {list-style: none; margin:0; padding: 0}\n",
       ".list-inline>li {display: inline-block}\n",
       ".list-inline>li:not(:last-child)::after {content: \"\\00b7\"; padding: 0 .5ex}\n",
       "</style>\n",
       "<ol class=list-inline><li>'edad'</li><li>'nombre'</li><li>'tiene_mascota'</li></ol>\n"
      ],
      "text/latex": [
       "\\begin{enumerate*}\n",
       "\\item 'edad'\n",
       "\\item 'nombre'\n",
       "\\item 'tiene\\_mascota'\n",
       "\\end{enumerate*}\n"
      ],
      "text/markdown": [
       "1. 'edad'\n",
       "2. 'nombre'\n",
       "3. 'tiene_mascota'\n",
       "\n",
       "\n"
      ],
      "text/plain": [
       "[1] \"edad\"          \"nombre\"        \"tiene_mascota\""
      ]
     },
     "metadata": {},
     "output_type": "display_data"
    },
    {
     "data": {
      "text/html": [
       "<style>\n",
       ".list-inline {list-style: none; margin:0; padding: 0}\n",
       ".list-inline>li {display: inline-block}\n",
       ".list-inline>li:not(:last-child)::after {content: \"\\00b7\"; padding: 0 .5ex}\n",
       "</style>\n",
       "<ol class=list-inline><li>'edad'</li><li>'nombre'</li><li>'tiene_mascota'</li></ol>\n"
      ],
      "text/latex": [
       "\\begin{enumerate*}\n",
       "\\item 'edad'\n",
       "\\item 'nombre'\n",
       "\\item 'tiene\\_mascota'\n",
       "\\end{enumerate*}\n"
      ],
      "text/markdown": [
       "1. 'edad'\n",
       "2. 'nombre'\n",
       "3. 'tiene_mascota'\n",
       "\n",
       "\n"
      ],
      "text/plain": [
       "[1] \"edad\"          \"nombre\"        \"tiene_mascota\""
      ]
     },
     "metadata": {},
     "output_type": "display_data"
    },
    {
     "data": {
      "text/html": [
       "<style>\n",
       ".list-inline {list-style: none; margin:0; padding: 0}\n",
       ".list-inline>li {display: inline-block}\n",
       ".list-inline>li:not(:last-child)::after {content: \"\\00b7\"; padding: 0 .5ex}\n",
       "</style>\n",
       "<ol class=list-inline><li>'1'</li><li>'2'</li><li>'3'</li><li>'4'</li></ol>\n"
      ],
      "text/latex": [
       "\\begin{enumerate*}\n",
       "\\item '1'\n",
       "\\item '2'\n",
       "\\item '3'\n",
       "\\item '4'\n",
       "\\end{enumerate*}\n"
      ],
      "text/markdown": [
       "1. '1'\n",
       "2. '2'\n",
       "3. '3'\n",
       "4. '4'\n",
       "\n",
       "\n"
      ],
      "text/plain": [
       "[1] \"1\" \"2\" \"3\" \"4\""
      ]
     },
     "metadata": {},
     "output_type": "display_data"
    }
   ],
   "source": [
    "names(df)#Por defecto apunta a los nombres de las columnas\n",
    "colnames(df)\n",
    "rownames(df)# Por defecto retorna el numero de fila\n"
   ]
  },
  {
   "cell_type": "code",
   "execution_count": 81,
   "metadata": {
    "id": "g-5iar947Kb_"
   },
   "outputs": [],
   "source": [
    "#número de filas\n",
    "N <- nrow(df)"
   ]
  },
  {
   "cell_type": "code",
   "execution_count": 79,
   "metadata": {
    "colab": {
     "base_uri": "https://localhost:8080/",
     "height": 34
    },
    "id": "Tw84OzN97SQD",
    "outputId": "da2768d8-c470-478b-8249-72fc1625ed91"
   },
   "outputs": [
    {
     "data": {
      "text/html": [
       "4"
      ],
      "text/latex": [
       "4"
      ],
      "text/markdown": [
       "4"
      ],
      "text/plain": [
       "[1] 4"
      ]
     },
     "metadata": {},
     "output_type": "display_data"
    }
   ],
   "source": [
    "dim(df)[1]"
   ]
  },
  {
   "cell_type": "code",
   "execution_count": 82,
   "metadata": {
    "colab": {
     "base_uri": "https://localhost:8080/",
     "height": 34
    },
    "id": "SfUDRA7_7fEk",
    "outputId": "225b9283-d760-454d-9a05-1f912e9aceb6"
   },
   "outputs": [
    {
     "data": {
      "text/html": [
       "<style>\n",
       ".list-inline {list-style: none; margin:0; padding: 0}\n",
       ".list-inline>li {display: inline-block}\n",
       ".list-inline>li:not(:last-child)::after {content: \"\\00b7\"; padding: 0 .5ex}\n",
       "</style>\n",
       "<ol class=list-inline><li>1</li><li>2</li><li>3</li><li>4</li></ol>\n"
      ],
      "text/latex": [
       "\\begin{enumerate*}\n",
       "\\item 1\n",
       "\\item 2\n",
       "\\item 3\n",
       "\\item 4\n",
       "\\end{enumerate*}\n"
      ],
      "text/markdown": [
       "1. 1\n",
       "2. 2\n",
       "3. 3\n",
       "4. 4\n",
       "\n",
       "\n"
      ],
      "text/plain": [
       "[1] 1 2 3 4"
      ]
     },
     "metadata": {},
     "output_type": "display_data"
    }
   ],
   "source": [
    "1:N"
   ]
  },
  {
   "cell_type": "code",
   "execution_count": 83,
   "metadata": {
    "colab": {
     "base_uri": "https://localhost:8080/",
     "height": 34
    },
    "id": "Tf5USLzA7rY9",
    "outputId": "1c5b9549-3a7c-4393-efc9-a2ccc496e535"
   },
   "outputs": [
    {
     "data": {
      "text/html": [
       "<style>\n",
       ".list-inline {list-style: none; margin:0; padding: 0}\n",
       ".list-inline>li {display: inline-block}\n",
       ".list-inline>li:not(:last-child)::after {content: \"\\00b7\"; padding: 0 .5ex}\n",
       "</style>\n",
       "<ol class=list-inline><li>'f_1'</li><li>'f_2'</li><li>'f_3'</li><li>'f_4'</li></ol>\n"
      ],
      "text/latex": [
       "\\begin{enumerate*}\n",
       "\\item 'f\\_1'\n",
       "\\item 'f\\_2'\n",
       "\\item 'f\\_3'\n",
       "\\item 'f\\_4'\n",
       "\\end{enumerate*}\n"
      ],
      "text/markdown": [
       "1. 'f_1'\n",
       "2. 'f_2'\n",
       "3. 'f_3'\n",
       "4. 'f_4'\n",
       "\n",
       "\n"
      ],
      "text/plain": [
       "[1] \"f_1\" \"f_2\" \"f_3\" \"f_4\""
      ]
     },
     "metadata": {},
     "output_type": "display_data"
    }
   ],
   "source": [
    "paste(\"f\", 1:N,  sep = \"_\")"
   ]
  },
  {
   "cell_type": "code",
   "execution_count": 84,
   "metadata": {
    "id": "kpeG5fbp68hU"
   },
   "outputs": [],
   "source": [
    "rownames(df) <- paste(\"f\", 1:N,  sep = \"_\")"
   ]
  },
  {
   "cell_type": "code",
   "execution_count": 85,
   "metadata": {
    "colab": {
     "base_uri": "https://localhost:8080/",
     "height": 223
    },
    "id": "7uBy9VTT7ydM",
    "outputId": "792690e4-fb6a-4545-bb17-83681557dc5b"
   },
   "outputs": [
    {
     "data": {
      "text/html": [
       "<table class=\"dataframe\">\n",
       "<caption>A data.frame: 4 × 3</caption>\n",
       "<thead>\n",
       "\t<tr><th></th><th scope=col>edad</th><th scope=col>nombre</th><th scope=col>tiene_mascota</th></tr>\n",
       "\t<tr><th></th><th scope=col>&lt;dbl&gt;</th><th scope=col>&lt;chr&gt;</th><th scope=col>&lt;lgl&gt;</th></tr>\n",
       "</thead>\n",
       "<tbody>\n",
       "\t<tr><th scope=row>f_1</th><td>18</td><td>miguel</td><td>FALSE</td></tr>\n",
       "\t<tr><th scope=row>f_2</th><td>23</td><td>jorge </td><td> TRUE</td></tr>\n",
       "\t<tr><th scope=row>f_3</th><td>34</td><td>angel </td><td> TRUE</td></tr>\n",
       "\t<tr><th scope=row>f_4</th><td>40</td><td>ale   </td><td>FALSE</td></tr>\n",
       "</tbody>\n",
       "</table>\n"
      ],
      "text/latex": [
       "A data.frame: 4 × 3\n",
       "\\begin{tabular}{r|lll}\n",
       "  & edad & nombre & tiene\\_mascota\\\\\n",
       "  & <dbl> & <chr> & <lgl>\\\\\n",
       "\\hline\n",
       "\tf\\_1 & 18 & miguel & FALSE\\\\\n",
       "\tf\\_2 & 23 & jorge  &  TRUE\\\\\n",
       "\tf\\_3 & 34 & angel  &  TRUE\\\\\n",
       "\tf\\_4 & 40 & ale    & FALSE\\\\\n",
       "\\end{tabular}\n"
      ],
      "text/markdown": [
       "\n",
       "A data.frame: 4 × 3\n",
       "\n",
       "| <!--/--> | edad &lt;dbl&gt; | nombre &lt;chr&gt; | tiene_mascota &lt;lgl&gt; |\n",
       "|---|---|---|---|\n",
       "| f_1 | 18 | miguel | FALSE |\n",
       "| f_2 | 23 | jorge  |  TRUE |\n",
       "| f_3 | 34 | angel  |  TRUE |\n",
       "| f_4 | 40 | ale    | FALSE |\n",
       "\n"
      ],
      "text/plain": [
       "    edad nombre tiene_mascota\n",
       "f_1 18   miguel FALSE        \n",
       "f_2 23   jorge   TRUE        \n",
       "f_3 34   angel   TRUE        \n",
       "f_4 40   ale    FALSE        "
      ]
     },
     "metadata": {},
     "output_type": "display_data"
    }
   ],
   "source": [
    "df"
   ]
  },
  {
   "cell_type": "code",
   "execution_count": 89,
   "metadata": {
    "colab": {
     "base_uri": "https://localhost:8080/",
     "height": 34
    },
    "id": "jzFwlnDr72pB",
    "outputId": "75ba0e4e-df70-418e-9fe2-a6d125bd824e"
   },
   "outputs": [
    {
     "data": {
      "text/html": [
       "'jorge'"
      ],
      "text/latex": [
       "'jorge'"
      ],
      "text/markdown": [
       "'jorge'"
      ],
      "text/plain": [
       "[1] \"jorge\""
      ]
     },
     "metadata": {},
     "output_type": "display_data"
    }
   ],
   "source": [
    "#Podemos acceder aun fila a través del nombre:\n",
    "df[\"f_2\",\"nombre\"]"
   ]
  },
  {
   "cell_type": "code",
   "execution_count": null,
   "metadata": {
    "id": "2pbmWbkF8QM2"
   },
   "outputs": [],
   "source": []
  },
  {
   "cell_type": "code",
   "execution_count": 92,
   "metadata": {
    "id": "FgD5Q8hFTpSf"
   },
   "outputs": [],
   "source": [
    "#Podemos crear nuevas columnas , del mismmo modo que creamos \"slots\" en una lista\n",
    "df$rut <- c(\"1-2\",\"1-5\",\"2-k\", \"10-0\")\n",
    "df[[\"genero\"]] <- c(\"M\",\"M\",\"M\",\"F\")"
   ]
  },
  {
   "cell_type": "code",
   "execution_count": 93,
   "metadata": {
    "colab": {
     "base_uri": "https://localhost:8080/",
     "height": 223
    },
    "id": "JgAdJuMB80Ks",
    "outputId": "54b693d9-7ce6-48de-ed04-f072a76b017c"
   },
   "outputs": [
    {
     "data": {
      "text/html": [
       "<table class=\"dataframe\">\n",
       "<caption>A data.frame: 4 × 5</caption>\n",
       "<thead>\n",
       "\t<tr><th></th><th scope=col>edad</th><th scope=col>nombre</th><th scope=col>tiene_mascota</th><th scope=col>rut</th><th scope=col>genero</th></tr>\n",
       "\t<tr><th></th><th scope=col>&lt;dbl&gt;</th><th scope=col>&lt;chr&gt;</th><th scope=col>&lt;lgl&gt;</th><th scope=col>&lt;chr&gt;</th><th scope=col>&lt;chr&gt;</th></tr>\n",
       "</thead>\n",
       "<tbody>\n",
       "\t<tr><th scope=row>f_1</th><td>18</td><td>miguel</td><td>FALSE</td><td>1-2 </td><td>M</td></tr>\n",
       "\t<tr><th scope=row>f_2</th><td>23</td><td>jorge </td><td> TRUE</td><td>1-5 </td><td>M</td></tr>\n",
       "\t<tr><th scope=row>f_3</th><td>34</td><td>angel </td><td> TRUE</td><td>2-k </td><td>M</td></tr>\n",
       "\t<tr><th scope=row>f_4</th><td>40</td><td>ale   </td><td>FALSE</td><td>10-0</td><td>F</td></tr>\n",
       "</tbody>\n",
       "</table>\n"
      ],
      "text/latex": [
       "A data.frame: 4 × 5\n",
       "\\begin{tabular}{r|lllll}\n",
       "  & edad & nombre & tiene\\_mascota & rut & genero\\\\\n",
       "  & <dbl> & <chr> & <lgl> & <chr> & <chr>\\\\\n",
       "\\hline\n",
       "\tf\\_1 & 18 & miguel & FALSE & 1-2  & M\\\\\n",
       "\tf\\_2 & 23 & jorge  &  TRUE & 1-5  & M\\\\\n",
       "\tf\\_3 & 34 & angel  &  TRUE & 2-k  & M\\\\\n",
       "\tf\\_4 & 40 & ale    & FALSE & 10-0 & F\\\\\n",
       "\\end{tabular}\n"
      ],
      "text/markdown": [
       "\n",
       "A data.frame: 4 × 5\n",
       "\n",
       "| <!--/--> | edad &lt;dbl&gt; | nombre &lt;chr&gt; | tiene_mascota &lt;lgl&gt; | rut &lt;chr&gt; | genero &lt;chr&gt; |\n",
       "|---|---|---|---|---|---|\n",
       "| f_1 | 18 | miguel | FALSE | 1-2  | M |\n",
       "| f_2 | 23 | jorge  |  TRUE | 1-5  | M |\n",
       "| f_3 | 34 | angel  |  TRUE | 2-k  | M |\n",
       "| f_4 | 40 | ale    | FALSE | 10-0 | F |\n",
       "\n"
      ],
      "text/plain": [
       "    edad nombre tiene_mascota rut  genero\n",
       "f_1 18   miguel FALSE         1-2  M     \n",
       "f_2 23   jorge   TRUE         1-5  M     \n",
       "f_3 34   angel   TRUE         2-k  M     \n",
       "f_4 40   ale    FALSE         10-0 F     "
      ]
     },
     "metadata": {},
     "output_type": "display_data"
    }
   ],
   "source": [
    "df"
   ]
  },
  {
   "cell_type": "code",
   "execution_count": 97,
   "metadata": {
    "colab": {
     "base_uri": "https://localhost:8080/",
     "height": 842
    },
    "id": "LcNQ5JHVTpSh",
    "outputId": "264b487c-cfb3-4a4b-9ee4-7eb38a68e786"
   },
   "outputs": [
    {
     "data": {
      "text/html": [
       "<table class=\"dataframe\">\n",
       "<caption>A data.frame: 4 × 2</caption>\n",
       "<thead>\n",
       "\t<tr><th></th><th scope=col>edad</th><th scope=col>tiene_mascota</th></tr>\n",
       "\t<tr><th></th><th scope=col>&lt;dbl&gt;</th><th scope=col>&lt;lgl&gt;</th></tr>\n",
       "</thead>\n",
       "<tbody>\n",
       "\t<tr><th scope=row>f_1</th><td>18</td><td>FALSE</td></tr>\n",
       "\t<tr><th scope=row>f_2</th><td>23</td><td> TRUE</td></tr>\n",
       "\t<tr><th scope=row>f_3</th><td>34</td><td> TRUE</td></tr>\n",
       "\t<tr><th scope=row>f_4</th><td>40</td><td>FALSE</td></tr>\n",
       "</tbody>\n",
       "</table>\n"
      ],
      "text/latex": [
       "A data.frame: 4 × 2\n",
       "\\begin{tabular}{r|ll}\n",
       "  & edad & tiene\\_mascota\\\\\n",
       "  & <dbl> & <lgl>\\\\\n",
       "\\hline\n",
       "\tf\\_1 & 18 & FALSE\\\\\n",
       "\tf\\_2 & 23 &  TRUE\\\\\n",
       "\tf\\_3 & 34 &  TRUE\\\\\n",
       "\tf\\_4 & 40 & FALSE\\\\\n",
       "\\end{tabular}\n"
      ],
      "text/markdown": [
       "\n",
       "A data.frame: 4 × 2\n",
       "\n",
       "| <!--/--> | edad &lt;dbl&gt; | tiene_mascota &lt;lgl&gt; |\n",
       "|---|---|---|\n",
       "| f_1 | 18 | FALSE |\n",
       "| f_2 | 23 |  TRUE |\n",
       "| f_3 | 34 |  TRUE |\n",
       "| f_4 | 40 | FALSE |\n",
       "\n"
      ],
      "text/plain": [
       "    edad tiene_mascota\n",
       "f_1 18   FALSE        \n",
       "f_2 23    TRUE        \n",
       "f_3 34    TRUE        \n",
       "f_4 40   FALSE        "
      ]
     },
     "metadata": {},
     "output_type": "display_data"
    },
    {
     "data": {
      "text/html": [
       "<table class=\"dataframe\">\n",
       "<caption>A data.frame: 4 × 2</caption>\n",
       "<thead>\n",
       "\t<tr><th></th><th scope=col>edad</th><th scope=col>tiene_mascota</th></tr>\n",
       "\t<tr><th></th><th scope=col>&lt;dbl&gt;</th><th scope=col>&lt;lgl&gt;</th></tr>\n",
       "</thead>\n",
       "<tbody>\n",
       "\t<tr><th scope=row>f_1</th><td>18</td><td>FALSE</td></tr>\n",
       "\t<tr><th scope=row>f_2</th><td>23</td><td> TRUE</td></tr>\n",
       "\t<tr><th scope=row>f_3</th><td>34</td><td> TRUE</td></tr>\n",
       "\t<tr><th scope=row>f_4</th><td>40</td><td>FALSE</td></tr>\n",
       "</tbody>\n",
       "</table>\n"
      ],
      "text/latex": [
       "A data.frame: 4 × 2\n",
       "\\begin{tabular}{r|ll}\n",
       "  & edad & tiene\\_mascota\\\\\n",
       "  & <dbl> & <lgl>\\\\\n",
       "\\hline\n",
       "\tf\\_1 & 18 & FALSE\\\\\n",
       "\tf\\_2 & 23 &  TRUE\\\\\n",
       "\tf\\_3 & 34 &  TRUE\\\\\n",
       "\tf\\_4 & 40 & FALSE\\\\\n",
       "\\end{tabular}\n"
      ],
      "text/markdown": [
       "\n",
       "A data.frame: 4 × 2\n",
       "\n",
       "| <!--/--> | edad &lt;dbl&gt; | tiene_mascota &lt;lgl&gt; |\n",
       "|---|---|---|\n",
       "| f_1 | 18 | FALSE |\n",
       "| f_2 | 23 |  TRUE |\n",
       "| f_3 | 34 |  TRUE |\n",
       "| f_4 | 40 | FALSE |\n",
       "\n"
      ],
      "text/plain": [
       "    edad tiene_mascota\n",
       "f_1 18   FALSE        \n",
       "f_2 23    TRUE        \n",
       "f_3 34    TRUE        \n",
       "f_4 40   FALSE        "
      ]
     },
     "metadata": {},
     "output_type": "display_data"
    },
    {
     "data": {
      "text/html": [
       "<table class=\"dataframe\">\n",
       "<caption>A data.frame: 4 × 2</caption>\n",
       "<thead>\n",
       "\t<tr><th></th><th scope=col>edad</th><th scope=col>tiene_mascota</th></tr>\n",
       "\t<tr><th></th><th scope=col>&lt;dbl&gt;</th><th scope=col>&lt;lgl&gt;</th></tr>\n",
       "</thead>\n",
       "<tbody>\n",
       "\t<tr><th scope=row>f_1</th><td>18</td><td>FALSE</td></tr>\n",
       "\t<tr><th scope=row>f_2</th><td>23</td><td> TRUE</td></tr>\n",
       "\t<tr><th scope=row>f_3</th><td>34</td><td> TRUE</td></tr>\n",
       "\t<tr><th scope=row>f_4</th><td>40</td><td>FALSE</td></tr>\n",
       "</tbody>\n",
       "</table>\n"
      ],
      "text/latex": [
       "A data.frame: 4 × 2\n",
       "\\begin{tabular}{r|ll}\n",
       "  & edad & tiene\\_mascota\\\\\n",
       "  & <dbl> & <lgl>\\\\\n",
       "\\hline\n",
       "\tf\\_1 & 18 & FALSE\\\\\n",
       "\tf\\_2 & 23 &  TRUE\\\\\n",
       "\tf\\_3 & 34 &  TRUE\\\\\n",
       "\tf\\_4 & 40 & FALSE\\\\\n",
       "\\end{tabular}\n"
      ],
      "text/markdown": [
       "\n",
       "A data.frame: 4 × 2\n",
       "\n",
       "| <!--/--> | edad &lt;dbl&gt; | tiene_mascota &lt;lgl&gt; |\n",
       "|---|---|---|\n",
       "| f_1 | 18 | FALSE |\n",
       "| f_2 | 23 |  TRUE |\n",
       "| f_3 | 34 |  TRUE |\n",
       "| f_4 | 40 | FALSE |\n",
       "\n"
      ],
      "text/plain": [
       "    edad tiene_mascota\n",
       "f_1 18   FALSE        \n",
       "f_2 23    TRUE        \n",
       "f_3 34    TRUE        \n",
       "f_4 40   FALSE        "
      ]
     },
     "metadata": {},
     "output_type": "display_data"
    },
    {
     "data": {
      "text/html": [
       "<table class=\"dataframe\">\n",
       "<caption>A data.frame: 4 × 2</caption>\n",
       "<thead>\n",
       "\t<tr><th></th><th scope=col>edad</th><th scope=col>tiene_mascota</th></tr>\n",
       "\t<tr><th></th><th scope=col>&lt;dbl&gt;</th><th scope=col>&lt;lgl&gt;</th></tr>\n",
       "</thead>\n",
       "<tbody>\n",
       "\t<tr><th scope=row>f_1</th><td>18</td><td>FALSE</td></tr>\n",
       "\t<tr><th scope=row>f_2</th><td>23</td><td> TRUE</td></tr>\n",
       "\t<tr><th scope=row>f_3</th><td>34</td><td> TRUE</td></tr>\n",
       "\t<tr><th scope=row>f_4</th><td>40</td><td>FALSE</td></tr>\n",
       "</tbody>\n",
       "</table>\n"
      ],
      "text/latex": [
       "A data.frame: 4 × 2\n",
       "\\begin{tabular}{r|ll}\n",
       "  & edad & tiene\\_mascota\\\\\n",
       "  & <dbl> & <lgl>\\\\\n",
       "\\hline\n",
       "\tf\\_1 & 18 & FALSE\\\\\n",
       "\tf\\_2 & 23 &  TRUE\\\\\n",
       "\tf\\_3 & 34 &  TRUE\\\\\n",
       "\tf\\_4 & 40 & FALSE\\\\\n",
       "\\end{tabular}\n"
      ],
      "text/markdown": [
       "\n",
       "A data.frame: 4 × 2\n",
       "\n",
       "| <!--/--> | edad &lt;dbl&gt; | tiene_mascota &lt;lgl&gt; |\n",
       "|---|---|---|\n",
       "| f_1 | 18 | FALSE |\n",
       "| f_2 | 23 |  TRUE |\n",
       "| f_3 | 34 |  TRUE |\n",
       "| f_4 | 40 | FALSE |\n",
       "\n"
      ],
      "text/plain": [
       "    edad tiene_mascota\n",
       "f_1 18   FALSE        \n",
       "f_2 23    TRUE        \n",
       "f_3 34    TRUE        \n",
       "f_4 40   FALSE        "
      ]
     },
     "metadata": {},
     "output_type": "display_data"
    }
   ],
   "source": [
    "# podemos seleccionar más de una columna a la vez. Ej: seleccionar col1y col3\n",
    "df[,c(1,3)]# Si pensamos como matriz\n",
    "df[c(1,3)]# Si pensamos como lista\n",
    "# Referenciando el nombre de las columnas\n",
    "df[,c(\"edad\",\"tiene_mascota\")]# Si pensamos como matriz\n",
    "df[c(\"edad\",\"tiene_mascota\")]# Si pensamos como lista"
   ]
  },
  {
   "cell_type": "code",
   "execution_count": null,
   "metadata": {
    "id": "RmsAhhsWTpSm"
   },
   "outputs": [],
   "source": [
    "# Se mantiene la lógica de acceso a los sots de una lista.\n"
   ]
  },
  {
   "cell_type": "markdown",
   "metadata": {
    "id": "FeHvfUAb9Uga"
   },
   "source": [
    "# Agregar filas a un Dataframe"
   ]
  },
  {
   "cell_type": "code",
   "execution_count": 120,
   "metadata": {
    "id": "B59-haiC9Tan"
   },
   "outputs": [],
   "source": [
    "#fila nueva\n",
    "f_nueva <- data.frame(edad = 27,\n",
    "                      nombre = \"isa\",\n",
    "                      tiene_mascota = T,\n",
    "                      rut = \"6-7\", \n",
    "                      genero = \"F\")"
   ]
  },
  {
   "cell_type": "code",
   "execution_count": 121,
   "metadata": {
    "colab": {
     "base_uri": "https://localhost:8080/",
     "height": 129
    },
    "id": "3ekZE85P-D33",
    "outputId": "00d2dab5-6e08-492f-93f9-d4aec8d87801"
   },
   "outputs": [
    {
     "data": {
      "text/html": [
       "<table class=\"dataframe\">\n",
       "<caption>A data.frame: 1 × 5</caption>\n",
       "<thead>\n",
       "\t<tr><th scope=col>edad</th><th scope=col>nombre</th><th scope=col>tiene_mascota</th><th scope=col>rut</th><th scope=col>genero</th></tr>\n",
       "\t<tr><th scope=col>&lt;dbl&gt;</th><th scope=col>&lt;chr&gt;</th><th scope=col>&lt;lgl&gt;</th><th scope=col>&lt;chr&gt;</th><th scope=col>&lt;chr&gt;</th></tr>\n",
       "</thead>\n",
       "<tbody>\n",
       "\t<tr><td>27</td><td>isa</td><td>TRUE</td><td>6-7</td><td>F</td></tr>\n",
       "</tbody>\n",
       "</table>\n"
      ],
      "text/latex": [
       "A data.frame: 1 × 5\n",
       "\\begin{tabular}{lllll}\n",
       " edad & nombre & tiene\\_mascota & rut & genero\\\\\n",
       " <dbl> & <chr> & <lgl> & <chr> & <chr>\\\\\n",
       "\\hline\n",
       "\t 27 & isa & TRUE & 6-7 & F\\\\\n",
       "\\end{tabular}\n"
      ],
      "text/markdown": [
       "\n",
       "A data.frame: 1 × 5\n",
       "\n",
       "| edad &lt;dbl&gt; | nombre &lt;chr&gt; | tiene_mascota &lt;lgl&gt; | rut &lt;chr&gt; | genero &lt;chr&gt; |\n",
       "|---|---|---|---|---|\n",
       "| 27 | isa | TRUE | 6-7 | F |\n",
       "\n"
      ],
      "text/plain": [
       "  edad nombre tiene_mascota rut genero\n",
       "1 27   isa    TRUE          6-7 F     "
      ]
     },
     "metadata": {},
     "output_type": "display_data"
    }
   ],
   "source": [
    "f_nueva"
   ]
  },
  {
   "cell_type": "code",
   "execution_count": 123,
   "metadata": {
    "id": "zFSXHpIE-F0s"
   },
   "outputs": [],
   "source": [
    "df <- rbind(df, f_nueva)# Esta función aliza la unión por los nombres de las columnas."
   ]
  },
  {
   "cell_type": "code",
   "execution_count": 124,
   "metadata": {
    "colab": {
     "base_uri": "https://localhost:8080/",
     "height": 255
    },
    "id": "qSIFw2rW_pMu",
    "outputId": "e3683b36-c922-45a4-8812-387e819e56d6"
   },
   "outputs": [
    {
     "data": {
      "text/html": [
       "<table class=\"dataframe\">\n",
       "<caption>A data.frame: 5 × 5</caption>\n",
       "<thead>\n",
       "\t<tr><th></th><th scope=col>edad</th><th scope=col>nombre</th><th scope=col>tiene_mascota</th><th scope=col>rut</th><th scope=col>genero</th></tr>\n",
       "\t<tr><th></th><th scope=col>&lt;dbl&gt;</th><th scope=col>&lt;chr&gt;</th><th scope=col>&lt;lgl&gt;</th><th scope=col>&lt;chr&gt;</th><th scope=col>&lt;chr&gt;</th></tr>\n",
       "</thead>\n",
       "<tbody>\n",
       "\t<tr><th scope=row>f_1</th><td>18</td><td>miguel</td><td>FALSE</td><td>1-2 </td><td>M</td></tr>\n",
       "\t<tr><th scope=row>f_2</th><td>23</td><td>jorge </td><td> TRUE</td><td>1-5 </td><td>M</td></tr>\n",
       "\t<tr><th scope=row>f_3</th><td>34</td><td>angel </td><td> TRUE</td><td>2-k </td><td>M</td></tr>\n",
       "\t<tr><th scope=row>f_4</th><td>40</td><td>ale   </td><td>FALSE</td><td>10-0</td><td>F</td></tr>\n",
       "\t<tr><th scope=row>1</th><td>27</td><td>isa   </td><td> TRUE</td><td>6-7 </td><td>F</td></tr>\n",
       "</tbody>\n",
       "</table>\n"
      ],
      "text/latex": [
       "A data.frame: 5 × 5\n",
       "\\begin{tabular}{r|lllll}\n",
       "  & edad & nombre & tiene\\_mascota & rut & genero\\\\\n",
       "  & <dbl> & <chr> & <lgl> & <chr> & <chr>\\\\\n",
       "\\hline\n",
       "\tf\\_1 & 18 & miguel & FALSE & 1-2  & M\\\\\n",
       "\tf\\_2 & 23 & jorge  &  TRUE & 1-5  & M\\\\\n",
       "\tf\\_3 & 34 & angel  &  TRUE & 2-k  & M\\\\\n",
       "\tf\\_4 & 40 & ale    & FALSE & 10-0 & F\\\\\n",
       "\t1 & 27 & isa    &  TRUE & 6-7  & F\\\\\n",
       "\\end{tabular}\n"
      ],
      "text/markdown": [
       "\n",
       "A data.frame: 5 × 5\n",
       "\n",
       "| <!--/--> | edad &lt;dbl&gt; | nombre &lt;chr&gt; | tiene_mascota &lt;lgl&gt; | rut &lt;chr&gt; | genero &lt;chr&gt; |\n",
       "|---|---|---|---|---|---|\n",
       "| f_1 | 18 | miguel | FALSE | 1-2  | M |\n",
       "| f_2 | 23 | jorge  |  TRUE | 1-5  | M |\n",
       "| f_3 | 34 | angel  |  TRUE | 2-k  | M |\n",
       "| f_4 | 40 | ale    | FALSE | 10-0 | F |\n",
       "| 1 | 27 | isa    |  TRUE | 6-7  | F |\n",
       "\n"
      ],
      "text/plain": [
       "    edad nombre tiene_mascota rut  genero\n",
       "f_1 18   miguel FALSE         1-2  M     \n",
       "f_2 23   jorge   TRUE         1-5  M     \n",
       "f_3 34   angel   TRUE         2-k  M     \n",
       "f_4 40   ale    FALSE         10-0 F     \n",
       "1   27   isa     TRUE         6-7  F     "
      ]
     },
     "metadata": {},
     "output_type": "display_data"
    }
   ],
   "source": [
    "df"
   ]
  },
  {
   "cell_type": "code",
   "execution_count": null,
   "metadata": {
    "id": "p_RpTKIg_0fZ"
   },
   "outputs": [],
   "source": [
    "#dplyr::bind_rows() , esta es una opción más robusta."
   ]
  },
  {
   "cell_type": "markdown",
   "metadata": {
    "id": "enFlZlaX_8BS"
   },
   "source": [
    "#NOTA:\n",
    "Si utilizamos todo lo aprendido, estamos en condiciones de realizar consultas más complejas a nuestra tablas."
   ]
  },
  {
   "cell_type": "code",
   "execution_count": 125,
   "metadata": {
    "colab": {
     "base_uri": "https://localhost:8080/",
     "height": 255
    },
    "id": "k49izresAD_Q",
    "outputId": "499df361-d198-425e-eb7a-c6fe422e408e"
   },
   "outputs": [
    {
     "data": {
      "text/html": [
       "<table class=\"dataframe\">\n",
       "<caption>A data.frame: 5 × 5</caption>\n",
       "<thead>\n",
       "\t<tr><th></th><th scope=col>edad</th><th scope=col>nombre</th><th scope=col>tiene_mascota</th><th scope=col>rut</th><th scope=col>genero</th></tr>\n",
       "\t<tr><th></th><th scope=col>&lt;dbl&gt;</th><th scope=col>&lt;chr&gt;</th><th scope=col>&lt;lgl&gt;</th><th scope=col>&lt;chr&gt;</th><th scope=col>&lt;chr&gt;</th></tr>\n",
       "</thead>\n",
       "<tbody>\n",
       "\t<tr><th scope=row>f_1</th><td>18</td><td>miguel</td><td>FALSE</td><td>1-2 </td><td>M</td></tr>\n",
       "\t<tr><th scope=row>f_2</th><td>23</td><td>jorge </td><td> TRUE</td><td>1-5 </td><td>M</td></tr>\n",
       "\t<tr><th scope=row>f_3</th><td>34</td><td>angel </td><td> TRUE</td><td>2-k </td><td>M</td></tr>\n",
       "\t<tr><th scope=row>f_4</th><td>40</td><td>ale   </td><td>FALSE</td><td>10-0</td><td>F</td></tr>\n",
       "\t<tr><th scope=row>1</th><td>27</td><td>isa   </td><td> TRUE</td><td>6-7 </td><td>F</td></tr>\n",
       "</tbody>\n",
       "</table>\n"
      ],
      "text/latex": [
       "A data.frame: 5 × 5\n",
       "\\begin{tabular}{r|lllll}\n",
       "  & edad & nombre & tiene\\_mascota & rut & genero\\\\\n",
       "  & <dbl> & <chr> & <lgl> & <chr> & <chr>\\\\\n",
       "\\hline\n",
       "\tf\\_1 & 18 & miguel & FALSE & 1-2  & M\\\\\n",
       "\tf\\_2 & 23 & jorge  &  TRUE & 1-5  & M\\\\\n",
       "\tf\\_3 & 34 & angel  &  TRUE & 2-k  & M\\\\\n",
       "\tf\\_4 & 40 & ale    & FALSE & 10-0 & F\\\\\n",
       "\t1 & 27 & isa    &  TRUE & 6-7  & F\\\\\n",
       "\\end{tabular}\n"
      ],
      "text/markdown": [
       "\n",
       "A data.frame: 5 × 5\n",
       "\n",
       "| <!--/--> | edad &lt;dbl&gt; | nombre &lt;chr&gt; | tiene_mascota &lt;lgl&gt; | rut &lt;chr&gt; | genero &lt;chr&gt; |\n",
       "|---|---|---|---|---|---|\n",
       "| f_1 | 18 | miguel | FALSE | 1-2  | M |\n",
       "| f_2 | 23 | jorge  |  TRUE | 1-5  | M |\n",
       "| f_3 | 34 | angel  |  TRUE | 2-k  | M |\n",
       "| f_4 | 40 | ale    | FALSE | 10-0 | F |\n",
       "| 1 | 27 | isa    |  TRUE | 6-7  | F |\n",
       "\n"
      ],
      "text/plain": [
       "    edad nombre tiene_mascota rut  genero\n",
       "f_1 18   miguel FALSE         1-2  M     \n",
       "f_2 23   jorge   TRUE         1-5  M     \n",
       "f_3 34   angel   TRUE         2-k  M     \n",
       "f_4 40   ale    FALSE         10-0 F     \n",
       "1   27   isa     TRUE         6-7  F     "
      ]
     },
     "metadata": {},
     "output_type": "display_data"
    }
   ],
   "source": [
    "df"
   ]
  },
  {
   "cell_type": "code",
   "execution_count": 128,
   "metadata": {
    "colab": {
     "base_uri": "https://localhost:8080/",
     "height": 161
    },
    "id": "z01_C-EHAQoZ",
    "outputId": "4266206d-baa2-4ebc-c8a4-68e18b5870df"
   },
   "outputs": [
    {
     "data": {
      "text/html": [
       "<table class=\"dataframe\">\n",
       "<caption>A data.frame: 2 × 5</caption>\n",
       "<thead>\n",
       "\t<tr><th></th><th scope=col>edad</th><th scope=col>nombre</th><th scope=col>tiene_mascota</th><th scope=col>rut</th><th scope=col>genero</th></tr>\n",
       "\t<tr><th></th><th scope=col>&lt;dbl&gt;</th><th scope=col>&lt;chr&gt;</th><th scope=col>&lt;lgl&gt;</th><th scope=col>&lt;chr&gt;</th><th scope=col>&lt;chr&gt;</th></tr>\n",
       "</thead>\n",
       "<tbody>\n",
       "\t<tr><th scope=row>f_3</th><td>34</td><td>angel</td><td>TRUE</td><td>2-k</td><td>M</td></tr>\n",
       "\t<tr><th scope=row>1</th><td>27</td><td>isa  </td><td>TRUE</td><td>6-7</td><td>F</td></tr>\n",
       "</tbody>\n",
       "</table>\n"
      ],
      "text/latex": [
       "A data.frame: 2 × 5\n",
       "\\begin{tabular}{r|lllll}\n",
       "  & edad & nombre & tiene\\_mascota & rut & genero\\\\\n",
       "  & <dbl> & <chr> & <lgl> & <chr> & <chr>\\\\\n",
       "\\hline\n",
       "\tf\\_3 & 34 & angel & TRUE & 2-k & M\\\\\n",
       "\t1 & 27 & isa   & TRUE & 6-7 & F\\\\\n",
       "\\end{tabular}\n"
      ],
      "text/markdown": [
       "\n",
       "A data.frame: 2 × 5\n",
       "\n",
       "| <!--/--> | edad &lt;dbl&gt; | nombre &lt;chr&gt; | tiene_mascota &lt;lgl&gt; | rut &lt;chr&gt; | genero &lt;chr&gt; |\n",
       "|---|---|---|---|---|---|\n",
       "| f_3 | 34 | angel | TRUE | 2-k | M |\n",
       "| 1 | 27 | isa   | TRUE | 6-7 | F |\n",
       "\n"
      ],
      "text/plain": [
       "    edad nombre tiene_mascota rut genero\n",
       "f_3 34   angel  TRUE          2-k M     \n",
       "1   27   isa    TRUE          6-7 F     "
      ]
     },
     "metadata": {},
     "output_type": "display_data"
    }
   ],
   "source": [
    "# Quiero identificar las personas con mascotas y cuya edad sea mayor a 25 años.\n",
    "df[(df$tiene_mascota == TRUE) & (df$edad > 25),]"
   ]
  },
  {
   "cell_type": "code",
   "execution_count": null,
   "metadata": {
    "id": "0OGZrI0aBOTd"
   },
   "outputs": [],
   "source": [
    "#Si queremos solo el rut y el nombre"
   ]
  },
  {
   "cell_type": "code",
   "execution_count": 129,
   "metadata": {
    "colab": {
     "base_uri": "https://localhost:8080/",
     "height": 161
    },
    "id": "WGhHOKYgAqdV",
    "outputId": "5f6a0490-7b3f-452e-e518-a4e6820b58db"
   },
   "outputs": [
    {
     "data": {
      "text/html": [
       "<table class=\"dataframe\">\n",
       "<caption>A data.frame: 2 × 2</caption>\n",
       "<thead>\n",
       "\t<tr><th></th><th scope=col>nombre</th><th scope=col>rut</th></tr>\n",
       "\t<tr><th></th><th scope=col>&lt;chr&gt;</th><th scope=col>&lt;chr&gt;</th></tr>\n",
       "</thead>\n",
       "<tbody>\n",
       "\t<tr><th scope=row>f_3</th><td>angel</td><td>2-k</td></tr>\n",
       "\t<tr><th scope=row>1</th><td>isa  </td><td>6-7</td></tr>\n",
       "</tbody>\n",
       "</table>\n"
      ],
      "text/latex": [
       "A data.frame: 2 × 2\n",
       "\\begin{tabular}{r|ll}\n",
       "  & nombre & rut\\\\\n",
       "  & <chr> & <chr>\\\\\n",
       "\\hline\n",
       "\tf\\_3 & angel & 2-k\\\\\n",
       "\t1 & isa   & 6-7\\\\\n",
       "\\end{tabular}\n"
      ],
      "text/markdown": [
       "\n",
       "A data.frame: 2 × 2\n",
       "\n",
       "| <!--/--> | nombre &lt;chr&gt; | rut &lt;chr&gt; |\n",
       "|---|---|---|\n",
       "| f_3 | angel | 2-k |\n",
       "| 1 | isa   | 6-7 |\n",
       "\n"
      ],
      "text/plain": [
       "    nombre rut\n",
       "f_3 angel  2-k\n",
       "1   isa    6-7"
      ]
     },
     "metadata": {},
     "output_type": "display_data"
    }
   ],
   "source": [
    "df[(df$tiene_mascota == TRUE) & (df$edad > 25),c(\"nombre\",\"rut\")]"
   ]
  }
 ],
 "metadata": {
  "colab": {
   "include_colab_link": true,
   "provenance": []
  },
  "kernelspec": {
   "display_name": "R",
   "language": "R",
   "name": "ir"
  },
  "language_info": {
   "codemirror_mode": "r",
   "file_extension": ".r",
   "mimetype": "text/x-r-source",
   "name": "R",
   "pygments_lexer": "r",
   "version": "4.3.0"
  }
 },
 "nbformat": 4,
 "nbformat_minor": 1
}
