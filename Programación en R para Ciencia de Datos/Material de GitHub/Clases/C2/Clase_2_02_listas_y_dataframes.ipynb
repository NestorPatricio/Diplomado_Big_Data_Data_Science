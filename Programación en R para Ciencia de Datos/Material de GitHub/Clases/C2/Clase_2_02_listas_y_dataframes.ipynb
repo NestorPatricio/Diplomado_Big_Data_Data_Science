{
  "nbformat": 4,
  "nbformat_minor": 0,
  "metadata": {
    "colab": {
      "provenance": [],
      "include_colab_link": true
    },
    "kernelspec": {
      "name": "ir",
      "display_name": "R"
    }
  },
  "cells": [
    {
      "cell_type": "markdown",
      "metadata": {
        "id": "view-in-github",
        "colab_type": "text"
      },
      "source": [
        "<a href=\"https://colab.research.google.com/github/majorquev/DBDC_202304_Programacion_en_R_para_ciencia_de_datos/blob/main/Clases/C2/Clase_2_02_listas_y_dataframes.ipynb\" target=\"_parent\"><img src=\"https://colab.research.google.com/assets/colab-badge.svg\" alt=\"Open In Colab\"/></a>"
      ]
    },
    {
      "cell_type": "markdown",
      "metadata": {
        "collapsed": true,
        "id": "fgQ2azLwTpRn"
      },
      "source": [
        "# Parte 1: Introducción a R (continuación)\n",
        "\n",
        "**Autor:** Miguel Jorquera Viguera<br>\n",
        "**E-mail:** majorquev@gmail.com<br>\n",
        "**Ayudante:** Rodrigo Morales <br>\n",
        "**E-mail ayudante:** rumorale1@gmail.com\n",
        "\n",
        "\n",
        "## 5. Listas y Dataframes\n",
        "\n",
        "### 5.1 Listas\n",
        "\n",
        "Hasta aquí contamos con dos tipos de objetos para almacenar datos; vectores y matrices. Sin embargo, en ambos casos se tiene la limitante de que no es posible combinar distintos tipos de datos en diferentes entradas. Un objeto que permite una mayor flexibilidad son las listas. En R, una lista es básicamente un arreglo unidimensional, donde en cada entrada es posible almacenar distintos **objetos** (los cuales a su vez pueden almacenar distintos tipos de datos (u otros objetos).\n",
        "En resumen,\n",
        "\n",
        "   * ¿Qué son?<br>\n",
        "    Arreglos unidimensionales que guardan distintos tipos de datos u objetos.<br>\n",
        "\n",
        "   * ¿Cómo se declaran?<br>\n",
        "    Se pueden declarar mediante el comando list() o combinando listas existentes. <br>\n",
        "    \n",
        "   * ¿Cómo se accede a sus elementos?<br>\n",
        "    Usando [ ] (retorna lista), o bien usando [ [ ] ] (retorna el objeto). \n",
        "    En cada caso se puede indicar la posición o nombre del objeto que se quiere rescatar.<br>\n",
        "    Otra manera es mediante el símbolo $ seguido del nombre del objeto.\n",
        "\n"
      ]
    },
    {
      "cell_type": "code",
      "source": [
        "v <- c(a = 1, b=4,c = 5) # Recordar que podemos definir los elemntos de un vector con nombres\n",
        "v"
      ],
      "metadata": {
        "id": "VG1YIFPcWntM",
        "outputId": "3851c86c-3a90-4be0-c131-9a70cb73cfbd",
        "colab": {
          "base_uri": "https://localhost:8080/",
          "height": 34
        }
      },
      "execution_count": 2,
      "outputs": [
        {
          "output_type": "display_data",
          "data": {
            "text/html": [
              "<style>\n",
              ".dl-inline {width: auto; margin:0; padding: 0}\n",
              ".dl-inline>dt, .dl-inline>dd {float: none; width: auto; display: inline-block}\n",
              ".dl-inline>dt::after {content: \":\\0020\"; padding-right: .5ex}\n",
              ".dl-inline>dt:not(:first-of-type) {padding-left: .5ex}\n",
              "</style><dl class=dl-inline><dt>a</dt><dd>1</dd><dt>b</dt><dd>4</dd><dt>c</dt><dd>5</dd></dl>\n"
            ],
            "text/markdown": "a\n:   1b\n:   4c\n:   5\n\n",
            "text/latex": "\\begin{description*}\n\\item[a] 1\n\\item[b] 4\n\\item[c] 5\n\\end{description*}\n",
            "text/plain": [
              "a b c \n",
              "1 4 5 "
            ]
          },
          "metadata": {}
        }
      ]
    },
    {
      "cell_type": "code",
      "source": [
        "#tip\n",
        "letters\n",
        "LETTERS"
      ],
      "metadata": {
        "id": "fKcZCcrqW4cI",
        "outputId": "b2b1afd1-6c6a-4385-e40a-6af491dc163a",
        "colab": {
          "base_uri": "https://localhost:8080/",
          "height": 52
        }
      },
      "execution_count": 4,
      "outputs": [
        {
          "output_type": "display_data",
          "data": {
            "text/html": [
              "<style>\n",
              ".list-inline {list-style: none; margin:0; padding: 0}\n",
              ".list-inline>li {display: inline-block}\n",
              ".list-inline>li:not(:last-child)::after {content: \"\\00b7\"; padding: 0 .5ex}\n",
              "</style>\n",
              "<ol class=list-inline><li>'a'</li><li>'b'</li><li>'c'</li><li>'d'</li><li>'e'</li><li>'f'</li><li>'g'</li><li>'h'</li><li>'i'</li><li>'j'</li><li>'k'</li><li>'l'</li><li>'m'</li><li>'n'</li><li>'o'</li><li>'p'</li><li>'q'</li><li>'r'</li><li>'s'</li><li>'t'</li><li>'u'</li><li>'v'</li><li>'w'</li><li>'x'</li><li>'y'</li><li>'z'</li></ol>\n"
            ],
            "text/markdown": "1. 'a'\n2. 'b'\n3. 'c'\n4. 'd'\n5. 'e'\n6. 'f'\n7. 'g'\n8. 'h'\n9. 'i'\n10. 'j'\n11. 'k'\n12. 'l'\n13. 'm'\n14. 'n'\n15. 'o'\n16. 'p'\n17. 'q'\n18. 'r'\n19. 's'\n20. 't'\n21. 'u'\n22. 'v'\n23. 'w'\n24. 'x'\n25. 'y'\n26. 'z'\n\n\n",
            "text/latex": "\\begin{enumerate*}\n\\item 'a'\n\\item 'b'\n\\item 'c'\n\\item 'd'\n\\item 'e'\n\\item 'f'\n\\item 'g'\n\\item 'h'\n\\item 'i'\n\\item 'j'\n\\item 'k'\n\\item 'l'\n\\item 'm'\n\\item 'n'\n\\item 'o'\n\\item 'p'\n\\item 'q'\n\\item 'r'\n\\item 's'\n\\item 't'\n\\item 'u'\n\\item 'v'\n\\item 'w'\n\\item 'x'\n\\item 'y'\n\\item 'z'\n\\end{enumerate*}\n",
            "text/plain": [
              " [1] \"a\" \"b\" \"c\" \"d\" \"e\" \"f\" \"g\" \"h\" \"i\" \"j\" \"k\" \"l\" \"m\" \"n\" \"o\" \"p\" \"q\" \"r\" \"s\"\n",
              "[20] \"t\" \"u\" \"v\" \"w\" \"x\" \"y\" \"z\""
            ]
          },
          "metadata": {}
        },
        {
          "output_type": "display_data",
          "data": {
            "text/html": [
              "<style>\n",
              ".list-inline {list-style: none; margin:0; padding: 0}\n",
              ".list-inline>li {display: inline-block}\n",
              ".list-inline>li:not(:last-child)::after {content: \"\\00b7\"; padding: 0 .5ex}\n",
              "</style>\n",
              "<ol class=list-inline><li>'A'</li><li>'B'</li><li>'C'</li><li>'D'</li><li>'E'</li><li>'F'</li><li>'G'</li><li>'H'</li><li>'I'</li><li>'J'</li><li>'K'</li><li>'L'</li><li>'M'</li><li>'N'</li><li>'O'</li><li>'P'</li><li>'Q'</li><li>'R'</li><li>'S'</li><li>'T'</li><li>'U'</li><li>'V'</li><li>'W'</li><li>'X'</li><li>'Y'</li><li>'Z'</li></ol>\n"
            ],
            "text/markdown": "1. 'A'\n2. 'B'\n3. 'C'\n4. 'D'\n5. 'E'\n6. 'F'\n7. 'G'\n8. 'H'\n9. 'I'\n10. 'J'\n11. 'K'\n12. 'L'\n13. 'M'\n14. 'N'\n15. 'O'\n16. 'P'\n17. 'Q'\n18. 'R'\n19. 'S'\n20. 'T'\n21. 'U'\n22. 'V'\n23. 'W'\n24. 'X'\n25. 'Y'\n26. 'Z'\n\n\n",
            "text/latex": "\\begin{enumerate*}\n\\item 'A'\n\\item 'B'\n\\item 'C'\n\\item 'D'\n\\item 'E'\n\\item 'F'\n\\item 'G'\n\\item 'H'\n\\item 'I'\n\\item 'J'\n\\item 'K'\n\\item 'L'\n\\item 'M'\n\\item 'N'\n\\item 'O'\n\\item 'P'\n\\item 'Q'\n\\item 'R'\n\\item 'S'\n\\item 'T'\n\\item 'U'\n\\item 'V'\n\\item 'W'\n\\item 'X'\n\\item 'Y'\n\\item 'Z'\n\\end{enumerate*}\n",
            "text/plain": [
              " [1] \"A\" \"B\" \"C\" \"D\" \"E\" \"F\" \"G\" \"H\" \"I\" \"J\" \"K\" \"L\" \"M\" \"N\" \"O\" \"P\" \"Q\" \"R\" \"S\"\n",
              "[20] \"T\" \"U\" \"V\" \"W\" \"X\" \"Y\" \"Z\""
            ]
          },
          "metadata": {}
        }
      ]
    },
    {
      "cell_type": "code",
      "metadata": {
        "trusted": true,
        "id": "Ao1wFCByTpRx"
      },
      "source": [
        "# Podemos guardar los objetos en slots con nombres\n"
      ],
      "execution_count": null,
      "outputs": []
    },
    {
      "cell_type": "code",
      "metadata": {
        "trusted": true,
        "id": "zZHpLzzRTpRp"
      },
      "source": [
        "# 5. Listas y dataframes ------------\n",
        "# 5.1 Listas  ------------\n",
        "# Cómo declarar una lista (comando list() )\n",
        "#num,letra, pl, mat, lista\n",
        "l1 <- list(num = 10,\n",
        "           letra = c(\"a\",\"b\"),\n",
        "           pl = \"hola soy una frase\",\n",
        "           mat = diag(1:3),\n",
        "           lista = list(100, c(T,F)))"
      ],
      "execution_count": 5,
      "outputs": []
    },
    {
      "cell_type": "code",
      "source": [
        "l1"
      ],
      "metadata": {
        "id": "jT_l2TN0XQ5w",
        "outputId": "892929c0-9649-423b-835f-d95750492f89",
        "colab": {
          "base_uri": "https://localhost:8080/",
          "height": 379
        }
      },
      "execution_count": 6,
      "outputs": [
        {
          "output_type": "display_data",
          "data": {
            "text/html": [
              "<dl>\n",
              "\t<dt>$num</dt>\n",
              "\t\t<dd>10</dd>\n",
              "\t<dt>$letra</dt>\n",
              "\t\t<dd><style>\n",
              ".list-inline {list-style: none; margin:0; padding: 0}\n",
              ".list-inline>li {display: inline-block}\n",
              ".list-inline>li:not(:last-child)::after {content: \"\\00b7\"; padding: 0 .5ex}\n",
              "</style>\n",
              "<ol class=list-inline><li>'a'</li><li>'b'</li></ol>\n",
              "</dd>\n",
              "\t<dt>$pl</dt>\n",
              "\t\t<dd>'hola soy una frase'</dd>\n",
              "\t<dt>$mat</dt>\n",
              "\t\t<dd><table class=\"dataframe\">\n",
              "<caption>A matrix: 3 × 3 of type int</caption>\n",
              "<tbody>\n",
              "\t<tr><td>1</td><td>0</td><td>0</td></tr>\n",
              "\t<tr><td>0</td><td>2</td><td>0</td></tr>\n",
              "\t<tr><td>0</td><td>0</td><td>3</td></tr>\n",
              "</tbody>\n",
              "</table>\n",
              "</dd>\n",
              "\t<dt>$lista</dt>\n",
              "\t\t<dd><ol>\n",
              "\t<li>100</li>\n",
              "\t<li><style>\n",
              ".list-inline {list-style: none; margin:0; padding: 0}\n",
              ".list-inline>li {display: inline-block}\n",
              ".list-inline>li:not(:last-child)::after {content: \"\\00b7\"; padding: 0 .5ex}\n",
              "</style>\n",
              "<ol class=list-inline><li>TRUE</li><li>FALSE</li></ol>\n",
              "</li>\n",
              "</ol>\n",
              "</dd>\n",
              "</dl>\n"
            ],
            "text/markdown": "$num\n:   10\n$letra\n:   1. 'a'\n2. 'b'\n\n\n\n$pl\n:   'hola soy una frase'\n$mat\n:   \nA matrix: 3 × 3 of type int\n\n| 1 | 0 | 0 |\n| 0 | 2 | 0 |\n| 0 | 0 | 3 |\n\n\n$lista\n:   1. 100\n2. 1. TRUE\n2. FALSE\n\n\n\n\n\n\n\n\n",
            "text/latex": "\\begin{description}\n\\item[\\$num] 10\n\\item[\\$letra] \\begin{enumerate*}\n\\item 'a'\n\\item 'b'\n\\end{enumerate*}\n\n\\item[\\$pl] 'hola soy una frase'\n\\item[\\$mat] A matrix: 3 × 3 of type int\n\\begin{tabular}{lll}\n\t 1 & 0 & 0\\\\\n\t 0 & 2 & 0\\\\\n\t 0 & 0 & 3\\\\\n\\end{tabular}\n\n\\item[\\$lista] \\begin{enumerate}\n\\item 100\n\\item \\begin{enumerate*}\n\\item TRUE\n\\item FALSE\n\\end{enumerate*}\n\n\\end{enumerate}\n\n\\end{description}\n",
            "text/plain": [
              "$num\n",
              "[1] 10\n",
              "\n",
              "$letra\n",
              "[1] \"a\" \"b\"\n",
              "\n",
              "$pl\n",
              "[1] \"hola soy una frase\"\n",
              "\n",
              "$mat\n",
              "     [,1] [,2] [,3]\n",
              "[1,]    1    0    0\n",
              "[2,]    0    2    0\n",
              "[3,]    0    0    3\n",
              "\n",
              "$lista\n",
              "$lista[[1]]\n",
              "[1] 100\n",
              "\n",
              "$lista[[2]]\n",
              "[1]  TRUE FALSE\n",
              "\n"
            ]
          },
          "metadata": {}
        }
      ]
    },
    {
      "cell_type": "code",
      "metadata": {
        "id": "_iwOQA-xTzww",
        "outputId": "daae8da1-9400-4540-f17d-2649f423ee67",
        "colab": {
          "base_uri": "https://localhost:8080/"
        }
      },
      "source": [
        "# estructura\n",
        "str(l1)"
      ],
      "execution_count": 7,
      "outputs": [
        {
          "output_type": "stream",
          "name": "stdout",
          "text": [
            "List of 5\n",
            " $ num  : num 10\n",
            " $ letra: chr [1:2] \"a\" \"b\"\n",
            " $ pl   : chr \"hola soy una frase\"\n",
            " $ mat  : int [1:3, 1:3] 1 0 0 0 2 0 0 0 3\n",
            " $ lista:List of 2\n",
            "  ..$ : num 100\n",
            "  ..$ : logi [1:2] TRUE FALSE\n"
          ]
        }
      ]
    },
    {
      "cell_type": "code",
      "source": [
        "length(l1)"
      ],
      "metadata": {
        "id": "Ps-7oV3HXtqK",
        "outputId": "3dbc1d1e-209b-4c9b-9c09-bdc3e0f6abf1",
        "colab": {
          "base_uri": "https://localhost:8080/",
          "height": 34
        }
      },
      "execution_count": 8,
      "outputs": [
        {
          "output_type": "display_data",
          "data": {
            "text/html": [
              "5"
            ],
            "text/markdown": "5",
            "text/latex": "5",
            "text/plain": [
              "[1] 5"
            ]
          },
          "metadata": {}
        }
      ]
    },
    {
      "cell_type": "code",
      "metadata": {
        "trusted": true,
        "id": "GBuxGL4cTpR0",
        "outputId": "6ba17714-0da9-4bbc-f51c-0d3c5f164357",
        "colab": {
          "base_uri": "https://localhost:8080/"
        }
      },
      "source": [
        "# Podemos combinar listas\n",
        "l2 <- list(prim = 1:2,\n",
        "           seg = LETTERS)\n",
        "\n",
        "str(l2)\n",
        "\n"
      ],
      "execution_count": 12,
      "outputs": [
        {
          "output_type": "stream",
          "name": "stdout",
          "text": [
            "List of 2\n",
            " $ prim: int [1:2] 1 2\n",
            " $ seg : chr [1:26] \"A\" \"B\" \"C\" \"D\" ...\n"
          ]
        }
      ]
    },
    {
      "cell_type": "code",
      "source": [
        "# Combinamos las dos listas (l1,l2)\n",
        "l3 <- c(l1,l2)\n",
        "str(l3)"
      ],
      "metadata": {
        "id": "r99GPAOtYI0y",
        "outputId": "d510fb89-9a35-4b53-808c-e32253bdce8b",
        "colab": {
          "base_uri": "https://localhost:8080/"
        }
      },
      "execution_count": 14,
      "outputs": [
        {
          "output_type": "stream",
          "name": "stdout",
          "text": [
            "List of 7\n",
            " $ num  : num 10\n",
            " $ letra: chr [1:2] \"a\" \"b\"\n",
            " $ pl   : chr \"hola soy una frase\"\n",
            " $ mat  : int [1:3, 1:3] 1 0 0 0 2 0 0 0 3\n",
            " $ lista:List of 2\n",
            "  ..$ : num 100\n",
            "  ..$ : logi [1:2] TRUE FALSE\n",
            " $ prim : int [1:2] 1 2\n",
            " $ seg  : chr [1:26] \"A\" \"B\" \"C\" \"D\" ...\n"
          ]
        }
      ]
    },
    {
      "cell_type": "code",
      "metadata": {
        "trusted": true,
        "id": "uUv7BQfnTpR3",
        "outputId": "7a85b241-04f2-46ee-b121-7147500a5b32",
        "colab": {
          "base_uri": "https://localhost:8080/",
          "height": 180
        }
      },
      "source": [
        "# Acceso mediante posición\n",
        "# Queremos rescatar el elemtno de pos 4\n",
        "\n",
        "l3[4]# Esto retorna un lista con el elemento"
      ],
      "execution_count": 19,
      "outputs": [
        {
          "output_type": "display_data",
          "data": {
            "text/html": [
              "<strong>$mat</strong> = <table class=\"dataframe\">\n",
              "<caption>A matrix: 3 × 3 of type int</caption>\n",
              "<tbody>\n",
              "\t<tr><td>1</td><td>0</td><td>0</td></tr>\n",
              "\t<tr><td>0</td><td>2</td><td>0</td></tr>\n",
              "\t<tr><td>0</td><td>0</td><td>3</td></tr>\n",
              "</tbody>\n",
              "</table>\n"
            ],
            "text/markdown": "**$mat** = \nA matrix: 3 × 3 of type int\n\n| 1 | 0 | 0 |\n| 0 | 2 | 0 |\n| 0 | 0 | 3 |\n\n",
            "text/latex": "\\textbf{\\$mat} = A matrix: 3 × 3 of type int\n\\begin{tabular}{lll}\n\t 1 & 0 & 0\\\\\n\t 0 & 2 & 0\\\\\n\t 0 & 0 & 3\\\\\n\\end{tabular}\n",
            "text/plain": [
              "$mat\n",
              "     [,1] [,2] [,3]\n",
              "[1,]    1    0    0\n",
              "[2,]    0    2    0\n",
              "[3,]    0    0    3\n"
            ]
          },
          "metadata": {}
        }
      ]
    },
    {
      "cell_type": "code",
      "source": [
        "str(l3[4])"
      ],
      "metadata": {
        "id": "NgkIgof_Y3-M",
        "outputId": "1a3763a9-0e02-4ecf-8157-0f3961a377b3",
        "colab": {
          "base_uri": "https://localhost:8080/"
        }
      },
      "execution_count": 20,
      "outputs": [
        {
          "output_type": "stream",
          "name": "stdout",
          "text": [
            "List of 1\n",
            " $ mat: int [1:3, 1:3] 1 0 0 0 2 0 0 0 3\n"
          ]
        }
      ]
    },
    {
      "cell_type": "code",
      "metadata": {
        "trusted": true,
        "id": "L3RDKUqOTpR5",
        "outputId": "215e6cd8-838a-47f3-ae03-2b628f3b23f3",
        "colab": {
          "base_uri": "https://localhost:8080/",
          "height": 243
        }
      },
      "source": [
        "l3[c(2,4)]# Retorna una lista con los elemtnos de pos 2  y 4"
      ],
      "execution_count": 21,
      "outputs": [
        {
          "output_type": "display_data",
          "data": {
            "text/html": [
              "<dl>\n",
              "\t<dt>$letra</dt>\n",
              "\t\t<dd><style>\n",
              ".list-inline {list-style: none; margin:0; padding: 0}\n",
              ".list-inline>li {display: inline-block}\n",
              ".list-inline>li:not(:last-child)::after {content: \"\\00b7\"; padding: 0 .5ex}\n",
              "</style>\n",
              "<ol class=list-inline><li>'a'</li><li>'b'</li></ol>\n",
              "</dd>\n",
              "\t<dt>$mat</dt>\n",
              "\t\t<dd><table class=\"dataframe\">\n",
              "<caption>A matrix: 3 × 3 of type int</caption>\n",
              "<tbody>\n",
              "\t<tr><td>1</td><td>0</td><td>0</td></tr>\n",
              "\t<tr><td>0</td><td>2</td><td>0</td></tr>\n",
              "\t<tr><td>0</td><td>0</td><td>3</td></tr>\n",
              "</tbody>\n",
              "</table>\n",
              "</dd>\n",
              "</dl>\n"
            ],
            "text/markdown": "$letra\n:   1. 'a'\n2. 'b'\n\n\n\n$mat\n:   \nA matrix: 3 × 3 of type int\n\n| 1 | 0 | 0 |\n| 0 | 2 | 0 |\n| 0 | 0 | 3 |\n\n\n\n\n",
            "text/latex": "\\begin{description}\n\\item[\\$letra] \\begin{enumerate*}\n\\item 'a'\n\\item 'b'\n\\end{enumerate*}\n\n\\item[\\$mat] A matrix: 3 × 3 of type int\n\\begin{tabular}{lll}\n\t 1 & 0 & 0\\\\\n\t 0 & 2 & 0\\\\\n\t 0 & 0 & 3\\\\\n\\end{tabular}\n\n\\end{description}\n",
            "text/plain": [
              "$letra\n",
              "[1] \"a\" \"b\"\n",
              "\n",
              "$mat\n",
              "     [,1] [,2] [,3]\n",
              "[1,]    1    0    0\n",
              "[2,]    0    2    0\n",
              "[3,]    0    0    3\n"
            ]
          },
          "metadata": {}
        }
      ]
    },
    {
      "cell_type": "code",
      "metadata": {
        "trusted": true,
        "id": "QbQ8QHARTpR7",
        "outputId": "7be4b4d2-ef11-467f-c5ba-4bdabb3e8089",
        "colab": {
          "base_uri": "https://localhost:8080/",
          "height": 52
        }
      },
      "source": [
        "# NOTA lista[.] retorna un lista con un elemento,\n",
        "# lista[[.]] retorna el elmento de la lista lista[.]\n",
        "l3[1]# Esto es una lista\n",
        "l3[[1]]# Esto es el objeto al interior de la lista\n"
      ],
      "execution_count": 23,
      "outputs": [
        {
          "output_type": "display_data",
          "data": {
            "text/html": [
              "<strong>$num</strong> = 10"
            ],
            "text/markdown": "**$num** = 10",
            "text/latex": "\\textbf{\\$num} = 10",
            "text/plain": [
              "$num\n",
              "[1] 10\n"
            ]
          },
          "metadata": {}
        },
        {
          "output_type": "display_data",
          "data": {
            "text/html": [
              "10"
            ],
            "text/markdown": "10",
            "text/latex": "10",
            "text/plain": [
              "[1] 10"
            ]
          },
          "metadata": {}
        }
      ]
    },
    {
      "cell_type": "code",
      "source": [
        "#Ahora si\n",
        "l3[[1]] + 5"
      ],
      "metadata": {
        "id": "5obOTjhJZhgf",
        "outputId": "175bbbe7-38fe-4d6d-e1f1-a1c67added78",
        "colab": {
          "base_uri": "https://localhost:8080/",
          "height": 34
        }
      },
      "execution_count": 24,
      "outputs": [
        {
          "output_type": "display_data",
          "data": {
            "text/html": [
              "15"
            ],
            "text/markdown": "15",
            "text/latex": "15",
            "text/plain": [
              "[1] 15"
            ]
          },
          "metadata": {}
        }
      ]
    },
    {
      "cell_type": "code",
      "source": [
        "str(l3)"
      ],
      "metadata": {
        "id": "wpkesJL9ZpTW",
        "outputId": "3f335ea2-d3f3-45d7-f69b-22a21e39cc7e",
        "colab": {
          "base_uri": "https://localhost:8080/"
        }
      },
      "execution_count": 25,
      "outputs": [
        {
          "output_type": "stream",
          "name": "stdout",
          "text": [
            "List of 7\n",
            " $ num  : num 10\n",
            " $ letra: chr [1:2] \"a\" \"b\"\n",
            " $ pl   : chr \"hola soy una frase\"\n",
            " $ mat  : int [1:3, 1:3] 1 0 0 0 2 0 0 0 3\n",
            " $ lista:List of 2\n",
            "  ..$ : num 100\n",
            "  ..$ : logi [1:2] TRUE FALSE\n",
            " $ prim : int [1:2] 1 2\n",
            " $ seg  : chr [1:26] \"A\" \"B\" \"C\" \"D\" ...\n"
          ]
        }
      ]
    },
    {
      "cell_type": "code",
      "metadata": {
        "trusted": true,
        "id": "kaOJqYJETpSC",
        "outputId": "3eef3840-a09a-41e7-892e-38ead20f70fa",
        "colab": {
          "base_uri": "https://localhost:8080/",
          "height": 34
        }
      },
      "source": [
        "# Del vector que está en la pos 7 de l3, quiero la décima letra.\n",
        "l3[[7]][10]\n"
      ],
      "execution_count": 27,
      "outputs": [
        {
          "output_type": "display_data",
          "data": {
            "text/html": [
              "'J'"
            ],
            "text/markdown": "'J'",
            "text/latex": "'J'",
            "text/plain": [
              "[1] \"J\""
            ]
          },
          "metadata": {}
        }
      ]
    },
    {
      "cell_type": "code",
      "metadata": {
        "trusted": true,
        "id": "UZ4k5DQ9TpSE",
        "outputId": "3a2933b5-92bb-4a56-97c2-d4b76768a749",
        "colab": {
          "base_uri": "https://localhost:8080/",
          "height": 97
        }
      },
      "source": [
        "# De la lista que está en la pos 5, quiero el segundo elemento del vector de la segunda entrada\n",
        "l3[5] # esta es la lista con la lista del slot 5\n"
      ],
      "execution_count": 33,
      "outputs": [
        {
          "output_type": "display_data",
          "data": {
            "text/html": [
              "<strong>$lista</strong> = <ol>\n",
              "\t<li>100</li>\n",
              "\t<li><style>\n",
              ".list-inline {list-style: none; margin:0; padding: 0}\n",
              ".list-inline>li {display: inline-block}\n",
              ".list-inline>li:not(:last-child)::after {content: \"\\00b7\"; padding: 0 .5ex}\n",
              "</style>\n",
              "<ol class=list-inline><li>TRUE</li><li>FALSE</li></ol>\n",
              "</li>\n",
              "</ol>\n"
            ],
            "text/markdown": "**$lista** = 1. 100\n2. 1. TRUE\n2. FALSE\n\n\n\n\n\n",
            "text/latex": "\\textbf{\\$lista} = \\begin{enumerate}\n\\item 100\n\\item \\begin{enumerate*}\n\\item TRUE\n\\item FALSE\n\\end{enumerate*}\n\n\\end{enumerate}\n",
            "text/plain": [
              "$lista\n",
              "$lista[[1]]\n",
              "[1] 100\n",
              "\n",
              "$lista[[2]]\n",
              "[1]  TRUE FALSE\n",
              "\n"
            ]
          },
          "metadata": {}
        }
      ]
    },
    {
      "cell_type": "code",
      "source": [
        "l3[[5]]# esta es la lista guardada en el slot 5"
      ],
      "metadata": {
        "id": "evLMt11fa2Wn",
        "outputId": "6d3c6574-bc15-4b01-ca08-0e3f0dfdd4c9",
        "colab": {
          "base_uri": "https://localhost:8080/",
          "height": 80
        }
      },
      "execution_count": 34,
      "outputs": [
        {
          "output_type": "display_data",
          "data": {
            "text/html": [
              "<ol>\n",
              "\t<li>100</li>\n",
              "\t<li><style>\n",
              ".list-inline {list-style: none; margin:0; padding: 0}\n",
              ".list-inline>li {display: inline-block}\n",
              ".list-inline>li:not(:last-child)::after {content: \"\\00b7\"; padding: 0 .5ex}\n",
              "</style>\n",
              "<ol class=list-inline><li>TRUE</li><li>FALSE</li></ol>\n",
              "</li>\n",
              "</ol>\n"
            ],
            "text/markdown": "1. 100\n2. 1. TRUE\n2. FALSE\n\n\n\n\n\n",
            "text/latex": "\\begin{enumerate}\n\\item 100\n\\item \\begin{enumerate*}\n\\item TRUE\n\\item FALSE\n\\end{enumerate*}\n\n\\end{enumerate}\n",
            "text/plain": [
              "[[1]]\n",
              "[1] 100\n",
              "\n",
              "[[2]]\n",
              "[1]  TRUE FALSE\n"
            ]
          },
          "metadata": {}
        }
      ]
    },
    {
      "cell_type": "code",
      "source": [
        "l3[[5]][[2]]# Es el vector que está en la segunda pos de la lista l3[[5]]"
      ],
      "metadata": {
        "id": "HaNx5TvIa934",
        "outputId": "8233704f-ac4b-4b95-b4cd-fd44d7a5f00a",
        "colab": {
          "base_uri": "https://localhost:8080/",
          "height": 34
        }
      },
      "execution_count": 35,
      "outputs": [
        {
          "output_type": "display_data",
          "data": {
            "text/html": [
              "<style>\n",
              ".list-inline {list-style: none; margin:0; padding: 0}\n",
              ".list-inline>li {display: inline-block}\n",
              ".list-inline>li:not(:last-child)::after {content: \"\\00b7\"; padding: 0 .5ex}\n",
              "</style>\n",
              "<ol class=list-inline><li>TRUE</li><li>FALSE</li></ol>\n"
            ],
            "text/markdown": "1. TRUE\n2. FALSE\n\n\n",
            "text/latex": "\\begin{enumerate*}\n\\item TRUE\n\\item FALSE\n\\end{enumerate*}\n",
            "text/plain": [
              "[1]  TRUE FALSE"
            ]
          },
          "metadata": {}
        }
      ]
    },
    {
      "cell_type": "code",
      "source": [
        "l3[[5]][[2]][2]# Es segundo elmento del vector l3[[5]][[2]]"
      ],
      "metadata": {
        "id": "ihe8zazvbHyX",
        "outputId": "91575de3-d528-47f8-9f4c-2221078c9866",
        "colab": {
          "base_uri": "https://localhost:8080/",
          "height": 34
        }
      },
      "execution_count": 40,
      "outputs": [
        {
          "output_type": "display_data",
          "data": {
            "text/html": [
              "FALSE"
            ],
            "text/markdown": "FALSE",
            "text/latex": "FALSE",
            "text/plain": [
              "[1] FALSE"
            ]
          },
          "metadata": {}
        }
      ]
    },
    {
      "cell_type": "code",
      "source": [
        "str(l3)"
      ],
      "metadata": {
        "id": "qQjw7GWcbWQZ",
        "outputId": "4efee454-a8f8-48ee-9bf3-bfae15361647",
        "colab": {
          "base_uri": "https://localhost:8080/"
        }
      },
      "execution_count": 37,
      "outputs": [
        {
          "output_type": "stream",
          "name": "stdout",
          "text": [
            "List of 7\n",
            " $ num  : num 10\n",
            " $ letra: chr [1:2] \"a\" \"b\"\n",
            " $ pl   : chr \"hola soy una frase\"\n",
            " $ mat  : int [1:3, 1:3] 1 0 0 0 2 0 0 0 3\n",
            " $ lista:List of 2\n",
            "  ..$ : num 100\n",
            "  ..$ : logi [1:2] TRUE FALSE\n",
            " $ prim : int [1:2] 1 2\n",
            " $ seg  : chr [1:26] \"A\" \"B\" \"C\" \"D\" ...\n"
          ]
        }
      ]
    },
    {
      "cell_type": "code",
      "metadata": {
        "trusted": true,
        "id": "jYFKb27-TpSG",
        "outputId": "1733b90e-04a4-4bf5-8d2a-8439fbef0e04",
        "colab": {
          "base_uri": "https://localhost:8080/",
          "height": 34
        }
      },
      "source": [
        "# Acceso mediante nombre\n",
        "\n",
        "l3[[\"lista\"]][[2]][2]"
      ],
      "execution_count": 38,
      "outputs": [
        {
          "output_type": "display_data",
          "data": {
            "text/html": [
              "FALSE"
            ],
            "text/markdown": "FALSE",
            "text/latex": "FALSE",
            "text/plain": [
              "[1] FALSE"
            ]
          },
          "metadata": {}
        }
      ]
    },
    {
      "cell_type": "code",
      "source": [],
      "metadata": {
        "id": "ANfY2M7hbm_w"
      },
      "execution_count": null,
      "outputs": []
    },
    {
      "cell_type": "code",
      "source": [
        "l3[\"mat\"]# lista con la matriz\n"
      ],
      "metadata": {
        "id": "9Aij-cPFbb-Y",
        "outputId": "1e5b2b0a-0fd7-4f7e-9f33-ead0100c7e87",
        "colab": {
          "base_uri": "https://localhost:8080/",
          "height": 180
        }
      },
      "execution_count": 39,
      "outputs": [
        {
          "output_type": "display_data",
          "data": {
            "text/html": [
              "<strong>$mat</strong> = <table class=\"dataframe\">\n",
              "<caption>A matrix: 3 × 3 of type int</caption>\n",
              "<tbody>\n",
              "\t<tr><td>1</td><td>0</td><td>0</td></tr>\n",
              "\t<tr><td>0</td><td>2</td><td>0</td></tr>\n",
              "\t<tr><td>0</td><td>0</td><td>3</td></tr>\n",
              "</tbody>\n",
              "</table>\n"
            ],
            "text/markdown": "**$mat** = \nA matrix: 3 × 3 of type int\n\n| 1 | 0 | 0 |\n| 0 | 2 | 0 |\n| 0 | 0 | 3 |\n\n",
            "text/latex": "\\textbf{\\$mat} = A matrix: 3 × 3 of type int\n\\begin{tabular}{lll}\n\t 1 & 0 & 0\\\\\n\t 0 & 2 & 0\\\\\n\t 0 & 0 & 3\\\\\n\\end{tabular}\n",
            "text/plain": [
              "$mat\n",
              "     [,1] [,2] [,3]\n",
              "[1,]    1    0    0\n",
              "[2,]    0    2    0\n",
              "[3,]    0    0    3\n"
            ]
          },
          "metadata": {}
        }
      ]
    },
    {
      "cell_type": "code",
      "source": [
        "l3[[\"mat\"]]# Matriz"
      ],
      "metadata": {
        "id": "I0LI2tPtbnuR",
        "outputId": "d8db59f8-6432-4e94-8862-df498f51cfd3",
        "colab": {
          "base_uri": "https://localhost:8080/",
          "height": 163
        }
      },
      "execution_count": 41,
      "outputs": [
        {
          "output_type": "display_data",
          "data": {
            "text/html": [
              "<table class=\"dataframe\">\n",
              "<caption>A matrix: 3 × 3 of type int</caption>\n",
              "<tbody>\n",
              "\t<tr><td>1</td><td>0</td><td>0</td></tr>\n",
              "\t<tr><td>0</td><td>2</td><td>0</td></tr>\n",
              "\t<tr><td>0</td><td>0</td><td>3</td></tr>\n",
              "</tbody>\n",
              "</table>\n"
            ],
            "text/markdown": "\nA matrix: 3 × 3 of type int\n\n| 1 | 0 | 0 |\n| 0 | 2 | 0 |\n| 0 | 0 | 3 |\n\n",
            "text/latex": "A matrix: 3 × 3 of type int\n\\begin{tabular}{lll}\n\t 1 & 0 & 0\\\\\n\t 0 & 2 & 0\\\\\n\t 0 & 0 & 3\\\\\n\\end{tabular}\n",
            "text/plain": [
              "     [,1] [,2] [,3]\n",
              "[1,] 1    0    0   \n",
              "[2,] 0    2    0   \n",
              "[3,] 0    0    3   "
            ]
          },
          "metadata": {}
        }
      ]
    },
    {
      "cell_type": "code",
      "metadata": {
        "trusted": true,
        "id": "a9UBaNOuTpSI",
        "outputId": "52d0c1c1-47de-46e0-b01e-6484cf978e05",
        "colab": {
          "base_uri": "https://localhost:8080/",
          "height": 163
        }
      },
      "source": [
        "# acceso vía \"$\"\n",
        "l3$mat# Es equivalente a l3[[\"mat\"]]  o l3[[4]]\n",
        "\n",
        "\n"
      ],
      "execution_count": 43,
      "outputs": [
        {
          "output_type": "display_data",
          "data": {
            "text/html": [
              "<table class=\"dataframe\">\n",
              "<caption>A matrix: 3 × 3 of type int</caption>\n",
              "<tbody>\n",
              "\t<tr><td>1</td><td>0</td><td>0</td></tr>\n",
              "\t<tr><td>0</td><td>2</td><td>0</td></tr>\n",
              "\t<tr><td>0</td><td>0</td><td>3</td></tr>\n",
              "</tbody>\n",
              "</table>\n"
            ],
            "text/markdown": "\nA matrix: 3 × 3 of type int\n\n| 1 | 0 | 0 |\n| 0 | 2 | 0 |\n| 0 | 0 | 3 |\n\n",
            "text/latex": "A matrix: 3 × 3 of type int\n\\begin{tabular}{lll}\n\t 1 & 0 & 0\\\\\n\t 0 & 2 & 0\\\\\n\t 0 & 0 & 3\\\\\n\\end{tabular}\n",
            "text/plain": [
              "     [,1] [,2] [,3]\n",
              "[1,] 1    0    0   \n",
              "[2,] 0    2    0   \n",
              "[3,] 0    0    3   "
            ]
          },
          "metadata": {}
        }
      ]
    },
    {
      "cell_type": "code",
      "source": [
        "l4 <- list(a = list(x = 1, y =2),\n",
        "           b = list(w = 8, z = list(q = 10)))"
      ],
      "metadata": {
        "id": "aknx89ujcEc3"
      },
      "execution_count": 45,
      "outputs": []
    },
    {
      "cell_type": "code",
      "source": [
        "str(l4)"
      ],
      "metadata": {
        "id": "V7LvAkzncUgH",
        "outputId": "bf65b79d-6b1b-4d9b-b52c-e077d04a9cd8",
        "colab": {
          "base_uri": "https://localhost:8080/"
        }
      },
      "execution_count": 46,
      "outputs": [
        {
          "output_type": "stream",
          "name": "stdout",
          "text": [
            "List of 2\n",
            " $ a:List of 2\n",
            "  ..$ x: num 1\n",
            "  ..$ y: num 2\n",
            " $ b:List of 2\n",
            "  ..$ w: num 8\n",
            "  ..$ z:List of 1\n",
            "  .. ..$ q: num 10\n"
          ]
        }
      ]
    },
    {
      "cell_type": "code",
      "source": [
        "l4$b$z$q\n",
        "\n",
        "#o equivalentemente.\n",
        "\n",
        "l4[[\"b\"]][[\"z\"]][[\"q\"]]"
      ],
      "metadata": {
        "id": "Lmpx4qjacZQG",
        "outputId": "2b1ee953-5292-4513-ef9b-4929c21d45f6",
        "colab": {
          "base_uri": "https://localhost:8080/",
          "height": 52
        }
      },
      "execution_count": 51,
      "outputs": [
        {
          "output_type": "display_data",
          "data": {
            "text/html": [
              "10"
            ],
            "text/markdown": "10",
            "text/latex": "10",
            "text/plain": [
              "[1] 10"
            ]
          },
          "metadata": {}
        },
        {
          "output_type": "display_data",
          "data": {
            "text/html": [
              "10"
            ],
            "text/markdown": "10",
            "text/latex": "10",
            "text/plain": [
              "[1] 10"
            ]
          },
          "metadata": {}
        }
      ]
    },
    {
      "cell_type": "code",
      "metadata": {
        "trusted": true,
        "id": "Dumeo0-NTpSM"
      },
      "source": [
        "# para saber el largo de la lista/vector\n",
        "\n",
        "# Para obtener los nombres de la lista\n",
        "\n",
        "# si quisiéramos renombrar los slots:\n"
      ],
      "execution_count": null,
      "outputs": []
    },
    {
      "cell_type": "code",
      "metadata": {
        "trusted": true,
        "id": "Uij1PdVrTpSO"
      },
      "source": [
        "# También podemos crear nuevos \"slots\"\n",
        "## Indicando nombre en [[]] y luego asignando\n"
      ],
      "execution_count": null,
      "outputs": []
    },
    {
      "cell_type": "code",
      "metadata": {
        "trusted": true,
        "id": "rBB4hT9RTpSQ"
      },
      "source": [
        "# podemos modificar elementos dentro de un slot\n",
        "\n"
      ],
      "execution_count": null,
      "outputs": []
    },
    {
      "cell_type": "markdown",
      "metadata": {
        "id": "128wI4ZoTpSS"
      },
      "source": [
        "### 5.2 Dataframes\n",
        "\n",
        "Un dataframe es un caso particular de una lista, donde los objetos de cada entrada corresponden a vectores de datos del mismo largo. E este caso cada vector corresponde a una columna del data.frame, mientras que la cantidad de filas corresponde al largo común de los vectores de cada entrada. El objeto resultante es una *tabla*, de ahora en adelante *data.frame*, cuyas columnas poseen distintos tipos de datos entre sí. \n",
        "\n",
        " * ¿Cómo se declara un dataframe?<br>\n",
        "     Mediante la función data.frame(), indicando los vectores que conformarán las columnas.\n",
        " \n",
        " * ¿Cómo se accede a los datos de un data.frame?<br>\n",
        "    Al ser una lista, se puede acceder de la misma manera. Sin embargo también es posible acceder del modo en que se accede a los elementos de una matriz."
      ]
    },
    {
      "cell_type": "code",
      "metadata": {
        "trusted": true,
        "id": "qJ-2zVWVTpST"
      },
      "source": [
        "# 5.2 Dataframes ----------\n",
        "# Ejemplo sencillo de definición de un data.frame\n",
        "# recordar que 1:3 es lo mismo que c(1,2,3)\n",
        "\n"
      ],
      "execution_count": null,
      "outputs": []
    },
    {
      "cell_type": "code",
      "metadata": {
        "trusted": true,
        "id": "nv7stC8ITpSY"
      },
      "source": [
        "# Acceso a columnas de un data.frame\n",
        "## Igual que en una lista\n",
        "\n"
      ],
      "execution_count": null,
      "outputs": []
    },
    {
      "cell_type": "code",
      "metadata": {
        "trusted": true,
        "id": "3t6_J3BHTpSb"
      },
      "source": [],
      "execution_count": null,
      "outputs": []
    },
    {
      "cell_type": "code",
      "metadata": {
        "trusted": true,
        "id": "CojdmEs9TpSd"
      },
      "source": [
        "##  Ganamos acceso como matriz\n",
        "# segundafila de df\n",
        "\n",
        "\n",
        "# segunda columna y segunda fila\n",
        "\n",
        "\n"
      ],
      "execution_count": null,
      "outputs": []
    },
    {
      "cell_type": "code",
      "metadata": {
        "trusted": true,
        "id": "FgD5Q8hFTpSf"
      },
      "source": [
        "#Podemos crear nuevas columnas , del mismmo modo que creamos \"slots\" en una lista\n"
      ],
      "execution_count": null,
      "outputs": []
    },
    {
      "cell_type": "code",
      "metadata": {
        "trusted": true,
        "id": "LcNQ5JHVTpSh"
      },
      "source": [
        "# podemos seleccionar más de una columna a la vez. Ej: seleccionar col1y col3\n",
        "\n",
        "# Referenciando el nombre de las columnas\n"
      ],
      "execution_count": null,
      "outputs": []
    },
    {
      "cell_type": "code",
      "metadata": {
        "trusted": true,
        "id": "NHtO3MHwTpSj"
      },
      "source": [
        "# Referenciando las posiciones de las columnas\n"
      ],
      "execution_count": null,
      "outputs": []
    },
    {
      "cell_type": "code",
      "metadata": {
        "trusted": true,
        "id": "RmsAhhsWTpSm"
      },
      "source": [
        "# Se mantiene la lógica de acceso a los sots de una lista.\n"
      ],
      "execution_count": null,
      "outputs": []
    }
  ]
}