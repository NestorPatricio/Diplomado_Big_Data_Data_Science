{
  "nbformat": 4,
  "nbformat_minor": 0,
  "metadata": {
    "colab": {
      "provenance": [],
      "include_colab_link": true
    },
    "kernelspec": {
      "name": "ir",
      "display_name": "R"
    }
  },
  "cells": [
    {
      "cell_type": "markdown",
      "metadata": {
        "id": "view-in-github",
        "colab_type": "text"
      },
      "source": [
        "<a href=\"https://colab.research.google.com/github/majorquev/DBDC_202304_Programacion_en_R_para_ciencia_de_datos/blob/main/Clases/C1/Clase_1_02_vectores_desarrollo.ipynb\" target=\"_parent\"><img src=\"https://colab.research.google.com/assets/colab-badge.svg\" alt=\"Open In Colab\"/></a>"
      ]
    },
    {
      "cell_type": "markdown",
      "metadata": {
        "collapsed": true,
        "id": "Yb2RXjL2Igun"
      },
      "source": [
        "# Parte 1: Introducción a R (continuación)\n",
        "\n",
        "**Autor:** Miguel Jorquera Viguera<br>\n",
        "**E-mail:** majorquev@gmail.com<br>\n",
        "**Ayudante:** Rodrigo Morales <br>\n",
        "**E-mail ayudante:** rumorale1@gmail.com\n",
        "\n"
      ]
    },
    {
      "cell_type": "markdown",
      "metadata": {
        "id": "d_bHZs66Iguo"
      },
      "source": [
        "## 3. Vectores y matrices\n",
        "\n",
        "### 3.1 Vectores\n",
        "\n",
        "En R, así como en la mayoría de los lenguajes de programación, uno de los objetos más usuales para almacenar información son los vectores, los que corresponden a arreglos unidimensionales que almacenan un mismo tipo de dato en cada una de sus entradas.\n",
        "\n",
        "Todo vector en R se puede declarar con la letra \"c\" seguido de los elementos que lo componen entre paréntesis y separados por comas."
      ]
    },
    {
      "cell_type": "code",
      "metadata": {
        "id": "ljQ0JcsTIgup"
      },
      "source": [
        "# Declaración de dos vectores\n",
        "v1 <- c(1,1,2,3,5,8)\n",
        "v2 <- c(10,20,30)\n",
        "b1 <- c(\"hola\",\"bienvenidos\", \"hoy\")\n",
        "b2 <- c(p1 = \"Jorge\", p2 = \"Denisse\")"
      ],
      "execution_count": 1,
      "outputs": []
    },
    {
      "cell_type": "code",
      "metadata": {
        "id": "GxHhDdS4Iguy",
        "outputId": "a6fd153d-2b01-4843-ef0c-4089df5a17e3",
        "colab": {
          "base_uri": "https://localhost:8080/",
          "height": 86
        }
      },
      "source": [
        "# clase y tipo de dato\n",
        "class(v1)\n",
        "typeof(v1)\n",
        "\n",
        "class (b1)\n",
        "typeof(b1)"
      ],
      "execution_count": 2,
      "outputs": [
        {
          "output_type": "display_data",
          "data": {
            "text/html": [
              "'numeric'"
            ],
            "text/markdown": "'numeric'",
            "text/latex": "'numeric'",
            "text/plain": [
              "[1] \"numeric\""
            ]
          },
          "metadata": {}
        },
        {
          "output_type": "display_data",
          "data": {
            "text/html": [
              "'double'"
            ],
            "text/markdown": "'double'",
            "text/latex": "'double'",
            "text/plain": [
              "[1] \"double\""
            ]
          },
          "metadata": {}
        },
        {
          "output_type": "display_data",
          "data": {
            "text/html": [
              "'character'"
            ],
            "text/markdown": "'character'",
            "text/latex": "'character'",
            "text/plain": [
              "[1] \"character\""
            ]
          },
          "metadata": {}
        },
        {
          "output_type": "display_data",
          "data": {
            "text/html": [
              "'character'"
            ],
            "text/markdown": "'character'",
            "text/latex": "'character'",
            "text/plain": [
              "[1] \"character\""
            ]
          },
          "metadata": {}
        }
      ]
    },
    {
      "cell_type": "code",
      "metadata": {
        "id": "FUBvbIN9Igu4"
      },
      "source": [
        "# vectores lógicos\n",
        "l <- c(T,T,F,T)"
      ],
      "execution_count": 3,
      "outputs": []
    },
    {
      "cell_type": "code",
      "source": [
        "v1"
      ],
      "metadata": {
        "id": "BukaT6AvPEFN",
        "outputId": "2aeaab0e-75c0-4388-affc-891d6befb05f",
        "colab": {
          "base_uri": "https://localhost:8080/",
          "height": 34
        }
      },
      "execution_count": 4,
      "outputs": [
        {
          "output_type": "display_data",
          "data": {
            "text/html": [
              "<style>\n",
              ".list-inline {list-style: none; margin:0; padding: 0}\n",
              ".list-inline>li {display: inline-block}\n",
              ".list-inline>li:not(:last-child)::after {content: \"\\00b7\"; padding: 0 .5ex}\n",
              "</style>\n",
              "<ol class=list-inline><li>1</li><li>1</li><li>2</li><li>3</li><li>5</li><li>8</li></ol>\n"
            ],
            "text/markdown": "1. 1\n2. 1\n3. 2\n4. 3\n5. 5\n6. 8\n\n\n",
            "text/latex": "\\begin{enumerate*}\n\\item 1\n\\item 1\n\\item 2\n\\item 3\n\\item 5\n\\item 8\n\\end{enumerate*}\n",
            "text/plain": [
              "[1] 1 1 2 3 5 8"
            ]
          },
          "metadata": {}
        }
      ]
    },
    {
      "cell_type": "code",
      "source": [
        "b2"
      ],
      "metadata": {
        "id": "CyrynKifPwjk",
        "outputId": "13eef078-7c28-412c-c41d-7be9c2d976b8",
        "colab": {
          "base_uri": "https://localhost:8080/",
          "height": 34
        }
      },
      "execution_count": 5,
      "outputs": [
        {
          "output_type": "display_data",
          "data": {
            "text/html": [
              "<style>\n",
              ".dl-inline {width: auto; margin:0; padding: 0}\n",
              ".dl-inline>dt, .dl-inline>dd {float: none; width: auto; display: inline-block}\n",
              ".dl-inline>dt::after {content: \":\\0020\"; padding-right: .5ex}\n",
              ".dl-inline>dt:not(:first-of-type) {padding-left: .5ex}\n",
              "</style><dl class=dl-inline><dt>p1</dt><dd>'Jorge'</dd><dt>p2</dt><dd>'Denisse'</dd></dl>\n"
            ],
            "text/markdown": "p1\n:   'Jorge'p2\n:   'Denisse'\n\n",
            "text/latex": "\\begin{description*}\n\\item[p1] 'Jorge'\n\\item[p2] 'Denisse'\n\\end{description*}\n",
            "text/plain": [
              "       p1        p2 \n",
              "  \"Jorge\" \"Denisse\" "
            ]
          },
          "metadata": {}
        }
      ]
    },
    {
      "cell_type": "code",
      "metadata": {
        "id": "R88mjniaIgu_"
      },
      "source": [
        "# Nombres de las entradas de un vector\n",
        "# podemos asignar los nombres a vector 1\n",
        "names(v1) <- c(\"n1\",\"n2\",\"n3\",\"n4\",\"n5\",\"n1\")\n",
        "\n"
      ],
      "execution_count": 6,
      "outputs": []
    },
    {
      "cell_type": "code",
      "source": [
        "v1"
      ],
      "metadata": {
        "id": "D6db2kRNPWU3",
        "outputId": "d07fb325-5605-421c-c51b-378e60765f79",
        "colab": {
          "base_uri": "https://localhost:8080/",
          "height": 34
        }
      },
      "execution_count": 7,
      "outputs": [
        {
          "output_type": "display_data",
          "data": {
            "text/html": [
              "<style>\n",
              ".dl-inline {width: auto; margin:0; padding: 0}\n",
              ".dl-inline>dt, .dl-inline>dd {float: none; width: auto; display: inline-block}\n",
              ".dl-inline>dt::after {content: \":\\0020\"; padding-right: .5ex}\n",
              ".dl-inline>dt:not(:first-of-type) {padding-left: .5ex}\n",
              "</style><dl class=dl-inline><dt>n1</dt><dd>1</dd><dt>n2</dt><dd>1</dd><dt>n3</dt><dd>2</dd><dt>n4</dt><dd>3</dd><dt>n5</dt><dd>5</dd><dt>n1</dt><dd>8</dd></dl>\n"
            ],
            "text/markdown": "n1\n:   1n2\n:   1n3\n:   2n4\n:   3n5\n:   5n1\n:   8\n\n",
            "text/latex": "\\begin{description*}\n\\item[n1] 1\n\\item[n2] 1\n\\item[n3] 2\n\\item[n4] 3\n\\item[n5] 5\n\\item[n1] 8\n\\end{description*}\n",
            "text/plain": [
              "n1 n2 n3 n4 n5 n1 \n",
              " 1  1  2  3  5  8 "
            ]
          },
          "metadata": {}
        }
      ]
    },
    {
      "cell_type": "code",
      "metadata": {
        "id": "E6dxkyP5IgvF",
        "outputId": "f349da76-3034-4331-861f-7b1b4a3933db",
        "colab": {
          "base_uri": "https://localhost:8080/",
          "height": 34
        }
      },
      "source": [
        "# nombres de las entradas con la función, names()\n",
        "names(b2)"
      ],
      "execution_count": 8,
      "outputs": [
        {
          "output_type": "display_data",
          "data": {
            "text/html": [
              "<style>\n",
              ".list-inline {list-style: none; margin:0; padding: 0}\n",
              ".list-inline>li {display: inline-block}\n",
              ".list-inline>li:not(:last-child)::after {content: \"\\00b7\"; padding: 0 .5ex}\n",
              "</style>\n",
              "<ol class=list-inline><li>'p1'</li><li>'p2'</li></ol>\n"
            ],
            "text/markdown": "1. 'p1'\n2. 'p2'\n\n\n",
            "text/latex": "\\begin{enumerate*}\n\\item 'p1'\n\\item 'p2'\n\\end{enumerate*}\n",
            "text/plain": [
              "[1] \"p1\" \"p2\""
            ]
          },
          "metadata": {}
        }
      ]
    },
    {
      "cell_type": "code",
      "metadata": {
        "id": "7Ayre5BlIgvH",
        "outputId": "6d30d0e8-6d50-4613-f80d-83086d49ae9b",
        "colab": {
          "base_uri": "https://localhost:8080/",
          "height": 34
        }
      },
      "source": [
        "#combinar vectores\n",
        "v3 <- c(v1,v2)\n",
        "v3"
      ],
      "execution_count": 9,
      "outputs": [
        {
          "output_type": "display_data",
          "data": {
            "text/html": [
              "<style>\n",
              ".dl-inline {width: auto; margin:0; padding: 0}\n",
              ".dl-inline>dt, .dl-inline>dd {float: none; width: auto; display: inline-block}\n",
              ".dl-inline>dt::after {content: \":\\0020\"; padding-right: .5ex}\n",
              ".dl-inline>dt:not(:first-of-type) {padding-left: .5ex}\n",
              "</style><dl class=dl-inline><dt>n1</dt><dd>1</dd><dt>n2</dt><dd>1</dd><dt>n3</dt><dd>2</dd><dt>n4</dt><dd>3</dd><dt>n5</dt><dd>5</dd><dt>n1</dt><dd>8</dd><dt>7</dt><dd>10</dd><dt>8</dt><dd>20</dd><dt>9</dt><dd>30</dd></dl>\n"
            ],
            "text/markdown": "n1\n:   1n2\n:   1n3\n:   2n4\n:   3n5\n:   5n1\n:   87\n:   108\n:   209\n:   30\n\n",
            "text/latex": "\\begin{description*}\n\\item[n1] 1\n\\item[n2] 1\n\\item[n3] 2\n\\item[n4] 3\n\\item[n5] 5\n\\item[n1] 8\n\\item[7] 10\n\\item[8] 20\n\\item[9] 30\n\\end{description*}\n",
            "text/plain": [
              "n1 n2 n3 n4 n5 n1          \n",
              " 1  1  2  3  5  8 10 20 30 "
            ]
          },
          "metadata": {}
        }
      ]
    },
    {
      "cell_type": "code",
      "source": [
        "names(v3)"
      ],
      "metadata": {
        "id": "gQmXWst9ROaX",
        "outputId": "dd9d383c-1ae1-413c-ee36-286570a741f9",
        "colab": {
          "base_uri": "https://localhost:8080/",
          "height": 34
        }
      },
      "execution_count": 10,
      "outputs": [
        {
          "output_type": "display_data",
          "data": {
            "text/html": [
              "<style>\n",
              ".list-inline {list-style: none; margin:0; padding: 0}\n",
              ".list-inline>li {display: inline-block}\n",
              ".list-inline>li:not(:last-child)::after {content: \"\\00b7\"; padding: 0 .5ex}\n",
              "</style>\n",
              "<ol class=list-inline><li>'n1'</li><li>'n2'</li><li>'n3'</li><li>'n4'</li><li>'n5'</li><li>'n1'</li><li>''</li><li>''</li><li>''</li></ol>\n"
            ],
            "text/markdown": "1. 'n1'\n2. 'n2'\n3. 'n3'\n4. 'n4'\n5. 'n5'\n6. 'n1'\n7. ''\n8. ''\n9. ''\n\n\n",
            "text/latex": "\\begin{enumerate*}\n\\item 'n1'\n\\item 'n2'\n\\item 'n3'\n\\item 'n4'\n\\item 'n5'\n\\item 'n1'\n\\item ''\n\\item ''\n\\item ''\n\\end{enumerate*}\n",
            "text/plain": [
              "[1] \"n1\" \"n2\" \"n3\" \"n4\" \"n5\" \"n1\" \"\"   \"\"   \"\"  "
            ]
          },
          "metadata": {}
        }
      ]
    },
    {
      "cell_type": "code",
      "source": [
        "v1"
      ],
      "metadata": {
        "id": "LrEEmymrRCvw",
        "outputId": "7b8636e7-888d-47ff-c8f6-c672c359b29b",
        "colab": {
          "base_uri": "https://localhost:8080/",
          "height": 34
        }
      },
      "execution_count": 11,
      "outputs": [
        {
          "output_type": "display_data",
          "data": {
            "text/html": [
              "<style>\n",
              ".dl-inline {width: auto; margin:0; padding: 0}\n",
              ".dl-inline>dt, .dl-inline>dd {float: none; width: auto; display: inline-block}\n",
              ".dl-inline>dt::after {content: \":\\0020\"; padding-right: .5ex}\n",
              ".dl-inline>dt:not(:first-of-type) {padding-left: .5ex}\n",
              "</style><dl class=dl-inline><dt>n1</dt><dd>1</dd><dt>n2</dt><dd>1</dd><dt>n3</dt><dd>2</dd><dt>n4</dt><dd>3</dd><dt>n5</dt><dd>5</dd><dt>n1</dt><dd>8</dd></dl>\n"
            ],
            "text/markdown": "n1\n:   1n2\n:   1n3\n:   2n4\n:   3n5\n:   5n1\n:   8\n\n",
            "text/latex": "\\begin{description*}\n\\item[n1] 1\n\\item[n2] 1\n\\item[n3] 2\n\\item[n4] 3\n\\item[n5] 5\n\\item[n1] 8\n\\end{description*}\n",
            "text/plain": [
              "n1 n2 n3 n4 n5 n1 \n",
              " 1  1  2  3  5  8 "
            ]
          },
          "metadata": {}
        }
      ]
    },
    {
      "cell_type": "code",
      "source": [
        "c(v1,b1)# R coerciona a la clase de menor jerarquía que contenga a ambos tipos de dato, para poder concatenar los vector."
      ],
      "metadata": {
        "id": "TYD6_aTRP_Si",
        "outputId": "d93f34d7-dd08-4008-998f-6f42cde023aa",
        "colab": {
          "base_uri": "https://localhost:8080/",
          "height": 34
        }
      },
      "execution_count": 12,
      "outputs": [
        {
          "output_type": "display_data",
          "data": {
            "text/html": [
              "<style>\n",
              ".dl-inline {width: auto; margin:0; padding: 0}\n",
              ".dl-inline>dt, .dl-inline>dd {float: none; width: auto; display: inline-block}\n",
              ".dl-inline>dt::after {content: \":\\0020\"; padding-right: .5ex}\n",
              ".dl-inline>dt:not(:first-of-type) {padding-left: .5ex}\n",
              "</style><dl class=dl-inline><dt>n1</dt><dd>'1'</dd><dt>n2</dt><dd>'1'</dd><dt>n3</dt><dd>'2'</dd><dt>n4</dt><dd>'3'</dd><dt>n5</dt><dd>'5'</dd><dt>n1</dt><dd>'8'</dd><dt>7</dt><dd>'hola'</dd><dt>8</dt><dd>'bienvenidos'</dd><dt>9</dt><dd>'hoy'</dd></dl>\n"
            ],
            "text/markdown": "n1\n:   '1'n2\n:   '1'n3\n:   '2'n4\n:   '3'n5\n:   '5'n1\n:   '8'7\n:   'hola'8\n:   'bienvenidos'9\n:   'hoy'\n\n",
            "text/latex": "\\begin{description*}\n\\item[n1] '1'\n\\item[n2] '1'\n\\item[n3] '2'\n\\item[n4] '3'\n\\item[n5] '5'\n\\item[n1] '8'\n\\item[7] 'hola'\n\\item[8] 'bienvenidos'\n\\item[9] 'hoy'\n\\end{description*}\n",
            "text/plain": [
              "           n1            n2            n3            n4            n5 \n",
              "          \"1\"           \"1\"           \"2\"           \"3\"           \"5\" \n",
              "           n1                                           \n",
              "          \"8\"        \"hola\" \"bienvenidos\"         \"hoy\" "
            ]
          },
          "metadata": {}
        }
      ]
    },
    {
      "cell_type": "code",
      "metadata": {
        "id": "QETBghXxIgvI"
      },
      "source": [
        "# c : es una abreviación de \"combine\"\n"
      ],
      "execution_count": 13,
      "outputs": []
    },
    {
      "cell_type": "markdown",
      "metadata": {
        "id": "MX35j24_IgvN"
      },
      "source": [
        "#### 3.1.1 Acceso a los elementos de un vector\n",
        "\n",
        "El acceso a los elementos de un vector se puede llevar acabo indicando la posición del elemento (los naturales parten en 1!), el nombre de la casilla que lo contiene, o bien mediante sentencias lógicas que retornen \"TRUE\" en la posición deseada.\n",
        "\n"
      ]
    },
    {
      "cell_type": "code",
      "metadata": {
        "id": "zW2_TzKxIgvN",
        "outputId": "0ee440da-34ff-4efe-da6b-bb470f5ffd72",
        "colab": {
          "base_uri": "https://localhost:8080/",
          "height": 52
        }
      },
      "source": [
        "# Mediante posición\n",
        "# NOTA: R parte desde el 1.\n",
        "b1\n",
        "b1[3]\n"
      ],
      "execution_count": 14,
      "outputs": [
        {
          "output_type": "display_data",
          "data": {
            "text/html": [
              "<style>\n",
              ".list-inline {list-style: none; margin:0; padding: 0}\n",
              ".list-inline>li {display: inline-block}\n",
              ".list-inline>li:not(:last-child)::after {content: \"\\00b7\"; padding: 0 .5ex}\n",
              "</style>\n",
              "<ol class=list-inline><li>'hola'</li><li>'bienvenidos'</li><li>'hoy'</li></ol>\n"
            ],
            "text/markdown": "1. 'hola'\n2. 'bienvenidos'\n3. 'hoy'\n\n\n",
            "text/latex": "\\begin{enumerate*}\n\\item 'hola'\n\\item 'bienvenidos'\n\\item 'hoy'\n\\end{enumerate*}\n",
            "text/plain": [
              "[1] \"hola\"        \"bienvenidos\" \"hoy\"        "
            ]
          },
          "metadata": {}
        },
        {
          "output_type": "display_data",
          "data": {
            "text/html": [
              "'hoy'"
            ],
            "text/markdown": "'hoy'",
            "text/latex": "'hoy'",
            "text/plain": [
              "[1] \"hoy\""
            ]
          },
          "metadata": {}
        }
      ]
    },
    {
      "cell_type": "code",
      "metadata": {
        "id": "XWL1ZIyMIgvR",
        "outputId": "a2a12aec-d59f-4956-a3cf-3f0e059b3645",
        "colab": {
          "base_uri": "https://localhost:8080/",
          "height": 34
        }
      },
      "source": [
        "# retorna los elementos de las casillas 1  y 3 de b1\n",
        "b1[c(1,3)]"
      ],
      "execution_count": 15,
      "outputs": [
        {
          "output_type": "display_data",
          "data": {
            "text/html": [
              "<style>\n",
              ".list-inline {list-style: none; margin:0; padding: 0}\n",
              ".list-inline>li {display: inline-block}\n",
              ".list-inline>li:not(:last-child)::after {content: \"\\00b7\"; padding: 0 .5ex}\n",
              "</style>\n",
              "<ol class=list-inline><li>'hola'</li><li>'hoy'</li></ol>\n"
            ],
            "text/markdown": "1. 'hola'\n2. 'hoy'\n\n\n",
            "text/latex": "\\begin{enumerate*}\n\\item 'hola'\n\\item 'hoy'\n\\end{enumerate*}\n",
            "text/plain": [
              "[1] \"hola\" \"hoy\" "
            ]
          },
          "metadata": {}
        }
      ]
    },
    {
      "cell_type": "code",
      "source": [
        "#NO CONFUNDIR CON\n",
        "b1[1,3]# Esto aplica para arreglos bi-dimensionales (ej. matriz)"
      ],
      "metadata": {
        "id": "qZ_8FQCnS-f8",
        "outputId": "c7471183-e5ff-4389-e239-12969448ec6a",
        "colab": {
          "base_uri": "https://localhost:8080/",
          "height": 96
        }
      },
      "execution_count": null,
      "outputs": [
        {
          "output_type": "error",
          "ename": "ERROR",
          "evalue": "ignored",
          "traceback": [
            "Error in b1[1, 3]: incorrect number of dimensions\nTraceback:\n"
          ]
        }
      ]
    },
    {
      "cell_type": "code",
      "metadata": {
        "id": "uBqEKq1aIgvT",
        "outputId": "a351b831-6d67-4aec-b320-f69b22e3807f",
        "colab": {
          "base_uri": "https://localhost:8080/",
          "height": 52
        }
      },
      "source": [
        "#NOTA 3:5, R lo interpreta como c(3,4,5)\n",
        "#c(1,2,3,4,.....,100)\n",
        "1:100"
      ],
      "execution_count": 16,
      "outputs": [
        {
          "output_type": "display_data",
          "data": {
            "text/html": [
              "<style>\n",
              ".list-inline {list-style: none; margin:0; padding: 0}\n",
              ".list-inline>li {display: inline-block}\n",
              ".list-inline>li:not(:last-child)::after {content: \"\\00b7\"; padding: 0 .5ex}\n",
              "</style>\n",
              "<ol class=list-inline><li>1</li><li>2</li><li>3</li><li>4</li><li>5</li><li>6</li><li>7</li><li>8</li><li>9</li><li>10</li><li>11</li><li>12</li><li>13</li><li>14</li><li>15</li><li>16</li><li>17</li><li>18</li><li>19</li><li>20</li><li>21</li><li>22</li><li>23</li><li>24</li><li>25</li><li>26</li><li>27</li><li>28</li><li>29</li><li>30</li><li>31</li><li>32</li><li>33</li><li>34</li><li>35</li><li>36</li><li>37</li><li>38</li><li>39</li><li>40</li><li>41</li><li>42</li><li>43</li><li>44</li><li>45</li><li>46</li><li>47</li><li>48</li><li>49</li><li>50</li><li>51</li><li>52</li><li>53</li><li>54</li><li>55</li><li>56</li><li>57</li><li>58</li><li>59</li><li>60</li><li>61</li><li>62</li><li>63</li><li>64</li><li>65</li><li>66</li><li>67</li><li>68</li><li>69</li><li>70</li><li>71</li><li>72</li><li>73</li><li>74</li><li>75</li><li>76</li><li>77</li><li>78</li><li>79</li><li>80</li><li>81</li><li>82</li><li>83</li><li>84</li><li>85</li><li>86</li><li>87</li><li>88</li><li>89</li><li>90</li><li>91</li><li>92</li><li>93</li><li>94</li><li>95</li><li>96</li><li>97</li><li>98</li><li>99</li><li>100</li></ol>\n"
            ],
            "text/markdown": "1. 1\n2. 2\n3. 3\n4. 4\n5. 5\n6. 6\n7. 7\n8. 8\n9. 9\n10. 10\n11. 11\n12. 12\n13. 13\n14. 14\n15. 15\n16. 16\n17. 17\n18. 18\n19. 19\n20. 20\n21. 21\n22. 22\n23. 23\n24. 24\n25. 25\n26. 26\n27. 27\n28. 28\n29. 29\n30. 30\n31. 31\n32. 32\n33. 33\n34. 34\n35. 35\n36. 36\n37. 37\n38. 38\n39. 39\n40. 40\n41. 41\n42. 42\n43. 43\n44. 44\n45. 45\n46. 46\n47. 47\n48. 48\n49. 49\n50. 50\n51. 51\n52. 52\n53. 53\n54. 54\n55. 55\n56. 56\n57. 57\n58. 58\n59. 59\n60. 60\n61. 61\n62. 62\n63. 63\n64. 64\n65. 65\n66. 66\n67. 67\n68. 68\n69. 69\n70. 70\n71. 71\n72. 72\n73. 73\n74. 74\n75. 75\n76. 76\n77. 77\n78. 78\n79. 79\n80. 80\n81. 81\n82. 82\n83. 83\n84. 84\n85. 85\n86. 86\n87. 87\n88. 88\n89. 89\n90. 90\n91. 91\n92. 92\n93. 93\n94. 94\n95. 95\n96. 96\n97. 97\n98. 98\n99. 99\n100. 100\n\n\n",
            "text/latex": "\\begin{enumerate*}\n\\item 1\n\\item 2\n\\item 3\n\\item 4\n\\item 5\n\\item 6\n\\item 7\n\\item 8\n\\item 9\n\\item 10\n\\item 11\n\\item 12\n\\item 13\n\\item 14\n\\item 15\n\\item 16\n\\item 17\n\\item 18\n\\item 19\n\\item 20\n\\item 21\n\\item 22\n\\item 23\n\\item 24\n\\item 25\n\\item 26\n\\item 27\n\\item 28\n\\item 29\n\\item 30\n\\item 31\n\\item 32\n\\item 33\n\\item 34\n\\item 35\n\\item 36\n\\item 37\n\\item 38\n\\item 39\n\\item 40\n\\item 41\n\\item 42\n\\item 43\n\\item 44\n\\item 45\n\\item 46\n\\item 47\n\\item 48\n\\item 49\n\\item 50\n\\item 51\n\\item 52\n\\item 53\n\\item 54\n\\item 55\n\\item 56\n\\item 57\n\\item 58\n\\item 59\n\\item 60\n\\item 61\n\\item 62\n\\item 63\n\\item 64\n\\item 65\n\\item 66\n\\item 67\n\\item 68\n\\item 69\n\\item 70\n\\item 71\n\\item 72\n\\item 73\n\\item 74\n\\item 75\n\\item 76\n\\item 77\n\\item 78\n\\item 79\n\\item 80\n\\item 81\n\\item 82\n\\item 83\n\\item 84\n\\item 85\n\\item 86\n\\item 87\n\\item 88\n\\item 89\n\\item 90\n\\item 91\n\\item 92\n\\item 93\n\\item 94\n\\item 95\n\\item 96\n\\item 97\n\\item 98\n\\item 99\n\\item 100\n\\end{enumerate*}\n",
            "text/plain": [
              "  [1]   1   2   3   4   5   6   7   8   9  10  11  12  13  14  15  16  17  18\n",
              " [19]  19  20  21  22  23  24  25  26  27  28  29  30  31  32  33  34  35  36\n",
              " [37]  37  38  39  40  41  42  43  44  45  46  47  48  49  50  51  52  53  54\n",
              " [55]  55  56  57  58  59  60  61  62  63  64  65  66  67  68  69  70  71  72\n",
              " [73]  73  74  75  76  77  78  79  80  81  82  83  84  85  86  87  88  89  90\n",
              " [91]  91  92  93  94  95  96  97  98  99 100"
            ]
          },
          "metadata": {}
        }
      ]
    },
    {
      "cell_type": "code",
      "source": [
        "#Traer de v1, todos elementos desde el 3 al 6\n",
        "\n",
        "v1[3:6]"
      ],
      "metadata": {
        "id": "C-fbeVyQTeYi",
        "outputId": "bd6f497c-9be4-4d12-c485-aa90d07e6371",
        "colab": {
          "base_uri": "https://localhost:8080/",
          "height": 34
        }
      },
      "execution_count": 17,
      "outputs": [
        {
          "output_type": "display_data",
          "data": {
            "text/html": [
              "<style>\n",
              ".dl-inline {width: auto; margin:0; padding: 0}\n",
              ".dl-inline>dt, .dl-inline>dd {float: none; width: auto; display: inline-block}\n",
              ".dl-inline>dt::after {content: \":\\0020\"; padding-right: .5ex}\n",
              ".dl-inline>dt:not(:first-of-type) {padding-left: .5ex}\n",
              "</style><dl class=dl-inline><dt>n3</dt><dd>2</dd><dt>n4</dt><dd>3</dd><dt>n5</dt><dd>5</dd><dt>n1</dt><dd>8</dd></dl>\n"
            ],
            "text/markdown": "n3\n:   2n4\n:   3n5\n:   5n1\n:   8\n\n",
            "text/latex": "\\begin{description*}\n\\item[n3] 2\n\\item[n4] 3\n\\item[n5] 5\n\\item[n1] 8\n\\end{description*}\n",
            "text/plain": [
              "n3 n4 n5 n1 \n",
              " 2  3  5  8 "
            ]
          },
          "metadata": {}
        }
      ]
    },
    {
      "cell_type": "code",
      "metadata": {
        "id": "XIuQSfvKIgvV",
        "outputId": "2e089ed4-0862-4c58-add5-03168d30e0ae",
        "colab": {
          "base_uri": "https://localhost:8080/",
          "height": 52
        }
      },
      "source": [
        "# podemos acceder a los elmentos mediante el nombre\n",
        "v1[\"n1\"] # Retorna la primera coincidencia por nombre.\n",
        "v1[c(\"n1\",\"n3\")]"
      ],
      "execution_count": 18,
      "outputs": [
        {
          "output_type": "display_data",
          "data": {
            "text/html": [
              "<strong>n1:</strong> 1"
            ],
            "text/markdown": "**n1:** 1",
            "text/latex": "\\textbf{n1:} 1",
            "text/plain": [
              "n1 \n",
              " 1 "
            ]
          },
          "metadata": {}
        },
        {
          "output_type": "display_data",
          "data": {
            "text/html": [
              "<style>\n",
              ".dl-inline {width: auto; margin:0; padding: 0}\n",
              ".dl-inline>dt, .dl-inline>dd {float: none; width: auto; display: inline-block}\n",
              ".dl-inline>dt::after {content: \":\\0020\"; padding-right: .5ex}\n",
              ".dl-inline>dt:not(:first-of-type) {padding-left: .5ex}\n",
              "</style><dl class=dl-inline><dt>n1</dt><dd>1</dd><dt>n3</dt><dd>2</dd></dl>\n"
            ],
            "text/markdown": "n1\n:   1n3\n:   2\n\n",
            "text/latex": "\\begin{description*}\n\\item[n1] 1\n\\item[n3] 2\n\\end{description*}\n",
            "text/plain": [
              "n1 n3 \n",
              " 1  2 "
            ]
          },
          "metadata": {}
        }
      ]
    },
    {
      "cell_type": "markdown",
      "source": [],
      "metadata": {
        "id": "QXgrcAGuU1BA"
      }
    },
    {
      "cell_type": "code",
      "source": [
        "# Podemos cammbiar elementos dentro un vector\n",
        "v1\n",
        "v1[4] <- 99"
      ],
      "metadata": {
        "id": "gOXVoCsVUG09",
        "outputId": "c9b9980b-dc3f-4dcb-fb18-3f47a2a38b30",
        "colab": {
          "base_uri": "https://localhost:8080/",
          "height": 34
        }
      },
      "execution_count": 19,
      "outputs": [
        {
          "output_type": "display_data",
          "data": {
            "text/html": [
              "<style>\n",
              ".dl-inline {width: auto; margin:0; padding: 0}\n",
              ".dl-inline>dt, .dl-inline>dd {float: none; width: auto; display: inline-block}\n",
              ".dl-inline>dt::after {content: \":\\0020\"; padding-right: .5ex}\n",
              ".dl-inline>dt:not(:first-of-type) {padding-left: .5ex}\n",
              "</style><dl class=dl-inline><dt>n1</dt><dd>1</dd><dt>n2</dt><dd>1</dd><dt>n3</dt><dd>2</dd><dt>n4</dt><dd>3</dd><dt>n5</dt><dd>5</dd><dt>n1</dt><dd>8</dd></dl>\n"
            ],
            "text/markdown": "n1\n:   1n2\n:   1n3\n:   2n4\n:   3n5\n:   5n1\n:   8\n\n",
            "text/latex": "\\begin{description*}\n\\item[n1] 1\n\\item[n2] 1\n\\item[n3] 2\n\\item[n4] 3\n\\item[n5] 5\n\\item[n1] 8\n\\end{description*}\n",
            "text/plain": [
              "n1 n2 n3 n4 n5 n1 \n",
              " 1  1  2  3  5  8 "
            ]
          },
          "metadata": {}
        }
      ]
    },
    {
      "cell_type": "code",
      "source": [
        "v1"
      ],
      "metadata": {
        "id": "f45MED6gUZUs",
        "outputId": "d872b763-a669-48dd-adca-403e6749c743",
        "colab": {
          "base_uri": "https://localhost:8080/",
          "height": 34
        }
      },
      "execution_count": 20,
      "outputs": [
        {
          "output_type": "display_data",
          "data": {
            "text/html": [
              "<style>\n",
              ".dl-inline {width: auto; margin:0; padding: 0}\n",
              ".dl-inline>dt, .dl-inline>dd {float: none; width: auto; display: inline-block}\n",
              ".dl-inline>dt::after {content: \":\\0020\"; padding-right: .5ex}\n",
              ".dl-inline>dt:not(:first-of-type) {padding-left: .5ex}\n",
              "</style><dl class=dl-inline><dt>n1</dt><dd>1</dd><dt>n2</dt><dd>1</dd><dt>n3</dt><dd>2</dd><dt>n4</dt><dd>99</dd><dt>n5</dt><dd>5</dd><dt>n1</dt><dd>8</dd></dl>\n"
            ],
            "text/markdown": "n1\n:   1n2\n:   1n3\n:   2n4\n:   99n5\n:   5n1\n:   8\n\n",
            "text/latex": "\\begin{description*}\n\\item[n1] 1\n\\item[n2] 1\n\\item[n3] 2\n\\item[n4] 99\n\\item[n5] 5\n\\item[n1] 8\n\\end{description*}\n",
            "text/plain": [
              "n1 n2 n3 n4 n5 n1 \n",
              " 1  1  2 99  5  8 "
            ]
          },
          "metadata": {}
        }
      ]
    },
    {
      "cell_type": "code",
      "metadata": {
        "id": "cVzhj4ASIgvb"
      },
      "source": [
        "# podemos cambiar uno de los nombres (ej, queremos cambiar el sexto nombre)\n",
        "names(v1)[6] <- \"n6\""
      ],
      "execution_count": 21,
      "outputs": []
    },
    {
      "cell_type": "code",
      "source": [
        "v1"
      ],
      "metadata": {
        "id": "fIi5xnbZU1sm",
        "outputId": "57ebe63a-a6fe-4e7f-e01f-a899da0f0451",
        "colab": {
          "base_uri": "https://localhost:8080/",
          "height": 34
        }
      },
      "execution_count": 22,
      "outputs": [
        {
          "output_type": "display_data",
          "data": {
            "text/html": [
              "<style>\n",
              ".dl-inline {width: auto; margin:0; padding: 0}\n",
              ".dl-inline>dt, .dl-inline>dd {float: none; width: auto; display: inline-block}\n",
              ".dl-inline>dt::after {content: \":\\0020\"; padding-right: .5ex}\n",
              ".dl-inline>dt:not(:first-of-type) {padding-left: .5ex}\n",
              "</style><dl class=dl-inline><dt>n1</dt><dd>1</dd><dt>n2</dt><dd>1</dd><dt>n3</dt><dd>2</dd><dt>n4</dt><dd>99</dd><dt>n5</dt><dd>5</dd><dt>n6</dt><dd>8</dd></dl>\n"
            ],
            "text/markdown": "n1\n:   1n2\n:   1n3\n:   2n4\n:   99n5\n:   5n6\n:   8\n\n",
            "text/latex": "\\begin{description*}\n\\item[n1] 1\n\\item[n2] 1\n\\item[n3] 2\n\\item[n4] 99\n\\item[n5] 5\n\\item[n6] 8\n\\end{description*}\n",
            "text/plain": [
              "n1 n2 n3 n4 n5 n6 \n",
              " 1  1  2 99  5  8 "
            ]
          },
          "metadata": {}
        }
      ]
    },
    {
      "cell_type": "code",
      "metadata": {
        "id": "b6oqx_D4Igvd"
      },
      "source": [
        "# podemos modificar varias posiciones a la vez\n",
        "# queremos re-asignar los valores \"XX\" y \"ZZ\" en las posiciones 1 y 3 respecivamente\n",
        "b1[c(1,3)] <- c(\"XX\" , \"ZZ\")"
      ],
      "execution_count": 23,
      "outputs": []
    },
    {
      "cell_type": "code",
      "source": [
        "b1"
      ],
      "metadata": {
        "id": "38r4bYM3VWPe",
        "outputId": "c13ddd8d-64c3-4ce2-b5a6-81b9cd9493e6",
        "colab": {
          "base_uri": "https://localhost:8080/",
          "height": 34
        }
      },
      "execution_count": 24,
      "outputs": [
        {
          "output_type": "display_data",
          "data": {
            "text/html": [
              "<style>\n",
              ".list-inline {list-style: none; margin:0; padding: 0}\n",
              ".list-inline>li {display: inline-block}\n",
              ".list-inline>li:not(:last-child)::after {content: \"\\00b7\"; padding: 0 .5ex}\n",
              "</style>\n",
              "<ol class=list-inline><li>'XX'</li><li>'bienvenidos'</li><li>'ZZ'</li></ol>\n"
            ],
            "text/markdown": "1. 'XX'\n2. 'bienvenidos'\n3. 'ZZ'\n\n\n",
            "text/latex": "\\begin{enumerate*}\n\\item 'XX'\n\\item 'bienvenidos'\n\\item 'ZZ'\n\\end{enumerate*}\n",
            "text/plain": [
              "[1] \"XX\"          \"bienvenidos\" \"ZZ\"         "
            ]
          },
          "metadata": {}
        }
      ]
    },
    {
      "cell_type": "code",
      "source": [
        "is.vector(b1) & (length(b1) > 1) # Por si quisieramos saber si es un vector de largo mayor a 1."
      ],
      "metadata": {
        "id": "AvjtKT81V2J4",
        "outputId": "426327c4-e3b2-4af6-ffaa-9c7c2e07d682",
        "colab": {
          "base_uri": "https://localhost:8080/",
          "height": 34
        }
      },
      "execution_count": 25,
      "outputs": [
        {
          "output_type": "display_data",
          "data": {
            "text/html": [
              "TRUE"
            ],
            "text/markdown": "TRUE",
            "text/latex": "TRUE",
            "text/plain": [
              "[1] TRUE"
            ]
          },
          "metadata": {}
        }
      ]
    },
    {
      "cell_type": "code",
      "source": [
        "length(151085415)\n",
        "length(v1)"
      ],
      "metadata": {
        "id": "A0q68-CJV7vo",
        "outputId": "6d4397fd-d6ba-4a0f-db0a-c521af50ead7",
        "colab": {
          "base_uri": "https://localhost:8080/",
          "height": 52
        }
      },
      "execution_count": 26,
      "outputs": [
        {
          "output_type": "display_data",
          "data": {
            "text/html": [
              "1"
            ],
            "text/markdown": "1",
            "text/latex": "1",
            "text/plain": [
              "[1] 1"
            ]
          },
          "metadata": {}
        },
        {
          "output_type": "display_data",
          "data": {
            "text/html": [
              "6"
            ],
            "text/markdown": "6",
            "text/latex": "6",
            "text/plain": [
              "[1] 6"
            ]
          },
          "metadata": {}
        }
      ]
    },
    {
      "cell_type": "markdown",
      "metadata": {
        "id": "XzyIBLZxIgvg"
      },
      "source": [
        "**Algunas sentencias de utilidad**\n",
        "\n",
        "También es posible acceder a los alementos de un vector mediante sentencias lógicas que retornen \"TRUE\" en la posición deseada. Para ello algunas funciones que son de utilidad son las siguientes.\n",
        "\n",
        "   **Conectores lógicos**\n",
        "\n",
        "    &, && |                  : conector y \n",
        "    |,||                     : conector o\n",
        "    ==                       : igual\n",
        "    !                        : negación\n",
        "    !=                       : distinto\n",
        "    >, >=                    : mayor que, mayor o igual que\n",
        "    <,<=                     : menor que, menor o igual que\n",
        "    is.na()                  : es NA?\n",
        "    which()                  : en qué posición es verdadera la expresión evaluada?\n",
        "    which.min(), which.max() : en qué posición se alcanza el mínimi/máximo\n",
        "    %in%                     : los elementos están en?\n",
        "    \n",
        "    "
      ]
    },
    {
      "cell_type": "code",
      "metadata": {
        "id": "NhZPJo56Igvh",
        "outputId": "296674ee-5f9c-43e0-a2d2-617d1e46fc4e",
        "colab": {
          "base_uri": "https://localhost:8080/",
          "height": 52
        }
      },
      "source": [
        "# para acceder a elementos de un vector tenemos (#Retornar valores que están en las pos 3  y 6)\n",
        "# 1. por posicion\n",
        "v1[c(3,6)]\n",
        "# 2. por nombre\n",
        "v1[c(\"n3\",\"n6\")]\n",
        "\n",
        "\n",
        "\n",
        "\n",
        "\n"
      ],
      "execution_count": 31,
      "outputs": [
        {
          "output_type": "display_data",
          "data": {
            "text/html": [
              "<style>\n",
              ".dl-inline {width: auto; margin:0; padding: 0}\n",
              ".dl-inline>dt, .dl-inline>dd {float: none; width: auto; display: inline-block}\n",
              ".dl-inline>dt::after {content: \":\\0020\"; padding-right: .5ex}\n",
              ".dl-inline>dt:not(:first-of-type) {padding-left: .5ex}\n",
              "</style><dl class=dl-inline><dt>n3</dt><dd>2</dd><dt>n6</dt><dd>8</dd></dl>\n"
            ],
            "text/markdown": "n3\n:   2n6\n:   8\n\n",
            "text/latex": "\\begin{description*}\n\\item[n3] 2\n\\item[n6] 8\n\\end{description*}\n",
            "text/plain": [
              "n3 n6 \n",
              " 2  8 "
            ]
          },
          "metadata": {}
        },
        {
          "output_type": "display_data",
          "data": {
            "text/html": [
              "<style>\n",
              ".dl-inline {width: auto; margin:0; padding: 0}\n",
              ".dl-inline>dt, .dl-inline>dd {float: none; width: auto; display: inline-block}\n",
              ".dl-inline>dt::after {content: \":\\0020\"; padding-right: .5ex}\n",
              ".dl-inline>dt:not(:first-of-type) {padding-left: .5ex}\n",
              "</style><dl class=dl-inline><dt>n3</dt><dd>2</dd><dt>n6</dt><dd>8</dd></dl>\n"
            ],
            "text/markdown": "n3\n:   2n6\n:   8\n\n",
            "text/latex": "\\begin{description*}\n\\item[n3] 2\n\\item[n6] 8\n\\end{description*}\n",
            "text/plain": [
              "n3 n6 \n",
              " 2  8 "
            ]
          },
          "metadata": {}
        }
      ]
    },
    {
      "cell_type": "code",
      "source": [
        "# 3. por indicatrices lógicas (un vector con TRUE (T) o FALSE (F) del mismo largo del que quiero consultar)\n",
        "ind <- c(F,F,T,F,F,T)\n",
        "\n",
        "v1[ind]"
      ],
      "metadata": {
        "id": "aBUFbHYKyual",
        "outputId": "d703c61a-4327-4a19-a0e7-c8900e2b6eed",
        "colab": {
          "base_uri": "https://localhost:8080/",
          "height": 34
        }
      },
      "execution_count": 32,
      "outputs": [
        {
          "output_type": "display_data",
          "data": {
            "text/html": [
              "<style>\n",
              ".dl-inline {width: auto; margin:0; padding: 0}\n",
              ".dl-inline>dt, .dl-inline>dd {float: none; width: auto; display: inline-block}\n",
              ".dl-inline>dt::after {content: \":\\0020\"; padding-right: .5ex}\n",
              ".dl-inline>dt:not(:first-of-type) {padding-left: .5ex}\n",
              "</style><dl class=dl-inline><dt>n3</dt><dd>2</dd><dt>n6</dt><dd>8</dd></dl>\n"
            ],
            "text/markdown": "n3\n:   2n6\n:   8\n\n",
            "text/latex": "\\begin{description*}\n\\item[n3] 2\n\\item[n6] 8\n\\end{description*}\n",
            "text/plain": [
              "n3 n6 \n",
              " 2  8 "
            ]
          },
          "metadata": {}
        }
      ]
    },
    {
      "cell_type": "code",
      "source": [
        "v1[c(F,F,T,F,F,T)]"
      ],
      "metadata": {
        "id": "pKwTYYPA02Mj"
      },
      "execution_count": null,
      "outputs": []
    },
    {
      "cell_type": "code",
      "metadata": {
        "id": "5C4hDsvSIgvj",
        "outputId": "8a70ece9-d3ee-4cbe-cf7c-69d5755f3de0",
        "colab": {
          "base_uri": "https://localhost:8080/",
          "height": 34
        }
      },
      "source": [
        "# Esto facilita la búsqueda dentro de un un vector. Ej: retornar los elementos mayores aun valor dado (Ej: retornar los valores mayores a 7)\n",
        "v1 > 7"
      ],
      "execution_count": 34,
      "outputs": [
        {
          "output_type": "display_data",
          "data": {
            "text/html": [
              "<style>\n",
              ".dl-inline {width: auto; margin:0; padding: 0}\n",
              ".dl-inline>dt, .dl-inline>dd {float: none; width: auto; display: inline-block}\n",
              ".dl-inline>dt::after {content: \":\\0020\"; padding-right: .5ex}\n",
              ".dl-inline>dt:not(:first-of-type) {padding-left: .5ex}\n",
              "</style><dl class=dl-inline><dt>n1</dt><dd>FALSE</dd><dt>n2</dt><dd>FALSE</dd><dt>n3</dt><dd>FALSE</dd><dt>n4</dt><dd>TRUE</dd><dt>n5</dt><dd>FALSE</dd><dt>n6</dt><dd>TRUE</dd></dl>\n"
            ],
            "text/markdown": "n1\n:   FALSEn2\n:   FALSEn3\n:   FALSEn4\n:   TRUEn5\n:   FALSEn6\n:   TRUE\n\n",
            "text/latex": "\\begin{description*}\n\\item[n1] FALSE\n\\item[n2] FALSE\n\\item[n3] FALSE\n\\item[n4] TRUE\n\\item[n5] FALSE\n\\item[n6] TRUE\n\\end{description*}\n",
            "text/plain": [
              "   n1    n2    n3    n4    n5    n6 \n",
              "FALSE FALSE FALSE  TRUE FALSE  TRUE "
            ]
          },
          "metadata": {}
        }
      ]
    },
    {
      "cell_type": "code",
      "source": [
        "v1[v1 > 7]"
      ],
      "metadata": {
        "id": "dL1sDO6RzYDr",
        "outputId": "5b1f1832-a665-460b-edac-06ff42a59b94",
        "colab": {
          "base_uri": "https://localhost:8080/",
          "height": 34
        }
      },
      "execution_count": 35,
      "outputs": [
        {
          "output_type": "display_data",
          "data": {
            "text/html": [
              "<style>\n",
              ".dl-inline {width: auto; margin:0; padding: 0}\n",
              ".dl-inline>dt, .dl-inline>dd {float: none; width: auto; display: inline-block}\n",
              ".dl-inline>dt::after {content: \":\\0020\"; padding-right: .5ex}\n",
              ".dl-inline>dt:not(:first-of-type) {padding-left: .5ex}\n",
              "</style><dl class=dl-inline><dt>n4</dt><dd>99</dd><dt>n6</dt><dd>8</dd></dl>\n"
            ],
            "text/markdown": "n4\n:   99n6\n:   8\n\n",
            "text/latex": "\\begin{description*}\n\\item[n4] 99\n\\item[n6] 8\n\\end{description*}\n",
            "text/plain": [
              "n4 n6 \n",
              "99  8 "
            ]
          },
          "metadata": {}
        }
      ]
    },
    {
      "cell_type": "code",
      "source": [
        "#NOTA1:\n",
        "# Podemos aplicar funciones a nuestros vectores\n",
        "v1\n",
        "sum(v1)\n",
        "mean(v1)\n",
        "max(v1)\n",
        "min(v1)"
      ],
      "metadata": {
        "id": "xsJSLP6Sz6mh",
        "outputId": "a4e29988-88f8-4dc9-94d0-a93aca9271d6",
        "colab": {
          "base_uri": "https://localhost:8080/",
          "height": 104
        }
      },
      "execution_count": 44,
      "outputs": [
        {
          "output_type": "display_data",
          "data": {
            "text/html": [
              "<style>\n",
              ".dl-inline {width: auto; margin:0; padding: 0}\n",
              ".dl-inline>dt, .dl-inline>dd {float: none; width: auto; display: inline-block}\n",
              ".dl-inline>dt::after {content: \":\\0020\"; padding-right: .5ex}\n",
              ".dl-inline>dt:not(:first-of-type) {padding-left: .5ex}\n",
              "</style><dl class=dl-inline><dt>n1</dt><dd>1</dd><dt>n2</dt><dd>1</dd><dt>n3</dt><dd>2</dd><dt>n4</dt><dd>99</dd><dt>n5</dt><dd>5</dd><dt>n6</dt><dd>8</dd></dl>\n"
            ],
            "text/markdown": "n1\n:   1n2\n:   1n3\n:   2n4\n:   99n5\n:   5n6\n:   8\n\n",
            "text/latex": "\\begin{description*}\n\\item[n1] 1\n\\item[n2] 1\n\\item[n3] 2\n\\item[n4] 99\n\\item[n5] 5\n\\item[n6] 8\n\\end{description*}\n",
            "text/plain": [
              "n1 n2 n3 n4 n5 n6 \n",
              " 1  1  2 99  5  8 "
            ]
          },
          "metadata": {}
        },
        {
          "output_type": "display_data",
          "data": {
            "text/html": [
              "116"
            ],
            "text/markdown": "116",
            "text/latex": "116",
            "text/plain": [
              "[1] 116"
            ]
          },
          "metadata": {}
        },
        {
          "output_type": "display_data",
          "data": {
            "text/html": [
              "19.3333333333333"
            ],
            "text/markdown": "19.3333333333333",
            "text/latex": "19.3333333333333",
            "text/plain": [
              "[1] 19.33333"
            ]
          },
          "metadata": {}
        },
        {
          "output_type": "display_data",
          "data": {
            "text/html": [
              "99"
            ],
            "text/markdown": "99",
            "text/latex": "99",
            "text/plain": [
              "[1] 99"
            ]
          },
          "metadata": {}
        },
        {
          "output_type": "display_data",
          "data": {
            "text/html": [
              "1"
            ],
            "text/markdown": "1",
            "text/latex": "1",
            "text/plain": [
              "[1] 1"
            ]
          },
          "metadata": {}
        }
      ]
    },
    {
      "cell_type": "code",
      "source": [
        "#NOTA2:\n",
        "# R, los valores TRUE y FALSE, los puede interpretar como 1's  y 0's . EJ\n",
        "sum(c(T,T,F))\n"
      ],
      "metadata": {
        "id": "TXY1g5Z3zgkK",
        "outputId": "873ee87e-1744-495b-eb57-bfa0dfa7a546",
        "colab": {
          "base_uri": "https://localhost:8080/",
          "height": 34
        }
      },
      "execution_count": 46,
      "outputs": [
        {
          "output_type": "display_data",
          "data": {
            "text/html": [
              "2"
            ],
            "text/markdown": "2",
            "text/latex": "2",
            "text/plain": [
              "[1] 2"
            ]
          },
          "metadata": {}
        }
      ]
    },
    {
      "cell_type": "code",
      "source": [
        "#¿Cuantos elementos son mayores a 7?\n",
        "sum(v1 > 7)# Solo dos son mayores a 7, a saber, las posiciones 3  y 6.\n",
        "#Alternativamente\n",
        "length(v1[v1 > 7])"
      ],
      "metadata": {
        "id": "iWtI5rzD1RaZ",
        "outputId": "4c34922a-c14b-467c-fdb2-8339b4a60e45",
        "colab": {
          "base_uri": "https://localhost:8080/",
          "height": 52
        }
      },
      "execution_count": 48,
      "outputs": [
        {
          "output_type": "display_data",
          "data": {
            "text/html": [
              "2"
            ],
            "text/markdown": "2",
            "text/latex": "2",
            "text/plain": [
              "[1] 2"
            ]
          },
          "metadata": {}
        },
        {
          "output_type": "display_data",
          "data": {
            "text/html": [
              "2"
            ],
            "text/markdown": "2",
            "text/latex": "2",
            "text/plain": [
              "[1] 2"
            ]
          },
          "metadata": {}
        }
      ]
    },
    {
      "cell_type": "code",
      "metadata": {
        "id": "bj-wjeddIgvl"
      },
      "source": [
        "# con esta idea en mente podríamos, por ejemplo, rescatar las edades con valor menor o igual a 18 años\n",
        "edades <- rnorm(1000, mean = 20, sd = 5)"
      ],
      "execution_count": 49,
      "outputs": []
    },
    {
      "cell_type": "code",
      "source": [
        "edades[edades <= 18]"
      ],
      "metadata": {
        "id": "ExKx9WfE2Myt",
        "outputId": "c27816ab-d8c1-418c-b13e-166cf70476a8",
        "colab": {
          "base_uri": "https://localhost:8080/",
          "height": 572
        }
      },
      "execution_count": 52,
      "outputs": [
        {
          "output_type": "display_data",
          "data": {
            "text/html": [
              "<style>\n",
              ".list-inline {list-style: none; margin:0; padding: 0}\n",
              ".list-inline>li {display: inline-block}\n",
              ".list-inline>li:not(:last-child)::after {content: \"\\00b7\"; padding: 0 .5ex}\n",
              "</style>\n",
              "<ol class=list-inline><li>17.7536691671251</li><li>17.0864139727297</li><li>14.3940283212808</li><li>16.5970899748537</li><li>15.1705443909742</li><li>13.2542492533518</li><li>12.6343256151571</li><li>17.1388010517681</li><li>14.6666657634727</li><li>17.1739909172912</li><li>12.4274659660252</li><li>15.5928775055484</li><li>15.6866201497509</li><li>17.2451455482653</li><li>10.2599229610908</li><li>10.5525097185559</li><li>15.055512083903</li><li>16.7548576379596</li><li>14.6342396021201</li><li>17.8418984071098</li><li>9.57529941227489</li><li>13.3632680423661</li><li>15.8704291371505</li><li>12.7989267549987</li><li>11.4015375146876</li><li>11.5192515369737</li><li>7.20111501482611</li><li>12.2024532465201</li><li>8.01024789740422</li><li>13.9114060925583</li><li>12.0242105917862</li><li>14.2639661055967</li><li>16.4625182310974</li><li>14.6974591707795</li><li>13.2684012901856</li><li>11.8312515941061</li><li>14.5012172285339</li><li>16.7502177616176</li><li>16.4092650847356</li><li>15.8117049352463</li><li>8.98056591306551</li><li>17.037330831804</li><li>13.7574521018798</li><li>16.5141096188931</li><li>4.56087053705884</li><li>16.0480336303959</li><li>16.2216250884193</li><li>17.8539848207702</li><li>13.719352029222</li><li>16.4583521162346</li><li>12.629606643973</li><li>15.8051884354869</li><li>12.4656031059831</li><li>16.3713461165272</li><li>17.9709818670439</li><li>16.6434210855412</li><li>17.4805168201532</li><li>11.2246222435649</li><li>15.9916056477348</li><li>15.2501888970117</li><li>17.0884060222782</li><li>16.2545785622763</li><li>17.9248194930516</li><li>13.8806793458326</li><li>11.1837640261785</li><li>14.6102784542749</li><li>12.7332016503189</li><li>13.0177640228726</li><li>15.0411250328422</li><li>9.53134692225232</li><li>12.2727056914953</li><li>15.2960755286438</li><li>17.0212139999656</li><li>13.4626162833274</li><li>16.1912978814268</li><li>16.2722661696</li><li>15.9766898488429</li><li>12.6309181473266</li><li>17.099255749245</li><li>12.032869073654</li><li>12.485627372464</li><li>17.6929483612631</li><li>14.7295345029482</li><li>15.9729963937865</li><li>15.9008068849137</li><li>16.5834938501785</li><li>15.6085798002668</li><li>13.9195328248414</li><li>14.7875859012746</li><li>15.3934579742317</li><li>14.3496874886598</li><li>15.3706065459084</li><li>11.4348126034217</li><li>16.2534342909681</li><li>16.0252806430367</li><li>14.2740821507025</li><li>13.4810033620191</li><li>17.9029335547656</li><li>13.1323796634626</li><li>15.5549424545082</li><li>12.3944716183241</li><li>10.995954648091</li><li>16.415962613189</li><li>17.5875008432297</li><li>17.2911572333259</li><li>12.1787266994359</li><li>12.9059271079638</li><li>15.4314459480194</li><li>12.7579184582681</li><li>17.2356571376726</li><li>10.9615903109591</li><li>11.1901526496723</li><li>16.7458281992553</li><li>15.9816205170668</li><li>17.2494353839033</li><li>14.8051340241494</li><li>14.2991067552029</li><li>17.5522924918095</li><li>15.517405901758</li><li>16.7319820384605</li><li>17.2385917421654</li><li>16.3659629675002</li><li>16.8321159190587</li><li>15.6251631812714</li><li>15.6059036536734</li><li>15.0896229342285</li><li>17.1815026400928</li><li>13.2149811848779</li><li>15.859661014713</li><li>16.8045235537528</li><li>16.9213409528176</li><li>12.5994941200368</li><li>17.8307606161184</li><li>17.8855600485442</li><li>17.4264233508243</li><li>16.8922988823168</li><li>17.0239432989427</li><li>17.3751583500025</li><li>16.531320949372</li><li>13.5567733752799</li><li>13.1172395339674</li><li>16.6374648879395</li><li>17.0921338774417</li><li>14.8615755429749</li><li>14.77071043828</li><li>15.9202032635686</li><li>17.0031906851459</li><li>16.1469076964347</li><li>10.225844981946</li><li>14.636668209144</li><li>17.8862821054463</li><li>14.0146176754618</li><li>15.6445543012554</li><li>11.2907421739424</li><li>10.8505101698283</li><li>17.6941767546805</li><li>16.1231164833855</li><li>16.2029748419739</li><li>15.3005956481382</li><li>14.3615603960116</li><li>15.5383108677151</li><li>16.512930729212</li><li>16.0720272196209</li><li>14.9370132834166</li><li>17.1322435065527</li><li>8.46375806366201</li><li>13.0394930749452</li><li>17.2710144802284</li><li>15.6054314456165</li><li>16.5753272043524</li><li>6.95895504083834</li><li>15.6793881137416</li><li>16.0681887253561</li><li>17.0514652622857</li><li>17.515428318588</li><li>13.0728809257887</li><li>10.9106400574255</li><li>7.9836058599755</li><li>14.0631924570583</li><li>13.8016191707169</li><li>11.7394046128945</li><li>16.9927089036062</li><li>13.2807368614084</li><li>17.4987039352497</li><li>8.34155964729602</li><li>16.4615443318263</li><li>16.477740657366</li><li>13.5918856061424</li><li>17.2543035637519</li><li>12.5131364651336</li><li>11.8923763344336</li><li>17.6996729944666</li><li>11.4461132118928</li><li>12.456063479957</li><li>14.1251799316765</li><li>17.0748021714154</li><li>15.4821198481572</li><li>15.801574442745</li><li>17.1563805239393</li><li>15.6613731962402</li><li>15.7672894140267</li><li>16.1488748655159</li><li>17.8390844551506</li><li>10.2091654360116</li><li>17.8442577534014</li><li>6.47720249442768</li><li>13.3975866587313</li><li>10.0462730063116</li><li>9.73154755330813</li><li>14.2170895367328</li><li>14.1303495067278</li><li>16.9229714356214</li><li>17.8676549055392</li><li>14.6122014686497</li><li>14.1085101566436</li><li>17.2633170529014</li><li>8.74256746007817</li><li>15.0310977460614</li><li>11.405861447508</li><li>15.6507715756851</li><li>17.2760612538714</li><li>9.19056515125538</li><li>14.2095973930617</li><li>12.4662388581764</li><li>15.3351228286019</li><li>17.7649518501268</li><li>17.4734254397788</li><li>14.562118658934</li><li>17.9811499964744</li><li>15.0179385786585</li><li>14.2959530700139</li><li>17.8963881468082</li><li>15.6609018453702</li><li>9.66277683395817</li><li>15.898907807512</li><li>3.0190544762</li><li>17.5414504552531</li><li>17.7452930547937</li><li>17.1528083972667</li><li>14.3837297225172</li><li>14.1641740836874</li><li>15.4870053294338</li><li>17.1123165058503</li><li>14.5235628509754</li><li>15.8927270680905</li><li>15.1333937206314</li><li>13.0267372522435</li><li>14.4185200835524</li><li>17.5360659002276</li><li>13.1733375675655</li><li>16.1263235359231</li><li>16.3580931679155</li><li>12.7031746033218</li><li>10.6378205966398</li><li>16.188658229485</li><li>15.6911257275341</li><li>15.5664422000082</li><li>13.7919620464676</li><li>15.5484157748217</li><li>11.8929578203142</li><li>13.9206367487005</li><li>17.5113997630852</li><li>11.4942188271805</li><li>15.6921246314719</li><li>16.2447650484724</li><li>17.8420736509501</li><li>5.51317972572426</li><li>17.041467319891</li><li>17.7162874066792</li><li>16.3061269174808</li><li>16.8770199987608</li><li>17.411879449812</li><li>17.1991168577629</li><li>16.8921243647114</li><li>11.4835203673178</li><li>15.2998436399658</li><li>13.519095645972</li><li>16.7607739097212</li><li>16.8655299149399</li><li>17.4907526434098</li><li>16.731118749094</li><li>12.446226953259</li><li>17.6791889639188</li><li>17.1309620263691</li><li>12.581670877313</li><li>9.05783841345469</li><li>15.7742354113145</li><li>16.133561338685</li><li>17.7797538739734</li><li>17.2195309031324</li><li>15.461650248707</li><li>15.2485708308562</li><li>8.06071570790269</li><li>16.5193072497852</li><li>17.5179774560262</li><li>15.6885412106145</li><li>14.6144168473833</li><li>11.2033718542073</li><li>15.2167400541506</li><li>13.1801768327917</li><li>17.7583720112864</li><li>17.6679212690692</li><li>16.153963239904</li><li>16.2882440066282</li><li>13.5265913449459</li><li>11.6012527136586</li><li>17.3715528322296</li><li>17.7076845914491</li><li>17.1136791485227</li><li>15.5566477568114</li><li>14.3363696151832</li><li>15.8652203195327</li><li>12.4726809836429</li><li>10.0087562875411</li><li>14.4546607308798</li><li>14.5598314474502</li></ol>\n"
            ],
            "text/markdown": "1. 17.7536691671251\n2. 17.0864139727297\n3. 14.3940283212808\n4. 16.5970899748537\n5. 15.1705443909742\n6. 13.2542492533518\n7. 12.6343256151571\n8. 17.1388010517681\n9. 14.6666657634727\n10. 17.1739909172912\n11. 12.4274659660252\n12. 15.5928775055484\n13. 15.6866201497509\n14. 17.2451455482653\n15. 10.2599229610908\n16. 10.5525097185559\n17. 15.055512083903\n18. 16.7548576379596\n19. 14.6342396021201\n20. 17.8418984071098\n21. 9.57529941227489\n22. 13.3632680423661\n23. 15.8704291371505\n24. 12.7989267549987\n25. 11.4015375146876\n26. 11.5192515369737\n27. 7.20111501482611\n28. 12.2024532465201\n29. 8.01024789740422\n30. 13.9114060925583\n31. 12.0242105917862\n32. 14.2639661055967\n33. 16.4625182310974\n34. 14.6974591707795\n35. 13.2684012901856\n36. 11.8312515941061\n37. 14.5012172285339\n38. 16.7502177616176\n39. 16.4092650847356\n40. 15.8117049352463\n41. 8.98056591306551\n42. 17.037330831804\n43. 13.7574521018798\n44. 16.5141096188931\n45. 4.56087053705884\n46. 16.0480336303959\n47. 16.2216250884193\n48. 17.8539848207702\n49. 13.719352029222\n50. 16.4583521162346\n51. 12.629606643973\n52. 15.8051884354869\n53. 12.4656031059831\n54. 16.3713461165272\n55. 17.9709818670439\n56. 16.6434210855412\n57. 17.4805168201532\n58. 11.2246222435649\n59. 15.9916056477348\n60. 15.2501888970117\n61. 17.0884060222782\n62. 16.2545785622763\n63. 17.9248194930516\n64. 13.8806793458326\n65. 11.1837640261785\n66. 14.6102784542749\n67. 12.7332016503189\n68. 13.0177640228726\n69. 15.0411250328422\n70. 9.53134692225232\n71. 12.2727056914953\n72. 15.2960755286438\n73. 17.0212139999656\n74. 13.4626162833274\n75. 16.1912978814268\n76. 16.2722661696\n77. 15.9766898488429\n78. 12.6309181473266\n79. 17.099255749245\n80. 12.032869073654\n81. 12.485627372464\n82. 17.6929483612631\n83. 14.7295345029482\n84. 15.9729963937865\n85. 15.9008068849137\n86. 16.5834938501785\n87. 15.6085798002668\n88. 13.9195328248414\n89. 14.7875859012746\n90. 15.3934579742317\n91. 14.3496874886598\n92. 15.3706065459084\n93. 11.4348126034217\n94. 16.2534342909681\n95. 16.0252806430367\n96. 14.2740821507025\n97. 13.4810033620191\n98. 17.9029335547656\n99. 13.1323796634626\n100. 15.5549424545082\n101. 12.3944716183241\n102. 10.995954648091\n103. 16.415962613189\n104. 17.5875008432297\n105. 17.2911572333259\n106. 12.1787266994359\n107. 12.9059271079638\n108. 15.4314459480194\n109. 12.7579184582681\n110. 17.2356571376726\n111. 10.9615903109591\n112. 11.1901526496723\n113. 16.7458281992553\n114. 15.9816205170668\n115. 17.2494353839033\n116. 14.8051340241494\n117. 14.2991067552029\n118. 17.5522924918095\n119. 15.517405901758\n120. 16.7319820384605\n121. 17.2385917421654\n122. 16.3659629675002\n123. 16.8321159190587\n124. 15.6251631812714\n125. 15.6059036536734\n126. 15.0896229342285\n127. 17.1815026400928\n128. 13.2149811848779\n129. 15.859661014713\n130. 16.8045235537528\n131. 16.9213409528176\n132. 12.5994941200368\n133. 17.8307606161184\n134. 17.8855600485442\n135. 17.4264233508243\n136. 16.8922988823168\n137. 17.0239432989427\n138. 17.3751583500025\n139. 16.531320949372\n140. 13.5567733752799\n141. 13.1172395339674\n142. 16.6374648879395\n143. 17.0921338774417\n144. 14.8615755429749\n145. 14.77071043828\n146. 15.9202032635686\n147. 17.0031906851459\n148. 16.1469076964347\n149. 10.225844981946\n150. 14.636668209144\n151. 17.8862821054463\n152. 14.0146176754618\n153. 15.6445543012554\n154. 11.2907421739424\n155. 10.8505101698283\n156. 17.6941767546805\n157. 16.1231164833855\n158. 16.2029748419739\n159. 15.3005956481382\n160. 14.3615603960116\n161. 15.5383108677151\n162. 16.512930729212\n163. 16.0720272196209\n164. 14.9370132834166\n165. 17.1322435065527\n166. 8.46375806366201\n167. 13.0394930749452\n168. 17.2710144802284\n169. 15.6054314456165\n170. 16.5753272043524\n171. 6.95895504083834\n172. 15.6793881137416\n173. 16.0681887253561\n174. 17.0514652622857\n175. 17.515428318588\n176. 13.0728809257887\n177. 10.9106400574255\n178. 7.9836058599755\n179. 14.0631924570583\n180. 13.8016191707169\n181. 11.7394046128945\n182. 16.9927089036062\n183. 13.2807368614084\n184. 17.4987039352497\n185. 8.34155964729602\n186. 16.4615443318263\n187. 16.477740657366\n188. 13.5918856061424\n189. 17.2543035637519\n190. 12.5131364651336\n191. 11.8923763344336\n192. 17.6996729944666\n193. 11.4461132118928\n194. 12.456063479957\n195. 14.1251799316765\n196. 17.0748021714154\n197. 15.4821198481572\n198. 15.801574442745\n199. 17.1563805239393\n200. 15.6613731962402\n201. 15.7672894140267\n202. 16.1488748655159\n203. 17.8390844551506\n204. 10.2091654360116\n205. 17.8442577534014\n206. 6.47720249442768\n207. 13.3975866587313\n208. 10.0462730063116\n209. 9.73154755330813\n210. 14.2170895367328\n211. 14.1303495067278\n212. 16.9229714356214\n213. 17.8676549055392\n214. 14.6122014686497\n215. 14.1085101566436\n216. 17.2633170529014\n217. 8.74256746007817\n218. 15.0310977460614\n219. 11.405861447508\n220. 15.6507715756851\n221. 17.2760612538714\n222. 9.19056515125538\n223. 14.2095973930617\n224. 12.4662388581764\n225. 15.3351228286019\n226. 17.7649518501268\n227. 17.4734254397788\n228. 14.562118658934\n229. 17.9811499964744\n230. 15.0179385786585\n231. 14.2959530700139\n232. 17.8963881468082\n233. 15.6609018453702\n234. 9.66277683395817\n235. 15.898907807512\n236. 3.0190544762\n237. 17.5414504552531\n238. 17.7452930547937\n239. 17.1528083972667\n240. 14.3837297225172\n241. 14.1641740836874\n242. 15.4870053294338\n243. 17.1123165058503\n244. 14.5235628509754\n245. 15.8927270680905\n246. 15.1333937206314\n247. 13.0267372522435\n248. 14.4185200835524\n249. 17.5360659002276\n250. 13.1733375675655\n251. 16.1263235359231\n252. 16.3580931679155\n253. 12.7031746033218\n254. 10.6378205966398\n255. 16.188658229485\n256. 15.6911257275341\n257. 15.5664422000082\n258. 13.7919620464676\n259. 15.5484157748217\n260. 11.8929578203142\n261. 13.9206367487005\n262. 17.5113997630852\n263. 11.4942188271805\n264. 15.6921246314719\n265. 16.2447650484724\n266. 17.8420736509501\n267. 5.51317972572426\n268. 17.041467319891\n269. 17.7162874066792\n270. 16.3061269174808\n271. 16.8770199987608\n272. 17.411879449812\n273. 17.1991168577629\n274. 16.8921243647114\n275. 11.4835203673178\n276. 15.2998436399658\n277. 13.519095645972\n278. 16.7607739097212\n279. 16.8655299149399\n280. 17.4907526434098\n281. 16.731118749094\n282. 12.446226953259\n283. 17.6791889639188\n284. 17.1309620263691\n285. 12.581670877313\n286. 9.05783841345469\n287. 15.7742354113145\n288. 16.133561338685\n289. 17.7797538739734\n290. 17.2195309031324\n291. 15.461650248707\n292. 15.2485708308562\n293. 8.06071570790269\n294. 16.5193072497852\n295. 17.5179774560262\n296. 15.6885412106145\n297. 14.6144168473833\n298. 11.2033718542073\n299. 15.2167400541506\n300. 13.1801768327917\n301. 17.7583720112864\n302. 17.6679212690692\n303. 16.153963239904\n304. 16.2882440066282\n305. 13.5265913449459\n306. 11.6012527136586\n307. 17.3715528322296\n308. 17.7076845914491\n309. 17.1136791485227\n310. 15.5566477568114\n311. 14.3363696151832\n312. 15.8652203195327\n313. 12.4726809836429\n314. 10.0087562875411\n315. 14.4546607308798\n316. 14.5598314474502\n\n\n",
            "text/latex": "\\begin{enumerate*}\n\\item 17.7536691671251\n\\item 17.0864139727297\n\\item 14.3940283212808\n\\item 16.5970899748537\n\\item 15.1705443909742\n\\item 13.2542492533518\n\\item 12.6343256151571\n\\item 17.1388010517681\n\\item 14.6666657634727\n\\item 17.1739909172912\n\\item 12.4274659660252\n\\item 15.5928775055484\n\\item 15.6866201497509\n\\item 17.2451455482653\n\\item 10.2599229610908\n\\item 10.5525097185559\n\\item 15.055512083903\n\\item 16.7548576379596\n\\item 14.6342396021201\n\\item 17.8418984071098\n\\item 9.57529941227489\n\\item 13.3632680423661\n\\item 15.8704291371505\n\\item 12.7989267549987\n\\item 11.4015375146876\n\\item 11.5192515369737\n\\item 7.20111501482611\n\\item 12.2024532465201\n\\item 8.01024789740422\n\\item 13.9114060925583\n\\item 12.0242105917862\n\\item 14.2639661055967\n\\item 16.4625182310974\n\\item 14.6974591707795\n\\item 13.2684012901856\n\\item 11.8312515941061\n\\item 14.5012172285339\n\\item 16.7502177616176\n\\item 16.4092650847356\n\\item 15.8117049352463\n\\item 8.98056591306551\n\\item 17.037330831804\n\\item 13.7574521018798\n\\item 16.5141096188931\n\\item 4.56087053705884\n\\item 16.0480336303959\n\\item 16.2216250884193\n\\item 17.8539848207702\n\\item 13.719352029222\n\\item 16.4583521162346\n\\item 12.629606643973\n\\item 15.8051884354869\n\\item 12.4656031059831\n\\item 16.3713461165272\n\\item 17.9709818670439\n\\item 16.6434210855412\n\\item 17.4805168201532\n\\item 11.2246222435649\n\\item 15.9916056477348\n\\item 15.2501888970117\n\\item 17.0884060222782\n\\item 16.2545785622763\n\\item 17.9248194930516\n\\item 13.8806793458326\n\\item 11.1837640261785\n\\item 14.6102784542749\n\\item 12.7332016503189\n\\item 13.0177640228726\n\\item 15.0411250328422\n\\item 9.53134692225232\n\\item 12.2727056914953\n\\item 15.2960755286438\n\\item 17.0212139999656\n\\item 13.4626162833274\n\\item 16.1912978814268\n\\item 16.2722661696\n\\item 15.9766898488429\n\\item 12.6309181473266\n\\item 17.099255749245\n\\item 12.032869073654\n\\item 12.485627372464\n\\item 17.6929483612631\n\\item 14.7295345029482\n\\item 15.9729963937865\n\\item 15.9008068849137\n\\item 16.5834938501785\n\\item 15.6085798002668\n\\item 13.9195328248414\n\\item 14.7875859012746\n\\item 15.3934579742317\n\\item 14.3496874886598\n\\item 15.3706065459084\n\\item 11.4348126034217\n\\item 16.2534342909681\n\\item 16.0252806430367\n\\item 14.2740821507025\n\\item 13.4810033620191\n\\item 17.9029335547656\n\\item 13.1323796634626\n\\item 15.5549424545082\n\\item 12.3944716183241\n\\item 10.995954648091\n\\item 16.415962613189\n\\item 17.5875008432297\n\\item 17.2911572333259\n\\item 12.1787266994359\n\\item 12.9059271079638\n\\item 15.4314459480194\n\\item 12.7579184582681\n\\item 17.2356571376726\n\\item 10.9615903109591\n\\item 11.1901526496723\n\\item 16.7458281992553\n\\item 15.9816205170668\n\\item 17.2494353839033\n\\item 14.8051340241494\n\\item 14.2991067552029\n\\item 17.5522924918095\n\\item 15.517405901758\n\\item 16.7319820384605\n\\item 17.2385917421654\n\\item 16.3659629675002\n\\item 16.8321159190587\n\\item 15.6251631812714\n\\item 15.6059036536734\n\\item 15.0896229342285\n\\item 17.1815026400928\n\\item 13.2149811848779\n\\item 15.859661014713\n\\item 16.8045235537528\n\\item 16.9213409528176\n\\item 12.5994941200368\n\\item 17.8307606161184\n\\item 17.8855600485442\n\\item 17.4264233508243\n\\item 16.8922988823168\n\\item 17.0239432989427\n\\item 17.3751583500025\n\\item 16.531320949372\n\\item 13.5567733752799\n\\item 13.1172395339674\n\\item 16.6374648879395\n\\item 17.0921338774417\n\\item 14.8615755429749\n\\item 14.77071043828\n\\item 15.9202032635686\n\\item 17.0031906851459\n\\item 16.1469076964347\n\\item 10.225844981946\n\\item 14.636668209144\n\\item 17.8862821054463\n\\item 14.0146176754618\n\\item 15.6445543012554\n\\item 11.2907421739424\n\\item 10.8505101698283\n\\item 17.6941767546805\n\\item 16.1231164833855\n\\item 16.2029748419739\n\\item 15.3005956481382\n\\item 14.3615603960116\n\\item 15.5383108677151\n\\item 16.512930729212\n\\item 16.0720272196209\n\\item 14.9370132834166\n\\item 17.1322435065527\n\\item 8.46375806366201\n\\item 13.0394930749452\n\\item 17.2710144802284\n\\item 15.6054314456165\n\\item 16.5753272043524\n\\item 6.95895504083834\n\\item 15.6793881137416\n\\item 16.0681887253561\n\\item 17.0514652622857\n\\item 17.515428318588\n\\item 13.0728809257887\n\\item 10.9106400574255\n\\item 7.9836058599755\n\\item 14.0631924570583\n\\item 13.8016191707169\n\\item 11.7394046128945\n\\item 16.9927089036062\n\\item 13.2807368614084\n\\item 17.4987039352497\n\\item 8.34155964729602\n\\item 16.4615443318263\n\\item 16.477740657366\n\\item 13.5918856061424\n\\item 17.2543035637519\n\\item 12.5131364651336\n\\item 11.8923763344336\n\\item 17.6996729944666\n\\item 11.4461132118928\n\\item 12.456063479957\n\\item 14.1251799316765\n\\item 17.0748021714154\n\\item 15.4821198481572\n\\item 15.801574442745\n\\item 17.1563805239393\n\\item 15.6613731962402\n\\item 15.7672894140267\n\\item 16.1488748655159\n\\item 17.8390844551506\n\\item 10.2091654360116\n\\item 17.8442577534014\n\\item 6.47720249442768\n\\item 13.3975866587313\n\\item 10.0462730063116\n\\item 9.73154755330813\n\\item 14.2170895367328\n\\item 14.1303495067278\n\\item 16.9229714356214\n\\item 17.8676549055392\n\\item 14.6122014686497\n\\item 14.1085101566436\n\\item 17.2633170529014\n\\item 8.74256746007817\n\\item 15.0310977460614\n\\item 11.405861447508\n\\item 15.6507715756851\n\\item 17.2760612538714\n\\item 9.19056515125538\n\\item 14.2095973930617\n\\item 12.4662388581764\n\\item 15.3351228286019\n\\item 17.7649518501268\n\\item 17.4734254397788\n\\item 14.562118658934\n\\item 17.9811499964744\n\\item 15.0179385786585\n\\item 14.2959530700139\n\\item 17.8963881468082\n\\item 15.6609018453702\n\\item 9.66277683395817\n\\item 15.898907807512\n\\item 3.0190544762\n\\item 17.5414504552531\n\\item 17.7452930547937\n\\item 17.1528083972667\n\\item 14.3837297225172\n\\item 14.1641740836874\n\\item 15.4870053294338\n\\item 17.1123165058503\n\\item 14.5235628509754\n\\item 15.8927270680905\n\\item 15.1333937206314\n\\item 13.0267372522435\n\\item 14.4185200835524\n\\item 17.5360659002276\n\\item 13.1733375675655\n\\item 16.1263235359231\n\\item 16.3580931679155\n\\item 12.7031746033218\n\\item 10.6378205966398\n\\item 16.188658229485\n\\item 15.6911257275341\n\\item 15.5664422000082\n\\item 13.7919620464676\n\\item 15.5484157748217\n\\item 11.8929578203142\n\\item 13.9206367487005\n\\item 17.5113997630852\n\\item 11.4942188271805\n\\item 15.6921246314719\n\\item 16.2447650484724\n\\item 17.8420736509501\n\\item 5.51317972572426\n\\item 17.041467319891\n\\item 17.7162874066792\n\\item 16.3061269174808\n\\item 16.8770199987608\n\\item 17.411879449812\n\\item 17.1991168577629\n\\item 16.8921243647114\n\\item 11.4835203673178\n\\item 15.2998436399658\n\\item 13.519095645972\n\\item 16.7607739097212\n\\item 16.8655299149399\n\\item 17.4907526434098\n\\item 16.731118749094\n\\item 12.446226953259\n\\item 17.6791889639188\n\\item 17.1309620263691\n\\item 12.581670877313\n\\item 9.05783841345469\n\\item 15.7742354113145\n\\item 16.133561338685\n\\item 17.7797538739734\n\\item 17.2195309031324\n\\item 15.461650248707\n\\item 15.2485708308562\n\\item 8.06071570790269\n\\item 16.5193072497852\n\\item 17.5179774560262\n\\item 15.6885412106145\n\\item 14.6144168473833\n\\item 11.2033718542073\n\\item 15.2167400541506\n\\item 13.1801768327917\n\\item 17.7583720112864\n\\item 17.6679212690692\n\\item 16.153963239904\n\\item 16.2882440066282\n\\item 13.5265913449459\n\\item 11.6012527136586\n\\item 17.3715528322296\n\\item 17.7076845914491\n\\item 17.1136791485227\n\\item 15.5566477568114\n\\item 14.3363696151832\n\\item 15.8652203195327\n\\item 12.4726809836429\n\\item 10.0087562875411\n\\item 14.4546607308798\n\\item 14.5598314474502\n\\end{enumerate*}\n",
            "text/plain": [
              "  [1] 17.753669 17.086414 14.394028 16.597090 15.170544 13.254249 12.634326\n",
              "  [8] 17.138801 14.666666 17.173991 12.427466 15.592878 15.686620 17.245146\n",
              " [15] 10.259923 10.552510 15.055512 16.754858 14.634240 17.841898  9.575299\n",
              " [22] 13.363268 15.870429 12.798927 11.401538 11.519252  7.201115 12.202453\n",
              " [29]  8.010248 13.911406 12.024211 14.263966 16.462518 14.697459 13.268401\n",
              " [36] 11.831252 14.501217 16.750218 16.409265 15.811705  8.980566 17.037331\n",
              " [43] 13.757452 16.514110  4.560871 16.048034 16.221625 17.853985 13.719352\n",
              " [50] 16.458352 12.629607 15.805188 12.465603 16.371346 17.970982 16.643421\n",
              " [57] 17.480517 11.224622 15.991606 15.250189 17.088406 16.254579 17.924819\n",
              " [64] 13.880679 11.183764 14.610278 12.733202 13.017764 15.041125  9.531347\n",
              " [71] 12.272706 15.296076 17.021214 13.462616 16.191298 16.272266 15.976690\n",
              " [78] 12.630918 17.099256 12.032869 12.485627 17.692948 14.729535 15.972996\n",
              " [85] 15.900807 16.583494 15.608580 13.919533 14.787586 15.393458 14.349687\n",
              " [92] 15.370607 11.434813 16.253434 16.025281 14.274082 13.481003 17.902934\n",
              " [99] 13.132380 15.554942 12.394472 10.995955 16.415963 17.587501 17.291157\n",
              "[106] 12.178727 12.905927 15.431446 12.757918 17.235657 10.961590 11.190153\n",
              "[113] 16.745828 15.981621 17.249435 14.805134 14.299107 17.552292 15.517406\n",
              "[120] 16.731982 17.238592 16.365963 16.832116 15.625163 15.605904 15.089623\n",
              "[127] 17.181503 13.214981 15.859661 16.804524 16.921341 12.599494 17.830761\n",
              "[134] 17.885560 17.426423 16.892299 17.023943 17.375158 16.531321 13.556773\n",
              "[141] 13.117240 16.637465 17.092134 14.861576 14.770710 15.920203 17.003191\n",
              "[148] 16.146908 10.225845 14.636668 17.886282 14.014618 15.644554 11.290742\n",
              "[155] 10.850510 17.694177 16.123116 16.202975 15.300596 14.361560 15.538311\n",
              "[162] 16.512931 16.072027 14.937013 17.132244  8.463758 13.039493 17.271014\n",
              "[169] 15.605431 16.575327  6.958955 15.679388 16.068189 17.051465 17.515428\n",
              "[176] 13.072881 10.910640  7.983606 14.063192 13.801619 11.739405 16.992709\n",
              "[183] 13.280737 17.498704  8.341560 16.461544 16.477741 13.591886 17.254304\n",
              "[190] 12.513136 11.892376 17.699673 11.446113 12.456063 14.125180 17.074802\n",
              "[197] 15.482120 15.801574 17.156381 15.661373 15.767289 16.148875 17.839084\n",
              "[204] 10.209165 17.844258  6.477202 13.397587 10.046273  9.731548 14.217090\n",
              "[211] 14.130350 16.922971 17.867655 14.612201 14.108510 17.263317  8.742567\n",
              "[218] 15.031098 11.405861 15.650772 17.276061  9.190565 14.209597 12.466239\n",
              "[225] 15.335123 17.764952 17.473425 14.562119 17.981150 15.017939 14.295953\n",
              "[232] 17.896388 15.660902  9.662777 15.898908  3.019054 17.541450 17.745293\n",
              "[239] 17.152808 14.383730 14.164174 15.487005 17.112317 14.523563 15.892727\n",
              "[246] 15.133394 13.026737 14.418520 17.536066 13.173338 16.126324 16.358093\n",
              "[253] 12.703175 10.637821 16.188658 15.691126 15.566442 13.791962 15.548416\n",
              "[260] 11.892958 13.920637 17.511400 11.494219 15.692125 16.244765 17.842074\n",
              "[267]  5.513180 17.041467 17.716287 16.306127 16.877020 17.411879 17.199117\n",
              "[274] 16.892124 11.483520 15.299844 13.519096 16.760774 16.865530 17.490753\n",
              "[281] 16.731119 12.446227 17.679189 17.130962 12.581671  9.057838 15.774235\n",
              "[288] 16.133561 17.779754 17.219531 15.461650 15.248571  8.060716 16.519307\n",
              "[295] 17.517977 15.688541 14.614417 11.203372 15.216740 13.180177 17.758372\n",
              "[302] 17.667921 16.153963 16.288244 13.526591 11.601253 17.371553 17.707685\n",
              "[309] 17.113679 15.556648 14.336370 15.865220 12.472681 10.008756 14.454661\n",
              "[316] 14.559831"
            ]
          },
          "metadata": {}
        }
      ]
    },
    {
      "cell_type": "code",
      "source": [
        "# En total son \n",
        "sum(edades <= 18)# Sumando los TRUE\n",
        "length(edades[edades <= 18])# Calculando el largo del vector resultante."
      ],
      "metadata": {
        "id": "3rTYKOEt2bwA",
        "outputId": "6c1532a2-4d96-4cc0-f122-cc8aec87a2bd",
        "colab": {
          "base_uri": "https://localhost:8080/",
          "height": 52
        }
      },
      "execution_count": 54,
      "outputs": [
        {
          "output_type": "display_data",
          "data": {
            "text/html": [
              "316"
            ],
            "text/markdown": "316",
            "text/latex": "316",
            "text/plain": [
              "[1] 316"
            ]
          },
          "metadata": {}
        },
        {
          "output_type": "display_data",
          "data": {
            "text/html": [
              "316"
            ],
            "text/markdown": "316",
            "text/latex": "316",
            "text/plain": [
              "[1] 316"
            ]
          },
          "metadata": {}
        }
      ]
    },
    {
      "cell_type": "code",
      "metadata": {
        "id": "fvq5tBXVIgvm",
        "outputId": "045b3c78-8b7b-4b59-967e-3960001a620c",
        "colab": {
          "base_uri": "https://localhost:8080/",
          "height": 572
        }
      },
      "source": [
        "# podríamos guardar el vector de T o F's en una variable para luego referenciarla\n",
        "condicion <- edades <= 18 # En caso de que la condición sea compleja, para no reescrbirla todo el rato.\n",
        "edades[condicion]"
      ],
      "execution_count": 56,
      "outputs": [
        {
          "output_type": "display_data",
          "data": {
            "text/html": [
              "<style>\n",
              ".list-inline {list-style: none; margin:0; padding: 0}\n",
              ".list-inline>li {display: inline-block}\n",
              ".list-inline>li:not(:last-child)::after {content: \"\\00b7\"; padding: 0 .5ex}\n",
              "</style>\n",
              "<ol class=list-inline><li>17.7536691671251</li><li>17.0864139727297</li><li>14.3940283212808</li><li>16.5970899748537</li><li>15.1705443909742</li><li>13.2542492533518</li><li>12.6343256151571</li><li>17.1388010517681</li><li>14.6666657634727</li><li>17.1739909172912</li><li>12.4274659660252</li><li>15.5928775055484</li><li>15.6866201497509</li><li>17.2451455482653</li><li>10.2599229610908</li><li>10.5525097185559</li><li>15.055512083903</li><li>16.7548576379596</li><li>14.6342396021201</li><li>17.8418984071098</li><li>9.57529941227489</li><li>13.3632680423661</li><li>15.8704291371505</li><li>12.7989267549987</li><li>11.4015375146876</li><li>11.5192515369737</li><li>7.20111501482611</li><li>12.2024532465201</li><li>8.01024789740422</li><li>13.9114060925583</li><li>12.0242105917862</li><li>14.2639661055967</li><li>16.4625182310974</li><li>14.6974591707795</li><li>13.2684012901856</li><li>11.8312515941061</li><li>14.5012172285339</li><li>16.7502177616176</li><li>16.4092650847356</li><li>15.8117049352463</li><li>8.98056591306551</li><li>17.037330831804</li><li>13.7574521018798</li><li>16.5141096188931</li><li>4.56087053705884</li><li>16.0480336303959</li><li>16.2216250884193</li><li>17.8539848207702</li><li>13.719352029222</li><li>16.4583521162346</li><li>12.629606643973</li><li>15.8051884354869</li><li>12.4656031059831</li><li>16.3713461165272</li><li>17.9709818670439</li><li>16.6434210855412</li><li>17.4805168201532</li><li>11.2246222435649</li><li>15.9916056477348</li><li>15.2501888970117</li><li>17.0884060222782</li><li>16.2545785622763</li><li>17.9248194930516</li><li>13.8806793458326</li><li>11.1837640261785</li><li>14.6102784542749</li><li>12.7332016503189</li><li>13.0177640228726</li><li>15.0411250328422</li><li>9.53134692225232</li><li>12.2727056914953</li><li>15.2960755286438</li><li>17.0212139999656</li><li>13.4626162833274</li><li>16.1912978814268</li><li>16.2722661696</li><li>15.9766898488429</li><li>12.6309181473266</li><li>17.099255749245</li><li>12.032869073654</li><li>12.485627372464</li><li>17.6929483612631</li><li>14.7295345029482</li><li>15.9729963937865</li><li>15.9008068849137</li><li>16.5834938501785</li><li>15.6085798002668</li><li>13.9195328248414</li><li>14.7875859012746</li><li>15.3934579742317</li><li>14.3496874886598</li><li>15.3706065459084</li><li>11.4348126034217</li><li>16.2534342909681</li><li>16.0252806430367</li><li>14.2740821507025</li><li>13.4810033620191</li><li>17.9029335547656</li><li>13.1323796634626</li><li>15.5549424545082</li><li>12.3944716183241</li><li>10.995954648091</li><li>16.415962613189</li><li>17.5875008432297</li><li>17.2911572333259</li><li>12.1787266994359</li><li>12.9059271079638</li><li>15.4314459480194</li><li>12.7579184582681</li><li>17.2356571376726</li><li>10.9615903109591</li><li>11.1901526496723</li><li>16.7458281992553</li><li>15.9816205170668</li><li>17.2494353839033</li><li>14.8051340241494</li><li>14.2991067552029</li><li>17.5522924918095</li><li>15.517405901758</li><li>16.7319820384605</li><li>17.2385917421654</li><li>16.3659629675002</li><li>16.8321159190587</li><li>15.6251631812714</li><li>15.6059036536734</li><li>15.0896229342285</li><li>17.1815026400928</li><li>13.2149811848779</li><li>15.859661014713</li><li>16.8045235537528</li><li>16.9213409528176</li><li>12.5994941200368</li><li>17.8307606161184</li><li>17.8855600485442</li><li>17.4264233508243</li><li>16.8922988823168</li><li>17.0239432989427</li><li>17.3751583500025</li><li>16.531320949372</li><li>13.5567733752799</li><li>13.1172395339674</li><li>16.6374648879395</li><li>17.0921338774417</li><li>14.8615755429749</li><li>14.77071043828</li><li>15.9202032635686</li><li>17.0031906851459</li><li>16.1469076964347</li><li>10.225844981946</li><li>14.636668209144</li><li>17.8862821054463</li><li>14.0146176754618</li><li>15.6445543012554</li><li>11.2907421739424</li><li>10.8505101698283</li><li>17.6941767546805</li><li>16.1231164833855</li><li>16.2029748419739</li><li>15.3005956481382</li><li>14.3615603960116</li><li>15.5383108677151</li><li>16.512930729212</li><li>16.0720272196209</li><li>14.9370132834166</li><li>17.1322435065527</li><li>8.46375806366201</li><li>13.0394930749452</li><li>17.2710144802284</li><li>15.6054314456165</li><li>16.5753272043524</li><li>6.95895504083834</li><li>15.6793881137416</li><li>16.0681887253561</li><li>17.0514652622857</li><li>17.515428318588</li><li>13.0728809257887</li><li>10.9106400574255</li><li>7.9836058599755</li><li>14.0631924570583</li><li>13.8016191707169</li><li>11.7394046128945</li><li>16.9927089036062</li><li>13.2807368614084</li><li>17.4987039352497</li><li>8.34155964729602</li><li>16.4615443318263</li><li>16.477740657366</li><li>13.5918856061424</li><li>17.2543035637519</li><li>12.5131364651336</li><li>11.8923763344336</li><li>17.6996729944666</li><li>11.4461132118928</li><li>12.456063479957</li><li>14.1251799316765</li><li>17.0748021714154</li><li>15.4821198481572</li><li>15.801574442745</li><li>17.1563805239393</li><li>15.6613731962402</li><li>15.7672894140267</li><li>16.1488748655159</li><li>17.8390844551506</li><li>10.2091654360116</li><li>17.8442577534014</li><li>6.47720249442768</li><li>13.3975866587313</li><li>10.0462730063116</li><li>9.73154755330813</li><li>14.2170895367328</li><li>14.1303495067278</li><li>16.9229714356214</li><li>17.8676549055392</li><li>14.6122014686497</li><li>14.1085101566436</li><li>17.2633170529014</li><li>8.74256746007817</li><li>15.0310977460614</li><li>11.405861447508</li><li>15.6507715756851</li><li>17.2760612538714</li><li>9.19056515125538</li><li>14.2095973930617</li><li>12.4662388581764</li><li>15.3351228286019</li><li>17.7649518501268</li><li>17.4734254397788</li><li>14.562118658934</li><li>17.9811499964744</li><li>15.0179385786585</li><li>14.2959530700139</li><li>17.8963881468082</li><li>15.6609018453702</li><li>9.66277683395817</li><li>15.898907807512</li><li>3.0190544762</li><li>17.5414504552531</li><li>17.7452930547937</li><li>17.1528083972667</li><li>14.3837297225172</li><li>14.1641740836874</li><li>15.4870053294338</li><li>17.1123165058503</li><li>14.5235628509754</li><li>15.8927270680905</li><li>15.1333937206314</li><li>13.0267372522435</li><li>14.4185200835524</li><li>17.5360659002276</li><li>13.1733375675655</li><li>16.1263235359231</li><li>16.3580931679155</li><li>12.7031746033218</li><li>10.6378205966398</li><li>16.188658229485</li><li>15.6911257275341</li><li>15.5664422000082</li><li>13.7919620464676</li><li>15.5484157748217</li><li>11.8929578203142</li><li>13.9206367487005</li><li>17.5113997630852</li><li>11.4942188271805</li><li>15.6921246314719</li><li>16.2447650484724</li><li>17.8420736509501</li><li>5.51317972572426</li><li>17.041467319891</li><li>17.7162874066792</li><li>16.3061269174808</li><li>16.8770199987608</li><li>17.411879449812</li><li>17.1991168577629</li><li>16.8921243647114</li><li>11.4835203673178</li><li>15.2998436399658</li><li>13.519095645972</li><li>16.7607739097212</li><li>16.8655299149399</li><li>17.4907526434098</li><li>16.731118749094</li><li>12.446226953259</li><li>17.6791889639188</li><li>17.1309620263691</li><li>12.581670877313</li><li>9.05783841345469</li><li>15.7742354113145</li><li>16.133561338685</li><li>17.7797538739734</li><li>17.2195309031324</li><li>15.461650248707</li><li>15.2485708308562</li><li>8.06071570790269</li><li>16.5193072497852</li><li>17.5179774560262</li><li>15.6885412106145</li><li>14.6144168473833</li><li>11.2033718542073</li><li>15.2167400541506</li><li>13.1801768327917</li><li>17.7583720112864</li><li>17.6679212690692</li><li>16.153963239904</li><li>16.2882440066282</li><li>13.5265913449459</li><li>11.6012527136586</li><li>17.3715528322296</li><li>17.7076845914491</li><li>17.1136791485227</li><li>15.5566477568114</li><li>14.3363696151832</li><li>15.8652203195327</li><li>12.4726809836429</li><li>10.0087562875411</li><li>14.4546607308798</li><li>14.5598314474502</li></ol>\n"
            ],
            "text/markdown": "1. 17.7536691671251\n2. 17.0864139727297\n3. 14.3940283212808\n4. 16.5970899748537\n5. 15.1705443909742\n6. 13.2542492533518\n7. 12.6343256151571\n8. 17.1388010517681\n9. 14.6666657634727\n10. 17.1739909172912\n11. 12.4274659660252\n12. 15.5928775055484\n13. 15.6866201497509\n14. 17.2451455482653\n15. 10.2599229610908\n16. 10.5525097185559\n17. 15.055512083903\n18. 16.7548576379596\n19. 14.6342396021201\n20. 17.8418984071098\n21. 9.57529941227489\n22. 13.3632680423661\n23. 15.8704291371505\n24. 12.7989267549987\n25. 11.4015375146876\n26. 11.5192515369737\n27. 7.20111501482611\n28. 12.2024532465201\n29. 8.01024789740422\n30. 13.9114060925583\n31. 12.0242105917862\n32. 14.2639661055967\n33. 16.4625182310974\n34. 14.6974591707795\n35. 13.2684012901856\n36. 11.8312515941061\n37. 14.5012172285339\n38. 16.7502177616176\n39. 16.4092650847356\n40. 15.8117049352463\n41. 8.98056591306551\n42. 17.037330831804\n43. 13.7574521018798\n44. 16.5141096188931\n45. 4.56087053705884\n46. 16.0480336303959\n47. 16.2216250884193\n48. 17.8539848207702\n49. 13.719352029222\n50. 16.4583521162346\n51. 12.629606643973\n52. 15.8051884354869\n53. 12.4656031059831\n54. 16.3713461165272\n55. 17.9709818670439\n56. 16.6434210855412\n57. 17.4805168201532\n58. 11.2246222435649\n59. 15.9916056477348\n60. 15.2501888970117\n61. 17.0884060222782\n62. 16.2545785622763\n63. 17.9248194930516\n64. 13.8806793458326\n65. 11.1837640261785\n66. 14.6102784542749\n67. 12.7332016503189\n68. 13.0177640228726\n69. 15.0411250328422\n70. 9.53134692225232\n71. 12.2727056914953\n72. 15.2960755286438\n73. 17.0212139999656\n74. 13.4626162833274\n75. 16.1912978814268\n76. 16.2722661696\n77. 15.9766898488429\n78. 12.6309181473266\n79. 17.099255749245\n80. 12.032869073654\n81. 12.485627372464\n82. 17.6929483612631\n83. 14.7295345029482\n84. 15.9729963937865\n85. 15.9008068849137\n86. 16.5834938501785\n87. 15.6085798002668\n88. 13.9195328248414\n89. 14.7875859012746\n90. 15.3934579742317\n91. 14.3496874886598\n92. 15.3706065459084\n93. 11.4348126034217\n94. 16.2534342909681\n95. 16.0252806430367\n96. 14.2740821507025\n97. 13.4810033620191\n98. 17.9029335547656\n99. 13.1323796634626\n100. 15.5549424545082\n101. 12.3944716183241\n102. 10.995954648091\n103. 16.415962613189\n104. 17.5875008432297\n105. 17.2911572333259\n106. 12.1787266994359\n107. 12.9059271079638\n108. 15.4314459480194\n109. 12.7579184582681\n110. 17.2356571376726\n111. 10.9615903109591\n112. 11.1901526496723\n113. 16.7458281992553\n114. 15.9816205170668\n115. 17.2494353839033\n116. 14.8051340241494\n117. 14.2991067552029\n118. 17.5522924918095\n119. 15.517405901758\n120. 16.7319820384605\n121. 17.2385917421654\n122. 16.3659629675002\n123. 16.8321159190587\n124. 15.6251631812714\n125. 15.6059036536734\n126. 15.0896229342285\n127. 17.1815026400928\n128. 13.2149811848779\n129. 15.859661014713\n130. 16.8045235537528\n131. 16.9213409528176\n132. 12.5994941200368\n133. 17.8307606161184\n134. 17.8855600485442\n135. 17.4264233508243\n136. 16.8922988823168\n137. 17.0239432989427\n138. 17.3751583500025\n139. 16.531320949372\n140. 13.5567733752799\n141. 13.1172395339674\n142. 16.6374648879395\n143. 17.0921338774417\n144. 14.8615755429749\n145. 14.77071043828\n146. 15.9202032635686\n147. 17.0031906851459\n148. 16.1469076964347\n149. 10.225844981946\n150. 14.636668209144\n151. 17.8862821054463\n152. 14.0146176754618\n153. 15.6445543012554\n154. 11.2907421739424\n155. 10.8505101698283\n156. 17.6941767546805\n157. 16.1231164833855\n158. 16.2029748419739\n159. 15.3005956481382\n160. 14.3615603960116\n161. 15.5383108677151\n162. 16.512930729212\n163. 16.0720272196209\n164. 14.9370132834166\n165. 17.1322435065527\n166. 8.46375806366201\n167. 13.0394930749452\n168. 17.2710144802284\n169. 15.6054314456165\n170. 16.5753272043524\n171. 6.95895504083834\n172. 15.6793881137416\n173. 16.0681887253561\n174. 17.0514652622857\n175. 17.515428318588\n176. 13.0728809257887\n177. 10.9106400574255\n178. 7.9836058599755\n179. 14.0631924570583\n180. 13.8016191707169\n181. 11.7394046128945\n182. 16.9927089036062\n183. 13.2807368614084\n184. 17.4987039352497\n185. 8.34155964729602\n186. 16.4615443318263\n187. 16.477740657366\n188. 13.5918856061424\n189. 17.2543035637519\n190. 12.5131364651336\n191. 11.8923763344336\n192. 17.6996729944666\n193. 11.4461132118928\n194. 12.456063479957\n195. 14.1251799316765\n196. 17.0748021714154\n197. 15.4821198481572\n198. 15.801574442745\n199. 17.1563805239393\n200. 15.6613731962402\n201. 15.7672894140267\n202. 16.1488748655159\n203. 17.8390844551506\n204. 10.2091654360116\n205. 17.8442577534014\n206. 6.47720249442768\n207. 13.3975866587313\n208. 10.0462730063116\n209. 9.73154755330813\n210. 14.2170895367328\n211. 14.1303495067278\n212. 16.9229714356214\n213. 17.8676549055392\n214. 14.6122014686497\n215. 14.1085101566436\n216. 17.2633170529014\n217. 8.74256746007817\n218. 15.0310977460614\n219. 11.405861447508\n220. 15.6507715756851\n221. 17.2760612538714\n222. 9.19056515125538\n223. 14.2095973930617\n224. 12.4662388581764\n225. 15.3351228286019\n226. 17.7649518501268\n227. 17.4734254397788\n228. 14.562118658934\n229. 17.9811499964744\n230. 15.0179385786585\n231. 14.2959530700139\n232. 17.8963881468082\n233. 15.6609018453702\n234. 9.66277683395817\n235. 15.898907807512\n236. 3.0190544762\n237. 17.5414504552531\n238. 17.7452930547937\n239. 17.1528083972667\n240. 14.3837297225172\n241. 14.1641740836874\n242. 15.4870053294338\n243. 17.1123165058503\n244. 14.5235628509754\n245. 15.8927270680905\n246. 15.1333937206314\n247. 13.0267372522435\n248. 14.4185200835524\n249. 17.5360659002276\n250. 13.1733375675655\n251. 16.1263235359231\n252. 16.3580931679155\n253. 12.7031746033218\n254. 10.6378205966398\n255. 16.188658229485\n256. 15.6911257275341\n257. 15.5664422000082\n258. 13.7919620464676\n259. 15.5484157748217\n260. 11.8929578203142\n261. 13.9206367487005\n262. 17.5113997630852\n263. 11.4942188271805\n264. 15.6921246314719\n265. 16.2447650484724\n266. 17.8420736509501\n267. 5.51317972572426\n268. 17.041467319891\n269. 17.7162874066792\n270. 16.3061269174808\n271. 16.8770199987608\n272. 17.411879449812\n273. 17.1991168577629\n274. 16.8921243647114\n275. 11.4835203673178\n276. 15.2998436399658\n277. 13.519095645972\n278. 16.7607739097212\n279. 16.8655299149399\n280. 17.4907526434098\n281. 16.731118749094\n282. 12.446226953259\n283. 17.6791889639188\n284. 17.1309620263691\n285. 12.581670877313\n286. 9.05783841345469\n287. 15.7742354113145\n288. 16.133561338685\n289. 17.7797538739734\n290. 17.2195309031324\n291. 15.461650248707\n292. 15.2485708308562\n293. 8.06071570790269\n294. 16.5193072497852\n295. 17.5179774560262\n296. 15.6885412106145\n297. 14.6144168473833\n298. 11.2033718542073\n299. 15.2167400541506\n300. 13.1801768327917\n301. 17.7583720112864\n302. 17.6679212690692\n303. 16.153963239904\n304. 16.2882440066282\n305. 13.5265913449459\n306. 11.6012527136586\n307. 17.3715528322296\n308. 17.7076845914491\n309. 17.1136791485227\n310. 15.5566477568114\n311. 14.3363696151832\n312. 15.8652203195327\n313. 12.4726809836429\n314. 10.0087562875411\n315. 14.4546607308798\n316. 14.5598314474502\n\n\n",
            "text/latex": "\\begin{enumerate*}\n\\item 17.7536691671251\n\\item 17.0864139727297\n\\item 14.3940283212808\n\\item 16.5970899748537\n\\item 15.1705443909742\n\\item 13.2542492533518\n\\item 12.6343256151571\n\\item 17.1388010517681\n\\item 14.6666657634727\n\\item 17.1739909172912\n\\item 12.4274659660252\n\\item 15.5928775055484\n\\item 15.6866201497509\n\\item 17.2451455482653\n\\item 10.2599229610908\n\\item 10.5525097185559\n\\item 15.055512083903\n\\item 16.7548576379596\n\\item 14.6342396021201\n\\item 17.8418984071098\n\\item 9.57529941227489\n\\item 13.3632680423661\n\\item 15.8704291371505\n\\item 12.7989267549987\n\\item 11.4015375146876\n\\item 11.5192515369737\n\\item 7.20111501482611\n\\item 12.2024532465201\n\\item 8.01024789740422\n\\item 13.9114060925583\n\\item 12.0242105917862\n\\item 14.2639661055967\n\\item 16.4625182310974\n\\item 14.6974591707795\n\\item 13.2684012901856\n\\item 11.8312515941061\n\\item 14.5012172285339\n\\item 16.7502177616176\n\\item 16.4092650847356\n\\item 15.8117049352463\n\\item 8.98056591306551\n\\item 17.037330831804\n\\item 13.7574521018798\n\\item 16.5141096188931\n\\item 4.56087053705884\n\\item 16.0480336303959\n\\item 16.2216250884193\n\\item 17.8539848207702\n\\item 13.719352029222\n\\item 16.4583521162346\n\\item 12.629606643973\n\\item 15.8051884354869\n\\item 12.4656031059831\n\\item 16.3713461165272\n\\item 17.9709818670439\n\\item 16.6434210855412\n\\item 17.4805168201532\n\\item 11.2246222435649\n\\item 15.9916056477348\n\\item 15.2501888970117\n\\item 17.0884060222782\n\\item 16.2545785622763\n\\item 17.9248194930516\n\\item 13.8806793458326\n\\item 11.1837640261785\n\\item 14.6102784542749\n\\item 12.7332016503189\n\\item 13.0177640228726\n\\item 15.0411250328422\n\\item 9.53134692225232\n\\item 12.2727056914953\n\\item 15.2960755286438\n\\item 17.0212139999656\n\\item 13.4626162833274\n\\item 16.1912978814268\n\\item 16.2722661696\n\\item 15.9766898488429\n\\item 12.6309181473266\n\\item 17.099255749245\n\\item 12.032869073654\n\\item 12.485627372464\n\\item 17.6929483612631\n\\item 14.7295345029482\n\\item 15.9729963937865\n\\item 15.9008068849137\n\\item 16.5834938501785\n\\item 15.6085798002668\n\\item 13.9195328248414\n\\item 14.7875859012746\n\\item 15.3934579742317\n\\item 14.3496874886598\n\\item 15.3706065459084\n\\item 11.4348126034217\n\\item 16.2534342909681\n\\item 16.0252806430367\n\\item 14.2740821507025\n\\item 13.4810033620191\n\\item 17.9029335547656\n\\item 13.1323796634626\n\\item 15.5549424545082\n\\item 12.3944716183241\n\\item 10.995954648091\n\\item 16.415962613189\n\\item 17.5875008432297\n\\item 17.2911572333259\n\\item 12.1787266994359\n\\item 12.9059271079638\n\\item 15.4314459480194\n\\item 12.7579184582681\n\\item 17.2356571376726\n\\item 10.9615903109591\n\\item 11.1901526496723\n\\item 16.7458281992553\n\\item 15.9816205170668\n\\item 17.2494353839033\n\\item 14.8051340241494\n\\item 14.2991067552029\n\\item 17.5522924918095\n\\item 15.517405901758\n\\item 16.7319820384605\n\\item 17.2385917421654\n\\item 16.3659629675002\n\\item 16.8321159190587\n\\item 15.6251631812714\n\\item 15.6059036536734\n\\item 15.0896229342285\n\\item 17.1815026400928\n\\item 13.2149811848779\n\\item 15.859661014713\n\\item 16.8045235537528\n\\item 16.9213409528176\n\\item 12.5994941200368\n\\item 17.8307606161184\n\\item 17.8855600485442\n\\item 17.4264233508243\n\\item 16.8922988823168\n\\item 17.0239432989427\n\\item 17.3751583500025\n\\item 16.531320949372\n\\item 13.5567733752799\n\\item 13.1172395339674\n\\item 16.6374648879395\n\\item 17.0921338774417\n\\item 14.8615755429749\n\\item 14.77071043828\n\\item 15.9202032635686\n\\item 17.0031906851459\n\\item 16.1469076964347\n\\item 10.225844981946\n\\item 14.636668209144\n\\item 17.8862821054463\n\\item 14.0146176754618\n\\item 15.6445543012554\n\\item 11.2907421739424\n\\item 10.8505101698283\n\\item 17.6941767546805\n\\item 16.1231164833855\n\\item 16.2029748419739\n\\item 15.3005956481382\n\\item 14.3615603960116\n\\item 15.5383108677151\n\\item 16.512930729212\n\\item 16.0720272196209\n\\item 14.9370132834166\n\\item 17.1322435065527\n\\item 8.46375806366201\n\\item 13.0394930749452\n\\item 17.2710144802284\n\\item 15.6054314456165\n\\item 16.5753272043524\n\\item 6.95895504083834\n\\item 15.6793881137416\n\\item 16.0681887253561\n\\item 17.0514652622857\n\\item 17.515428318588\n\\item 13.0728809257887\n\\item 10.9106400574255\n\\item 7.9836058599755\n\\item 14.0631924570583\n\\item 13.8016191707169\n\\item 11.7394046128945\n\\item 16.9927089036062\n\\item 13.2807368614084\n\\item 17.4987039352497\n\\item 8.34155964729602\n\\item 16.4615443318263\n\\item 16.477740657366\n\\item 13.5918856061424\n\\item 17.2543035637519\n\\item 12.5131364651336\n\\item 11.8923763344336\n\\item 17.6996729944666\n\\item 11.4461132118928\n\\item 12.456063479957\n\\item 14.1251799316765\n\\item 17.0748021714154\n\\item 15.4821198481572\n\\item 15.801574442745\n\\item 17.1563805239393\n\\item 15.6613731962402\n\\item 15.7672894140267\n\\item 16.1488748655159\n\\item 17.8390844551506\n\\item 10.2091654360116\n\\item 17.8442577534014\n\\item 6.47720249442768\n\\item 13.3975866587313\n\\item 10.0462730063116\n\\item 9.73154755330813\n\\item 14.2170895367328\n\\item 14.1303495067278\n\\item 16.9229714356214\n\\item 17.8676549055392\n\\item 14.6122014686497\n\\item 14.1085101566436\n\\item 17.2633170529014\n\\item 8.74256746007817\n\\item 15.0310977460614\n\\item 11.405861447508\n\\item 15.6507715756851\n\\item 17.2760612538714\n\\item 9.19056515125538\n\\item 14.2095973930617\n\\item 12.4662388581764\n\\item 15.3351228286019\n\\item 17.7649518501268\n\\item 17.4734254397788\n\\item 14.562118658934\n\\item 17.9811499964744\n\\item 15.0179385786585\n\\item 14.2959530700139\n\\item 17.8963881468082\n\\item 15.6609018453702\n\\item 9.66277683395817\n\\item 15.898907807512\n\\item 3.0190544762\n\\item 17.5414504552531\n\\item 17.7452930547937\n\\item 17.1528083972667\n\\item 14.3837297225172\n\\item 14.1641740836874\n\\item 15.4870053294338\n\\item 17.1123165058503\n\\item 14.5235628509754\n\\item 15.8927270680905\n\\item 15.1333937206314\n\\item 13.0267372522435\n\\item 14.4185200835524\n\\item 17.5360659002276\n\\item 13.1733375675655\n\\item 16.1263235359231\n\\item 16.3580931679155\n\\item 12.7031746033218\n\\item 10.6378205966398\n\\item 16.188658229485\n\\item 15.6911257275341\n\\item 15.5664422000082\n\\item 13.7919620464676\n\\item 15.5484157748217\n\\item 11.8929578203142\n\\item 13.9206367487005\n\\item 17.5113997630852\n\\item 11.4942188271805\n\\item 15.6921246314719\n\\item 16.2447650484724\n\\item 17.8420736509501\n\\item 5.51317972572426\n\\item 17.041467319891\n\\item 17.7162874066792\n\\item 16.3061269174808\n\\item 16.8770199987608\n\\item 17.411879449812\n\\item 17.1991168577629\n\\item 16.8921243647114\n\\item 11.4835203673178\n\\item 15.2998436399658\n\\item 13.519095645972\n\\item 16.7607739097212\n\\item 16.8655299149399\n\\item 17.4907526434098\n\\item 16.731118749094\n\\item 12.446226953259\n\\item 17.6791889639188\n\\item 17.1309620263691\n\\item 12.581670877313\n\\item 9.05783841345469\n\\item 15.7742354113145\n\\item 16.133561338685\n\\item 17.7797538739734\n\\item 17.2195309031324\n\\item 15.461650248707\n\\item 15.2485708308562\n\\item 8.06071570790269\n\\item 16.5193072497852\n\\item 17.5179774560262\n\\item 15.6885412106145\n\\item 14.6144168473833\n\\item 11.2033718542073\n\\item 15.2167400541506\n\\item 13.1801768327917\n\\item 17.7583720112864\n\\item 17.6679212690692\n\\item 16.153963239904\n\\item 16.2882440066282\n\\item 13.5265913449459\n\\item 11.6012527136586\n\\item 17.3715528322296\n\\item 17.7076845914491\n\\item 17.1136791485227\n\\item 15.5566477568114\n\\item 14.3363696151832\n\\item 15.8652203195327\n\\item 12.4726809836429\n\\item 10.0087562875411\n\\item 14.4546607308798\n\\item 14.5598314474502\n\\end{enumerate*}\n",
            "text/plain": [
              "  [1] 17.753669 17.086414 14.394028 16.597090 15.170544 13.254249 12.634326\n",
              "  [8] 17.138801 14.666666 17.173991 12.427466 15.592878 15.686620 17.245146\n",
              " [15] 10.259923 10.552510 15.055512 16.754858 14.634240 17.841898  9.575299\n",
              " [22] 13.363268 15.870429 12.798927 11.401538 11.519252  7.201115 12.202453\n",
              " [29]  8.010248 13.911406 12.024211 14.263966 16.462518 14.697459 13.268401\n",
              " [36] 11.831252 14.501217 16.750218 16.409265 15.811705  8.980566 17.037331\n",
              " [43] 13.757452 16.514110  4.560871 16.048034 16.221625 17.853985 13.719352\n",
              " [50] 16.458352 12.629607 15.805188 12.465603 16.371346 17.970982 16.643421\n",
              " [57] 17.480517 11.224622 15.991606 15.250189 17.088406 16.254579 17.924819\n",
              " [64] 13.880679 11.183764 14.610278 12.733202 13.017764 15.041125  9.531347\n",
              " [71] 12.272706 15.296076 17.021214 13.462616 16.191298 16.272266 15.976690\n",
              " [78] 12.630918 17.099256 12.032869 12.485627 17.692948 14.729535 15.972996\n",
              " [85] 15.900807 16.583494 15.608580 13.919533 14.787586 15.393458 14.349687\n",
              " [92] 15.370607 11.434813 16.253434 16.025281 14.274082 13.481003 17.902934\n",
              " [99] 13.132380 15.554942 12.394472 10.995955 16.415963 17.587501 17.291157\n",
              "[106] 12.178727 12.905927 15.431446 12.757918 17.235657 10.961590 11.190153\n",
              "[113] 16.745828 15.981621 17.249435 14.805134 14.299107 17.552292 15.517406\n",
              "[120] 16.731982 17.238592 16.365963 16.832116 15.625163 15.605904 15.089623\n",
              "[127] 17.181503 13.214981 15.859661 16.804524 16.921341 12.599494 17.830761\n",
              "[134] 17.885560 17.426423 16.892299 17.023943 17.375158 16.531321 13.556773\n",
              "[141] 13.117240 16.637465 17.092134 14.861576 14.770710 15.920203 17.003191\n",
              "[148] 16.146908 10.225845 14.636668 17.886282 14.014618 15.644554 11.290742\n",
              "[155] 10.850510 17.694177 16.123116 16.202975 15.300596 14.361560 15.538311\n",
              "[162] 16.512931 16.072027 14.937013 17.132244  8.463758 13.039493 17.271014\n",
              "[169] 15.605431 16.575327  6.958955 15.679388 16.068189 17.051465 17.515428\n",
              "[176] 13.072881 10.910640  7.983606 14.063192 13.801619 11.739405 16.992709\n",
              "[183] 13.280737 17.498704  8.341560 16.461544 16.477741 13.591886 17.254304\n",
              "[190] 12.513136 11.892376 17.699673 11.446113 12.456063 14.125180 17.074802\n",
              "[197] 15.482120 15.801574 17.156381 15.661373 15.767289 16.148875 17.839084\n",
              "[204] 10.209165 17.844258  6.477202 13.397587 10.046273  9.731548 14.217090\n",
              "[211] 14.130350 16.922971 17.867655 14.612201 14.108510 17.263317  8.742567\n",
              "[218] 15.031098 11.405861 15.650772 17.276061  9.190565 14.209597 12.466239\n",
              "[225] 15.335123 17.764952 17.473425 14.562119 17.981150 15.017939 14.295953\n",
              "[232] 17.896388 15.660902  9.662777 15.898908  3.019054 17.541450 17.745293\n",
              "[239] 17.152808 14.383730 14.164174 15.487005 17.112317 14.523563 15.892727\n",
              "[246] 15.133394 13.026737 14.418520 17.536066 13.173338 16.126324 16.358093\n",
              "[253] 12.703175 10.637821 16.188658 15.691126 15.566442 13.791962 15.548416\n",
              "[260] 11.892958 13.920637 17.511400 11.494219 15.692125 16.244765 17.842074\n",
              "[267]  5.513180 17.041467 17.716287 16.306127 16.877020 17.411879 17.199117\n",
              "[274] 16.892124 11.483520 15.299844 13.519096 16.760774 16.865530 17.490753\n",
              "[281] 16.731119 12.446227 17.679189 17.130962 12.581671  9.057838 15.774235\n",
              "[288] 16.133561 17.779754 17.219531 15.461650 15.248571  8.060716 16.519307\n",
              "[295] 17.517977 15.688541 14.614417 11.203372 15.216740 13.180177 17.758372\n",
              "[302] 17.667921 16.153963 16.288244 13.526591 11.601253 17.371553 17.707685\n",
              "[309] 17.113679 15.556648 14.336370 15.865220 12.472681 10.008756 14.454661\n",
              "[316] 14.559831"
            ]
          },
          "metadata": {}
        }
      ]
    },
    {
      "cell_type": "code",
      "metadata": {
        "id": "ioUJy8UEIgvz",
        "outputId": "f81f1fd0-f0f6-4c59-b242-42733630f658",
        "colab": {
          "base_uri": "https://localhost:8080/",
          "height": 52
        }
      },
      "source": [
        "#?which.max/min\n",
        "#Retorna el índice del primer elmento igual al máximo/mínimo valor del vector\n",
        "\n",
        "#Ej: en qué posición se encuentra la mayor edad registrada\n",
        "pos <- which.max(edades)\n",
        "pos\n",
        "# A qué edad corresponde?\n",
        "edades[pos]"
      ],
      "execution_count": 59,
      "outputs": [
        {
          "output_type": "display_data",
          "data": {
            "text/html": [
              "88"
            ],
            "text/markdown": "88",
            "text/latex": "88",
            "text/plain": [
              "[1] 88"
            ]
          },
          "metadata": {}
        },
        {
          "output_type": "display_data",
          "data": {
            "text/html": [
              "37.7313388865435"
            ],
            "text/markdown": "37.7313388865435",
            "text/latex": "37.7313388865435",
            "text/plain": [
              "[1] 37.73134"
            ]
          },
          "metadata": {}
        }
      ]
    },
    {
      "cell_type": "code",
      "source": [
        "# Función which()\n",
        "# En qué posicones, v1 es mayor a 7?\n",
        "\n",
        "which(v1 > 7)# En las posiciones 4 y 6, v1 es mayor a 7."
      ],
      "metadata": {
        "id": "s4vs_HSp4KCJ",
        "outputId": "9993f09c-211b-4be7-9aa9-578706ef68c6",
        "colab": {
          "base_uri": "https://localhost:8080/",
          "height": 34
        }
      },
      "execution_count": 61,
      "outputs": [
        {
          "output_type": "display_data",
          "data": {
            "text/html": [
              "<style>\n",
              ".dl-inline {width: auto; margin:0; padding: 0}\n",
              ".dl-inline>dt, .dl-inline>dd {float: none; width: auto; display: inline-block}\n",
              ".dl-inline>dt::after {content: \":\\0020\"; padding-right: .5ex}\n",
              ".dl-inline>dt:not(:first-of-type) {padding-left: .5ex}\n",
              "</style><dl class=dl-inline><dt>n4</dt><dd>4</dd><dt>n6</dt><dd>6</dd></dl>\n"
            ],
            "text/markdown": "n4\n:   4n6\n:   6\n\n",
            "text/latex": "\\begin{description*}\n\\item[n4] 4\n\\item[n6] 6\n\\end{description*}\n",
            "text/plain": [
              "n4 n6 \n",
              " 4  6 "
            ]
          },
          "metadata": {}
        }
      ]
    },
    {
      "cell_type": "code",
      "source": [
        "#NOTA.\n",
        "which.max(c(1,4,2,4))# Retorna solo la pos 2."
      ],
      "metadata": {
        "id": "XE_US-8e3nvJ",
        "outputId": "932cd322-b5b2-488d-b315-b8c8ab451a97",
        "colab": {
          "base_uri": "https://localhost:8080/",
          "height": 34
        }
      },
      "execution_count": 60,
      "outputs": [
        {
          "output_type": "display_data",
          "data": {
            "text/html": [
              "2"
            ],
            "text/markdown": "2",
            "text/latex": "2",
            "text/plain": [
              "[1] 2"
            ]
          },
          "metadata": {}
        }
      ]
    },
    {
      "cell_type": "code",
      "source": [
        "aux <- c(1,4,2,4)\n",
        "#'¿y si que remos las dos posiciones?\n",
        "\n",
        "which(aux == max(aux))"
      ],
      "metadata": {
        "id": "2uWrxk0n38kF",
        "outputId": "c29a7630-f18b-4e8a-8c69-76dc957fdf27",
        "colab": {
          "base_uri": "https://localhost:8080/",
          "height": 34
        }
      },
      "execution_count": 62,
      "outputs": [
        {
          "output_type": "display_data",
          "data": {
            "text/html": [
              "<style>\n",
              ".list-inline {list-style: none; margin:0; padding: 0}\n",
              ".list-inline>li {display: inline-block}\n",
              ".list-inline>li:not(:last-child)::after {content: \"\\00b7\"; padding: 0 .5ex}\n",
              "</style>\n",
              "<ol class=list-inline><li>2</li><li>4</li></ol>\n"
            ],
            "text/markdown": "1. 2\n2. 4\n\n\n",
            "text/latex": "\\begin{enumerate*}\n\\item 2\n\\item 4\n\\end{enumerate*}\n",
            "text/plain": [
              "[1] 2 4"
            ]
          },
          "metadata": {}
        }
      ]
    },
    {
      "cell_type": "code",
      "source": [
        "(1:length(aux))[aux == max(aux)]# Alternativa de Jorge :)"
      ],
      "metadata": {
        "id": "P7aJaiVX53_M",
        "outputId": "f2dd59ea-0691-499b-e491-8d7fa5d7ed2a",
        "colab": {
          "base_uri": "https://localhost:8080/",
          "height": 34
        }
      },
      "execution_count": 66,
      "outputs": [
        {
          "output_type": "display_data",
          "data": {
            "text/html": [
              "<style>\n",
              ".list-inline {list-style: none; margin:0; padding: 0}\n",
              ".list-inline>li {display: inline-block}\n",
              ".list-inline>li:not(:last-child)::after {content: \"\\00b7\"; padding: 0 .5ex}\n",
              "</style>\n",
              "<ol class=list-inline><li>2</li><li>4</li></ol>\n"
            ],
            "text/markdown": "1. 2\n2. 4\n\n\n",
            "text/latex": "\\begin{enumerate*}\n\\item 2\n\\item 4\n\\end{enumerate*}\n",
            "text/plain": [
              "[1] 2 4"
            ]
          },
          "metadata": {}
        }
      ]
    },
    {
      "cell_type": "code",
      "metadata": {
        "id": "_8-SMxfWIgv0",
        "outputId": "95814f85-c0e3-4e40-8e3b-28758137d22b",
        "colab": {
          "base_uri": "https://localhost:8080/",
          "height": 34
        }
      },
      "source": [
        "# Operador %in%\n",
        "# vector_a %in% vector_b (qué elementos del vector a están en el vector b)\n",
        "# retorna un  vector de TRUE's y FALSE's del largo del primer vector(a) (izquierda) \n",
        "c(1,5,3,7) %in% c(5,9,1,10,40,1)"
      ],
      "execution_count": 67,
      "outputs": [
        {
          "output_type": "display_data",
          "data": {
            "text/html": [
              "<style>\n",
              ".list-inline {list-style: none; margin:0; padding: 0}\n",
              ".list-inline>li {display: inline-block}\n",
              ".list-inline>li:not(:last-child)::after {content: \"\\00b7\"; padding: 0 .5ex}\n",
              "</style>\n",
              "<ol class=list-inline><li>TRUE</li><li>TRUE</li><li>FALSE</li><li>FALSE</li></ol>\n"
            ],
            "text/markdown": "1. TRUE\n2. TRUE\n3. FALSE\n4. FALSE\n\n\n",
            "text/latex": "\\begin{enumerate*}\n\\item TRUE\n\\item TRUE\n\\item FALSE\n\\item FALSE\n\\end{enumerate*}\n",
            "text/plain": [
              "[1]  TRUE  TRUE FALSE FALSE"
            ]
          },
          "metadata": {}
        }
      ]
    },
    {
      "cell_type": "code",
      "metadata": {
        "id": "s9bYOQ4GIgv2",
        "outputId": "de1fed2c-5424-42df-ea07-28b2814c6989",
        "colab": {
          "base_uri": "https://localhost:8080/",
          "height": 52
        }
      },
      "source": [
        "# podemos utilizar la función all() para evaluar si todos los elementos de un vector son TRUE.\n",
        "all(c(T,T,F))\n",
        "all(c(T,T,T))"
      ],
      "execution_count": 69,
      "outputs": [
        {
          "output_type": "display_data",
          "data": {
            "text/html": [
              "FALSE"
            ],
            "text/markdown": "FALSE",
            "text/latex": "FALSE",
            "text/plain": [
              "[1] FALSE"
            ]
          },
          "metadata": {}
        },
        {
          "output_type": "display_data",
          "data": {
            "text/html": [
              "TRUE"
            ],
            "text/markdown": "TRUE",
            "text/latex": "TRUE",
            "text/plain": [
              "[1] TRUE"
            ]
          },
          "metadata": {}
        }
      ]
    },
    {
      "cell_type": "code",
      "source": [
        "sum(c(T,T,F)) == length(c(T,T,F))\n",
        "sum(c(T,T,T)) == length(c(T,T,T))"
      ],
      "metadata": {
        "id": "lCfwlHoY7yX0",
        "outputId": "74eac4e9-048c-4ab5-fcff-f9c219947b1f",
        "colab": {
          "base_uri": "https://localhost:8080/",
          "height": 52
        }
      },
      "execution_count": 71,
      "outputs": [
        {
          "output_type": "display_data",
          "data": {
            "text/html": [
              "FALSE"
            ],
            "text/markdown": "FALSE",
            "text/latex": "FALSE",
            "text/plain": [
              "[1] FALSE"
            ]
          },
          "metadata": {}
        },
        {
          "output_type": "display_data",
          "data": {
            "text/html": [
              "TRUE"
            ],
            "text/markdown": "TRUE",
            "text/latex": "TRUE",
            "text/plain": [
              "[1] TRUE"
            ]
          },
          "metadata": {}
        }
      ]
    },
    {
      "cell_type": "code",
      "metadata": {
        "id": "Wd-mSv3PIgv4",
        "outputId": "fb541e4f-7645-4e68-a22a-4d7ff3bf8181",
        "colab": {
          "base_uri": "https://localhost:8080/",
          "height": 34
        }
      },
      "source": [
        "# si quisiéramos evaluar que todos los elementos de la izq. estén en la derecha,\n",
        "# podemos utilizar la función all().\n",
        "all(c(1,5,3,7) %in% c(5,9,1,10,40,1,7,88888,9,3))"
      ],
      "execution_count": 73,
      "outputs": [
        {
          "output_type": "display_data",
          "data": {
            "text/html": [
              "TRUE"
            ],
            "text/markdown": "TRUE",
            "text/latex": "TRUE",
            "text/plain": [
              "[1] TRUE"
            ]
          },
          "metadata": {}
        }
      ]
    },
    {
      "cell_type": "code",
      "source": [
        "c(5,9,1,10,40,1,7,88888,9,3) %in% c(1,5,3,7)"
      ],
      "metadata": {
        "id": "l6ENkLKc8QpP",
        "outputId": "2bb85612-56db-4f71-ebb4-06b892e6e3c4",
        "colab": {
          "base_uri": "https://localhost:8080/",
          "height": 34
        }
      },
      "execution_count": 74,
      "outputs": [
        {
          "output_type": "display_data",
          "data": {
            "text/html": [
              "<style>\n",
              ".list-inline {list-style: none; margin:0; padding: 0}\n",
              ".list-inline>li {display: inline-block}\n",
              ".list-inline>li:not(:last-child)::after {content: \"\\00b7\"; padding: 0 .5ex}\n",
              "</style>\n",
              "<ol class=list-inline><li>TRUE</li><li>FALSE</li><li>TRUE</li><li>FALSE</li><li>FALSE</li><li>TRUE</li><li>TRUE</li><li>FALSE</li><li>FALSE</li><li>TRUE</li></ol>\n"
            ],
            "text/markdown": "1. TRUE\n2. FALSE\n3. TRUE\n4. FALSE\n5. FALSE\n6. TRUE\n7. TRUE\n8. FALSE\n9. FALSE\n10. TRUE\n\n\n",
            "text/latex": "\\begin{enumerate*}\n\\item TRUE\n\\item FALSE\n\\item TRUE\n\\item FALSE\n\\item FALSE\n\\item TRUE\n\\item TRUE\n\\item FALSE\n\\item FALSE\n\\item TRUE\n\\end{enumerate*}\n",
            "text/plain": [
              " [1]  TRUE FALSE  TRUE FALSE FALSE  TRUE  TRUE FALSE FALSE  TRUE"
            ]
          },
          "metadata": {}
        }
      ]
    },
    {
      "cell_type": "code",
      "metadata": {
        "id": "syufc9_OIgv_"
      },
      "source": [
        "#CUIDADO: Si se operan vectores de dstinto largo se reciclan los valores del vector más pequeño\n"
      ],
      "execution_count": null,
      "outputs": []
    },
    {
      "cell_type": "code",
      "metadata": {
        "id": "1YGnzt1zIgv7",
        "outputId": "162a35ce-449d-4123-f727-2075a26bc150",
        "colab": {
          "base_uri": "https://localhost:8080/",
          "height": 34
        }
      },
      "source": [
        "# aritmética con vectores\n",
        "# operación de vectores de igual largo\n",
        "c(1,1,2,3) + c(10,20,30,40)"
      ],
      "execution_count": 75,
      "outputs": [
        {
          "output_type": "display_data",
          "data": {
            "text/html": [
              "<style>\n",
              ".list-inline {list-style: none; margin:0; padding: 0}\n",
              ".list-inline>li {display: inline-block}\n",
              ".list-inline>li:not(:last-child)::after {content: \"\\00b7\"; padding: 0 .5ex}\n",
              "</style>\n",
              "<ol class=list-inline><li>11</li><li>21</li><li>32</li><li>43</li></ol>\n"
            ],
            "text/markdown": "1. 11\n2. 21\n3. 32\n4. 43\n\n\n",
            "text/latex": "\\begin{enumerate*}\n\\item 11\n\\item 21\n\\item 32\n\\item 43\n\\end{enumerate*}\n",
            "text/plain": [
              "[1] 11 21 32 43"
            ]
          },
          "metadata": {}
        }
      ]
    },
    {
      "cell_type": "code",
      "source": [
        "#NOTA:\n",
        "#Si no tienen el mismo largo\n",
        "c(1,2,3) + c(10,20)"
      ],
      "metadata": {
        "id": "kh7GJNlk8n-W",
        "outputId": "18ad58fd-2937-45b7-ecc3-141dbf268340",
        "colab": {
          "base_uri": "https://localhost:8080/",
          "height": 69
        }
      },
      "execution_count": 76,
      "outputs": [
        {
          "output_type": "stream",
          "name": "stderr",
          "text": [
            "Warning message in c(1, 2, 3) + c(10, 20):\n",
            "“longer object length is not a multiple of shorter object length”\n"
          ]
        },
        {
          "output_type": "display_data",
          "data": {
            "text/html": [
              "<style>\n",
              ".list-inline {list-style: none; margin:0; padding: 0}\n",
              ".list-inline>li {display: inline-block}\n",
              ".list-inline>li:not(:last-child)::after {content: \"\\00b7\"; padding: 0 .5ex}\n",
              "</style>\n",
              "<ol class=list-inline><li>11</li><li>22</li><li>13</li></ol>\n"
            ],
            "text/markdown": "1. 11\n2. 22\n3. 13\n\n\n",
            "text/latex": "\\begin{enumerate*}\n\\item 11\n\\item 22\n\\item 13\n\\end{enumerate*}\n",
            "text/plain": [
              "[1] 11 22 13"
            ]
          },
          "metadata": {}
        }
      ]
    },
    {
      "cell_type": "code",
      "source": [
        "c(1,2,3) + c(10,20,30,40,50,60)"
      ],
      "metadata": {
        "id": "WwBLsSHU87VX",
        "outputId": "35545712-b3b1-45e0-f69a-4923fa2820e4",
        "colab": {
          "base_uri": "https://localhost:8080/",
          "height": 34
        }
      },
      "execution_count": 77,
      "outputs": [
        {
          "output_type": "display_data",
          "data": {
            "text/html": [
              "<style>\n",
              ".list-inline {list-style: none; margin:0; padding: 0}\n",
              ".list-inline>li {display: inline-block}\n",
              ".list-inline>li:not(:last-child)::after {content: \"\\00b7\"; padding: 0 .5ex}\n",
              "</style>\n",
              "<ol class=list-inline><li>11</li><li>22</li><li>33</li><li>41</li><li>52</li><li>63</li></ol>\n"
            ],
            "text/markdown": "1. 11\n2. 22\n3. 33\n4. 41\n5. 52\n6. 63\n\n\n",
            "text/latex": "\\begin{enumerate*}\n\\item 11\n\\item 22\n\\item 33\n\\item 41\n\\item 52\n\\item 63\n\\end{enumerate*}\n",
            "text/plain": [
              "[1] 11 22 33 41 52 63"
            ]
          },
          "metadata": {}
        }
      ]
    },
    {
      "cell_type": "code",
      "metadata": {
        "id": "Bw8lX76XIgv8",
        "outputId": "060cd560-f027-478f-89ea-cc83728a7af3",
        "colab": {
          "base_uri": "https://localhost:8080/",
          "height": 34
        }
      },
      "source": [
        "#ponderaciones por escalares\n",
        "c(1,1,2,3)*9"
      ],
      "execution_count": 78,
      "outputs": [
        {
          "output_type": "display_data",
          "data": {
            "text/html": [
              "<style>\n",
              ".list-inline {list-style: none; margin:0; padding: 0}\n",
              ".list-inline>li {display: inline-block}\n",
              ".list-inline>li:not(:last-child)::after {content: \"\\00b7\"; padding: 0 .5ex}\n",
              "</style>\n",
              "<ol class=list-inline><li>9</li><li>9</li><li>18</li><li>27</li></ol>\n"
            ],
            "text/markdown": "1. 9\n2. 9\n3. 18\n4. 27\n\n\n",
            "text/latex": "\\begin{enumerate*}\n\\item 9\n\\item 9\n\\item 18\n\\item 27\n\\end{enumerate*}\n",
            "text/plain": [
              "[1]  9  9 18 27"
            ]
          },
          "metadata": {}
        }
      ]
    },
    {
      "cell_type": "code",
      "metadata": {
        "id": "9kfbx6J4IgwC",
        "outputId": "95a553ca-926d-4065-b3ab-d6e136eb36d9",
        "colab": {
          "base_uri": "https://localhost:8080/",
          "height": 34
        }
      },
      "source": [
        "# NOTA:\n",
        "# podemos determinar el largo de un vector mediante la función length()\n",
        "length(c(1,1,2,3))"
      ],
      "execution_count": 79,
      "outputs": [
        {
          "output_type": "display_data",
          "data": {
            "text/html": [
              "4"
            ],
            "text/markdown": "4",
            "text/latex": "4",
            "text/plain": [
              "[1] 4"
            ]
          },
          "metadata": {}
        }
      ]
    },
    {
      "cell_type": "markdown",
      "metadata": {
        "id": "LIr-IFowIgwD"
      },
      "source": [
        "**Secuencias**\n",
        "\n",
        "En R es posible generar de manera rápida y sencilla algunas secuencias numéricas y almacenarlas en un vector.\n",
        "\n",
        "Ejemplo de estas funciones son :\n",
        "\n",
        "    rep()\n",
        "    seq()\n",
        "    \n",
        "Más adelante veremos como generar números aleatorios siguiendo alguna función de distribución de interés.\n",
        "\n"
      ]
    },
    {
      "cell_type": "code",
      "metadata": {
        "id": "wk0fB_gWIgwE",
        "outputId": "e34f9131-2a70-4f56-eb9f-2207aae5da0e",
        "colab": {
          "base_uri": "https://localhost:8080/",
          "height": 52
        }
      },
      "source": [
        "# a vimos que fácilmente ppodemos generar vectores de enteros consecutivos vía \":\"\n",
        "10:89"
      ],
      "execution_count": 80,
      "outputs": [
        {
          "output_type": "display_data",
          "data": {
            "text/html": [
              "<style>\n",
              ".list-inline {list-style: none; margin:0; padding: 0}\n",
              ".list-inline>li {display: inline-block}\n",
              ".list-inline>li:not(:last-child)::after {content: \"\\00b7\"; padding: 0 .5ex}\n",
              "</style>\n",
              "<ol class=list-inline><li>10</li><li>11</li><li>12</li><li>13</li><li>14</li><li>15</li><li>16</li><li>17</li><li>18</li><li>19</li><li>20</li><li>21</li><li>22</li><li>23</li><li>24</li><li>25</li><li>26</li><li>27</li><li>28</li><li>29</li><li>30</li><li>31</li><li>32</li><li>33</li><li>34</li><li>35</li><li>36</li><li>37</li><li>38</li><li>39</li><li>40</li><li>41</li><li>42</li><li>43</li><li>44</li><li>45</li><li>46</li><li>47</li><li>48</li><li>49</li><li>50</li><li>51</li><li>52</li><li>53</li><li>54</li><li>55</li><li>56</li><li>57</li><li>58</li><li>59</li><li>60</li><li>61</li><li>62</li><li>63</li><li>64</li><li>65</li><li>66</li><li>67</li><li>68</li><li>69</li><li>70</li><li>71</li><li>72</li><li>73</li><li>74</li><li>75</li><li>76</li><li>77</li><li>78</li><li>79</li><li>80</li><li>81</li><li>82</li><li>83</li><li>84</li><li>85</li><li>86</li><li>87</li><li>88</li><li>89</li></ol>\n"
            ],
            "text/markdown": "1. 10\n2. 11\n3. 12\n4. 13\n5. 14\n6. 15\n7. 16\n8. 17\n9. 18\n10. 19\n11. 20\n12. 21\n13. 22\n14. 23\n15. 24\n16. 25\n17. 26\n18. 27\n19. 28\n20. 29\n21. 30\n22. 31\n23. 32\n24. 33\n25. 34\n26. 35\n27. 36\n28. 37\n29. 38\n30. 39\n31. 40\n32. 41\n33. 42\n34. 43\n35. 44\n36. 45\n37. 46\n38. 47\n39. 48\n40. 49\n41. 50\n42. 51\n43. 52\n44. 53\n45. 54\n46. 55\n47. 56\n48. 57\n49. 58\n50. 59\n51. 60\n52. 61\n53. 62\n54. 63\n55. 64\n56. 65\n57. 66\n58. 67\n59. 68\n60. 69\n61. 70\n62. 71\n63. 72\n64. 73\n65. 74\n66. 75\n67. 76\n68. 77\n69. 78\n70. 79\n71. 80\n72. 81\n73. 82\n74. 83\n75. 84\n76. 85\n77. 86\n78. 87\n79. 88\n80. 89\n\n\n",
            "text/latex": "\\begin{enumerate*}\n\\item 10\n\\item 11\n\\item 12\n\\item 13\n\\item 14\n\\item 15\n\\item 16\n\\item 17\n\\item 18\n\\item 19\n\\item 20\n\\item 21\n\\item 22\n\\item 23\n\\item 24\n\\item 25\n\\item 26\n\\item 27\n\\item 28\n\\item 29\n\\item 30\n\\item 31\n\\item 32\n\\item 33\n\\item 34\n\\item 35\n\\item 36\n\\item 37\n\\item 38\n\\item 39\n\\item 40\n\\item 41\n\\item 42\n\\item 43\n\\item 44\n\\item 45\n\\item 46\n\\item 47\n\\item 48\n\\item 49\n\\item 50\n\\item 51\n\\item 52\n\\item 53\n\\item 54\n\\item 55\n\\item 56\n\\item 57\n\\item 58\n\\item 59\n\\item 60\n\\item 61\n\\item 62\n\\item 63\n\\item 64\n\\item 65\n\\item 66\n\\item 67\n\\item 68\n\\item 69\n\\item 70\n\\item 71\n\\item 72\n\\item 73\n\\item 74\n\\item 75\n\\item 76\n\\item 77\n\\item 78\n\\item 79\n\\item 80\n\\item 81\n\\item 82\n\\item 83\n\\item 84\n\\item 85\n\\item 86\n\\item 87\n\\item 88\n\\item 89\n\\end{enumerate*}\n",
            "text/plain": [
              " [1] 10 11 12 13 14 15 16 17 18 19 20 21 22 23 24 25 26 27 28 29 30 31 32 33 34\n",
              "[26] 35 36 37 38 39 40 41 42 43 44 45 46 47 48 49 50 51 52 53 54 55 56 57 58 59\n",
              "[51] 60 61 62 63 64 65 66 67 68 69 70 71 72 73 74 75 76 77 78 79 80 81 82 83 84\n",
              "[76] 85 86 87 88 89"
            ]
          },
          "metadata": {}
        }
      ]
    },
    {
      "cell_type": "code",
      "metadata": {
        "id": "gGkgGylnIgwK",
        "outputId": "83c0c538-1db8-4903-9479-2f62839bbd4a",
        "colab": {
          "base_uri": "https://localhost:8080/",
          "height": 34
        }
      },
      "source": [
        "# ejemplo de función seq (utilice argumento by, y otro ejemplo con argumento length.out)\n",
        "seq(from = 10, to = 11, by = 0.1 )"
      ],
      "execution_count": 81,
      "outputs": [
        {
          "output_type": "display_data",
          "data": {
            "text/html": [
              "<style>\n",
              ".list-inline {list-style: none; margin:0; padding: 0}\n",
              ".list-inline>li {display: inline-block}\n",
              ".list-inline>li:not(:last-child)::after {content: \"\\00b7\"; padding: 0 .5ex}\n",
              "</style>\n",
              "<ol class=list-inline><li>10</li><li>10.1</li><li>10.2</li><li>10.3</li><li>10.4</li><li>10.5</li><li>10.6</li><li>10.7</li><li>10.8</li><li>10.9</li><li>11</li></ol>\n"
            ],
            "text/markdown": "1. 10\n2. 10.1\n3. 10.2\n4. 10.3\n5. 10.4\n6. 10.5\n7. 10.6\n8. 10.7\n9. 10.8\n10. 10.9\n11. 11\n\n\n",
            "text/latex": "\\begin{enumerate*}\n\\item 10\n\\item 10.1\n\\item 10.2\n\\item 10.3\n\\item 10.4\n\\item 10.5\n\\item 10.6\n\\item 10.7\n\\item 10.8\n\\item 10.9\n\\item 11\n\\end{enumerate*}\n",
            "text/plain": [
              " [1] 10.0 10.1 10.2 10.3 10.4 10.5 10.6 10.7 10.8 10.9 11.0"
            ]
          },
          "metadata": {}
        }
      ]
    },
    {
      "cell_type": "code",
      "source": [
        "seq(10, 11, 0.1)"
      ],
      "metadata": {
        "id": "_KJoxZJdBGbS",
        "outputId": "591ae81a-fef3-4f36-d643-e486dd73e3f4",
        "colab": {
          "base_uri": "https://localhost:8080/",
          "height": 34
        }
      },
      "execution_count": 83,
      "outputs": [
        {
          "output_type": "display_data",
          "data": {
            "text/html": [
              "<style>\n",
              ".list-inline {list-style: none; margin:0; padding: 0}\n",
              ".list-inline>li {display: inline-block}\n",
              ".list-inline>li:not(:last-child)::after {content: \"\\00b7\"; padding: 0 .5ex}\n",
              "</style>\n",
              "<ol class=list-inline><li>10</li><li>10.1</li><li>10.2</li><li>10.3</li><li>10.4</li><li>10.5</li><li>10.6</li><li>10.7</li><li>10.8</li><li>10.9</li><li>11</li></ol>\n"
            ],
            "text/markdown": "1. 10\n2. 10.1\n3. 10.2\n4. 10.3\n5. 10.4\n6. 10.5\n7. 10.6\n8. 10.7\n9. 10.8\n10. 10.9\n11. 11\n\n\n",
            "text/latex": "\\begin{enumerate*}\n\\item 10\n\\item 10.1\n\\item 10.2\n\\item 10.3\n\\item 10.4\n\\item 10.5\n\\item 10.6\n\\item 10.7\n\\item 10.8\n\\item 10.9\n\\item 11\n\\end{enumerate*}\n",
            "text/plain": [
              " [1] 10.0 10.1 10.2 10.3 10.4 10.5 10.6 10.7 10.8 10.9 11.0"
            ]
          },
          "metadata": {}
        }
      ]
    },
    {
      "cell_type": "code",
      "source": [
        "seq(11, 10, 0.1)"
      ],
      "metadata": {
        "id": "pcM3iCIJBQYp",
        "outputId": "5476ade4-70e9-494c-fc11-3915cda45e9d",
        "colab": {
          "base_uri": "https://localhost:8080/",
          "height": 165
        }
      },
      "execution_count": 84,
      "outputs": [
        {
          "output_type": "error",
          "ename": "ERROR",
          "evalue": "ignored",
          "traceback": [
            "Error in seq.default(11, 10, 0.1): wrong sign in 'by' argument\nTraceback:\n",
            "1. seq(11, 10, 0.1)",
            "2. seq.default(11, 10, 0.1)",
            "3. stop(\"wrong sign in 'by' argument\")"
          ]
        }
      ]
    },
    {
      "cell_type": "code",
      "source": [
        "seq(to = 11, from = 10, by = 0.1)"
      ],
      "metadata": {
        "id": "UJUnESfhBUC7",
        "outputId": "753936cc-644d-4bf5-ca18-7845f6fc1a8c",
        "colab": {
          "base_uri": "https://localhost:8080/",
          "height": 34
        }
      },
      "execution_count": 85,
      "outputs": [
        {
          "output_type": "display_data",
          "data": {
            "text/html": [
              "<style>\n",
              ".list-inline {list-style: none; margin:0; padding: 0}\n",
              ".list-inline>li {display: inline-block}\n",
              ".list-inline>li:not(:last-child)::after {content: \"\\00b7\"; padding: 0 .5ex}\n",
              "</style>\n",
              "<ol class=list-inline><li>10</li><li>10.1</li><li>10.2</li><li>10.3</li><li>10.4</li><li>10.5</li><li>10.6</li><li>10.7</li><li>10.8</li><li>10.9</li><li>11</li></ol>\n"
            ],
            "text/markdown": "1. 10\n2. 10.1\n3. 10.2\n4. 10.3\n5. 10.4\n6. 10.5\n7. 10.6\n8. 10.7\n9. 10.8\n10. 10.9\n11. 11\n\n\n",
            "text/latex": "\\begin{enumerate*}\n\\item 10\n\\item 10.1\n\\item 10.2\n\\item 10.3\n\\item 10.4\n\\item 10.5\n\\item 10.6\n\\item 10.7\n\\item 10.8\n\\item 10.9\n\\item 11\n\\end{enumerate*}\n",
            "text/plain": [
              " [1] 10.0 10.1 10.2 10.3 10.4 10.5 10.6 10.7 10.8 10.9 11.0"
            ]
          },
          "metadata": {}
        }
      ]
    },
    {
      "cell_type": "code",
      "source": [
        "seq(10,11,,100)# Se omite el parámetro \"by\""
      ],
      "metadata": {
        "id": "ViH0OINxBjhB",
        "outputId": "a4bb9fc5-713a-49d1-856f-aec7a3f544f0",
        "colab": {
          "base_uri": "https://localhost:8080/",
          "height": 191
        }
      },
      "execution_count": 88,
      "outputs": [
        {
          "output_type": "display_data",
          "data": {
            "text/html": [
              "<style>\n",
              ".list-inline {list-style: none; margin:0; padding: 0}\n",
              ".list-inline>li {display: inline-block}\n",
              ".list-inline>li:not(:last-child)::after {content: \"\\00b7\"; padding: 0 .5ex}\n",
              "</style>\n",
              "<ol class=list-inline><li>10</li><li>10.010101010101</li><li>10.020202020202</li><li>10.030303030303</li><li>10.040404040404</li><li>10.0505050505051</li><li>10.0606060606061</li><li>10.0707070707071</li><li>10.0808080808081</li><li>10.0909090909091</li><li>10.1010101010101</li><li>10.1111111111111</li><li>10.1212121212121</li><li>10.1313131313131</li><li>10.1414141414141</li><li>10.1515151515152</li><li>10.1616161616162</li><li>10.1717171717172</li><li>10.1818181818182</li><li>10.1919191919192</li><li>10.2020202020202</li><li>10.2121212121212</li><li>10.2222222222222</li><li>10.2323232323232</li><li>10.2424242424242</li><li>10.2525252525253</li><li>10.2626262626263</li><li>10.2727272727273</li><li>10.2828282828283</li><li>10.2929292929293</li><li>10.3030303030303</li><li>10.3131313131313</li><li>10.3232323232323</li><li>10.3333333333333</li><li>10.3434343434343</li><li>10.3535353535354</li><li>10.3636363636364</li><li>10.3737373737374</li><li>10.3838383838384</li><li>10.3939393939394</li><li>10.4040404040404</li><li>10.4141414141414</li><li>10.4242424242424</li><li>10.4343434343434</li><li>10.4444444444444</li><li>10.4545454545455</li><li>10.4646464646465</li><li>10.4747474747475</li><li>10.4848484848485</li><li>10.4949494949495</li><li>10.5050505050505</li><li>10.5151515151515</li><li>10.5252525252525</li><li>10.5353535353535</li><li>10.5454545454545</li><li>10.5555555555556</li><li>10.5656565656566</li><li>10.5757575757576</li><li>10.5858585858586</li><li>10.5959595959596</li><li>10.6060606060606</li><li>10.6161616161616</li><li>10.6262626262626</li><li>10.6363636363636</li><li>10.6464646464646</li><li>10.6565656565657</li><li>10.6666666666667</li><li>10.6767676767677</li><li>10.6868686868687</li><li>10.6969696969697</li><li>10.7070707070707</li><li>10.7171717171717</li><li>10.7272727272727</li><li>10.7373737373737</li><li>10.7474747474747</li><li>10.7575757575758</li><li>10.7676767676768</li><li>10.7777777777778</li><li>10.7878787878788</li><li>10.7979797979798</li><li>10.8080808080808</li><li>10.8181818181818</li><li>10.8282828282828</li><li>10.8383838383838</li><li>10.8484848484848</li><li>10.8585858585859</li><li>10.8686868686869</li><li>10.8787878787879</li><li>10.8888888888889</li><li>10.8989898989899</li><li>10.9090909090909</li><li>10.9191919191919</li><li>10.9292929292929</li><li>10.9393939393939</li><li>10.9494949494949</li><li>10.959595959596</li><li>10.969696969697</li><li>10.979797979798</li><li>10.989898989899</li><li>11</li></ol>\n"
            ],
            "text/markdown": "1. 10\n2. 10.010101010101\n3. 10.020202020202\n4. 10.030303030303\n5. 10.040404040404\n6. 10.0505050505051\n7. 10.0606060606061\n8. 10.0707070707071\n9. 10.0808080808081\n10. 10.0909090909091\n11. 10.1010101010101\n12. 10.1111111111111\n13. 10.1212121212121\n14. 10.1313131313131\n15. 10.1414141414141\n16. 10.1515151515152\n17. 10.1616161616162\n18. 10.1717171717172\n19. 10.1818181818182\n20. 10.1919191919192\n21. 10.2020202020202\n22. 10.2121212121212\n23. 10.2222222222222\n24. 10.2323232323232\n25. 10.2424242424242\n26. 10.2525252525253\n27. 10.2626262626263\n28. 10.2727272727273\n29. 10.2828282828283\n30. 10.2929292929293\n31. 10.3030303030303\n32. 10.3131313131313\n33. 10.3232323232323\n34. 10.3333333333333\n35. 10.3434343434343\n36. 10.3535353535354\n37. 10.3636363636364\n38. 10.3737373737374\n39. 10.3838383838384\n40. 10.3939393939394\n41. 10.4040404040404\n42. 10.4141414141414\n43. 10.4242424242424\n44. 10.4343434343434\n45. 10.4444444444444\n46. 10.4545454545455\n47. 10.4646464646465\n48. 10.4747474747475\n49. 10.4848484848485\n50. 10.4949494949495\n51. 10.5050505050505\n52. 10.5151515151515\n53. 10.5252525252525\n54. 10.5353535353535\n55. 10.5454545454545\n56. 10.5555555555556\n57. 10.5656565656566\n58. 10.5757575757576\n59. 10.5858585858586\n60. 10.5959595959596\n61. 10.6060606060606\n62. 10.6161616161616\n63. 10.6262626262626\n64. 10.6363636363636\n65. 10.6464646464646\n66. 10.6565656565657\n67. 10.6666666666667\n68. 10.6767676767677\n69. 10.6868686868687\n70. 10.6969696969697\n71. 10.7070707070707\n72. 10.7171717171717\n73. 10.7272727272727\n74. 10.7373737373737\n75. 10.7474747474747\n76. 10.7575757575758\n77. 10.7676767676768\n78. 10.7777777777778\n79. 10.7878787878788\n80. 10.7979797979798\n81. 10.8080808080808\n82. 10.8181818181818\n83. 10.8282828282828\n84. 10.8383838383838\n85. 10.8484848484848\n86. 10.8585858585859\n87. 10.8686868686869\n88. 10.8787878787879\n89. 10.8888888888889\n90. 10.8989898989899\n91. 10.9090909090909\n92. 10.9191919191919\n93. 10.9292929292929\n94. 10.9393939393939\n95. 10.9494949494949\n96. 10.959595959596\n97. 10.969696969697\n98. 10.979797979798\n99. 10.989898989899\n100. 11\n\n\n",
            "text/latex": "\\begin{enumerate*}\n\\item 10\n\\item 10.010101010101\n\\item 10.020202020202\n\\item 10.030303030303\n\\item 10.040404040404\n\\item 10.0505050505051\n\\item 10.0606060606061\n\\item 10.0707070707071\n\\item 10.0808080808081\n\\item 10.0909090909091\n\\item 10.1010101010101\n\\item 10.1111111111111\n\\item 10.1212121212121\n\\item 10.1313131313131\n\\item 10.1414141414141\n\\item 10.1515151515152\n\\item 10.1616161616162\n\\item 10.1717171717172\n\\item 10.1818181818182\n\\item 10.1919191919192\n\\item 10.2020202020202\n\\item 10.2121212121212\n\\item 10.2222222222222\n\\item 10.2323232323232\n\\item 10.2424242424242\n\\item 10.2525252525253\n\\item 10.2626262626263\n\\item 10.2727272727273\n\\item 10.2828282828283\n\\item 10.2929292929293\n\\item 10.3030303030303\n\\item 10.3131313131313\n\\item 10.3232323232323\n\\item 10.3333333333333\n\\item 10.3434343434343\n\\item 10.3535353535354\n\\item 10.3636363636364\n\\item 10.3737373737374\n\\item 10.3838383838384\n\\item 10.3939393939394\n\\item 10.4040404040404\n\\item 10.4141414141414\n\\item 10.4242424242424\n\\item 10.4343434343434\n\\item 10.4444444444444\n\\item 10.4545454545455\n\\item 10.4646464646465\n\\item 10.4747474747475\n\\item 10.4848484848485\n\\item 10.4949494949495\n\\item 10.5050505050505\n\\item 10.5151515151515\n\\item 10.5252525252525\n\\item 10.5353535353535\n\\item 10.5454545454545\n\\item 10.5555555555556\n\\item 10.5656565656566\n\\item 10.5757575757576\n\\item 10.5858585858586\n\\item 10.5959595959596\n\\item 10.6060606060606\n\\item 10.6161616161616\n\\item 10.6262626262626\n\\item 10.6363636363636\n\\item 10.6464646464646\n\\item 10.6565656565657\n\\item 10.6666666666667\n\\item 10.6767676767677\n\\item 10.6868686868687\n\\item 10.6969696969697\n\\item 10.7070707070707\n\\item 10.7171717171717\n\\item 10.7272727272727\n\\item 10.7373737373737\n\\item 10.7474747474747\n\\item 10.7575757575758\n\\item 10.7676767676768\n\\item 10.7777777777778\n\\item 10.7878787878788\n\\item 10.7979797979798\n\\item 10.8080808080808\n\\item 10.8181818181818\n\\item 10.8282828282828\n\\item 10.8383838383838\n\\item 10.8484848484848\n\\item 10.8585858585859\n\\item 10.8686868686869\n\\item 10.8787878787879\n\\item 10.8888888888889\n\\item 10.8989898989899\n\\item 10.9090909090909\n\\item 10.9191919191919\n\\item 10.9292929292929\n\\item 10.9393939393939\n\\item 10.9494949494949\n\\item 10.959595959596\n\\item 10.969696969697\n\\item 10.979797979798\n\\item 10.989898989899\n\\item 11\n\\end{enumerate*}\n",
            "text/plain": [
              "  [1] 10.00000 10.01010 10.02020 10.03030 10.04040 10.05051 10.06061 10.07071\n",
              "  [9] 10.08081 10.09091 10.10101 10.11111 10.12121 10.13131 10.14141 10.15152\n",
              " [17] 10.16162 10.17172 10.18182 10.19192 10.20202 10.21212 10.22222 10.23232\n",
              " [25] 10.24242 10.25253 10.26263 10.27273 10.28283 10.29293 10.30303 10.31313\n",
              " [33] 10.32323 10.33333 10.34343 10.35354 10.36364 10.37374 10.38384 10.39394\n",
              " [41] 10.40404 10.41414 10.42424 10.43434 10.44444 10.45455 10.46465 10.47475\n",
              " [49] 10.48485 10.49495 10.50505 10.51515 10.52525 10.53535 10.54545 10.55556\n",
              " [57] 10.56566 10.57576 10.58586 10.59596 10.60606 10.61616 10.62626 10.63636\n",
              " [65] 10.64646 10.65657 10.66667 10.67677 10.68687 10.69697 10.70707 10.71717\n",
              " [73] 10.72727 10.73737 10.74747 10.75758 10.76768 10.77778 10.78788 10.79798\n",
              " [81] 10.80808 10.81818 10.82828 10.83838 10.84848 10.85859 10.86869 10.87879\n",
              " [89] 10.88889 10.89899 10.90909 10.91919 10.92929 10.93939 10.94949 10.95960\n",
              " [97] 10.96970 10.97980 10.98990 11.00000"
            ]
          },
          "metadata": {}
        }
      ]
    },
    {
      "cell_type": "code",
      "metadata": {
        "id": "PpEgoWDXIgwI",
        "outputId": "d6ec78da-100b-4289-f57a-4b2d40482c85",
        "colab": {
          "base_uri": "https://localhost:8080/",
          "height": 191
        }
      },
      "source": [
        "# podemos controlar el largo del vector resultante con el parámetro length.out\n",
        "seq(from = 10, to = 11, length.out = 100 )"
      ],
      "execution_count": 82,
      "outputs": [
        {
          "output_type": "display_data",
          "data": {
            "text/html": [
              "<style>\n",
              ".list-inline {list-style: none; margin:0; padding: 0}\n",
              ".list-inline>li {display: inline-block}\n",
              ".list-inline>li:not(:last-child)::after {content: \"\\00b7\"; padding: 0 .5ex}\n",
              "</style>\n",
              "<ol class=list-inline><li>10</li><li>10.010101010101</li><li>10.020202020202</li><li>10.030303030303</li><li>10.040404040404</li><li>10.0505050505051</li><li>10.0606060606061</li><li>10.0707070707071</li><li>10.0808080808081</li><li>10.0909090909091</li><li>10.1010101010101</li><li>10.1111111111111</li><li>10.1212121212121</li><li>10.1313131313131</li><li>10.1414141414141</li><li>10.1515151515152</li><li>10.1616161616162</li><li>10.1717171717172</li><li>10.1818181818182</li><li>10.1919191919192</li><li>10.2020202020202</li><li>10.2121212121212</li><li>10.2222222222222</li><li>10.2323232323232</li><li>10.2424242424242</li><li>10.2525252525253</li><li>10.2626262626263</li><li>10.2727272727273</li><li>10.2828282828283</li><li>10.2929292929293</li><li>10.3030303030303</li><li>10.3131313131313</li><li>10.3232323232323</li><li>10.3333333333333</li><li>10.3434343434343</li><li>10.3535353535354</li><li>10.3636363636364</li><li>10.3737373737374</li><li>10.3838383838384</li><li>10.3939393939394</li><li>10.4040404040404</li><li>10.4141414141414</li><li>10.4242424242424</li><li>10.4343434343434</li><li>10.4444444444444</li><li>10.4545454545455</li><li>10.4646464646465</li><li>10.4747474747475</li><li>10.4848484848485</li><li>10.4949494949495</li><li>10.5050505050505</li><li>10.5151515151515</li><li>10.5252525252525</li><li>10.5353535353535</li><li>10.5454545454545</li><li>10.5555555555556</li><li>10.5656565656566</li><li>10.5757575757576</li><li>10.5858585858586</li><li>10.5959595959596</li><li>10.6060606060606</li><li>10.6161616161616</li><li>10.6262626262626</li><li>10.6363636363636</li><li>10.6464646464646</li><li>10.6565656565657</li><li>10.6666666666667</li><li>10.6767676767677</li><li>10.6868686868687</li><li>10.6969696969697</li><li>10.7070707070707</li><li>10.7171717171717</li><li>10.7272727272727</li><li>10.7373737373737</li><li>10.7474747474747</li><li>10.7575757575758</li><li>10.7676767676768</li><li>10.7777777777778</li><li>10.7878787878788</li><li>10.7979797979798</li><li>10.8080808080808</li><li>10.8181818181818</li><li>10.8282828282828</li><li>10.8383838383838</li><li>10.8484848484848</li><li>10.8585858585859</li><li>10.8686868686869</li><li>10.8787878787879</li><li>10.8888888888889</li><li>10.8989898989899</li><li>10.9090909090909</li><li>10.9191919191919</li><li>10.9292929292929</li><li>10.9393939393939</li><li>10.9494949494949</li><li>10.959595959596</li><li>10.969696969697</li><li>10.979797979798</li><li>10.989898989899</li><li>11</li></ol>\n"
            ],
            "text/markdown": "1. 10\n2. 10.010101010101\n3. 10.020202020202\n4. 10.030303030303\n5. 10.040404040404\n6. 10.0505050505051\n7. 10.0606060606061\n8. 10.0707070707071\n9. 10.0808080808081\n10. 10.0909090909091\n11. 10.1010101010101\n12. 10.1111111111111\n13. 10.1212121212121\n14. 10.1313131313131\n15. 10.1414141414141\n16. 10.1515151515152\n17. 10.1616161616162\n18. 10.1717171717172\n19. 10.1818181818182\n20. 10.1919191919192\n21. 10.2020202020202\n22. 10.2121212121212\n23. 10.2222222222222\n24. 10.2323232323232\n25. 10.2424242424242\n26. 10.2525252525253\n27. 10.2626262626263\n28. 10.2727272727273\n29. 10.2828282828283\n30. 10.2929292929293\n31. 10.3030303030303\n32. 10.3131313131313\n33. 10.3232323232323\n34. 10.3333333333333\n35. 10.3434343434343\n36. 10.3535353535354\n37. 10.3636363636364\n38. 10.3737373737374\n39. 10.3838383838384\n40. 10.3939393939394\n41. 10.4040404040404\n42. 10.4141414141414\n43. 10.4242424242424\n44. 10.4343434343434\n45. 10.4444444444444\n46. 10.4545454545455\n47. 10.4646464646465\n48. 10.4747474747475\n49. 10.4848484848485\n50. 10.4949494949495\n51. 10.5050505050505\n52. 10.5151515151515\n53. 10.5252525252525\n54. 10.5353535353535\n55. 10.5454545454545\n56. 10.5555555555556\n57. 10.5656565656566\n58. 10.5757575757576\n59. 10.5858585858586\n60. 10.5959595959596\n61. 10.6060606060606\n62. 10.6161616161616\n63. 10.6262626262626\n64. 10.6363636363636\n65. 10.6464646464646\n66. 10.6565656565657\n67. 10.6666666666667\n68. 10.6767676767677\n69. 10.6868686868687\n70. 10.6969696969697\n71. 10.7070707070707\n72. 10.7171717171717\n73. 10.7272727272727\n74. 10.7373737373737\n75. 10.7474747474747\n76. 10.7575757575758\n77. 10.7676767676768\n78. 10.7777777777778\n79. 10.7878787878788\n80. 10.7979797979798\n81. 10.8080808080808\n82. 10.8181818181818\n83. 10.8282828282828\n84. 10.8383838383838\n85. 10.8484848484848\n86. 10.8585858585859\n87. 10.8686868686869\n88. 10.8787878787879\n89. 10.8888888888889\n90. 10.8989898989899\n91. 10.9090909090909\n92. 10.9191919191919\n93. 10.9292929292929\n94. 10.9393939393939\n95. 10.9494949494949\n96. 10.959595959596\n97. 10.969696969697\n98. 10.979797979798\n99. 10.989898989899\n100. 11\n\n\n",
            "text/latex": "\\begin{enumerate*}\n\\item 10\n\\item 10.010101010101\n\\item 10.020202020202\n\\item 10.030303030303\n\\item 10.040404040404\n\\item 10.0505050505051\n\\item 10.0606060606061\n\\item 10.0707070707071\n\\item 10.0808080808081\n\\item 10.0909090909091\n\\item 10.1010101010101\n\\item 10.1111111111111\n\\item 10.1212121212121\n\\item 10.1313131313131\n\\item 10.1414141414141\n\\item 10.1515151515152\n\\item 10.1616161616162\n\\item 10.1717171717172\n\\item 10.1818181818182\n\\item 10.1919191919192\n\\item 10.2020202020202\n\\item 10.2121212121212\n\\item 10.2222222222222\n\\item 10.2323232323232\n\\item 10.2424242424242\n\\item 10.2525252525253\n\\item 10.2626262626263\n\\item 10.2727272727273\n\\item 10.2828282828283\n\\item 10.2929292929293\n\\item 10.3030303030303\n\\item 10.3131313131313\n\\item 10.3232323232323\n\\item 10.3333333333333\n\\item 10.3434343434343\n\\item 10.3535353535354\n\\item 10.3636363636364\n\\item 10.3737373737374\n\\item 10.3838383838384\n\\item 10.3939393939394\n\\item 10.4040404040404\n\\item 10.4141414141414\n\\item 10.4242424242424\n\\item 10.4343434343434\n\\item 10.4444444444444\n\\item 10.4545454545455\n\\item 10.4646464646465\n\\item 10.4747474747475\n\\item 10.4848484848485\n\\item 10.4949494949495\n\\item 10.5050505050505\n\\item 10.5151515151515\n\\item 10.5252525252525\n\\item 10.5353535353535\n\\item 10.5454545454545\n\\item 10.5555555555556\n\\item 10.5656565656566\n\\item 10.5757575757576\n\\item 10.5858585858586\n\\item 10.5959595959596\n\\item 10.6060606060606\n\\item 10.6161616161616\n\\item 10.6262626262626\n\\item 10.6363636363636\n\\item 10.6464646464646\n\\item 10.6565656565657\n\\item 10.6666666666667\n\\item 10.6767676767677\n\\item 10.6868686868687\n\\item 10.6969696969697\n\\item 10.7070707070707\n\\item 10.7171717171717\n\\item 10.7272727272727\n\\item 10.7373737373737\n\\item 10.7474747474747\n\\item 10.7575757575758\n\\item 10.7676767676768\n\\item 10.7777777777778\n\\item 10.7878787878788\n\\item 10.7979797979798\n\\item 10.8080808080808\n\\item 10.8181818181818\n\\item 10.8282828282828\n\\item 10.8383838383838\n\\item 10.8484848484848\n\\item 10.8585858585859\n\\item 10.8686868686869\n\\item 10.8787878787879\n\\item 10.8888888888889\n\\item 10.8989898989899\n\\item 10.9090909090909\n\\item 10.9191919191919\n\\item 10.9292929292929\n\\item 10.9393939393939\n\\item 10.9494949494949\n\\item 10.959595959596\n\\item 10.969696969697\n\\item 10.979797979798\n\\item 10.989898989899\n\\item 11\n\\end{enumerate*}\n",
            "text/plain": [
              "  [1] 10.00000 10.01010 10.02020 10.03030 10.04040 10.05051 10.06061 10.07071\n",
              "  [9] 10.08081 10.09091 10.10101 10.11111 10.12121 10.13131 10.14141 10.15152\n",
              " [17] 10.16162 10.17172 10.18182 10.19192 10.20202 10.21212 10.22222 10.23232\n",
              " [25] 10.24242 10.25253 10.26263 10.27273 10.28283 10.29293 10.30303 10.31313\n",
              " [33] 10.32323 10.33333 10.34343 10.35354 10.36364 10.37374 10.38384 10.39394\n",
              " [41] 10.40404 10.41414 10.42424 10.43434 10.44444 10.45455 10.46465 10.47475\n",
              " [49] 10.48485 10.49495 10.50505 10.51515 10.52525 10.53535 10.54545 10.55556\n",
              " [57] 10.56566 10.57576 10.58586 10.59596 10.60606 10.61616 10.62626 10.63636\n",
              " [65] 10.64646 10.65657 10.66667 10.67677 10.68687 10.69697 10.70707 10.71717\n",
              " [73] 10.72727 10.73737 10.74747 10.75758 10.76768 10.77778 10.78788 10.79798\n",
              " [81] 10.80808 10.81818 10.82828 10.83838 10.84848 10.85859 10.86869 10.87879\n",
              " [89] 10.88889 10.89899 10.90909 10.91919 10.92929 10.93939 10.94949 10.95960\n",
              " [97] 10.96970 10.97980 10.98990 11.00000"
            ]
          },
          "metadata": {}
        }
      ]
    },
    {
      "cell_type": "code",
      "metadata": {
        "id": "rG-Q3PmhIgwG",
        "outputId": "5e59e420-6245-49f6-f091-2f2b0f26a4cf",
        "colab": {
          "base_uri": "https://localhost:8080/",
          "height": 34
        }
      },
      "source": [
        "# Ejemplo de secuencia con rep (utilice distintos tipos de datos)\n",
        "rep(x = \"a\",times = 10)"
      ],
      "execution_count": 90,
      "outputs": [
        {
          "output_type": "display_data",
          "data": {
            "text/html": [
              "<style>\n",
              ".list-inline {list-style: none; margin:0; padding: 0}\n",
              ".list-inline>li {display: inline-block}\n",
              ".list-inline>li:not(:last-child)::after {content: \"\\00b7\"; padding: 0 .5ex}\n",
              "</style>\n",
              "<ol class=list-inline><li>'a'</li><li>'a'</li><li>'a'</li><li>'a'</li><li>'a'</li><li>'a'</li><li>'a'</li><li>'a'</li><li>'a'</li><li>'a'</li></ol>\n"
            ],
            "text/markdown": "1. 'a'\n2. 'a'\n3. 'a'\n4. 'a'\n5. 'a'\n6. 'a'\n7. 'a'\n8. 'a'\n9. 'a'\n10. 'a'\n\n\n",
            "text/latex": "\\begin{enumerate*}\n\\item 'a'\n\\item 'a'\n\\item 'a'\n\\item 'a'\n\\item 'a'\n\\item 'a'\n\\item 'a'\n\\item 'a'\n\\item 'a'\n\\item 'a'\n\\end{enumerate*}\n",
            "text/plain": [
              " [1] \"a\" \"a\" \"a\" \"a\" \"a\" \"a\" \"a\" \"a\" \"a\" \"a\""
            ]
          },
          "metadata": {}
        }
      ]
    },
    {
      "cell_type": "code",
      "source": [
        "#es lo mismo que \n",
        "rep(\"a\",10)"
      ],
      "metadata": {
        "id": "Z9UFr_-PCd8Y",
        "outputId": "05b0fb33-8869-4a8b-c7ff-91821fbf00a4",
        "colab": {
          "base_uri": "https://localhost:8080/",
          "height": 34
        }
      },
      "execution_count": 91,
      "outputs": [
        {
          "output_type": "display_data",
          "data": {
            "text/html": [
              "<style>\n",
              ".list-inline {list-style: none; margin:0; padding: 0}\n",
              ".list-inline>li {display: inline-block}\n",
              ".list-inline>li:not(:last-child)::after {content: \"\\00b7\"; padding: 0 .5ex}\n",
              "</style>\n",
              "<ol class=list-inline><li>'a'</li><li>'a'</li><li>'a'</li><li>'a'</li><li>'a'</li><li>'a'</li><li>'a'</li><li>'a'</li><li>'a'</li><li>'a'</li></ol>\n"
            ],
            "text/markdown": "1. 'a'\n2. 'a'\n3. 'a'\n4. 'a'\n5. 'a'\n6. 'a'\n7. 'a'\n8. 'a'\n9. 'a'\n10. 'a'\n\n\n",
            "text/latex": "\\begin{enumerate*}\n\\item 'a'\n\\item 'a'\n\\item 'a'\n\\item 'a'\n\\item 'a'\n\\item 'a'\n\\item 'a'\n\\item 'a'\n\\item 'a'\n\\item 'a'\n\\end{enumerate*}\n",
            "text/plain": [
              " [1] \"a\" \"a\" \"a\" \"a\" \"a\" \"a\" \"a\" \"a\" \"a\" \"a\""
            ]
          },
          "metadata": {}
        }
      ]
    },
    {
      "cell_type": "code",
      "source": [
        "rep(c(2,3,4), 5)"
      ],
      "metadata": {
        "id": "Brjl9fnmCkIT",
        "outputId": "db7bc70b-1621-41fb-d631-06359eabe737",
        "colab": {
          "base_uri": "https://localhost:8080/",
          "height": 34
        }
      },
      "execution_count": 92,
      "outputs": [
        {
          "output_type": "display_data",
          "data": {
            "text/html": [
              "<style>\n",
              ".list-inline {list-style: none; margin:0; padding: 0}\n",
              ".list-inline>li {display: inline-block}\n",
              ".list-inline>li:not(:last-child)::after {content: \"\\00b7\"; padding: 0 .5ex}\n",
              "</style>\n",
              "<ol class=list-inline><li>2</li><li>3</li><li>4</li><li>2</li><li>3</li><li>4</li><li>2</li><li>3</li><li>4</li><li>2</li><li>3</li><li>4</li><li>2</li><li>3</li><li>4</li></ol>\n"
            ],
            "text/markdown": "1. 2\n2. 3\n3. 4\n4. 2\n5. 3\n6. 4\n7. 2\n8. 3\n9. 4\n10. 2\n11. 3\n12. 4\n13. 2\n14. 3\n15. 4\n\n\n",
            "text/latex": "\\begin{enumerate*}\n\\item 2\n\\item 3\n\\item 4\n\\item 2\n\\item 3\n\\item 4\n\\item 2\n\\item 3\n\\item 4\n\\item 2\n\\item 3\n\\item 4\n\\item 2\n\\item 3\n\\item 4\n\\end{enumerate*}\n",
            "text/plain": [
              " [1] 2 3 4 2 3 4 2 3 4 2 3 4 2 3 4"
            ]
          },
          "metadata": {}
        }
      ]
    },
    {
      "cell_type": "code",
      "source": [
        "rep(c(2,3,4), length.out = 10)# Retorna un vector de largo 10"
      ],
      "metadata": {
        "id": "Y4sT9lP7CqfK",
        "outputId": "8baf5455-ef1c-462d-db51-ad0b5998f1aa",
        "colab": {
          "base_uri": "https://localhost:8080/",
          "height": 34
        }
      },
      "execution_count": 93,
      "outputs": [
        {
          "output_type": "display_data",
          "data": {
            "text/html": [
              "<style>\n",
              ".list-inline {list-style: none; margin:0; padding: 0}\n",
              ".list-inline>li {display: inline-block}\n",
              ".list-inline>li:not(:last-child)::after {content: \"\\00b7\"; padding: 0 .5ex}\n",
              "</style>\n",
              "<ol class=list-inline><li>2</li><li>3</li><li>4</li><li>2</li><li>3</li><li>4</li><li>2</li><li>3</li><li>4</li><li>2</li></ol>\n"
            ],
            "text/markdown": "1. 2\n2. 3\n3. 4\n4. 2\n5. 3\n6. 4\n7. 2\n8. 3\n9. 4\n10. 2\n\n\n",
            "text/latex": "\\begin{enumerate*}\n\\item 2\n\\item 3\n\\item 4\n\\item 2\n\\item 3\n\\item 4\n\\item 2\n\\item 3\n\\item 4\n\\item 2\n\\end{enumerate*}\n",
            "text/plain": [
              " [1] 2 3 4 2 3 4 2 3 4 2"
            ]
          },
          "metadata": {}
        }
      ]
    },
    {
      "cell_type": "code",
      "source": [
        "rep(c(2,3,4),10, each = 2)# Repite cada elemento 2 veces en 10 ocasiones "
      ],
      "metadata": {
        "id": "ZK-VOFBACyBJ",
        "outputId": "b72001e0-336e-4e07-b389-3368295f92a2",
        "colab": {
          "base_uri": "https://localhost:8080/",
          "height": 34
        }
      },
      "execution_count": 94,
      "outputs": [
        {
          "output_type": "display_data",
          "data": {
            "text/html": [
              "<style>\n",
              ".list-inline {list-style: none; margin:0; padding: 0}\n",
              ".list-inline>li {display: inline-block}\n",
              ".list-inline>li:not(:last-child)::after {content: \"\\00b7\"; padding: 0 .5ex}\n",
              "</style>\n",
              "<ol class=list-inline><li>2</li><li>2</li><li>3</li><li>3</li><li>4</li><li>4</li><li>2</li><li>2</li><li>3</li><li>3</li><li>4</li><li>4</li><li>2</li><li>2</li><li>3</li><li>3</li><li>4</li><li>4</li><li>2</li><li>2</li><li>3</li><li>3</li><li>4</li><li>4</li><li>2</li><li>2</li><li>3</li><li>3</li><li>4</li><li>4</li><li>2</li><li>2</li><li>3</li><li>3</li><li>4</li><li>4</li><li>2</li><li>2</li><li>3</li><li>3</li><li>4</li><li>4</li><li>2</li><li>2</li><li>3</li><li>3</li><li>4</li><li>4</li><li>2</li><li>2</li><li>3</li><li>3</li><li>4</li><li>4</li><li>2</li><li>2</li><li>3</li><li>3</li><li>4</li><li>4</li></ol>\n"
            ],
            "text/markdown": "1. 2\n2. 2\n3. 3\n4. 3\n5. 4\n6. 4\n7. 2\n8. 2\n9. 3\n10. 3\n11. 4\n12. 4\n13. 2\n14. 2\n15. 3\n16. 3\n17. 4\n18. 4\n19. 2\n20. 2\n21. 3\n22. 3\n23. 4\n24. 4\n25. 2\n26. 2\n27. 3\n28. 3\n29. 4\n30. 4\n31. 2\n32. 2\n33. 3\n34. 3\n35. 4\n36. 4\n37. 2\n38. 2\n39. 3\n40. 3\n41. 4\n42. 4\n43. 2\n44. 2\n45. 3\n46. 3\n47. 4\n48. 4\n49. 2\n50. 2\n51. 3\n52. 3\n53. 4\n54. 4\n55. 2\n56. 2\n57. 3\n58. 3\n59. 4\n60. 4\n\n\n",
            "text/latex": "\\begin{enumerate*}\n\\item 2\n\\item 2\n\\item 3\n\\item 3\n\\item 4\n\\item 4\n\\item 2\n\\item 2\n\\item 3\n\\item 3\n\\item 4\n\\item 4\n\\item 2\n\\item 2\n\\item 3\n\\item 3\n\\item 4\n\\item 4\n\\item 2\n\\item 2\n\\item 3\n\\item 3\n\\item 4\n\\item 4\n\\item 2\n\\item 2\n\\item 3\n\\item 3\n\\item 4\n\\item 4\n\\item 2\n\\item 2\n\\item 3\n\\item 3\n\\item 4\n\\item 4\n\\item 2\n\\item 2\n\\item 3\n\\item 3\n\\item 4\n\\item 4\n\\item 2\n\\item 2\n\\item 3\n\\item 3\n\\item 4\n\\item 4\n\\item 2\n\\item 2\n\\item 3\n\\item 3\n\\item 4\n\\item 4\n\\item 2\n\\item 2\n\\item 3\n\\item 3\n\\item 4\n\\item 4\n\\end{enumerate*}\n",
            "text/plain": [
              " [1] 2 2 3 3 4 4 2 2 3 3 4 4 2 2 3 3 4 4 2 2 3 3 4 4 2 2 3 3 4 4 2 2 3 3 4 4 2 2\n",
              "[39] 3 3 4 4 2 2 3 3 4 4 2 2 3 3 4 4 2 2 3 3 4 4"
            ]
          },
          "metadata": {}
        }
      ]
    },
    {
      "cell_type": "code",
      "source": [
        "length(rep(c(2,3,4),10, each = 2))"
      ],
      "metadata": {
        "id": "OmgAgtKfDnNS",
        "outputId": "378f9cf7-833d-46b5-e2db-a9d7345ba45b",
        "colab": {
          "base_uri": "https://localhost:8080/",
          "height": 34
        }
      },
      "execution_count": 97,
      "outputs": [
        {
          "output_type": "display_data",
          "data": {
            "text/html": [
              "60"
            ],
            "text/markdown": "60",
            "text/latex": "60",
            "text/plain": [
              "[1] 60"
            ]
          },
          "metadata": {}
        }
      ]
    },
    {
      "cell_type": "code",
      "source": [
        "rep(c(2,3,4),2, each = 10)"
      ],
      "metadata": {
        "id": "xATEfANbDav5",
        "outputId": "98c17e10-cf80-41d9-8c60-ba1dd7f1edae",
        "colab": {
          "base_uri": "https://localhost:8080/",
          "height": 34
        }
      },
      "execution_count": 96,
      "outputs": [
        {
          "output_type": "display_data",
          "data": {
            "text/html": [
              "<style>\n",
              ".list-inline {list-style: none; margin:0; padding: 0}\n",
              ".list-inline>li {display: inline-block}\n",
              ".list-inline>li:not(:last-child)::after {content: \"\\00b7\"; padding: 0 .5ex}\n",
              "</style>\n",
              "<ol class=list-inline><li>2</li><li>2</li><li>2</li><li>2</li><li>2</li><li>2</li><li>2</li><li>2</li><li>2</li><li>2</li><li>3</li><li>3</li><li>3</li><li>3</li><li>3</li><li>3</li><li>3</li><li>3</li><li>3</li><li>3</li><li>4</li><li>4</li><li>4</li><li>4</li><li>4</li><li>4</li><li>4</li><li>4</li><li>4</li><li>4</li><li>2</li><li>2</li><li>2</li><li>2</li><li>2</li><li>2</li><li>2</li><li>2</li><li>2</li><li>2</li><li>3</li><li>3</li><li>3</li><li>3</li><li>3</li><li>3</li><li>3</li><li>3</li><li>3</li><li>3</li><li>4</li><li>4</li><li>4</li><li>4</li><li>4</li><li>4</li><li>4</li><li>4</li><li>4</li><li>4</li></ol>\n"
            ],
            "text/markdown": "1. 2\n2. 2\n3. 2\n4. 2\n5. 2\n6. 2\n7. 2\n8. 2\n9. 2\n10. 2\n11. 3\n12. 3\n13. 3\n14. 3\n15. 3\n16. 3\n17. 3\n18. 3\n19. 3\n20. 3\n21. 4\n22. 4\n23. 4\n24. 4\n25. 4\n26. 4\n27. 4\n28. 4\n29. 4\n30. 4\n31. 2\n32. 2\n33. 2\n34. 2\n35. 2\n36. 2\n37. 2\n38. 2\n39. 2\n40. 2\n41. 3\n42. 3\n43. 3\n44. 3\n45. 3\n46. 3\n47. 3\n48. 3\n49. 3\n50. 3\n51. 4\n52. 4\n53. 4\n54. 4\n55. 4\n56. 4\n57. 4\n58. 4\n59. 4\n60. 4\n\n\n",
            "text/latex": "\\begin{enumerate*}\n\\item 2\n\\item 2\n\\item 2\n\\item 2\n\\item 2\n\\item 2\n\\item 2\n\\item 2\n\\item 2\n\\item 2\n\\item 3\n\\item 3\n\\item 3\n\\item 3\n\\item 3\n\\item 3\n\\item 3\n\\item 3\n\\item 3\n\\item 3\n\\item 4\n\\item 4\n\\item 4\n\\item 4\n\\item 4\n\\item 4\n\\item 4\n\\item 4\n\\item 4\n\\item 4\n\\item 2\n\\item 2\n\\item 2\n\\item 2\n\\item 2\n\\item 2\n\\item 2\n\\item 2\n\\item 2\n\\item 2\n\\item 3\n\\item 3\n\\item 3\n\\item 3\n\\item 3\n\\item 3\n\\item 3\n\\item 3\n\\item 3\n\\item 3\n\\item 4\n\\item 4\n\\item 4\n\\item 4\n\\item 4\n\\item 4\n\\item 4\n\\item 4\n\\item 4\n\\item 4\n\\end{enumerate*}\n",
            "text/plain": [
              " [1] 2 2 2 2 2 2 2 2 2 2 3 3 3 3 3 3 3 3 3 3 4 4 4 4 4 4 4 4 4 4 2 2 2 2 2 2 2 2\n",
              "[39] 2 2 3 3 3 3 3 3 3 3 3 3 4 4 4 4 4 4 4 4 4 4"
            ]
          },
          "metadata": {}
        }
      ]
    },
    {
      "cell_type": "markdown",
      "metadata": {
        "id": "TlnEINwUIgwP"
      },
      "source": [
        "### 3.2 Funciones (primera parte) \n",
        "\n",
        "#### 3.2.1 Funciones vectorizadas y operaciones con vectores\n",
        "\n",
        "R es un lenguaje funcional, en el sentido de que prácticamente cada llamada a R corresponde a una función que puede (o no) recibir argumentos de entrada.\n",
        "Una de las ventajas es que existe una amplia, muy amplia,... verdaderamente amplia!, variedad de funciones disponibles, tanto en las librerías que vienen con la instalación por defecto como las librerías disponibles en CRAN o en toda la comunidad R.\n",
        "\n",
        "En R, una función $f$ se dice vectorizada si dado un vector $\\mathbf{x}=(x_1,x_2,\\dots,x_n)$, se tiene que $f(\\mathbf{x})=(f(x_1),f(x_2),\\dots,f(x_n))$.\n",
        "Esto hace que, por ejemplo, la aritmética de vectores se más sencilla de implentar y con un menor tiempo de cómputo . Gran parte de las funciones disponibles en la librerías (bibliotecas o *packages*) de R corresponden a funciones vectorizadas.\n",
        "A modo de ejemplo, a cotinuación se muestran algunas funciones (de las más básicas) aritméticas, y funciones para trabajar con texto:\n",
        "    \n",
        "    +,-,*,/\n",
        "    abs()\n",
        "    sqrt()\n",
        "    cos()\n",
        "    sin()\n",
        "    tan()\n",
        "    nchar()\n",
        "    susbtr()\n",
        "    grepl()\n",
        "    gsub()\n",
        "    \n",
        "   \n",
        "   \n",
        "   "
      ]
    },
    {
      "cell_type": "code",
      "metadata": {
        "id": "tO3oB1bnIgwP",
        "outputId": "cbc9d86f-e380-4fa3-85fa-f974001db22f",
        "colab": {
          "base_uri": "https://localhost:8080/",
          "height": 34
        }
      },
      "source": [
        "# 3.2. Funciones (primera parte) ------------\n",
        "# 3.2.1 Funciones vectorizadas \n",
        "# Ejemplos básicos de funciones(vectorizadas)\n",
        "cos(c(2,90,180, 3.14))"
      ],
      "execution_count": 98,
      "outputs": [
        {
          "output_type": "display_data",
          "data": {
            "text/html": [
              "<style>\n",
              ".list-inline {list-style: none; margin:0; padding: 0}\n",
              ".list-inline>li {display: inline-block}\n",
              ".list-inline>li:not(:last-child)::after {content: \"\\00b7\"; padding: 0 .5ex}\n",
              "</style>\n",
              "<ol class=list-inline><li>-0.416146836547142</li><li>-0.44807361612917</li><li>-0.598460069057858</li><li>-0.99999873172754</li></ol>\n"
            ],
            "text/markdown": "1. -0.416146836547142\n2. -0.44807361612917\n3. -0.598460069057858\n4. -0.99999873172754\n\n\n",
            "text/latex": "\\begin{enumerate*}\n\\item -0.416146836547142\n\\item -0.44807361612917\n\\item -0.598460069057858\n\\item -0.99999873172754\n\\end{enumerate*}\n",
            "text/plain": [
              "[1] -0.4161468 -0.4480736 -0.5984601 -0.9999987"
            ]
          },
          "metadata": {}
        }
      ]
    },
    {
      "cell_type": "code",
      "metadata": {
        "id": "NivskO3jIgwT",
        "outputId": "7fcd8dd3-0620-440b-e51a-e15162c2d659",
        "colab": {
          "base_uri": "https://localhost:8080/",
          "height": 52
        }
      },
      "source": [
        "# funciones para manipular texto\n",
        " #cantidad de caracteres\n",
        "nchar(\"hola\")\n",
        "nchar(c(\"hola\",\"soy\", \"yo\"))\n"
      ],
      "execution_count": 100,
      "outputs": [
        {
          "output_type": "display_data",
          "data": {
            "text/html": [
              "4"
            ],
            "text/markdown": "4",
            "text/latex": "4",
            "text/plain": [
              "[1] 4"
            ]
          },
          "metadata": {}
        },
        {
          "output_type": "display_data",
          "data": {
            "text/html": [
              "<style>\n",
              ".list-inline {list-style: none; margin:0; padding: 0}\n",
              ".list-inline>li {display: inline-block}\n",
              ".list-inline>li:not(:last-child)::after {content: \"\\00b7\"; padding: 0 .5ex}\n",
              "</style>\n",
              "<ol class=list-inline><li>4</li><li>3</li><li>2</li></ol>\n"
            ],
            "text/markdown": "1. 4\n2. 3\n3. 2\n\n\n",
            "text/latex": "\\begin{enumerate*}\n\\item 4\n\\item 3\n\\item 2\n\\end{enumerate*}\n",
            "text/plain": [
              "[1] 4 3 2"
            ]
          },
          "metadata": {}
        }
      ]
    },
    {
      "cell_type": "code",
      "metadata": {
        "id": "tA55foL1IgwX",
        "outputId": "c4174bfd-410a-4594-c45d-8bcf88256acc",
        "colab": {
          "base_uri": "https://localhost:8080/",
          "height": 69
        }
      },
      "source": [
        "# substring substr()\n",
        "substr(\"hola\",start = 2, stop = 4)\n",
        "substr(c(\"hola\",\"soy\", \"yo\"),start = 2, stop = 4)\n",
        "substr(c(\"hola\",\"soy\", \"yo\"),2,4)"
      ],
      "execution_count": 105,
      "outputs": [
        {
          "output_type": "display_data",
          "data": {
            "text/html": [
              "'ola'"
            ],
            "text/markdown": "'ola'",
            "text/latex": "'ola'",
            "text/plain": [
              "[1] \"ola\""
            ]
          },
          "metadata": {}
        },
        {
          "output_type": "display_data",
          "data": {
            "text/html": [
              "<style>\n",
              ".list-inline {list-style: none; margin:0; padding: 0}\n",
              ".list-inline>li {display: inline-block}\n",
              ".list-inline>li:not(:last-child)::after {content: \"\\00b7\"; padding: 0 .5ex}\n",
              "</style>\n",
              "<ol class=list-inline><li>'ola'</li><li>'oy'</li><li>'o'</li></ol>\n"
            ],
            "text/markdown": "1. 'ola'\n2. 'oy'\n3. 'o'\n\n\n",
            "text/latex": "\\begin{enumerate*}\n\\item 'ola'\n\\item 'oy'\n\\item 'o'\n\\end{enumerate*}\n",
            "text/plain": [
              "[1] \"ola\" \"oy\"  \"o\"  "
            ]
          },
          "metadata": {}
        },
        {
          "output_type": "display_data",
          "data": {
            "text/html": [
              "<style>\n",
              ".list-inline {list-style: none; margin:0; padding: 0}\n",
              ".list-inline>li {display: inline-block}\n",
              ".list-inline>li:not(:last-child)::after {content: \"\\00b7\"; padding: 0 .5ex}\n",
              "</style>\n",
              "<ol class=list-inline><li>'ola'</li><li>'oy'</li><li>'o'</li></ol>\n"
            ],
            "text/markdown": "1. 'ola'\n2. 'oy'\n3. 'o'\n\n\n",
            "text/latex": "\\begin{enumerate*}\n\\item 'ola'\n\\item 'oy'\n\\item 'o'\n\\end{enumerate*}\n",
            "text/plain": [
              "[1] \"ola\" \"oy\"  \"o\"  "
            ]
          },
          "metadata": {}
        }
      ]
    },
    {
      "cell_type": "code",
      "source": [
        "# Concatenar strings\n",
        "paste(\"Hola\", \"Miguel\")#concatena con \" \"\n",
        "paste(\"Hola\", \"Miguel\", sep = \"-\")#concatena con \"-\"\n",
        "paste(c(\"Hola\",\"miguel\"), \"que tal\", sep = \"-\")#concatena componente a componente con un \"-\"\n",
        "paste(c(\"Hola\",\"miguel\"), c(\"soy\",\"yo\"), sep = \"-\")#concatena componente a componente con un \"-\""
      ],
      "metadata": {
        "id": "nq1qlXc0FEw_",
        "outputId": "55086948-b233-47e8-ba44-cfe5c8a2f691",
        "colab": {
          "base_uri": "https://localhost:8080/",
          "height": 86
        }
      },
      "execution_count": 109,
      "outputs": [
        {
          "output_type": "display_data",
          "data": {
            "text/html": [
              "'Hola Miguel'"
            ],
            "text/markdown": "'Hola Miguel'",
            "text/latex": "'Hola Miguel'",
            "text/plain": [
              "[1] \"Hola Miguel\""
            ]
          },
          "metadata": {}
        },
        {
          "output_type": "display_data",
          "data": {
            "text/html": [
              "'Hola-Miguel'"
            ],
            "text/markdown": "'Hola-Miguel'",
            "text/latex": "'Hola-Miguel'",
            "text/plain": [
              "[1] \"Hola-Miguel\""
            ]
          },
          "metadata": {}
        },
        {
          "output_type": "display_data",
          "data": {
            "text/html": [
              "<style>\n",
              ".list-inline {list-style: none; margin:0; padding: 0}\n",
              ".list-inline>li {display: inline-block}\n",
              ".list-inline>li:not(:last-child)::after {content: \"\\00b7\"; padding: 0 .5ex}\n",
              "</style>\n",
              "<ol class=list-inline><li>'Hola-que tal'</li><li>'miguel-que tal'</li></ol>\n"
            ],
            "text/markdown": "1. 'Hola-que tal'\n2. 'miguel-que tal'\n\n\n",
            "text/latex": "\\begin{enumerate*}\n\\item 'Hola-que tal'\n\\item 'miguel-que tal'\n\\end{enumerate*}\n",
            "text/plain": [
              "[1] \"Hola-que tal\"   \"miguel-que tal\""
            ]
          },
          "metadata": {}
        },
        {
          "output_type": "display_data",
          "data": {
            "text/html": [
              "<style>\n",
              ".list-inline {list-style: none; margin:0; padding: 0}\n",
              ".list-inline>li {display: inline-block}\n",
              ".list-inline>li:not(:last-child)::after {content: \"\\00b7\"; padding: 0 .5ex}\n",
              "</style>\n",
              "<ol class=list-inline><li>'Hola-soy'</li><li>'miguel-yo'</li></ol>\n"
            ],
            "text/markdown": "1. 'Hola-soy'\n2. 'miguel-yo'\n\n\n",
            "text/latex": "\\begin{enumerate*}\n\\item 'Hola-soy'\n\\item 'miguel-yo'\n\\end{enumerate*}\n",
            "text/plain": [
              "[1] \"Hola-soy\"  \"miguel-yo\""
            ]
          },
          "metadata": {}
        }
      ]
    },
    {
      "cell_type": "code",
      "source": [
        "paste(c(\"hola\",\"soy\", \"su\", \"profesor\") , collapse = \"-\")# Colapsa un vector en un string\n",
        "paste(\"hola\",\"soy\", \"su\", \"profesor\" , sep = \"-\")# Pega varios strings"
      ],
      "metadata": {
        "id": "sS788AlrF8iT",
        "outputId": "c02274d3-70ef-4b04-8f3e-f5cd77b60c8c",
        "colab": {
          "base_uri": "https://localhost:8080/",
          "height": 52
        }
      },
      "execution_count": 113,
      "outputs": [
        {
          "output_type": "display_data",
          "data": {
            "text/html": [
              "'hola-soy-su-profesor'"
            ],
            "text/markdown": "'hola-soy-su-profesor'",
            "text/latex": "'hola-soy-su-profesor'",
            "text/plain": [
              "[1] \"hola-soy-su-profesor\""
            ]
          },
          "metadata": {}
        },
        {
          "output_type": "display_data",
          "data": {
            "text/html": [
              "'hola soy su profesor'"
            ],
            "text/markdown": "'hola soy su profesor'",
            "text/latex": "'hola soy su profesor'",
            "text/plain": [
              "[1] \"hola soy su profesor\""
            ]
          },
          "metadata": {}
        }
      ]
    },
    {
      "cell_type": "code",
      "source": [
        "paste0(\"hola\",\"miguel\")\n",
        "\n",
        "paste(\"hola\",\"miguel\",sep = \"\")"
      ],
      "metadata": {
        "id": "Z39A30iIGtWF",
        "outputId": "34dfa57a-eabb-4d7b-de31-f43e6875c060",
        "colab": {
          "base_uri": "https://localhost:8080/",
          "height": 52
        }
      },
      "execution_count": 116,
      "outputs": [
        {
          "output_type": "display_data",
          "data": {
            "text/html": [
              "'holamiguel'"
            ],
            "text/markdown": "'holamiguel'",
            "text/latex": "'holamiguel'",
            "text/plain": [
              "[1] \"holamiguel\""
            ]
          },
          "metadata": {}
        },
        {
          "output_type": "display_data",
          "data": {
            "text/html": [
              "'holamiguel'"
            ],
            "text/markdown": "'holamiguel'",
            "text/latex": "'holamiguel'",
            "text/plain": [
              "[1] \"holamiguel\""
            ]
          },
          "metadata": {}
        }
      ]
    },
    {
      "cell_type": "code",
      "metadata": {
        "id": "vjRwdUbiIgwY",
        "outputId": "30b7bd83-7df9-429f-d5ca-24a8487f6a67",
        "colab": {
          "base_uri": "https://localhost:8080/",
          "height": 69
        }
      },
      "source": [
        "# grepl() evlaúa si un  caracter está contenido en otro. (LIKE)\n",
        "#?grepl()\n",
        "grepl(\"ala\", \"palabra\")\n",
        "grepl(\"alo\", \"palabra\")\n",
        "\n",
        "\n",
        "#gsub() reemblaza un substring por otro\n",
        "#?gsub\n",
        "\n",
        "# si reemplazamos en un vector de palabras\n",
        "grepl(\"ala\", c(\"palabra\",\"halar\",\"alo\"))\n"
      ],
      "execution_count": 119,
      "outputs": [
        {
          "output_type": "display_data",
          "data": {
            "text/html": [
              "TRUE"
            ],
            "text/markdown": "TRUE",
            "text/latex": "TRUE",
            "text/plain": [
              "[1] TRUE"
            ]
          },
          "metadata": {}
        },
        {
          "output_type": "display_data",
          "data": {
            "text/html": [
              "FALSE"
            ],
            "text/markdown": "FALSE",
            "text/latex": "FALSE",
            "text/plain": [
              "[1] FALSE"
            ]
          },
          "metadata": {}
        },
        {
          "output_type": "display_data",
          "data": {
            "text/html": [
              "<style>\n",
              ".list-inline {list-style: none; margin:0; padding: 0}\n",
              ".list-inline>li {display: inline-block}\n",
              ".list-inline>li:not(:last-child)::after {content: \"\\00b7\"; padding: 0 .5ex}\n",
              "</style>\n",
              "<ol class=list-inline><li>TRUE</li><li>TRUE</li><li>FALSE</li></ol>\n"
            ],
            "text/markdown": "1. TRUE\n2. TRUE\n3. FALSE\n\n\n",
            "text/latex": "\\begin{enumerate*}\n\\item TRUE\n\\item TRUE\n\\item FALSE\n\\end{enumerate*}\n",
            "text/plain": [
              "[1]  TRUE  TRUE FALSE"
            ]
          },
          "metadata": {}
        }
      ]
    },
    {
      "cell_type": "code",
      "metadata": {
        "id": "0j9kKUbzIgwZ"
      },
      "source": [
        "#gsub() reemplaza caracteres dentro de un texto\n",
        "#https://www.tidytextmining.com/\n"
      ],
      "execution_count": null,
      "outputs": []
    },
    {
      "cell_type": "markdown",
      "source": [
        "# Funciones\n",
        "En R podemos definir una función como:\n",
        "\n",
        "\n",
        "\n",
        "````\n",
        "f <- function(x,y,...){\n",
        "  #lógica a implemntar con x,y,...\n",
        "  return(salida)\n",
        "}\n",
        "````\n"
      ],
      "metadata": {
        "id": "93a-4FazIzWg"
      }
    },
    {
      "cell_type": "code",
      "source": [
        "especial <- function(a,b){\n",
        "  aux <- a+10*b\n",
        "  return(log(aux))\n",
        "}"
      ],
      "metadata": {
        "id": "tnmbPwWAIyHM"
      },
      "execution_count": 123,
      "outputs": []
    },
    {
      "cell_type": "code",
      "source": [
        "especial(a=1,b=10)"
      ],
      "metadata": {
        "id": "JGROaaPIKdVQ",
        "outputId": "5921ef02-47f7-4a28-cb1f-92cc14786699",
        "colab": {
          "base_uri": "https://localhost:8080/",
          "height": 34
        }
      },
      "execution_count": 124,
      "outputs": [
        {
          "output_type": "display_data",
          "data": {
            "text/html": [
              "4.61512051684126"
            ],
            "text/markdown": "4.61512051684126",
            "text/latex": "4.61512051684126",
            "text/plain": [
              "[1] 4.615121"
            ]
          },
          "metadata": {}
        }
      ]
    },
    {
      "cell_type": "code",
      "source": [
        "especial(1,10)"
      ],
      "metadata": {
        "id": "OJwI32WiKwEz",
        "outputId": "26435502-caa0-42f4-c588-0ec288845a73",
        "colab": {
          "base_uri": "https://localhost:8080/",
          "height": 34
        }
      },
      "execution_count": 122,
      "outputs": [
        {
          "output_type": "display_data",
          "data": {
            "text/html": [
              "4.61512051684126"
            ],
            "text/markdown": "4.61512051684126",
            "text/latex": "4.61512051684126",
            "text/plain": [
              "[1] 4.615121"
            ]
          },
          "metadata": {}
        }
      ]
    },
    {
      "cell_type": "code",
      "source": [],
      "metadata": {
        "id": "iy-o4jscKwqY"
      },
      "execution_count": null,
      "outputs": []
    }
  ]
}