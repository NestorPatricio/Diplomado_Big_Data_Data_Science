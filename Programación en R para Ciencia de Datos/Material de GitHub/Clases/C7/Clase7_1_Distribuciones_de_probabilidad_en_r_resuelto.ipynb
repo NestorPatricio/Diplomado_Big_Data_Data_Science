{
  "nbformat": 4,
  "nbformat_minor": 0,
  "metadata": {
    "colab": {
      "provenance": [],
      "include_colab_link": true
    },
    "kernelspec": {
      "name": "ir",
      "display_name": "R"
    }
  },
  "cells": [
    {
      "cell_type": "markdown",
      "metadata": {
        "id": "view-in-github",
        "colab_type": "text"
      },
      "source": [
        "<a href=\"https://colab.research.google.com/github/majorquev/DBDC_202304_Programacion_en_R_para_ciencia_de_datos/blob/main/Clases/C7/Clase7_1_Distribuciones_de_probabilidad_en_r.ipynb\" target=\"_parent\"><img src=\"https://colab.research.google.com/assets/colab-badge.svg\" alt=\"Open In Colab\"/></a>"
      ]
    },
    {
      "cell_type": "markdown",
      "metadata": {
        "collapsed": true,
        "id": "OejoCTBMIzQV"
      },
      "source": [
        "# Parte 6: Distribuciones de probabilidad\n",
        "\n",
        "**Autor:** Miguel Jorquera Viguera.<br>\n",
        "**E-mail:** majorquev@gmail.com<br>\n",
        "**Ayudante:** Rodrigo Morales<br>\n",
        "**E-mail ayudante:** rumorale1@gmail.com\n",
        "\n",
        "En R podemos obtener valores tanto de las funciones de densidad, distribución de probabilidad, cuantiles de una distribución o bien generar valores aleatorios de diversas distribuciones paramétricas.\n",
        "Casi todas las distribuciones que se encuentran implementadas en la librería base de R se referencian de la misma manera.\n",
        "\n",
        "* Funciones de densidad (PDFs) comienzan con la letra “d.”\n",
        "* Funciones de distribución acumulada comienzan con la letra “p.”\n",
        "* Funcioenes que retornan quantiles de una distribución comienzan con la letra “q.”\n",
        "* Funciones que generan valores aleatorios comienzan con la letra“r.”\n",
        "\n",
        "Por defecto, en R contamos con una amplia variedad familias de distribuciones enre las que destacan las siguientes.\n",
        "\n",
        "\n",
        "\n",
        "**Distribution**| **R name**| **additional arguments**\n",
        "-----| -----| -----\n",
        "beta |`beta` |shape1, shape2, ncp\n",
        "binomial| `binom`| size, prob\n",
        "Cauchy|`cauchy` |location, scale\n",
        "chi-squared| `chisq`| df, ncp\n",
        "exponential| `exp` |rate\n",
        "F| `f` |df1, df2, ncp\n",
        "gamma |`gamma` |shape, scale\n",
        "geometric |`geom` |prob\n",
        "hypergeometric| `hyper`| m, n, k\n",
        "log-normal| `lnorm` |meanlog, sdlog\n",
        "logistic |`logis` |location, scale\n",
        "negative| `binomial`| nbinom size, prob\n",
        "normal |`norm` |mean, sd\n",
        "Poisson| `pois`| lambda\n",
        "signed rank |`signrank`| n\n",
        "Student’s t| `t`| df, ncp\n",
        "uniform |`unif`| min, max\n",
        "Weibull| `weibull`| shape, scale\n",
        "Wilcoxon |`wilcox`|m, n\n",
        "\n",
        "\n"
      ]
    },
    {
      "cell_type": "markdown",
      "metadata": {
        "id": "-PTP0v_EIzQV"
      },
      "source": [
        "# I) Distribución normal\n",
        "\n",
        "## Función de densidad\n",
        "$$f(x) = \\frac{1}{\\sqrt{2 π \\sigma^2}} e^{-\\frac{1}{2\\sigma^2}(x - \\mu)^2}$$\n",
        "\n",
        "## En R...\n",
        "\n",
        "* `dnorm(x, mean = 0, sd = 1, log = FALSE)`: Evalúa la función de densidad.\n",
        "* `pnorm(q, mean = 0, sd = 1, lower.tail = TRUE, log.p = FALSE)`: Calcula la probabilidad acumulada (función de distribución).\n",
        "* `qnorm(p, mean = 0, sd = 1, lower.tail = TRUE, log.p = FALSE)`: Calcula los quantiles de la distribución. (Función inversa de la función de distribución de probabilidad).\n",
        "* `rnorm(n, mean = 0, sd = 1)`: Genera muestras aleatroias.\n",
        "\n",
        "\n",
        "\n",
        "\n",
        "**P1.** Se sabe que la estatura de la población adulta de sexo masculino chilena sigue una distribución normal con media 171,8 cms y una desviación estándar de 5cms\n",
        "\n",
        "**a)** ¿Cuál es la probabilidad de encontrar de que una persona hombre  adulta tenga una estatura\n",
        "menor o igual a 160 cms?"
      ]
    },
    {
      "cell_type": "code",
      "metadata": {
        "trusted": true,
        "id": "ToHwVVRJIzQV",
        "outputId": "3ebeaf20-8239-400a-d0a8-f0eeb1ba2b34",
        "colab": {
          "base_uri": "https://localhost:8080/",
          "height": 34
        }
      },
      "source": [
        "# X: Estatura (variable aleatoria)\n",
        "# P(X <= 160)\n",
        "# pnorm()\n",
        "#?pnorm\n",
        "\n",
        "pnorm(160, mean = 171.8, sd = 5)\n",
        "\n",
        "# Hay 0.9% de prob de encontrar a un hombre adulto en Chile de menos de 1.60 mts."
      ],
      "execution_count": null,
      "outputs": [
        {
          "output_type": "display_data",
          "data": {
            "text/html": [
              "0.00913746753057262"
            ],
            "text/markdown": "0.00913746753057262",
            "text/latex": "0.00913746753057262",
            "text/plain": [
              "[1] 0.009137468"
            ]
          },
          "metadata": {}
        }
      ]
    },
    {
      "cell_type": "code",
      "metadata": {
        "trusted": true,
        "id": "aurFMEakIzQW"
      },
      "source": [
        "?pnorm"
      ],
      "execution_count": null,
      "outputs": []
    },
    {
      "cell_type": "markdown",
      "metadata": {
        "id": "h-zASRnGIzQW"
      },
      "source": [
        "\n",
        "**b)** ¿Cuál es la probabilidad de encontrar de que una persona adulta tenga una estatura mayor  a 160 cms?\n",
        ""
      ]
    },
    {
      "cell_type": "code",
      "metadata": {
        "trusted": true,
        "id": "jQ8cahkIIzQW",
        "outputId": "d2d88dc8-99a7-48ac-a8d5-606fe20af419",
        "colab": {
          "base_uri": "https://localhost:8080/",
          "height": 52
        }
      },
      "source": [
        "#P(estatura > 160) = 1- P(estatura <= 160)\n",
        "\n",
        "1-pnorm(160, mean = 171.8, sd = 5) # 99% de prob de que un adulto Chileno mida más de 1.60.\n",
        "\n",
        "#NOTA\n",
        "# lower.tail\n",
        "pnorm(160, mean = 171.8, sd = 5, lower.tail = F)"
      ],
      "execution_count": null,
      "outputs": [
        {
          "output_type": "display_data",
          "data": {
            "text/html": [
              "0.990862532469427"
            ],
            "text/markdown": "0.990862532469427",
            "text/latex": "0.990862532469427",
            "text/plain": [
              "[1] 0.9908625"
            ]
          },
          "metadata": {}
        },
        {
          "output_type": "display_data",
          "data": {
            "text/html": [
              "0.990862532469427"
            ],
            "text/markdown": "0.990862532469427",
            "text/latex": "0.990862532469427",
            "text/plain": [
              "[1] 0.9908625"
            ]
          },
          "metadata": {}
        }
      ]
    },
    {
      "cell_type": "markdown",
      "metadata": {
        "id": "RW1a4CYOIzQW"
      },
      "source": [
        "**c)** ¿Cuál es la probabilidad de encontrar una persona con estatura entre 180cms y 190 cms?"
      ]
    },
    {
      "cell_type": "code",
      "metadata": {
        "trusted": true,
        "id": "OvapQgJnIzQW",
        "outputId": "f014f401-f7d7-404e-e2f8-4aad8f48c3dd",
        "colab": {
          "base_uri": "https://localhost:8080/",
          "height": 34
        }
      },
      "source": [
        "# P( 180 <= X <= 190)\n",
        "pnorm(190, mean = 171.8, sd = 5) - pnorm(180, mean = 171.8, sd = 5)\n",
        "\n",
        "# 5%"
      ],
      "execution_count": null,
      "outputs": [
        {
          "output_type": "display_data",
          "data": {
            "text/html": [
              "0.0503662644536582"
            ],
            "text/markdown": "0.0503662644536582",
            "text/latex": "0.0503662644536582",
            "text/plain": [
              "[1] 0.05036626"
            ]
          },
          "metadata": {}
        }
      ]
    },
    {
      "cell_type": "markdown",
      "metadata": {
        "id": "wKeJk1S1IzQX"
      },
      "source": [
        "**d)** ¿Cuál es la estatura que corresponde al percentil 90?"
      ]
    },
    {
      "cell_type": "code",
      "metadata": {
        "trusted": true,
        "id": "uH4r-tSjIzQX",
        "outputId": "ec800772-3cf5-4c6b-f7b7-840ee56233d2",
        "colab": {
          "base_uri": "https://localhost:8080/",
          "height": 34
        }
      },
      "source": [
        "# Cual es la estatura que acumula el 90 % de probabilidad\n",
        "qnorm(0.9,  mean = 171.8, sd = 5)\n",
        "# La prob de encontrar una persona (adulta, hombre, en Chile) con estatura menor o igual a 178.2 es de un 90%"
      ],
      "execution_count": null,
      "outputs": [
        {
          "output_type": "display_data",
          "data": {
            "text/html": [
              "178.207757827723"
            ],
            "text/markdown": "178.207757827723",
            "text/latex": "178.207757827723",
            "text/plain": [
              "[1] 178.2078"
            ]
          },
          "metadata": {}
        }
      ]
    },
    {
      "cell_type": "code",
      "source": [
        "qnorm(0.5,  mean = 171.8, sd = 5)\n",
        "# El la prob de que una persona mida igual o menos de la media es de un 50%."
      ],
      "metadata": {
        "id": "FDUqVWmBR9Md",
        "outputId": "d4757a47-08f3-4f93-da70-b75cfb8beb83",
        "colab": {
          "base_uri": "https://localhost:8080/",
          "height": 34
        }
      },
      "execution_count": null,
      "outputs": [
        {
          "output_type": "display_data",
          "data": {
            "text/html": [
              "171.8"
            ],
            "text/markdown": "171.8",
            "text/latex": "171.8",
            "text/plain": [
              "[1] 171.8"
            ]
          },
          "metadata": {}
        }
      ]
    },
    {
      "cell_type": "markdown",
      "metadata": {
        "id": "8BETYF90IzQX"
      },
      "source": [
        "**d)**  Genere una muestra aleatoria de tamaño 1000 y guárdela en un vector llamado _estaturas_, provenientes de una distribución normal con media 171,8 y desviación estandar igual a 5."
      ]
    },
    {
      "cell_type": "code",
      "metadata": {
        "trusted": true,
        "id": "_jaKERD8IzQX"
      },
      "source": [
        "# estaturas\n",
        "set.seed(2020) #semilla\n",
        "estaturas <- rnorm(1000, mean = 171.8, sd = 5)\n"
      ],
      "execution_count": null,
      "outputs": []
    },
    {
      "cell_type": "code",
      "source": [
        "head(estaturas)"
      ],
      "metadata": {
        "id": "jke5iOkrSaVR",
        "outputId": "f5f0e576-bff8-41d8-8302-eba51192826c",
        "colab": {
          "base_uri": "https://localhost:8080/",
          "height": 34
        }
      },
      "execution_count": null,
      "outputs": [
        {
          "output_type": "display_data",
          "data": {
            "text/html": [
              "<style>\n",
              ".list-inline {list-style: none; margin:0; padding: 0}\n",
              ".list-inline>li {display: inline-block}\n",
              ".list-inline>li:not(:last-child)::after {content: \"\\00b7\"; padding: 0 .5ex}\n",
              "</style>\n",
              "<ol class=list-inline><li>173.684860624682</li><li>173.307741869678</li><li>166.309884146732</li><li>166.147970481981</li><li>157.817328400641</li><li>175.402867492058</li></ol>\n"
            ],
            "text/markdown": "1. 173.684860624682\n2. 173.307741869678\n3. 166.309884146732\n4. 166.147970481981\n5. 157.817328400641\n6. 175.402867492058\n\n\n",
            "text/latex": "\\begin{enumerate*}\n\\item 173.684860624682\n\\item 173.307741869678\n\\item 166.309884146732\n\\item 166.147970481981\n\\item 157.817328400641\n\\item 175.402867492058\n\\end{enumerate*}\n",
            "text/plain": [
              "[1] 173.6849 173.3077 166.3099 166.1480 157.8173 175.4029"
            ]
          },
          "metadata": {}
        }
      ]
    },
    {
      "cell_type": "code",
      "source": [
        "mean(estaturas)\n",
        "sd(estaturas)"
      ],
      "metadata": {
        "id": "Vu26Y3lsSgW0",
        "outputId": "a295b534-ddc5-43b0-e2aa-e86b17a14c37",
        "colab": {
          "base_uri": "https://localhost:8080/",
          "height": 52
        }
      },
      "execution_count": null,
      "outputs": [
        {
          "output_type": "display_data",
          "data": {
            "text/html": [
              "171.666610452822"
            ],
            "text/markdown": "171.666610452822",
            "text/latex": "171.666610452822",
            "text/plain": [
              "[1] 171.6666"
            ]
          },
          "metadata": {}
        },
        {
          "output_type": "display_data",
          "data": {
            "text/html": [
              "5.18482653310033"
            ],
            "text/markdown": "5.18482653310033",
            "text/latex": "5.18482653310033",
            "text/plain": [
              "[1] 5.184827"
            ]
          },
          "metadata": {}
        }
      ]
    },
    {
      "cell_type": "markdown",
      "metadata": {
        "id": "xcbBK1N0IzQX"
      },
      "source": [
        "**e)** Mediante la función _hist()_ y la función _curve()_  genere un histograma de la muestra creada y añada la curva de distribución normal con la media y desviación estandar reales."
      ]
    },
    {
      "cell_type": "code",
      "metadata": {
        "trusted": true,
        "id": "2iZisxlHIzQX",
        "outputId": "c4476544-f83f-4689-d99f-5a0a484a09e6",
        "colab": {
          "base_uri": "https://localhost:8080/",
          "height": 34
        }
      },
      "source": [
        "## NOTA\n",
        "dnorm(1, mean = 0, sd = 1)"
      ],
      "execution_count": null,
      "outputs": [
        {
          "output_type": "display_data",
          "data": {
            "text/html": [
              "0.241970724519143"
            ],
            "text/markdown": "0.241970724519143",
            "text/latex": "0.241970724519143",
            "text/plain": [
              "[1] 0.2419707"
            ]
          },
          "metadata": {}
        }
      ]
    },
    {
      "cell_type": "code",
      "metadata": {
        "trusted": true,
        "id": "EDPAiGwpIzQX",
        "outputId": "9fce0314-99df-4d4b-ec73-2f41d59368ef",
        "colab": {
          "base_uri": "https://localhost:8080/",
          "height": 437
        }
      },
      "source": [
        "hist(estaturas,freq = F,30)\n",
        "curve(dnorm(x,mean = 171.8, sd = 5 ),add = T, col = \"red\") # dendisdad de la normal con parámetros reales\n",
        "curve(dnorm(x,mean = mean(estaturas), sd = sd(estaturas) ),add = T, col = \"blue\") # dendisdad de la normal con parámetros estimados\n"
      ],
      "execution_count": null,
      "outputs": [
        {
          "output_type": "display_data",
          "data": {
            "text/plain": [
              "Plot with title “Histogram of estaturas”"
            ],
            "image/png": "[encoded data removed]"
          },
          "metadata": {
            "image/png": {
              "width": 420,
              "height": 420
            }
          }
        }
      ]
    },
    {
      "cell_type": "code",
      "source": [
        "est <- data.frame(estaturas = estaturas)\n",
        "head(est)"
      ],
      "metadata": {
        "id": "Aizjo_kYUqPG",
        "outputId": "e5afd3ce-824a-414e-bd3f-499d5df81934",
        "colab": {
          "base_uri": "https://localhost:8080/",
          "height": 303
        }
      },
      "execution_count": null,
      "outputs": [
        {
          "output_type": "display_data",
          "data": {
            "text/html": [
              "<table class=\"dataframe\">\n",
              "<caption>A data.frame: 6 × 1</caption>\n",
              "<thead>\n",
              "\t<tr><th></th><th scope=col>estaturas</th></tr>\n",
              "\t<tr><th></th><th scope=col>&lt;dbl&gt;</th></tr>\n",
              "</thead>\n",
              "<tbody>\n",
              "\t<tr><th scope=row>1</th><td>173.6849</td></tr>\n",
              "\t<tr><th scope=row>2</th><td>173.3077</td></tr>\n",
              "\t<tr><th scope=row>3</th><td>166.3099</td></tr>\n",
              "\t<tr><th scope=row>4</th><td>166.1480</td></tr>\n",
              "\t<tr><th scope=row>5</th><td>157.8173</td></tr>\n",
              "\t<tr><th scope=row>6</th><td>175.4029</td></tr>\n",
              "</tbody>\n",
              "</table>\n"
            ],
            "text/markdown": "\nA data.frame: 6 × 1\n\n| <!--/--> | estaturas &lt;dbl&gt; |\n|---|---|\n| 1 | 173.6849 |\n| 2 | 173.3077 |\n| 3 | 166.3099 |\n| 4 | 166.1480 |\n| 5 | 157.8173 |\n| 6 | 175.4029 |\n\n",
            "text/latex": "A data.frame: 6 × 1\n\\begin{tabular}{r|l}\n  & estaturas\\\\\n  & <dbl>\\\\\n\\hline\n\t1 & 173.6849\\\\\n\t2 & 173.3077\\\\\n\t3 & 166.3099\\\\\n\t4 & 166.1480\\\\\n\t5 & 157.8173\\\\\n\t6 & 175.4029\\\\\n\\end{tabular}\n",
            "text/plain": [
              "  estaturas\n",
              "1 173.6849 \n",
              "2 173.3077 \n",
              "3 166.3099 \n",
              "4 166.1480 \n",
              "5 157.8173 \n",
              "6 175.4029 "
            ]
          },
          "metadata": {}
        }
      ]
    },
    {
      "cell_type": "code",
      "source": [
        "library(ggplot2)\n",
        "library(dplyr)"
      ],
      "metadata": {
        "id": "3zEHHw7TUzLO"
      },
      "execution_count": null,
      "outputs": []
    },
    {
      "cell_type": "code",
      "source": [
        "?stat_function"
      ],
      "metadata": {
        "id": "S7LzaZh7WWQT"
      },
      "execution_count": null,
      "outputs": []
    },
    {
      "cell_type": "code",
      "source": [
        "# Podremos hacer lo mismo con ggplot\n",
        "est %>%\n",
        "  ggplot() +\n",
        "  aes(x = estaturas) +\n",
        "  geom_histogram(\n",
        "    fill = \"white\",\n",
        "    color = \"black\",\n",
        "    aes(y = after_stat(density))\n",
        "  ) +\n",
        "  stat_function( #geom_function también sirve\n",
        "    fun = dnorm,\n",
        "    args = list(mean = 171.8, sd = 5),\n",
        "    col = \"red\"\n",
        "  ) +\n",
        "  stat_function( #geom_function también sirve\n",
        "    fun = dnorm,\n",
        "    args = list(mean = mean(est$estaturas), sd = sd(est$estaturas)),\n",
        "    col = \"blue\"\n",
        "  ) +\n",
        "  geom_density(col = \"green\")\n",
        ""
      ],
      "metadata": {
        "id": "dECpVG0JUfpj",
        "outputId": "caf84764-f5b8-4608-8f7a-fe6d1c056c82",
        "colab": {
          "base_uri": "https://localhost:8080/",
          "height": 455
        }
      },
      "execution_count": null,
      "outputs": [
        {
          "output_type": "stream",
          "name": "stderr",
          "text": [
            "\u001b[1m\u001b[22m`stat_bin()` using `bins = 30`. Pick better value with `binwidth`.\n"
          ]
        },
        {
          "output_type": "display_data",
          "data": {
            "text/plain": [
              "plot without title"
            ],
            "image/png": "[encoded data removed]"
          },
          "metadata": {
            "image/png": {
              "width": 420,
              "height": 420
            }
          }
        }
      ]
    },
    {
      "cell_type": "code",
      "source": [
        "## para revisar\n",
        "#stat_function(\n",
        "#    fun = \"dnorm\", args = list(mean = 171.8, sd = 5),\n",
        "#    col = \"red\"\n",
        "#  )"
      ],
      "metadata": {
        "id": "nWp1YViQXavh"
      },
      "execution_count": null,
      "outputs": []
    },
    {
      "cell_type": "markdown",
      "source": [
        "## Recordatorio (definición de funciones)\n",
        "\n",
        "```\n",
        "function(par1, par2, ...){\n",
        "    ...\n",
        "    return(...)\n",
        "}\n",
        "```"
      ],
      "metadata": {
        "id": "1WdREqOHVtY4"
      }
    },
    {
      "cell_type": "code",
      "source": [
        "suma <- function(a,b){\n",
        "  aux <- a+b\n",
        "  return(aux)\n",
        "}"
      ],
      "metadata": {
        "id": "IAIZ-3YYVs87"
      },
      "execution_count": null,
      "outputs": []
    },
    {
      "cell_type": "code",
      "source": [
        "est %>%\n",
        "  ggplot() +\n",
        "  aes(x = estaturas) +\n",
        "  geom_histogram(\n",
        "    fill = \"white\",\n",
        "    color = \"black\",\n",
        "    aes(y = after_stat(density))\n",
        "  ) +\n",
        "  stat_function( #geom_function también sirve\n",
        "    fun = function(x){\n",
        "      dnorm(x,mean = 171.8, sd = 5)\n",
        "    },\n",
        "    col = \"red\"\n",
        "  )"
      ],
      "metadata": {
        "id": "_5diiY7kY00O",
        "outputId": "563ced1b-2e9d-4c89-80e1-81ba873bc388",
        "colab": {
          "base_uri": "https://localhost:8080/",
          "height": 455
        }
      },
      "execution_count": null,
      "outputs": [
        {
          "output_type": "stream",
          "name": "stderr",
          "text": [
            "\u001b[1m\u001b[22m`stat_bin()` using `bins = 30`. Pick better value with `binwidth`.\n"
          ]
        },
        {
          "output_type": "display_data",
          "data": {
            "text/plain": [
              "plot without title"
            ],
            "image/png": "[encoded data removed]"
          },
          "metadata": {
            "image/png": {
              "width": 420,
              "height": 420
            }
          }
        }
      ]
    },
    {
      "cell_type": "markdown",
      "metadata": {
        "id": "fMwNisC-IzQX"
      },
      "source": [
        "# II)Distribucion binomial\n",
        "## Contexto\n",
        "Cuando una variable aleatoria representa la cantidad de éxitos en $n$ ensayos independientes de tipo Bernoulli (0 o 1), se dice que dicha variable sigue una distribución binomial.\n",
        "\n",
        "## Función de probabilidad\n",
        "\n",
        "\n",
        "$$p(x) = {n\\choose x}p^x(1-p)^{n-x}$$\n",
        "Donde $n$ es el total de ensayos realizados y $x$ es la cantidad de éxitos observados y $p$ es la probabilidad de éxito del evento de interés.\n",
        "\n",
        "## En R...\n",
        "\n",
        "* `dbinom(x, size, prob, log = FALSE)`: Evalúa la función de masa. En el caso discreto corresponde a la probabilidad del evento.\n",
        "* `pbinom(q, size, prob, lower.tail = TRUE, log.p = FALSE)`: Calcula la probabilidad acumulada.\n",
        "* `qbinom(p, size, prob, lower.tail = TRUE, log.p = FALSE)`: Retorna cuantiles de la distribución.\n",
        "* `rbinom(n, size, prob)`: Genera muestras aleatorias.\n",
        "\n",
        "**P2.** Suponga que un spot publicitario de un artículo tiene una tasa de efectividad de 20% sobre una determinada población.\n",
        "\n",
        "**a)** Suponga que se logra llegar con el spot a 100 personas. ¿Cuál es la probabilidad de que\n",
        " al menos 30  personas compren el artículo ofrecido?"
      ]
    },
    {
      "cell_type": "code",
      "metadata": {
        "trusted": true,
        "id": "MOm-FppMIzQX",
        "outputId": "460aa15d-221c-4f60-f79b-44f37997a0b6",
        "colab": {
          "base_uri": "https://localhost:8080/",
          "height": 52
        }
      },
      "source": [
        "# Identifiquemos algunos elementos como\n",
        "# Experimento : Hacer llegar el spot a las 100 personas y registrar el número de clientes que efectivamente compraron el artículo.\n",
        "# Variable aleatoria : X: \"el número de clientes (de los 100) que compraron el artículo\"\n",
        "# Espacio muestral : {0,1,2,...,100}\n",
        "# Prob de éxito (que la persona compre el artículo) es: 0.2\n",
        "#-------parámetros de pbinom ---------\n",
        "#size (n): 100\n",
        "#prob (p): 0.2\n",
        "\n",
        "#P(X>=30) = 1 - P(X <= 29) = 1-P(X<30)\n",
        "# NOTA: Recordar que pbinom(x,...) = P(X <= x)\n",
        "1-pbinom(29, size = 100, p = 0.2)\n",
        "1-pbinom(29, 100, 0.2)\n",
        "# Hay una probabilida del 1.1% de que 30 o más personas compren el artículo."
      ],
      "execution_count": null,
      "outputs": [
        {
          "output_type": "display_data",
          "data": {
            "text/html": [
              "0.0112489787209917"
            ],
            "text/markdown": "0.0112489787209917",
            "text/latex": "0.0112489787209917",
            "text/plain": [
              "[1] 0.01124898"
            ]
          },
          "metadata": {}
        },
        {
          "output_type": "display_data",
          "data": {
            "text/html": [
              "0.0112489787209917"
            ],
            "text/markdown": "0.0112489787209917",
            "text/latex": "0.0112489787209917",
            "text/plain": [
              "[1] 0.01124898"
            ]
          },
          "metadata": {}
        }
      ]
    },
    {
      "cell_type": "code",
      "metadata": {
        "trusted": true,
        "id": "hNMwMfgAIzQX",
        "outputId": "9695672b-9314-4eb8-d78e-a9edc2642aa0",
        "colab": {
          "base_uri": "https://localhost:8080/",
          "height": 52
        }
      },
      "source": [
        "# ¿Cuál es la probabilidad de que exactamente 30 personas compren el artículo ofrecido?\n",
        "\n",
        "dbinom(30, 100, 0.2) # 0.5% de prob de que 30 personas compren...\n",
        "#O alternativamente.\n",
        "pbinom(30, 100, 0.2) - pbinom(29, 100, 0.2)#  0.5% de prob de que 30 personas compren..."
      ],
      "execution_count": null,
      "outputs": [
        {
          "output_type": "display_data",
          "data": {
            "text/html": [
              "0.00518964323994865"
            ],
            "text/markdown": "0.00518964323994865",
            "text/latex": "0.00518964323994865",
            "text/plain": [
              "[1] 0.005189643"
            ]
          },
          "metadata": {}
        },
        {
          "output_type": "display_data",
          "data": {
            "text/html": [
              "0.00518964323994875"
            ],
            "text/markdown": "0.00518964323994875",
            "text/latex": "0.00518964323994875",
            "text/plain": [
              "[1] 0.005189643"
            ]
          },
          "metadata": {}
        }
      ]
    },
    {
      "cell_type": "markdown",
      "metadata": {
        "id": "cNebkKaeIzQX"
      },
      "source": [
        "**P3.** En una localidad se sabe que el 70% de las casas tienen un televisor.  Se quiere realizar una encuesta a 8 casas ¿cuál es la probabilidad de que 6 o más de ellas tengan televisor?"
      ]
    },
    {
      "cell_type": "code",
      "metadata": {
        "trusted": true,
        "id": "nb9XiMpSIzQX",
        "outputId": "dec7a3c4-7845-4ca6-8dd5-1c49984aab8e",
        "colab": {
          "base_uri": "https://localhost:8080/",
          "height": 52
        }
      },
      "source": [
        "# size = 8\n",
        "# prob = 0.7\n",
        "\n",
        "# P(X >= 6) = 1-P(X<=5)\n",
        "\n",
        "1-pbinom(5, 8, 0.7) # Hay un 55% de prob de que 6 o más casas tengan tv\n",
        "pbinom(5, 8, 0.7, lower.tail = F)"
      ],
      "execution_count": null,
      "outputs": [
        {
          "output_type": "display_data",
          "data": {
            "text/html": [
              "0.55177381"
            ],
            "text/markdown": "0.55177381",
            "text/latex": "0.55177381",
            "text/plain": [
              "[1] 0.5517738"
            ]
          },
          "metadata": {}
        },
        {
          "output_type": "display_data",
          "data": {
            "text/html": [
              "0.55177381"
            ],
            "text/markdown": "0.55177381",
            "text/latex": "0.55177381",
            "text/plain": [
              "[1] 0.5517738"
            ]
          },
          "metadata": {}
        }
      ]
    },
    {
      "cell_type": "markdown",
      "metadata": {
        "id": "9SSV-KEkIzQX"
      },
      "source": [
        "## Lanzando una moneda\n",
        "**P4** Supongamos que una **honesta** se lanza 14 veces y se anota el número veces que se obtuvo cara.\n",
        "\n",
        "**a)** ¿Cuál es la probabilidad de obtener exactamente 4 caras? ¿y al menos 10?"
      ]
    },
    {
      "cell_type": "code",
      "metadata": {
        "trusted": true,
        "id": "MyXXdYQ8IzQX",
        "outputId": "3a33c9ab-3c63-4f83-dae1-885e42e4da1f",
        "colab": {
          "base_uri": "https://localhost:8080/",
          "height": 52
        }
      },
      "source": [
        "#size = n = 14, y prob = p = 0.5 ?\n",
        "dbinom(4, 14,0.5)# 6% de prob de obtener 4 caras\n",
        "pbinom(9, 14,0.5,lower.tail = F)# 9% de prob de obtener al menos 10.\n"
      ],
      "execution_count": null,
      "outputs": [
        {
          "output_type": "display_data",
          "data": {
            "text/html": [
              "0.0610961914062499"
            ],
            "text/markdown": "0.0610961914062499",
            "text/latex": "0.0610961914062499",
            "text/plain": [
              "[1] 0.06109619"
            ]
          },
          "metadata": {}
        },
        {
          "output_type": "display_data",
          "data": {
            "text/html": [
              "0.08978271484375"
            ],
            "text/markdown": "0.08978271484375",
            "text/latex": "0.08978271484375",
            "text/plain": [
              "[1] 0.08978271"
            ]
          },
          "metadata": {}
        }
      ]
    },
    {
      "cell_type": "markdown",
      "metadata": {
        "id": "AlXH-gaYIzQY"
      },
      "source": [
        "\n",
        "**b)** Si se repite el experimento 1000 veces.\n",
        "\n",
        "\n",
        "*   ¿Qué proporción de caras se debería esperar? aprox.\n",
        "*   ¿En qué % de casos se obtuvo exactamente 4 caras?\n",
        "\n"
      ]
    },
    {
      "cell_type": "code",
      "metadata": {
        "trusted": true,
        "id": "bVAWrKGZIzQY"
      },
      "source": [
        "# simulamos un experimento binomial\n",
        "set.seed(2019)\n",
        "N <- 10000\n",
        "caras <- rbinom(N, 14,0.5)\n",
        "\n"
      ],
      "execution_count": null,
      "outputs": []
    },
    {
      "cell_type": "code",
      "source": [
        "caras"
      ],
      "metadata": {
        "id": "zEYjxBtakD9O",
        "outputId": "c86d195b-2daf-4cb1-9550-c5c852527aa6",
        "colab": {
          "base_uri": "https://localhost:8080/",
          "height": 173
        }
      },
      "execution_count": null,
      "outputs": [
        {
          "output_type": "display_data",
          "data": {
            "text/html": [
              "<style>\n",
              ".list-inline {list-style: none; margin:0; padding: 0}\n",
              ".list-inline>li {display: inline-block}\n",
              ".list-inline>li:not(:last-child)::after {content: \"\\00b7\"; padding: 0 .5ex}\n",
              "</style>\n",
              "<ol class=list-inline><li>8</li><li>8</li><li>6</li><li>8</li><li>4</li><li>4</li><li>9</li><li>3</li><li>5</li><li>8</li><li>8</li><li>8</li><li>6</li><li>5</li><li>8</li><li>8</li><li>4</li><li>8</li><li>6</li><li>7</li><li>7</li><li>7</li><li>10</li><li>5</li><li>5</li><li>3</li><li>7</li><li>10</li><li>8</li><li>7</li><li>8</li><li>3</li><li>9</li><li>5</li><li>4</li><li>4</li><li>6</li><li>7</li><li>3</li><li>8</li><li>8</li><li>6</li><li>9</li><li>8</li><li>9</li><li>7</li><li>10</li><li>10</li><li>5</li><li>5</li><li>6</li><li>4</li><li>4</li><li>6</li><li>7</li><li>6</li><li>12</li><li>10</li><li>4</li><li>4</li><li>5</li><li>6</li><li>8</li><li>6</li><li>8</li><li>11</li><li>6</li><li>4</li><li>9</li><li>7</li><li>6</li><li>5</li><li>6</li><li>5</li><li>7</li><li>12</li><li>5</li><li>7</li><li>6</li><li>8</li><li>4</li><li>10</li><li>10</li><li>6</li><li>7</li><li>5</li><li>7</li><li>7</li><li>8</li><li>6</li><li>7</li><li>8</li><li>9</li><li>5</li><li>7</li><li>9</li><li>7</li><li>10</li><li>6</li><li>10</li><li>7</li><li>9</li><li>7</li><li>9</li><li>6</li><li>8</li><li>6</li><li>7</li><li>5</li><li>4</li><li>6</li><li>11</li><li>6</li><li>7</li><li>9</li><li>10</li><li>7</li><li>6</li><li>9</li><li>4</li><li>5</li><li>11</li><li>6</li><li>4</li><li>8</li><li>9</li><li>10</li><li>9</li><li>6</li><li>5</li><li>5</li><li>5</li><li>6</li><li>7</li><li>6</li><li>6</li><li>8</li><li>7</li><li>7</li><li>6</li><li>8</li><li>6</li><li>8</li><li>8</li><li>6</li><li>8</li><li>10</li><li>6</li><li>11</li><li>6</li><li>7</li><li>2</li><li>5</li><li>6</li><li>7</li><li>6</li><li>8</li><li>9</li><li>7</li><li>8</li><li>5</li><li>7</li><li>7</li><li>7</li><li>9</li><li>7</li><li>7</li><li>7</li><li>6</li><li>7</li><li>6</li><li>7</li><li>7</li><li>9</li><li>7</li><li>7</li><li>6</li><li>7</li><li>9</li><li>5</li><li>8</li><li>8</li><li>6</li><li>7</li><li>5</li><li>6</li><li>6</li><li>6</li><li>7</li><li>7</li><li>7</li><li>9</li><li>7</li><li>7</li><li>6</li><li>8</li><li>6</li><li>8</li><li>6</li><li>5</li><li>⋯</li><li>5</li><li>8</li><li>8</li><li>6</li><li>6</li><li>4</li><li>9</li><li>5</li><li>6</li><li>4</li><li>4</li><li>5</li><li>11</li><li>5</li><li>7</li><li>7</li><li>2</li><li>6</li><li>11</li><li>4</li><li>9</li><li>4</li><li>13</li><li>7</li><li>7</li><li>8</li><li>8</li><li>5</li><li>5</li><li>6</li><li>4</li><li>5</li><li>3</li><li>10</li><li>8</li><li>4</li><li>9</li><li>6</li><li>7</li><li>5</li><li>8</li><li>6</li><li>6</li><li>8</li><li>5</li><li>10</li><li>4</li><li>9</li><li>7</li><li>11</li><li>5</li><li>4</li><li>10</li><li>6</li><li>8</li><li>8</li><li>5</li><li>7</li><li>8</li><li>8</li><li>4</li><li>11</li><li>8</li><li>10</li><li>6</li><li>8</li><li>4</li><li>7</li><li>11</li><li>8</li><li>7</li><li>8</li><li>9</li><li>11</li><li>7</li><li>8</li><li>4</li><li>7</li><li>9</li><li>8</li><li>5</li><li>10</li><li>6</li><li>8</li><li>7</li><li>9</li><li>8</li><li>8</li><li>7</li><li>7</li><li>9</li><li>7</li><li>7</li><li>5</li><li>7</li><li>9</li><li>3</li><li>6</li><li>11</li><li>6</li><li>7</li><li>7</li><li>8</li><li>6</li><li>7</li><li>4</li><li>9</li><li>7</li><li>8</li><li>4</li><li>8</li><li>5</li><li>5</li><li>7</li><li>6</li><li>4</li><li>6</li><li>4</li><li>2</li><li>7</li><li>7</li><li>3</li><li>8</li><li>6</li><li>11</li><li>6</li><li>9</li><li>5</li><li>6</li><li>7</li><li>7</li><li>10</li><li>6</li><li>7</li><li>8</li><li>5</li><li>6</li><li>4</li><li>6</li><li>6</li><li>5</li><li>7</li><li>9</li><li>7</li><li>9</li><li>6</li><li>11</li><li>9</li><li>7</li><li>5</li><li>7</li><li>7</li><li>6</li><li>5</li><li>3</li><li>6</li><li>7</li><li>7</li><li>6</li><li>7</li><li>6</li><li>9</li><li>8</li><li>6</li><li>6</li><li>10</li><li>6</li><li>6</li><li>6</li><li>5</li><li>4</li><li>9</li><li>9</li><li>8</li><li>5</li><li>4</li><li>8</li><li>4</li><li>6</li><li>5</li><li>9</li><li>6</li><li>7</li><li>7</li><li>7</li><li>5</li><li>8</li><li>5</li><li>7</li><li>6</li><li>8</li><li>9</li><li>6</li><li>9</li><li>11</li><li>11</li><li>9</li><li>5</li><li>6</li><li>6</li></ol>\n"
            ],
            "text/markdown": "1. 8\n2. 8\n3. 6\n4. 8\n5. 4\n6. 4\n7. 9\n8. 3\n9. 5\n10. 8\n11. 8\n12. 8\n13. 6\n14. 5\n15. 8\n16. 8\n17. 4\n18. 8\n19. 6\n20. 7\n21. 7\n22. 7\n23. 10\n24. 5\n25. 5\n26. 3\n27. 7\n28. 10\n29. 8\n30. 7\n31. 8\n32. 3\n33. 9\n34. 5\n35. 4\n36. 4\n37. 6\n38. 7\n39. 3\n40. 8\n41. 8\n42. 6\n43. 9\n44. 8\n45. 9\n46. 7\n47. 10\n48. 10\n49. 5\n50. 5\n51. 6\n52. 4\n53. 4\n54. 6\n55. 7\n56. 6\n57. 12\n58. 10\n59. 4\n60. 4\n61. 5\n62. 6\n63. 8\n64. 6\n65. 8\n66. 11\n67. 6\n68. 4\n69. 9\n70. 7\n71. 6\n72. 5\n73. 6\n74. 5\n75. 7\n76. 12\n77. 5\n78. 7\n79. 6\n80. 8\n81. 4\n82. 10\n83. 10\n84. 6\n85. 7\n86. 5\n87. 7\n88. 7\n89. 8\n90. 6\n91. 7\n92. 8\n93. 9\n94. 5\n95. 7\n96. 9\n97. 7\n98. 10\n99. 6\n100. 10\n101. 7\n102. 9\n103. 7\n104. 9\n105. 6\n106. 8\n107. 6\n108. 7\n109. 5\n110. 4\n111. 6\n112. 11\n113. 6\n114. 7\n115. 9\n116. 10\n117. 7\n118. 6\n119. 9\n120. 4\n121. 5\n122. 11\n123. 6\n124. 4\n125. 8\n126. 9\n127. 10\n128. 9\n129. 6\n130. 5\n131. 5\n132. 5\n133. 6\n134. 7\n135. 6\n136. 6\n137. 8\n138. 7\n139. 7\n140. 6\n141. 8\n142. 6\n143. 8\n144. 8\n145. 6\n146. 8\n147. 10\n148. 6\n149. 11\n150. 6\n151. 7\n152. 2\n153. 5\n154. 6\n155. 7\n156. 6\n157. 8\n158. 9\n159. 7\n160. 8\n161. 5\n162. 7\n163. 7\n164. 7\n165. 9\n166. 7\n167. 7\n168. 7\n169. 6\n170. 7\n171. 6\n172. 7\n173. 7\n174. 9\n175. 7\n176. 7\n177. 6\n178. 7\n179. 9\n180. 5\n181. 8\n182. 8\n183. 6\n184. 7\n185. 5\n186. 6\n187. 6\n188. 6\n189. 7\n190. 7\n191. 7\n192. 9\n193. 7\n194. 7\n195. 6\n196. 8\n197. 6\n198. 8\n199. 6\n200. 5\n201. ⋯\n202. 5\n203. 8\n204. 8\n205. 6\n206. 6\n207. 4\n208. 9\n209. 5\n210. 6\n211. 4\n212. 4\n213. 5\n214. 11\n215. 5\n216. 7\n217. 7\n218. 2\n219. 6\n220. 11\n221. 4\n222. 9\n223. 4\n224. 13\n225. 7\n226. 7\n227. 8\n228. 8\n229. 5\n230. 5\n231. 6\n232. 4\n233. 5\n234. 3\n235. 10\n236. 8\n237. 4\n238. 9\n239. 6\n240. 7\n241. 5\n242. 8\n243. 6\n244. 6\n245. 8\n246. 5\n247. 10\n248. 4\n249. 9\n250. 7\n251. 11\n252. 5\n253. 4\n254. 10\n255. 6\n256. 8\n257. 8\n258. 5\n259. 7\n260. 8\n261. 8\n262. 4\n263. 11\n264. 8\n265. 10\n266. 6\n267. 8\n268. 4\n269. 7\n270. 11\n271. 8\n272. 7\n273. 8\n274. 9\n275. 11\n276. 7\n277. 8\n278. 4\n279. 7\n280. 9\n281. 8\n282. 5\n283. 10\n284. 6\n285. 8\n286. 7\n287. 9\n288. 8\n289. 8\n290. 7\n291. 7\n292. 9\n293. 7\n294. 7\n295. 5\n296. 7\n297. 9\n298. 3\n299. 6\n300. 11\n301. 6\n302. 7\n303. 7\n304. 8\n305. 6\n306. 7\n307. 4\n308. 9\n309. 7\n310. 8\n311. 4\n312. 8\n313. 5\n314. 5\n315. 7\n316. 6\n317. 4\n318. 6\n319. 4\n320. 2\n321. 7\n322. 7\n323. 3\n324. 8\n325. 6\n326. 11\n327. 6\n328. 9\n329. 5\n330. 6\n331. 7\n332. 7\n333. 10\n334. 6\n335. 7\n336. 8\n337. 5\n338. 6\n339. 4\n340. 6\n341. 6\n342. 5\n343. 7\n344. 9\n345. 7\n346. 9\n347. 6\n348. 11\n349. 9\n350. 7\n351. 5\n352. 7\n353. 7\n354. 6\n355. 5\n356. 3\n357. 6\n358. 7\n359. 7\n360. 6\n361. 7\n362. 6\n363. 9\n364. 8\n365. 6\n366. 6\n367. 10\n368. 6\n369. 6\n370. 6\n371. 5\n372. 4\n373. 9\n374. 9\n375. 8\n376. 5\n377. 4\n378. 8\n379. 4\n380. 6\n381. 5\n382. 9\n383. 6\n384. 7\n385. 7\n386. 7\n387. 5\n388. 8\n389. 5\n390. 7\n391. 6\n392. 8\n393. 9\n394. 6\n395. 9\n396. 11\n397. 11\n398. 9\n399. 5\n400. 6\n401. 6\n\n\n",
            "text/latex": "\\begin{enumerate*}\n\\item 8\n\\item 8\n\\item 6\n\\item 8\n\\item 4\n\\item 4\n\\item 9\n\\item 3\n\\item 5\n\\item 8\n\\item 8\n\\item 8\n\\item 6\n\\item 5\n\\item 8\n\\item 8\n\\item 4\n\\item 8\n\\item 6\n\\item 7\n\\item 7\n\\item 7\n\\item 10\n\\item 5\n\\item 5\n\\item 3\n\\item 7\n\\item 10\n\\item 8\n\\item 7\n\\item 8\n\\item 3\n\\item 9\n\\item 5\n\\item 4\n\\item 4\n\\item 6\n\\item 7\n\\item 3\n\\item 8\n\\item 8\n\\item 6\n\\item 9\n\\item 8\n\\item 9\n\\item 7\n\\item 10\n\\item 10\n\\item 5\n\\item 5\n\\item 6\n\\item 4\n\\item 4\n\\item 6\n\\item 7\n\\item 6\n\\item 12\n\\item 10\n\\item 4\n\\item 4\n\\item 5\n\\item 6\n\\item 8\n\\item 6\n\\item 8\n\\item 11\n\\item 6\n\\item 4\n\\item 9\n\\item 7\n\\item 6\n\\item 5\n\\item 6\n\\item 5\n\\item 7\n\\item 12\n\\item 5\n\\item 7\n\\item 6\n\\item 8\n\\item 4\n\\item 10\n\\item 10\n\\item 6\n\\item 7\n\\item 5\n\\item 7\n\\item 7\n\\item 8\n\\item 6\n\\item 7\n\\item 8\n\\item 9\n\\item 5\n\\item 7\n\\item 9\n\\item 7\n\\item 10\n\\item 6\n\\item 10\n\\item 7\n\\item 9\n\\item 7\n\\item 9\n\\item 6\n\\item 8\n\\item 6\n\\item 7\n\\item 5\n\\item 4\n\\item 6\n\\item 11\n\\item 6\n\\item 7\n\\item 9\n\\item 10\n\\item 7\n\\item 6\n\\item 9\n\\item 4\n\\item 5\n\\item 11\n\\item 6\n\\item 4\n\\item 8\n\\item 9\n\\item 10\n\\item 9\n\\item 6\n\\item 5\n\\item 5\n\\item 5\n\\item 6\n\\item 7\n\\item 6\n\\item 6\n\\item 8\n\\item 7\n\\item 7\n\\item 6\n\\item 8\n\\item 6\n\\item 8\n\\item 8\n\\item 6\n\\item 8\n\\item 10\n\\item 6\n\\item 11\n\\item 6\n\\item 7\n\\item 2\n\\item 5\n\\item 6\n\\item 7\n\\item 6\n\\item 8\n\\item 9\n\\item 7\n\\item 8\n\\item 5\n\\item 7\n\\item 7\n\\item 7\n\\item 9\n\\item 7\n\\item 7\n\\item 7\n\\item 6\n\\item 7\n\\item 6\n\\item 7\n\\item 7\n\\item 9\n\\item 7\n\\item 7\n\\item 6\n\\item 7\n\\item 9\n\\item 5\n\\item 8\n\\item 8\n\\item 6\n\\item 7\n\\item 5\n\\item 6\n\\item 6\n\\item 6\n\\item 7\n\\item 7\n\\item 7\n\\item 9\n\\item 7\n\\item 7\n\\item 6\n\\item 8\n\\item 6\n\\item 8\n\\item 6\n\\item 5\n\\item ⋯\n\\item 5\n\\item 8\n\\item 8\n\\item 6\n\\item 6\n\\item 4\n\\item 9\n\\item 5\n\\item 6\n\\item 4\n\\item 4\n\\item 5\n\\item 11\n\\item 5\n\\item 7\n\\item 7\n\\item 2\n\\item 6\n\\item 11\n\\item 4\n\\item 9\n\\item 4\n\\item 13\n\\item 7\n\\item 7\n\\item 8\n\\item 8\n\\item 5\n\\item 5\n\\item 6\n\\item 4\n\\item 5\n\\item 3\n\\item 10\n\\item 8\n\\item 4\n\\item 9\n\\item 6\n\\item 7\n\\item 5\n\\item 8\n\\item 6\n\\item 6\n\\item 8\n\\item 5\n\\item 10\n\\item 4\n\\item 9\n\\item 7\n\\item 11\n\\item 5\n\\item 4\n\\item 10\n\\item 6\n\\item 8\n\\item 8\n\\item 5\n\\item 7\n\\item 8\n\\item 8\n\\item 4\n\\item 11\n\\item 8\n\\item 10\n\\item 6\n\\item 8\n\\item 4\n\\item 7\n\\item 11\n\\item 8\n\\item 7\n\\item 8\n\\item 9\n\\item 11\n\\item 7\n\\item 8\n\\item 4\n\\item 7\n\\item 9\n\\item 8\n\\item 5\n\\item 10\n\\item 6\n\\item 8\n\\item 7\n\\item 9\n\\item 8\n\\item 8\n\\item 7\n\\item 7\n\\item 9\n\\item 7\n\\item 7\n\\item 5\n\\item 7\n\\item 9\n\\item 3\n\\item 6\n\\item 11\n\\item 6\n\\item 7\n\\item 7\n\\item 8\n\\item 6\n\\item 7\n\\item 4\n\\item 9\n\\item 7\n\\item 8\n\\item 4\n\\item 8\n\\item 5\n\\item 5\n\\item 7\n\\item 6\n\\item 4\n\\item 6\n\\item 4\n\\item 2\n\\item 7\n\\item 7\n\\item 3\n\\item 8\n\\item 6\n\\item 11\n\\item 6\n\\item 9\n\\item 5\n\\item 6\n\\item 7\n\\item 7\n\\item 10\n\\item 6\n\\item 7\n\\item 8\n\\item 5\n\\item 6\n\\item 4\n\\item 6\n\\item 6\n\\item 5\n\\item 7\n\\item 9\n\\item 7\n\\item 9\n\\item 6\n\\item 11\n\\item 9\n\\item 7\n\\item 5\n\\item 7\n\\item 7\n\\item 6\n\\item 5\n\\item 3\n\\item 6\n\\item 7\n\\item 7\n\\item 6\n\\item 7\n\\item 6\n\\item 9\n\\item 8\n\\item 6\n\\item 6\n\\item 10\n\\item 6\n\\item 6\n\\item 6\n\\item 5\n\\item 4\n\\item 9\n\\item 9\n\\item 8\n\\item 5\n\\item 4\n\\item 8\n\\item 4\n\\item 6\n\\item 5\n\\item 9\n\\item 6\n\\item 7\n\\item 7\n\\item 7\n\\item 5\n\\item 8\n\\item 5\n\\item 7\n\\item 6\n\\item 8\n\\item 9\n\\item 6\n\\item 9\n\\item 11\n\\item 11\n\\item 9\n\\item 5\n\\item 6\n\\item 6\n\\end{enumerate*}\n",
            "text/plain": [
              "    [1]  8  8  6  8  4  4  9  3  5  8  8  8  6  5  8  8  4  8  6  7  7  7 10  5\n",
              "   [25]  5  3  7 10  8  7  8  3  9  5  4  4  6  7  3  8  8  6  9  8  9  7 10 10\n",
              "   [49]  5  5  6  4  4  6  7  6 12 10  4  4  5  6  8  6  8 11  6  4  9  7  6  5\n",
              "   [73]  6  5  7 12  5  7  6  8  4 10 10  6  7  5  7  7  8  6  7  8  9  5  7  9\n",
              "   [97]  7 10  6 10  7  9  7  9  6  8  6  7  5  4  6 11  6  7  9 10  7  6  9  4\n",
              "  [121]  5 11  6  4  8  9 10  9  6  5  5  5  6  7  6  6  8  7  7  6  8  6  8  8\n",
              "  [145]  6  8 10  6 11  6  7  2  5  6  7  6  8  9  7  8  5  7  7  7  9  7  7  7\n",
              "  [169]  6  7  6  7  7  9  7  7  6  7  9  5  8  8  6  7  5  6  6  6  7  7  7  9\n",
              "  [193]  7  7  6  8  6  8  6  5  5  8  9 10  6  9  7  8  4  5 10  8  8  5  8  8\n",
              "  [217]  8  7  2  5  5  8  7  3  6  8  6  8  9  6  5  7  7  8  6  9  3  7  5  4\n",
              "  [241]  8 10  9  9  2  8  4  7  7  7  8  4  6 10  6  6  6  6  5  6  9  6  9  8\n",
              "  [265] 11  7  9  6  7  6  4  7  7  5  8  5 10  6  7  5  7  6  8  7  9  7  7  4\n",
              "  [289]  4  9  9  9 10 10  8  5  6  8  5  6  6  7  7  4  6  4  4  7 11  8  5  8\n",
              "  [313]  5  6  7  4  7  5  8  6  4  6  5  9  7  6  8  7  3  7  6  8  4  7  7  4\n",
              "  [337]  9  7  7  6  7  7  5 11  7 10  5  5  6  6  9  7  6  4  9 10  8  8  7  6\n",
              "  [361]  7  9  8  5  6  7  5  6  6  9  8 10  5  5  7  6  7  8  2  6  7  7  9  9\n",
              "  [385]  6  5  6  7  8  7  7  6  6  7  6  4  9  8  4  4  8 10  6  6  9  8  4  7\n",
              "  [409]  9  9  6  6  4 10  8  8  6  9  8  4  9  6  7  4  5  7  3  8  7  9  8  7\n",
              "  [433]  7  9  6  3  9  3  5  5  6  6  8  5  4  9  9  7  6  7  6  6  4  6  9  8\n",
              "  [457] 10 10  8  8  6  9  8  6  6  6  7  3  4  8 11  6  6  6  7  9 10  6  3  6\n",
              "  [481]  6  4  7 10  6  5  7  5  7  5  6  8  9  9  7  8  8  7  4 10  7  6  9  8\n",
              "  [505]  9 10  8  7  7  7  5  8  9  8  6  5 10  5  6 11  7  7  4  7  5  7  7  4\n",
              "  [529]  6 10  5  7  6  8  9  8  6 10  7  9 10  8  7 10  6  9  9  6  6  4  7  8\n",
              "  [553]  5  6  6  8  4  8  5  7 11  7  5  9  7 10  5 10  5  7 11 10  4  7  8  8\n",
              "  [577]  5  7  6  6  6  5  5  7  6  9  6  5  8  4  7  8  5  6  7  3  8  5  9  5\n",
              "  [601]  7  6  7  8  8  5  8  7  7  7  8  7  2 10  4  5  9  9 10  9  6  4  8  5\n",
              "  [625]  7  7  8  5  6  8  6  6  7  8  9  5  4  7  3  9  4  8  8  5  8  9  9  5\n",
              "  [649]  6 10  8  6  6  4  3  8  6  6  5  5  4  7  5 10  4  6  8  7  9  6  9  3\n",
              "  [673]  5  9 10 10  6  7  7 10  3 11  9  9  5  7  9  7  6  5  7  8  3  5  6 10\n",
              "  [697]  8  7  9  8  9  6  9  6 10  9  6  7  5 11  7  6  6  3  6  7  5  6  6  6\n",
              "  [721]  6  8  7  6  6  6  6  7  8  7  7  3  6  4  7 10 11  8  7  6  9  7  6  8\n",
              "  [745]  6  9  8  8  7  5  9  6  6  8  6  7  5  7  8  8 10  7 10  5  7  5  8  6\n",
              "  [769] 11  5  7  8  6  7  6  9  7  7  6  8  8  9  7  9  8  6  8  9  7  6  7  4\n",
              "  [793]  9  8  9  8  7  8  4  5  5  8  7  6 11  6  7  6  3  8  7  5  4  4  5  9\n",
              "  [817]  7  4  5  7  4  3  9  4  9  6  5  4  6  7  7 11  7  9 11  8  3  8  5  5\n",
              "  [841] 10  8  7  9  4  8  9  4  9  8  8  9  9  6  6  8 10  8  7  9  5  7  6  7\n",
              "  [865]  8  9  7 10  5  8  7  8  5  8  8  6  3  3  7  8  5  6  8  7  6  7  9  4\n",
              "  [889]  9  5  6 11  3  6  5  4  6 10  3  8  2  8  6  5  8  6  7  6  4  7  9  7\n",
              "  [913]  8  7  9  7  8  8  5  9  5  4  4  9  9  7  8  7  6  8  9  6  8  6  5  9\n",
              "  [937]  9  8  8  6  8  8  7  6  6 10  7  7 12  4  9  6  8  6  7  7 10  7  6  9\n",
              "  [961]  4  6  6  7  7 12  9  5  7  7  8  5  8  7 13  7  5  8  6  8 10  6  4  7\n",
              "  [985]  6  5  5  6  7  4 10  7  5  4  4  8  6  8  8  6  6  5  8  5  7  7  4  8\n",
              " [1009]  7  7  9  7  7  8  8  7  4 10  6  6  8  9  7  7 10 10  5  8  9  4  6  9\n",
              " [1033]  5  8  5  8  6  6  9  7  7  6  5  3 11  8  9  3 12  4  5  7  7  7  4  9\n",
              " [1057]  8  8  4  4  9  8  6 10  6  4  6 10  6  6  8  8  8  8  6  7 10  6  3  8\n",
              " [1081]  8  8  6  5  9  6  5  2 10  8  7  5  7  2  7  5  9  4  5 10  7  4  5  7\n",
              " [1105]  8  7  8  6 12  6  8  6  6  7  4  7  8  9  7  6  4  9  4  7  6  8  9 10\n",
              " [1129]  6  7  4  7  7  7 10  8  8  7  6  6  9 10  8  6 10  9  8  7  7  9 10  8\n",
              " [1153]  7  7  8  4  7 10  6  4  6  8  7  9  8  9  7  9  5  6  9  6  4  6  7  9\n",
              " [1177]  5  6  8 10  9  5  7  7  9  7  5  7 10  6  4  7  7  8  6  7  4  6  6  7\n",
              " [1201]  7  7  7  5  7  9  7  7  6  5  6  6  8  6  7  5  8  7  7  7  7  5  7 11\n",
              " [1225]  7  6  8  5  6  8  7 11  8  4  7  9  7  5  5  5 11  7  6  7  8  7  3  7\n",
              " [1249]  5  7  6  9  7  4  9  7  9  5  6  7  5  7  8  6  4  3  3 10  7  8  8 11\n",
              " [1273]  7 11  6  5  8  7  6  5  7  7  4  8  4  6  9  9  5  5  3  7  5  5  7  6\n",
              " [1297]  7  7  7  6  9 10  7  7  4  8  6  4  8 10  7 12  5  7  7  8  8  8  7  6\n",
              " [1321]  9  7  6  6  8  7  8  5  9  7  8  4 10  8  9  4  6  8 10  5  6  9  7  5\n",
              " [1345]  9  7 10  5  4  8  9  7  6  4  6  7  5  8  8  7  7  6  9  7  6  5  7  9\n",
              " [1369]  6  6  5  9  7  8  8  6  6  8  6  8  7  7  6  9  6  7  6  8  5  8  6  9\n",
              " [1393]  8  7  8 11  3  9  6  9  5 10  5  4  9 11  6  7  9  8  6  8  7  8  7  6\n",
              " [1417]  7  5  5  7  8  7  6  9  7  7  9 11  8  8  8 10  7  8  9  7  8  7  7  9\n",
              " [1441] 10 10  5 10  9  5  6  6  5  9  5  6  3  4  4  7  8  8  7  7  4 10 10  6\n",
              " [1465]  6  3  5  5  5  7  5  8  9  9  6  6  9  8  8  8 10  8  7  5  7  4  6  6\n",
              " [1489]  7  3  6  7  7  5  9  8  8 10 10  8  7  9  8  7  5  6  5  9  4 11  8  6\n",
              " [1513]  6  5  7  7  7  9  8  8  9  4  6  6  5  7 10  6  8  4  7  1  6  3 10  7\n",
              " [1537]  6 10  8  7  7  8  8 10  9  5  6  8  6  8  7  6  2  7  5  8  4  7  9  9\n",
              " [1561] 10  7  9  6  9  9  7  6  7  7  6  7  6  9  8  7  9  4  5  7  1  5  6  9\n",
              " [1585]  6  5  7  7  8  6  7  3  7  9  6  9  6  5  5  7  8  3  9  6  5  7  6  9\n",
              " [1609]  5  6  9  8  8 11  7  8 10  6  7  5  8 10 10  6  7  5  8  4 11  7  7 10\n",
              " [1633]  7  6  7  6  7  3  9  3  8  7  7  7  6  5  5  5  5  4  7  7  4  8  7 10\n",
              " [1657]  8  6  9  6  3  8  6  6  7  7  8  7  5  6  7  8  6  3  7  6  9  8  6  8\n",
              " [1681]  9  6  6  7  8  9  3  4  5 10  6  7  8  7  3  9  6  5  7  6  7  8  8  8\n",
              " [1705]  3  8  8  9  6  9  8  9 11  6  7  7  6  7  5  5  6  7  9  6  8 10  9  7\n",
              " [1729]  8  7  4  8  9  7  9  8 10 11  6  5  5  5  8  5  7  8  6  3  7  7  7  7\n",
              " [1753]  7  8 10  9  6 10  5  8  6  7  5  8  6  7  7 10 11 11  8  7  6  6  6  6\n",
              " [1777]  8  7  9  8  6  8  9 10  8 10  5  6  6  1 11  8  3  7 11 10  5  6  7  7\n",
              " [1801]  5 10  8  6  7  6 11  4  6  4  7  7  5  7  3  4  6  8  4  8  5  7  6 10\n",
              " [1825]  5  9  7  6  6  9  6  8  6  6  8  7  4  8  7 10  8  9  7  5  9  5  9  6\n",
              " [1849]  8 10  8  4  6  8  6  7  6  9  6  4  1  6  6  8  6  7  6  6  6  5  7 10\n",
              " [1873]  5  7  7  7  6  7  7  3  7  9 13 12  6  7  9  8  5  9  7  7  6  3  3  6\n",
              " [1897]  8  6  6  7 11  4  6  9 10 10  7  7  8  9  9  7 10 10  7  5  8  8  7 10\n",
              " [1921] 11  9  8 11  9  7 10  6  5  7  6  7  5 10  8  5  4  7  8  8  7  9  6  5\n",
              " [1945]  4  8  8  6  7  9  5  9  9  7 11 11  6 11 10  7  2  8  3  4  4  6  6  7\n",
              " [1969]  8  8  9  5  6  4  6  8 11  6  9  7  7  8  6  6  5  9 10  7  6  5  6 10\n",
              " [1993]  5  5  9  6  6  9  9  9 10  1  8  9  6  9  7  8  8  7  9  6  6  6  8  7\n",
              " [2017]  6  8  7  4 10  6  7  9 10 10  5  7  5  7  9  4  5  7  5  5 12  9 10  6\n",
              " [2041]  7  9  4  7  7  7  6  7 10  7 10  8 10  7  9  8  7  7  5  8  8  7  6  5\n",
              " [2065]  4  5  6  8  8  6  8  4  7  8  8  8  6  6  8  7  7  3  3  8 10  7  5  8\n",
              " [2089]  4  5  7  9  7  6  5  7  7  9  6  8  4  5  8  7  9  5  6  6  8  6  8  7\n",
              " [2113]  7  9  7  9  8  4  6  7  9  9  8  7  7  6  6  5  9  8  6  7  7  5  8  8\n",
              " [2137]  8  6  7  8  6  6  5 10  8  6  7  5  5  8  7  2 10  6  8  5  9  8  6  9\n",
              " [2161]  7  8  8  4  8  1  5  8  6  9 10  8  9  8  5  6  6  5  9  6  6  5 10  8\n",
              " [2185]  9  9  8 10 12  7  8  4  9  9  7  4  8 11  8  7  7  7  6 10  9  8  7 11\n",
              " [2209]  8  5  7  8  7  8  7  7  3  8  7  5  7 11  6  7  9  9  8 10  6  8 12  7\n",
              " [2233]  9  7  4  7  5  4  5  7  4  4  8  7  7  5  8  7 10 10  7  8  3  8  7 12\n",
              " [2257]  7  4 10  5  7  5  8  9  8  8  9  5  9  6  9  6  6  7  7 10  8  8  7  6\n",
              " [2281]  4  9  8  7  5  7  6  8  7  6  5  8 10  7  5  5  7  7  6  7  5  7  8  4\n",
              " [2305]  9  8  4  5  8  7  8  4 10  8  5  8  7  8  6  9  3 10  9  6  7  7  6 10\n",
              " [2329]  8  8  9  7  6  7  8  4  7  8  5  7  5  8  7  4  7  7  7  8  7  3  6  7\n",
              " [2353]  6  7  2  7  7  8  8  7  4  8  8  7  6  3  7  9  9  5  6  6  5  6  8 10\n",
              " [2377]  9  7 10  7  2  5  6  6  5  9 10  7  6  6  5  3  6  6  5  9  6  6  8  8\n",
              " [2401]  9  6  8  8 10  7  9  8  9  5 10  4  5  6  5  9  9  7  8  7  8  6  7 10\n",
              " [2425]  9  9  5  6  9  8  8  8  8  4  8  7  9  9  5  9  6  4  9  7  9  8  8  6\n",
              " [2449]  4  8  7 10  4  9  4  8  7  7  8  7  9  7  9  6  8  6  7  7  6  5  9 11\n",
              " [2473] 12 10  8  6 11  8  8  8  8  8 10  8  8  5  7  4  5  7  8  9 11  8  8  6\n",
              " [2497]  8  4  5  4  4  7 10  8  7  9  7  7  5  9  5  9  5  6  8  6  7  8  8  7\n",
              " [2521]  9  7  6  7  5  7 10  9  6  7  8  7  9  5  7  5  4  8  7  5  9  6  7  7\n",
              " [2545]  7  7  5  4  8  8  6  6  8  9  4  7  9  6  8  7  7  6  6  9  6  5  8  9\n",
              " [2569]  6  8  9  5  3  4  8  5  9  7  7  6  7  9  8  6  7  6  8  3  9  6  5  5\n",
              " [2593]  9  9  4 10  8  7  7  6  7  5  8  6  8 11  5  7  8  6 10 10  8  5  6  6\n",
              " [2617]  5  9  5  9  5  7  7  4  8  7  7  8  6  9  9  7  8  8  6  6  9  5  6  8\n",
              " [2641]  9  6  7  5  8  6  4  8  3  7  5  7  9 12  6  5  9  7 10  7  5  7 10  7\n",
              " [2665]  8  6  8  5  6  8  8  6  5  7  7  5  6  2  7  5  3  1  5  9  7  8  6  9\n",
              " [2689]  7  8  8 11  6  5  9  5  6  5 11  9  9  7  8  6  5  5  6  7  7  8  6  8\n",
              " [2713]  7  9  9  7  5  8  9  6  7  4 10  9  6  5  8 11 11  7  6  7 10  7  6  4\n",
              " [2737]  7  7  6  7  8 12  7  7  7  6  8  5  4  4  6  8  8  6  8  7  7  6  8  7\n",
              " [2761]  8  9  7  9  6  6  9  8  4  7  8 10  8  6  5  8  8  8  3  6  7  8  6  7\n",
              " [2785]  7  7 10  9  6  6  7 10  6  2  8  6 10  7  9  8  4 10  8  8  6  7  6  7\n",
              " [2809]  5  7  8  8  7  5  5  7  6  9  6 12  6  8  6  6  7 10  5  9  6  7  8 10\n",
              " [2833]  7  4  5  8  8  5  7  5  7  7  7 10  5 10  7  7  7  7  5  4 10  8  6 10\n",
              " [2857]  6  7  7  7  8  9  7 10  8  9  8 11  7  8  5  6  3  6  7  7  9  9  7  6\n",
              " [2881]  7  7  8 11  7  5  4  8  4  6  4  4  5  8  6  8  6  7  7  5  6  3  6  5\n",
              " [2905]  5  7  5 10  8  3  6 10 10 10  6  6  5  6  8  5  4 10  4  8 10  6  9  8\n",
              " [2929]  9  9  9  5 11  6  4  8  8 10  7  5 10  7 10  6  9  5  9  6  7 10 11  6\n",
              " [2953]  6  8  3  9  8 10  8  6  8  8  8  9  9  7  7  5  7 11  7  6  6  6  5 10\n",
              " [2977]  5  7 12  6  9  7 10 10  7  8  8  8  8  6  9 10  4  7  8  7  7  6 10  7\n",
              " [3001] 11  6  9  8  6  7  8  4  5  6  9  8  6  9  5 10  9  7  8  5  8  8 10 10\n",
              " [3025]  8  6  3  5  9  7  8  8  9  7  8  8  4 10  8  7  9  6  4  4  8  5  8  8\n",
              " [3049]  5  9  9  5  5  8 10  6  5  5  6  9  6  3  9  6  9  5  5  5  6  8  4  7\n",
              " [3073]  9  8  7  6  3  5 10 10  8 10 11  7  9  6  8  6  6  9  7  7  8  7  7  5\n",
              " [3097]  4  7 10  8  4  9  7  9  7 11  6  5  7 11  7  7  9  8  9  6  9  8  6  7\n",
              " [3121]  7  6  7 10  7  8  3  7  4  7  7  6 10 11  8  8  7  7  6  6  4  8  8  8\n",
              " [3145]  6  8  6  3  7  5  4  8  3  8  4  4  8  9  4  9  3  3  5  5  8  9  9  8\n",
              " [3169] 10 10  7  9  6 10  7  9 10 10  7  7 11 10  6  9  7  7  5  6  7  7  8  9\n",
              " [3193]  8  7  9  4  7  8  5 11  5  6  6  9 12  8 11  4  8  8  7  6  7  4  6  6\n",
              " [3217]  9  8  7  8  8  9  6  9  7  8  6  9  8  5  4  5 10  6 10  5  6  5  4  7\n",
              " [3241]  6 11  7  5  5  9  6  8  4  3  9  7  6  6  4  5  7  6  8  9  9  7  8  7\n",
              " [3265]  7  8  5  5  7  6  7  4  7  6  7  7  7  8  6 10  7  8  7  4  4  4  7 11\n",
              " [3289] 11  9  8  9  7  9  6  8  8  8 10  7  8  4  5  8  7  5  5  7 10  4  7  5\n",
              " [3313]  9  8  9  7  5  7  7  8  8  7 10  8  6  5  7  8 11  8  7  8  7  7  9  7\n",
              " [3337]  5  7 11  9  5  9  6  6  4  9  8  6  6  9  9  7  8  8  4  8  5  5  7  7\n",
              " [3361]  8  8  8  9  7  8  7  7  7  4  8  7  2  5  7  7  7  8  4  6  5  6  6  7\n",
              " [3385]  5  6  6  8  6  7 11  8  2  7  8  5  6  4  5  7  7  4  7  7  7  7  7  8\n",
              " [3409]  4  8  8  7  7  8  7  7  5  6  9  7  9  6  8 11  8  8  8  9  7  5  6  7\n",
              " [3433]  4  4  5  9  4  6  7  8  7  4  4 11  7  4  7  7  5  9  7  4  5  5  6  6\n",
              " [3457]  6  8  6  6  3  8  6  8  7  5  7  8  7  9  6  5  8  7  7  6  5  5  7  9\n",
              " [3481]  5  7  2  6  8  4  6  8  7  9  9  5 11  7  7  7  6  8  7  9  8  6  8 10\n",
              " [3505]  6  8  4  6  7  3  7  7  9  4  7  3  8  7  6  7  4  6  5  5 11  9  5  7\n",
              " [3529]  6  6  7  7  5  9  9  9  9  7  6  5  6  7  8  6  5  5  3  8  9  9  6  7\n",
              " [3553]  6  4  8  4  7  6  8  8  7  8  8  9  6  8  9  9  8  7 10 10 10  7  7  7\n",
              " [3577]  6 10  6 10  4  5  5  8  6  4  6  9  4  3  4  5  7  4 10  3  5  6  5  6\n",
              " [3601]  3 10  5  9  5  6  8  5  8  6  8  9  6  8  6  8  6  6  7  8  8  9  8  6\n",
              " [3625]  5  7  7  6  5  7  7  6  6  5  3  8  3  9  9  6  7 10  7  9  7  7  7  6\n",
              " [3649]  8  7  9  8  5  9 10  5  7  4  9  8  7  6  7 11  5  9  7  6  9  7  7  8\n",
              " [3673]  6  4  5 11  7  9  6 10  7  6  8  6  5  8  8  4  8  7  6  8  4 13  5  8\n",
              " [3697]  4  7  3  9  8  7  5  7  7  4  7  9  5  8  7  8  5  8  7  5  2  6  7 10\n",
              " [3721]  7  5 10 10  5  6  8  8  9  8  8  6  8  9 12  7  7  7 11  8  9 10  5 10\n",
              " [3745]  7 12 10  4  6  5  3  7  7  4  8  6  7  8  9  7  7  7  7  5  5  7  4  6\n",
              " [3769]  9  8  9 11  9  9 10  3  5  8  6  8  8  6  7  9 10  9 10  8  6  2  7  5\n",
              " [3793]  8  9  8  9  9  5 11  7  8  9  5  7  6  7  7 12 10  8  3 11  5  9  6  4\n",
              " [3817]  6  7  7  8  9  9  6  7 10  4  5  7  6 11  3  8  9  5  3  5  4  8  5  7\n",
              " [3841]  7  9 10  7  8  8  8  6  3  8  3  3  7  7  8  8  9  8  5  9  9 11  8  7\n",
              " [3865]  3 10  7  5  5  8 10  6  7  3  6  9  6  6  5  4  7  7  5  8  6  6  8  5\n",
              " [3889]  8  3  8  6  8  7  5  9  7  7  6  6  3  5  9  8  8  5  7  6  8  4  6  7\n",
              " [3913]  8  7  8  7 13  3  6  6  7  6  6  6  9  6  7  8  7  8  6  8  6  9  8  6\n",
              " [3937]  5  7  9  8  5  7  8  8  7 10  8  6  4  6  3  7  4  8  7  8 11  4  7  6\n",
              " [3961] 11  4  8  7  8  7 11  9  8  7  5 10  5 10  6  7  6  9  9  6  6  5  7  5\n",
              " [3985]  9  8  6  5  4  5  6  8  6  6  6  8  8  5  8  9  6  3  9  5  9  6  5  7\n",
              " [4009]  5  8 10  7  6  6  5  8  7  6  9  6  4  8  8  8 10  8  9  7  6  8 10  6\n",
              " [4033]  6  6  6  6  6  7  9  6  6  5  4  6  3  9  9  5  5  9  3  4  8  5  7  8\n",
              " [4057]  1 10  7  8  4  8  6  8  9  9  4  5  8  8  9  7 10  6  8  9  6  6  5  6\n",
              " [4081]  6  4  9  7  4  7  9 11  7  5  7  9  7  6  9  4  6  3  7  4  7  9  8  5\n",
              " [4105]  4  7  8  6  6  7  6  6  8  8  6 11  8  8  6  9  8  5  8  5  8  7  4 11\n",
              " [4129]  7  6  7 12  6  6  8  6  5  4  7  6  5  9  4  6  5  7  8  8  8  5  7  9\n",
              " [4153]  4  7  9  6  5  9  8  5  7  7  7  9  7 10  9  6  5  8  8  4  4  5  7  9\n",
              " [4177]  5  6  7  8  5  5  9  3  8 11  8  8  7  7  4  8  9  5  8  5  9 12  6  6\n",
              " [4201]  7 11  9  8  4  4  4  9  6  8  8  4  5  5  9  9  8  4  7  8  8  5  8  4\n",
              " [4225]  5  8  8  5  5  7  4  8  9  8  6  5  5  9  6  7  9  8  8  7  7  9  5  4\n",
              " [4249]  9  3  9 10  6 10  7  5  7  5  8  7  6  6  8  5  9  5  7  5  9  8  8 11\n",
              " [4273]  7  4  6  7  5  9  9  7  6  8 10  6  9  6  8  8  5  6  7 10  9  6  7  7\n",
              " [4297]  4  7 10  8  4  5  8  2  9  3  8  6  9 11  8  6 10  8  6  5 11  6  7  7\n",
              " [4321]  6  8  7  7  8  7  5 10  5 10  5 10  5  7  7  3  6  8  7 11  4  4  5 11\n",
              " [4345]  6  4  6  6  5  3  8  7  7  6  6  8  6  6  8  7  6  7  6  9  7  8  6  7\n",
              " [4369]  7  7  9  6  7  7  8  9  5  4  8  6  8  7  6  4  4  6  8  7  8  8  7  7\n",
              " [4393]  3  4  9 12 11  6  4  6  4  8  7 11  5  7  6  8  7 10 11  5  6  5  9  6\n",
              " [4417]  8  4  5  6  8  5  8  7  6  9  8  8  5  9  7  8  7  8 10  8  8  8  5 10\n",
              " [4441] 11  8  6 10  8 10  7  6  9  7  9  9  8 10  5  8  7  8  5  6  6  8  5  8\n",
              " [4465]  6  6  7  9  9  3  5  7  8  8  9  7 10  6  8  8  4  9  7  8  5 10  8  8\n",
              " [4489]  6  8  5  4  5  5  6  7  9  9  5  3  6  6  7  7  9  7  9  5  9  6  8  6\n",
              " [4513]  4 10 10  6  9  7  7  7  6  8  9  9  9  8  4  4  7 12  9 10  8  6  6 10\n",
              " [4537]  6  5  2  4  6  7  7  8  7  7  7  8  5  7  5  8  3  8  9  7  9  9  7  9\n",
              " [4561]  6  8  6  7  7  6  5  6  8  4  4  5  6  5  9  7  5  5  5  8  6  8  5  7\n",
              " [4585]  5  6 11 10  9  6  9  9  6  7  9  6  6  6  6  7  8  9  6  8  6 10  5  4\n",
              " [4609]  8  9  7  8  7  5 10  7  5  5  8  5  9  9  5  7  7  5  8  7  9  5  8 10\n",
              " [4633]  4  6  8  7  7  7  6  6  6  8 10  8  7  6  8  6  6  9  7  5 10  9  7  6\n",
              " [4657]  6  6  8 10  5  3  8 10 10  9  9  6 11  6  5  9  8  6  7  8  7  8  6  8\n",
              " [4681]  7  8  7  5  7  6  9  7  6  6  9  8  7  6  7  8  7  8  7  6  7  6  6  9\n",
              " [4705]  8  9  5  9  4  7  8  9  8  9  9  5  7  7  8  6  6  7  8  8  9  7  6  7\n",
              " [4729]  9  2  8  6  8  9  8  6  9  6  6 10  9  6  5  7  9  8  5  8  6  5  6  5\n",
              " [4753]  9  7 10  8  6  8  8  6  8  8  5  9  6  5  7  5  9  7  8  4  7  6  7  9\n",
              " [4777] 10  7  5  8  7  7  7  7  6  6  8  8 12 10  8  7  8 10  5  6  7  7  6  9\n",
              " [4801]  7  8  8  5  5  8  7  8  7  6  7  7  4  4  6  6  7  7  6  8  6 12  6  7\n",
              " [4825]  7  7  8  5  8 10  8  5  5  7  9  9  8  5  7  8  8  8  9  9  3  9  6  7\n",
              " [4849]  7  9  5  4  5 10 10  9  6  6  9  5  6  8  8 10  6  8  6  9 12  5  5  8\n",
              " [4873]  3  7  7  5  6  8  5  8  2  6  7  6  7 10  8  3  8  7  9  6  8  7  9  4\n",
              " [4897]  6  5  5  7  8  7  7  9  8  7  1  8  5  5  8  4  7  7 10  5  7  3  7  9\n",
              " [4921]  4  5  7  5  9  5  6  8  8  9  7 10  2  3  7  7  9  5 11  6  8  4  4 12\n",
              " [4945]  4 10  8  6  7 10  6  6  8  8  9  7  2  6  7  9  5  8  9  6  9  6  8  6\n",
              " [4969]  8  4  8  6  5  7  6  6  6  8  5  8  6  9  6  6  8  7  5  6  6  8  6  8\n",
              " [4993]  8  7  8  8  6  8  8  7 11  3  5  4  8  4  8  4  6  8  6 11  6 11 10  9\n",
              " [5017]  9  7  6  8  5  5  4  8  7  7  6  7  7  8  8  8  5  8  7  7  8  5  6  9\n",
              " [5041]  5  6  7  6 11  8  9  7  7  6  6  6  7  6  6  8  6  5  5  9  6  8  6 10\n",
              " [5065] 11  5 10 11 10  5  8  8  8  7  6  4  9  5  6  5  8  9  9  6  5  9  8  9\n",
              " [5089]  8  7  4  5  7  6 10  7  6  6  7  6  3  4 11  8  4  8  5  7  6  5  9  6\n",
              " [5113]  6  7  7 11  7 10  9  7  7  7  5  6  6  6 10  6  7  7  6  9 10  6  9 10\n",
              " [5137]  8  4  8  9  6  2  9  9  7  7  9  8  8  9 10  7  7  9  7  7  8  3  7  9\n",
              " [5161]  5  4  9  8  9  8  4 11  5 10 11  8  5  6  6  7  6  7  8  2  6  5  7  8\n",
              " [5185]  7  8  7  5  7 10  6 10  8  8  9  8  6  5  6  7  7  9  8  8  4  5  5  6\n",
              " [5209]  6  5  5  8  7  7  7 10  7  8  9  8  5  6  7  9  7  5  7  7  7  6  5  6\n",
              " [5233]  6  5  5  9  6 11  5  9  6  5  5 10  5  6  7 12  7  6  5  9  9  6  4  8\n",
              " [5257]  5  8  9  6  6  5  8  9 11 10  5  8  6  6  6  7  6  9  6  7  8  6  4  9\n",
              " [5281]  6  8  6  9  7 11  4  8  9  5 10  7  6  9 10  8  8  5  6  9  8  8  3  9\n",
              " [5305]  8  8  4  8  6  7  8  5  8  5  9  6  7 10  7  7  8  8  8  8 10 10  6  8\n",
              " [5329]  7  7  4  6  7  9  7  4  6  8  7  7  2 10  8  6  6  8  9 10  9  9  9  7\n",
              " [5353]  6  8 10  6  6  5  8  6  6  8  5  6  4  7  9  9  8  6 11  5  9 10  8  4\n",
              " [5377] 10  8  9  8  8  8  6  7  7  8  5  7  9  9  5  9  8  2 11  6  6  6  6  8\n",
              " [5401]  8  8  7  4  1  6  4  7  7  5  5  6  7  3 10  8  7  9  6  6  4  9  7  7\n",
              " [5425]  5  2  6  6  9  6  7  5  5  8  7  8  7  2  8  7  6  7  8 12  6  7  6  6\n",
              " [5449]  7  6  5  8  7  6  6  6  8  7  9  8  9  6  8  8  6 11  6  4  7  6  7  9\n",
              " [5473]  5  8  8  6  5  7  4  7  6 10  5  8  4  4  4  4  4  5  9  7  9  6  7  8\n",
              " [5497]  8  6  7 10  7  6  6 10  7  7  9  6  5  6 10  9  8  4  7  7  3 11  4  6\n",
              " [5521]  9  5  9  8  8  7  5  4  5  9  9  4  6 10  8  6  9  8  7 10  9  9  7  7\n",
              " [5545]  9  7  4  8  5  9  6  6  6  6 10  5  7  8  6  4  4  8  9  3  7 10  7  7\n",
              " [5569]  6  4  9  6  8  8  2  9  9  6  6  4  6  6 10  6  6  3  9  5  9  7  5  7\n",
              " [5593]  8 11  6  7 11  5  4  6  7  8  6  8  8  7 11  7  6  9  8  5  7  5  6  6\n",
              " [5617]  7  7  5  8  4  7  2  7  5  8  4  7  8  6  7  8  4  9  4  9  6  5  9  7\n",
              " [5641] 11  6  8  5  7 12 10  4  7  3 11 10  8  4  6  4  8  7  5  6  6  8  7  8\n",
              " [5665]  5 10  5  9  2  7  5  4  9  9  6  7  6  6  7  7  4  6  7  5  5  7  5  9\n",
              " [5689]  7  5  9  6  4  9  5  8  4  7  6  4  7  8  6  8  7  7  8 10  8  8  4  7\n",
              " [5713]  6 10  5 10  5  6  6  8  9  3  8  7  6  8  7  9  6  9  5 11  5  8  8  4\n",
              " [5737]  6  5  6  6  8  5  9  6  5  9  9  6  3  6  7 11  8  6  3  6  6  7  7  9\n",
              " [5761]  9  6  7  8  9  6 11  8  7  5  8  8  9  6  8  9 10  8  7  9  7 11  4  7\n",
              " [5785]  6  9  7  7  6  6  7  6  6  9 10  5  8  5  5  7  7  5  6  4  8  7  9  4\n",
              " [5809]  3 10  8  7  6  7  4  7  5  6  6  8  9  4  5  6  7  7  7  8  4 11 10  5\n",
              " [5833]  5  8  8 11  6 10 10  7  6  7  5  4  7  5 13  7  8  7  3  7  7  9  8  6\n",
              " [5857]  8  7  7  2  4  9  3  5  8  6  7  7  7  7  8  8  8  9  8  8 11  8  7  7\n",
              " [5881]  7  7  6  6  9  9  8 10  5  9  8  7  9  5  7 10  7  6  7  7  9  8  3  5\n",
              " [5905]  6  8  5  8  7  9  6  9  7  9  2  7  8  4  8  6  7  6 10  7  8  6  7  4\n",
              " [5929]  7  8  6 10  9  8  8  6  2  7  9  6  8  5  9 12  9  8  4 11  4  8  8  3\n",
              " [5953]  8  6  8  4  9  8  7  8  8  5  7  6  6  5  9  6  6  5  6  7  3  9  5  5\n",
              " [5977]  8  6  6  7  9  4  9  7 12  4  8  5  8  7  9  7  5  7  8  7  4  8  6  7\n",
              " [6001]  6  4  5  9  8  8 10  9  3 11  9  6  7  3  7  6  7  5  5  7  7  9  5 12\n",
              " [6025] 12  7  9  3  7  6  9  6  9  9  4  3  7  7  6  9  9  9  8  4  9  8  5  8\n",
              " [6049]  6  6  7  4  4  5 11  6  6  8  8  8  6  7  7  8  6  9  9  7  8  6  6  5\n",
              " [6073]  7  9  6  9  6  7  7  8  6 11  8  8  7  6  8  6  8  8  9  6  8  6  8  6\n",
              " [6097]  5  9  7  4  9  5  9  9  8  8  5  6  9  5  9 11  8 10  8  9  8  6  7  7\n",
              " [6121] 11  9  8  4  9 11  7  8  6  3  6  3  8  5  6  9  5  7  9  9 10  7 10  6\n",
              " [6145]  4  7  5  9 10  6  5  6  8  6  5  5  6  8  5  5  7  5  3  7  8  7  8  7\n",
              " [6169]  8  5  8  8  9  8  7  5  6  2  8  5  5  4  9 10  8  9  7  8  7  6  7  2\n",
              " [6193]  7  7  8  5  9  7  4 12  7  8  7  5 10  5  7  6  5  5  4  9 10  8  6 10\n",
              " [6217]  8  8 10  5  9  7  8  6  7 12 10 10  6  7  7  6  6  6  4 11  5  8  9  6\n",
              " [6241]  4  5  6  5  6  5  9  6  4  8  8  8  7  7  7  7 10  6  7  4  7  5 10  7\n",
              " [6265]  7  6  7  9  7  7  6  7  9  7  3  6  6  6  5  5  5  6  8  5  7  9  6  7\n",
              " [6289]  8  8  5  7  6  9  7  7  8  7  7  6  8  5  9  5  9  4  7  7  5  9  7  7\n",
              " [6313]  7  9  7  8  5  8  6  6  7  9  6  8  7 10  9  8  6  9  5  6  7  7  9  7\n",
              " [6337]  9  6  9  5  3  7  7  7  7  6  2  5  7  5  7  8  8  9  5  7  6  8  8  8\n",
              " [6361]  4  5  4  4  8  5  7  7 10  4  8  8  5  7  7  5  4  7 10 10  8 10  4  9\n",
              " [6385]  7  9  5  4  9  9  5  6  9  5 10  9  5  6  5  5  7  8  6  5  5  7  5  3\n",
              " [6409]  9 10  5  3  7  9  6  4  6  7  6  5  8 10  8  7  9  5  7  6  5  7  5  6\n",
              " [6433]  9  9  4  5  4  6 11  8  6  7  7  6  8  9  4  4  8  5  6  8  9  7  6 10\n",
              " [6457]  8  8  7  7 10  6  5  6  8  9  9  7  9  8  4  1  8  4  6  3  8  7  5  8\n",
              " [6481]  7  8  7 10  8  4  4  9  3  9  4  4  7 10  9  8  8  5 11 11  7  6  7  9\n",
              " [6505]  5  6  6  8  7  7  6  5  7  5  6  7  6  7  7  9  8 10  6  8  6  6  7  7\n",
              " [6529] 11 10  5  7  9  7  4  6  8  7  7  7  6  9  8  8 10  7  9  7  8  7  8  8\n",
              " [6553] 10  6  9  7  8  8  5  8  8  3  8  9  8  8 10  8  8  5  6 10 10  9  9  6\n",
              " [6577]  6  4  9  7  8  6  8  7  8  7  6  7  5  8  3  8  8  8  5  7  9  5  8  4\n",
              " [6601]  8  5  5  4  7  5  7  4  9 13  5  9  9 11  7  5  5  5  7  6  7  5  6 10\n",
              " [6625]  6  5  9  8  4  4  7  8  7  6  4  6  6  6  7  7  9  9  6  8  8  6  8  8\n",
              " [6649]  8 10  7 11  9  3  6  8  8  6  5  8  4  7  5  9 11  4 10  6 10  8 11 10\n",
              " [6673]  7  7  9  5  4  6  5  8  9  9  3  8  5  7  7  6  6 10  6  7  7  7  6  8\n",
              " [6697]  7  7  9  8  6  5  4 10  6  5  8  5  8  8  8  8  3  8  8  7  5  8  7  7\n",
              " [6721]  5  6  6  8  7  8  6  5  8  8  7 12  7  6 10  9  3  6  6  5  6  6  6  5\n",
              " [6745]  4  6 12  5 10  6  5  5  8 10  8  3 10  5  7  3  5 10  7  9  3  6  7  6\n",
              " [6769]  5  8  6  5  8  7  9  8  7  8  7  2  8  7  5  5  7  4  5  9  6  6  6  8\n",
              " [6793]  8  6  7  5  6  6  4  7  4  4  6  8  5  7  6  7 10  7  7  8  8  7  4  7\n",
              " [6817]  5  5  6  6  4  6  5  7  8  4  8  8  6  7  8  6 11  9  6  9  7  7 10  8\n",
              " [6841] 10  9  7  9  7  8  8 10  9  6  8  6  7 11  7  6  8  8 11  4  4  7  5  9\n",
              " [6865] 10  5  9  5  9  5  4  7  6 10  5 10  5  8  4  6  7  6  6  8  7  5  6  8\n",
              " [6889] 10  7  8 10  8  6  8  8  7  8  6  9  6  6  5  9  9 10  7  7  3  4  7  7\n",
              " [6913]  7  7  6  8  6  8  7  9 11  6  8  8  6  7  7  7  9  4  8  9  4  7  4  6\n",
              " [6937]  4  7 10  4  9 10 10  9  9  7  8  5  6  5  6  4  8  4  5  8  7  5  4  4\n",
              " [6961]  8  9  7  8  7  6  7  5  5  4  6  6  5  8  8  7  8  4  6  8  2 10  8  8\n",
              " [6985]  9  5  8  8 11  7  6  4  8 10  5  8  8  8  5  6  8  8  9  8  5  8  6  4\n",
              " [7009]  8  6  7  5  8  9  7  7  5  4  3  4  7  8  9  5  7  9  6  6  8  7  9  6\n",
              " [7033]  6  7  3 10  8  8  5  8  6  3  8  8  6  9  6  7  8  8  9  7  8  7  5  6\n",
              " [7057] 10  6  8  9  5  7  8  7  7  6  9  9  5  7  6  7 11  8  9  9 10  9  9  8\n",
              " [7081]  7  7 10  8  5  8 12  9  1  7  7  7  5  7  4  5  4  8  4  7  6  5  3  8\n",
              " [7105]  4  8  7  3  5  7  7  6  5  6  5  9  9  7  4  9  8  5  6 10  7  7  7  6\n",
              " [7129]  7  8 12  7  4  5  5  9  9  5  9 11  9  5  8  7  8  6  5  8  6  7  4  7\n",
              " [7153]  7  4  7 11 10  5  6  7  8  9  6  6  6  6  8  7  7  3  7  8 11  6  8  7\n",
              " [7177]  3  6  6  5  3  8  4  5  5  5  7  5  5  7  6  9  6  8  1  6 10  9  4  8\n",
              " [7201] 10  9  7  7  9  7  5  8 10  6  6  5  6  7  5  9  5  7  8  5 10  8  7  6\n",
              " [7225]  9  8  7  8  9 10  5 13  3  7  6  9  6  5  6 10  9  8  3  8  8 10  8  8\n",
              " [7249]  5  9  9  7  1  8  5  6  7  7  5  7  9  5  6  5  5  9  7  5  8  8  8  5\n",
              " [7273]  6  6  7  3  7  7  8  7  8  7  5  7  8  7  8  7  4  5  9  5  3  6  7  8\n",
              " [7297]  8  8  7  9  5  6  7  6  6  5  7  9 10  8  9  6  7  5  7  9  8  9  7 11\n",
              " [7321]  3  8  8  3  8  6  8  6  6  5  8  7 11  5  9  8  6  6  7  7 10  4 10  8\n",
              " [7345]  8  4  7  7  9  7  8  7  4  8  9  8  7  9  4  8  4  8  4  7  7  8  6  6\n",
              " [7369]  6  6  7  8  9  5  8  6  5  9  6  9  7  6  7  9 10  5  9  4  9  4  8  9\n",
              " [7393]  9  7  5  6  9  6  6  9  7  5  8  3  8  8  7  8  7  8  5  9  7  5  9  7\n",
              " [7417]  6  9  9  7  5  5  6  8  7  8  8  4  7  7  8 10  6  8  9  8  9  3  7  5\n",
              " [7441]  6  5  8  8  7  8  9  6  8  7  7  7  9  4  8  8  4  8  9  3  6  9  6  6\n",
              " [7465]  8 10 11  6  9  6  9  5  7  5  8  7  6  6  7  8 10  5  8  7  7 11  8  6\n",
              " [7489]  7 10  7  7  4  5  2  8  7  9  9  6  5  7  4  6  6  8  4  5  6  6  8  4\n",
              " [7513]  6  9  9  4  6  8 10  7  5  8  5  6  7  7  5  5  6  9  7 11  8  9  9  7\n",
              " [7537]  7  5  8  7  8  7  5  8  4  9  7  6  9  8  4  6  6  8  8  9 10  4  8  4\n",
              " [7561]  5  7  6  6  5  8  6  8  8  7  6  5  5  5  8 11  6  6  5 10  7  8  0 10\n",
              " [7585]  6 10  8  5  9  5  5  9  6  8  5  9  7  9  6  9  7  9  8  9  5  4  8  7\n",
              " [7609]  5  6 11  3  8  7  7  8  5  8  8  6  7  4  9  6  6  7  5  7  7  4  7  5\n",
              " [7633]  8  7  7  9  7  8  9  8 10  7  7  7  6  9  6  8  6  5  7  8  8  8  4  5\n",
              " [7657]  7  7  8  9  5  7  5 10  8  7  5  7  7  6  8  4 11  5  3 11  3  6  8  6\n",
              " [7681]  7  9  4  8  7  6 12  8  8  8 11  5  8 10  4 10  7  7  6  7  9  7  8  9\n",
              " [7705]  6  8  8  4  8  4  7  2  6  5  7  9  4  2  8 11  6  6  8  8  9  6  6  6\n",
              " [7729]  8  7  9  6 10  7 10  7  7  8  5  7  6  6  3  8  6  6  7  8  6  9  5  9\n",
              " [7753] 10  6  8  5 11  9  2  8  7 10  9 11 10  7  6  8  8  5  5  6 11  7  5  7\n",
              " [7777]  6  8  5  8  7  4  8  6  9  6  9 10  7  6 12  7  6  7  7  6  6  7 10  7\n",
              " [7801]  6  8  7  9  7  4  7  5  8  7  7  7  8  7  8  6  6  9  6 12  6 11  6  9\n",
              " [7825]  9  4  4  9  8  4  6  4  6  8  5  4  5  6  7  5  5 10  7  4  6  6 11  7\n",
              " [7849]  4  9  3  7  8  5  9  8  8  7  6  4  9  9  6  7  6  7  7  8  7  7  8  6\n",
              " [7873] 10  7  7 11  5  5 11  7  7 10  5  7  8  7  5  4  7  9  7  9  9  9  4  6\n",
              " [7897]  6  7  6  2  6  2  4  7  8  8  9  7  6  6  7  7  5  4 10 11  5 10  6  6\n",
              " [7921]  4  7  5 10 10  6  9  5  8  8  6  5  6  6  7  9  7  6 11 10  5  6  7  8\n",
              " [7945]  8 10  3  7  9  5  7 10  5  2  6  9 11  7  4  8  9  4  7  6  9  7  5  8\n",
              " [7969]  5  7  5  7  6  7  7  9  7  5  6 10  5  4 10  7  5  6  7  6  9  6 11  3\n",
              " [7993]  7  6  8  7  7  6  7  5  9  6  8 10  8  7  5  6  4  9  9  4  8  9 10  4\n",
              " [8017]  8  9  9  6  7 10  7  5  6  5  7  5  7  6  5  8  7  8  7  8  4  6  6  7\n",
              " [8041]  5  9  7  7  7  9  9  8  8  8  5  8  8  6  7  9  7  5  9  6  9  7  7  6\n",
              " [8065]  5  4  8  7  7  8  6  7  4  7  6  9  4  6  7 11  4  7  5  8  9  5  5 12\n",
              " [8089] 10  8  5  5  8  9  8  6  3  6  5  8  9  7  5  8  7  6  9  7  7  6  8  6\n",
              " [8113]  7 10  4  9  7  8  6  8 10  6  8  9  6  3  9  7  8  7  6  9  8  6  8  9\n",
              " [8137]  7  8  9  7  7  7 11  6  7  9  7  5  9  7  6  7  9  6 10  8  7  8  9  7\n",
              " [8161]  9 11  6  2  7  9  6  8  6  6  7  8  7 12  5  8  9  6  7  4  5  8 10 10\n",
              " [8185]  5  7  6  5  6  8  7  7  6  8 11 10  7  5  6  6  5  8  7  4  9  6  5  5\n",
              " [8209]  5  9  4  6  4  8  5  6  5  9  8  5  8  7  5  5  5  7  6 10  8  7  7  8\n",
              " [8233]  6  9  6  6  6  8  7  8  7  8  4  6  9  6 10  5  7  8  6  7  6  9  6  4\n",
              " [8257]  7  9  7  7  5  6  8  9 10  6  8  3 10  3  5  6 10  9  5  6  7  7  6  6\n",
              " [8281]  7  4  6  7  7  9  5  8  9  7  5  8  7 12  4  9  6  3  4  6  6  6  5  8\n",
              " [8305]  7  7  4 10  8  5  5  6 10  5  7  7  6  8  6  5  9 12  8  7  7  5  7  5\n",
              " [8329]  7  9  5 10  6  6  7  9  7  9  6  8  8  9  6  8  9  7  8  4  3  5  5  6\n",
              " [8353]  7  7  6  7  7  9  8  3  6  2  5  7  4  7  9  6  6  8  6 11  6  4 10  6\n",
              " [8377]  7  6 10  8  4 13  6  6  7  5  6  5  5  9  5  9  5 12  4  9  8  7  7  9\n",
              " [8401]  7  8  6  7  5  8  7  7  5  5  9  6  6  6  7  9  6 10  7  5  6  6  4  6\n",
              " [8425] 10  1  9  6  8  6  9  4 10  6  9  9  6  6  5  9  5  7  9  6  9 11  5  6\n",
              " [8449]  9  8  8  7  5  7  5  7  7  8  4  6  5  3  6  8  9  8  7  7  9  6  6  7\n",
              " [8473]  4  6  6  6  6  6  8  8  7  6  8  6 10  7  4  7  7 10  8  9  7  6  5  4\n",
              " [8497] 10  8  8  7 11  7  9  6  9  8  6 10  7  6  5  7  5  5  5 10  6 10 11  8\n",
              " [8521]  6  5 11  3  8  7  5  6  5  3  9  5  5  6  6  5  7  3  6  5  7  6  7 10\n",
              " [8545]  7  3  8  7  6  5  5  7  7  5  5 10  9  5  6 10  7  8  3  6  7  8  6  2\n",
              " [8569]  9 10  6  7  8  8  9  9  9  7  7 10  7  3  9 10  6  7  6  6  6  5  6  9\n",
              " [8593]  6  9  8  7 10  9  7  4 10  7  5  6  4  7  6  7  8  6  7  4  6  5  9 10\n",
              " [8617]  9  9  9  8  7  7  7  7  9  6  6  7  4  6  6  5  6  6  8  7  8  5  5  5\n",
              " [8641]  6  9  7  9  4  4 10  4  7  7  9  5  9 10  5  9  5  8  6  8  5 11 10  7\n",
              " [8665]  5  5  6  6  3  5  5  8  8  7 10 10  4  9  7  5  6  8  9  6  6  4  8  8\n",
              " [8689]  7  9  9  6  4  7  4  8  6  8  7  6  5  8  4  9  9  8  9  7  9  6  7 10\n",
              " [8713]  9  8  8  5  7  8  6  7  9 11 10  6  6  6  8  8  8  8  8  4  9  8  4  5\n",
              " [8737]  9  7  3  6  8 10  6  6  6  9  7  4  5 12  7  2  8  9  5  6 10  8  6  7\n",
              " [8761]  8 10  5  7  4  8  1  7  7  5  4  7 10  7  6  5  6  7  9  7  4  8  5  6\n",
              " [8785]  9  5 11  8  5  9  5  9  8  9  4  8  9 11  9  7  8  8  6  6  5  6  5  9\n",
              " [8809]  6  8  6  7  6  7  8  6 10  6  6 11  8  6  6  9  6  8  7  7  9  5  6  7\n",
              " [8833]  9  6  5  7  4  4  8  9  8  6  8  7  6  4  8  5  6  6  1  7  5  9  6  3\n",
              " [8857]  7  3  3  9  3  5  6  7  6  4  6  7  4  5 10  6  7  8  5  5  7  8  8  8\n",
              " [8881]  3  8  5  8  8  8  9  9  8  4 10  6  7  6  4 11  6  8  8  9  9  8  5  5\n",
              " [8905]  7  8  6 10  4  6  6  5  7  7  6  8  9  8  6  9  6  8 10  8  7  6  7  6\n",
              " [8929]  8  9  8  4  8  6  6  9  8  7  8 10  8  9  9  5  9  1  8  8  8  7  8 10\n",
              " [8953]  3  5 11  8  7  4  6  7  7  9  6  8  9  3  8  8  8  8  9  5  7 10  7  6\n",
              " [8977]  3  5  9  6  5  7  5  5  6  7  4  3  5  6  8  6  6  8  8  4  8  6 12  6\n",
              " [9001]  9  6  7  9  9  8  3  7  3  5  7  6  7  8  5 11  5  7  8  6  5  8 11  9\n",
              " [9025]  8  9  8  6  6  9  8  8  6  8  6  5  5  8  6  6 10 11  5  5  6  5  5  9\n",
              " [9049]  8  6  7  6  6  5  8  2  5  7  6  7 10  5  6  8  6  7  5  9  8 11  8  5\n",
              " [9073]  7  7  8  7  5  6  9  6  4  9  6  8  8  4 12  7  6  5  6  7  7  7 10 10\n",
              " [9097]  8  9  7  5  7  5  7  5  6  6  6  1  5  3 11  5  7 10  6  4  5  3  8  9\n",
              " [9121]  9  7  7  7  4  9 10  7  8  9  7  9  6  4 10  7  6  6  5  8  6  4  5  3\n",
              " [9145]  8  5  7  9  6  5  8  7  8 10  8  5  7  8  8  6  8  9  5  6  6  5  8  7\n",
              " [9169] 10  8  8  8 11  9 11  9  7  6  8  5 10  6  7  4 11  7  4  7  9  9  8  5\n",
              " [9193]  8  5  9  7  7  8  8  7  8  6  7  1  6  6  8  8  9  6  6  8  8 11  7  6\n",
              " [9217]  9  7  5  7  5  9  6  2  8  6  8  6 10 10  5  7  7  5  4  5  4  9  7  9\n",
              " [9241]  3  9  5  6  4  8  7  7  9  8  7  3  8  8  7  7  6  4  8  3  6  9  6  6\n",
              " [9265]  7  5  8  5  5  5  8  8  4  5  5  8  9  3  6  5  4  8  8  4  8 10  6  6\n",
              " [9289] 10  4  7  6  6  9  9  6  9  7 10  5  6  5  8  8  5  4  8  5  5  6  5  9\n",
              " [9313]  5  7  7  8  7  8  8  7  5  5  5  7  7  5  6  6  6  6  9  7  5  8  8  5\n",
              " [9337]  6  8  8 10  7  7 10  8  7  6  8  9  9  6 10  5  8  8  7 11  8  8  5  8\n",
              " [9361]  8  8  8 12  8  7 10  9  5  5  5  6  7  9  5  4  8  8  8  5  7 10  8  6\n",
              " [9385]  8  4  9  7  4  8  7  5  5 10  7  6  8  5  5  6  8  6  7  8  8  7  6  9\n",
              " [9409]  9  6  2  5 12  8  6  5  4 10  4  7  8  7  6  8  7  7  9  6  8  7  9  9\n",
              " [9433]  7  8  6  7  8  4  9  5  6  5  8  8  9  5  8  6 10  5  6  6  8  7  7  6\n",
              " [9457]  7  5 11  5  6  4  7  8  8  6  9  5  8  7  6 10  6  8  6  9  5  7  7  8\n",
              " [9481]  5 12  7  9  8  7  7  9  6  6  7  9  8  7 11  7 10  5  8 11  8  9  7  6\n",
              " [9505]  3  5  6  6  8  4  8  8  5  5  7  5  6  6 10 11  9  5  6  4  7  6  8  7\n",
              " [9529]  5  7  7  7  4 12  5  8  7  9  8  7  9  3  6 11  9  5  6  8  4  7  9  6\n",
              " [9553]  8  8  8  8  6  5  4  7  7  9  6  7  9  9  8 10  6  9  8  8  4  6  6  6\n",
              " [9577]  7  7  5  9  8  5  8  6  8  6  7  7  6  7  5  4  7  5  5  7  8  4  8 10\n",
              " [9601]  8  5  5  8  7  6 10  4  8  8  7  6  8  9  8  6  8  5  8  9  5  7  6  5\n",
              " [9625]  7 12  7  5 10  4 11 10  9  4  8  4  6  5  4  6  6  7  7  9  5  8  8  6\n",
              " [9649] 10  5  8  6  8  7  8  3  5  9  7  5  4  8 10  8  7  5  7  9  6  6  4  7\n",
              " [9673]  6  7  7  9  8  9  7  5  5  6  6  6  7  3 10  7  7  6  6  5  6  8  9  7\n",
              " [9697]  9  7  5  5  8  7  7  7  4  6  5  6  7  9  6  8  7  7  4  6 10 10  8  6\n",
              " [9721]  8  8  8  8  7  9  8  7  8 11  6  6  6  5  7  6  8  7  6  7  7  6  6  5\n",
              " [9745]  8  9  4  8  8  9  6  8  7  8  9  8  9  4  6  8  5  8  6  8  7  7 10  5\n",
              " [9769]  7  5  6  7  9  7  8  5  8  8  8  6  7  6  8  5  7  8  9  7  5  8  8  7\n",
              " [9793]  7  6  7 12  9  6  6  8  5  8  8  6  6  4  9  5  6  4  4  5 11  5  7  7\n",
              " [9817]  2  6 11  4  9  4 13  7  7  8  8  5  5  6  4  5  3 10  8  4  9  6  7  5\n",
              " [9841]  8  6  6  8  5 10  4  9  7 11  5  4 10  6  8  8  5  7  8  8  4 11  8 10\n",
              " [9865]  6  8  4  7 11  8  7  8  9 11  7  8  4  7  9  8  5 10  6  8  7  9  8  8\n",
              " [9889]  7  7  9  7  7  5  7  9  3  6 11  6  7  7  8  6  7  4  9  7  8  4  8  5\n",
              " [9913]  5  7  6  4  6  4  2  7  7  3  8  6 11  6  9  5  6  7  7 10  6  7  8  5\n",
              " [9937]  6  4  6  6  5  7  9  7  9  6 11  9  7  5  7  7  6  5  3  6  7  7  6  7\n",
              " [9961]  6  9  8  6  6 10  6  6  6  5  4  9  9  8  5  4  8  4  6  5  9  6  7  7\n",
              " [9985]  7  5  8  5  7  6  8  9  6  9 11 11  9  5  6  6"
            ]
          },
          "metadata": {}
        }
      ]
    },
    {
      "cell_type": "code",
      "source": [
        "mean(caras)/14"
      ],
      "metadata": {
        "id": "wlx4YB0pon7z",
        "outputId": "29de6098-64a7-493a-9b5e-a84933cf2a80",
        "colab": {
          "base_uri": "https://localhost:8080/",
          "height": 34
        }
      },
      "execution_count": null,
      "outputs": [
        {
          "output_type": "display_data",
          "data": {
            "text/html": [
              "0.496814285714286"
            ],
            "text/markdown": "0.496814285714286",
            "text/latex": "0.496814285714286",
            "text/plain": [
              "[1] 0.4968143"
            ]
          },
          "metadata": {}
        }
      ]
    },
    {
      "cell_type": "code",
      "source": [
        "mean(caras == 4)"
      ],
      "metadata": {
        "id": "8rFU3IIelHR6",
        "outputId": "d21a51d9-794c-441f-9aca-c28dd1a20990",
        "colab": {
          "base_uri": "https://localhost:8080/",
          "height": 34
        }
      },
      "execution_count": null,
      "outputs": [
        {
          "output_type": "display_data",
          "data": {
            "text/html": [
              "0.0647"
            ],
            "text/markdown": "0.0647",
            "text/latex": "0.0647",
            "text/plain": [
              "[1] 0.0647"
            ]
          },
          "metadata": {}
        }
      ]
    },
    {
      "cell_type": "code",
      "metadata": {
        "trusted": true,
        "id": "Y85JLZ7NIzQY"
      },
      "source": [
        "# Pero si queremos visualizar las frecuencias relativas observadas?\n",
        "# Adicionalmente nos interesaría poder visualizar la función de masa de probabilidad.\n",
        "df <- data.frame(caras = caras)\n"
      ],
      "execution_count": null,
      "outputs": []
    },
    {
      "cell_type": "code",
      "metadata": {
        "trusted": true,
        "id": "mFBsXgatIzQY",
        "outputId": "3c5c3e60-777c-413d-96ad-b2ddfc07b1bb",
        "colab": {
          "base_uri": "https://localhost:8080/",
          "height": 437
        }
      },
      "source": [
        "df %>%\n",
        "  ggplot() +\n",
        "  aes(x = caras) +\n",
        "  geom_bar()"
      ],
      "execution_count": null,
      "outputs": [
        {
          "output_type": "display_data",
          "data": {
            "text/plain": [
              "plot without title"
            ],
            "image/png": "[encoded data removed]"
          },
          "metadata": {
            "image/png": {
              "width": 420,
              "height": 420
            }
          }
        }
      ]
    },
    {
      "cell_type": "code",
      "source": [
        "aux <- df %>%\n",
        "  count(caras) %>%\n",
        "  mutate(f_rel_obs = n/N) %>%\n",
        "  bind_rows(data.frame(caras = 14, n = 0, f_rel_obs = 0)) %>%\n",
        "  mutate(prob_real = dbinom(caras, 14, 0.5))\n",
        "\n",
        "aux"
      ],
      "metadata": {
        "id": "HvS59Ve9nhli",
        "outputId": "aee38138-e30f-4398-eaf0-9d52efd41943",
        "colab": {
          "base_uri": "https://localhost:8080/",
          "height": 568
        }
      },
      "execution_count": null,
      "outputs": [
        {
          "output_type": "display_data",
          "data": {
            "text/html": [
              "<table class=\"dataframe\">\n",
              "<caption>A data.frame: 15 × 4</caption>\n",
              "<thead>\n",
              "\t<tr><th scope=col>caras</th><th scope=col>n</th><th scope=col>f_rel_obs</th><th scope=col>prob_real</th></tr>\n",
              "\t<tr><th scope=col>&lt;dbl&gt;</th><th scope=col>&lt;dbl&gt;</th><th scope=col>&lt;dbl&gt;</th><th scope=col>&lt;dbl&gt;</th></tr>\n",
              "</thead>\n",
              "<tbody>\n",
              "\t<tr><td> 0</td><td>   1</td><td>0.0001</td><td>6.103516e-05</td></tr>\n",
              "\t<tr><td> 1</td><td>  20</td><td>0.0020</td><td>8.544922e-04</td></tr>\n",
              "\t<tr><td> 2</td><td>  59</td><td>0.0059</td><td>5.554199e-03</td></tr>\n",
              "\t<tr><td> 3</td><td> 231</td><td>0.0231</td><td>2.221680e-02</td></tr>\n",
              "\t<tr><td> 4</td><td> 647</td><td>0.0647</td><td>6.109619e-02</td></tr>\n",
              "\t<tr><td> 5</td><td>1249</td><td>0.1249</td><td>1.221924e-01</td></tr>\n",
              "\t<tr><td> 6</td><td>1824</td><td>0.1824</td><td>1.832886e-01</td></tr>\n",
              "\t<tr><td> 7</td><td>2081</td><td>0.2081</td><td>2.094727e-01</td></tr>\n",
              "\t<tr><td> 8</td><td>1837</td><td>0.1837</td><td>1.832886e-01</td></tr>\n",
              "\t<tr><td> 9</td><td>1199</td><td>0.1199</td><td>1.221924e-01</td></tr>\n",
              "\t<tr><td>10</td><td> 557</td><td>0.0557</td><td>6.109619e-02</td></tr>\n",
              "\t<tr><td>11</td><td> 227</td><td>0.0227</td><td>2.221680e-02</td></tr>\n",
              "\t<tr><td>12</td><td>  59</td><td>0.0059</td><td>5.554199e-03</td></tr>\n",
              "\t<tr><td>13</td><td>   9</td><td>0.0009</td><td>8.544922e-04</td></tr>\n",
              "\t<tr><td>14</td><td>   0</td><td>0.0000</td><td>6.103516e-05</td></tr>\n",
              "</tbody>\n",
              "</table>\n"
            ],
            "text/markdown": "\nA data.frame: 15 × 4\n\n| caras &lt;dbl&gt; | n &lt;dbl&gt; | f_rel_obs &lt;dbl&gt; | prob_real &lt;dbl&gt; |\n|---|---|---|---|\n|  0 |    1 | 0.0001 | 6.103516e-05 |\n|  1 |   20 | 0.0020 | 8.544922e-04 |\n|  2 |   59 | 0.0059 | 5.554199e-03 |\n|  3 |  231 | 0.0231 | 2.221680e-02 |\n|  4 |  647 | 0.0647 | 6.109619e-02 |\n|  5 | 1249 | 0.1249 | 1.221924e-01 |\n|  6 | 1824 | 0.1824 | 1.832886e-01 |\n|  7 | 2081 | 0.2081 | 2.094727e-01 |\n|  8 | 1837 | 0.1837 | 1.832886e-01 |\n|  9 | 1199 | 0.1199 | 1.221924e-01 |\n| 10 |  557 | 0.0557 | 6.109619e-02 |\n| 11 |  227 | 0.0227 | 2.221680e-02 |\n| 12 |   59 | 0.0059 | 5.554199e-03 |\n| 13 |    9 | 0.0009 | 8.544922e-04 |\n| 14 |    0 | 0.0000 | 6.103516e-05 |\n\n",
            "text/latex": "A data.frame: 15 × 4\n\\begin{tabular}{llll}\n caras & n & f\\_rel\\_obs & prob\\_real\\\\\n <dbl> & <dbl> & <dbl> & <dbl>\\\\\n\\hline\n\t  0 &    1 & 0.0001 & 6.103516e-05\\\\\n\t  1 &   20 & 0.0020 & 8.544922e-04\\\\\n\t  2 &   59 & 0.0059 & 5.554199e-03\\\\\n\t  3 &  231 & 0.0231 & 2.221680e-02\\\\\n\t  4 &  647 & 0.0647 & 6.109619e-02\\\\\n\t  5 & 1249 & 0.1249 & 1.221924e-01\\\\\n\t  6 & 1824 & 0.1824 & 1.832886e-01\\\\\n\t  7 & 2081 & 0.2081 & 2.094727e-01\\\\\n\t  8 & 1837 & 0.1837 & 1.832886e-01\\\\\n\t  9 & 1199 & 0.1199 & 1.221924e-01\\\\\n\t 10 &  557 & 0.0557 & 6.109619e-02\\\\\n\t 11 &  227 & 0.0227 & 2.221680e-02\\\\\n\t 12 &   59 & 0.0059 & 5.554199e-03\\\\\n\t 13 &    9 & 0.0009 & 8.544922e-04\\\\\n\t 14 &    0 & 0.0000 & 6.103516e-05\\\\\n\\end{tabular}\n",
            "text/plain": [
              "   caras n    f_rel_obs prob_real   \n",
              "1   0       1 0.0001    6.103516e-05\n",
              "2   1      20 0.0020    8.544922e-04\n",
              "3   2      59 0.0059    5.554199e-03\n",
              "4   3     231 0.0231    2.221680e-02\n",
              "5   4     647 0.0647    6.109619e-02\n",
              "6   5    1249 0.1249    1.221924e-01\n",
              "7   6    1824 0.1824    1.832886e-01\n",
              "8   7    2081 0.2081    2.094727e-01\n",
              "9   8    1837 0.1837    1.832886e-01\n",
              "10  9    1199 0.1199    1.221924e-01\n",
              "11 10     557 0.0557    6.109619e-02\n",
              "12 11     227 0.0227    2.221680e-02\n",
              "13 12      59 0.0059    5.554199e-03\n",
              "14 13       9 0.0009    8.544922e-04\n",
              "15 14       0 0.0000    6.103516e-05"
            ]
          },
          "metadata": {}
        }
      ]
    },
    {
      "cell_type": "code",
      "source": [
        "?geom_function"
      ],
      "metadata": {
        "id": "TJjIXDZrpV5l"
      },
      "execution_count": null,
      "outputs": []
    },
    {
      "cell_type": "code",
      "source": [
        "aux %>%\n",
        "  ggplot() +\n",
        "  aes(x = caras,  y = f_rel_obs ) +\n",
        "  geom_bar(stat = \"identity\") +\n",
        "  geom_point(aes(y = prob_real), col = \"blue\", size = 4)"
      ],
      "metadata": {
        "id": "qe1t4jnCm1fW",
        "outputId": "d677414f-3075-42a8-adb0-dcadc7fa0afd",
        "colab": {
          "base_uri": "https://localhost:8080/",
          "height": 437
        }
      },
      "execution_count": null,
      "outputs": [
        {
          "output_type": "display_data",
          "data": {
            "text/plain": [
              "plot without title"
            ],
            "image/png": "[encoded data removed]"
          },
          "metadata": {
            "image/png": {
              "width": 420,
              "height": 420
            }
          }
        }
      ]
    },
    {
      "cell_type": "markdown",
      "metadata": {
        "id": "4LDcECLUIzQY"
      },
      "source": [
        "# III) Distribución poisson\n",
        "## Contexto\n",
        "Usualmente una variable aleatoria poisson, representa la cantidad de eventos registrados en un interval fijo de tiempo con una cierta tasa de ocurrencia.\n",
        "## Función de probabilidad\n",
        "\n",
        "$$p(x) = \\lambda^x \\dfrac{e^{-\\lambda}}{x!}$$\n",
        "\n",
        "Donde $\\lambda$ corresponde a la tasa de ocurrencia y $x$ la cantida de eventos observados.\n",
        "\n",
        "## Funciones en R\n",
        " * `dpois(x, lambda, log = FALSE)`\n",
        " * `ppois(q, lambda, lower.tail = TRUE, log.p = FALSE)`\n",
        " * `qpois(p, lambda, lower.tail = TRUE, log.p = FALSE)`\n",
        " * `rpois(n, lambda)`"
      ]
    },
    {
      "cell_type": "code",
      "metadata": {
        "trusted": true,
        "id": "RbyWC9WRIzQY"
      },
      "source": [],
      "execution_count": null,
      "outputs": []
    },
    {
      "cell_type": "markdown",
      "metadata": {
        "id": "9gR972O-IzQY"
      },
      "source": [
        "**P5.** Suponga que en un restaurant de comida se tiene una tasa de llegada de clientes de 2 clientes por cada 3 minutos en promedio.\n",
        "¿Cuál es la probabilidad de que 5 o más clientes lleguen en un período de 9 minutos?.\n"
      ]
    },
    {
      "cell_type": "code",
      "metadata": {
        "trusted": true,
        "id": "O57Ov87FIzQY",
        "outputId": "40c849c4-31e8-4775-a72a-671ad95f3037",
        "colab": {
          "base_uri": "https://localhost:8080/",
          "height": 34
        }
      },
      "source": [
        "# La tasa de éxito en una dist. poisson es el parámetro lambda\n",
        "# Dada la info, se tiene una tasa de 6 clientes cada 9 minutos\n",
        "# 1-P(X <= 4) = P(X >=5 ) = 1-P(X < 5)\n",
        "1-ppois(4, lambda = 6) #71% de prob de que lleguen 5 o más clientes.\n",
        "\n",
        "\n",
        "\n"
      ],
      "execution_count": 1,
      "outputs": [
        {
          "output_type": "display_data",
          "data": {
            "text/html": [
              "0.714943499683369"
            ],
            "text/markdown": "0.714943499683369",
            "text/latex": "0.714943499683369",
            "text/plain": [
              "[1] 0.7149435"
            ]
          },
          "metadata": {}
        }
      ]
    },
    {
      "cell_type": "markdown",
      "metadata": {
        "trusted": true,
        "id": "N3dXrqZSIzQY"
      },
      "source": [
        "**P6.** Se sabe que la tasa de falla en la elaboración de ampolletas sigue una distribución poisson, con una tasa de falla de 3 ampolletas defectuosas por semana.\n",
        "¿Cuál es la probabilidad de que al cabo de un mes se genere un total de 20 ampolletas defectuosas o más?\n",
        "\n"
      ]
    },
    {
      "cell_type": "code",
      "metadata": {
        "trusted": true,
        "id": "d8fs6wynIzQY",
        "outputId": "3ad5a7f8-164d-406d-9731-0437921400b7",
        "colab": {
          "base_uri": "https://localhost:8080/",
          "height": 34
        }
      },
      "source": [
        "# lambda = 3*4 = 12 ampolletas defectuosas por mes\n",
        "\n",
        "1-ppois(19, lambda = 12)# 2% de prob de tener 20 o más ampolletas defectuosas\n"
      ],
      "execution_count": 3,
      "outputs": [
        {
          "output_type": "display_data",
          "data": {
            "text/html": [
              "0.0212797693830267"
            ],
            "text/markdown": "0.0212797693830267",
            "text/latex": "0.0212797693830267",
            "text/plain": [
              "[1] 0.02127977"
            ]
          },
          "metadata": {}
        }
      ]
    }
  ]
}