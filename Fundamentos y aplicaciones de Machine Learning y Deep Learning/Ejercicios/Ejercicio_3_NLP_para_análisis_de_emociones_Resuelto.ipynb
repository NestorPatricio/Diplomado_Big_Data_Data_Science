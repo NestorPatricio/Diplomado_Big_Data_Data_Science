{
  "nbformat": 4,
  "nbformat_minor": 0,
  "metadata": {
    "kernelspec": {
      "display_name": "R",
      "language": "R",
      "name": "ir"
    },
    "language_info": {
      "codemirror_mode": "r",
      "file_extension": ".r",
      "mimetype": "text/x-r-source",
      "name": "R",
      "pygments_lexer": "r",
      "version": "3.3.1"
    },
    "colab": {
      "provenance": []
    }
  },
  "cells": [
    {
      "cell_type": "markdown",
      "metadata": {
        "id": "BhFF63rsMfbI"
      },
      "source": [
        "# Ejercicio 3 - Análisis de emociones en texto no-estructurado (NLP)\n",
        "\n",
        "La idea es realizar un análisis de emociones desde comentarios en medios sociales, por medio de un modelo de clasificación supervisada, que entrega una de 3 posibles clases de emoción.\n",
        "\n",
        "## Contexto: Análisis de texto de comentarios en medios sociales de diversos países (Chile, Arg, Mex, otros)\n",
        "\n",
        "Este conjunto de datos generado en 2016 por [R:Solver](http://rsolver.com) y compartido parcialmente para este tipo de ejercicios, consiste en dos columnas: el texto del comentario, y una clasificación dentro de las tres alternativas o clases de emoción.\n",
        "\n",
        "El gran objetivo final a resolver con este ejemplo, es analizar una porción de texto y lograr predecir la emoción correspondiente, dentro de 3 posibles clases:\n",
        "\n",
        "*     Enojo\n",
        "*     Sorpresa\n",
        "*     Alegría\n",
        "\n",
        "**CONSIDERACIÓN IMPORTANTE**\n",
        "\n",
        "Se sabe que para lograr buenos resultados se requiere contar con muchos miles de ejemplos y en este ejercicio académico sólo se cuenta con pocos miles por cada clase. **En la práctica se podrá apreciar que el desempeño general (*accuracy*) de los modelos es mediano-bajo (cerca del 50%). Esto, seguramente, podría mejorar recién al contar con varias decenas de miles de ejemplos adicionales a los actuales**, lo que se explica por la gran diversidad de terminología encontrada en estos comentarios (son cerca de 20.000 términos o palabras diferentes en este corpus).\n",
        "\n",
        "Por esta razón, el foco está en realizar análisis sobre estos desempeños y sacar conclusiones útiles, hasta cierto punto independiente de los *accuracies* correspondientes. Este ejercicio busca reforzar conceptos desde la perspectiva de quienes ya están adentrándose más en entender el funcionamiento de modelos de clasificación supervisada.\n",
        "\n",
        "---\n",
        "\n",
        "## Instrucciones Generales\n",
        "\n",
        "Se deben contestar las preguntas que se indican en las secciones de \"Preguntas\", más adelante. Se puede recurrir a ejercicios de otras fuentes, así como al material de clases.\n",
        "\n",
        "La entrega se realiza en forma de un informe en formato PDF, utilizando la plantilla de informe que está en http://dcc.rsolver.com/dcc/docs/InformeActividad.docx\n",
        "\n",
        "Esta entrega se puede subir por un único miembro del grupo a la tarea o registro en el portal del curso.\n",
        "\n",
        "En caso de no poder subirlo por esa vía o que no esté habilitado, se puede usar el buzón alternativo: http://aiker.rsolver.com/aiker/DocUpload.aspx (*)\n",
        "\n",
        "(*) Si y solo si hay problemas en la carga, enviar el PDF a rsandova@ing.puc.cl y cc: ayudante@aiker.ai\n"
      ]
    },
    {
      "cell_type": "markdown",
      "metadata": {
        "id": "nbsvny1wYwsT"
      },
      "source": [
        "## Paso 1: Instalar librerías de modelos de clasificación"
      ]
    },
    {
      "cell_type": "code",
      "metadata": {
        "id": "Yr8D6ajXY2T9",
        "colab": {
          "base_uri": "https://localhost:8080/"
        },
        "outputId": "6b1899b2-c3aa-439e-9b36-71b22ec128ba"
      },
      "source": [
        "install.packages('e1071')\n",
        "install.packages('caret')\n",
        "install.packages('caTools')\n",
        "install.packages('tm')\n",
        "install.packages('rpart')\n",
        "install.packages('rpart.plot')\n",
        "install.packages('SnowballC')\n",
        "install.packages('nnet')"
      ],
      "execution_count": null,
      "outputs": [
        {
          "output_type": "stream",
          "name": "stderr",
          "text": [
            "Installing package into ‘/usr/local/lib/R/site-library’\n",
            "(as ‘lib’ is unspecified)\n",
            "\n",
            "also installing the dependency ‘proxy’\n",
            "\n",
            "\n",
            "Installing package into ‘/usr/local/lib/R/site-library’\n",
            "(as ‘lib’ is unspecified)\n",
            "\n",
            "also installing the dependencies ‘listenv’, ‘parallelly’, ‘future’, ‘globals’, ‘shape’, ‘future.apply’, ‘numDeriv’, ‘progressr’, ‘SQUAREM’, ‘diagram’, ‘lava’, ‘prodlim’, ‘iterators’, ‘Rcpp’, ‘clock’, ‘gower’, ‘hardhat’, ‘ipred’, ‘timeDate’, ‘foreach’, ‘ModelMetrics’, ‘plyr’, ‘pROC’, ‘recipes’, ‘reshape2’\n",
            "\n",
            "\n",
            "Installing package into ‘/usr/local/lib/R/site-library’\n",
            "(as ‘lib’ is unspecified)\n",
            "\n",
            "also installing the dependency ‘bitops’\n",
            "\n",
            "\n",
            "Installing package into ‘/usr/local/lib/R/site-library’\n",
            "(as ‘lib’ is unspecified)\n",
            "\n",
            "also installing the dependencies ‘NLP’, ‘slam’, ‘BH’\n",
            "\n",
            "\n",
            "Installing package into ‘/usr/local/lib/R/site-library’\n",
            "(as ‘lib’ is unspecified)\n",
            "\n",
            "Installing package into ‘/usr/local/lib/R/site-library’\n",
            "(as ‘lib’ is unspecified)\n",
            "\n",
            "Installing package into ‘/usr/local/lib/R/site-library’\n",
            "(as ‘lib’ is unspecified)\n",
            "\n"
          ]
        }
      ]
    },
    {
      "cell_type": "code",
      "source": [
        "library(dplyr)\n",
        "library(tm)\n",
        "library(SnowballC)\n",
        "library(caTools)\n",
        "library(caret)\n",
        "library(rpart)\n",
        "library(rpart.plot)\n",
        "library(nnet)"
      ],
      "metadata": {
        "id": "oExOCEwxi_yu"
      },
      "execution_count": null,
      "outputs": []
    },
    {
      "cell_type": "markdown",
      "metadata": {
        "id": "0q3bYb0RM5bx"
      },
      "source": [
        "## Paso 2: Carga de los datos\n",
        "\n",
        "La siguiente celda de código carga los datos desde la URL de origen y luego muestra un encabezado con las primeras filas del dataset, para demostrar la disposición y ejemplos de los datos.\n",
        "\n",
        "**Nótese que hay un desbalance entre los ejemplos de cada una de las 3 clases, pero NO se espera ni se pide modificar esto, lo cual queda a criterio de los alumnos experimentar con re-balancear las clases y ver su desempeño.**\n"
      ]
    },
    {
      "cell_type": "code",
      "source": [
        "# Se declara la URL de dónde obtener los datos\n",
        "theUrlMain <- \"http://RAlize.RSolver.com/RAlize/data/small_emotion_sample_2016.csv\"\n",
        "\n",
        "# Se declaran los nombres de las columnas\n",
        "columnas <- c(\"texto\",\"emoción\")\n",
        "\n",
        "# Se cargan datos principales a una estructura (commentsdataset), asignando\n",
        "# nombres de atributos a las columnas.\n",
        "comments.dataset.raw <- read.csv(file = theUrlMain, header = FALSE, sep = \";\", col.names=columnas, skipNul = TRUE)"
      ],
      "metadata": {
        "id": "EkzlOseIi7B4"
      },
      "execution_count": null,
      "outputs": []
    },
    {
      "cell_type": "code",
      "metadata": {
        "id": "yIIKPnj-IRE8",
        "colab": {
          "base_uri": "https://localhost:8080/",
          "height": 971
        },
        "outputId": "bf78d944-592f-47fb-e541-54649bdec617"
      },
      "source": [
        "# Conteo de ejemplos de cada clase.\n",
        "# Al ver su dimensión, se puede apreciar si están o no balanceados,\n",
        "# pero no se espera en esta ocasión trabajar en balanceo de clases.\n",
        "data.enojo <- comments.dataset.raw[comments.dataset.raw$emoción == 'enojo',]\n",
        "data.sorpresa <- comments.dataset.raw[comments.dataset.raw$emoción == 'sorpresa',]\n",
        "data.alegria <- comments.dataset.raw[comments.dataset.raw$emoción == 'alegria',]\n",
        "cat(\"\\nEjemplos Enojo:     \", dim(data.enojo))\n",
        "cat(\"\\nEjemplos Sorpresa:  \", dim(data.sorpresa))\n",
        "cat(\"\\nEjemplos Alegría:   \", dim(data.alegria))\n",
        "\n",
        "commentsdataset <- comments.dataset.raw\n",
        "dim(commentsdataset)\n",
        "head(commentsdataset, 20)"
      ],
      "execution_count": null,
      "outputs": [
        {
          "output_type": "stream",
          "name": "stdout",
          "text": [
            "\n",
            "Ejemplos Enojo:      3054 2\n",
            "Ejemplos Sorpresa:   1085 2\n",
            "Ejemplos Alegría:    2762 2"
          ]
        },
        {
          "output_type": "display_data",
          "data": {
            "text/html": [
              "<style>\n",
              ".list-inline {list-style: none; margin:0; padding: 0}\n",
              ".list-inline>li {display: inline-block}\n",
              ".list-inline>li:not(:last-child)::after {content: \"\\00b7\"; padding: 0 .5ex}\n",
              "</style>\n",
              "<ol class=list-inline><li>6901</li><li>2</li></ol>\n"
            ],
            "text/markdown": "1. 6901\n2. 2\n\n\n",
            "text/latex": "\\begin{enumerate*}\n\\item 6901\n\\item 2\n\\end{enumerate*}\n",
            "text/plain": [
              "[1] 6901    2"
            ]
          },
          "metadata": {}
        },
        {
          "output_type": "display_data",
          "data": {
            "text/html": [
              "<table class=\"dataframe\">\n",
              "<caption>A data.frame: 20 × 2</caption>\n",
              "<thead>\n",
              "\t<tr><th></th><th scope=col>texto</th><th scope=col>emoción</th></tr>\n",
              "\t<tr><th></th><th scope=col>&lt;chr&gt;</th><th scope=col>&lt;chr&gt;</th></tr>\n",
              "</thead>\n",
              "<tbody>\n",
              "\t<tr><th scope=row>1</th><td>!FAVOR REVISAR DICCIONARIO !                                                                                                                                                                                                                                                                                                                                                                                                                                                                                                                                                                                                                                                                                                                                                                                                                   </td><td>enojo   </td></tr>\n",
              "\t<tr><th scope=row>2</th><td>?El Dodge Challenger cuantos kilometros por litro dara? Esa es mi consulta                                                                                                                                                                                                                                                                                                                                                                                                                                                                                                                                                                                                                                                                                                                                                                     </td><td>sorpresa</td></tr>\n",
              "\t<tr><th scope=row>3</th><td>el trasero trailer de la version en carne y hueso , esos redactores merecen el premio redactor de excelencia jajaj                                                                                                                                                                                                                                                                                                                                                                                                                                                                                                                                                                                                                                                                                                                             </td><td>alegria </td></tr>\n",
              "\t<tr><th scope=row>4</th><td>No sera un Peruano o Boliviano que lo hace para que sancionen a Chile ? Hay que acordarse de la guerra mediatica y todos los reclamos de parte de Evo A ese Evo tambien se le sospecha que fue quien dio la orden del reclamo boliviano por los canticos en el estadio                                                                                                                                                                                                                                                                                                                                                                                                                                                                                                                                                                         </td><td>enojo   </td></tr>\n",
              "\t<tr><th scope=row>5</th><td> Y Renaca y Concon para levantar carpas en la playa                                                                                                                                                                                                                                                                                                                                                                                                                                                                                                                                                                                                                                                                                                                                                                                            </td><td>sorpresa</td></tr>\n",
              "\t<tr><th scope=row>6</th><td>Yo siempre compro por internet pero cada vez que hay Cyber Monday termino decepcionado, es mas la publicidad que reales ofertas                                                                                                                                                                                                                                                                                                                                                                                                                                                                                                                                                                                                                                                                                                                </td><td>enojo   </td></tr>\n",
              "\t<tr><th scope=row>7</th><td>! Arjonaaaa !!!!! !Este otro ano vas fijo !!!!                                                                                                                                                                                                                                                                                                                                                                                                                                                                                                                                                                                                                                                                                                                                                                                                 </td><td>sorpresa</td></tr>\n",
              "\t<tr><th scope=row>8</th><td>!Partidazo!                                                                                                                                                                                                                                                                                                                                                                                                                                                                                                                                                                                                                                                                                                                                                                                                                                    </td><td>alegria </td></tr>\n",
              "\t<tr><th scope=row>9</th><td>Medicion de pobreza, mas moderna y transparente: En enero de 2014 la Comision para la Medicion de la Pobreza, planteo un conjunto de propuestas de actualizacion de la metodologia de medicion de pobreza por ingresos, asi como la incorporacion de un enfoque de medicion multidimensional Sus sugerencias fueron recibidas por el gobierno de la Presidenta Bachelet y analizadas en detalle durante 2014 por una Mesa Tecnica Interinstitucional, conformada por el Ministerio de Desarrollo Social (MDS) y el Instituto Nacional de Estadisticas (INE), con el apoyo tecnico de Comision Economica para America Latina (CEPAL) En el ambito de la pobreza multidimensional, se conto ademas con la asesoria permanente de la Iniciativa para la Pobreza y el Desarrollo Humano de la Universidad de Oxford (OPHI, por su sigla en ingles) </td><td>sorpresa</td></tr>\n",
              "\t<tr><th scope=row>10</th><td>No tienen corazon de madre ni de padre obvio, no son sus hijos Indignate lo que esta pasando                                                                                                                                                                                                                                                                                                                                                                                                                                                                                                                                                                                                                                                                                                                                                   </td><td>enojo   </td></tr>\n",
              "\t<tr><th scope=row>11</th><td>Ahora van hacer paros tomas y demas por perder la excelencia a estudiar sera mejor miren que vienen las bacas flacas ayuden asus viejos mejor que arto nos cuesta mandarlos a estudiar ninis                                                                                                                                                                                                                                                                                                                                                                                                                                                                                                                                                                                                                                                   </td><td>enojo   </td></tr>\n",
              "\t<tr><th scope=row>12</th><td>Y el capitán del equipo ???                                                                                                                                                                                                                                                                                                                                                                                                                                                                                                                                                                                                                                                                                                                                                                                                                    </td><td>sorpresa</td></tr>\n",
              "\t<tr><th scope=row>13</th><td>Te amo Alemania                                                                                                                                                                                                                                                                                                                                                                                                                                                                                                                                                                                                                                                                                                                                                                                                                                </td><td>alegria </td></tr>\n",
              "\t<tr><th scope=row>14</th><td>Alguien piensa que las personas que las que residen en una determinada comuna iran a otra para votar por alcaldes ajenos a su propia comuna?                                                                                                                                                                                                                                                                                                                                                                                                                                                                                                                                                                                                                                                                                                   </td><td>enojo   </td></tr>\n",
              "\t<tr><th scope=row>15</th><td> ?Como se les ocurrio invitar a tamano drogo?                                                                                                                                                                                                                                                                                                                                                                                                                                                                                                                                                                                                                                                                                                                                                                                                  </td><td>enojo   </td></tr>\n",
              "\t<tr><th scope=row>16</th><td> ?Crecimiento desmedido de la ciudad? : la edilicia inmobiliaria no inventa la gente ni a los ciudadanos, solo les proporciona soluciones habitacionales Claro esta que si aun vivieramos en los arboles o en las cavernas no habria problemas de estructura sismica y el que alguien construya y venda a precios razonables o codiciosos en nada afecta la resistencia| sismica del edificio Las casas o los edificios se caen o resisten porque estan bien o mal hechos, no porque alguien los vendio y gano dinero con eso!!!!!!!!!                                                                                                                                                                                                                                                                                                         </td><td>enojo   </td></tr>\n",
              "\t<tr><th scope=row>17</th><td> ?En serio? ?Esa es la alternativa oficial o la que tu usarias?                                                                                                                                                                                                                                                                                                                                                                                                                                                                                                                                                                                                                                                                                                                                                                                </td><td>enojo   </td></tr>\n",
              "\t<tr><th scope=row>18</th><td> ?Les van a cobrar algo?                                                                                                                                                                                                                                                                                                                                                                                                                                                                                                                                                                                                                                                                                                                                                                                                                       </td><td>sorpresa</td></tr>\n",
              "\t<tr><th scope=row>19</th><td> ?Porque no anexamos Haiti a nuestra soberania? estan llegando aviones completos repletos de haitianos y todos ellos son carga del estado en terminos de salud y seguridad social ?Quien les paga el viaje? un misterio, viajar seis mil kilometros desde el Atlantico no es nada de barato                                                                                                                                                                                                                                                                                                                                                                                                                                                                                                                                                    </td><td>sorpresa</td></tr>\n",
              "\t<tr><th scope=row>20</th><td> ?Quien se rie ahora de Donald Trump? Youtube link                                                                                                                                                                                                                                                                                                                                                                                                                                                                                                                                                                                                                                                                                                                                                                                             </td><td>sorpresa</td></tr>\n",
              "</tbody>\n",
              "</table>\n"
            ],
            "text/markdown": "\nA data.frame: 20 × 2\n\n| <!--/--> | texto &lt;chr&gt; | emoción &lt;chr&gt; |\n|---|---|---|\n| 1 | !FAVOR REVISAR DICCIONARIO !                                                                                                                                                                                                                                                                                                                                                                                                                                                                                                                                                                                                                                                                                                                                                                                                                    | enojo    |\n| 2 | ?El Dodge Challenger cuantos kilometros por litro dara? Esa es mi consulta                                                                                                                                                                                                                                                                                                                                                                                                                                                                                                                                                                                                                                                                                                                                                                      | sorpresa |\n| 3 | el trasero trailer de la version en carne y hueso , esos redactores merecen el premio redactor de excelencia jajaj                                                                                                                                                                                                                                                                                                                                                                                                                                                                                                                                                                                                                                                                                                                              | alegria  |\n| 4 | No sera un Peruano o Boliviano que lo hace para que sancionen a Chile ? Hay que acordarse de la guerra mediatica y todos los reclamos de parte de Evo A ese Evo tambien se le sospecha que fue quien dio la orden del reclamo boliviano por los canticos en el estadio                                                                                                                                                                                                                                                                                                                                                                                                                                                                                                                                                                          | enojo    |\n| 5 |  Y Renaca y Concon para levantar carpas en la playa                                                                                                                                                                                                                                                                                                                                                                                                                                                                                                                                                                                                                                                                                                                                                                                             | sorpresa |\n| 6 | Yo siempre compro por internet pero cada vez que hay Cyber Monday termino decepcionado, es mas la publicidad que reales ofertas                                                                                                                                                                                                                                                                                                                                                                                                                                                                                                                                                                                                                                                                                                                 | enojo    |\n| 7 | ! Arjonaaaa !!!!! !Este otro ano vas fijo !!!!                                                                                                                                                                                                                                                                                                                                                                                                                                                                                                                                                                                                                                                                                                                                                                                                  | sorpresa |\n| 8 | !Partidazo!                                                                                                                                                                                                                                                                                                                                                                                                                                                                                                                                                                                                                                                                                                                                                                                                                                     | alegria  |\n| 9 | Medicion de pobreza, mas moderna y transparente: En enero de 2014 la Comision para la Medicion de la Pobreza, planteo un conjunto de propuestas de actualizacion de la metodologia de medicion de pobreza por ingresos, asi como la incorporacion de un enfoque de medicion multidimensional Sus sugerencias fueron recibidas por el gobierno de la Presidenta Bachelet y analizadas en detalle durante 2014 por una Mesa Tecnica Interinstitucional, conformada por el Ministerio de Desarrollo Social (MDS) y el Instituto Nacional de Estadisticas (INE), con el apoyo tecnico de Comision Economica para America Latina (CEPAL) En el ambito de la pobreza multidimensional, se conto ademas con la asesoria permanente de la Iniciativa para la Pobreza y el Desarrollo Humano de la Universidad de Oxford (OPHI, por su sigla en ingles)  | sorpresa |\n| 10 | No tienen corazon de madre ni de padre obvio, no son sus hijos Indignate lo que esta pasando                                                                                                                                                                                                                                                                                                                                                                                                                                                                                                                                                                                                                                                                                                                                                    | enojo    |\n| 11 | Ahora van hacer paros tomas y demas por perder la excelencia a estudiar sera mejor miren que vienen las bacas flacas ayuden asus viejos mejor que arto nos cuesta mandarlos a estudiar ninis                                                                                                                                                                                                                                                                                                                                                                                                                                                                                                                                                                                                                                                    | enojo    |\n| 12 | Y el capitán del equipo ???                                                                                                                                                                                                                                                                                                                                                                                                                                                                                                                                                                                                                                                                                                                                                                                                                     | sorpresa |\n| 13 | Te amo Alemania                                                                                                                                                                                                                                                                                                                                                                                                                                                                                                                                                                                                                                                                                                                                                                                                                                 | alegria  |\n| 14 | Alguien piensa que las personas que las que residen en una determinada comuna iran a otra para votar por alcaldes ajenos a su propia comuna?                                                                                                                                                                                                                                                                                                                                                                                                                                                                                                                                                                                                                                                                                                    | enojo    |\n| 15 |  ?Como se les ocurrio invitar a tamano drogo?                                                                                                                                                                                                                                                                                                                                                                                                                                                                                                                                                                                                                                                                                                                                                                                                   | enojo    |\n| 16 |  ?Crecimiento desmedido de la ciudad? : la edilicia inmobiliaria no inventa la gente ni a los ciudadanos, solo les proporciona soluciones habitacionales Claro esta que si aun vivieramos en los arboles o en las cavernas no habria problemas de estructura sismica y el que alguien construya y venda a precios razonables o codiciosos en nada afecta la resistencia| sismica del edificio Las casas o los edificios se caen o resisten porque estan bien o mal hechos, no porque alguien los vendio y gano dinero con eso!!!!!!!!!                                                                                                                                                                                                                                                                                                          | enojo    |\n| 17 |  ?En serio? ?Esa es la alternativa oficial o la que tu usarias?                                                                                                                                                                                                                                                                                                                                                                                                                                                                                                                                                                                                                                                                                                                                                                                 | enojo    |\n| 18 |  ?Les van a cobrar algo?                                                                                                                                                                                                                                                                                                                                                                                                                                                                                                                                                                                                                                                                                                                                                                                                                        | sorpresa |\n| 19 |  ?Porque no anexamos Haiti a nuestra soberania? estan llegando aviones completos repletos de haitianos y todos ellos son carga del estado en terminos de salud y seguridad social ?Quien les paga el viaje? un misterio, viajar seis mil kilometros desde el Atlantico no es nada de barato                                                                                                                                                                                                                                                                                                                                                                                                                                                                                                                                                     | sorpresa |\n| 20 |  ?Quien se rie ahora de Donald Trump? Youtube link                                                                                                                                                                                                                                                                                                                                                                                                                                                                                                                                                                                                                                                                                                                                                                                              | sorpresa |\n\n",
            "text/latex": "A data.frame: 20 × 2\n\\begin{tabular}{r|ll}\n  & texto & emoción\\\\\n  & <chr> & <chr>\\\\\n\\hline\n\t1 & !FAVOR REVISAR DICCIONARIO !                                                                                                                                                                                                                                                                                                                                                                                                                                                                                                                                                                                                                                                                                                                                                                                                                    & enojo   \\\\\n\t2 & ?El Dodge Challenger cuantos kilometros por litro dara? Esa es mi consulta                                                                                                                                                                                                                                                                                                                                                                                                                                                                                                                                                                                                                                                                                                                                                                      & sorpresa\\\\\n\t3 & el trasero trailer de la version en carne y hueso , esos redactores merecen el premio redactor de excelencia jajaj                                                                                                                                                                                                                                                                                                                                                                                                                                                                                                                                                                                                                                                                                                                              & alegria \\\\\n\t4 & No sera un Peruano o Boliviano que lo hace para que sancionen a Chile ? Hay que acordarse de la guerra mediatica y todos los reclamos de parte de Evo A ese Evo tambien se le sospecha que fue quien dio la orden del reclamo boliviano por los canticos en el estadio                                                                                                                                                                                                                                                                                                                                                                                                                                                                                                                                                                          & enojo   \\\\\n\t5 &  Y Renaca y Concon para levantar carpas en la playa                                                                                                                                                                                                                                                                                                                                                                                                                                                                                                                                                                                                                                                                                                                                                                                             & sorpresa\\\\\n\t6 & Yo siempre compro por internet pero cada vez que hay Cyber Monday termino decepcionado, es mas la publicidad que reales ofertas                                                                                                                                                                                                                                                                                                                                                                                                                                                                                                                                                                                                                                                                                                                 & enojo   \\\\\n\t7 & ! Arjonaaaa !!!!! !Este otro ano vas fijo !!!!                                                                                                                                                                                                                                                                                                                                                                                                                                                                                                                                                                                                                                                                                                                                                                                                  & sorpresa\\\\\n\t8 & !Partidazo!                                                                                                                                                                                                                                                                                                                                                                                                                                                                                                                                                                                                                                                                                                                                                                                                                                     & alegria \\\\\n\t9 & Medicion de pobreza, mas moderna y transparente: En enero de 2014 la Comision para la Medicion de la Pobreza, planteo un conjunto de propuestas de actualizacion de la metodologia de medicion de pobreza por ingresos, asi como la incorporacion de un enfoque de medicion multidimensional Sus sugerencias fueron recibidas por el gobierno de la Presidenta Bachelet y analizadas en detalle durante 2014 por una Mesa Tecnica Interinstitucional, conformada por el Ministerio de Desarrollo Social (MDS) y el Instituto Nacional de Estadisticas (INE), con el apoyo tecnico de Comision Economica para America Latina (CEPAL) En el ambito de la pobreza multidimensional, se conto ademas con la asesoria permanente de la Iniciativa para la Pobreza y el Desarrollo Humano de la Universidad de Oxford (OPHI, por su sigla en ingles)  & sorpresa\\\\\n\t10 & No tienen corazon de madre ni de padre obvio, no son sus hijos Indignate lo que esta pasando                                                                                                                                                                                                                                                                                                                                                                                                                                                                                                                                                                                                                                                                                                                                                    & enojo   \\\\\n\t11 & Ahora van hacer paros tomas y demas por perder la excelencia a estudiar sera mejor miren que vienen las bacas flacas ayuden asus viejos mejor que arto nos cuesta mandarlos a estudiar ninis                                                                                                                                                                                                                                                                                                                                                                                                                                                                                                                                                                                                                                                    & enojo   \\\\\n\t12 & Y el capitán del equipo ???                                                                                                                                                                                                                                                                                                                                                                                                                                                                                                                                                                                                                                                                                                                                                                                                                     & sorpresa\\\\\n\t13 & Te amo Alemania                                                                                                                                                                                                                                                                                                                                                                                                                                                                                                                                                                                                                                                                                                                                                                                                                                 & alegria \\\\\n\t14 & Alguien piensa que las personas que las que residen en una determinada comuna iran a otra para votar por alcaldes ajenos a su propia comuna?                                                                                                                                                                                                                                                                                                                                                                                                                                                                                                                                                                                                                                                                                                    & enojo   \\\\\n\t15 &  ?Como se les ocurrio invitar a tamano drogo?                                                                                                                                                                                                                                                                                                                                                                                                                                                                                                                                                                                                                                                                                                                                                                                                   & enojo   \\\\\n\t16 &  ?Crecimiento desmedido de la ciudad? : la edilicia inmobiliaria no inventa la gente ni a los ciudadanos, solo les proporciona soluciones habitacionales Claro esta que si aun vivieramos en los arboles o en las cavernas no habria problemas de estructura sismica y el que alguien construya y venda a precios razonables o codiciosos en nada afecta la resistencia\\textbar{} sismica del edificio Las casas o los edificios se caen o resisten porque estan bien o mal hechos, no porque alguien los vendio y gano dinero con eso!!!!!!!!!                                                                                                                                                                                                                                                                                                          & enojo   \\\\\n\t17 &  ?En serio? ?Esa es la alternativa oficial o la que tu usarias?                                                                                                                                                                                                                                                                                                                                                                                                                                                                                                                                                                                                                                                                                                                                                                                 & enojo   \\\\\n\t18 &  ?Les van a cobrar algo?                                                                                                                                                                                                                                                                                                                                                                                                                                                                                                                                                                                                                                                                                                                                                                                                                        & sorpresa\\\\\n\t19 &  ?Porque no anexamos Haiti a nuestra soberania? estan llegando aviones completos repletos de haitianos y todos ellos son carga del estado en terminos de salud y seguridad social ?Quien les paga el viaje? un misterio, viajar seis mil kilometros desde el Atlantico no es nada de barato                                                                                                                                                                                                                                                                                                                                                                                                                                                                                                                                                     & sorpresa\\\\\n\t20 &  ?Quien se rie ahora de Donald Trump? Youtube link                                                                                                                                                                                                                                                                                                                                                                                                                                                                                                                                                                                                                                                                                                                                                                                              & sorpresa\\\\\n\\end{tabular}\n",
            "text/plain": [
              "   texto                                                                                                                                                                                                                                                                                                                                                                                                                                                                                                                                                                                                                                                                                                                                                                                                                                          \n",
              "1  !FAVOR REVISAR DICCIONARIO !                                                                                                                                                                                                                                                                                                                                                                                                                                                                                                                                                                                                                                                                                                                                                                                                                   \n",
              "2  ?El Dodge Challenger cuantos kilometros por litro dara? Esa es mi consulta                                                                                                                                                                                                                                                                                                                                                                                                                                                                                                                                                                                                                                                                                                                                                                     \n",
              "3  el trasero trailer de la version en carne y hueso , esos redactores merecen el premio redactor de excelencia jajaj                                                                                                                                                                                                                                                                                                                                                                                                                                                                                                                                                                                                                                                                                                                             \n",
              "4  No sera un Peruano o Boliviano que lo hace para que sancionen a Chile ? Hay que acordarse de la guerra mediatica y todos los reclamos de parte de Evo A ese Evo tambien se le sospecha que fue quien dio la orden del reclamo boliviano por los canticos en el estadio                                                                                                                                                                                                                                                                                                                                                                                                                                                                                                                                                                         \n",
              "5   Y Renaca y Concon para levantar carpas en la playa                                                                                                                                                                                                                                                                                                                                                                                                                                                                                                                                                                                                                                                                                                                                                                                            \n",
              "6  Yo siempre compro por internet pero cada vez que hay Cyber Monday termino decepcionado, es mas la publicidad que reales ofertas                                                                                                                                                                                                                                                                                                                                                                                                                                                                                                                                                                                                                                                                                                                \n",
              "7  ! Arjonaaaa !!!!! !Este otro ano vas fijo !!!!                                                                                                                                                                                                                                                                                                                                                                                                                                                                                                                                                                                                                                                                                                                                                                                                 \n",
              "8  !Partidazo!                                                                                                                                                                                                                                                                                                                                                                                                                                                                                                                                                                                                                                                                                                                                                                                                                                    \n",
              "9  Medicion de pobreza, mas moderna y transparente: En enero de 2014 la Comision para la Medicion de la Pobreza, planteo un conjunto de propuestas de actualizacion de la metodologia de medicion de pobreza por ingresos, asi como la incorporacion de un enfoque de medicion multidimensional Sus sugerencias fueron recibidas por el gobierno de la Presidenta Bachelet y analizadas en detalle durante 2014 por una Mesa Tecnica Interinstitucional, conformada por el Ministerio de Desarrollo Social (MDS) y el Instituto Nacional de Estadisticas (INE), con el apoyo tecnico de Comision Economica para America Latina (CEPAL) En el ambito de la pobreza multidimensional, se conto ademas con la asesoria permanente de la Iniciativa para la Pobreza y el Desarrollo Humano de la Universidad de Oxford (OPHI, por su sigla en ingles) \n",
              "10 No tienen corazon de madre ni de padre obvio, no son sus hijos Indignate lo que esta pasando                                                                                                                                                                                                                                                                                                                                                                                                                                                                                                                                                                                                                                                                                                                                                   \n",
              "11 Ahora van hacer paros tomas y demas por perder la excelencia a estudiar sera mejor miren que vienen las bacas flacas ayuden asus viejos mejor que arto nos cuesta mandarlos a estudiar ninis                                                                                                                                                                                                                                                                                                                                                                                                                                                                                                                                                                                                                                                   \n",
              "12 Y el capitán del equipo ???                                                                                                                                                                                                                                                                                                                                                                                                                                                                                                                                                                                                                                                                                                                                                                                                                    \n",
              "13 Te amo Alemania                                                                                                                                                                                                                                                                                                                                                                                                                                                                                                                                                                                                                                                                                                                                                                                                                                \n",
              "14 Alguien piensa que las personas que las que residen en una determinada comuna iran a otra para votar por alcaldes ajenos a su propia comuna?                                                                                                                                                                                                                                                                                                                                                                                                                                                                                                                                                                                                                                                                                                   \n",
              "15  ?Como se les ocurrio invitar a tamano drogo?                                                                                                                                                                                                                                                                                                                                                                                                                                                                                                                                                                                                                                                                                                                                                                                                  \n",
              "16  ?Crecimiento desmedido de la ciudad? : la edilicia inmobiliaria no inventa la gente ni a los ciudadanos, solo les proporciona soluciones habitacionales Claro esta que si aun vivieramos en los arboles o en las cavernas no habria problemas de estructura sismica y el que alguien construya y venda a precios razonables o codiciosos en nada afecta la resistencia| sismica del edificio Las casas o los edificios se caen o resisten porque estan bien o mal hechos, no porque alguien los vendio y gano dinero con eso!!!!!!!!!                                                                                                                                                                                                                                                                                                         \n",
              "17  ?En serio? ?Esa es la alternativa oficial o la que tu usarias?                                                                                                                                                                                                                                                                                                                                                                                                                                                                                                                                                                                                                                                                                                                                                                                \n",
              "18  ?Les van a cobrar algo?                                                                                                                                                                                                                                                                                                                                                                                                                                                                                                                                                                                                                                                                                                                                                                                                                       \n",
              "19  ?Porque no anexamos Haiti a nuestra soberania? estan llegando aviones completos repletos de haitianos y todos ellos son carga del estado en terminos de salud y seguridad social ?Quien les paga el viaje? un misterio, viajar seis mil kilometros desde el Atlantico no es nada de barato                                                                                                                                                                                                                                                                                                                                                                                                                                                                                                                                                    \n",
              "20  ?Quien se rie ahora de Donald Trump? Youtube link                                                                                                                                                                                                                                                                                                                                                                                                                                                                                                                                                                                                                                                                                                                                                                                             \n",
              "   emoción \n",
              "1  enojo   \n",
              "2  sorpresa\n",
              "3  alegria \n",
              "4  enojo   \n",
              "5  sorpresa\n",
              "6  enojo   \n",
              "7  sorpresa\n",
              "8  alegria \n",
              "9  sorpresa\n",
              "10 enojo   \n",
              "11 enojo   \n",
              "12 sorpresa\n",
              "13 alegria \n",
              "14 enojo   \n",
              "15 enojo   \n",
              "16 enojo   \n",
              "17 enojo   \n",
              "18 sorpresa\n",
              "19 sorpresa\n",
              "20 sorpresa"
            ]
          },
          "metadata": {}
        }
      ]
    },
    {
      "cell_type": "markdown",
      "metadata": {
        "id": "VGOO7LFAPDL5"
      },
      "source": [
        "## Ejercicio 1: Entender el efecto de la normalización de texto\n",
        "\n",
        "Las técnicas de normalización de texto, cuando tienen que realizar análisis del texto leído, deben buscar la simplificación del texto para poder trabajar sobre un universo de términos más simple y acotado. Esto puede considerar eliminar tildes, evitar palabras comunes, usar la raíz de múltiples términos, entre otros.\n",
        "\n",
        "A continuación se aplican algunas de las técnicas más frecuentes, permitiendo ver el efecto (potencialmente positivo) de cada una de ellas.\n",
        "\n",
        "**Pregunta 1.1 (1 punto)**: ¿Cuánto mejora el rendimiento de los modelos de análisis de sentimiento (implementados en la siguiente sección) al agregar las técnicas de normalización? La idea es comparar el rendimiento con y sin las técnicas de normalización, analizando cuantitativamente las posibles mejoras en cada uno de los dos modelos (a nivel de sus indicadores de desempeño).\n",
        "\n",
        "**Pregunta 1.2 (0,5 puntos)**: ¿Cuál es el modelo que mejora más? Analice y describa qué característcas de este modelo justifican ser el que mejora con las técnicas de normalización, más que el otro.\n",
        "\n",
        "Aquí se recomienda registrar el desempeño de los modelos habiendo ejecutado con y sin las técnicas de normalización. Para verificar el desempeño SIN la normalización se puede eliminar las 5 instrucciones o técnicas que están el código como Bloque 1 (se recomienda comentar la línea de código respectivo con un símbolo #).\n",
        "\n",
        "Se debe comparar el desempeño de ambos modelos, con y sin las normalizaciones de texto, de modo de ver en cuál de ellos tiene más efecto. Para efectos prácticos, se propone realizar la modificación en el BLOQUE 1 y correr todas las secciones de código en adelante, para ver el rendimiento comparado.  \n",
        "\n",
        "Luego de contestar estas preguntas, continue con el ejercicio dejando activas las técnicas de normalización en adelante."
      ]
    },
    {
      "cell_type": "code",
      "metadata": {
        "id": "w-RkhmupJGPI",
        "colab": {
          "base_uri": "https://localhost:8080/",
          "height": 232
        },
        "outputId": "1766806e-449b-43ab-9836-03cc28c4e9c3"
      },
      "source": [
        "# Construye el Corpus: el universo de texto que se usará para entrenar los\n",
        "#modelos.\n",
        "corpus.original <- Corpus(VectorSource(commentsdataset$texto))\n",
        "\n",
        "# Se selecciona y muestra (sin normalizar) un comentario de ejemplo aleatorio\n",
        "#dentro del corpus.\n",
        "random_index <- floor(runif(1, min = 0, max = length(corpus.original)))\n",
        "content(corpus.original[[random_index]])\n",
        "\n",
        "################################\n",
        "# NORMALIZACIÓN DEL TEXTO\n",
        "# EJERCICIO: probar comentando (anteponiendo #) estas acciones, para ver cuánto\n",
        "# es el efecto en el rendimiento del modelo de clasificación.\n",
        "# La advertencia “transformation drops documents” es esperable y no incide en\n",
        "# el resultado de la normalización.\n",
        "################################\n",
        "\n",
        "## BLOQUE 1\n",
        "# Se pasan todas las palabras a minúsculas\n",
        "corpus.normalizado <- tm_map(corpus.original, tolower)\n",
        "# Se eliminan todos los signos de puntuación\n",
        "corpus.normalizado <- tm_map(corpus.normalizado, removePunctuation)\n",
        "# Se eliminan todos los números\n",
        "corpus.normalizado <- tm_map(corpus.normalizado, removeNumbers)\n",
        "# Se eliminan las stop words (palabras comunes, irrelevantes)\n",
        "corpus.normalizado <- tm_map(corpus.normalizado, removeWords, c(stopwords(\"spanish\")))\n",
        "# Se lleva cada palabra a su raíz (stemming)\n",
        "corpus.normalizado <- tm_map(corpus.normalizado, stemDocument)\n",
        "\n",
        "\n",
        "# Se muestra el mismo ejemplo aleatorio, pero en texto normalizado\n",
        "content(corpus.normalizado[[random_index]])"
      ],
      "execution_count": null,
      "outputs": [
        {
          "output_type": "display_data",
          "data": {
            "text/html": [
              "' Asi es Berger se salio un poco antes, y por eso su choque con el muro fue mas tangencial Se le desprendio parte del aleron delantero y no pudo doblar '"
            ],
            "text/markdown": "' Asi es Berger se salio un poco antes, y por eso su choque con el muro fue mas tangencial Se le desprendio parte del aleron delantero y no pudo doblar '",
            "text/latex": "' Asi es Berger se salio un poco antes, y por eso su choque con el muro fue mas tangencial Se le desprendio parte del aleron delantero y no pudo doblar '",
            "text/plain": [
              "[1] \" Asi es Berger se salio un poco antes, y por eso su choque con el muro fue mas tangencial Se le desprendio parte del aleron delantero y no pudo doblar \""
            ]
          },
          "metadata": {}
        },
        {
          "output_type": "stream",
          "name": "stderr",
          "text": [
            "Warning message in tm_map.SimpleCorpus(corpus.original, tolower):\n",
            "“transformation drops documents”\n",
            "Warning message in tm_map.SimpleCorpus(corpus.normalizado, removePunctuation):\n",
            "“transformation drops documents”\n",
            "Warning message in tm_map.SimpleCorpus(corpus.normalizado, removeNumbers):\n",
            "“transformation drops documents”\n",
            "Warning message in tm_map.SimpleCorpus(corpus.normalizado, removeWords, c(stopwords(\"spanish\"))):\n",
            "“transformation drops documents”\n",
            "Warning message in tm_map.SimpleCorpus(corpus.normalizado, stemDocument):\n",
            "“transformation drops documents”\n"
          ]
        },
        {
          "output_type": "display_data",
          "data": {
            "text/html": [
              "'asi berger salio choqu muro mas tangenci desprendio part aleron delantero pudo doblar'"
            ],
            "text/markdown": "'asi berger salio choqu muro mas tangenci desprendio part aleron delantero pudo doblar'",
            "text/latex": "'asi berger salio choqu muro mas tangenci desprendio part aleron delantero pudo doblar'",
            "text/plain": [
              "[1] \"asi berger salio choqu muro mas tangenci desprendio part aleron delantero pudo doblar\""
            ]
          },
          "metadata": {}
        }
      ]
    },
    {
      "cell_type": "markdown",
      "metadata": {
        "id": "9m6AjrGNtf3x"
      },
      "source": [
        "## Ejercicio 2: Construcción de un Vocabulario con Términos Significativos\n",
        "\n",
        "Los clasificadores reciben un X de entrada de una dimensión fija. Por lo tanto los X de este ejemplo de análisis de texto, comentarios de cantidad variable de palabras, no se pueden usar tal cual vienen (como lista de cantidad variables de términos).\n",
        "\n",
        "Por ello, la siguiente porción de código transforma los comentarios de texto variable en un vector de ocurrencia de palabras referenciando un vocabulario, el cual se construye referenciando todas las palabras distintas (ya normalizadas) del Corpus. Esto se traduce en que un comentario que tiene la expresión \".. resultados excelentes ... \", tendría una intersección con el comentario \"... excelente como resultó ...\" y por ello podrían ser interpretadas en forma equivalente.\n",
        "\n",
        "Pero el desafío de esta vectorización en base a un vocabulario es la **cantidad de dimensiones** (cantidad de palabras diferentes). Un vocabulario perfectamente puede tener varios miles de palabras diferentes (ver resultado en 2.A), entonces la dimensión del vector X es de esos varios miles.\n",
        "\n",
        "Esto motiva a reducir la dimensionalidad del problema (el tamaño del vocabulario) al reconocer cuáles son los términos más relevantes. Esto se hace con removeSparseTerm() y un umbral alto (0.995 reduce la gran cantidad de términos que tienen al menos un 99.5% de 0s en la columna), como se ve en en 2.B. Mientras mayor es el número, mayor cantidad de términos ocasionales o esporádicos se conservan y el vocabulario queda más grande. En otras palabras, mientras menor es el número, mayor es la exigencia para un término de ser considerado valioso y quedar como parte del dataset. (https://www.rdocumentation.org/packages/tm/versions/0.7-8/topics/removeSparseTerms)\n",
        "\n",
        "La pregunta específica a responder cuando se implementa un modelo es: ¿cuántos son los términos a considerar en el vocabulario que sean los mejores representativos del universo de diversas palabras, para maximizar el desempeño del modelo de clasificación? Eso se responde buscando un factor de removeSparseTerms() que logre ese mejor desempeño.\n",
        "\n",
        "**Pregunta 2.1 (1 punto)** ¿Cuál es el valor usado en removeSparseTerm() para lograr mejores resultados en los modelos de clasificación? Realice una comparación de 3 valores: 0.990, 0.995, 0.998. (La comparación es con los modelos contra sí mismos, no entre modelos).\n",
        "\n",
        "**Pregunta 2.2 (1 punto)** ¿Cómo se interpreta en este caso que mejore o empeore con más y a veces con menos cantidad de palabras (o columnas del dataset)?\n",
        "\n",
        "Para ambas preguntas se debe comparar los resultados del Árbol de Decisión y de la Red Neuronal (utilizando parámetros de ejecución más liviana - ej: size=20 y maxit=30).\n"
      ]
    },
    {
      "cell_type": "code",
      "metadata": {
        "id": "_3uvXCD-MdZr",
        "colab": {
          "base_uri": "https://localhost:8080/",
          "height": 69
        },
        "outputId": "0d8e8842-3d72-4c2c-8a47-399c9dfff9df"
      },
      "source": [
        "#######################################################\n",
        "# Indexación de términos: creación de un Vocabulario\n",
        "#######################################################\n",
        "\n",
        "# Primero una matriz de ocurrencia de términos o palabras (DTM: Document-term matrix).\n",
        "# Las filas son los comentarios y las columnas son las palabras diferentes encontradas (varios miles).\n",
        "termMatrix1 <- DocumentTermMatrix(corpus.normalizado)\n",
        "# Resultado 2.A -> Las columnas son todos los términos diferentes encontrados en corpus\n",
        "dim(termMatrix1)\n",
        "\n",
        "# Entonces, se eliminan las palabras menos relevantes (sparse terms: términos dispersos)\n",
        "# lo que resulta en una reducción dimensional (potencialmente grande)\n",
        "# Ejercicio 2.1: ¿qué factor de eliminación (en rango 0.99x) da mejores resultados?\n",
        "# Probar con 3 combinaciones: 0.990, 0.995, 0.998.\n",
        "# Ejercicio 2.2: ¿qué implica o cómo se interpreta ese cambio de valor y su efecto en el dataset?\n",
        "termMatrixLight1 <- removeSparseTerms(x = termMatrix1, sparse = 0.995)\n",
        "dim(termMatrixLight1)  # Resultado 2.B -> Se puede ver que se reduce significativamente la cantidad de columnas (palabras)\n",
        "\n",
        "# Re-formatea como un DataFrame\n",
        "corpus.procesado_1 <- as.data.frame(as.matrix(termMatrixLight1))\n",
        "\n",
        "# Se construye el dataset para entrenamiento, recuperando el comentario original, sin procesar\n",
        "# agregando la columna \"emoción\"\n",
        "corpus.procesado_1$emoción <- as.factor(commentsdataset$emoción)\n",
        "\n",
        "# Se muestra el vocabulario y su tamaño\n",
        "dim(corpus.procesado_1)"
      ],
      "execution_count": null,
      "outputs": [
        {
          "output_type": "display_data",
          "data": {
            "text/html": [
              "<style>\n",
              ".list-inline {list-style: none; margin:0; padding: 0}\n",
              ".list-inline>li {display: inline-block}\n",
              ".list-inline>li:not(:last-child)::after {content: \"\\00b7\"; padding: 0 .5ex}\n",
              "</style>\n",
              "<ol class=list-inline><li>6901</li><li>16848</li></ol>\n"
            ],
            "text/markdown": "1. 6901\n2. 16848\n\n\n",
            "text/latex": "\\begin{enumerate*}\n\\item 6901\n\\item 16848\n\\end{enumerate*}\n",
            "text/plain": [
              "[1]  6901 16848"
            ]
          },
          "metadata": {}
        },
        {
          "output_type": "display_data",
          "data": {
            "text/html": [
              "<style>\n",
              ".list-inline {list-style: none; margin:0; padding: 0}\n",
              ".list-inline>li {display: inline-block}\n",
              ".list-inline>li:not(:last-child)::after {content: \"\\00b7\"; padding: 0 .5ex}\n",
              "</style>\n",
              "<ol class=list-inline><li>6901</li><li>195</li></ol>\n"
            ],
            "text/markdown": "1. 6901\n2. 195\n\n\n",
            "text/latex": "\\begin{enumerate*}\n\\item 6901\n\\item 195\n\\end{enumerate*}\n",
            "text/plain": [
              "[1] 6901  195"
            ]
          },
          "metadata": {}
        },
        {
          "output_type": "display_data",
          "data": {
            "text/html": [
              "<style>\n",
              ".list-inline {list-style: none; margin:0; padding: 0}\n",
              ".list-inline>li {display: inline-block}\n",
              ".list-inline>li:not(:last-child)::after {content: \"\\00b7\"; padding: 0 .5ex}\n",
              "</style>\n",
              "<ol class=list-inline><li>6901</li><li>196</li></ol>\n"
            ],
            "text/markdown": "1. 6901\n2. 196\n\n\n",
            "text/latex": "\\begin{enumerate*}\n\\item 6901\n\\item 196\n\\end{enumerate*}\n",
            "text/plain": [
              "[1] 6901  196"
            ]
          },
          "metadata": {}
        }
      ]
    },
    {
      "cell_type": "code",
      "source": [
        "# Se indexan los términos para el corpus original, NO NORMALIZADO\n",
        "\n",
        "# Matriz de ocurrencia de términos o palabras (DTM: Document-term matrix).\n",
        "termMatrix2 <- DocumentTermMatrix(corpus.original)\n",
        "dim(termMatrix2)\n",
        "\n",
        "# Entonces, se eliminan las palabras menos relevantes (sparse terms: términos dispersos)\n",
        "termMatrixLight2 <- removeSparseTerms(x = termMatrix2, sparse = 0.995)\n",
        "dim(termMatrixLight2)\n",
        "\n",
        "# Re-formatea como un DataFrame\n",
        "corpus.procesado_2 <- as.data.frame(as.matrix(termMatrixLight2))\n",
        "corpus.procesado_2$emoción <- as.factor(commentsdataset$emoción)\n",
        "\n",
        "# Se muestra el vocabulario y su tamaño\n",
        "dim(corpus.procesado_2)"
      ],
      "metadata": {
        "colab": {
          "base_uri": "https://localhost:8080/",
          "height": 69
        },
        "id": "5L-HWCcKzmWE",
        "outputId": "5f2fdd04-f344-435f-8844-ca9e95132cae"
      },
      "execution_count": null,
      "outputs": [
        {
          "output_type": "display_data",
          "data": {
            "text/html": [
              "<style>\n",
              ".list-inline {list-style: none; margin:0; padding: 0}\n",
              ".list-inline>li {display: inline-block}\n",
              ".list-inline>li:not(:last-child)::after {content: \"\\00b7\"; padding: 0 .5ex}\n",
              "</style>\n",
              "<ol class=list-inline><li>6901</li><li>22553</li></ol>\n"
            ],
            "text/markdown": "1. 6901\n2. 22553\n\n\n",
            "text/latex": "\\begin{enumerate*}\n\\item 6901\n\\item 22553\n\\end{enumerate*}\n",
            "text/plain": [
              "[1]  6901 22553"
            ]
          },
          "metadata": {}
        },
        {
          "output_type": "display_data",
          "data": {
            "text/html": [
              "<style>\n",
              ".list-inline {list-style: none; margin:0; padding: 0}\n",
              ".list-inline>li {display: inline-block}\n",
              ".list-inline>li:not(:last-child)::after {content: \"\\00b7\"; padding: 0 .5ex}\n",
              "</style>\n",
              "<ol class=list-inline><li>6901</li><li>216</li></ol>\n"
            ],
            "text/markdown": "1. 6901\n2. 216\n\n\n",
            "text/latex": "\\begin{enumerate*}\n\\item 6901\n\\item 216\n\\end{enumerate*}\n",
            "text/plain": [
              "[1] 6901  216"
            ]
          },
          "metadata": {}
        },
        {
          "output_type": "display_data",
          "data": {
            "text/html": [
              "<style>\n",
              ".list-inline {list-style: none; margin:0; padding: 0}\n",
              ".list-inline>li {display: inline-block}\n",
              ".list-inline>li:not(:last-child)::after {content: \"\\00b7\"; padding: 0 .5ex}\n",
              "</style>\n",
              "<ol class=list-inline><li>6901</li><li>217</li></ol>\n"
            ],
            "text/markdown": "1. 6901\n2. 217\n\n\n",
            "text/latex": "\\begin{enumerate*}\n\\item 6901\n\\item 217\n\\end{enumerate*}\n",
            "text/plain": [
              "[1] 6901  217"
            ]
          },
          "metadata": {}
        }
      ]
    },
    {
      "cell_type": "markdown",
      "metadata": {
        "id": "gze81qto-1oX"
      },
      "source": [
        "## Paso 3: Ejecución modelos de predicción según conjuntos de entrenamiento y validación\n",
        "\n",
        "En este caso, el dataset de ejemplos etiquetados se divide en dos (Hold-out) para entrenar y validar con conjuntos disjuntos.\n",
        "\n",
        "No se necesita modificar esta sección, aunque es válido y potencialmente interesante revisar diferentes valores de proporción entrenamiento/validación.\n"
      ]
    },
    {
      "cell_type": "code",
      "metadata": {
        "id": "D1j2-rNWMcnt",
        "colab": {
          "base_uri": "https://localhost:8080/",
          "height": 485
        },
        "outputId": "f7e9b652-bf8b-49cc-9d5d-74171949dc58"
      },
      "source": [
        "################################################################\n",
        "# Versión simple para crear conjuntos de entrenamiento y de test.\n",
        "# Se puede dejar la proporción original de 0.70,\n",
        "# pero se puede cambiar si se piensa que puede hacer una diferencia.\n",
        "set.seed(12345)\n",
        "ratio_1 <- sample(nrow(corpus.procesado_1), nrow(corpus.procesado_1) * 0.70)\n",
        "training.set_1 = corpus.procesado_1[ratio_1,]\n",
        "testing.set_1 = corpus.procesado_1[-ratio_1,]\n",
        "\n",
        "cat(\"Dimensiones Entrenamiento/Test\")\n",
        "dim(training.set_1)\n",
        "dim(testing.set_1)\n",
        "\n",
        "head(testing.set_1, 10)"
      ],
      "execution_count": null,
      "outputs": [
        {
          "output_type": "stream",
          "name": "stdout",
          "text": [
            "Dimensiones Entrenamiento/Test"
          ]
        },
        {
          "output_type": "display_data",
          "data": {
            "text/html": [
              "<style>\n",
              ".list-inline {list-style: none; margin:0; padding: 0}\n",
              ".list-inline>li {display: inline-block}\n",
              ".list-inline>li:not(:last-child)::after {content: \"\\00b7\"; padding: 0 .5ex}\n",
              "</style>\n",
              "<ol class=list-inline><li>4830</li><li>196</li></ol>\n"
            ],
            "text/markdown": "1. 4830\n2. 196\n\n\n",
            "text/latex": "\\begin{enumerate*}\n\\item 4830\n\\item 196\n\\end{enumerate*}\n",
            "text/plain": [
              "[1] 4830  196"
            ]
          },
          "metadata": {}
        },
        {
          "output_type": "display_data",
          "data": {
            "text/html": [
              "<style>\n",
              ".list-inline {list-style: none; margin:0; padding: 0}\n",
              ".list-inline>li {display: inline-block}\n",
              ".list-inline>li:not(:last-child)::after {content: \"\\00b7\"; padding: 0 .5ex}\n",
              "</style>\n",
              "<ol class=list-inline><li>2071</li><li>196</li></ol>\n"
            ],
            "text/markdown": "1. 2071\n2. 196\n\n\n",
            "text/latex": "\\begin{enumerate*}\n\\item 2071\n\\item 196\n\\end{enumerate*}\n",
            "text/plain": [
              "[1] 2071  196"
            ]
          },
          "metadata": {}
        },
        {
          "output_type": "display_data",
          "data": {
            "text/html": [
              "<table class=\"dataframe\">\n",
              "<caption>A data.frame: 10 × 196</caption>\n",
              "<thead>\n",
              "\t<tr><th></th><th scope=col>favor</th><th scope=col>cuanto</th><th scope=col>chile</th><th scope=col>dio</th><th scope=col>hace</th><th scope=col>part</th><th scope=col>sera</th><th scope=col>tambien</th><th scope=col>cada</th><th scope=col>mas</th><th scope=col>⋯</th><th scope=col>via</th><th scope=col>falabella</th><th scope=col>…</th><th scope=col>transantiago</th><th scope=col>artifici</th><th scope=col>monsanto</th><th scope=col>transgenico</th><th scope=col>camilavallejo</th><th scope=col>gustado</th><th scope=col>emoción</th></tr>\n",
              "\t<tr><th></th><th scope=col>&lt;dbl&gt;</th><th scope=col>&lt;dbl&gt;</th><th scope=col>&lt;dbl&gt;</th><th scope=col>&lt;dbl&gt;</th><th scope=col>&lt;dbl&gt;</th><th scope=col>&lt;dbl&gt;</th><th scope=col>&lt;dbl&gt;</th><th scope=col>&lt;dbl&gt;</th><th scope=col>&lt;dbl&gt;</th><th scope=col>&lt;dbl&gt;</th><th scope=col>⋯</th><th scope=col>&lt;dbl&gt;</th><th scope=col>&lt;dbl&gt;</th><th scope=col>&lt;dbl&gt;</th><th scope=col>&lt;dbl&gt;</th><th scope=col>&lt;dbl&gt;</th><th scope=col>&lt;dbl&gt;</th><th scope=col>&lt;dbl&gt;</th><th scope=col>&lt;dbl&gt;</th><th scope=col>&lt;dbl&gt;</th><th scope=col>&lt;fct&gt;</th></tr>\n",
              "</thead>\n",
              "<tbody>\n",
              "\t<tr><th scope=row>7</th><td>0</td><td>0</td><td>0</td><td>0</td><td>0</td><td>0</td><td>0</td><td>0</td><td>0</td><td>0</td><td>⋯</td><td>0</td><td>0</td><td>0</td><td>0</td><td>0</td><td>0</td><td>0</td><td>0</td><td>0</td><td>sorpresa</td></tr>\n",
              "\t<tr><th scope=row>8</th><td>0</td><td>0</td><td>0</td><td>0</td><td>0</td><td>0</td><td>0</td><td>0</td><td>0</td><td>0</td><td>⋯</td><td>0</td><td>0</td><td>0</td><td>0</td><td>0</td><td>0</td><td>0</td><td>0</td><td>0</td><td>alegria </td></tr>\n",
              "\t<tr><th scope=row>10</th><td>0</td><td>0</td><td>0</td><td>0</td><td>0</td><td>0</td><td>0</td><td>0</td><td>0</td><td>0</td><td>⋯</td><td>0</td><td>0</td><td>0</td><td>0</td><td>0</td><td>0</td><td>0</td><td>0</td><td>0</td><td>enojo   </td></tr>\n",
              "\t<tr><th scope=row>12</th><td>0</td><td>0</td><td>0</td><td>0</td><td>0</td><td>0</td><td>0</td><td>0</td><td>0</td><td>0</td><td>⋯</td><td>0</td><td>0</td><td>0</td><td>0</td><td>0</td><td>0</td><td>0</td><td>0</td><td>0</td><td>sorpresa</td></tr>\n",
              "\t<tr><th scope=row>13</th><td>0</td><td>0</td><td>0</td><td>0</td><td>0</td><td>0</td><td>0</td><td>0</td><td>0</td><td>0</td><td>⋯</td><td>0</td><td>0</td><td>0</td><td>0</td><td>0</td><td>0</td><td>0</td><td>0</td><td>0</td><td>alegria </td></tr>\n",
              "\t<tr><th scope=row>17</th><td>0</td><td>0</td><td>0</td><td>0</td><td>0</td><td>0</td><td>0</td><td>0</td><td>0</td><td>0</td><td>⋯</td><td>0</td><td>0</td><td>0</td><td>0</td><td>0</td><td>0</td><td>0</td><td>0</td><td>0</td><td>enojo   </td></tr>\n",
              "\t<tr><th scope=row>26</th><td>0</td><td>0</td><td>0</td><td>0</td><td>0</td><td>0</td><td>0</td><td>0</td><td>0</td><td>0</td><td>⋯</td><td>0</td><td>0</td><td>0</td><td>0</td><td>0</td><td>0</td><td>0</td><td>0</td><td>0</td><td>alegria </td></tr>\n",
              "\t<tr><th scope=row>27</th><td>0</td><td>0</td><td>0</td><td>0</td><td>0</td><td>0</td><td>0</td><td>0</td><td>0</td><td>0</td><td>⋯</td><td>0</td><td>0</td><td>0</td><td>0</td><td>0</td><td>0</td><td>0</td><td>0</td><td>0</td><td>alegria </td></tr>\n",
              "\t<tr><th scope=row>29</th><td>0</td><td>0</td><td>0</td><td>0</td><td>0</td><td>0</td><td>0</td><td>0</td><td>0</td><td>0</td><td>⋯</td><td>0</td><td>0</td><td>0</td><td>0</td><td>0</td><td>0</td><td>0</td><td>0</td><td>0</td><td>sorpresa</td></tr>\n",
              "\t<tr><th scope=row>31</th><td>0</td><td>0</td><td>0</td><td>0</td><td>1</td><td>0</td><td>0</td><td>0</td><td>0</td><td>0</td><td>⋯</td><td>0</td><td>0</td><td>0</td><td>0</td><td>0</td><td>0</td><td>0</td><td>0</td><td>0</td><td>enojo   </td></tr>\n",
              "</tbody>\n",
              "</table>\n"
            ],
            "text/markdown": "\nA data.frame: 10 × 196\n\n| <!--/--> | favor &lt;dbl&gt; | cuanto &lt;dbl&gt; | chile &lt;dbl&gt; | dio &lt;dbl&gt; | hace &lt;dbl&gt; | part &lt;dbl&gt; | sera &lt;dbl&gt; | tambien &lt;dbl&gt; | cada &lt;dbl&gt; | mas &lt;dbl&gt; | ⋯ ⋯ | via &lt;dbl&gt; | falabella &lt;dbl&gt; | … &lt;dbl&gt; | transantiago &lt;dbl&gt; | artifici &lt;dbl&gt; | monsanto &lt;dbl&gt; | transgenico &lt;dbl&gt; | camilavallejo &lt;dbl&gt; | gustado &lt;dbl&gt; | emoción &lt;fct&gt; |\n|---|---|---|---|---|---|---|---|---|---|---|---|---|---|---|---|---|---|---|---|---|---|\n| 7 | 0 | 0 | 0 | 0 | 0 | 0 | 0 | 0 | 0 | 0 | ⋯ | 0 | 0 | 0 | 0 | 0 | 0 | 0 | 0 | 0 | sorpresa |\n| 8 | 0 | 0 | 0 | 0 | 0 | 0 | 0 | 0 | 0 | 0 | ⋯ | 0 | 0 | 0 | 0 | 0 | 0 | 0 | 0 | 0 | alegria  |\n| 10 | 0 | 0 | 0 | 0 | 0 | 0 | 0 | 0 | 0 | 0 | ⋯ | 0 | 0 | 0 | 0 | 0 | 0 | 0 | 0 | 0 | enojo    |\n| 12 | 0 | 0 | 0 | 0 | 0 | 0 | 0 | 0 | 0 | 0 | ⋯ | 0 | 0 | 0 | 0 | 0 | 0 | 0 | 0 | 0 | sorpresa |\n| 13 | 0 | 0 | 0 | 0 | 0 | 0 | 0 | 0 | 0 | 0 | ⋯ | 0 | 0 | 0 | 0 | 0 | 0 | 0 | 0 | 0 | alegria  |\n| 17 | 0 | 0 | 0 | 0 | 0 | 0 | 0 | 0 | 0 | 0 | ⋯ | 0 | 0 | 0 | 0 | 0 | 0 | 0 | 0 | 0 | enojo    |\n| 26 | 0 | 0 | 0 | 0 | 0 | 0 | 0 | 0 | 0 | 0 | ⋯ | 0 | 0 | 0 | 0 | 0 | 0 | 0 | 0 | 0 | alegria  |\n| 27 | 0 | 0 | 0 | 0 | 0 | 0 | 0 | 0 | 0 | 0 | ⋯ | 0 | 0 | 0 | 0 | 0 | 0 | 0 | 0 | 0 | alegria  |\n| 29 | 0 | 0 | 0 | 0 | 0 | 0 | 0 | 0 | 0 | 0 | ⋯ | 0 | 0 | 0 | 0 | 0 | 0 | 0 | 0 | 0 | sorpresa |\n| 31 | 0 | 0 | 0 | 0 | 1 | 0 | 0 | 0 | 0 | 0 | ⋯ | 0 | 0 | 0 | 0 | 0 | 0 | 0 | 0 | 0 | enojo    |\n\n",
            "text/latex": "A data.frame: 10 × 196\n\\begin{tabular}{r|lllllllllllllllllllll}\n  & favor & cuanto & chile & dio & hace & part & sera & tambien & cada & mas & ⋯ & via & falabella & … & transantiago & artifici & monsanto & transgenico & camilavallejo & gustado & emoción\\\\\n  & <dbl> & <dbl> & <dbl> & <dbl> & <dbl> & <dbl> & <dbl> & <dbl> & <dbl> & <dbl> & ⋯ & <dbl> & <dbl> & <dbl> & <dbl> & <dbl> & <dbl> & <dbl> & <dbl> & <dbl> & <fct>\\\\\n\\hline\n\t7 & 0 & 0 & 0 & 0 & 0 & 0 & 0 & 0 & 0 & 0 & ⋯ & 0 & 0 & 0 & 0 & 0 & 0 & 0 & 0 & 0 & sorpresa\\\\\n\t8 & 0 & 0 & 0 & 0 & 0 & 0 & 0 & 0 & 0 & 0 & ⋯ & 0 & 0 & 0 & 0 & 0 & 0 & 0 & 0 & 0 & alegria \\\\\n\t10 & 0 & 0 & 0 & 0 & 0 & 0 & 0 & 0 & 0 & 0 & ⋯ & 0 & 0 & 0 & 0 & 0 & 0 & 0 & 0 & 0 & enojo   \\\\\n\t12 & 0 & 0 & 0 & 0 & 0 & 0 & 0 & 0 & 0 & 0 & ⋯ & 0 & 0 & 0 & 0 & 0 & 0 & 0 & 0 & 0 & sorpresa\\\\\n\t13 & 0 & 0 & 0 & 0 & 0 & 0 & 0 & 0 & 0 & 0 & ⋯ & 0 & 0 & 0 & 0 & 0 & 0 & 0 & 0 & 0 & alegria \\\\\n\t17 & 0 & 0 & 0 & 0 & 0 & 0 & 0 & 0 & 0 & 0 & ⋯ & 0 & 0 & 0 & 0 & 0 & 0 & 0 & 0 & 0 & enojo   \\\\\n\t26 & 0 & 0 & 0 & 0 & 0 & 0 & 0 & 0 & 0 & 0 & ⋯ & 0 & 0 & 0 & 0 & 0 & 0 & 0 & 0 & 0 & alegria \\\\\n\t27 & 0 & 0 & 0 & 0 & 0 & 0 & 0 & 0 & 0 & 0 & ⋯ & 0 & 0 & 0 & 0 & 0 & 0 & 0 & 0 & 0 & alegria \\\\\n\t29 & 0 & 0 & 0 & 0 & 0 & 0 & 0 & 0 & 0 & 0 & ⋯ & 0 & 0 & 0 & 0 & 0 & 0 & 0 & 0 & 0 & sorpresa\\\\\n\t31 & 0 & 0 & 0 & 0 & 1 & 0 & 0 & 0 & 0 & 0 & ⋯ & 0 & 0 & 0 & 0 & 0 & 0 & 0 & 0 & 0 & enojo   \\\\\n\\end{tabular}\n",
            "text/plain": [
              "   favor cuanto chile dio hace part sera tambien cada mas ⋯ via falabella …\n",
              "7  0     0      0     0   0    0    0    0       0    0   ⋯ 0   0         0\n",
              "8  0     0      0     0   0    0    0    0       0    0   ⋯ 0   0         0\n",
              "10 0     0      0     0   0    0    0    0       0    0   ⋯ 0   0         0\n",
              "12 0     0      0     0   0    0    0    0       0    0   ⋯ 0   0         0\n",
              "13 0     0      0     0   0    0    0    0       0    0   ⋯ 0   0         0\n",
              "17 0     0      0     0   0    0    0    0       0    0   ⋯ 0   0         0\n",
              "26 0     0      0     0   0    0    0    0       0    0   ⋯ 0   0         0\n",
              "27 0     0      0     0   0    0    0    0       0    0   ⋯ 0   0         0\n",
              "29 0     0      0     0   0    0    0    0       0    0   ⋯ 0   0         0\n",
              "31 0     0      0     0   1    0    0    0       0    0   ⋯ 0   0         0\n",
              "   transantiago artifici monsanto transgenico camilavallejo gustado emoción \n",
              "7  0            0        0        0           0             0       sorpresa\n",
              "8  0            0        0        0           0             0       alegria \n",
              "10 0            0        0        0           0             0       enojo   \n",
              "12 0            0        0        0           0             0       sorpresa\n",
              "13 0            0        0        0           0             0       alegria \n",
              "17 0            0        0        0           0             0       enojo   \n",
              "26 0            0        0        0           0             0       alegria \n",
              "27 0            0        0        0           0             0       alegria \n",
              "29 0            0        0        0           0             0       sorpresa\n",
              "31 0            0        0        0           0             0       enojo   "
            ]
          },
          "metadata": {}
        }
      ]
    },
    {
      "cell_type": "code",
      "source": [
        "# Versión simple para crear conjuntos de entrenamiento y de test en corpus\n",
        "# no normalizado\n",
        "set.seed(12345)\n",
        "ratio_2 <- sample(nrow(corpus.procesado_2), nrow(corpus.procesado_2) * 0.70)\n",
        "training.set_2 = corpus.procesado_2[ratio_2,]\n",
        "testing.set_2 = corpus.procesado_2[-ratio_2,]\n",
        "\n",
        "cat(\"Dimensiones Entrenamiento/Test\")\n",
        "dim(training.set_2)\n",
        "dim(testing.set_2)\n",
        "\n",
        "head(testing.set_2, 10)"
      ],
      "metadata": {
        "colab": {
          "base_uri": "https://localhost:8080/",
          "height": 485
        },
        "id": "4NT0gtZK841V",
        "outputId": "b6714e79-c156-4161-9383-3ae28a649688"
      },
      "execution_count": null,
      "outputs": [
        {
          "output_type": "stream",
          "name": "stdout",
          "text": [
            "Dimensiones Entrenamiento/Test"
          ]
        },
        {
          "output_type": "display_data",
          "data": {
            "text/html": [
              "<style>\n",
              ".list-inline {list-style: none; margin:0; padding: 0}\n",
              ".list-inline>li {display: inline-block}\n",
              ".list-inline>li:not(:last-child)::after {content: \"\\00b7\"; padding: 0 .5ex}\n",
              "</style>\n",
              "<ol class=list-inline><li>4830</li><li>217</li></ol>\n"
            ],
            "text/markdown": "1. 4830\n2. 217\n\n\n",
            "text/latex": "\\begin{enumerate*}\n\\item 4830\n\\item 217\n\\end{enumerate*}\n",
            "text/plain": [
              "[1] 4830  217"
            ]
          },
          "metadata": {}
        },
        {
          "output_type": "display_data",
          "data": {
            "text/html": [
              "<style>\n",
              ".list-inline {list-style: none; margin:0; padding: 0}\n",
              ".list-inline>li {display: inline-block}\n",
              ".list-inline>li:not(:last-child)::after {content: \"\\00b7\"; padding: 0 .5ex}\n",
              "</style>\n",
              "<ol class=list-inline><li>2071</li><li>217</li></ol>\n"
            ],
            "text/markdown": "1. 2071\n2. 217\n\n\n",
            "text/latex": "\\begin{enumerate*}\n\\item 2071\n\\item 217\n\\end{enumerate*}\n",
            "text/plain": [
              "[1] 2071  217"
            ]
          },
          "metadata": {}
        },
        {
          "output_type": "display_data",
          "data": {
            "text/html": [
              "<table class=\"dataframe\">\n",
              "<caption>A data.frame: 10 × 217</caption>\n",
              "<thead>\n",
              "\t<tr><th></th><th scope=col>esa</th><th scope=col>por</th><th scope=col>chile</th><th scope=col>del</th><th scope=col>ese</th><th scope=col>fue</th><th scope=col>hace</th><th scope=col>hay</th><th scope=col>los</th><th scope=col>para</th><th scope=col>⋯</th><th scope=col>risa</th><th scope=col>transantiago</th><th scope=col>mcdonald's</th><th scope=col>artificial</th><th scope=col>transgenicos</th><th scope=col>…</th><th scope=col>juan</th><th scope=col>monsanto</th><th scope=col>gustado</th><th scope=col>emoción</th></tr>\n",
              "\t<tr><th></th><th scope=col>&lt;dbl&gt;</th><th scope=col>&lt;dbl&gt;</th><th scope=col>&lt;dbl&gt;</th><th scope=col>&lt;dbl&gt;</th><th scope=col>&lt;dbl&gt;</th><th scope=col>&lt;dbl&gt;</th><th scope=col>&lt;dbl&gt;</th><th scope=col>&lt;dbl&gt;</th><th scope=col>&lt;dbl&gt;</th><th scope=col>&lt;dbl&gt;</th><th scope=col>⋯</th><th scope=col>&lt;dbl&gt;</th><th scope=col>&lt;dbl&gt;</th><th scope=col>&lt;dbl&gt;</th><th scope=col>&lt;dbl&gt;</th><th scope=col>&lt;dbl&gt;</th><th scope=col>&lt;dbl&gt;</th><th scope=col>&lt;dbl&gt;</th><th scope=col>&lt;dbl&gt;</th><th scope=col>&lt;dbl&gt;</th><th scope=col>&lt;fct&gt;</th></tr>\n",
              "</thead>\n",
              "<tbody>\n",
              "\t<tr><th scope=row>7</th><td>0</td><td>0</td><td>0</td><td>0</td><td>0</td><td>0</td><td>0</td><td>0</td><td>0</td><td>0</td><td>⋯</td><td>0</td><td>0</td><td>0</td><td>0</td><td>0</td><td>0</td><td>0</td><td>0</td><td>0</td><td>sorpresa</td></tr>\n",
              "\t<tr><th scope=row>8</th><td>0</td><td>0</td><td>0</td><td>0</td><td>0</td><td>0</td><td>0</td><td>0</td><td>0</td><td>0</td><td>⋯</td><td>0</td><td>0</td><td>0</td><td>0</td><td>0</td><td>0</td><td>0</td><td>0</td><td>0</td><td>alegria </td></tr>\n",
              "\t<tr><th scope=row>10</th><td>0</td><td>0</td><td>0</td><td>0</td><td>0</td><td>0</td><td>0</td><td>0</td><td>0</td><td>0</td><td>⋯</td><td>0</td><td>0</td><td>0</td><td>0</td><td>0</td><td>0</td><td>0</td><td>0</td><td>0</td><td>enojo   </td></tr>\n",
              "\t<tr><th scope=row>12</th><td>0</td><td>0</td><td>0</td><td>1</td><td>0</td><td>0</td><td>0</td><td>0</td><td>0</td><td>0</td><td>⋯</td><td>0</td><td>0</td><td>0</td><td>0</td><td>0</td><td>0</td><td>0</td><td>0</td><td>0</td><td>sorpresa</td></tr>\n",
              "\t<tr><th scope=row>13</th><td>0</td><td>0</td><td>0</td><td>0</td><td>0</td><td>0</td><td>0</td><td>0</td><td>0</td><td>0</td><td>⋯</td><td>0</td><td>0</td><td>0</td><td>0</td><td>0</td><td>0</td><td>0</td><td>0</td><td>0</td><td>alegria </td></tr>\n",
              "\t<tr><th scope=row>17</th><td>0</td><td>0</td><td>0</td><td>0</td><td>0</td><td>0</td><td>0</td><td>0</td><td>0</td><td>0</td><td>⋯</td><td>0</td><td>0</td><td>0</td><td>0</td><td>0</td><td>0</td><td>0</td><td>0</td><td>0</td><td>enojo   </td></tr>\n",
              "\t<tr><th scope=row>26</th><td>0</td><td>0</td><td>0</td><td>0</td><td>0</td><td>0</td><td>0</td><td>0</td><td>0</td><td>0</td><td>⋯</td><td>0</td><td>0</td><td>0</td><td>0</td><td>0</td><td>0</td><td>0</td><td>0</td><td>0</td><td>alegria </td></tr>\n",
              "\t<tr><th scope=row>27</th><td>0</td><td>2</td><td>0</td><td>1</td><td>0</td><td>0</td><td>0</td><td>0</td><td>3</td><td>1</td><td>⋯</td><td>0</td><td>0</td><td>0</td><td>0</td><td>0</td><td>0</td><td>0</td><td>0</td><td>0</td><td>alegria </td></tr>\n",
              "\t<tr><th scope=row>29</th><td>0</td><td>0</td><td>0</td><td>0</td><td>0</td><td>0</td><td>0</td><td>0</td><td>0</td><td>0</td><td>⋯</td><td>0</td><td>0</td><td>0</td><td>0</td><td>0</td><td>0</td><td>0</td><td>0</td><td>0</td><td>sorpresa</td></tr>\n",
              "\t<tr><th scope=row>31</th><td>0</td><td>0</td><td>0</td><td>0</td><td>0</td><td>0</td><td>1</td><td>0</td><td>0</td><td>0</td><td>⋯</td><td>0</td><td>0</td><td>0</td><td>0</td><td>0</td><td>0</td><td>0</td><td>0</td><td>0</td><td>enojo   </td></tr>\n",
              "</tbody>\n",
              "</table>\n"
            ],
            "text/markdown": "\nA data.frame: 10 × 217\n\n| <!--/--> | esa &lt;dbl&gt; | por &lt;dbl&gt; | chile &lt;dbl&gt; | del &lt;dbl&gt; | ese &lt;dbl&gt; | fue &lt;dbl&gt; | hace &lt;dbl&gt; | hay &lt;dbl&gt; | los &lt;dbl&gt; | para &lt;dbl&gt; | ⋯ ⋯ | risa &lt;dbl&gt; | transantiago &lt;dbl&gt; | mcdonald's &lt;dbl&gt; | artificial &lt;dbl&gt; | transgenicos &lt;dbl&gt; | … &lt;dbl&gt; | juan &lt;dbl&gt; | monsanto &lt;dbl&gt; | gustado &lt;dbl&gt; | emoción &lt;fct&gt; |\n|---|---|---|---|---|---|---|---|---|---|---|---|---|---|---|---|---|---|---|---|---|---|\n| 7 | 0 | 0 | 0 | 0 | 0 | 0 | 0 | 0 | 0 | 0 | ⋯ | 0 | 0 | 0 | 0 | 0 | 0 | 0 | 0 | 0 | sorpresa |\n| 8 | 0 | 0 | 0 | 0 | 0 | 0 | 0 | 0 | 0 | 0 | ⋯ | 0 | 0 | 0 | 0 | 0 | 0 | 0 | 0 | 0 | alegria  |\n| 10 | 0 | 0 | 0 | 0 | 0 | 0 | 0 | 0 | 0 | 0 | ⋯ | 0 | 0 | 0 | 0 | 0 | 0 | 0 | 0 | 0 | enojo    |\n| 12 | 0 | 0 | 0 | 1 | 0 | 0 | 0 | 0 | 0 | 0 | ⋯ | 0 | 0 | 0 | 0 | 0 | 0 | 0 | 0 | 0 | sorpresa |\n| 13 | 0 | 0 | 0 | 0 | 0 | 0 | 0 | 0 | 0 | 0 | ⋯ | 0 | 0 | 0 | 0 | 0 | 0 | 0 | 0 | 0 | alegria  |\n| 17 | 0 | 0 | 0 | 0 | 0 | 0 | 0 | 0 | 0 | 0 | ⋯ | 0 | 0 | 0 | 0 | 0 | 0 | 0 | 0 | 0 | enojo    |\n| 26 | 0 | 0 | 0 | 0 | 0 | 0 | 0 | 0 | 0 | 0 | ⋯ | 0 | 0 | 0 | 0 | 0 | 0 | 0 | 0 | 0 | alegria  |\n| 27 | 0 | 2 | 0 | 1 | 0 | 0 | 0 | 0 | 3 | 1 | ⋯ | 0 | 0 | 0 | 0 | 0 | 0 | 0 | 0 | 0 | alegria  |\n| 29 | 0 | 0 | 0 | 0 | 0 | 0 | 0 | 0 | 0 | 0 | ⋯ | 0 | 0 | 0 | 0 | 0 | 0 | 0 | 0 | 0 | sorpresa |\n| 31 | 0 | 0 | 0 | 0 | 0 | 0 | 1 | 0 | 0 | 0 | ⋯ | 0 | 0 | 0 | 0 | 0 | 0 | 0 | 0 | 0 | enojo    |\n\n",
            "text/latex": "A data.frame: 10 × 217\n\\begin{tabular}{r|lllllllllllllllllllll}\n  & esa & por & chile & del & ese & fue & hace & hay & los & para & ⋯ & risa & transantiago & mcdonald's & artificial & transgenicos & … & juan & monsanto & gustado & emoción\\\\\n  & <dbl> & <dbl> & <dbl> & <dbl> & <dbl> & <dbl> & <dbl> & <dbl> & <dbl> & <dbl> & ⋯ & <dbl> & <dbl> & <dbl> & <dbl> & <dbl> & <dbl> & <dbl> & <dbl> & <dbl> & <fct>\\\\\n\\hline\n\t7 & 0 & 0 & 0 & 0 & 0 & 0 & 0 & 0 & 0 & 0 & ⋯ & 0 & 0 & 0 & 0 & 0 & 0 & 0 & 0 & 0 & sorpresa\\\\\n\t8 & 0 & 0 & 0 & 0 & 0 & 0 & 0 & 0 & 0 & 0 & ⋯ & 0 & 0 & 0 & 0 & 0 & 0 & 0 & 0 & 0 & alegria \\\\\n\t10 & 0 & 0 & 0 & 0 & 0 & 0 & 0 & 0 & 0 & 0 & ⋯ & 0 & 0 & 0 & 0 & 0 & 0 & 0 & 0 & 0 & enojo   \\\\\n\t12 & 0 & 0 & 0 & 1 & 0 & 0 & 0 & 0 & 0 & 0 & ⋯ & 0 & 0 & 0 & 0 & 0 & 0 & 0 & 0 & 0 & sorpresa\\\\\n\t13 & 0 & 0 & 0 & 0 & 0 & 0 & 0 & 0 & 0 & 0 & ⋯ & 0 & 0 & 0 & 0 & 0 & 0 & 0 & 0 & 0 & alegria \\\\\n\t17 & 0 & 0 & 0 & 0 & 0 & 0 & 0 & 0 & 0 & 0 & ⋯ & 0 & 0 & 0 & 0 & 0 & 0 & 0 & 0 & 0 & enojo   \\\\\n\t26 & 0 & 0 & 0 & 0 & 0 & 0 & 0 & 0 & 0 & 0 & ⋯ & 0 & 0 & 0 & 0 & 0 & 0 & 0 & 0 & 0 & alegria \\\\\n\t27 & 0 & 2 & 0 & 1 & 0 & 0 & 0 & 0 & 3 & 1 & ⋯ & 0 & 0 & 0 & 0 & 0 & 0 & 0 & 0 & 0 & alegria \\\\\n\t29 & 0 & 0 & 0 & 0 & 0 & 0 & 0 & 0 & 0 & 0 & ⋯ & 0 & 0 & 0 & 0 & 0 & 0 & 0 & 0 & 0 & sorpresa\\\\\n\t31 & 0 & 0 & 0 & 0 & 0 & 0 & 1 & 0 & 0 & 0 & ⋯ & 0 & 0 & 0 & 0 & 0 & 0 & 0 & 0 & 0 & enojo   \\\\\n\\end{tabular}\n",
            "text/plain": [
              "   esa por chile del ese fue hace hay los para ⋯ risa transantiago mcdonald's\n",
              "7  0   0   0     0   0   0   0    0   0   0    ⋯ 0    0            0         \n",
              "8  0   0   0     0   0   0   0    0   0   0    ⋯ 0    0            0         \n",
              "10 0   0   0     0   0   0   0    0   0   0    ⋯ 0    0            0         \n",
              "12 0   0   0     1   0   0   0    0   0   0    ⋯ 0    0            0         \n",
              "13 0   0   0     0   0   0   0    0   0   0    ⋯ 0    0            0         \n",
              "17 0   0   0     0   0   0   0    0   0   0    ⋯ 0    0            0         \n",
              "26 0   0   0     0   0   0   0    0   0   0    ⋯ 0    0            0         \n",
              "27 0   2   0     1   0   0   0    0   3   1    ⋯ 0    0            0         \n",
              "29 0   0   0     0   0   0   0    0   0   0    ⋯ 0    0            0         \n",
              "31 0   0   0     0   0   0   1    0   0   0    ⋯ 0    0            0         \n",
              "   artificial transgenicos … juan monsanto gustado emoción \n",
              "7  0          0            0 0    0        0       sorpresa\n",
              "8  0          0            0 0    0        0       alegria \n",
              "10 0          0            0 0    0        0       enojo   \n",
              "12 0          0            0 0    0        0       sorpresa\n",
              "13 0          0            0 0    0        0       alegria \n",
              "17 0          0            0 0    0        0       enojo   \n",
              "26 0          0            0 0    0        0       alegria \n",
              "27 0          0            0 0    0        0       alegria \n",
              "29 0          0            0 0    0        0       sorpresa\n",
              "31 0          0            0 0    0        0       enojo   "
            ]
          },
          "metadata": {}
        }
      ]
    },
    {
      "cell_type": "markdown",
      "metadata": {
        "id": "82LcskQOnNmH"
      },
      "source": [
        "## Ejercicio 3: Interpretación de desempeño de modelos de clasificación de referencia\n",
        "\n",
        "Habiendo definido y establecido los conjuntos de entrenamiento y de test, a continuación se ejecutan dos diferentes modelos de clasificación: Árbol de Decisión y más abajo una Red Neuronal (NNET). Cada uno obtiene su resultado, mostrando sus indicadores de desempeño.\n",
        "\n",
        "Nótese que ninguno de los 2 modelos da resultados significativamente buenos o mucho mejor que el otro, lo cual se debe a la inherente complejidad de los casos de lenguaje natural y contar sólo con unos pocos miles de ejemplos (en total son cerca de 7.000 ejemplos, divididos en 3 clases, lo cual no alcanza a reflejar la real diversidad de palabras asociadas a cada una de las clases, cosa que se empieza a lograr desde las decenas de miles de ejemplos por clase).\n",
        "\n",
        "Sin embargo, hay algunas observaciones que salen de los resultados de desempeño, además del hecho de que la red neuronal toma cerca de 10x el tiempo del Árbol de Decisión. De estas observaciones, se pide responder lo siguiente.\n",
        "\n",
        "**Pregunta 3.1 (1 punto)** Considere cambiar los parámetros de funcionamiento de la red neuronal (size, maxit) buscando su mejor desempeño e indique los valores de estos dos parámetros que resultó en mejores resultados.\n",
        "\n",
        "**Pregunta 3.2 (0,7 punto)** Teniendo este resultado se ve que de los dos modelos, hay uno con *accuracy* mejor que el otro, pero en forma más completa y precisa ¿cuál de los dos se puede considerar el mejor modelo al mirar su desempeño más completo y por qué? Nótese que la tabla de resultados tiene una serie de indicadores diferentes por cada una de las 3 clases, que sirven para entender cómo se comporta el modelo en una correcta clasificación.\n",
        "\n",
        "**Pregunta 3.3 (0,8 punto)** Se puede observar que el Árbol de Decisión tiene un muy mal desempeño en reconocer una de esas clases. ¿Cuál y por qué podría darse esto? (En otras palabras, ¿qué característica de este modelo puede provocar que en este caso una de las clases no sea factible de predecir?\n"
      ]
    },
    {
      "cell_type": "markdown",
      "metadata": {
        "id": "lzgDdw-S3sAg"
      },
      "source": [
        "**Árbol de Decisión**"
      ]
    },
    {
      "cell_type": "code",
      "metadata": {
        "id": "KOpqb-QInkff",
        "colab": {
          "base_uri": "https://localhost:8080/",
          "height": 593
        },
        "outputId": "d39deba0-9222-47a2-909e-9e48528278b3"
      },
      "source": [
        "set.seed(12345)\n",
        "DT_model_1 <- rpart(\n",
        "  formula = emoción ~ .,\n",
        "  data = training.set_1,\n",
        "  method = \"class\",\n",
        "  minbucket = 20\n",
        ")\n",
        "\n",
        "DT_predictTraining_1 <- predict(DT_model_1, training.set_1, type = \"class\")\n",
        "DT_predictTesting_1 <- predict(DT_model_1, testing.set_1, type = \"class\")\n",
        "cat(\"************* Resultados Árbol de Decisión - Testing *************\\n\")\n",
        "cat(\"************** Corpus normalizado y Sparce > 0,995 ***************\\n\")\n",
        "confusionMatrix(DT_predictTesting_1, as.factor(testing.set_1$emoción))"
      ],
      "execution_count": null,
      "outputs": [
        {
          "output_type": "stream",
          "name": "stdout",
          "text": [
            "************* Resultados Árbol de Decisión - Testing *************\n",
            "************** Corpus normalizado y Sparce > 0,995 ***************\n"
          ]
        },
        {
          "output_type": "display_data",
          "data": {
            "text/plain": [
              "Confusion Matrix and Statistics\n",
              "\n",
              "          Reference\n",
              "Prediction alegria enojo sorpresa\n",
              "  alegria       33     2        0\n",
              "  enojo        832   875      329\n",
              "  sorpresa       0     0        0\n",
              "\n",
              "Overall Statistics\n",
              "                                          \n",
              "               Accuracy : 0.4384          \n",
              "                 95% CI : (0.4169, 0.4601)\n",
              "    No Information Rate : 0.4235          \n",
              "    P-Value [Acc > NIR] : 0.08763         \n",
              "                                          \n",
              "                  Kappa : 0.0261          \n",
              "                                          \n",
              " Mcnemar's Test P-Value : NA              \n",
              "\n",
              "Statistics by Class:\n",
              "\n",
              "                     Class: alegria Class: enojo Class: sorpresa\n",
              "Sensitivity                 0.03815      0.99772          0.0000\n",
              "Specificity                 0.99834      0.02764          1.0000\n",
              "Pos Pred Value              0.94286      0.42976             NaN\n",
              "Neg Pred Value              0.59136      0.94286          0.8411\n",
              "Prevalence                  0.41767      0.42347          0.1589\n",
              "Detection Rate              0.01593      0.42250          0.0000\n",
              "Detection Prevalence        0.01690      0.98310          0.0000\n",
              "Balanced Accuracy           0.51825      0.51268          0.5000"
            ]
          },
          "metadata": {}
        }
      ]
    },
    {
      "cell_type": "code",
      "source": [
        "# Árbol de decisiones con corpus sin normalizar\n",
        "set.seed(12345)\n",
        "DT_model_2 <- rpart(\n",
        "  formula = emoción ~ .,\n",
        "  data = training.set_2,\n",
        "  method = \"class\",\n",
        "  minbucket = 20\n",
        ")\n",
        "\n",
        "DT_predictTraining_2 <- predict(DT_model_2, training.set_2, type = \"class\")\n",
        "DT_predictTesting_2 <- predict(DT_model_2, testing.set_2, type = \"class\")\n",
        "cat(\"************* Resultados Árbol de Decisión - Testing *************\\n\")\n",
        "cat(\"************* Corpus no normalizado y Sparce > 0,995 *************\\n\")\n",
        "confusionMatrix(DT_predictTesting_2, as.factor(testing.set_2$emoción))"
      ],
      "metadata": {
        "colab": {
          "base_uri": "https://localhost:8080/",
          "height": 593
        },
        "id": "gEk4yZ2R-jMR",
        "outputId": "6e8425d0-d011-44c4-b8eb-57f368900e79"
      },
      "execution_count": null,
      "outputs": [
        {
          "output_type": "stream",
          "name": "stdout",
          "text": [
            "************* Resultados Árbol de Decisión - Testing *************\n",
            "************* Corpus no normalizado y Sparce > 0,995 *************\n"
          ]
        },
        {
          "output_type": "display_data",
          "data": {
            "text/plain": [
              "Confusion Matrix and Statistics\n",
              "\n",
              "          Reference\n",
              "Prediction alegria enojo sorpresa\n",
              "  alegria       32     1        0\n",
              "  enojo        833   876      329\n",
              "  sorpresa       0     0        0\n",
              "\n",
              "Overall Statistics\n",
              "                                          \n",
              "               Accuracy : 0.4384          \n",
              "                 95% CI : (0.4169, 0.4601)\n",
              "    No Information Rate : 0.4235          \n",
              "    P-Value [Acc > NIR] : 0.08763         \n",
              "                                          \n",
              "                  Kappa : 0.0261          \n",
              "                                          \n",
              " Mcnemar's Test P-Value : NA              \n",
              "\n",
              "Statistics by Class:\n",
              "\n",
              "                     Class: alegria Class: enojo Class: sorpresa\n",
              "Sensitivity                 0.03699       0.9989          0.0000\n",
              "Specificity                 0.99917       0.0268          1.0000\n",
              "Pos Pred Value              0.96970       0.4298             NaN\n",
              "Neg Pred Value              0.59127       0.9697          0.8411\n",
              "Prevalence                  0.41767       0.4235          0.1589\n",
              "Detection Rate              0.01545       0.4230          0.0000\n",
              "Detection Prevalence        0.01593       0.9841          0.0000\n",
              "Balanced Accuracy           0.51808       0.5128          0.5000"
            ]
          },
          "metadata": {}
        }
      ]
    },
    {
      "cell_type": "markdown",
      "metadata": {
        "id": "7e4KsCJc36u-"
      },
      "source": [
        "**Red Neuronal**\n",
        "\n",
        "Nótese que toma varios minutos la ejecución de entrenamiento y evaluación de esta red, por lo que se recomienda hacer uso estratégico de los cambios en la sección/ejercicio 1 y 2 anteriores antes de probar."
      ]
    },
    {
      "cell_type": "code",
      "source": [
        "# Parámetros de nnet():\n",
        "#     size: moverse entre 5 y 40. Es la cantidad de nodos de la única capa intermedia.\n",
        "#           Sin embargo, nótese que según el tamaño del vocabulario,\n",
        "#           valores altos de size pueden resultar en error de ejecución.\n",
        "#           En estos casos, sólo queda reducir el valor de size hasta que MaxNWts quede en menos de 30.000.\n",
        "#     maxit: 20 para pruebas cortas, hasta más de 100 (varios minutos de ejecución)\n",
        "#     MaxNWts: cantidad tope de arcos de conexión. 30.000 se mantiene dentro del tope de RAM,\n",
        "#              pero puede requerir varios minutos de ejecución.\n",
        "cat(\"Entrenando Red Neuronal 1\\n\")\n",
        "set.seed(12345)\n",
        "NN.model_1 <- nnet(\n",
        "  formula = as.factor(emoción) ~ .,\n",
        "  data = training.set_1,\n",
        "  size = 20,\n",
        "  maxit = 30,\n",
        "  MaxNWts = 30000\n",
        ")"
      ],
      "metadata": {
        "colab": {
          "base_uri": "https://localhost:8080/"
        },
        "id": "0aozYDwTyC12",
        "outputId": "1dc3686a-4faf-48d4-90b6-05bf64303958"
      },
      "execution_count": null,
      "outputs": [
        {
          "output_type": "stream",
          "name": "stdout",
          "text": [
            "Entrenando Red Neuronal 1\n",
            "# weights:  3983\n",
            "initial  value 6285.059103 \n",
            "iter  10 value 4666.818835\n",
            "iter  20 value 4391.184110\n",
            "iter  30 value 4128.853194\n",
            "final  value 4128.853194 \n",
            "stopped after 30 iterations\n"
          ]
        }
      ]
    },
    {
      "cell_type": "code",
      "metadata": {
        "id": "XVsGNIiwceZ-",
        "colab": {
          "base_uri": "https://localhost:8080/",
          "height": 593
        },
        "outputId": "0a554cf9-ec77-4c04-dd49-1959af58f4e0"
      },
      "source": [
        "# Predicción de red neuronal\n",
        "NN.predict_1 <- predict(NN.model_1, testing.set_1, type = \"class\")\n",
        "\n",
        "cat(\"********** Resultados Red Neuronal de 1 capa - Testing ***********\\n\")\n",
        "cat(\"************** Corpus normalizado y Sparce > 0,995 ***************\\n\")\n",
        "x1 <- testing.set_1[, 1:dim(corpus.procesado_1)[2] - 1]\n",
        "y1 <- testing.set_1[, dim(corpus.procesado_1)[2]]\n",
        "y.predicted_1 <- predict(NN.model_1, x1, type = 'class')\n",
        "confusionMatrix(as.factor(y.predicted_1), y1)"
      ],
      "execution_count": null,
      "outputs": [
        {
          "output_type": "stream",
          "name": "stdout",
          "text": [
            "********** Resultados Red Neuronal de 1 capa - Testing ***********\n",
            "************** Corpus normalizado y Sparce > 0,995 ***************\n"
          ]
        },
        {
          "output_type": "display_data",
          "data": {
            "text/plain": [
              "Confusion Matrix and Statistics\n",
              "\n",
              "          Reference\n",
              "Prediction alegria enojo sorpresa\n",
              "  alegria      427   346      100\n",
              "  enojo        375   471      181\n",
              "  sorpresa      63    60       48\n",
              "\n",
              "Overall Statistics\n",
              "                                          \n",
              "               Accuracy : 0.4568          \n",
              "                 95% CI : (0.4352, 0.4785)\n",
              "    No Information Rate : 0.4235          \n",
              "    P-Value [Acc > NIR] : 0.001191        \n",
              "                                          \n",
              "                  Kappa : 0.0959          \n",
              "                                          \n",
              " Mcnemar's Test P-Value : 3.652e-15       \n",
              "\n",
              "Statistics by Class:\n",
              "\n",
              "                     Class: alegria Class: enojo Class: sorpresa\n",
              "Sensitivity                  0.4936       0.5371         0.14590\n",
              "Specificity                  0.6302       0.5343         0.92939\n",
              "Pos Pred Value               0.4891       0.4586         0.28070\n",
              "Neg Pred Value               0.6344       0.6111         0.85211\n",
              "Prevalence                   0.4177       0.4235         0.15886\n",
              "Detection Rate               0.2062       0.2274         0.02318\n",
              "Detection Prevalence         0.4215       0.4959         0.08257\n",
              "Balanced Accuracy            0.5619       0.5357         0.53764"
            ]
          },
          "metadata": {}
        }
      ]
    },
    {
      "cell_type": "code",
      "source": [
        "# Red neuronal con corpus no normalizado\n",
        "cat(\"Entrenando Red Neuronal 2\\n\")\n",
        "set.seed(12345)\n",
        "NN.model_2 <- nnet(\n",
        "  formula = as.factor(emoción) ~ .,\n",
        "  data = training.set_2,\n",
        "  size = 20,\n",
        "  maxit = 30,\n",
        "  MaxNWts = 30000\n",
        ")"
      ],
      "metadata": {
        "colab": {
          "base_uri": "https://localhost:8080/"
        },
        "id": "5OlTkEszAwR-",
        "outputId": "af7686a4-3f12-4bfb-9783-e72774721e65"
      },
      "execution_count": null,
      "outputs": [
        {
          "output_type": "stream",
          "name": "stdout",
          "text": [
            "Entrenando Red Neuronal 2\n",
            "# weights:  4403\n",
            "initial  value 5996.772296 \n",
            "iter  10 value 4746.403898\n",
            "iter  20 value 4405.991497\n",
            "iter  30 value 4106.790756\n",
            "final  value 4106.790756 \n",
            "stopped after 30 iterations\n"
          ]
        }
      ]
    },
    {
      "cell_type": "code",
      "source": [
        "# Predicción de red neuronal con corpus no normalizado\n",
        "NN.predict_2 <- predict(NN.model_2, testing.set_2, type = \"class\")\n",
        "\n",
        "cat(\"********** Resultados Red Neuronal de 1 capa - Testing ***********\\n\")\n",
        "cat(\"************* Corpus no normalizado y Sparce > 0,995 *************\\n\")\n",
        "x2 <- testing.set_2[, 1:dim(corpus.procesado_2)[2] - 1]\n",
        "y2 <- testing.set_2[, dim(corpus.procesado_2)[2]]\n",
        "y.predicted_2 <- predict(NN.model_2, x2, type = 'class')\n",
        "confusionMatrix(as.factor(y.predicted_2), y2)"
      ],
      "metadata": {
        "colab": {
          "base_uri": "https://localhost:8080/",
          "height": 593
        },
        "id": "eSuNeMf5_3Z1",
        "outputId": "83f46a97-a6e7-45e8-df08-c708147e5e56"
      },
      "execution_count": null,
      "outputs": [
        {
          "output_type": "stream",
          "name": "stdout",
          "text": [
            "********** Resultados Red Neuronal de 1 capa - Testing ***********\n",
            "************* Corpus no normalizado y Sparce > 0,995 *************\n"
          ]
        },
        {
          "output_type": "display_data",
          "data": {
            "text/plain": [
              "Confusion Matrix and Statistics\n",
              "\n",
              "          Reference\n",
              "Prediction alegria enojo sorpresa\n",
              "  alegria      446   351      109\n",
              "  enojo        359   474      166\n",
              "  sorpresa      60    52       54\n",
              "\n",
              "Overall Statistics\n",
              "                                          \n",
              "               Accuracy : 0.4703          \n",
              "                 95% CI : (0.4486, 0.4921)\n",
              "    No Information Rate : 0.4235          \n",
              "    P-Value [Acc > NIR] : 9.558e-06       \n",
              "                                          \n",
              "                  Kappa : 0.1176          \n",
              "                                          \n",
              " Mcnemar's Test P-Value : 6.199e-16       \n",
              "\n",
              "Statistics by Class:\n",
              "\n",
              "                     Class: alegria Class: enojo Class: sorpresa\n",
              "Sensitivity                  0.5156       0.5405         0.16413\n",
              "Specificity                  0.6186       0.5603         0.93571\n",
              "Pos Pred Value               0.4923       0.4745         0.32530\n",
              "Neg Pred Value               0.6403       0.6241         0.85564\n",
              "Prevalence                   0.4177       0.4235         0.15886\n",
              "Detection Rate               0.2154       0.2289         0.02607\n",
              "Detection Prevalence         0.4375       0.4824         0.08015\n",
              "Balanced Accuracy            0.5671       0.5504         0.54992"
            ]
          },
          "metadata": {}
        }
      ]
    },
    {
      "cell_type": "code",
      "source": [
        "# Generación del corpus con eliminación de las palabras que tengan 0s en más del\n",
        "# 99,0% de las filas (mensajes de Twitter).\n",
        "corpus.procesado_3 <- DocumentTermMatrix(corpus.normalizado) %>%\n",
        "  removeSparseTerms(sparse = 0.990) %>%\n",
        "  as.matrix() %>%\n",
        "  as.data.frame() %>%\n",
        "  mutate(emoción = as.factor(commentsdataset$emoción))\n",
        "\n",
        "# Generación del corpus con eliminación de las palabras que tengan 0s en más del\n",
        "# 99,8% de las filas (mensajes de Twitter).\n",
        "corpus.procesado_4 <- DocumentTermMatrix(corpus.normalizado) %>%\n",
        "  removeSparseTerms(sparse = 0.998) %>%\n",
        "  as.matrix() %>%\n",
        "  as.data.frame() %>%\n",
        "  mutate(emoción = as.factor(commentsdataset$emoción))\n",
        "\n",
        "cat(\"Corpus con eliminación del 99,0%\")\n",
        "dim(corpus.procesado_3)\n",
        "\n",
        "cat(\"\\nCorpus con eliminación del 99,5%\")\n",
        "dim(corpus.procesado_1)\n",
        "\n",
        "cat(\"\\nCorpus con eliminación del 99,8%\")\n",
        "dim(corpus.procesado_4)"
      ],
      "metadata": {
        "colab": {
          "base_uri": "https://localhost:8080/",
          "height": 159
        },
        "id": "eN7-PLmeHeNr",
        "outputId": "428fb452-2c3d-4b0b-ee56-c7995ba9a013"
      },
      "execution_count": null,
      "outputs": [
        {
          "output_type": "stream",
          "name": "stdout",
          "text": [
            "Corpus con eliminación del 99,0%"
          ]
        },
        {
          "output_type": "display_data",
          "data": {
            "text/html": [
              "<style>\n",
              ".list-inline {list-style: none; margin:0; padding: 0}\n",
              ".list-inline>li {display: inline-block}\n",
              ".list-inline>li:not(:last-child)::after {content: \"\\00b7\"; padding: 0 .5ex}\n",
              "</style>\n",
              "<ol class=list-inline><li>6901</li><li>72</li></ol>\n"
            ],
            "text/markdown": "1. 6901\n2. 72\n\n\n",
            "text/latex": "\\begin{enumerate*}\n\\item 6901\n\\item 72\n\\end{enumerate*}\n",
            "text/plain": [
              "[1] 6901   72"
            ]
          },
          "metadata": {}
        },
        {
          "output_type": "stream",
          "name": "stdout",
          "text": [
            "\n",
            "Corpus con eliminación del 99,5%"
          ]
        },
        {
          "output_type": "display_data",
          "data": {
            "text/html": [
              "<style>\n",
              ".list-inline {list-style: none; margin:0; padding: 0}\n",
              ".list-inline>li {display: inline-block}\n",
              ".list-inline>li:not(:last-child)::after {content: \"\\00b7\"; padding: 0 .5ex}\n",
              "</style>\n",
              "<ol class=list-inline><li>6901</li><li>196</li></ol>\n"
            ],
            "text/markdown": "1. 6901\n2. 196\n\n\n",
            "text/latex": "\\begin{enumerate*}\n\\item 6901\n\\item 196\n\\end{enumerate*}\n",
            "text/plain": [
              "[1] 6901  196"
            ]
          },
          "metadata": {}
        },
        {
          "output_type": "stream",
          "name": "stdout",
          "text": [
            "\n",
            "Corpus con eliminación del 99,8%"
          ]
        },
        {
          "output_type": "display_data",
          "data": {
            "text/html": [
              "<style>\n",
              ".list-inline {list-style: none; margin:0; padding: 0}\n",
              ".list-inline>li {display: inline-block}\n",
              ".list-inline>li:not(:last-child)::after {content: \"\\00b7\"; padding: 0 .5ex}\n",
              "</style>\n",
              "<ol class=list-inline><li>6901</li><li>626</li></ol>\n"
            ],
            "text/markdown": "1. 6901\n2. 626\n\n\n",
            "text/latex": "\\begin{enumerate*}\n\\item 6901\n\\item 626\n\\end{enumerate*}\n",
            "text/plain": [
              "[1] 6901  626"
            ]
          },
          "metadata": {}
        }
      ]
    },
    {
      "cell_type": "code",
      "source": [
        "# Generación de los datasets de entrenamiento y validación con sparse > 0.990.\n",
        "set.seed(12345)\n",
        "ratio_3 <- sample(nrow(corpus.procesado_3), nrow(corpus.procesado_3) * 0.70)\n",
        "training.set_3 = corpus.procesado_3[ratio_3, ]\n",
        "testing.set_3 = corpus.procesado_3[-ratio_3, ]\n",
        "cat(\"Dimensiones de los datasets de entrenamiento/validación con sparse 0,990.\")\n",
        "dim(training.set_3)\n",
        "dim(testing.set_3)\n",
        "\n",
        "# Generación de los datasets de entrenamiento y validación con sparse > 0.998.\n",
        "ratio_4 <- sample(nrow(corpus.procesado_4), nrow(corpus.procesado_4) * 0.70)\n",
        "training.set_4 = corpus.procesado_4[ratio_4, ]\n",
        "testing.set_4 = corpus.procesado_4[-ratio_4, ]\n",
        "cat(\"\\nDimensiones de los datasets de entrenamiento/validación con sparse 0,998.\")\n",
        "dim(training.set_4)\n",
        "dim(testing.set_4)"
      ],
      "metadata": {
        "id": "mPU8WUVgMcv6",
        "colab": {
          "base_uri": "https://localhost:8080/",
          "height": 140
        },
        "outputId": "d1b22ddf-7fb7-4eb7-b457-1016f3eb5a7f"
      },
      "execution_count": null,
      "outputs": [
        {
          "output_type": "stream",
          "name": "stdout",
          "text": [
            "Dimensiones de los datasets de entrenamiento/validación con sparse 0,990."
          ]
        },
        {
          "output_type": "display_data",
          "data": {
            "text/html": [
              "<style>\n",
              ".list-inline {list-style: none; margin:0; padding: 0}\n",
              ".list-inline>li {display: inline-block}\n",
              ".list-inline>li:not(:last-child)::after {content: \"\\00b7\"; padding: 0 .5ex}\n",
              "</style>\n",
              "<ol class=list-inline><li>4830</li><li>72</li></ol>\n"
            ],
            "text/markdown": "1. 4830\n2. 72\n\n\n",
            "text/latex": "\\begin{enumerate*}\n\\item 4830\n\\item 72\n\\end{enumerate*}\n",
            "text/plain": [
              "[1] 4830   72"
            ]
          },
          "metadata": {}
        },
        {
          "output_type": "display_data",
          "data": {
            "text/html": [
              "<style>\n",
              ".list-inline {list-style: none; margin:0; padding: 0}\n",
              ".list-inline>li {display: inline-block}\n",
              ".list-inline>li:not(:last-child)::after {content: \"\\00b7\"; padding: 0 .5ex}\n",
              "</style>\n",
              "<ol class=list-inline><li>2071</li><li>72</li></ol>\n"
            ],
            "text/markdown": "1. 2071\n2. 72\n\n\n",
            "text/latex": "\\begin{enumerate*}\n\\item 2071\n\\item 72\n\\end{enumerate*}\n",
            "text/plain": [
              "[1] 2071   72"
            ]
          },
          "metadata": {}
        },
        {
          "output_type": "stream",
          "name": "stdout",
          "text": [
            "\n",
            "Dimensiones de los datasets de entrenamiento/validación con sparse 0,998."
          ]
        },
        {
          "output_type": "display_data",
          "data": {
            "text/html": [
              "<style>\n",
              ".list-inline {list-style: none; margin:0; padding: 0}\n",
              ".list-inline>li {display: inline-block}\n",
              ".list-inline>li:not(:last-child)::after {content: \"\\00b7\"; padding: 0 .5ex}\n",
              "</style>\n",
              "<ol class=list-inline><li>4830</li><li>626</li></ol>\n"
            ],
            "text/markdown": "1. 4830\n2. 626\n\n\n",
            "text/latex": "\\begin{enumerate*}\n\\item 4830\n\\item 626\n\\end{enumerate*}\n",
            "text/plain": [
              "[1] 4830  626"
            ]
          },
          "metadata": {}
        },
        {
          "output_type": "display_data",
          "data": {
            "text/html": [
              "<style>\n",
              ".list-inline {list-style: none; margin:0; padding: 0}\n",
              ".list-inline>li {display: inline-block}\n",
              ".list-inline>li:not(:last-child)::after {content: \"\\00b7\"; padding: 0 .5ex}\n",
              "</style>\n",
              "<ol class=list-inline><li>2071</li><li>626</li></ol>\n"
            ],
            "text/markdown": "1. 2071\n2. 626\n\n\n",
            "text/latex": "\\begin{enumerate*}\n\\item 2071\n\\item 626\n\\end{enumerate*}\n",
            "text/plain": [
              "[1] 2071  626"
            ]
          },
          "metadata": {}
        }
      ]
    },
    {
      "cell_type": "code",
      "source": [
        "# Árbol de decisión con sparce > 0,990\n",
        "set.seed(12345)\n",
        "DT_model_3 <- rpart(\n",
        "  formula = emoción ~ .,\n",
        "  data = training.set_3,\n",
        "  method = \"class\",\n",
        "  minbucket = 20\n",
        ")\n",
        "DT_predictTesting_3 <- predict(DT_model_3, testing.set_3, type = \"class\")\n",
        "cat(\"************* Resultados Árbol de Decisión - Testing *************\\n\")\n",
        "cat(\"************** Corpus normalizado y Sparce > 0,990 ***************\\n\")\n",
        "confusionMatrix(DT_predictTesting_3, as.factor(testing.set_3$emoción))"
      ],
      "metadata": {
        "colab": {
          "base_uri": "https://localhost:8080/",
          "height": 593
        },
        "id": "7haBMoMISvfT",
        "outputId": "27c24e8f-f5ac-47b8-a1b8-ddfe74484c4d"
      },
      "execution_count": null,
      "outputs": [
        {
          "output_type": "stream",
          "name": "stdout",
          "text": [
            "************* Resultados Árbol de Decisión - Testing *************\n",
            "************** Corpus normalizado y Sparce > 0,990 ***************\n"
          ]
        },
        {
          "output_type": "display_data",
          "data": {
            "text/plain": [
              "Confusion Matrix and Statistics\n",
              "\n",
              "          Reference\n",
              "Prediction alegria enojo sorpresa\n",
              "  alegria       33     2        0\n",
              "  enojo        832   875      329\n",
              "  sorpresa       0     0        0\n",
              "\n",
              "Overall Statistics\n",
              "                                          \n",
              "               Accuracy : 0.4384          \n",
              "                 95% CI : (0.4169, 0.4601)\n",
              "    No Information Rate : 0.4235          \n",
              "    P-Value [Acc > NIR] : 0.08763         \n",
              "                                          \n",
              "                  Kappa : 0.0261          \n",
              "                                          \n",
              " Mcnemar's Test P-Value : NA              \n",
              "\n",
              "Statistics by Class:\n",
              "\n",
              "                     Class: alegria Class: enojo Class: sorpresa\n",
              "Sensitivity                 0.03815      0.99772          0.0000\n",
              "Specificity                 0.99834      0.02764          1.0000\n",
              "Pos Pred Value              0.94286      0.42976             NaN\n",
              "Neg Pred Value              0.59136      0.94286          0.8411\n",
              "Prevalence                  0.41767      0.42347          0.1589\n",
              "Detection Rate              0.01593      0.42250          0.0000\n",
              "Detection Prevalence        0.01690      0.98310          0.0000\n",
              "Balanced Accuracy           0.51825      0.51268          0.5000"
            ]
          },
          "metadata": {}
        }
      ]
    },
    {
      "cell_type": "code",
      "source": [
        "# Árbol de decisión con sparce > 0,998\n",
        "set.seed(12345)\n",
        "DT_model_4 <- rpart(\n",
        "  formula = emoción ~ .,\n",
        "  data = training.set_4,\n",
        "  method = \"class\",\n",
        "  minbucket = 20\n",
        ")\n",
        "DT_predictTesting_4 <- predict(DT_model_4, testing.set_4, type = \"class\")\n",
        "cat(\"************* Resultados Árbol de Decisión - Testing *************\\n\")\n",
        "cat(\"************** Corpus normalizado y Sparce > 0,998 ***************\\n\")\n",
        "confusionMatrix(DT_predictTesting_4, as.factor(testing.set_4$emoción))"
      ],
      "metadata": {
        "colab": {
          "base_uri": "https://localhost:8080/",
          "height": 593
        },
        "id": "J5pOnDUsTI48",
        "outputId": "f1342969-a9fc-4fd0-e8c2-3f0540c4892f"
      },
      "execution_count": null,
      "outputs": [
        {
          "output_type": "stream",
          "name": "stdout",
          "text": [
            "************* Resultados Árbol de Decisión - Testing *************\n",
            "************** Corpus normalizado y Sparce > 0,998 ***************\n"
          ]
        },
        {
          "output_type": "display_data",
          "data": {
            "text/plain": [
              "Confusion Matrix and Statistics\n",
              "\n",
              "          Reference\n",
              "Prediction alegria enojo sorpresa\n",
              "  alegria       26     1        2\n",
              "  enojo        803   919      320\n",
              "  sorpresa       0     0        0\n",
              "\n",
              "Overall Statistics\n",
              "                                         \n",
              "               Accuracy : 0.4563         \n",
              "                 95% CI : (0.4347, 0.478)\n",
              "    No Information Rate : 0.4442         \n",
              "    P-Value [Acc > NIR] : 0.1393         \n",
              "                                         \n",
              "                  Kappa : 0.0228         \n",
              "                                         \n",
              " Mcnemar's Test P-Value : <2e-16         \n",
              "\n",
              "Statistics by Class:\n",
              "\n",
              "                     Class: alegria Class: enojo Class: sorpresa\n",
              "Sensitivity                 0.03136      0.99891          0.0000\n",
              "Specificity                 0.99758      0.02433          1.0000\n",
              "Pos Pred Value              0.89655      0.45005             NaN\n",
              "Neg Pred Value              0.60676      0.96552          0.8445\n",
              "Prevalence                  0.40029      0.44423          0.1555\n",
              "Detection Rate              0.01255      0.44375          0.0000\n",
              "Detection Prevalence        0.01400      0.98600          0.0000\n",
              "Balanced Accuracy           0.51447      0.51162          0.5000"
            ]
          },
          "metadata": {}
        }
      ]
    },
    {
      "cell_type": "code",
      "source": [
        "#install.packages(\"rpart.plot\")\n",
        "cat(\"Árbol de decisiones con sparse 0,990\\n\")\n",
        "rpart.plot::rpart.plot(DT_model_3)"
      ],
      "metadata": {
        "colab": {
          "base_uri": "https://localhost:8080/",
          "height": 455
        },
        "id": "W5Mm2gU4bWbY",
        "outputId": "dadad84a-00c9-4f1f-ebd9-6866d54811c9"
      },
      "execution_count": null,
      "outputs": [
        {
          "output_type": "stream",
          "name": "stdout",
          "text": [
            "Árbol de decisiones con sparse 0,990\n"
          ]
        },
        {
          "output_type": "display_data",
          "data": {
            "text/plain": [
              "plot without title"
            ],
            "image/png": "[encoded data removed]"
          },
          "metadata": {
            "image/png": {
              "width": 420,
              "height": 420
            }
          }
        }
      ]
    },
    {
      "cell_type": "code",
      "source": [
        "cat(\"Árbol de decisiones con sparse 0,995\\n\")\n",
        "rpart.plot::rpart.plot(DT_model_1)"
      ],
      "metadata": {
        "colab": {
          "base_uri": "https://localhost:8080/",
          "height": 455
        },
        "id": "63tRa7IncPIy",
        "outputId": "5554f56d-0280-40b1-d424-f3265599d0a9"
      },
      "execution_count": null,
      "outputs": [
        {
          "output_type": "stream",
          "name": "stdout",
          "text": [
            "Árbol de decisiones con sparse 0,995\n"
          ]
        },
        {
          "output_type": "display_data",
          "data": {
            "text/plain": [
              "plot without title"
            ],
            "image/png": "[encoded data removed]"
          },
          "metadata": {
            "image/png": {
              "width": 420,
              "height": 420
            }
          }
        }
      ]
    },
    {
      "cell_type": "code",
      "source": [
        "cat(\"Árbol de decisiones con sparse 0,998\\n\")\n",
        "rpart.plot::rpart.plot(DT_model_4)"
      ],
      "metadata": {
        "colab": {
          "base_uri": "https://localhost:8080/",
          "height": 455
        },
        "id": "59zBxUWIcRWp",
        "outputId": "0f513f88-28eb-492f-c75d-2b4c4ab61d6c"
      },
      "execution_count": null,
      "outputs": [
        {
          "output_type": "stream",
          "name": "stdout",
          "text": [
            "Árbol de decisiones con sparse 0,998\n"
          ]
        },
        {
          "output_type": "display_data",
          "data": {
            "text/plain": [
              "plot without title"
            ],
            "image/png": "[encoded data removed]"
          },
          "metadata": {
            "image/png": {
              "width": 420,
              "height": 420
            }
          }
        }
      ]
    },
    {
      "cell_type": "code",
      "source": [
        "# Red Neuronal con sparce > 0,990\n",
        "cat(\"Entrenando Red Neuronal 3\\n\")\n",
        "set.seed(12345)\n",
        "NN.model_3 <- nnet(\n",
        "  formula = as.factor(emoción) ~ .,\n",
        "  data = training.set_3,\n",
        "  size = 20,\n",
        "  maxit = 30,\n",
        "  MaxNWts = 30000\n",
        ")"
      ],
      "metadata": {
        "colab": {
          "base_uri": "https://localhost:8080/"
        },
        "id": "EsVBSeQJTn4U",
        "outputId": "e6bc66bb-95ec-4c4c-b33f-d22ede9494bc"
      },
      "execution_count": null,
      "outputs": [
        {
          "output_type": "stream",
          "name": "stdout",
          "text": [
            "Entrenando Red Neuronal 3\n",
            "# weights:  1503\n",
            "initial  value 5444.713630 \n",
            "iter  10 value 4674.141237\n",
            "iter  20 value 4572.355916\n",
            "iter  30 value 4443.201823\n",
            "final  value 4443.201823 \n",
            "stopped after 30 iterations\n"
          ]
        }
      ]
    },
    {
      "cell_type": "code",
      "source": [
        "# Predicción de red neuronal con sparce > 0,990\n",
        "NN.predict_3 <- predict(NN.model_3, testing.set_3, type = \"class\")\n",
        "\n",
        "cat(\"********** Resultados Red Neuronal de 1 capa - Testing ***********\\n\")\n",
        "cat(\"************** Corpus normalizado y Sparce > 0,990 ***************\\n\")\n",
        "x3 <- testing.set_3[, 1:dim(corpus.procesado_3)[2] - 1]\n",
        "y3 <- testing.set_3[, dim(corpus.procesado_3)[2]]\n",
        "y.predicted_3 <- predict(NN.model_3, x3, type = 'class')\n",
        "confusionMatrix(as.factor(y.predicted_3), y3)"
      ],
      "metadata": {
        "colab": {
          "base_uri": "https://localhost:8080/",
          "height": 593
        },
        "id": "YAMVQ-U8T4fq",
        "outputId": "b1acd39d-f00e-46ba-da9c-b31f78d86957"
      },
      "execution_count": null,
      "outputs": [
        {
          "output_type": "stream",
          "name": "stdout",
          "text": [
            "********** Resultados Red Neuronal de 1 capa - Testing ***********\n",
            "************** Corpus normalizado y Sparce > 0,990 ***************\n"
          ]
        },
        {
          "output_type": "display_data",
          "data": {
            "text/plain": [
              "Confusion Matrix and Statistics\n",
              "\n",
              "          Reference\n",
              "Prediction alegria enojo sorpresa\n",
              "  alegria      283   197       73\n",
              "  enojo        549   642      231\n",
              "  sorpresa      33    38       25\n",
              "\n",
              "Overall Statistics\n",
              "                                          \n",
              "               Accuracy : 0.4587          \n",
              "                 95% CI : (0.4371, 0.4805)\n",
              "    No Information Rate : 0.4235          \n",
              "    P-Value [Acc > NIR] : 0.0006525       \n",
              "                                          \n",
              "                  Kappa : 0.0831          \n",
              "                                          \n",
              " Mcnemar's Test P-Value : < 2.2e-16       \n",
              "\n",
              "Statistics by Class:\n",
              "\n",
              "                     Class: alegria Class: enojo Class: sorpresa\n",
              "Sensitivity                  0.3272       0.7320         0.07599\n",
              "Specificity                  0.7761       0.3467         0.95924\n",
              "Pos Pred Value               0.5118       0.4515         0.26042\n",
              "Neg Pred Value               0.6166       0.6379         0.84608\n",
              "Prevalence                   0.4177       0.4235         0.15886\n",
              "Detection Rate               0.1366       0.3100         0.01207\n",
              "Detection Prevalence         0.2670       0.6866         0.04635\n",
              "Balanced Accuracy            0.5516       0.5394         0.51762"
            ]
          },
          "metadata": {}
        }
      ]
    },
    {
      "cell_type": "code",
      "source": [
        "\n",
        "# Red Neuronal con sparce > 0,998\n",
        "cat(\"Entrenando Red Neuronal 4\\n\")\n",
        "set.seed(12345)\n",
        "NN.model_4 <- nnet(\n",
        "  formula = as.factor(emoción) ~ .,\n",
        "  data = training.set_4,\n",
        "  size = 20,\n",
        "  maxit = 30,\n",
        "  MaxNWts = 30000\n",
        ")"
      ],
      "metadata": {
        "colab": {
          "base_uri": "https://localhost:8080/"
        },
        "id": "x-2pXjlIT4S2",
        "outputId": "5e778d1b-7d0c-481d-c65a-9de562567487"
      },
      "execution_count": null,
      "outputs": [
        {
          "output_type": "stream",
          "name": "stdout",
          "text": [
            "Entrenando Red Neuronal 4\n",
            "# weights:  12583\n",
            "initial  value 9731.259108 \n",
            "iter  10 value 4747.736979\n",
            "iter  20 value 4140.905054\n",
            "iter  30 value 3494.506441\n",
            "final  value 3494.506441 \n",
            "stopped after 30 iterations\n"
          ]
        }
      ]
    },
    {
      "cell_type": "code",
      "source": [
        "# Predicción de red neuronal con sparce > 0,998\n",
        "NN.predict_4 <- predict(NN.model_4, testing.set_4, type = \"class\")\n",
        "\n",
        "cat(\"********** Resultados Red Neuronal de 1 capa - Testing ***********\\n\")\n",
        "cat(\"************** Corpus normalizado y Sparce > 0,998 ***************\\n\")\n",
        "x4 <- testing.set_4[, 1:dim(corpus.procesado_4)[2] - 1]\n",
        "y4 <- testing.set_4[, dim(corpus.procesado_4)[2]]\n",
        "y.predicted_4 <- predict(NN.model_4, x4, type = 'class')\n",
        "confusionMatrix(as.factor(y.predicted_4), y4)"
      ],
      "metadata": {
        "colab": {
          "base_uri": "https://localhost:8080/",
          "height": 593
        },
        "id": "h2IDrbVLUUSN",
        "outputId": "8f25aa22-18ae-4ef7-d4ad-606967911b83"
      },
      "execution_count": null,
      "outputs": [
        {
          "output_type": "stream",
          "name": "stdout",
          "text": [
            "********** Resultados Red Neuronal de 1 capa - Testing ***********\n",
            "************** Corpus normalizado y Sparce > 0,998 ***************\n"
          ]
        },
        {
          "output_type": "display_data",
          "data": {
            "text/plain": [
              "Confusion Matrix and Statistics\n",
              "\n",
              "          Reference\n",
              "Prediction alegria enojo sorpresa\n",
              "  alegria      411   376       97\n",
              "  enojo        346   451      144\n",
              "  sorpresa      72    93       81\n",
              "\n",
              "Overall Statistics\n",
              "                                          \n",
              "               Accuracy : 0.4553          \n",
              "                 95% CI : (0.4337, 0.4771)\n",
              "    No Information Rate : 0.4442          \n",
              "    P-Value [Acc > NIR] : 0.159856        \n",
              "                                          \n",
              "                  Kappa : 0.1054          \n",
              "                                          \n",
              " Mcnemar's Test P-Value : 0.001178        \n",
              "\n",
              "Statistics by Class:\n",
              "\n",
              "                     Class: alegria Class: enojo Class: sorpresa\n",
              "Sensitivity                  0.4958       0.4902         0.25155\n",
              "Specificity                  0.6192       0.5743         0.90566\n",
              "Pos Pred Value               0.4649       0.4793         0.32927\n",
              "Neg Pred Value               0.6479       0.5850         0.86795\n",
              "Prevalence                   0.4003       0.4442         0.15548\n",
              "Detection Rate               0.1985       0.2178         0.03911\n",
              "Detection Prevalence         0.4268       0.4544         0.11878\n",
              "Balanced Accuracy            0.5575       0.5323         0.57861"
            ]
          },
          "metadata": {}
        }
      ]
    },
    {
      "cell_type": "code",
      "source": [
        "# Generación del corpus no nomralizado y con eliminación de las palabras que\n",
        "# tengan 0s en más del 99,8% de las filas (mensajes de Twitter).\n",
        "corpus.procesado_5 <- DocumentTermMatrix(corpus.original) %>%\n",
        "  removeSparseTerms(sparse = 0.998) %>%\n",
        "  as.matrix() %>%\n",
        "  as.data.frame() %>%\n",
        "  mutate(emoción = as.factor(commentsdataset$emoción))\n",
        "cat(\"\\nCorpus no normalizado con eliminación del 99,8%\")\n",
        "dim(corpus.procesado_5)\n",
        "\n",
        "ratio_5 <- sample(nrow(corpus.procesado_3), nrow(corpus.procesado_3) * 0.70)\n",
        "training.set_5 = corpus.procesado_5[ratio_5, ]\n",
        "testing.set_5 = corpus.procesado_5[-ratio_5, ]\n",
        "cat(\n",
        "  \"\\nDimensiones de datasets de entrenamiento/validación con sparse 0,990.\\n\",\n",
        "  \"Corpus sin normalizar.\\n\",\n",
        "  sep = \"\"\n",
        ")\n",
        "dim(training.set_5)\n",
        "dim(testing.set_5)"
      ],
      "metadata": {
        "colab": {
          "base_uri": "https://localhost:8080/",
          "height": 159
        },
        "id": "tyU9ekRtdrHd",
        "outputId": "8966b8d8-72a5-4a5a-8743-7c4a47af29a0"
      },
      "execution_count": null,
      "outputs": [
        {
          "output_type": "stream",
          "name": "stdout",
          "text": [
            "\n",
            "Corpus no normalizado con eliminación del 99,8%"
          ]
        },
        {
          "output_type": "display_data",
          "data": {
            "text/html": [
              "<style>\n",
              ".list-inline {list-style: none; margin:0; padding: 0}\n",
              ".list-inline>li {display: inline-block}\n",
              ".list-inline>li:not(:last-child)::after {content: \"\\00b7\"; padding: 0 .5ex}\n",
              "</style>\n",
              "<ol class=list-inline><li>6901</li><li>640</li></ol>\n"
            ],
            "text/markdown": "1. 6901\n2. 640\n\n\n",
            "text/latex": "\\begin{enumerate*}\n\\item 6901\n\\item 640\n\\end{enumerate*}\n",
            "text/plain": [
              "[1] 6901  640"
            ]
          },
          "metadata": {}
        },
        {
          "output_type": "stream",
          "name": "stdout",
          "text": [
            "\n",
            "Dimensiones de datasets de entrenamiento/validación con sparse 0,990.\n",
            "Corpus sin normalizar.\n"
          ]
        },
        {
          "output_type": "display_data",
          "data": {
            "text/html": [
              "<style>\n",
              ".list-inline {list-style: none; margin:0; padding: 0}\n",
              ".list-inline>li {display: inline-block}\n",
              ".list-inline>li:not(:last-child)::after {content: \"\\00b7\"; padding: 0 .5ex}\n",
              "</style>\n",
              "<ol class=list-inline><li>4830</li><li>640</li></ol>\n"
            ],
            "text/markdown": "1. 4830\n2. 640\n\n\n",
            "text/latex": "\\begin{enumerate*}\n\\item 4830\n\\item 640\n\\end{enumerate*}\n",
            "text/plain": [
              "[1] 4830  640"
            ]
          },
          "metadata": {}
        },
        {
          "output_type": "display_data",
          "data": {
            "text/html": [
              "<style>\n",
              ".list-inline {list-style: none; margin:0; padding: 0}\n",
              ".list-inline>li {display: inline-block}\n",
              ".list-inline>li:not(:last-child)::after {content: \"\\00b7\"; padding: 0 .5ex}\n",
              "</style>\n",
              "<ol class=list-inline><li>2071</li><li>640</li></ol>\n"
            ],
            "text/markdown": "1. 2071\n2. 640\n\n\n",
            "text/latex": "\\begin{enumerate*}\n\\item 2071\n\\item 640\n\\end{enumerate*}\n",
            "text/plain": [
              "[1] 2071  640"
            ]
          },
          "metadata": {}
        }
      ]
    },
    {
      "cell_type": "code",
      "source": [
        "# Red Neuronal con corpus sin normalizar y sparce > 0,998\n",
        "cat(\"Entrenando Red Neuronal 5\\n\")\n",
        "set.seed(12345)\n",
        "NN.model_5 <- nnet(\n",
        "  formula = as.factor(emoción) ~ .,\n",
        "  data = training.set_5,\n",
        "  size = 20,\n",
        "  maxit = 30,\n",
        "  MaxNWts = 30000\n",
        ")"
      ],
      "metadata": {
        "colab": {
          "base_uri": "https://localhost:8080/"
        },
        "id": "HXRzQygJfF-T",
        "outputId": "fcd1ba31-45c9-4222-a463-3b627a400f99"
      },
      "execution_count": null,
      "outputs": [
        {
          "output_type": "stream",
          "name": "stdout",
          "text": [
            "Entrenando Red Neuronal 5\n",
            "# weights:  12863\n",
            "initial  value 9567.874026 \n",
            "iter  10 value 4675.098226\n",
            "iter  20 value 4095.083767\n",
            "iter  30 value 3538.202691\n",
            "final  value 3538.202691 \n",
            "stopped after 30 iterations\n"
          ]
        }
      ]
    },
    {
      "cell_type": "code",
      "source": [
        "# Predicción de red neuronal con corpus sin nromalizar y sparce > 0,998\n",
        "NN.predict_5 <- predict(NN.model_5, testing.set_5, type = \"class\")\n",
        "\n",
        "cat(\"********** Resultados Red Neuronal de 1 capa - Testing ***********\\n\")\n",
        "cat(\"************* Corpus no normalizado y Sparce > 0,998 *************\\n\")\n",
        "x5 <- testing.set_5[, 1:dim(corpus.procesado_5)[2] - 1]\n",
        "y5 <- testing.set_5[, dim(corpus.procesado_5)[2]]\n",
        "y.predicted_5 <- predict(NN.model_5, x5, type = 'class')\n",
        "confusionMatrix(as.factor(y.predicted_5), y5)"
      ],
      "metadata": {
        "colab": {
          "base_uri": "https://localhost:8080/",
          "height": 593
        },
        "id": "nwgenFBRfS4B",
        "outputId": "5ab12ae1-1a58-45b8-823f-1412f1ed69e1"
      },
      "execution_count": null,
      "outputs": [
        {
          "output_type": "stream",
          "name": "stdout",
          "text": [
            "********** Resultados Red Neuronal de 1 capa - Testing ***********\n",
            "************* Corpus no normalizado y Sparce > 0,998 *************\n"
          ]
        },
        {
          "output_type": "display_data",
          "data": {
            "text/plain": [
              "Confusion Matrix and Statistics\n",
              "\n",
              "          Reference\n",
              "Prediction alegria enojo sorpresa\n",
              "  alegria      404   377      122\n",
              "  enojo        316   446      130\n",
              "  sorpresa      87   120       69\n",
              "\n",
              "Overall Statistics\n",
              "                                          \n",
              "               Accuracy : 0.4437          \n",
              "                 95% CI : (0.4222, 0.4655)\n",
              "    No Information Rate : 0.4553          \n",
              "    P-Value [Acc > NIR] : 0.860189        \n",
              "                                          \n",
              "                  Kappa : 0.0931          \n",
              "                                          \n",
              " Mcnemar's Test P-Value : 0.008762        \n",
              "\n",
              "Statistics by Class:\n",
              "\n",
              "                     Class: alegria Class: enojo Class: sorpresa\n",
              "Sensitivity                  0.5006       0.4730         0.21495\n",
              "Specificity                  0.6052       0.6046         0.88171\n",
              "Pos Pred Value               0.4474       0.5000         0.25000\n",
              "Neg Pred Value               0.6550       0.5785         0.85961\n",
              "Prevalence                   0.3897       0.4553         0.15500\n",
              "Detection Rate               0.1951       0.2154         0.03332\n",
              "Detection Prevalence         0.4360       0.4307         0.13327\n",
              "Balanced Accuracy            0.5529       0.5388         0.54833"
            ]
          },
          "metadata": {}
        }
      ]
    },
    {
      "cell_type": "code",
      "source": [
        "#########################################################################\n",
        "# Ajuste de parámetros de la red neuronal\n",
        "#########################################################################\n",
        "# Se trabajará con el corpus no normalizado y con un sparse de 0,995\n",
        "\n",
        "# Original 100 nodos; sugeridos 20 nodos\n",
        "nodos = seq(5, 50, 5)\n",
        "# Original 50 iteraciones; sugeridas 30 iteraciones\n",
        "iteraciones = seq(10, 100, 10)\n",
        "# Ejecuta correctamente hasta 60 nodos y 100 iteraciones\n",
        "\n",
        "# Tabla comparadora de modelos\n",
        "comparador_nn <- tibble(\n",
        "  Sentimiento = character(),\n",
        "  Nodos = integer(),\n",
        "  Iteraciones = integer(),\n",
        "  Exactitud = numeric(),\n",
        "  Sensibilidad = numeric(),\n",
        "  Especificidad = numeric()\n",
        ")"
      ],
      "metadata": {
        "id": "xKkCr-RtkJA4"
      },
      "execution_count": null,
      "outputs": []
    },
    {
      "cell_type": "code",
      "source": [
        "for (nodo in nodos) {\n",
        "  for (iteracion in iteraciones) {\n",
        "    cat(\"\\nEntrenando Red Neuronal:\", nodo, \"nodos,\", iteracion, \"iteraciones.\")\n",
        "\n",
        "    # Entrenamiento de la red neuronal auxiliar\n",
        "    set.seed(12345)\n",
        "    NN.model_aux <- nnet(\n",
        "      formula = as.factor(emoción) ~ .,\n",
        "      data = training.set_2,\n",
        "      size = nodo,\n",
        "      maxit = iteracion,\n",
        "      MaxNWts = 30000\n",
        "    )\n",
        "\n",
        "    # Predicción de la red neuronal auxiliar\n",
        "    y.predicted_aux <- predict(NN.model_aux, x2, type = 'class')\n",
        "    matriz_auxiliar <- confusionMatrix(as.factor(y.predicted_aux), y2)\n",
        "\n",
        "    for (numero in 1:3) {\n",
        "      sentimiento <- case_when(\n",
        "        numero == 1 ~ \"Alegría\",\n",
        "        numero == 2 ~ \"Enojo\",\n",
        "        numero == 3 ~ \"Sorpresa\"\n",
        "      )\n",
        "      comparador_nn <- bind_rows(\n",
        "        comparador_nn,\n",
        "        tibble(\n",
        "          Sentimiento = sentimiento,\n",
        "          Nodos = nodo,\n",
        "          Iteraciones = iteracion,\n",
        "          Exactitud = round(x = matriz_auxiliar$overall[1] * 100, digits = 2),\n",
        "          Sensibilidad = round(\n",
        "            x = matriz_auxiliar$byClass[numero, \"Sensitivity\"] * 100,\n",
        "            digits = 2\n",
        "          ),\n",
        "          Especificidad = round(\n",
        "            x = matriz_auxiliar$byClass[numero, \"Specificity\"] * 100,\n",
        "            digits = 2\n",
        "          )\n",
        "        )\n",
        "      )\n",
        "    }\n",
        "  }\n",
        "}"
      ],
      "metadata": {
        "colab": {
          "base_uri": "https://localhost:8080/"
        },
        "id": "Ez6LjovCk4pV",
        "outputId": "df536d81-26ea-4120-f77a-824c716809de"
      },
      "execution_count": null,
      "outputs": [
        {
          "output_type": "stream",
          "name": "stdout",
          "text": [
            "\n",
            "Entrenando Red Neuronal: 5 nodos, 10 iteraciones.# weights:  1103\n",
            "initial  value 5344.443929 \n",
            "iter  10 value 4664.690759\n",
            "final  value 4664.690759 \n",
            "stopped after 10 iterations\n",
            "\n",
            "Entrenando Red Neuronal: 5 nodos, 20 iteraciones.# weights:  1103\n",
            "initial  value 5344.443929 \n",
            "iter  10 value 4664.690759\n",
            "iter  20 value 4436.242203\n",
            "final  value 4436.242203 \n",
            "stopped after 20 iterations\n",
            "\n",
            "Entrenando Red Neuronal: 5 nodos, 30 iteraciones.# weights:  1103\n",
            "initial  value 5344.443929 \n",
            "iter  10 value 4664.690759\n",
            "iter  20 value 4436.242203\n",
            "iter  30 value 4224.672066\n",
            "final  value 4224.672066 \n",
            "stopped after 30 iterations\n",
            "\n",
            "Entrenando Red Neuronal: 5 nodos, 40 iteraciones.# weights:  1103\n",
            "initial  value 5344.443929 \n",
            "iter  10 value 4664.690759\n",
            "iter  20 value 4436.242203\n",
            "iter  30 value 4224.672066\n",
            "iter  40 value 3964.970460\n",
            "final  value 3964.970460 \n",
            "stopped after 40 iterations\n",
            "\n",
            "Entrenando Red Neuronal: 5 nodos, 50 iteraciones.# weights:  1103\n",
            "initial  value 5344.443929 \n",
            "iter  10 value 4664.690759\n",
            "iter  20 value 4436.242203\n",
            "iter  30 value 4224.672066\n",
            "iter  40 value 3964.970460\n",
            "iter  50 value 3753.495131\n",
            "final  value 3753.495131 \n",
            "stopped after 50 iterations\n",
            "\n",
            "Entrenando Red Neuronal: 5 nodos, 60 iteraciones.# weights:  1103\n",
            "initial  value 5344.443929 \n",
            "iter  10 value 4664.690759\n",
            "iter  20 value 4436.242203\n",
            "iter  30 value 4224.672066\n",
            "iter  40 value 3964.970460\n",
            "iter  50 value 3753.495131\n",
            "iter  60 value 3580.923667\n",
            "final  value 3580.923667 \n",
            "stopped after 60 iterations\n",
            "\n",
            "Entrenando Red Neuronal: 5 nodos, 70 iteraciones.# weights:  1103\n",
            "initial  value 5344.443929 \n",
            "iter  10 value 4664.690759\n",
            "iter  20 value 4436.242203\n",
            "iter  30 value 4224.672066\n",
            "iter  40 value 3964.970460\n",
            "iter  50 value 3753.495131\n",
            "iter  60 value 3580.923667\n",
            "iter  70 value 3443.019725\n",
            "final  value 3443.019725 \n",
            "stopped after 70 iterations\n",
            "\n",
            "Entrenando Red Neuronal: 5 nodos, 80 iteraciones.# weights:  1103\n",
            "initial  value 5344.443929 \n",
            "iter  10 value 4664.690759\n",
            "iter  20 value 4436.242203\n",
            "iter  30 value 4224.672066\n",
            "iter  40 value 3964.970460\n",
            "iter  50 value 3753.495131\n",
            "iter  60 value 3580.923667\n",
            "iter  70 value 3443.019725\n",
            "iter  80 value 3356.375428\n",
            "final  value 3356.375428 \n",
            "stopped after 80 iterations\n",
            "\n",
            "Entrenando Red Neuronal: 5 nodos, 90 iteraciones.# weights:  1103\n",
            "initial  value 5344.443929 \n",
            "iter  10 value 4664.690759\n",
            "iter  20 value 4436.242203\n",
            "iter  30 value 4224.672066\n",
            "iter  40 value 3964.970460\n",
            "iter  50 value 3753.495131\n",
            "iter  60 value 3580.923667\n",
            "iter  70 value 3443.019725\n",
            "iter  80 value 3356.375428\n",
            "iter  90 value 3331.712113\n",
            "final  value 3331.712113 \n",
            "stopped after 90 iterations\n",
            "\n",
            "Entrenando Red Neuronal: 5 nodos, 100 iteraciones.# weights:  1103\n",
            "initial  value 5344.443929 \n",
            "iter  10 value 4664.690759\n",
            "iter  20 value 4436.242203\n",
            "iter  30 value 4224.672066\n",
            "iter  40 value 3964.970460\n",
            "iter  50 value 3753.495131\n",
            "iter  60 value 3580.923667\n",
            "iter  70 value 3443.019725\n",
            "iter  80 value 3356.375428\n",
            "iter  90 value 3331.712113\n",
            "iter 100 value 3328.685170\n",
            "final  value 3328.685170 \n",
            "stopped after 100 iterations\n",
            "\n",
            "Entrenando Red Neuronal: 10 nodos, 10 iteraciones.# weights:  2203\n",
            "initial  value 5782.715643 \n",
            "iter  10 value 4673.386259\n",
            "final  value 4673.386259 \n",
            "stopped after 10 iterations\n",
            "\n",
            "Entrenando Red Neuronal: 10 nodos, 20 iteraciones.# weights:  2203\n",
            "initial  value 5782.715643 \n",
            "iter  10 value 4673.386259\n",
            "iter  20 value 4362.651732\n",
            "final  value 4362.651732 \n",
            "stopped after 20 iterations\n",
            "\n",
            "Entrenando Red Neuronal: 10 nodos, 30 iteraciones.# weights:  2203\n",
            "initial  value 5782.715643 \n",
            "iter  10 value 4673.386259\n",
            "iter  20 value 4362.651732\n",
            "iter  30 value 3984.911340\n",
            "final  value 3984.911340 \n",
            "stopped after 30 iterations\n",
            "\n",
            "Entrenando Red Neuronal: 10 nodos, 40 iteraciones.# weights:  2203\n",
            "initial  value 5782.715643 \n",
            "iter  10 value 4673.386259\n",
            "iter  20 value 4362.651732\n",
            "iter  30 value 3984.911340\n",
            "iter  40 value 3607.047017\n",
            "final  value 3607.047017 \n",
            "stopped after 40 iterations\n",
            "\n",
            "Entrenando Red Neuronal: 10 nodos, 50 iteraciones.# weights:  2203\n",
            "initial  value 5782.715643 \n",
            "iter  10 value 4673.386259\n",
            "iter  20 value 4362.651732\n",
            "iter  30 value 3984.911340\n",
            "iter  40 value 3607.047017\n",
            "iter  50 value 3294.778941\n",
            "final  value 3294.778941 \n",
            "stopped after 50 iterations\n",
            "\n",
            "Entrenando Red Neuronal: 10 nodos, 60 iteraciones.# weights:  2203\n",
            "initial  value 5782.715643 \n",
            "iter  10 value 4673.386259\n",
            "iter  20 value 4362.651732\n",
            "iter  30 value 3984.911340\n",
            "iter  40 value 3607.047017\n",
            "iter  50 value 3294.778941\n",
            "iter  60 value 3068.938140\n",
            "final  value 3068.938140 \n",
            "stopped after 60 iterations\n",
            "\n",
            "Entrenando Red Neuronal: 10 nodos, 70 iteraciones.# weights:  2203\n",
            "initial  value 5782.715643 \n",
            "iter  10 value 4673.386259\n",
            "iter  20 value 4362.651732\n",
            "iter  30 value 3984.911340\n",
            "iter  40 value 3607.047017\n",
            "iter  50 value 3294.778941\n",
            "iter  60 value 3068.938140\n",
            "iter  70 value 2889.221851\n",
            "final  value 2889.221851 \n",
            "stopped after 70 iterations\n",
            "\n",
            "Entrenando Red Neuronal: 10 nodos, 80 iteraciones.# weights:  2203\n",
            "initial  value 5782.715643 \n",
            "iter  10 value 4673.386259\n",
            "iter  20 value 4362.651732\n",
            "iter  30 value 3984.911340\n",
            "iter  40 value 3607.047017\n",
            "iter  50 value 3294.778941\n",
            "iter  60 value 3068.938140\n",
            "iter  70 value 2889.221851\n",
            "iter  80 value 2740.446294\n",
            "final  value 2740.446294 \n",
            "stopped after 80 iterations\n",
            "\n",
            "Entrenando Red Neuronal: 10 nodos, 90 iteraciones.# weights:  2203\n",
            "initial  value 5782.715643 \n",
            "iter  10 value 4673.386259\n",
            "iter  20 value 4362.651732\n",
            "iter  30 value 3984.911340\n",
            "iter  40 value 3607.047017\n",
            "iter  50 value 3294.778941\n",
            "iter  60 value 3068.938140\n",
            "iter  70 value 2889.221851\n",
            "iter  80 value 2740.446294\n",
            "iter  90 value 2641.944295\n",
            "final  value 2641.944295 \n",
            "stopped after 90 iterations\n",
            "\n",
            "Entrenando Red Neuronal: 10 nodos, 100 iteraciones.# weights:  2203\n",
            "initial  value 5782.715643 \n",
            "iter  10 value 4673.386259\n",
            "iter  20 value 4362.651732\n",
            "iter  30 value 3984.911340\n",
            "iter  40 value 3607.047017\n",
            "iter  50 value 3294.778941\n",
            "iter  60 value 3068.938140\n",
            "iter  70 value 2889.221851\n",
            "iter  80 value 2740.446294\n",
            "iter  90 value 2641.944295\n",
            "iter 100 value 2554.789736\n",
            "final  value 2554.789736 \n",
            "stopped after 100 iterations\n",
            "\n",
            "Entrenando Red Neuronal: 15 nodos, 10 iteraciones.# weights:  3303\n",
            "initial  value 5314.099845 \n",
            "iter  10 value 4684.355990\n",
            "final  value 4684.355990 \n",
            "stopped after 10 iterations\n",
            "\n",
            "Entrenando Red Neuronal: 15 nodos, 20 iteraciones.# weights:  3303\n",
            "initial  value 5314.099845 \n",
            "iter  10 value 4684.355990\n",
            "iter  20 value 4358.528628\n",
            "final  value 4358.528628 \n",
            "stopped after 20 iterations\n",
            "\n",
            "Entrenando Red Neuronal: 15 nodos, 30 iteraciones.# weights:  3303\n",
            "initial  value 5314.099845 \n",
            "iter  10 value 4684.355990\n",
            "iter  20 value 4358.528628\n",
            "iter  30 value 3998.555057\n",
            "final  value 3998.555057 \n",
            "stopped after 30 iterations\n",
            "\n",
            "Entrenando Red Neuronal: 15 nodos, 40 iteraciones.# weights:  3303\n",
            "initial  value 5314.099845 \n",
            "iter  10 value 4684.355990\n",
            "iter  20 value 4358.528628\n",
            "iter  30 value 3998.555057\n",
            "iter  40 value 3459.054109\n",
            "final  value 3459.054109 \n",
            "stopped after 40 iterations\n",
            "\n",
            "Entrenando Red Neuronal: 15 nodos, 50 iteraciones.# weights:  3303\n",
            "initial  value 5314.099845 \n",
            "iter  10 value 4684.355990\n",
            "iter  20 value 4358.528628\n",
            "iter  30 value 3998.555057\n",
            "iter  40 value 3459.054109\n",
            "iter  50 value 2954.140734\n",
            "final  value 2954.140734 \n",
            "stopped after 50 iterations\n",
            "\n",
            "Entrenando Red Neuronal: 15 nodos, 60 iteraciones.# weights:  3303\n",
            "initial  value 5314.099845 \n",
            "iter  10 value 4684.355990\n",
            "iter  20 value 4358.528628\n",
            "iter  30 value 3998.555057\n",
            "iter  40 value 3459.054109\n",
            "iter  50 value 2954.140734\n",
            "iter  60 value 2540.156349\n",
            "final  value 2540.156349 \n",
            "stopped after 60 iterations\n",
            "\n",
            "Entrenando Red Neuronal: 15 nodos, 70 iteraciones.# weights:  3303\n",
            "initial  value 5314.099845 \n",
            "iter  10 value 4684.355990\n",
            "iter  20 value 4358.528628\n",
            "iter  30 value 3998.555057\n",
            "iter  40 value 3459.054109\n",
            "iter  50 value 2954.140734\n",
            "iter  60 value 2540.156349\n",
            "iter  70 value 2304.203462\n",
            "final  value 2304.203462 \n",
            "stopped after 70 iterations\n",
            "\n",
            "Entrenando Red Neuronal: 15 nodos, 80 iteraciones.# weights:  3303\n",
            "initial  value 5314.099845 \n",
            "iter  10 value 4684.355990\n",
            "iter  20 value 4358.528628\n",
            "iter  30 value 3998.555057\n",
            "iter  40 value 3459.054109\n",
            "iter  50 value 2954.140734\n",
            "iter  60 value 2540.156349\n",
            "iter  70 value 2304.203462\n",
            "iter  80 value 2150.676991\n",
            "final  value 2150.676991 \n",
            "stopped after 80 iterations\n",
            "\n",
            "Entrenando Red Neuronal: 15 nodos, 90 iteraciones.# weights:  3303\n",
            "initial  value 5314.099845 \n",
            "iter  10 value 4684.355990\n",
            "iter  20 value 4358.528628\n",
            "iter  30 value 3998.555057\n",
            "iter  40 value 3459.054109\n",
            "iter  50 value 2954.140734\n",
            "iter  60 value 2540.156349\n",
            "iter  70 value 2304.203462\n",
            "iter  80 value 2150.676991\n",
            "iter  90 value 2032.073815\n",
            "final  value 2032.073815 \n",
            "stopped after 90 iterations\n",
            "\n",
            "Entrenando Red Neuronal: 15 nodos, 100 iteraciones.# weights:  3303\n",
            "initial  value 5314.099845 \n",
            "iter  10 value 4684.355990\n",
            "iter  20 value 4358.528628\n",
            "iter  30 value 3998.555057\n",
            "iter  40 value 3459.054109\n",
            "iter  50 value 2954.140734\n",
            "iter  60 value 2540.156349\n",
            "iter  70 value 2304.203462\n",
            "iter  80 value 2150.676991\n",
            "iter  90 value 2032.073815\n",
            "iter 100 value 1952.390778\n",
            "final  value 1952.390778 \n",
            "stopped after 100 iterations\n",
            "\n",
            "Entrenando Red Neuronal: 20 nodos, 10 iteraciones.# weights:  4403\n",
            "initial  value 5996.772296 \n",
            "iter  10 value 4746.403898\n",
            "final  value 4746.403898 \n",
            "stopped after 10 iterations\n",
            "\n",
            "Entrenando Red Neuronal: 20 nodos, 20 iteraciones.# weights:  4403\n",
            "initial  value 5996.772296 \n",
            "iter  10 value 4746.403898\n",
            "iter  20 value 4405.991497\n",
            "final  value 4405.991497 \n",
            "stopped after 20 iterations\n",
            "\n",
            "Entrenando Red Neuronal: 20 nodos, 30 iteraciones.# weights:  4403\n",
            "initial  value 5996.772296 \n",
            "iter  10 value 4746.403898\n",
            "iter  20 value 4405.991497\n",
            "iter  30 value 4106.790756\n",
            "final  value 4106.790756 \n",
            "stopped after 30 iterations\n",
            "\n",
            "Entrenando Red Neuronal: 20 nodos, 40 iteraciones.# weights:  4403\n",
            "initial  value 5996.772296 \n",
            "iter  10 value 4746.403898\n",
            "iter  20 value 4405.991497\n",
            "iter  30 value 4106.790756\n",
            "iter  40 value 3732.783802\n",
            "final  value 3732.783802 \n",
            "stopped after 40 iterations\n",
            "\n",
            "Entrenando Red Neuronal: 20 nodos, 50 iteraciones.# weights:  4403\n",
            "initial  value 5996.772296 \n",
            "iter  10 value 4746.403898\n",
            "iter  20 value 4405.991497\n",
            "iter  30 value 4106.790756\n",
            "iter  40 value 3732.783802\n",
            "iter  50 value 3306.683493\n",
            "final  value 3306.683493 \n",
            "stopped after 50 iterations\n",
            "\n",
            "Entrenando Red Neuronal: 20 nodos, 60 iteraciones.# weights:  4403\n",
            "initial  value 5996.772296 \n",
            "iter  10 value 4746.403898\n",
            "iter  20 value 4405.991497\n",
            "iter  30 value 4106.790756\n",
            "iter  40 value 3732.783802\n",
            "iter  50 value 3306.683493\n",
            "iter  60 value 2766.880048\n",
            "final  value 2766.880048 \n",
            "stopped after 60 iterations\n",
            "\n",
            "Entrenando Red Neuronal: 20 nodos, 70 iteraciones.# weights:  4403\n",
            "initial  value 5996.772296 \n",
            "iter  10 value 4746.403898\n",
            "iter  20 value 4405.991497\n",
            "iter  30 value 4106.790756\n",
            "iter  40 value 3732.783802\n",
            "iter  50 value 3306.683493\n",
            "iter  60 value 2766.880048\n",
            "iter  70 value 2300.409902\n",
            "final  value 2300.409902 \n",
            "stopped after 70 iterations\n",
            "\n",
            "Entrenando Red Neuronal: 20 nodos, 80 iteraciones.# weights:  4403\n",
            "initial  value 5996.772296 \n",
            "iter  10 value 4746.403898\n",
            "iter  20 value 4405.991497\n",
            "iter  30 value 4106.790756\n",
            "iter  40 value 3732.783802\n",
            "iter  50 value 3306.683493\n",
            "iter  60 value 2766.880048\n",
            "iter  70 value 2300.409902\n",
            "iter  80 value 1968.873322\n",
            "final  value 1968.873322 \n",
            "stopped after 80 iterations\n",
            "\n",
            "Entrenando Red Neuronal: 20 nodos, 90 iteraciones.# weights:  4403\n",
            "initial  value 5996.772296 \n",
            "iter  10 value 4746.403898\n",
            "iter  20 value 4405.991497\n",
            "iter  30 value 4106.790756\n",
            "iter  40 value 3732.783802\n",
            "iter  50 value 3306.683493\n",
            "iter  60 value 2766.880048\n",
            "iter  70 value 2300.409902\n",
            "iter  80 value 1968.873322\n",
            "iter  90 value 1760.304906\n",
            "final  value 1760.304906 \n",
            "stopped after 90 iterations\n",
            "\n",
            "Entrenando Red Neuronal: 20 nodos, 100 iteraciones.# weights:  4403\n",
            "initial  value 5996.772296 \n",
            "iter  10 value 4746.403898\n",
            "iter  20 value 4405.991497\n",
            "iter  30 value 4106.790756\n",
            "iter  40 value 3732.783802\n",
            "iter  50 value 3306.683493\n",
            "iter  60 value 2766.880048\n",
            "iter  70 value 2300.409902\n",
            "iter  80 value 1968.873322\n",
            "iter  90 value 1760.304906\n",
            "iter 100 value 1635.745491\n",
            "final  value 1635.745491 \n",
            "stopped after 100 iterations\n",
            "\n",
            "Entrenando Red Neuronal: 25 nodos, 10 iteraciones.# weights:  5503\n",
            "initial  value 5869.641577 \n",
            "iter  10 value 4639.147230\n",
            "final  value 4639.147230 \n",
            "stopped after 10 iterations\n",
            "\n",
            "Entrenando Red Neuronal: 25 nodos, 20 iteraciones.# weights:  5503\n",
            "initial  value 5869.641577 \n",
            "iter  10 value 4639.147230\n",
            "iter  20 value 4324.370953\n",
            "final  value 4324.370953 \n",
            "stopped after 20 iterations\n",
            "\n",
            "Entrenando Red Neuronal: 25 nodos, 30 iteraciones.# weights:  5503\n",
            "initial  value 5869.641577 \n",
            "iter  10 value 4639.147230\n",
            "iter  20 value 4324.370953\n",
            "iter  30 value 4024.728999\n",
            "final  value 4024.728999 \n",
            "stopped after 30 iterations\n",
            "\n",
            "Entrenando Red Neuronal: 25 nodos, 40 iteraciones.# weights:  5503\n",
            "initial  value 5869.641577 \n",
            "iter  10 value 4639.147230\n",
            "iter  20 value 4324.370953\n",
            "iter  30 value 4024.728999\n",
            "iter  40 value 3643.044635\n",
            "final  value 3643.044635 \n",
            "stopped after 40 iterations\n",
            "\n",
            "Entrenando Red Neuronal: 25 nodos, 50 iteraciones.# weights:  5503\n",
            "initial  value 5869.641577 \n",
            "iter  10 value 4639.147230\n",
            "iter  20 value 4324.370953\n",
            "iter  30 value 4024.728999\n",
            "iter  40 value 3643.044635\n",
            "iter  50 value 3087.191265\n",
            "final  value 3087.191265 \n",
            "stopped after 50 iterations\n",
            "\n",
            "Entrenando Red Neuronal: 25 nodos, 60 iteraciones.# weights:  5503\n",
            "initial  value 5869.641577 \n",
            "iter  10 value 4639.147230\n",
            "iter  20 value 4324.370953\n",
            "iter  30 value 4024.728999\n",
            "iter  40 value 3643.044635\n",
            "iter  50 value 3087.191265\n",
            "iter  60 value 2390.109675\n",
            "final  value 2390.109675 \n",
            "stopped after 60 iterations\n",
            "\n",
            "Entrenando Red Neuronal: 25 nodos, 70 iteraciones.# weights:  5503\n",
            "initial  value 5869.641577 \n",
            "iter  10 value 4639.147230\n",
            "iter  20 value 4324.370953\n",
            "iter  30 value 4024.728999\n",
            "iter  40 value 3643.044635\n",
            "iter  50 value 3087.191265\n",
            "iter  60 value 2390.109675\n",
            "iter  70 value 1903.843544\n",
            "final  value 1903.843544 \n",
            "stopped after 70 iterations\n",
            "\n",
            "Entrenando Red Neuronal: 25 nodos, 80 iteraciones.# weights:  5503\n",
            "initial  value 5869.641577 \n",
            "iter  10 value 4639.147230\n",
            "iter  20 value 4324.370953\n",
            "iter  30 value 4024.728999\n",
            "iter  40 value 3643.044635\n",
            "iter  50 value 3087.191265\n",
            "iter  60 value 2390.109675\n",
            "iter  70 value 1903.843544\n",
            "iter  80 value 1618.323000\n",
            "final  value 1618.323000 \n",
            "stopped after 80 iterations\n",
            "\n",
            "Entrenando Red Neuronal: 25 nodos, 90 iteraciones.# weights:  5503\n",
            "initial  value 5869.641577 \n",
            "iter  10 value 4639.147230\n",
            "iter  20 value 4324.370953\n",
            "iter  30 value 4024.728999\n",
            "iter  40 value 3643.044635\n",
            "iter  50 value 3087.191265\n",
            "iter  60 value 2390.109675\n",
            "iter  70 value 1903.843544\n",
            "iter  80 value 1618.323000\n",
            "iter  90 value 1455.517450\n",
            "final  value 1455.517450 \n",
            "stopped after 90 iterations\n",
            "\n",
            "Entrenando Red Neuronal: 25 nodos, 100 iteraciones.# weights:  5503\n",
            "initial  value 5869.641577 \n",
            "iter  10 value 4639.147230\n",
            "iter  20 value 4324.370953\n",
            "iter  30 value 4024.728999\n",
            "iter  40 value 3643.044635\n",
            "iter  50 value 3087.191265\n",
            "iter  60 value 2390.109675\n",
            "iter  70 value 1903.843544\n",
            "iter  80 value 1618.323000\n",
            "iter  90 value 1455.517450\n",
            "iter 100 value 1361.505850\n",
            "final  value 1361.505850 \n",
            "stopped after 100 iterations\n",
            "\n",
            "Entrenando Red Neuronal: 30 nodos, 10 iteraciones.# weights:  6603\n",
            "initial  value 6648.716719 \n",
            "iter  10 value 4639.768627\n",
            "final  value 4639.768627 \n",
            "stopped after 10 iterations\n",
            "\n",
            "Entrenando Red Neuronal: 30 nodos, 20 iteraciones.# weights:  6603\n",
            "initial  value 6648.716719 \n",
            "iter  10 value 4639.768627\n",
            "iter  20 value 4282.679135\n",
            "final  value 4282.679135 \n",
            "stopped after 20 iterations\n",
            "\n",
            "Entrenando Red Neuronal: 30 nodos, 30 iteraciones.# weights:  6603\n",
            "initial  value 6648.716719 \n",
            "iter  10 value 4639.768627\n",
            "iter  20 value 4282.679135\n",
            "iter  30 value 3805.680797\n",
            "final  value 3805.680797 \n",
            "stopped after 30 iterations\n",
            "\n",
            "Entrenando Red Neuronal: 30 nodos, 40 iteraciones.# weights:  6603\n",
            "initial  value 6648.716719 \n",
            "iter  10 value 4639.768627\n",
            "iter  20 value 4282.679135\n",
            "iter  30 value 3805.680797\n",
            "iter  40 value 3207.717349\n",
            "final  value 3207.717349 \n",
            "stopped after 40 iterations\n",
            "\n",
            "Entrenando Red Neuronal: 30 nodos, 50 iteraciones.# weights:  6603\n",
            "initial  value 6648.716719 \n",
            "iter  10 value 4639.768627\n",
            "iter  20 value 4282.679135\n",
            "iter  30 value 3805.680797\n",
            "iter  40 value 3207.717349\n",
            "iter  50 value 2702.567211\n",
            "final  value 2702.567211 \n",
            "stopped after 50 iterations\n",
            "\n",
            "Entrenando Red Neuronal: 30 nodos, 60 iteraciones.# weights:  6603\n",
            "initial  value 6648.716719 \n",
            "iter  10 value 4639.768627\n",
            "iter  20 value 4282.679135\n",
            "iter  30 value 3805.680797\n",
            "iter  40 value 3207.717349\n",
            "iter  50 value 2702.567211\n",
            "iter  60 value 2233.949607\n",
            "final  value 2233.949607 \n",
            "stopped after 60 iterations\n",
            "\n",
            "Entrenando Red Neuronal: 30 nodos, 70 iteraciones.# weights:  6603\n",
            "initial  value 6648.716719 \n",
            "iter  10 value 4639.768627\n",
            "iter  20 value 4282.679135\n",
            "iter  30 value 3805.680797\n",
            "iter  40 value 3207.717349\n",
            "iter  50 value 2702.567211\n",
            "iter  60 value 2233.949607\n",
            "iter  70 value 1754.433265\n",
            "final  value 1754.433265 \n",
            "stopped after 70 iterations\n",
            "\n",
            "Entrenando Red Neuronal: 30 nodos, 80 iteraciones.# weights:  6603\n",
            "initial  value 6648.716719 \n",
            "iter  10 value 4639.768627\n",
            "iter  20 value 4282.679135\n",
            "iter  30 value 3805.680797\n",
            "iter  40 value 3207.717349\n",
            "iter  50 value 2702.567211\n",
            "iter  60 value 2233.949607\n",
            "iter  70 value 1754.433265\n",
            "iter  80 value 1491.076580\n",
            "final  value 1491.076580 \n",
            "stopped after 80 iterations\n",
            "\n",
            "Entrenando Red Neuronal: 30 nodos, 90 iteraciones.# weights:  6603\n",
            "initial  value 6648.716719 \n",
            "iter  10 value 4639.768627\n",
            "iter  20 value 4282.679135\n",
            "iter  30 value 3805.680797\n",
            "iter  40 value 3207.717349\n",
            "iter  50 value 2702.567211\n",
            "iter  60 value 2233.949607\n",
            "iter  70 value 1754.433265\n",
            "iter  80 value 1491.076580\n",
            "iter  90 value 1339.701613\n",
            "final  value 1339.701613 \n",
            "stopped after 90 iterations\n",
            "\n",
            "Entrenando Red Neuronal: 30 nodos, 100 iteraciones.# weights:  6603\n",
            "initial  value 6648.716719 \n",
            "iter  10 value 4639.768627\n",
            "iter  20 value 4282.679135\n",
            "iter  30 value 3805.680797\n",
            "iter  40 value 3207.717349\n",
            "iter  50 value 2702.567211\n",
            "iter  60 value 2233.949607\n",
            "iter  70 value 1754.433265\n",
            "iter  80 value 1491.076580\n",
            "iter  90 value 1339.701613\n",
            "iter 100 value 1265.962820\n",
            "final  value 1265.962820 \n",
            "stopped after 100 iterations\n",
            "\n",
            "Entrenando Red Neuronal: 35 nodos, 10 iteraciones.# weights:  7703\n",
            "initial  value 13661.192042 \n",
            "iter  10 value 4587.819951\n",
            "final  value 4587.819951 \n",
            "stopped after 10 iterations\n",
            "\n",
            "Entrenando Red Neuronal: 35 nodos, 20 iteraciones.# weights:  7703\n",
            "initial  value 13661.192042 \n",
            "iter  10 value 4587.819951\n",
            "iter  20 value 4301.537854\n",
            "final  value 4301.537854 \n",
            "stopped after 20 iterations\n",
            "\n",
            "Entrenando Red Neuronal: 35 nodos, 30 iteraciones.# weights:  7703\n",
            "initial  value 13661.192042 \n",
            "iter  10 value 4587.819951\n",
            "iter  20 value 4301.537854\n",
            "iter  30 value 3953.918733\n",
            "final  value 3953.918733 \n",
            "stopped after 30 iterations\n",
            "\n",
            "Entrenando Red Neuronal: 35 nodos, 40 iteraciones.# weights:  7703\n",
            "initial  value 13661.192042 \n",
            "iter  10 value 4587.819951\n",
            "iter  20 value 4301.537854\n",
            "iter  30 value 3953.918733\n",
            "iter  40 value 3346.375874\n",
            "final  value 3346.375874 \n",
            "stopped after 40 iterations\n",
            "\n",
            "Entrenando Red Neuronal: 35 nodos, 50 iteraciones.# weights:  7703\n",
            "initial  value 13661.192042 \n",
            "iter  10 value 4587.819951\n",
            "iter  20 value 4301.537854\n",
            "iter  30 value 3953.918733\n",
            "iter  40 value 3346.375874\n",
            "iter  50 value 2608.244016\n",
            "final  value 2608.244016 \n",
            "stopped after 50 iterations\n",
            "\n",
            "Entrenando Red Neuronal: 35 nodos, 60 iteraciones.# weights:  7703\n",
            "initial  value 13661.192042 \n",
            "iter  10 value 4587.819951\n",
            "iter  20 value 4301.537854\n",
            "iter  30 value 3953.918733\n",
            "iter  40 value 3346.375874\n",
            "iter  50 value 2608.244016\n",
            "iter  60 value 1973.055700\n",
            "final  value 1973.055700 \n",
            "stopped after 60 iterations\n",
            "\n",
            "Entrenando Red Neuronal: 35 nodos, 70 iteraciones.# weights:  7703\n",
            "initial  value 13661.192042 \n",
            "iter  10 value 4587.819951\n",
            "iter  20 value 4301.537854\n",
            "iter  30 value 3953.918733\n",
            "iter  40 value 3346.375874\n",
            "iter  50 value 2608.244016\n",
            "iter  60 value 1973.055700\n",
            "iter  70 value 1510.600128\n",
            "final  value 1510.600128 \n",
            "stopped after 70 iterations\n",
            "\n",
            "Entrenando Red Neuronal: 35 nodos, 80 iteraciones.# weights:  7703\n",
            "initial  value 13661.192042 \n",
            "iter  10 value 4587.819951\n",
            "iter  20 value 4301.537854\n",
            "iter  30 value 3953.918733\n",
            "iter  40 value 3346.375874\n",
            "iter  50 value 2608.244016\n",
            "iter  60 value 1973.055700\n",
            "iter  70 value 1510.600128\n",
            "iter  80 value 1311.041957\n",
            "final  value 1311.041957 \n",
            "stopped after 80 iterations\n",
            "\n",
            "Entrenando Red Neuronal: 35 nodos, 90 iteraciones.# weights:  7703\n",
            "initial  value 13661.192042 \n",
            "iter  10 value 4587.819951\n",
            "iter  20 value 4301.537854\n",
            "iter  30 value 3953.918733\n",
            "iter  40 value 3346.375874\n",
            "iter  50 value 2608.244016\n",
            "iter  60 value 1973.055700\n",
            "iter  70 value 1510.600128\n",
            "iter  80 value 1311.041957\n",
            "iter  90 value 1198.060867\n",
            "final  value 1198.060867 \n",
            "stopped after 90 iterations\n",
            "\n",
            "Entrenando Red Neuronal: 35 nodos, 100 iteraciones.# weights:  7703\n",
            "initial  value 13661.192042 \n",
            "iter  10 value 4587.819951\n",
            "iter  20 value 4301.537854\n",
            "iter  30 value 3953.918733\n",
            "iter  40 value 3346.375874\n",
            "iter  50 value 2608.244016\n",
            "iter  60 value 1973.055700\n",
            "iter  70 value 1510.600128\n",
            "iter  80 value 1311.041957\n",
            "iter  90 value 1198.060867\n",
            "iter 100 value 1155.074514\n",
            "final  value 1155.074514 \n",
            "stopped after 100 iterations\n",
            "\n",
            "Entrenando Red Neuronal: 40 nodos, 10 iteraciones.# weights:  8803\n",
            "initial  value 5682.480590 \n",
            "iter  10 value 4652.794447\n",
            "final  value 4652.794447 \n",
            "stopped after 10 iterations\n",
            "\n",
            "Entrenando Red Neuronal: 40 nodos, 20 iteraciones.# weights:  8803\n",
            "initial  value 5682.480590 \n",
            "iter  10 value 4652.794447\n",
            "iter  20 value 4330.750950\n",
            "final  value 4330.750950 \n",
            "stopped after 20 iterations\n",
            "\n",
            "Entrenando Red Neuronal: 40 nodos, 30 iteraciones.# weights:  8803\n",
            "initial  value 5682.480590 \n",
            "iter  10 value 4652.794447\n",
            "iter  20 value 4330.750950\n",
            "iter  30 value 3941.490955\n",
            "final  value 3941.490955 \n",
            "stopped after 30 iterations\n",
            "\n",
            "Entrenando Red Neuronal: 40 nodos, 40 iteraciones.# weights:  8803\n",
            "initial  value 5682.480590 \n",
            "iter  10 value 4652.794447\n",
            "iter  20 value 4330.750950\n",
            "iter  30 value 3941.490955\n",
            "iter  40 value 3259.988424\n",
            "final  value 3259.988424 \n",
            "stopped after 40 iterations\n",
            "\n",
            "Entrenando Red Neuronal: 40 nodos, 50 iteraciones.# weights:  8803\n",
            "initial  value 5682.480590 \n",
            "iter  10 value 4652.794447\n",
            "iter  20 value 4330.750950\n",
            "iter  30 value 3941.490955\n",
            "iter  40 value 3259.988424\n",
            "iter  50 value 2531.240634\n",
            "final  value 2531.240634 \n",
            "stopped after 50 iterations\n",
            "\n",
            "Entrenando Red Neuronal: 40 nodos, 60 iteraciones.# weights:  8803\n",
            "initial  value 5682.480590 \n",
            "iter  10 value 4652.794447\n",
            "iter  20 value 4330.750950\n",
            "iter  30 value 3941.490955\n",
            "iter  40 value 3259.988424\n",
            "iter  50 value 2531.240634\n",
            "iter  60 value 1941.280876\n",
            "final  value 1941.280876 \n",
            "stopped after 60 iterations\n",
            "\n",
            "Entrenando Red Neuronal: 40 nodos, 70 iteraciones.# weights:  8803\n",
            "initial  value 5682.480590 \n",
            "iter  10 value 4652.794447\n",
            "iter  20 value 4330.750950\n",
            "iter  30 value 3941.490955\n",
            "iter  40 value 3259.988424\n",
            "iter  50 value 2531.240634\n",
            "iter  60 value 1941.280876\n",
            "iter  70 value 1494.376865\n",
            "final  value 1494.376865 \n",
            "stopped after 70 iterations\n",
            "\n",
            "Entrenando Red Neuronal: 40 nodos, 80 iteraciones.# weights:  8803\n",
            "initial  value 5682.480590 \n",
            "iter  10 value 4652.794447\n",
            "iter  20 value 4330.750950\n",
            "iter  30 value 3941.490955\n",
            "iter  40 value 3259.988424\n",
            "iter  50 value 2531.240634\n",
            "iter  60 value 1941.280876\n",
            "iter  70 value 1494.376865\n",
            "iter  80 value 1238.669029\n",
            "final  value 1238.669029 \n",
            "stopped after 80 iterations\n",
            "\n",
            "Entrenando Red Neuronal: 40 nodos, 90 iteraciones.# weights:  8803\n",
            "initial  value 5682.480590 \n",
            "iter  10 value 4652.794447\n",
            "iter  20 value 4330.750950\n",
            "iter  30 value 3941.490955\n",
            "iter  40 value 3259.988424\n",
            "iter  50 value 2531.240634\n",
            "iter  60 value 1941.280876\n",
            "iter  70 value 1494.376865\n",
            "iter  80 value 1238.669029\n",
            "iter  90 value 1164.800765\n",
            "final  value 1164.800765 \n",
            "stopped after 90 iterations\n",
            "\n",
            "Entrenando Red Neuronal: 40 nodos, 100 iteraciones.# weights:  8803\n",
            "initial  value 5682.480590 \n",
            "iter  10 value 4652.794447\n",
            "iter  20 value 4330.750950\n",
            "iter  30 value 3941.490955\n",
            "iter  40 value 3259.988424\n",
            "iter  50 value 2531.240634\n",
            "iter  60 value 1941.280876\n",
            "iter  70 value 1494.376865\n",
            "iter  80 value 1238.669029\n",
            "iter  90 value 1164.800765\n",
            "iter 100 value 1134.830762\n",
            "final  value 1134.830762 \n",
            "stopped after 100 iterations\n",
            "\n",
            "Entrenando Red Neuronal: 45 nodos, 10 iteraciones.# weights:  9903\n",
            "initial  value 6580.378299 \n",
            "iter  10 value 4657.021068\n",
            "final  value 4657.021068 \n",
            "stopped after 10 iterations\n",
            "\n",
            "Entrenando Red Neuronal: 45 nodos, 20 iteraciones.# weights:  9903\n",
            "initial  value 6580.378299 \n",
            "iter  10 value 4657.021068\n",
            "iter  20 value 4319.017686\n",
            "final  value 4319.017686 \n",
            "stopped after 20 iterations\n",
            "\n",
            "Entrenando Red Neuronal: 45 nodos, 30 iteraciones.# weights:  9903\n",
            "initial  value 6580.378299 \n",
            "iter  10 value 4657.021068\n",
            "iter  20 value 4319.017686\n",
            "iter  30 value 3968.878901\n",
            "final  value 3968.878901 \n",
            "stopped after 30 iterations\n",
            "\n",
            "Entrenando Red Neuronal: 45 nodos, 40 iteraciones.# weights:  9903\n",
            "initial  value 6580.378299 \n",
            "iter  10 value 4657.021068\n",
            "iter  20 value 4319.017686\n",
            "iter  30 value 3968.878901\n",
            "iter  40 value 3377.007193\n",
            "final  value 3377.007193 \n",
            "stopped after 40 iterations\n",
            "\n",
            "Entrenando Red Neuronal: 45 nodos, 50 iteraciones.# weights:  9903\n",
            "initial  value 6580.378299 \n",
            "iter  10 value 4657.021068\n",
            "iter  20 value 4319.017686\n",
            "iter  30 value 3968.878901\n",
            "iter  40 value 3377.007193\n",
            "iter  50 value 2585.000075\n",
            "final  value 2585.000075 \n",
            "stopped after 50 iterations\n",
            "\n",
            "Entrenando Red Neuronal: 45 nodos, 60 iteraciones.# weights:  9903\n",
            "initial  value 6580.378299 \n",
            "iter  10 value 4657.021068\n",
            "iter  20 value 4319.017686\n",
            "iter  30 value 3968.878901\n",
            "iter  40 value 3377.007193\n",
            "iter  50 value 2585.000075\n",
            "iter  60 value 1872.847060\n",
            "final  value 1872.847060 \n",
            "stopped after 60 iterations\n",
            "\n",
            "Entrenando Red Neuronal: 45 nodos, 70 iteraciones.# weights:  9903\n",
            "initial  value 6580.378299 \n",
            "iter  10 value 4657.021068\n",
            "iter  20 value 4319.017686\n",
            "iter  30 value 3968.878901\n",
            "iter  40 value 3377.007193\n",
            "iter  50 value 2585.000075\n",
            "iter  60 value 1872.847060\n",
            "iter  70 value 1446.561791\n",
            "final  value 1446.561791 \n",
            "stopped after 70 iterations\n",
            "\n",
            "Entrenando Red Neuronal: 45 nodos, 80 iteraciones.# weights:  9903\n",
            "initial  value 6580.378299 \n",
            "iter  10 value 4657.021068\n",
            "iter  20 value 4319.017686\n",
            "iter  30 value 3968.878901\n",
            "iter  40 value 3377.007193\n",
            "iter  50 value 2585.000075\n",
            "iter  60 value 1872.847060\n",
            "iter  70 value 1446.561791\n",
            "iter  80 value 1269.233634\n",
            "final  value 1269.233634 \n",
            "stopped after 80 iterations\n",
            "\n",
            "Entrenando Red Neuronal: 45 nodos, 90 iteraciones.# weights:  9903\n",
            "initial  value 6580.378299 \n",
            "iter  10 value 4657.021068\n",
            "iter  20 value 4319.017686\n",
            "iter  30 value 3968.878901\n",
            "iter  40 value 3377.007193\n",
            "iter  50 value 2585.000075\n",
            "iter  60 value 1872.847060\n",
            "iter  70 value 1446.561791\n",
            "iter  80 value 1269.233634\n",
            "iter  90 value 1174.889713\n",
            "final  value 1174.889713 \n",
            "stopped after 90 iterations\n",
            "\n",
            "Entrenando Red Neuronal: 45 nodos, 100 iteraciones.# weights:  9903\n",
            "initial  value 6580.378299 \n",
            "iter  10 value 4657.021068\n",
            "iter  20 value 4319.017686\n",
            "iter  30 value 3968.878901\n",
            "iter  40 value 3377.007193\n",
            "iter  50 value 2585.000075\n",
            "iter  60 value 1872.847060\n",
            "iter  70 value 1446.561791\n",
            "iter  80 value 1269.233634\n",
            "iter  90 value 1174.889713\n",
            "iter 100 value 1145.308279\n",
            "final  value 1145.308279 \n",
            "stopped after 100 iterations\n",
            "\n",
            "Entrenando Red Neuronal: 50 nodos, 10 iteraciones.# weights:  11003\n",
            "initial  value 6328.643295 \n",
            "iter  10 value 4673.220170\n",
            "final  value 4673.220170 \n",
            "stopped after 10 iterations\n",
            "\n",
            "Entrenando Red Neuronal: 50 nodos, 20 iteraciones.# weights:  11003\n",
            "initial  value 6328.643295 \n",
            "iter  10 value 4673.220170\n",
            "iter  20 value 4322.350165\n",
            "final  value 4322.350165 \n",
            "stopped after 20 iterations\n",
            "\n",
            "Entrenando Red Neuronal: 50 nodos, 30 iteraciones.# weights:  11003\n",
            "initial  value 6328.643295 \n",
            "iter  10 value 4673.220170\n",
            "iter  20 value 4322.350165\n",
            "iter  30 value 3955.737455\n",
            "final  value 3955.737455 \n",
            "stopped after 30 iterations\n",
            "\n",
            "Entrenando Red Neuronal: 50 nodos, 40 iteraciones.# weights:  11003\n",
            "initial  value 6328.643295 \n",
            "iter  10 value 4673.220170\n",
            "iter  20 value 4322.350165\n",
            "iter  30 value 3955.737455\n",
            "iter  40 value 3293.002725\n",
            "final  value 3293.002725 \n",
            "stopped after 40 iterations\n",
            "\n",
            "Entrenando Red Neuronal: 50 nodos, 50 iteraciones.# weights:  11003\n",
            "initial  value 6328.643295 \n",
            "iter  10 value 4673.220170\n",
            "iter  20 value 4322.350165\n",
            "iter  30 value 3955.737455\n",
            "iter  40 value 3293.002725\n",
            "iter  50 value 2423.172869\n",
            "final  value 2423.172869 \n",
            "stopped after 50 iterations\n",
            "\n",
            "Entrenando Red Neuronal: 50 nodos, 60 iteraciones.# weights:  11003\n",
            "initial  value 6328.643295 \n",
            "iter  10 value 4673.220170\n",
            "iter  20 value 4322.350165\n",
            "iter  30 value 3955.737455\n",
            "iter  40 value 3293.002725\n",
            "iter  50 value 2423.172869\n",
            "iter  60 value 1763.839141\n",
            "final  value 1763.839141 \n",
            "stopped after 60 iterations\n",
            "\n",
            "Entrenando Red Neuronal: 50 nodos, 70 iteraciones.# weights:  11003\n",
            "initial  value 6328.643295 \n",
            "iter  10 value 4673.220170\n",
            "iter  20 value 4322.350165\n",
            "iter  30 value 3955.737455\n",
            "iter  40 value 3293.002725\n",
            "iter  50 value 2423.172869\n",
            "iter  60 value 1763.839141\n",
            "iter  70 value 1389.949648\n",
            "final  value 1389.949648 \n",
            "stopped after 70 iterations\n",
            "\n",
            "Entrenando Red Neuronal: 50 nodos, 80 iteraciones.# weights:  11003\n",
            "initial  value 6328.643295 \n",
            "iter  10 value 4673.220170\n",
            "iter  20 value 4322.350165\n",
            "iter  30 value 3955.737455\n",
            "iter  40 value 3293.002725\n",
            "iter  50 value 2423.172869\n",
            "iter  60 value 1763.839141\n",
            "iter  70 value 1389.949648\n",
            "iter  80 value 1250.691815\n",
            "final  value 1250.691815 \n",
            "stopped after 80 iterations\n",
            "\n",
            "Entrenando Red Neuronal: 50 nodos, 90 iteraciones.# weights:  11003\n",
            "initial  value 6328.643295 \n",
            "iter  10 value 4673.220170\n",
            "iter  20 value 4322.350165\n",
            "iter  30 value 3955.737455\n",
            "iter  40 value 3293.002725\n",
            "iter  50 value 2423.172869\n",
            "iter  60 value 1763.839141\n",
            "iter  70 value 1389.949648\n",
            "iter  80 value 1250.691815\n",
            "iter  90 value 1177.638451\n",
            "final  value 1177.638451 \n",
            "stopped after 90 iterations\n",
            "\n",
            "Entrenando Red Neuronal: 50 nodos, 100 iteraciones.# weights:  11003\n",
            "initial  value 6328.643295 \n",
            "iter  10 value 4673.220170\n",
            "iter  20 value 4322.350165\n",
            "iter  30 value 3955.737455\n",
            "iter  40 value 3293.002725\n",
            "iter  50 value 2423.172869\n",
            "iter  60 value 1763.839141\n",
            "iter  70 value 1389.949648\n",
            "iter  80 value 1250.691815\n",
            "iter  90 value 1177.638451\n",
            "iter 100 value 1145.150062\n",
            "final  value 1145.150062 \n",
            "stopped after 100 iterations\n"
          ]
        }
      ]
    },
    {
      "cell_type": "code",
      "source": [
        "# Problemas con 65 nodos y 10, 20 y 30 iteraciones; 75 nodos y 10 iteraciones.\n",
        "comparador_nn"
      ],
      "metadata": {
        "colab": {
          "base_uri": "https://localhost:8080/",
          "height": 1000
        },
        "id": "dpMX1zTgntgc",
        "outputId": "ddfd1ced-f7b0-4726-f7e7-4480449cd215"
      },
      "execution_count": null,
      "outputs": [
        {
          "output_type": "display_data",
          "data": {
            "text/html": [
              "<table class=\"dataframe\">\n",
              "<caption>A tibble: 300 × 6</caption>\n",
              "<thead>\n",
              "\t<tr><th scope=col>Sentimiento</th><th scope=col>Nodos</th><th scope=col>Iteraciones</th><th scope=col>Exactitud</th><th scope=col>Sensibilidad</th><th scope=col>Especificidad</th></tr>\n",
              "\t<tr><th scope=col>&lt;chr&gt;</th><th scope=col>&lt;dbl&gt;</th><th scope=col>&lt;dbl&gt;</th><th scope=col>&lt;dbl&gt;</th><th scope=col>&lt;dbl&gt;</th><th scope=col>&lt;dbl&gt;</th></tr>\n",
              "</thead>\n",
              "<tbody>\n",
              "\t<tr><td>Alegría </td><td>5</td><td> 10</td><td>47.46</td><td>57.80</td><td>56.47</td></tr>\n",
              "\t<tr><td>Enojo   </td><td>5</td><td> 10</td><td>47.46</td><td>54.39</td><td>53.85</td></tr>\n",
              "\t<tr><td>Sorpresa</td><td>5</td><td> 10</td><td>47.46</td><td> 1.82</td><td>99.31</td></tr>\n",
              "\t<tr><td>Alegría </td><td>5</td><td> 20</td><td>47.61</td><td>44.86</td><td>68.99</td></tr>\n",
              "\t<tr><td>Enojo   </td><td>5</td><td> 20</td><td>47.61</td><td>62.94</td><td>47.74</td></tr>\n",
              "\t<tr><td>Sorpresa</td><td>5</td><td> 20</td><td>47.61</td><td>13.98</td><td>95.01</td></tr>\n",
              "\t<tr><td>Alegría </td><td>5</td><td> 30</td><td>45.34</td><td>55.03</td><td>57.46</td></tr>\n",
              "\t<tr><td>Enojo   </td><td>5</td><td> 30</td><td>45.34</td><td>47.78</td><td>59.55</td></tr>\n",
              "\t<tr><td>Sorpresa</td><td>5</td><td> 30</td><td>45.34</td><td>13.37</td><td>92.19</td></tr>\n",
              "\t<tr><td>Alegría </td><td>5</td><td> 40</td><td>45.10</td><td>54.34</td><td>58.87</td></tr>\n",
              "\t<tr><td>Enojo   </td><td>5</td><td> 40</td><td>45.10</td><td>46.18</td><td>59.55</td></tr>\n",
              "\t<tr><td>Sorpresa</td><td>5</td><td> 40</td><td>45.10</td><td>17.93</td><td>90.93</td></tr>\n",
              "\t<tr><td>Alegría </td><td>5</td><td> 50</td><td>44.81</td><td>52.25</td><td>60.20</td></tr>\n",
              "\t<tr><td>Enojo   </td><td>5</td><td> 50</td><td>44.81</td><td>46.18</td><td>59.38</td></tr>\n",
              "\t<tr><td>Sorpresa</td><td>5</td><td> 50</td><td>44.81</td><td>21.58</td><td>89.78</td></tr>\n",
              "\t<tr><td>Alegría </td><td>5</td><td> 60</td><td>44.08</td><td>51.68</td><td>58.21</td></tr>\n",
              "\t<tr><td>Enojo   </td><td>5</td><td> 60</td><td>44.08</td><td>44.93</td><td>60.72</td></tr>\n",
              "\t<tr><td>Sorpresa</td><td>5</td><td> 60</td><td>44.08</td><td>21.88</td><td>89.38</td></tr>\n",
              "\t<tr><td>Alegría </td><td>5</td><td> 70</td><td>43.60</td><td>51.10</td><td>58.37</td></tr>\n",
              "\t<tr><td>Enojo   </td><td>5</td><td> 70</td><td>43.60</td><td>44.36</td><td>60.39</td></tr>\n",
              "\t<tr><td>Sorpresa</td><td>5</td><td> 70</td><td>43.60</td><td>21.88</td><td>88.92</td></tr>\n",
              "\t<tr><td>Alegría </td><td>5</td><td> 80</td><td>44.04</td><td>51.45</td><td>59.12</td></tr>\n",
              "\t<tr><td>Enojo   </td><td>5</td><td> 80</td><td>44.04</td><td>45.27</td><td>60.30</td></tr>\n",
              "\t<tr><td>Sorpresa</td><td>5</td><td> 80</td><td>44.04</td><td>21.28</td><td>88.98</td></tr>\n",
              "\t<tr><td>Alegría </td><td>5</td><td> 90</td><td>43.99</td><td>51.68</td><td>59.20</td></tr>\n",
              "\t<tr><td>Enojo   </td><td>5</td><td> 90</td><td>43.99</td><td>44.93</td><td>60.64</td></tr>\n",
              "\t<tr><td>Sorpresa</td><td>5</td><td> 90</td><td>43.99</td><td>21.28</td><td>88.63</td></tr>\n",
              "\t<tr><td>Alegría </td><td>5</td><td>100</td><td>44.08</td><td>51.79</td><td>59.29</td></tr>\n",
              "\t<tr><td>Enojo   </td><td>5</td><td>100</td><td>44.08</td><td>44.93</td><td>60.64</td></tr>\n",
              "\t<tr><td>Sorpresa</td><td>5</td><td>100</td><td>44.08</td><td>21.58</td><td>88.69</td></tr>\n",
              "\t<tr><td>⋮</td><td>⋮</td><td>⋮</td><td>⋮</td><td>⋮</td><td>⋮</td></tr>\n",
              "\t<tr><td>Alegría </td><td>50</td><td> 10</td><td>47.85</td><td>50.98</td><td>62.85</td></tr>\n",
              "\t<tr><td>Enojo   </td><td>50</td><td> 10</td><td>47.85</td><td>61.12</td><td>50.08</td></tr>\n",
              "\t<tr><td>Sorpresa</td><td>50</td><td> 10</td><td>47.85</td><td> 4.26</td><td>97.93</td></tr>\n",
              "\t<tr><td>Alegría </td><td>50</td><td> 20</td><td>47.37</td><td>55.95</td><td>57.13</td></tr>\n",
              "\t<tr><td>Enojo   </td><td>50</td><td> 20</td><td>47.37</td><td>50.63</td><td>60.05</td></tr>\n",
              "\t<tr><td>Sorpresa</td><td>50</td><td> 20</td><td>47.37</td><td>16.11</td><td>94.49</td></tr>\n",
              "\t<tr><td>Alegría </td><td>50</td><td> 30</td><td>45.77</td><td>54.10</td><td>57.38</td></tr>\n",
              "\t<tr><td>Enojo   </td><td>50</td><td> 30</td><td>45.77</td><td>49.03</td><td>58.71</td></tr>\n",
              "\t<tr><td>Sorpresa</td><td>50</td><td> 30</td><td>45.77</td><td>15.20</td><td>93.34</td></tr>\n",
              "\t<tr><td>Alegría </td><td>50</td><td> 40</td><td>44.52</td><td>50.98</td><td>60.70</td></tr>\n",
              "\t<tr><td>Enojo   </td><td>50</td><td> 40</td><td>44.52</td><td>48.00</td><td>57.04</td></tr>\n",
              "\t<tr><td>Sorpresa</td><td>50</td><td> 40</td><td>44.52</td><td>18.24</td><td>90.70</td></tr>\n",
              "\t<tr><td>Alegría </td><td>50</td><td> 50</td><td>44.28</td><td>50.87</td><td>62.19</td></tr>\n",
              "\t<tr><td>Enojo   </td><td>50</td><td> 50</td><td>44.28</td><td>47.55</td><td>57.37</td></tr>\n",
              "\t<tr><td>Sorpresa</td><td>50</td><td> 50</td><td>44.28</td><td>18.24</td><td>89.15</td></tr>\n",
              "\t<tr><td>Alegría </td><td>50</td><td> 60</td><td>43.89</td><td>53.18</td><td>59.95</td></tr>\n",
              "\t<tr><td>Enojo   </td><td>50</td><td> 60</td><td>43.89</td><td>44.24</td><td>60.05</td></tr>\n",
              "\t<tr><td>Sorpresa</td><td>50</td><td> 60</td><td>43.89</td><td>18.54</td><td>88.40</td></tr>\n",
              "\t<tr><td>Alegría </td><td>50</td><td> 70</td><td>43.17</td><td>49.94</td><td>60.20</td></tr>\n",
              "\t<tr><td>Enojo   </td><td>50</td><td> 70</td><td>43.17</td><td>44.93</td><td>58.96</td></tr>\n",
              "\t<tr><td>Sorpresa</td><td>50</td><td> 70</td><td>43.17</td><td>20.67</td><td>88.12</td></tr>\n",
              "\t<tr><td>Alegría </td><td>50</td><td> 80</td><td>42.59</td><td>52.14</td><td>58.46</td></tr>\n",
              "\t<tr><td>Enojo   </td><td>50</td><td> 80</td><td>42.59</td><td>41.85</td><td>60.47</td></tr>\n",
              "\t<tr><td>Sorpresa</td><td>50</td><td> 80</td><td>42.59</td><td>19.45</td><td>87.60</td></tr>\n",
              "\t<tr><td>Alegría </td><td>50</td><td> 90</td><td>42.39</td><td>49.94</td><td>59.04</td></tr>\n",
              "\t<tr><td>Enojo   </td><td>50</td><td> 90</td><td>42.39</td><td>43.67</td><td>59.21</td></tr>\n",
              "\t<tr><td>Sorpresa</td><td>50</td><td> 90</td><td>42.39</td><td>19.15</td><td>87.83</td></tr>\n",
              "\t<tr><td>Alegría </td><td>50</td><td>100</td><td>42.44</td><td>50.06</td><td>59.54</td></tr>\n",
              "\t<tr><td>Enojo   </td><td>50</td><td>100</td><td>42.44</td><td>43.33</td><td>60.13</td></tr>\n",
              "\t<tr><td>Sorpresa</td><td>50</td><td>100</td><td>42.44</td><td>20.06</td><td>86.91</td></tr>\n",
              "</tbody>\n",
              "</table>\n"
            ],
            "text/markdown": "\nA tibble: 300 × 6\n\n| Sentimiento &lt;chr&gt; | Nodos &lt;dbl&gt; | Iteraciones &lt;dbl&gt; | Exactitud &lt;dbl&gt; | Sensibilidad &lt;dbl&gt; | Especificidad &lt;dbl&gt; |\n|---|---|---|---|---|---|\n| Alegría  | 5 |  10 | 47.46 | 57.80 | 56.47 |\n| Enojo    | 5 |  10 | 47.46 | 54.39 | 53.85 |\n| Sorpresa | 5 |  10 | 47.46 |  1.82 | 99.31 |\n| Alegría  | 5 |  20 | 47.61 | 44.86 | 68.99 |\n| Enojo    | 5 |  20 | 47.61 | 62.94 | 47.74 |\n| Sorpresa | 5 |  20 | 47.61 | 13.98 | 95.01 |\n| Alegría  | 5 |  30 | 45.34 | 55.03 | 57.46 |\n| Enojo    | 5 |  30 | 45.34 | 47.78 | 59.55 |\n| Sorpresa | 5 |  30 | 45.34 | 13.37 | 92.19 |\n| Alegría  | 5 |  40 | 45.10 | 54.34 | 58.87 |\n| Enojo    | 5 |  40 | 45.10 | 46.18 | 59.55 |\n| Sorpresa | 5 |  40 | 45.10 | 17.93 | 90.93 |\n| Alegría  | 5 |  50 | 44.81 | 52.25 | 60.20 |\n| Enojo    | 5 |  50 | 44.81 | 46.18 | 59.38 |\n| Sorpresa | 5 |  50 | 44.81 | 21.58 | 89.78 |\n| Alegría  | 5 |  60 | 44.08 | 51.68 | 58.21 |\n| Enojo    | 5 |  60 | 44.08 | 44.93 | 60.72 |\n| Sorpresa | 5 |  60 | 44.08 | 21.88 | 89.38 |\n| Alegría  | 5 |  70 | 43.60 | 51.10 | 58.37 |\n| Enojo    | 5 |  70 | 43.60 | 44.36 | 60.39 |\n| Sorpresa | 5 |  70 | 43.60 | 21.88 | 88.92 |\n| Alegría  | 5 |  80 | 44.04 | 51.45 | 59.12 |\n| Enojo    | 5 |  80 | 44.04 | 45.27 | 60.30 |\n| Sorpresa | 5 |  80 | 44.04 | 21.28 | 88.98 |\n| Alegría  | 5 |  90 | 43.99 | 51.68 | 59.20 |\n| Enojo    | 5 |  90 | 43.99 | 44.93 | 60.64 |\n| Sorpresa | 5 |  90 | 43.99 | 21.28 | 88.63 |\n| Alegría  | 5 | 100 | 44.08 | 51.79 | 59.29 |\n| Enojo    | 5 | 100 | 44.08 | 44.93 | 60.64 |\n| Sorpresa | 5 | 100 | 44.08 | 21.58 | 88.69 |\n| ⋮ | ⋮ | ⋮ | ⋮ | ⋮ | ⋮ |\n| Alegría  | 50 |  10 | 47.85 | 50.98 | 62.85 |\n| Enojo    | 50 |  10 | 47.85 | 61.12 | 50.08 |\n| Sorpresa | 50 |  10 | 47.85 |  4.26 | 97.93 |\n| Alegría  | 50 |  20 | 47.37 | 55.95 | 57.13 |\n| Enojo    | 50 |  20 | 47.37 | 50.63 | 60.05 |\n| Sorpresa | 50 |  20 | 47.37 | 16.11 | 94.49 |\n| Alegría  | 50 |  30 | 45.77 | 54.10 | 57.38 |\n| Enojo    | 50 |  30 | 45.77 | 49.03 | 58.71 |\n| Sorpresa | 50 |  30 | 45.77 | 15.20 | 93.34 |\n| Alegría  | 50 |  40 | 44.52 | 50.98 | 60.70 |\n| Enojo    | 50 |  40 | 44.52 | 48.00 | 57.04 |\n| Sorpresa | 50 |  40 | 44.52 | 18.24 | 90.70 |\n| Alegría  | 50 |  50 | 44.28 | 50.87 | 62.19 |\n| Enojo    | 50 |  50 | 44.28 | 47.55 | 57.37 |\n| Sorpresa | 50 |  50 | 44.28 | 18.24 | 89.15 |\n| Alegría  | 50 |  60 | 43.89 | 53.18 | 59.95 |\n| Enojo    | 50 |  60 | 43.89 | 44.24 | 60.05 |\n| Sorpresa | 50 |  60 | 43.89 | 18.54 | 88.40 |\n| Alegría  | 50 |  70 | 43.17 | 49.94 | 60.20 |\n| Enojo    | 50 |  70 | 43.17 | 44.93 | 58.96 |\n| Sorpresa | 50 |  70 | 43.17 | 20.67 | 88.12 |\n| Alegría  | 50 |  80 | 42.59 | 52.14 | 58.46 |\n| Enojo    | 50 |  80 | 42.59 | 41.85 | 60.47 |\n| Sorpresa | 50 |  80 | 42.59 | 19.45 | 87.60 |\n| Alegría  | 50 |  90 | 42.39 | 49.94 | 59.04 |\n| Enojo    | 50 |  90 | 42.39 | 43.67 | 59.21 |\n| Sorpresa | 50 |  90 | 42.39 | 19.15 | 87.83 |\n| Alegría  | 50 | 100 | 42.44 | 50.06 | 59.54 |\n| Enojo    | 50 | 100 | 42.44 | 43.33 | 60.13 |\n| Sorpresa | 50 | 100 | 42.44 | 20.06 | 86.91 |\n\n",
            "text/latex": "A tibble: 300 × 6\n\\begin{tabular}{llllll}\n Sentimiento & Nodos & Iteraciones & Exactitud & Sensibilidad & Especificidad\\\\\n <chr> & <dbl> & <dbl> & <dbl> & <dbl> & <dbl>\\\\\n\\hline\n\t Alegría  & 5 &  10 & 47.46 & 57.80 & 56.47\\\\\n\t Enojo    & 5 &  10 & 47.46 & 54.39 & 53.85\\\\\n\t Sorpresa & 5 &  10 & 47.46 &  1.82 & 99.31\\\\\n\t Alegría  & 5 &  20 & 47.61 & 44.86 & 68.99\\\\\n\t Enojo    & 5 &  20 & 47.61 & 62.94 & 47.74\\\\\n\t Sorpresa & 5 &  20 & 47.61 & 13.98 & 95.01\\\\\n\t Alegría  & 5 &  30 & 45.34 & 55.03 & 57.46\\\\\n\t Enojo    & 5 &  30 & 45.34 & 47.78 & 59.55\\\\\n\t Sorpresa & 5 &  30 & 45.34 & 13.37 & 92.19\\\\\n\t Alegría  & 5 &  40 & 45.10 & 54.34 & 58.87\\\\\n\t Enojo    & 5 &  40 & 45.10 & 46.18 & 59.55\\\\\n\t Sorpresa & 5 &  40 & 45.10 & 17.93 & 90.93\\\\\n\t Alegría  & 5 &  50 & 44.81 & 52.25 & 60.20\\\\\n\t Enojo    & 5 &  50 & 44.81 & 46.18 & 59.38\\\\\n\t Sorpresa & 5 &  50 & 44.81 & 21.58 & 89.78\\\\\n\t Alegría  & 5 &  60 & 44.08 & 51.68 & 58.21\\\\\n\t Enojo    & 5 &  60 & 44.08 & 44.93 & 60.72\\\\\n\t Sorpresa & 5 &  60 & 44.08 & 21.88 & 89.38\\\\\n\t Alegría  & 5 &  70 & 43.60 & 51.10 & 58.37\\\\\n\t Enojo    & 5 &  70 & 43.60 & 44.36 & 60.39\\\\\n\t Sorpresa & 5 &  70 & 43.60 & 21.88 & 88.92\\\\\n\t Alegría  & 5 &  80 & 44.04 & 51.45 & 59.12\\\\\n\t Enojo    & 5 &  80 & 44.04 & 45.27 & 60.30\\\\\n\t Sorpresa & 5 &  80 & 44.04 & 21.28 & 88.98\\\\\n\t Alegría  & 5 &  90 & 43.99 & 51.68 & 59.20\\\\\n\t Enojo    & 5 &  90 & 43.99 & 44.93 & 60.64\\\\\n\t Sorpresa & 5 &  90 & 43.99 & 21.28 & 88.63\\\\\n\t Alegría  & 5 & 100 & 44.08 & 51.79 & 59.29\\\\\n\t Enojo    & 5 & 100 & 44.08 & 44.93 & 60.64\\\\\n\t Sorpresa & 5 & 100 & 44.08 & 21.58 & 88.69\\\\\n\t ⋮ & ⋮ & ⋮ & ⋮ & ⋮ & ⋮\\\\\n\t Alegría  & 50 &  10 & 47.85 & 50.98 & 62.85\\\\\n\t Enojo    & 50 &  10 & 47.85 & 61.12 & 50.08\\\\\n\t Sorpresa & 50 &  10 & 47.85 &  4.26 & 97.93\\\\\n\t Alegría  & 50 &  20 & 47.37 & 55.95 & 57.13\\\\\n\t Enojo    & 50 &  20 & 47.37 & 50.63 & 60.05\\\\\n\t Sorpresa & 50 &  20 & 47.37 & 16.11 & 94.49\\\\\n\t Alegría  & 50 &  30 & 45.77 & 54.10 & 57.38\\\\\n\t Enojo    & 50 &  30 & 45.77 & 49.03 & 58.71\\\\\n\t Sorpresa & 50 &  30 & 45.77 & 15.20 & 93.34\\\\\n\t Alegría  & 50 &  40 & 44.52 & 50.98 & 60.70\\\\\n\t Enojo    & 50 &  40 & 44.52 & 48.00 & 57.04\\\\\n\t Sorpresa & 50 &  40 & 44.52 & 18.24 & 90.70\\\\\n\t Alegría  & 50 &  50 & 44.28 & 50.87 & 62.19\\\\\n\t Enojo    & 50 &  50 & 44.28 & 47.55 & 57.37\\\\\n\t Sorpresa & 50 &  50 & 44.28 & 18.24 & 89.15\\\\\n\t Alegría  & 50 &  60 & 43.89 & 53.18 & 59.95\\\\\n\t Enojo    & 50 &  60 & 43.89 & 44.24 & 60.05\\\\\n\t Sorpresa & 50 &  60 & 43.89 & 18.54 & 88.40\\\\\n\t Alegría  & 50 &  70 & 43.17 & 49.94 & 60.20\\\\\n\t Enojo    & 50 &  70 & 43.17 & 44.93 & 58.96\\\\\n\t Sorpresa & 50 &  70 & 43.17 & 20.67 & 88.12\\\\\n\t Alegría  & 50 &  80 & 42.59 & 52.14 & 58.46\\\\\n\t Enojo    & 50 &  80 & 42.59 & 41.85 & 60.47\\\\\n\t Sorpresa & 50 &  80 & 42.59 & 19.45 & 87.60\\\\\n\t Alegría  & 50 &  90 & 42.39 & 49.94 & 59.04\\\\\n\t Enojo    & 50 &  90 & 42.39 & 43.67 & 59.21\\\\\n\t Sorpresa & 50 &  90 & 42.39 & 19.15 & 87.83\\\\\n\t Alegría  & 50 & 100 & 42.44 & 50.06 & 59.54\\\\\n\t Enojo    & 50 & 100 & 42.44 & 43.33 & 60.13\\\\\n\t Sorpresa & 50 & 100 & 42.44 & 20.06 & 86.91\\\\\n\\end{tabular}\n",
            "text/plain": [
              "    Sentimiento Nodos Iteraciones Exactitud Sensibilidad Especificidad\n",
              "1   Alegría     5      10         47.46     57.80        56.47        \n",
              "2   Enojo       5      10         47.46     54.39        53.85        \n",
              "3   Sorpresa    5      10         47.46      1.82        99.31        \n",
              "4   Alegría     5      20         47.61     44.86        68.99        \n",
              "5   Enojo       5      20         47.61     62.94        47.74        \n",
              "6   Sorpresa    5      20         47.61     13.98        95.01        \n",
              "7   Alegría     5      30         45.34     55.03        57.46        \n",
              "8   Enojo       5      30         45.34     47.78        59.55        \n",
              "9   Sorpresa    5      30         45.34     13.37        92.19        \n",
              "10  Alegría     5      40         45.10     54.34        58.87        \n",
              "11  Enojo       5      40         45.10     46.18        59.55        \n",
              "12  Sorpresa    5      40         45.10     17.93        90.93        \n",
              "13  Alegría     5      50         44.81     52.25        60.20        \n",
              "14  Enojo       5      50         44.81     46.18        59.38        \n",
              "15  Sorpresa    5      50         44.81     21.58        89.78        \n",
              "16  Alegría     5      60         44.08     51.68        58.21        \n",
              "17  Enojo       5      60         44.08     44.93        60.72        \n",
              "18  Sorpresa    5      60         44.08     21.88        89.38        \n",
              "19  Alegría     5      70         43.60     51.10        58.37        \n",
              "20  Enojo       5      70         43.60     44.36        60.39        \n",
              "21  Sorpresa    5      70         43.60     21.88        88.92        \n",
              "22  Alegría     5      80         44.04     51.45        59.12        \n",
              "23  Enojo       5      80         44.04     45.27        60.30        \n",
              "24  Sorpresa    5      80         44.04     21.28        88.98        \n",
              "25  Alegría     5      90         43.99     51.68        59.20        \n",
              "26  Enojo       5      90         43.99     44.93        60.64        \n",
              "27  Sorpresa    5      90         43.99     21.28        88.63        \n",
              "28  Alegría     5     100         44.08     51.79        59.29        \n",
              "29  Enojo       5     100         44.08     44.93        60.64        \n",
              "30  Sorpresa    5     100         44.08     21.58        88.69        \n",
              "⋮   ⋮           ⋮     ⋮           ⋮         ⋮            ⋮            \n",
              "271 Alegría     50     10         47.85     50.98        62.85        \n",
              "272 Enojo       50     10         47.85     61.12        50.08        \n",
              "273 Sorpresa    50     10         47.85      4.26        97.93        \n",
              "274 Alegría     50     20         47.37     55.95        57.13        \n",
              "275 Enojo       50     20         47.37     50.63        60.05        \n",
              "276 Sorpresa    50     20         47.37     16.11        94.49        \n",
              "277 Alegría     50     30         45.77     54.10        57.38        \n",
              "278 Enojo       50     30         45.77     49.03        58.71        \n",
              "279 Sorpresa    50     30         45.77     15.20        93.34        \n",
              "280 Alegría     50     40         44.52     50.98        60.70        \n",
              "281 Enojo       50     40         44.52     48.00        57.04        \n",
              "282 Sorpresa    50     40         44.52     18.24        90.70        \n",
              "283 Alegría     50     50         44.28     50.87        62.19        \n",
              "284 Enojo       50     50         44.28     47.55        57.37        \n",
              "285 Sorpresa    50     50         44.28     18.24        89.15        \n",
              "286 Alegría     50     60         43.89     53.18        59.95        \n",
              "287 Enojo       50     60         43.89     44.24        60.05        \n",
              "288 Sorpresa    50     60         43.89     18.54        88.40        \n",
              "289 Alegría     50     70         43.17     49.94        60.20        \n",
              "290 Enojo       50     70         43.17     44.93        58.96        \n",
              "291 Sorpresa    50     70         43.17     20.67        88.12        \n",
              "292 Alegría     50     80         42.59     52.14        58.46        \n",
              "293 Enojo       50     80         42.59     41.85        60.47        \n",
              "294 Sorpresa    50     80         42.59     19.45        87.60        \n",
              "295 Alegría     50     90         42.39     49.94        59.04        \n",
              "296 Enojo       50     90         42.39     43.67        59.21        \n",
              "297 Sorpresa    50     90         42.39     19.15        87.83        \n",
              "298 Alegría     50    100         42.44     50.06        59.54        \n",
              "299 Enojo       50    100         42.44     43.33        60.13        \n",
              "300 Sorpresa    50    100         42.44     20.06        86.91        "
            ]
          },
          "metadata": {}
        }
      ]
    },
    {
      "cell_type": "code",
      "source": [
        "dataset_final <- comparador_nn %>%\n",
        "  mutate(Diferencia_SE = abs(Sensibilidad - Especificidad))"
      ],
      "metadata": {
        "id": "ZjZF9PzVLido"
      },
      "execution_count": null,
      "outputs": []
    },
    {
      "cell_type": "code",
      "source": [
        "install.packages(\"writexl\")"
      ],
      "metadata": {
        "colab": {
          "base_uri": "https://localhost:8080/"
        },
        "id": "-f_2CNqcLYeW",
        "outputId": "5d399701-8948-4e87-b66a-013481b25ed5"
      },
      "execution_count": null,
      "outputs": [
        {
          "output_type": "stream",
          "name": "stderr",
          "text": [
            "Installing package into ‘/usr/local/lib/R/site-library’\n",
            "(as ‘lib’ is unspecified)\n",
            "\n"
          ]
        }
      ]
    },
    {
      "cell_type": "code",
      "source": [
        "library(writexl)"
      ],
      "metadata": {
        "id": "TxQfX_wkLzyN"
      },
      "execution_count": null,
      "outputs": []
    },
    {
      "cell_type": "code",
      "source": [
        "write_xlsx(\n",
        "  x = dataset_final,\n",
        "  path = \"sample_data/Comparador_NN.xlsx\",\n",
        "  col_names = TRUE\n",
        ")"
      ],
      "metadata": {
        "id": "-gOOY546Neep"
      },
      "execution_count": null,
      "outputs": []
    }
  ]
}