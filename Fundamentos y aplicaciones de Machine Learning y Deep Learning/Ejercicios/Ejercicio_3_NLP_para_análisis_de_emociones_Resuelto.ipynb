{
 "cells": [
  {
   "cell_type": "markdown",
   "metadata": {
    "id": "BhFF63rsMfbI"
   },
   "source": [
    "# Ejercicio 3 - Análisis de emociones en texto no-estructurado (NLP)\n",
    "\n",
    "La idea es realizar un análisis de emociones desde comentarios en medios sociales, por medio de un modelo de clasificación supervisada, que entrega una de 3 posibles clases de emoción.\n",
    "\n",
    "## Contexto: Análisis de texto de comentarios en medios sociales de diversos países (Chile, Arg, Mex, otros)\n",
    "\n",
    "Este conjunto de datos generado en 2016 por [R:Solver](http://rsolver.com) y compartido parcialmente para este tipo de ejercicios, consiste en dos columnas: el texto del comentario, y una clasificación dentro de las tres alternativas o clases de emoción.\n",
    "\n",
    "El gran objetivo final a resolver con este ejemplo, es analizar una porción de texto y lograr predecir la emoción correspondiente, dentro de 3 posibles clases:\n",
    "\n",
    "*     Enojo\n",
    "*     Sorpresa\n",
    "*     Alegría\n",
    "\n",
    "**CONSIDERACIÓN IMPORTANTE**\n",
    "\n",
    "Se sabe que para lograr buenos resultados se requiere contar con muchos miles de ejemplos y en este ejercicio académico sólo se cuenta con pocos miles por cada clase. En la práctica se podrá apreciar que el desempeño general (*accuracy*) de los modelos es mediano-bajo (cerca del 50%). Esto, seguramente, podría mejorar recién al contar con varias decenas de miles de ejemplos adicionales a los actuales, lo que se explica por la gran diversidad de terminología encontrada en estos comentarios (son cerca de 20.000 términos o palabras diferentes en este corpus).\n",
    "\n",
    "Por esta razón, el foco está en realizar análisis sobre estos desempeños y sacar conclusiones útiles, hasta cierto punto independiente de los *accuracies* correspondientes. Este ejercicio busca reforzar conceptos desde la perspectiva de quienes ya están adentrándose más en entender el funcionamiento de modelos de clasificación supervisada.\n",
    "\n",
    "---\n",
    "\n",
    "## Instrucciones Generales\n",
    "\n",
    "Se deben contestar las preguntas que se indican en las secciones de \"Preguntas\", más adelante. Se puede recurrir a ejercicios de otras fuentes, así como al material de clases.\n",
    "\n",
    "La entrega se realiza en forma de un informe en formato PDF, utilizando la plantilla de informe que está en http://dcc.rsolver.com/dcc/docs/InformeActividad.docx\n",
    "\n",
    "Esta entrega se puede subir por un único miembro del grupo a la tarea o registro en el portal del curso.\n",
    "\n",
    "En caso de no poder subirlo por esa vía o que no esté habilitado, se puede usar el buzón alternativo: http://aiker.rsolver.com/aiker/DocUpload.aspx (*)\n",
    "\n",
    "(*) Si y solo si hay problemas en la carga, enviar el PDF a rsandova@ing.puc.cl y cc: ayudante@aiker.ai\n"
   ]
  },
  {
   "cell_type": "markdown",
   "metadata": {
    "id": "nbsvny1wYwsT"
   },
   "source": [
    "## Paso 1: Instalar librerías de modelos de clasificación"
   ]
  },
  {
   "cell_type": "code",
   "execution_count": 1,
   "metadata": {
    "id": "Yr8D6ajXY2T9"
   },
   "outputs": [
    {
     "name": "stderr",
     "output_type": "stream",
     "text": [
      "Installing package into ‘/home/nestorprr/R/x86_64-pc-linux-gnu-library’\n",
      "(as ‘lib’ is unspecified)\n",
      "\n",
      "Installing package into ‘/home/nestorprr/R/x86_64-pc-linux-gnu-library’\n",
      "(as ‘lib’ is unspecified)\n",
      "\n",
      "Installing package into ‘/home/nestorprr/R/x86_64-pc-linux-gnu-library’\n",
      "(as ‘lib’ is unspecified)\n",
      "\n",
      "Installing package into ‘/home/nestorprr/R/x86_64-pc-linux-gnu-library’\n",
      "(as ‘lib’ is unspecified)\n",
      "\n",
      "also installing the dependencies ‘NLP’, ‘slam’\n",
      "\n",
      "\n",
      "Installing package into ‘/home/nestorprr/R/x86_64-pc-linux-gnu-library’\n",
      "(as ‘lib’ is unspecified)\n",
      "\n",
      "Installing package into ‘/home/nestorprr/R/x86_64-pc-linux-gnu-library’\n",
      "(as ‘lib’ is unspecified)\n",
      "\n",
      "Installing package into ‘/home/nestorprr/R/x86_64-pc-linux-gnu-library’\n",
      "(as ‘lib’ is unspecified)\n",
      "\n"
     ]
    }
   ],
   "source": [
    "#install.packages('e1071')\n",
    "#install.packages('caret')\n",
    "#install.packages('caTools')\n",
    "#install.packages('tm')\n",
    "#install.packages('rpart')\n",
    "#install.packages('SnowballC')\n",
    "#install.packages('nnet')"
   ]
  },
  {
   "cell_type": "code",
   "execution_count": 1,
   "metadata": {},
   "outputs": [
    {
     "name": "stderr",
     "output_type": "stream",
     "text": [
      "Loading required package: NLP\n",
      "\n",
      "Loading required package: ggplot2\n",
      "\n",
      "\n",
      "Attaching package: ‘ggplot2’\n",
      "\n",
      "\n",
      "The following object is masked from ‘package:NLP’:\n",
      "\n",
      "    annotate\n",
      "\n",
      "\n",
      "Loading required package: lattice\n",
      "\n"
     ]
    }
   ],
   "source": [
    "library(tm)\n",
    "library(SnowballC)\n",
    "library(caTools)\n",
    "library(caret)\n",
    "library(rpart)\n",
    "library(nnet)"
   ]
  },
  {
   "cell_type": "markdown",
   "metadata": {
    "id": "0q3bYb0RM5bx"
   },
   "source": [
    "## Paso 2: Carga de los datos\n",
    "\n",
    "La siguiente celda de código carga los datos desde la URL de origen y luego muestra un encabezado con las primeras filas del dataset, para demostrar la disposición y ejemplos de los datos.\n",
    "\n",
    "**Nótese que hay un desbalance entre los ejemplos de cada una de las 3 clases, pero NO se espera ni se pide modificar esto, lo cual queda a criterio de los alumnos experimentar con re-balancear las clases y ver su desempeño.**\n"
   ]
  },
  {
   "cell_type": "code",
   "execution_count": 2,
   "metadata": {},
   "outputs": [],
   "source": [
    "# Se declara la URL de dónde obtener los datos\n",
    "theUrlMain <- \"http://RAlize.RSolver.com/RAlize/data/small_emotion_sample_2016.csv\""
   ]
  },
  {
   "cell_type": "code",
   "execution_count": 3,
   "metadata": {
    "id": "yIIKPnj-IRE8"
   },
   "outputs": [
    {
     "name": "stdout",
     "output_type": "stream",
     "text": [
      "\n",
      "Ejemplos Enojo:      3054 2\n",
      "Ejemplos Sorpresa:   1085 2\n",
      "Ejemplos Alegría:    2762 2"
     ]
    },
    {
     "data": {
      "text/html": [
       "<style>\n",
       ".list-inline {list-style: none; margin:0; padding: 0}\n",
       ".list-inline>li {display: inline-block}\n",
       ".list-inline>li:not(:last-child)::after {content: \"\\00b7\"; padding: 0 .5ex}\n",
       "</style>\n",
       "<ol class=list-inline><li>6901</li><li>2</li></ol>\n"
      ],
      "text/latex": [
       "\\begin{enumerate*}\n",
       "\\item 6901\n",
       "\\item 2\n",
       "\\end{enumerate*}\n"
      ],
      "text/markdown": [
       "1. 6901\n",
       "2. 2\n",
       "\n",
       "\n"
      ],
      "text/plain": [
       "[1] 6901    2"
      ]
     },
     "metadata": {},
     "output_type": "display_data"
    },
    {
     "data": {
      "text/html": [
       "<table class=\"dataframe\">\n",
       "<caption>A data.frame: 20 × 2</caption>\n",
       "<thead>\n",
       "\t<tr><th></th><th scope=col>texto</th><th scope=col>emoción</th></tr>\n",
       "\t<tr><th></th><th scope=col>&lt;chr&gt;</th><th scope=col>&lt;chr&gt;</th></tr>\n",
       "</thead>\n",
       "<tbody>\n",
       "\t<tr><th scope=row>1</th><td>!FAVOR REVISAR DICCIONARIO !                                                                                                                                                                                                                                                                                                                                                                                                                                                                                                                                                                                                                                                                                                                                                                                                                   </td><td>enojo   </td></tr>\n",
       "\t<tr><th scope=row>2</th><td>?El Dodge Challenger cuantos kilometros por litro dara? Esa es mi consulta                                                                                                                                                                                                                                                                                                                                                                                                                                                                                                                                                                                                                                                                                                                                                                     </td><td>sorpresa</td></tr>\n",
       "\t<tr><th scope=row>3</th><td>el trasero trailer de la version en carne y hueso , esos redactores merecen el premio redactor de excelencia jajaj                                                                                                                                                                                                                                                                                                                                                                                                                                                                                                                                                                                                                                                                                                                             </td><td>alegria </td></tr>\n",
       "\t<tr><th scope=row>4</th><td>No sera un Peruano o Boliviano que lo hace para que sancionen a Chile ? Hay que acordarse de la guerra mediatica y todos los reclamos de parte de Evo A ese Evo tambien se le sospecha que fue quien dio la orden del reclamo boliviano por los canticos en el estadio                                                                                                                                                                                                                                                                                                                                                                                                                                                                                                                                                                         </td><td>enojo   </td></tr>\n",
       "\t<tr><th scope=row>5</th><td> Y Renaca y Concon para levantar carpas en la playa                                                                                                                                                                                                                                                                                                                                                                                                                                                                                                                                                                                                                                                                                                                                                                                            </td><td>sorpresa</td></tr>\n",
       "\t<tr><th scope=row>6</th><td>Yo siempre compro por internet pero cada vez que hay Cyber Monday termino decepcionado, es mas la publicidad que reales ofertas                                                                                                                                                                                                                                                                                                                                                                                                                                                                                                                                                                                                                                                                                                                </td><td>enojo   </td></tr>\n",
       "\t<tr><th scope=row>7</th><td>! Arjonaaaa !!!!! !Este otro ano vas fijo !!!!                                                                                                                                                                                                                                                                                                                                                                                                                                                                                                                                                                                                                                                                                                                                                                                                 </td><td>sorpresa</td></tr>\n",
       "\t<tr><th scope=row>8</th><td>!Partidazo!                                                                                                                                                                                                                                                                                                                                                                                                                                                                                                                                                                                                                                                                                                                                                                                                                                    </td><td>alegria </td></tr>\n",
       "\t<tr><th scope=row>9</th><td>Medicion de pobreza, mas moderna y transparente: En enero de 2014 la Comision para la Medicion de la Pobreza, planteo un conjunto de propuestas de actualizacion de la metodologia de medicion de pobreza por ingresos, asi como la incorporacion de un enfoque de medicion multidimensional Sus sugerencias fueron recibidas por el gobierno de la Presidenta Bachelet y analizadas en detalle durante 2014 por una Mesa Tecnica Interinstitucional, conformada por el Ministerio de Desarrollo Social (MDS) y el Instituto Nacional de Estadisticas (INE), con el apoyo tecnico de Comision Economica para America Latina (CEPAL) En el ambito de la pobreza multidimensional, se conto ademas con la asesoria permanente de la Iniciativa para la Pobreza y el Desarrollo Humano de la Universidad de Oxford (OPHI, por su sigla en ingles) </td><td>sorpresa</td></tr>\n",
       "\t<tr><th scope=row>10</th><td>No tienen corazon de madre ni de padre obvio, no son sus hijos Indignate lo que esta pasando                                                                                                                                                                                                                                                                                                                                                                                                                                                                                                                                                                                                                                                                                                                                                   </td><td>enojo   </td></tr>\n",
       "\t<tr><th scope=row>11</th><td>Ahora van hacer paros tomas y demas por perder la excelencia a estudiar sera mejor miren que vienen las bacas flacas ayuden asus viejos mejor que arto nos cuesta mandarlos a estudiar ninis                                                                                                                                                                                                                                                                                                                                                                                                                                                                                                                                                                                                                                                   </td><td>enojo   </td></tr>\n",
       "\t<tr><th scope=row>12</th><td>Y el capitán del equipo ???                                                                                                                                                                                                                                                                                                                                                                                                                                                                                                                                                                                                                                                                                                                                                                                                                    </td><td>sorpresa</td></tr>\n",
       "\t<tr><th scope=row>13</th><td>Te amo Alemania                                                                                                                                                                                                                                                                                                                                                                                                                                                                                                                                                                                                                                                                                                                                                                                                                                </td><td>alegria </td></tr>\n",
       "\t<tr><th scope=row>14</th><td>Alguien piensa que las personas que las que residen en una determinada comuna iran a otra para votar por alcaldes ajenos a su propia comuna?                                                                                                                                                                                                                                                                                                                                                                                                                                                                                                                                                                                                                                                                                                   </td><td>enojo   </td></tr>\n",
       "\t<tr><th scope=row>15</th><td> ?Como se les ocurrio invitar a tamano drogo?                                                                                                                                                                                                                                                                                                                                                                                                                                                                                                                                                                                                                                                                                                                                                                                                  </td><td>enojo   </td></tr>\n",
       "\t<tr><th scope=row>16</th><td> ?Crecimiento desmedido de la ciudad? : la edilicia inmobiliaria no inventa la gente ni a los ciudadanos, solo les proporciona soluciones habitacionales Claro esta que si aun vivieramos en los arboles o en las cavernas no habria problemas de estructura sismica y el que alguien construya y venda a precios razonables o codiciosos en nada afecta la resistencia| sismica del edificio Las casas o los edificios se caen o resisten porque estan bien o mal hechos, no porque alguien los vendio y gano dinero con eso!!!!!!!!!                                                                                                                                                                                                                                                                                                         </td><td>enojo   </td></tr>\n",
       "\t<tr><th scope=row>17</th><td> ?En serio? ?Esa es la alternativa oficial o la que tu usarias?                                                                                                                                                                                                                                                                                                                                                                                                                                                                                                                                                                                                                                                                                                                                                                                </td><td>enojo   </td></tr>\n",
       "\t<tr><th scope=row>18</th><td> ?Les van a cobrar algo?                                                                                                                                                                                                                                                                                                                                                                                                                                                                                                                                                                                                                                                                                                                                                                                                                       </td><td>sorpresa</td></tr>\n",
       "\t<tr><th scope=row>19</th><td> ?Porque no anexamos Haiti a nuestra soberania? estan llegando aviones completos repletos de haitianos y todos ellos son carga del estado en terminos de salud y seguridad social ?Quien les paga el viaje? un misterio, viajar seis mil kilometros desde el Atlantico no es nada de barato                                                                                                                                                                                                                                                                                                                                                                                                                                                                                                                                                    </td><td>sorpresa</td></tr>\n",
       "\t<tr><th scope=row>20</th><td> ?Quien se rie ahora de Donald Trump? Youtube link                                                                                                                                                                                                                                                                                                                                                                                                                                                                                                                                                                                                                                                                                                                                                                                             </td><td>sorpresa</td></tr>\n",
       "</tbody>\n",
       "</table>\n"
      ],
      "text/latex": [
       "A data.frame: 20 × 2\n",
       "\\begin{tabular}{r|ll}\n",
       "  & texto & emoción\\\\\n",
       "  & <chr> & <chr>\\\\\n",
       "\\hline\n",
       "\t1 & !FAVOR REVISAR DICCIONARIO !                                                                                                                                                                                                                                                                                                                                                                                                                                                                                                                                                                                                                                                                                                                                                                                                                    & enojo   \\\\\n",
       "\t2 & ?El Dodge Challenger cuantos kilometros por litro dara? Esa es mi consulta                                                                                                                                                                                                                                                                                                                                                                                                                                                                                                                                                                                                                                                                                                                                                                      & sorpresa\\\\\n",
       "\t3 & el trasero trailer de la version en carne y hueso , esos redactores merecen el premio redactor de excelencia jajaj                                                                                                                                                                                                                                                                                                                                                                                                                                                                                                                                                                                                                                                                                                                              & alegria \\\\\n",
       "\t4 & No sera un Peruano o Boliviano que lo hace para que sancionen a Chile ? Hay que acordarse de la guerra mediatica y todos los reclamos de parte de Evo A ese Evo tambien se le sospecha que fue quien dio la orden del reclamo boliviano por los canticos en el estadio                                                                                                                                                                                                                                                                                                                                                                                                                                                                                                                                                                          & enojo   \\\\\n",
       "\t5 &  Y Renaca y Concon para levantar carpas en la playa                                                                                                                                                                                                                                                                                                                                                                                                                                                                                                                                                                                                                                                                                                                                                                                             & sorpresa\\\\\n",
       "\t6 & Yo siempre compro por internet pero cada vez que hay Cyber Monday termino decepcionado, es mas la publicidad que reales ofertas                                                                                                                                                                                                                                                                                                                                                                                                                                                                                                                                                                                                                                                                                                                 & enojo   \\\\\n",
       "\t7 & ! Arjonaaaa !!!!! !Este otro ano vas fijo !!!!                                                                                                                                                                                                                                                                                                                                                                                                                                                                                                                                                                                                                                                                                                                                                                                                  & sorpresa\\\\\n",
       "\t8 & !Partidazo!                                                                                                                                                                                                                                                                                                                                                                                                                                                                                                                                                                                                                                                                                                                                                                                                                                     & alegria \\\\\n",
       "\t9 & Medicion de pobreza, mas moderna y transparente: En enero de 2014 la Comision para la Medicion de la Pobreza, planteo un conjunto de propuestas de actualizacion de la metodologia de medicion de pobreza por ingresos, asi como la incorporacion de un enfoque de medicion multidimensional Sus sugerencias fueron recibidas por el gobierno de la Presidenta Bachelet y analizadas en detalle durante 2014 por una Mesa Tecnica Interinstitucional, conformada por el Ministerio de Desarrollo Social (MDS) y el Instituto Nacional de Estadisticas (INE), con el apoyo tecnico de Comision Economica para America Latina (CEPAL) En el ambito de la pobreza multidimensional, se conto ademas con la asesoria permanente de la Iniciativa para la Pobreza y el Desarrollo Humano de la Universidad de Oxford (OPHI, por su sigla en ingles)  & sorpresa\\\\\n",
       "\t10 & No tienen corazon de madre ni de padre obvio, no son sus hijos Indignate lo que esta pasando                                                                                                                                                                                                                                                                                                                                                                                                                                                                                                                                                                                                                                                                                                                                                    & enojo   \\\\\n",
       "\t11 & Ahora van hacer paros tomas y demas por perder la excelencia a estudiar sera mejor miren que vienen las bacas flacas ayuden asus viejos mejor que arto nos cuesta mandarlos a estudiar ninis                                                                                                                                                                                                                                                                                                                                                                                                                                                                                                                                                                                                                                                    & enojo   \\\\\n",
       "\t12 & Y el capitán del equipo ???                                                                                                                                                                                                                                                                                                                                                                                                                                                                                                                                                                                                                                                                                                                                                                                                                     & sorpresa\\\\\n",
       "\t13 & Te amo Alemania                                                                                                                                                                                                                                                                                                                                                                                                                                                                                                                                                                                                                                                                                                                                                                                                                                 & alegria \\\\\n",
       "\t14 & Alguien piensa que las personas que las que residen en una determinada comuna iran a otra para votar por alcaldes ajenos a su propia comuna?                                                                                                                                                                                                                                                                                                                                                                                                                                                                                                                                                                                                                                                                                                    & enojo   \\\\\n",
       "\t15 &  ?Como se les ocurrio invitar a tamano drogo?                                                                                                                                                                                                                                                                                                                                                                                                                                                                                                                                                                                                                                                                                                                                                                                                   & enojo   \\\\\n",
       "\t16 &  ?Crecimiento desmedido de la ciudad? : la edilicia inmobiliaria no inventa la gente ni a los ciudadanos, solo les proporciona soluciones habitacionales Claro esta que si aun vivieramos en los arboles o en las cavernas no habria problemas de estructura sismica y el que alguien construya y venda a precios razonables o codiciosos en nada afecta la resistencia\\textbar{} sismica del edificio Las casas o los edificios se caen o resisten porque estan bien o mal hechos, no porque alguien los vendio y gano dinero con eso!!!!!!!!!                                                                                                                                                                                                                                                                                                          & enojo   \\\\\n",
       "\t17 &  ?En serio? ?Esa es la alternativa oficial o la que tu usarias?                                                                                                                                                                                                                                                                                                                                                                                                                                                                                                                                                                                                                                                                                                                                                                                 & enojo   \\\\\n",
       "\t18 &  ?Les van a cobrar algo?                                                                                                                                                                                                                                                                                                                                                                                                                                                                                                                                                                                                                                                                                                                                                                                                                        & sorpresa\\\\\n",
       "\t19 &  ?Porque no anexamos Haiti a nuestra soberania? estan llegando aviones completos repletos de haitianos y todos ellos son carga del estado en terminos de salud y seguridad social ?Quien les paga el viaje? un misterio, viajar seis mil kilometros desde el Atlantico no es nada de barato                                                                                                                                                                                                                                                                                                                                                                                                                                                                                                                                                     & sorpresa\\\\\n",
       "\t20 &  ?Quien se rie ahora de Donald Trump? Youtube link                                                                                                                                                                                                                                                                                                                                                                                                                                                                                                                                                                                                                                                                                                                                                                                              & sorpresa\\\\\n",
       "\\end{tabular}\n"
      ],
      "text/markdown": [
       "\n",
       "A data.frame: 20 × 2\n",
       "\n",
       "| <!--/--> | texto &lt;chr&gt; | emoción &lt;chr&gt; |\n",
       "|---|---|---|\n",
       "| 1 | !FAVOR REVISAR DICCIONARIO !                                                                                                                                                                                                                                                                                                                                                                                                                                                                                                                                                                                                                                                                                                                                                                                                                    | enojo    |\n",
       "| 2 | ?El Dodge Challenger cuantos kilometros por litro dara? Esa es mi consulta                                                                                                                                                                                                                                                                                                                                                                                                                                                                                                                                                                                                                                                                                                                                                                      | sorpresa |\n",
       "| 3 | el trasero trailer de la version en carne y hueso , esos redactores merecen el premio redactor de excelencia jajaj                                                                                                                                                                                                                                                                                                                                                                                                                                                                                                                                                                                                                                                                                                                              | alegria  |\n",
       "| 4 | No sera un Peruano o Boliviano que lo hace para que sancionen a Chile ? Hay que acordarse de la guerra mediatica y todos los reclamos de parte de Evo A ese Evo tambien se le sospecha que fue quien dio la orden del reclamo boliviano por los canticos en el estadio                                                                                                                                                                                                                                                                                                                                                                                                                                                                                                                                                                          | enojo    |\n",
       "| 5 |  Y Renaca y Concon para levantar carpas en la playa                                                                                                                                                                                                                                                                                                                                                                                                                                                                                                                                                                                                                                                                                                                                                                                             | sorpresa |\n",
       "| 6 | Yo siempre compro por internet pero cada vez que hay Cyber Monday termino decepcionado, es mas la publicidad que reales ofertas                                                                                                                                                                                                                                                                                                                                                                                                                                                                                                                                                                                                                                                                                                                 | enojo    |\n",
       "| 7 | ! Arjonaaaa !!!!! !Este otro ano vas fijo !!!!                                                                                                                                                                                                                                                                                                                                                                                                                                                                                                                                                                                                                                                                                                                                                                                                  | sorpresa |\n",
       "| 8 | !Partidazo!                                                                                                                                                                                                                                                                                                                                                                                                                                                                                                                                                                                                                                                                                                                                                                                                                                     | alegria  |\n",
       "| 9 | Medicion de pobreza, mas moderna y transparente: En enero de 2014 la Comision para la Medicion de la Pobreza, planteo un conjunto de propuestas de actualizacion de la metodologia de medicion de pobreza por ingresos, asi como la incorporacion de un enfoque de medicion multidimensional Sus sugerencias fueron recibidas por el gobierno de la Presidenta Bachelet y analizadas en detalle durante 2014 por una Mesa Tecnica Interinstitucional, conformada por el Ministerio de Desarrollo Social (MDS) y el Instituto Nacional de Estadisticas (INE), con el apoyo tecnico de Comision Economica para America Latina (CEPAL) En el ambito de la pobreza multidimensional, se conto ademas con la asesoria permanente de la Iniciativa para la Pobreza y el Desarrollo Humano de la Universidad de Oxford (OPHI, por su sigla en ingles)  | sorpresa |\n",
       "| 10 | No tienen corazon de madre ni de padre obvio, no son sus hijos Indignate lo que esta pasando                                                                                                                                                                                                                                                                                                                                                                                                                                                                                                                                                                                                                                                                                                                                                    | enojo    |\n",
       "| 11 | Ahora van hacer paros tomas y demas por perder la excelencia a estudiar sera mejor miren que vienen las bacas flacas ayuden asus viejos mejor que arto nos cuesta mandarlos a estudiar ninis                                                                                                                                                                                                                                                                                                                                                                                                                                                                                                                                                                                                                                                    | enojo    |\n",
       "| 12 | Y el capitán del equipo ???                                                                                                                                                                                                                                                                                                                                                                                                                                                                                                                                                                                                                                                                                                                                                                                                                     | sorpresa |\n",
       "| 13 | Te amo Alemania                                                                                                                                                                                                                                                                                                                                                                                                                                                                                                                                                                                                                                                                                                                                                                                                                                 | alegria  |\n",
       "| 14 | Alguien piensa que las personas que las que residen en una determinada comuna iran a otra para votar por alcaldes ajenos a su propia comuna?                                                                                                                                                                                                                                                                                                                                                                                                                                                                                                                                                                                                                                                                                                    | enojo    |\n",
       "| 15 |  ?Como se les ocurrio invitar a tamano drogo?                                                                                                                                                                                                                                                                                                                                                                                                                                                                                                                                                                                                                                                                                                                                                                                                   | enojo    |\n",
       "| 16 |  ?Crecimiento desmedido de la ciudad? : la edilicia inmobiliaria no inventa la gente ni a los ciudadanos, solo les proporciona soluciones habitacionales Claro esta que si aun vivieramos en los arboles o en las cavernas no habria problemas de estructura sismica y el que alguien construya y venda a precios razonables o codiciosos en nada afecta la resistencia| sismica del edificio Las casas o los edificios se caen o resisten porque estan bien o mal hechos, no porque alguien los vendio y gano dinero con eso!!!!!!!!!                                                                                                                                                                                                                                                                                                          | enojo    |\n",
       "| 17 |  ?En serio? ?Esa es la alternativa oficial o la que tu usarias?                                                                                                                                                                                                                                                                                                                                                                                                                                                                                                                                                                                                                                                                                                                                                                                 | enojo    |\n",
       "| 18 |  ?Les van a cobrar algo?                                                                                                                                                                                                                                                                                                                                                                                                                                                                                                                                                                                                                                                                                                                                                                                                                        | sorpresa |\n",
       "| 19 |  ?Porque no anexamos Haiti a nuestra soberania? estan llegando aviones completos repletos de haitianos y todos ellos son carga del estado en terminos de salud y seguridad social ?Quien les paga el viaje? un misterio, viajar seis mil kilometros desde el Atlantico no es nada de barato                                                                                                                                                                                                                                                                                                                                                                                                                                                                                                                                                     | sorpresa |\n",
       "| 20 |  ?Quien se rie ahora de Donald Trump? Youtube link                                                                                                                                                                                                                                                                                                                                                                                                                                                                                                                                                                                                                                                                                                                                                                                              | sorpresa |\n",
       "\n"
      ],
      "text/plain": [
       "   texto                                                                                                                                                                                                                                                                                                                                                                                                                                                                                                                                                                                                                                                                                                                                                                                                                                          \n",
       "1  !FAVOR REVISAR DICCIONARIO !                                                                                                                                                                                                                                                                                                                                                                                                                                                                                                                                                                                                                                                                                                                                                                                                                   \n",
       "2  ?El Dodge Challenger cuantos kilometros por litro dara? Esa es mi consulta                                                                                                                                                                                                                                                                                                                                                                                                                                                                                                                                                                                                                                                                                                                                                                     \n",
       "3  el trasero trailer de la version en carne y hueso , esos redactores merecen el premio redactor de excelencia jajaj                                                                                                                                                                                                                                                                                                                                                                                                                                                                                                                                                                                                                                                                                                                             \n",
       "4  No sera un Peruano o Boliviano que lo hace para que sancionen a Chile ? Hay que acordarse de la guerra mediatica y todos los reclamos de parte de Evo A ese Evo tambien se le sospecha que fue quien dio la orden del reclamo boliviano por los canticos en el estadio                                                                                                                                                                                                                                                                                                                                                                                                                                                                                                                                                                         \n",
       "5   Y Renaca y Concon para levantar carpas en la playa                                                                                                                                                                                                                                                                                                                                                                                                                                                                                                                                                                                                                                                                                                                                                                                            \n",
       "6  Yo siempre compro por internet pero cada vez que hay Cyber Monday termino decepcionado, es mas la publicidad que reales ofertas                                                                                                                                                                                                                                                                                                                                                                                                                                                                                                                                                                                                                                                                                                                \n",
       "7  ! Arjonaaaa !!!!! !Este otro ano vas fijo !!!!                                                                                                                                                                                                                                                                                                                                                                                                                                                                                                                                                                                                                                                                                                                                                                                                 \n",
       "8  !Partidazo!                                                                                                                                                                                                                                                                                                                                                                                                                                                                                                                                                                                                                                                                                                                                                                                                                                    \n",
       "9  Medicion de pobreza, mas moderna y transparente: En enero de 2014 la Comision para la Medicion de la Pobreza, planteo un conjunto de propuestas de actualizacion de la metodologia de medicion de pobreza por ingresos, asi como la incorporacion de un enfoque de medicion multidimensional Sus sugerencias fueron recibidas por el gobierno de la Presidenta Bachelet y analizadas en detalle durante 2014 por una Mesa Tecnica Interinstitucional, conformada por el Ministerio de Desarrollo Social (MDS) y el Instituto Nacional de Estadisticas (INE), con el apoyo tecnico de Comision Economica para America Latina (CEPAL) En el ambito de la pobreza multidimensional, se conto ademas con la asesoria permanente de la Iniciativa para la Pobreza y el Desarrollo Humano de la Universidad de Oxford (OPHI, por su sigla en ingles) \n",
       "10 No tienen corazon de madre ni de padre obvio, no son sus hijos Indignate lo que esta pasando                                                                                                                                                                                                                                                                                                                                                                                                                                                                                                                                                                                                                                                                                                                                                   \n",
       "11 Ahora van hacer paros tomas y demas por perder la excelencia a estudiar sera mejor miren que vienen las bacas flacas ayuden asus viejos mejor que arto nos cuesta mandarlos a estudiar ninis                                                                                                                                                                                                                                                                                                                                                                                                                                                                                                                                                                                                                                                   \n",
       "12 Y el capitán del equipo ???                                                                                                                                                                                                                                                                                                                                                                                                                                                                                                                                                                                                                                                                                                                                                                                                                    \n",
       "13 Te amo Alemania                                                                                                                                                                                                                                                                                                                                                                                                                                                                                                                                                                                                                                                                                                                                                                                                                                \n",
       "14 Alguien piensa que las personas que las que residen en una determinada comuna iran a otra para votar por alcaldes ajenos a su propia comuna?                                                                                                                                                                                                                                                                                                                                                                                                                                                                                                                                                                                                                                                                                                   \n",
       "15  ?Como se les ocurrio invitar a tamano drogo?                                                                                                                                                                                                                                                                                                                                                                                                                                                                                                                                                                                                                                                                                                                                                                                                  \n",
       "16  ?Crecimiento desmedido de la ciudad? : la edilicia inmobiliaria no inventa la gente ni a los ciudadanos, solo les proporciona soluciones habitacionales Claro esta que si aun vivieramos en los arboles o en las cavernas no habria problemas de estructura sismica y el que alguien construya y venda a precios razonables o codiciosos en nada afecta la resistencia| sismica del edificio Las casas o los edificios se caen o resisten porque estan bien o mal hechos, no porque alguien los vendio y gano dinero con eso!!!!!!!!!                                                                                                                                                                                                                                                                                                         \n",
       "17  ?En serio? ?Esa es la alternativa oficial o la que tu usarias?                                                                                                                                                                                                                                                                                                                                                                                                                                                                                                                                                                                                                                                                                                                                                                                \n",
       "18  ?Les van a cobrar algo?                                                                                                                                                                                                                                                                                                                                                                                                                                                                                                                                                                                                                                                                                                                                                                                                                       \n",
       "19  ?Porque no anexamos Haiti a nuestra soberania? estan llegando aviones completos repletos de haitianos y todos ellos son carga del estado en terminos de salud y seguridad social ?Quien les paga el viaje? un misterio, viajar seis mil kilometros desde el Atlantico no es nada de barato                                                                                                                                                                                                                                                                                                                                                                                                                                                                                                                                                    \n",
       "20  ?Quien se rie ahora de Donald Trump? Youtube link                                                                                                                                                                                                                                                                                                                                                                                                                                                                                                                                                                                                                                                                                                                                                                                             \n",
       "   emoción \n",
       "1  enojo   \n",
       "2  sorpresa\n",
       "3  alegria \n",
       "4  enojo   \n",
       "5  sorpresa\n",
       "6  enojo   \n",
       "7  sorpresa\n",
       "8  alegria \n",
       "9  sorpresa\n",
       "10 enojo   \n",
       "11 enojo   \n",
       "12 sorpresa\n",
       "13 alegria \n",
       "14 enojo   \n",
       "15 enojo   \n",
       "16 enojo   \n",
       "17 enojo   \n",
       "18 sorpresa\n",
       "19 sorpresa\n",
       "20 sorpresa"
      ]
     },
     "metadata": {},
     "output_type": "display_data"
    }
   ],
   "source": [
    "# Se declaran los nombres de las columnas\n",
    "columnas <- c(\"texto\",\"emoción\")\n",
    "\n",
    "# Se cargan datos principales a una estructura (commentsdataset), asignando nombres de atributos a las columnas\n",
    "comments.dataset.raw <- read.csv(file = theUrlMain, header = FALSE, sep = \";\", col.names=columnas, skipNul = TRUE)\n",
    "\n",
    "# Conteo de ejemplos de cada clase.\n",
    "# Al ver su dimensión, se puede apreciar si están o no balanceados,\n",
    "# pero no se espera en esta ocasión trabajar en balanceo de clases.\n",
    "data.enojo <- comments.dataset.raw[comments.dataset.raw$emoción == 'enojo',]\n",
    "data.sorpresa <- comments.dataset.raw[comments.dataset.raw$emoción == 'sorpresa',]\n",
    "data.alegria <- comments.dataset.raw[comments.dataset.raw$emoción == 'alegria',]\n",
    "cat(\"\\nEjemplos Enojo:     \", dim(data.enojo))\n",
    "cat(\"\\nEjemplos Sorpresa:  \", dim(data.sorpresa))\n",
    "cat(\"\\nEjemplos Alegría:   \", dim(data.alegria))\n",
    "\n",
    "commentsdataset <- comments.dataset.raw\n",
    "dim(commentsdataset)\n",
    "head(commentsdataset, 20)"
   ]
  },
  {
   "cell_type": "markdown",
   "metadata": {
    "id": "VGOO7LFAPDL5"
   },
   "source": [
    "## Ejercicio 1: Entender el efecto de la normalización de texto\n",
    "\n",
    "Las técnicas de normalización de texto, cuando tienen que realizar análisis del texto leído, deben buscar la simplificación del texto para poder trabajar sobre un universo de términos más simple y acotado. Esto puede considerar eliminar tildes, evitar palabras comunes, usar la raíz de múltiples términos, entre otros.\n",
    "\n",
    "A continuación se aplican algunas de las técnicas más frecuentes, permitiendo ver el efecto (potencialmente positivo) de cada una de ellas.\n",
    "\n",
    "**Pregunta 1.1 (1 punto)**: ¿Cuánto mejora el rendimiento de los modelos de análisis de sentimiento (implementados en la siguiente sección) al agregar las técnicas de normalización? La idea es comparar el rendimiento con y sin las técnicas de normalización, analizando cuantitativamente las posibles mejoras en cada uno de los dos modelos (a nivel de sus indicadores de desempeño).\n",
    "\n",
    "**Pregunta 1.2 (0,5 puntos)**: ¿Cuál es el modelo que mejora más? Analice y describa qué característcas de este modelo justifican ser el que mejora con las técnicas de normalización, más que el otro.\n",
    "\n",
    "Aquí se recomienda registrar el desempeño de los modelos habiendo ejecutado con y sin las técnicas de normalización. Para verificar el desempeño SIN la normalización se puede eliminar las 5 instrucciones o técnicas que están el código como Bloque 1 (se recomienda comentar la línea de código respectivo con un símbolo #).\n",
    "\n",
    "Se debe comparar el desempeño de ambos modelos, con y sin las normalizaciones de texto, de modo de ver en cuál de ellos tiene más efecto. Para efectos prácticos, se propone realizar la modificación en el BLOQUE 1 y correr todas las secciones de código en adelante, para ver el rendimiento comparado.  \n",
    "\n",
    "Luego de contestar estas preguntas, continue con el ejercicio dejando activas las técnicas de normalización en adelante."
   ]
  },
  {
   "cell_type": "code",
   "execution_count": 4,
   "metadata": {
    "id": "w-RkhmupJGPI"
   },
   "outputs": [
    {
     "data": {
      "text/html": [
       "'AFP: el poder impotente Ciper - Columna de DMatamala - AFP: el poder impotente'"
      ],
      "text/latex": [
       "'AFP: el poder impotente Ciper - Columna de DMatamala - AFP: el poder impotente'"
      ],
      "text/markdown": [
       "'AFP: el poder impotente Ciper - Columna de DMatamala - AFP: el poder impotente'"
      ],
      "text/plain": [
       "[1] \"AFP: el poder impotente Ciper - Columna de DMatamala - AFP: el poder impotente\""
      ]
     },
     "metadata": {},
     "output_type": "display_data"
    },
    {
     "name": "stderr",
     "output_type": "stream",
     "text": [
      "Warning message in tm_map.SimpleCorpus(corpus, tolower):\n",
      "“transformation drops documents”\n",
      "Warning message in tm_map.SimpleCorpus(corpus, removePunctuation):\n",
      "“transformation drops documents”\n",
      "Warning message in tm_map.SimpleCorpus(corpus, removeNumbers):\n",
      "“transformation drops documents”\n",
      "Warning message in tm_map.SimpleCorpus(corpus, removeWords, c(stopwords(\"spanish\"))):\n",
      "“transformation drops documents”\n",
      "Warning message in tm_map.SimpleCorpus(corpus, stemDocument):\n",
      "“transformation drops documents”\n"
     ]
    },
    {
     "data": {
      "text/html": [
       "'afp poder impotent ciper columna dmatamala afp poder impotent'"
      ],
      "text/latex": [
       "'afp poder impotent ciper columna dmatamala afp poder impotent'"
      ],
      "text/markdown": [
       "'afp poder impotent ciper columna dmatamala afp poder impotent'"
      ],
      "text/plain": [
       "[1] \"afp poder impotent ciper columna dmatamala afp poder impotent\""
      ]
     },
     "metadata": {},
     "output_type": "display_data"
    }
   ],
   "source": [
    "# Construye el Corpus: el universo de texto que se usará para entrenar los modelos.\n",
    "corpus.original <- Corpus(VectorSource(commentsdataset$texto))\n",
    "\n",
    "# Se selecciona y muestra (sin normalizar) un comentario de ejemplo aleatorio dentro del corpus\n",
    "random_index <- floor(runif(1, min=0, max=length(corpus.original)))\n",
    "content(corpus.original[[random_index]])\n",
    "\n",
    "################################\n",
    "# NORMALIZACIÓN DEL TEXTO\n",
    "# EJERCICIO: probar comentando (anteponiendo #) estas acciones,\n",
    "# para ver cuánto es el efecto en el rendimiento del modelo de clasificación\n",
    "################################\n",
    "# Se saca una copia ('corpus') de trabajo, para no alterar el original\n",
    "corpus <- corpus.original\n",
    "\n",
    "## BLOQUE 1\n",
    "# Se pasan todas las palabras a minúsculas\n",
    "corpus <- tm_map(corpus, tolower)\n",
    "# Se eliminan todos los signos de puntuación\n",
    "corpus <- tm_map(corpus, removePunctuation)\n",
    "# Se eliminan todos los números\n",
    "corpus <- tm_map(corpus, removeNumbers)\n",
    "# Se eliminan las stop words (palabras comunes, irrelevantes)\n",
    "corpus <- tm_map(corpus, removeWords, c(stopwords(\"spanish\")))\n",
    "# Se lleva cada palabra a su raíz (stemming)\n",
    "corpus <- tm_map(corpus, stemDocument)\n",
    "\n",
    "\n",
    "# Se muestra el mismo ejemplo aleatorio, pero en texto normalizado\n",
    "content(corpus[[random_index]])\n"
   ]
  },
  {
   "cell_type": "markdown",
   "metadata": {
    "id": "9m6AjrGNtf3x"
   },
   "source": [
    "## Ejercicio 2: Construcción de un Vocabulario con Términos Significativos\n",
    "\n",
    "Los clasificadores reciben un X de entrada de una dimensión fija. Por lo tanto los X de este ejemplo de análisis de texto, comentarios de cantidad variable de palabras, no se pueden usar tal cual vienen (como lista de cantidad variables de términos).\n",
    "\n",
    "Por ello, la siguiente porción de código transforma los comentarios de texto variable en un vector de ocurrencia de palabras referenciando un vocabulario, el cual se construye referenciando todas las palabras distintas (ya normalizadas) del Corpus. Esto se traduce en que un comentario que tiene la expresión \".. resultados excelentes ... \", tendría una intersección con el comentario \"... excelente como resultó ...\" y por ello podrían ser interpretadas en forma equivalente.\n",
    "\n",
    "Pero el desafío de esta vectorización en base a un vocabulario es la **cantidad de dimensiones** (cantidad de palabras diferentes). Un vocabulario perfectamente puede tener varios miles de palabras diferentes (ver resultado en 2.A), entonces la dimensión del vector X es de esos varios miles.\n",
    "\n",
    "Esto motiva a reducir la dimensionalidad del problema (el tamaño del vocabulario) al reconocer cuáles son los términos más relevantes. Esto se hace con removeSparseTerm() y un umbral alto (0.995 reduce la gran cantidad de términos que tienen al menos un 99.5% de 0s en la columna), como se ve en en 2.B. Mientras mayor es el número, mayor cantidad de términos ocasionales o esporádicos se conservan y el vocabulario queda más grande. En otras palabras, mientras menor es el número, mayor es la exigencia para un término de ser considerado valioso y quedar como parte del dataset. (https://www.rdocumentation.org/packages/tm/versions/0.7-8/topics/removeSparseTerms)\n",
    "\n",
    "La pregunta específica a responder cuando se implementa un modelo es: ¿cuántos son los términos a considerar en el vocabulario que sean los mejores representativos del universo de diversas palabras, para maximizar el desempeño del modelo de clasificación? Eso se responde buscando un factor de removeSparseTerms() que logre ese mejor desempeño.\n",
    "\n",
    "**Pregunta 2.1 (1 punto)** ¿Cuál es el valor usado en removeSparseTerm() para lograr mejores resultados en los modelos de clasificación? Realice una comparación de 3 valores: 0.990, 0.995, 0.998.\n",
    "\n",
    "**Pregunta 2.2 (1 punto)** ¿Cómo se interpreta en este caso que mejore o empeore con más y a veces con menos cantidad de palabras (o columnas del dataset)?\n",
    "\n",
    "Para ambas preguntas se debe comparar los resultados del Árbol de Decisión y de la Red Neuronal (utilizando parámetros de ejecución más liviana - ej: size=20 y maxit=30).\n"
   ]
  },
  {
   "cell_type": "code",
   "execution_count": 5,
   "metadata": {
    "id": "_3uvXCD-MdZr"
   },
   "outputs": [
    {
     "data": {
      "text/html": [
       "<style>\n",
       ".list-inline {list-style: none; margin:0; padding: 0}\n",
       ".list-inline>li {display: inline-block}\n",
       ".list-inline>li:not(:last-child)::after {content: \"\\00b7\"; padding: 0 .5ex}\n",
       "</style>\n",
       "<ol class=list-inline><li>6901</li><li>16848</li></ol>\n"
      ],
      "text/latex": [
       "\\begin{enumerate*}\n",
       "\\item 6901\n",
       "\\item 16848\n",
       "\\end{enumerate*}\n"
      ],
      "text/markdown": [
       "1. 6901\n",
       "2. 16848\n",
       "\n",
       "\n"
      ],
      "text/plain": [
       "[1]  6901 16848"
      ]
     },
     "metadata": {},
     "output_type": "display_data"
    },
    {
     "data": {
      "text/html": [
       "<style>\n",
       ".list-inline {list-style: none; margin:0; padding: 0}\n",
       ".list-inline>li {display: inline-block}\n",
       ".list-inline>li:not(:last-child)::after {content: \"\\00b7\"; padding: 0 .5ex}\n",
       "</style>\n",
       "<ol class=list-inline><li>6901</li><li>195</li></ol>\n"
      ],
      "text/latex": [
       "\\begin{enumerate*}\n",
       "\\item 6901\n",
       "\\item 195\n",
       "\\end{enumerate*}\n"
      ],
      "text/markdown": [
       "1. 6901\n",
       "2. 195\n",
       "\n",
       "\n"
      ],
      "text/plain": [
       "[1] 6901  195"
      ]
     },
     "metadata": {},
     "output_type": "display_data"
    },
    {
     "data": {
      "text/html": [
       "<style>\n",
       ".list-inline {list-style: none; margin:0; padding: 0}\n",
       ".list-inline>li {display: inline-block}\n",
       ".list-inline>li:not(:last-child)::after {content: \"\\00b7\"; padding: 0 .5ex}\n",
       "</style>\n",
       "<ol class=list-inline><li>6901</li><li>196</li></ol>\n"
      ],
      "text/latex": [
       "\\begin{enumerate*}\n",
       "\\item 6901\n",
       "\\item 196\n",
       "\\end{enumerate*}\n"
      ],
      "text/markdown": [
       "1. 6901\n",
       "2. 196\n",
       "\n",
       "\n"
      ],
      "text/plain": [
       "[1] 6901  196"
      ]
     },
     "metadata": {},
     "output_type": "display_data"
    }
   ],
   "source": [
    "#######################################################\n",
    "# Indexación de términos: creación de un Vocabulario\n",
    "#######################################################\n",
    "\n",
    "# Primero una matriz de ocurrencia de términos o palabras (DTM: Document-term matrix).\n",
    "# Las filas son los comentarios y las columnas son las palabras diferentes encontradas (varios miles).\n",
    "termMatrix <- DocumentTermMatrix(corpus)\n",
    "dim(termMatrix)   # Resultado 2.A -> Las columnas son todos los términos diferentes encontrados en corpus\n",
    "\n",
    "# Entonces, se eliminan las palabras menos relevantes (sparse terms: términos dispersos)\n",
    "# lo que resulta en una reducción dimensional (potencialmente grande)\n",
    "# Ejercicio 2.1: ¿qué factor de eliminación (en rango 0.99x) da mejores resultados?\n",
    "# Probar con 3 combinaciones: 0.990, 0.995, 0.998.\n",
    "# Ejercicio 2.2: ¿qué implica o cómo se interpreta ese cambio de valor y su efecto en el dataset?\n",
    "termMatrixLight <- removeSparseTerms(termMatrix, 0.995)\n",
    "dim(termMatrixLight)  # Resultado 2.B -> Se puede ver que se reduce significativamente la cantidad de columnas (palabras)\n",
    "\n",
    "# Re-formatea como un DataFrame\n",
    "corpus.procesado <- as.data.frame(as.matrix(termMatrixLight))\n",
    "\n",
    "# Se construye el dataset para entrenamiento, recuperando el comentario original, sin procesar\n",
    "# agregando la columna \"emoción\"\n",
    "corpus.procesado$emoción <- as.factor(commentsdataset$emoción)\n",
    "\n",
    "# Se muestra el vocabulario y su tamaño\n",
    "dim(corpus.procesado)"
   ]
  },
  {
   "cell_type": "markdown",
   "metadata": {
    "id": "gze81qto-1oX"
   },
   "source": [
    "## Paso 3: Ejecución modelos de predicción según conjuntos de entrenamiento y validación\n",
    "\n",
    "En este caso, el dataset de ejemplos etiquetados se divide en dos (Hold-out) para entrenar y validar con conjuntos disjuntos.\n",
    "\n",
    "No se necesita modificar esta sección, aunque es válido y potencialmente interesante revisar diferentes valores de proporción entrenamiento/validación.\n"
   ]
  },
  {
   "cell_type": "code",
   "execution_count": 6,
   "metadata": {
    "id": "D1j2-rNWMcnt"
   },
   "outputs": [
    {
     "name": "stdout",
     "output_type": "stream",
     "text": [
      "Dimensiones Entrenamiento/Test"
     ]
    },
    {
     "data": {
      "text/html": [
       "<style>\n",
       ".list-inline {list-style: none; margin:0; padding: 0}\n",
       ".list-inline>li {display: inline-block}\n",
       ".list-inline>li:not(:last-child)::after {content: \"\\00b7\"; padding: 0 .5ex}\n",
       "</style>\n",
       "<ol class=list-inline><li>4830</li><li>196</li></ol>\n"
      ],
      "text/latex": [
       "\\begin{enumerate*}\n",
       "\\item 4830\n",
       "\\item 196\n",
       "\\end{enumerate*}\n"
      ],
      "text/markdown": [
       "1. 4830\n",
       "2. 196\n",
       "\n",
       "\n"
      ],
      "text/plain": [
       "[1] 4830  196"
      ]
     },
     "metadata": {},
     "output_type": "display_data"
    },
    {
     "data": {
      "text/html": [
       "<style>\n",
       ".list-inline {list-style: none; margin:0; padding: 0}\n",
       ".list-inline>li {display: inline-block}\n",
       ".list-inline>li:not(:last-child)::after {content: \"\\00b7\"; padding: 0 .5ex}\n",
       "</style>\n",
       "<ol class=list-inline><li>2071</li><li>196</li></ol>\n"
      ],
      "text/latex": [
       "\\begin{enumerate*}\n",
       "\\item 2071\n",
       "\\item 196\n",
       "\\end{enumerate*}\n"
      ],
      "text/markdown": [
       "1. 2071\n",
       "2. 196\n",
       "\n",
       "\n"
      ],
      "text/plain": [
       "[1] 2071  196"
      ]
     },
     "metadata": {},
     "output_type": "display_data"
    },
    {
     "data": {
      "text/html": [
       "<table class=\"dataframe\">\n",
       "<caption>A data.frame: 10 × 196</caption>\n",
       "<thead>\n",
       "\t<tr><th></th><th scope=col>favor</th><th scope=col>cuanto</th><th scope=col>chile</th><th scope=col>dio</th><th scope=col>hace</th><th scope=col>part</th><th scope=col>sera</th><th scope=col>tambien</th><th scope=col>cada</th><th scope=col>mas</th><th scope=col>⋯</th><th scope=col>via</th><th scope=col>falabella</th><th scope=col>…</th><th scope=col>transantiago</th><th scope=col>artifici</th><th scope=col>monsanto</th><th scope=col>transgenico</th><th scope=col>camilavallejo</th><th scope=col>gustado</th><th scope=col>emoción</th></tr>\n",
       "\t<tr><th></th><th scope=col>&lt;dbl&gt;</th><th scope=col>&lt;dbl&gt;</th><th scope=col>&lt;dbl&gt;</th><th scope=col>&lt;dbl&gt;</th><th scope=col>&lt;dbl&gt;</th><th scope=col>&lt;dbl&gt;</th><th scope=col>&lt;dbl&gt;</th><th scope=col>&lt;dbl&gt;</th><th scope=col>&lt;dbl&gt;</th><th scope=col>&lt;dbl&gt;</th><th scope=col>⋯</th><th scope=col>&lt;dbl&gt;</th><th scope=col>&lt;dbl&gt;</th><th scope=col>&lt;dbl&gt;</th><th scope=col>&lt;dbl&gt;</th><th scope=col>&lt;dbl&gt;</th><th scope=col>&lt;dbl&gt;</th><th scope=col>&lt;dbl&gt;</th><th scope=col>&lt;dbl&gt;</th><th scope=col>&lt;dbl&gt;</th><th scope=col>&lt;fct&gt;</th></tr>\n",
       "</thead>\n",
       "<tbody>\n",
       "\t<tr><th scope=row>2</th><td>0</td><td>1</td><td>0</td><td>0</td><td>0</td><td>0</td><td>0</td><td>0</td><td>0</td><td>0</td><td>⋯</td><td>0</td><td>0</td><td>0</td><td>0</td><td>0</td><td>0</td><td>0</td><td>0</td><td>0</td><td>sorpresa</td></tr>\n",
       "\t<tr><th scope=row>3</th><td>0</td><td>0</td><td>0</td><td>0</td><td>0</td><td>0</td><td>0</td><td>0</td><td>0</td><td>0</td><td>⋯</td><td>0</td><td>0</td><td>0</td><td>0</td><td>0</td><td>0</td><td>0</td><td>0</td><td>0</td><td>alegria </td></tr>\n",
       "\t<tr><th scope=row>6</th><td>0</td><td>0</td><td>0</td><td>0</td><td>0</td><td>0</td><td>0</td><td>0</td><td>1</td><td>1</td><td>⋯</td><td>0</td><td>0</td><td>0</td><td>0</td><td>0</td><td>0</td><td>0</td><td>0</td><td>0</td><td>enojo   </td></tr>\n",
       "\t<tr><th scope=row>12</th><td>0</td><td>0</td><td>0</td><td>0</td><td>0</td><td>0</td><td>0</td><td>0</td><td>0</td><td>0</td><td>⋯</td><td>0</td><td>0</td><td>0</td><td>0</td><td>0</td><td>0</td><td>0</td><td>0</td><td>0</td><td>sorpresa</td></tr>\n",
       "\t<tr><th scope=row>20</th><td>0</td><td>0</td><td>0</td><td>0</td><td>0</td><td>0</td><td>0</td><td>0</td><td>0</td><td>0</td><td>⋯</td><td>0</td><td>0</td><td>0</td><td>0</td><td>0</td><td>0</td><td>0</td><td>0</td><td>0</td><td>sorpresa</td></tr>\n",
       "\t<tr><th scope=row>21</th><td>0</td><td>0</td><td>0</td><td>0</td><td>0</td><td>0</td><td>1</td><td>0</td><td>0</td><td>0</td><td>⋯</td><td>0</td><td>0</td><td>0</td><td>0</td><td>0</td><td>0</td><td>0</td><td>0</td><td>0</td><td>enojo   </td></tr>\n",
       "\t<tr><th scope=row>22</th><td>0</td><td>0</td><td>0</td><td>0</td><td>0</td><td>0</td><td>0</td><td>0</td><td>0</td><td>0</td><td>⋯</td><td>0</td><td>0</td><td>0</td><td>0</td><td>0</td><td>0</td><td>0</td><td>0</td><td>0</td><td>enojo   </td></tr>\n",
       "\t<tr><th scope=row>23</th><td>0</td><td>0</td><td>0</td><td>0</td><td>0</td><td>0</td><td>0</td><td>0</td><td>0</td><td>0</td><td>⋯</td><td>0</td><td>0</td><td>0</td><td>0</td><td>0</td><td>0</td><td>0</td><td>0</td><td>0</td><td>sorpresa</td></tr>\n",
       "\t<tr><th scope=row>30</th><td>0</td><td>0</td><td>0</td><td>0</td><td>0</td><td>0</td><td>0</td><td>0</td><td>0</td><td>0</td><td>⋯</td><td>0</td><td>0</td><td>0</td><td>0</td><td>0</td><td>0</td><td>0</td><td>0</td><td>0</td><td>sorpresa</td></tr>\n",
       "\t<tr><th scope=row>33</th><td>0</td><td>0</td><td>0</td><td>0</td><td>1</td><td>0</td><td>0</td><td>0</td><td>0</td><td>0</td><td>⋯</td><td>0</td><td>0</td><td>0</td><td>0</td><td>0</td><td>0</td><td>0</td><td>0</td><td>0</td><td>alegria </td></tr>\n",
       "</tbody>\n",
       "</table>\n"
      ],
      "text/latex": [
       "A data.frame: 10 × 196\n",
       "\\begin{tabular}{r|lllllllllllllllllllll}\n",
       "  & favor & cuanto & chile & dio & hace & part & sera & tambien & cada & mas & ⋯ & via & falabella & … & transantiago & artifici & monsanto & transgenico & camilavallejo & gustado & emoción\\\\\n",
       "  & <dbl> & <dbl> & <dbl> & <dbl> & <dbl> & <dbl> & <dbl> & <dbl> & <dbl> & <dbl> & ⋯ & <dbl> & <dbl> & <dbl> & <dbl> & <dbl> & <dbl> & <dbl> & <dbl> & <dbl> & <fct>\\\\\n",
       "\\hline\n",
       "\t2 & 0 & 1 & 0 & 0 & 0 & 0 & 0 & 0 & 0 & 0 & ⋯ & 0 & 0 & 0 & 0 & 0 & 0 & 0 & 0 & 0 & sorpresa\\\\\n",
       "\t3 & 0 & 0 & 0 & 0 & 0 & 0 & 0 & 0 & 0 & 0 & ⋯ & 0 & 0 & 0 & 0 & 0 & 0 & 0 & 0 & 0 & alegria \\\\\n",
       "\t6 & 0 & 0 & 0 & 0 & 0 & 0 & 0 & 0 & 1 & 1 & ⋯ & 0 & 0 & 0 & 0 & 0 & 0 & 0 & 0 & 0 & enojo   \\\\\n",
       "\t12 & 0 & 0 & 0 & 0 & 0 & 0 & 0 & 0 & 0 & 0 & ⋯ & 0 & 0 & 0 & 0 & 0 & 0 & 0 & 0 & 0 & sorpresa\\\\\n",
       "\t20 & 0 & 0 & 0 & 0 & 0 & 0 & 0 & 0 & 0 & 0 & ⋯ & 0 & 0 & 0 & 0 & 0 & 0 & 0 & 0 & 0 & sorpresa\\\\\n",
       "\t21 & 0 & 0 & 0 & 0 & 0 & 0 & 1 & 0 & 0 & 0 & ⋯ & 0 & 0 & 0 & 0 & 0 & 0 & 0 & 0 & 0 & enojo   \\\\\n",
       "\t22 & 0 & 0 & 0 & 0 & 0 & 0 & 0 & 0 & 0 & 0 & ⋯ & 0 & 0 & 0 & 0 & 0 & 0 & 0 & 0 & 0 & enojo   \\\\\n",
       "\t23 & 0 & 0 & 0 & 0 & 0 & 0 & 0 & 0 & 0 & 0 & ⋯ & 0 & 0 & 0 & 0 & 0 & 0 & 0 & 0 & 0 & sorpresa\\\\\n",
       "\t30 & 0 & 0 & 0 & 0 & 0 & 0 & 0 & 0 & 0 & 0 & ⋯ & 0 & 0 & 0 & 0 & 0 & 0 & 0 & 0 & 0 & sorpresa\\\\\n",
       "\t33 & 0 & 0 & 0 & 0 & 1 & 0 & 0 & 0 & 0 & 0 & ⋯ & 0 & 0 & 0 & 0 & 0 & 0 & 0 & 0 & 0 & alegria \\\\\n",
       "\\end{tabular}\n"
      ],
      "text/markdown": [
       "\n",
       "A data.frame: 10 × 196\n",
       "\n",
       "| <!--/--> | favor &lt;dbl&gt; | cuanto &lt;dbl&gt; | chile &lt;dbl&gt; | dio &lt;dbl&gt; | hace &lt;dbl&gt; | part &lt;dbl&gt; | sera &lt;dbl&gt; | tambien &lt;dbl&gt; | cada &lt;dbl&gt; | mas &lt;dbl&gt; | ⋯ ⋯ | via &lt;dbl&gt; | falabella &lt;dbl&gt; | … &lt;dbl&gt; | transantiago &lt;dbl&gt; | artifici &lt;dbl&gt; | monsanto &lt;dbl&gt; | transgenico &lt;dbl&gt; | camilavallejo &lt;dbl&gt; | gustado &lt;dbl&gt; | emoción &lt;fct&gt; |\n",
       "|---|---|---|---|---|---|---|---|---|---|---|---|---|---|---|---|---|---|---|---|---|---|\n",
       "| 2 | 0 | 1 | 0 | 0 | 0 | 0 | 0 | 0 | 0 | 0 | ⋯ | 0 | 0 | 0 | 0 | 0 | 0 | 0 | 0 | 0 | sorpresa |\n",
       "| 3 | 0 | 0 | 0 | 0 | 0 | 0 | 0 | 0 | 0 | 0 | ⋯ | 0 | 0 | 0 | 0 | 0 | 0 | 0 | 0 | 0 | alegria  |\n",
       "| 6 | 0 | 0 | 0 | 0 | 0 | 0 | 0 | 0 | 1 | 1 | ⋯ | 0 | 0 | 0 | 0 | 0 | 0 | 0 | 0 | 0 | enojo    |\n",
       "| 12 | 0 | 0 | 0 | 0 | 0 | 0 | 0 | 0 | 0 | 0 | ⋯ | 0 | 0 | 0 | 0 | 0 | 0 | 0 | 0 | 0 | sorpresa |\n",
       "| 20 | 0 | 0 | 0 | 0 | 0 | 0 | 0 | 0 | 0 | 0 | ⋯ | 0 | 0 | 0 | 0 | 0 | 0 | 0 | 0 | 0 | sorpresa |\n",
       "| 21 | 0 | 0 | 0 | 0 | 0 | 0 | 1 | 0 | 0 | 0 | ⋯ | 0 | 0 | 0 | 0 | 0 | 0 | 0 | 0 | 0 | enojo    |\n",
       "| 22 | 0 | 0 | 0 | 0 | 0 | 0 | 0 | 0 | 0 | 0 | ⋯ | 0 | 0 | 0 | 0 | 0 | 0 | 0 | 0 | 0 | enojo    |\n",
       "| 23 | 0 | 0 | 0 | 0 | 0 | 0 | 0 | 0 | 0 | 0 | ⋯ | 0 | 0 | 0 | 0 | 0 | 0 | 0 | 0 | 0 | sorpresa |\n",
       "| 30 | 0 | 0 | 0 | 0 | 0 | 0 | 0 | 0 | 0 | 0 | ⋯ | 0 | 0 | 0 | 0 | 0 | 0 | 0 | 0 | 0 | sorpresa |\n",
       "| 33 | 0 | 0 | 0 | 0 | 1 | 0 | 0 | 0 | 0 | 0 | ⋯ | 0 | 0 | 0 | 0 | 0 | 0 | 0 | 0 | 0 | alegria  |\n",
       "\n"
      ],
      "text/plain": [
       "   favor cuanto chile dio hace part sera tambien cada mas ⋯ via falabella …\n",
       "2  0     1      0     0   0    0    0    0       0    0   ⋯ 0   0         0\n",
       "3  0     0      0     0   0    0    0    0       0    0   ⋯ 0   0         0\n",
       "6  0     0      0     0   0    0    0    0       1    1   ⋯ 0   0         0\n",
       "12 0     0      0     0   0    0    0    0       0    0   ⋯ 0   0         0\n",
       "20 0     0      0     0   0    0    0    0       0    0   ⋯ 0   0         0\n",
       "21 0     0      0     0   0    0    1    0       0    0   ⋯ 0   0         0\n",
       "22 0     0      0     0   0    0    0    0       0    0   ⋯ 0   0         0\n",
       "23 0     0      0     0   0    0    0    0       0    0   ⋯ 0   0         0\n",
       "30 0     0      0     0   0    0    0    0       0    0   ⋯ 0   0         0\n",
       "33 0     0      0     0   1    0    0    0       0    0   ⋯ 0   0         0\n",
       "   transantiago artifici monsanto transgenico camilavallejo gustado emoción \n",
       "2  0            0        0        0           0             0       sorpresa\n",
       "3  0            0        0        0           0             0       alegria \n",
       "6  0            0        0        0           0             0       enojo   \n",
       "12 0            0        0        0           0             0       sorpresa\n",
       "20 0            0        0        0           0             0       sorpresa\n",
       "21 0            0        0        0           0             0       enojo   \n",
       "22 0            0        0        0           0             0       enojo   \n",
       "23 0            0        0        0           0             0       sorpresa\n",
       "30 0            0        0        0           0             0       sorpresa\n",
       "33 0            0        0        0           0             0       alegria "
      ]
     },
     "metadata": {},
     "output_type": "display_data"
    }
   ],
   "source": [
    "################################################################\n",
    "# Versión simple para crear conjuntos de entrenamiento y de test.\n",
    "# Se puede dejar la proporción original de 0.70,\n",
    "# pero se puede cambiar si se piensa que puede hacer una diferencia.\n",
    "ratio <- sample(nrow(corpus.procesado),nrow(corpus.procesado)*0.70)\n",
    "training.set = corpus.procesado[ratio,]\n",
    "testing.set  = corpus.procesado[-ratio,]\n",
    "\n",
    "cat(\"Dimensiones Entrenamiento/Test\")\n",
    "dim(training.set)\n",
    "dim(testing.set)\n",
    "\n",
    "head(testing.set, 10)"
   ]
  },
  {
   "cell_type": "markdown",
   "metadata": {
    "id": "82LcskQOnNmH"
   },
   "source": [
    "## Ejercicio 3: Interpretación de desempeño de modelos de clasificación de referencia\n",
    "\n",
    "Habiendo definido y establecido los conjuntos de entrenamiento y de test, a continuación se ejecutan dos diferentes modelos de clasificación: Árbol de Decisión y más abajo una Red Neuronal (NNET). Cada uno obtiene su resultado, mostrando sus indicadores de desempeño.\n",
    "\n",
    "Nótese que ninguno de los 2 modelos da resultados significativamente buenos o mucho mejor que el otro, lo cual se debe a la inherente complejidad de los casos de lenguaje natural y contar sólo con unos pocos miles de ejemplos (en total son cerca de 7.000 ejemplos, divididos en 3 clases, lo cual no alcanza a reflejar la real diversidad de palabras asociadas a cada una de las clases, cosa que se empieza a lograr desde las decenas de miles de ejemplos por clase).\n",
    "\n",
    "Sin embargo, hay algunas observaciones que salen de los resultados de desempeño, además del hecho de que la red neuronal toma cerca de 10x el tiempo del Árbol de Decisión. De estas observaciones, se pide responder lo siguiente.\n",
    "\n",
    "**Pregunta 3.1 (1 punto)** Considere cambiar los parámetros de funcionamiento de la red neuronal (size, maxit) buscando su mejor desempeño e indique los valores de estos dos parámetros que resultó en mejores resultados.\n",
    "\n",
    "**Pregunta 3.2 (0,7 punto)** Teniendo este resultado se ve que de los dos modelos, hay uno con *accuracy* mejor que el otro, pero en forma más completa y precisa ¿cuál de los dos se puede considerar el mejor modelo al mirar su desempeño más completo y por qué? Nótese que la tabla de resultados tiene una serie de indicadores diferentes por cada una de las 3 clases, que sirven para entender cómo se comporta el modelo en una correcta clasificación.\n",
    "\n",
    "**Pregunta 3.3 (0,8 punto)** Se puede observar que el Árbol de Decisión tiene un muy mal desempeño en reconocer una de esas clases. ¿Cuál y por qué podría darse esto? (En otras palabras, ¿qué característica de este modelo puede provocar que en este caso una de las clases no sea factible de predecir?\n"
   ]
  },
  {
   "cell_type": "markdown",
   "metadata": {
    "id": "lzgDdw-S3sAg"
   },
   "source": [
    "**Árbol de Decisión**"
   ]
  },
  {
   "cell_type": "code",
   "execution_count": 7,
   "metadata": {
    "id": "KOpqb-QInkff"
   },
   "outputs": [
    {
     "name": "stdout",
     "output_type": "stream",
     "text": [
      "\n",
      "\n",
      "************* Resultados Árbol de Decisión - Testing *************\n"
     ]
    },
    {
     "data": {
      "text/plain": [
       "Confusion Matrix and Statistics\n",
       "\n",
       "          Reference\n",
       "Prediction alegria enojo sorpresa\n",
       "  alegria       22     0        2\n",
       "  enojo        765   954      328\n",
       "  sorpresa       0     0        0\n",
       "\n",
       "Overall Statistics\n",
       "                                         \n",
       "               Accuracy : 0.4713         \n",
       "                 95% CI : (0.4496, 0.493)\n",
       "    No Information Rate : 0.4606         \n",
       "    P-Value [Acc > NIR] : 0.1716         \n",
       "                                         \n",
       "                  Kappa : 0.0214         \n",
       "                                         \n",
       " Mcnemar's Test P-Value : <2e-16         \n",
       "\n",
       "Statistics by Class:\n",
       "\n",
       "                     Class: alegria Class: enojo Class: sorpresa\n",
       "Sensitivity                 0.02795      1.00000          0.0000\n",
       "Specificity                 0.99844      0.02149          1.0000\n",
       "Pos Pred Value              0.91667      0.46605             NaN\n",
       "Neg Pred Value              0.62628      1.00000          0.8407\n",
       "Prevalence                  0.38001      0.46065          0.1593\n",
       "Detection Rate              0.01062      0.46065          0.0000\n",
       "Detection Prevalence        0.01159      0.98841          0.0000\n",
       "Balanced Accuracy           0.51320      0.51074          0.5000"
      ]
     },
     "metadata": {},
     "output_type": "display_data"
    }
   ],
   "source": [
    "DT_model <- rpart(emoción ~ ., data=training.set, method=\"class\", minbucket=20)\n",
    "\n",
    "DT_predictTraining <- predict(DT_model, training.set, type = \"class\")\n",
    "DT_predictTesting <- predict(DT_model, testing.set, type = \"class\")\n",
    "cat(\"\\n\\n************* Resultados Árbol de Decisión - Testing *************\\n\")\n",
    "confusionMatrix(DT_predictTesting, as.factor(testing.set$emoción))"
   ]
  },
  {
   "cell_type": "markdown",
   "metadata": {
    "id": "7e4KsCJc36u-"
   },
   "source": [
    "**Red Neuronal**\n",
    "\n",
    "Nótese que toma varios minutos la ejecución de entrenamiento y evaluación de esta red, por lo que se recomienda hacer uso estratégico de los cambios en la sección/ejercicio 1 y 2 anteriores antes de probar."
   ]
  },
  {
   "cell_type": "code",
   "execution_count": 8,
   "metadata": {
    "id": "XVsGNIiwceZ-"
   },
   "outputs": [
    {
     "name": "stdout",
     "output_type": "stream",
     "text": [
      "Entrenando Red Neuronal\n",
      "# weights:  19903\n",
      "initial  value 14703.740138 \n",
      "iter  10 value 4855.141350\n",
      "iter  20 value 4193.552633\n",
      "iter  30 value 3463.320006\n",
      "iter  40 value 2870.985334\n",
      "iter  50 value 2365.020134\n",
      "final  value 2365.020134 \n",
      "stopped after 50 iterations\n",
      "Resultados Red Neuronal\n"
     ]
    },
    {
     "data": {
      "text/plain": [
       "Confusion Matrix and Statistics\n",
       "\n",
       "          Reference\n",
       "Prediction alegria enojo sorpresa\n",
       "  alegria      412   392      119\n",
       "  enojo        299   455      138\n",
       "  sorpresa      76   107       73\n",
       "\n",
       "Overall Statistics\n",
       "                                          \n",
       "               Accuracy : 0.4539          \n",
       "                 95% CI : (0.4323, 0.4756)\n",
       "    No Information Rate : 0.4606          \n",
       "    P-Value [Acc > NIR] : 0.7385          \n",
       "                                          \n",
       "                  Kappa : 0.1084          \n",
       "                                          \n",
       " Mcnemar's Test P-Value : 9.907e-06       \n",
       "\n",
       "Statistics by Class:\n",
       "\n",
       "                     Class: alegria Class: enojo Class: sorpresa\n",
       "Sensitivity                  0.5235       0.4769         0.22121\n",
       "Specificity                  0.6020       0.6088         0.89489\n",
       "Pos Pred Value               0.4464       0.5101         0.28516\n",
       "Neg Pred Value               0.6733       0.5768         0.85840\n",
       "Prevalence                   0.3800       0.4606         0.15934\n",
       "Detection Rate               0.1989       0.2197         0.03525\n",
       "Detection Prevalence         0.4457       0.4307         0.12361\n",
       "Balanced Accuracy            0.5628       0.5429         0.55805"
      ]
     },
     "metadata": {},
     "output_type": "display_data"
    }
   ],
   "source": [
    "# Parámetros de nnet():\n",
    "#     size: moverse entre 5 y 40. Es la cantidad de nodos de la única capa intermedia.\n",
    "#           Sin embargo, nótese que según el tamaño del vocabulario,\n",
    "#           valores altos de size pueden resultar en error de ejecución.\n",
    "#           En estos casos, sólo queda reducir el valor de size hasta que MaxNWts quede en menos de 30.000.\n",
    "#     maxit: 20 para pruebas cortas, hasta más de 100 (varios minutos de ejecución)\n",
    "#     MaxNWts: cantidad tope de arcos de conexión. 30.000 se mantiene dentro del tope de RAM,\n",
    "#              pero puede requerir varios minutos de ejecución.\n",
    "cat(\"Entrenando Red Neuronal\\n\")\n",
    "NN.model <- nnet(as.factor(emoción) ~ ., data=training.set, size=100, maxit=50, MaxNWts=30000)\n",
    "NN.predict <- predict(NN.model, testing.set, type=\"class\")\n",
    "\n",
    "cat(\"Resultados Red Neuronal\\n\")\n",
    "x <- testing.set[, 1:dim(corpus.procesado)[2]-1]\n",
    "y <- testing.set[, dim(corpus.procesado)[2]]\n",
    "y.predicted <- predict(NN.model, x, type = 'class')\n",
    "confusionMatrix(as.factor(y.predicted), y)\n"
   ]
  }
 ],
 "metadata": {
  "colab": {
   "provenance": []
  },
  "kernelspec": {
   "display_name": "R",
   "language": "R",
   "name": "ir"
  },
  "language_info": {
   "codemirror_mode": "r",
   "file_extension": ".r",
   "mimetype": "text/x-r-source",
   "name": "R",
   "pygments_lexer": "r",
   "version": "4.3.1"
  }
 },
 "nbformat": 4,
 "nbformat_minor": 4
}
