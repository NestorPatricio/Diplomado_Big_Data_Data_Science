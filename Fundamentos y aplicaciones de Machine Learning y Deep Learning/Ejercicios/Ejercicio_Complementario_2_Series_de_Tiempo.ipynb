{
  "nbformat": 4,
  "nbformat_minor": 0,
  "metadata": {
    "kernelspec": {
      "display_name": "R",
      "language": "R",
      "name": "ir"
    },
    "language_info": {
      "codemirror_mode": "r",
      "file_extension": ".r",
      "mimetype": "text/x-r-source",
      "name": "R",
      "pygments_lexer": "r",
      "version": "3.3.1"
    },
    "colab": {
      "provenance": []
    }
  },
  "cells": [
    {
      "cell_type": "markdown",
      "metadata": {
        "id": "BhFF63rsMfbI"
      },
      "source": [
        "# Complemento 2: Series de Tiempo para Analizar y Predecir Casos COVID19\n",
        "La idea de esta actividad es aplicar un modelo de series de tiempo para analizar y predecir el comportamiento del número de nuevos casos COVID19, según una muestra.\n",
        "\n",
        "## Contexto: Análisis de Nuevos Casos COVID19\n",
        "\n",
        "Como en la mayoría de los países donde se registran los nuevos contagios de COVID19, típicamente desde comienzos del 2020, el presente ejemplo utiliza datos de un país ficticio, cuyo comportamiento es tan irregular como la mayoría de los países.\n",
        "\n",
        "**INSTRUCCIONES**\n",
        "\n",
        "Todos los alumnos pueden utilizar las preguntas que se indican en las secciones de \"Preguntas\", más adelante, como ejercicio de comprensión del uso de Series de Tiempo. Se puede recurrir a ejercicios de otras fuentes, así como al material de clases.\n",
        "\n",
        "Ejercicio complementario: sin nota."
      ]
    },
    {
      "cell_type": "markdown",
      "metadata": {
        "id": "7I_Hkvi8XJ9z"
      },
      "source": [
        "## Instalación de Librerías de Funciones Necesarias"
      ]
    },
    {
      "cell_type": "code",
      "metadata": {
        "id": "1am0l5_4WYZ5"
      },
      "source": [
        "install.packages(\"lubridate\")\n",
        "install.packages(\"forecast\")\n",
        "install.packages(\"png\")"
      ],
      "execution_count": null,
      "outputs": []
    },
    {
      "cell_type": "markdown",
      "metadata": {
        "id": "0q3bYb0RM5bx"
      },
      "source": [
        "## Determinación de Serie de Tiempo con los Datos\n",
        "\n",
        "El primer paso consiste en leer y analizar la secuencia de la cifra semanal de (a) nuevos contagios COVID19 y (b) los nuevos fallecidos COVID19.\n",
        "\n",
        "Esto se logra con simples instrucciones, donde se primero declaran las series de datos de cada uno de estos indicadores semanales y, a continuación, se construye una función que representa.\n",
        "\n",
        "**Posible ejercicio**: cambiar los valores (magnitudes) de los 25 puntos de datos de cada serie y ver cómo se adapta la curva encontrada por la serie de tiempo.\n"
      ]
    },
    {
      "cell_type": "code",
      "metadata": {
        "id": "yIIKPnj-IRE8"
      },
      "source": [
        "nuevosContagios <- c(580, 7813, 28266, 59287, 75700,\n",
        "                87820, 95314, 126214, 218843, 471497,\n",
        "                936851, 1508725, 2072113, 353566, 282923,\n",
        "                134566, 85670, 82344, 151299, 180565,\n",
        "                199828, 135676, 221344, 389009, 489783\n",
        "                )\n",
        "\n",
        "fallecidos <- c(17, 270, 565, 1261, 2126,\n",
        "            3285, 4628, 5951, 7283, 4721,\n",
        "            8480, 5433, 4635, 3210, 3019,\n",
        "            2893, 3810, 5502, 7823, 9938,\n",
        "            11203, 7238, 4362, 2383, 1986)\n",
        "\n",
        "# Declaración del nombre de archivo con gráficos a mostrar\n",
        "png(file =\"SerieDeTiempoMultivariada.png\")\n",
        "\n",
        "library(lubridate)  # Librería contiene función decimal_date()\n",
        "\n",
        "# Creación de una Serie de Tiempo Multivariada\n",
        "# usando la fecha 01-12-2022\n",
        "mts <- ts(cbind(nuevosContagios, fallecidos),\n",
        "start = decimal_date(ymd(\"2022-12-01\")), frequency = 365.25 / 7)\n",
        "\n",
        "# Despliegue del gráfico\n",
        "plot(mts, xlab =\"Suma Semanal\",\n",
        "    main =\"Nuevos Casos COVID-19\",\n",
        "    col.main =\"darkgreen\")\n",
        "\n",
        "# Guardar el archivo con el gráfico\n",
        "dev.off()\n",
        "\n",
        "# A continuación se muestra el gráfico\n",
        "library(png)\n",
        "\n",
        "img <- readPNG(\"SerieDeTiempoMultivariada.png\")\n",
        "grid::grid.raster(img)\n"
      ],
      "execution_count": null,
      "outputs": []
    },
    {
      "cell_type": "markdown",
      "source": [
        "## Predicción de Nuevos Valores\n",
        "\n",
        "La predicción en el contexto de las series de tiempo también se conoce como pronóstico. El modelo de ST construido con los datos reconoce (aproxima) la progresión del valor Y en relación al eje T (tiempo) y, de tal forma, puede predecir el próximo número en una posición del eje T.\n",
        "\n",
        "**Ejercicio 1**: cambiar entre la predicción para nuevos casos y la de fallecidos. Adicionalmente, cambiar los datos de las respectivas series (cambiar y volver a ejecutar bloque anterior) y determinar cómo cambia en la predicción de este bloque.\n",
        "\n",
        "En particular, constestar las siguientes preguntas.\n",
        "\n",
        "1.1.      ¿La nueva predicción de valores va en aumento/disminución y eso coincide con la serie analizada?\n",
        "\n",
        "1.2.      ¿Hay una diferencia marcada en la predicción cuando se utiliza nuevosContagios en relación a utilizar fallecidos? ¿De haberla, cómo se cuantifica?"
      ],
      "metadata": {
        "id": "AEg2u0alLAT2"
      }
    },
    {
      "cell_type": "code",
      "source": [
        "library(forecast)\n",
        "\n",
        "# output to be created as png file\n",
        "png(file =\"SerieDeTiempoMultivariadaPred.png\")\n",
        "\n",
        "# Modelo de predicción usando un modelo ARIMA sobre la Serie de Tiempo Multi para nuevos casos\n",
        "mts_casos <- ts(cbind(fallecidos), start = decimal_date(ymd(\"2022-03-01\")), frequency = 365.25 / 7)\n",
        "fit <- auto.arima(mts_casos)\n",
        "\n",
        "# Predicción de los próximos 5 valores\n",
        "prediccion <- forecast(fit, 4)\n",
        "\n",
        "# Dibujo del gráfico con esos nuevos valores y un rango de variación esperable\n",
        "plot(prediccion, xlab =\"Datos Semanales\",\n",
        "ylab =\"Nuevos Casos\",\n",
        "main =\"COVID-19\", col.main =\"darkgreen\")\n",
        "\n",
        "# Guardar el archivo con el gráfico\n",
        "dev.off()\n",
        "\n",
        "prediccion\n",
        "\n",
        "# A continuación se muestra el gráfico\n",
        "library(png)\n",
        "\n",
        "img <- readPNG(\"SerieDeTiempoMultivariadaPred.png\")\n",
        "grid::grid.raster(img)"
      ],
      "metadata": {
        "id": "nMG485BGLeIb"
      },
      "execution_count": null,
      "outputs": []
    }
  ]
}