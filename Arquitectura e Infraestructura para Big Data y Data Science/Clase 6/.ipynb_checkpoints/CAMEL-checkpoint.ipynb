{
 "cells": [
  {
   "cell_type": "code",
   "execution_count": 1,
   "metadata": {
    "colab": {
     "base_uri": "https://localhost:8080/"
    },
    "id": "Iq0o-RxHvRN2",
    "outputId": "4d154e68-3a6d-4d27-dc50-09929967dedc",
    "scrolled": true
   },
   "outputs": [
    {
     "name": "stdout",
     "output_type": "stream",
     "text": [
      "Requirement already satisfied: openai in /Library/Frameworks/Python.framework/Versions/3.10/lib/python3.10/site-packages (0.27.7)\n",
      "Requirement already satisfied: requests>=2.20 in /Library/Frameworks/Python.framework/Versions/3.10/lib/python3.10/site-packages (from openai) (2.31.0)\n",
      "Requirement already satisfied: tqdm in /Library/Frameworks/Python.framework/Versions/3.10/lib/python3.10/site-packages (from openai) (4.65.0)\n",
      "Requirement already satisfied: aiohttp in /Library/Frameworks/Python.framework/Versions/3.10/lib/python3.10/site-packages (from openai) (3.8.4)\n",
      "Requirement already satisfied: charset-normalizer<4,>=2 in /Library/Frameworks/Python.framework/Versions/3.10/lib/python3.10/site-packages (from requests>=2.20->openai) (3.1.0)\n",
      "Requirement already satisfied: idna<4,>=2.5 in /Library/Frameworks/Python.framework/Versions/3.10/lib/python3.10/site-packages (from requests>=2.20->openai) (3.4)\n",
      "Requirement already satisfied: urllib3<3,>=1.21.1 in /Library/Frameworks/Python.framework/Versions/3.10/lib/python3.10/site-packages (from requests>=2.20->openai) (1.26.9)\n",
      "Requirement already satisfied: certifi>=2017.4.17 in /Library/Frameworks/Python.framework/Versions/3.10/lib/python3.10/site-packages (from requests>=2.20->openai) (2023.5.7)\n",
      "Requirement already satisfied: attrs>=17.3.0 in /Users/nrojas/Library/Python/3.10/lib/python/site-packages (from aiohttp->openai) (21.4.0)\n",
      "Requirement already satisfied: multidict<7.0,>=4.5 in /Library/Frameworks/Python.framework/Versions/3.10/lib/python3.10/site-packages (from aiohttp->openai) (6.0.4)\n",
      "Requirement already satisfied: async-timeout<5.0,>=4.0.0a3 in /Library/Frameworks/Python.framework/Versions/3.10/lib/python3.10/site-packages (from aiohttp->openai) (4.0.2)\n",
      "Requirement already satisfied: yarl<2.0,>=1.0 in /Library/Frameworks/Python.framework/Versions/3.10/lib/python3.10/site-packages (from aiohttp->openai) (1.9.2)\n",
      "Requirement already satisfied: frozenlist>=1.1.1 in /Library/Frameworks/Python.framework/Versions/3.10/lib/python3.10/site-packages (from aiohttp->openai) (1.3.3)\n",
      "Requirement already satisfied: aiosignal>=1.1.2 in /Library/Frameworks/Python.framework/Versions/3.10/lib/python3.10/site-packages (from aiohttp->openai) (1.3.1)\n",
      "Requirement already satisfied: pandas in /Library/Frameworks/Python.framework/Versions/3.10/lib/python3.10/site-packages (2.0.2)\n",
      "Requirement already satisfied: python-dateutil>=2.8.2 in /Library/Frameworks/Python.framework/Versions/3.10/lib/python3.10/site-packages (from pandas) (2.8.2)\n",
      "Requirement already satisfied: pytz>=2020.1 in /Library/Frameworks/Python.framework/Versions/3.10/lib/python3.10/site-packages (from pandas) (2023.3)\n",
      "Requirement already satisfied: tzdata>=2022.1 in /Library/Frameworks/Python.framework/Versions/3.10/lib/python3.10/site-packages (from pandas) (2023.3)\n",
      "Requirement already satisfied: numpy>=1.21.0 in /Library/Frameworks/Python.framework/Versions/3.10/lib/python3.10/site-packages (from pandas) (1.24.3)\n",
      "Requirement already satisfied: six>=1.5 in /Users/nrojas/Library/Python/3.10/lib/python/site-packages (from python-dateutil>=2.8.2->pandas) (1.16.0)\n",
      "Requirement already satisfied: langchain in /Library/Frameworks/Python.framework/Versions/3.10/lib/python3.10/site-packages (0.0.184)\n",
      "Requirement already satisfied: PyYAML>=5.4.1 in /Library/Frameworks/Python.framework/Versions/3.10/lib/python3.10/site-packages (from langchain) (6.0)\n",
      "Requirement already satisfied: SQLAlchemy<3,>=1.4 in /Library/Frameworks/Python.framework/Versions/3.10/lib/python3.10/site-packages (from langchain) (2.0.15)\n",
      "Requirement already satisfied: aiohttp<4.0.0,>=3.8.3 in /Library/Frameworks/Python.framework/Versions/3.10/lib/python3.10/site-packages (from langchain) (3.8.4)\n",
      "Requirement already satisfied: async-timeout<5.0.0,>=4.0.0 in /Library/Frameworks/Python.framework/Versions/3.10/lib/python3.10/site-packages (from langchain) (4.0.2)\n",
      "Requirement already satisfied: dataclasses-json<0.6.0,>=0.5.7 in /Library/Frameworks/Python.framework/Versions/3.10/lib/python3.10/site-packages (from langchain) (0.5.7)\n",
      "Requirement already satisfied: numexpr<3.0.0,>=2.8.4 in /Library/Frameworks/Python.framework/Versions/3.10/lib/python3.10/site-packages (from langchain) (2.8.4)\n",
      "Requirement already satisfied: numpy<2,>=1 in /Library/Frameworks/Python.framework/Versions/3.10/lib/python3.10/site-packages (from langchain) (1.24.3)\n",
      "Requirement already satisfied: openapi-schema-pydantic<2.0,>=1.2 in /Library/Frameworks/Python.framework/Versions/3.10/lib/python3.10/site-packages (from langchain) (1.2.4)\n",
      "Requirement already satisfied: pydantic<2,>=1 in /Library/Frameworks/Python.framework/Versions/3.10/lib/python3.10/site-packages (from langchain) (1.10.8)\n",
      "Requirement already satisfied: requests<3,>=2 in /Library/Frameworks/Python.framework/Versions/3.10/lib/python3.10/site-packages (from langchain) (2.31.0)\n",
      "Requirement already satisfied: tenacity<9.0.0,>=8.1.0 in /Library/Frameworks/Python.framework/Versions/3.10/lib/python3.10/site-packages (from langchain) (8.2.2)\n",
      "Requirement already satisfied: attrs>=17.3.0 in /Users/nrojas/Library/Python/3.10/lib/python/site-packages (from aiohttp<4.0.0,>=3.8.3->langchain) (21.4.0)\n",
      "Requirement already satisfied: charset-normalizer<4.0,>=2.0 in /Library/Frameworks/Python.framework/Versions/3.10/lib/python3.10/site-packages (from aiohttp<4.0.0,>=3.8.3->langchain) (3.1.0)\n",
      "Requirement already satisfied: multidict<7.0,>=4.5 in /Library/Frameworks/Python.framework/Versions/3.10/lib/python3.10/site-packages (from aiohttp<4.0.0,>=3.8.3->langchain) (6.0.4)\n",
      "Requirement already satisfied: yarl<2.0,>=1.0 in /Library/Frameworks/Python.framework/Versions/3.10/lib/python3.10/site-packages (from aiohttp<4.0.0,>=3.8.3->langchain) (1.9.2)\n",
      "Requirement already satisfied: frozenlist>=1.1.1 in /Library/Frameworks/Python.framework/Versions/3.10/lib/python3.10/site-packages (from aiohttp<4.0.0,>=3.8.3->langchain) (1.3.3)\n",
      "Requirement already satisfied: aiosignal>=1.1.2 in /Library/Frameworks/Python.framework/Versions/3.10/lib/python3.10/site-packages (from aiohttp<4.0.0,>=3.8.3->langchain) (1.3.1)\n",
      "Requirement already satisfied: marshmallow<4.0.0,>=3.3.0 in /Library/Frameworks/Python.framework/Versions/3.10/lib/python3.10/site-packages (from dataclasses-json<0.6.0,>=0.5.7->langchain) (3.19.0)\n",
      "Requirement already satisfied: marshmallow-enum<2.0.0,>=1.5.1 in /Library/Frameworks/Python.framework/Versions/3.10/lib/python3.10/site-packages (from dataclasses-json<0.6.0,>=0.5.7->langchain) (1.5.1)\n",
      "Requirement already satisfied: typing-inspect>=0.4.0 in /Library/Frameworks/Python.framework/Versions/3.10/lib/python3.10/site-packages (from dataclasses-json<0.6.0,>=0.5.7->langchain) (0.9.0)\n",
      "Requirement already satisfied: typing-extensions>=4.2.0 in /Library/Frameworks/Python.framework/Versions/3.10/lib/python3.10/site-packages (from pydantic<2,>=1->langchain) (4.6.2)\n",
      "Requirement already satisfied: idna<4,>=2.5 in /Library/Frameworks/Python.framework/Versions/3.10/lib/python3.10/site-packages (from requests<3,>=2->langchain) (3.4)\n",
      "Requirement already satisfied: urllib3<3,>=1.21.1 in /Library/Frameworks/Python.framework/Versions/3.10/lib/python3.10/site-packages (from requests<3,>=2->langchain) (1.26.9)\n",
      "Requirement already satisfied: certifi>=2017.4.17 in /Library/Frameworks/Python.framework/Versions/3.10/lib/python3.10/site-packages (from requests<3,>=2->langchain) (2023.5.7)\n",
      "Requirement already satisfied: packaging>=17.0 in /Library/Frameworks/Python.framework/Versions/3.10/lib/python3.10/site-packages (from marshmallow<4.0.0,>=3.3.0->dataclasses-json<0.6.0,>=0.5.7->langchain) (23.1)\n",
      "Requirement already satisfied: mypy-extensions>=0.3.0 in /Library/Frameworks/Python.framework/Versions/3.10/lib/python3.10/site-packages (from typing-inspect>=0.4.0->dataclasses-json<0.6.0,>=0.5.7->langchain) (1.0.0)\n"
     ]
    }
   ],
   "source": [
    "!pip install openai\n",
    "!pip install pandas\n",
    "!pip install langchain"
   ]
  },
  {
   "cell_type": "code",
   "execution_count": 2,
   "metadata": {
    "scrolled": true
   },
   "outputs": [
    {
     "name": "stdout",
     "output_type": "stream",
     "text": [
      "Requirement already satisfied: altair in /Library/Frameworks/Python.framework/Versions/3.10/lib/python3.10/site-packages (5.0.1)\n",
      "Requirement already satisfied: jinja2 in /Library/Frameworks/Python.framework/Versions/3.10/lib/python3.10/site-packages (from altair) (3.1.2)\n",
      "Requirement already satisfied: jsonschema>=3.0 in /Library/Frameworks/Python.framework/Versions/3.10/lib/python3.10/site-packages (from altair) (4.17.3)\n",
      "Requirement already satisfied: numpy in /Library/Frameworks/Python.framework/Versions/3.10/lib/python3.10/site-packages (from altair) (1.24.3)\n",
      "Requirement already satisfied: pandas>=0.18 in /Library/Frameworks/Python.framework/Versions/3.10/lib/python3.10/site-packages (from altair) (2.0.2)\n",
      "Requirement already satisfied: toolz in /Library/Frameworks/Python.framework/Versions/3.10/lib/python3.10/site-packages (from altair) (0.12.0)\n",
      "Requirement already satisfied: typing-extensions>=4.0.1 in /Library/Frameworks/Python.framework/Versions/3.10/lib/python3.10/site-packages (from altair) (4.6.2)\n",
      "Requirement already satisfied: attrs>=17.4.0 in /Users/nrojas/Library/Python/3.10/lib/python/site-packages (from jsonschema>=3.0->altair) (21.4.0)\n",
      "Requirement already satisfied: pyrsistent!=0.17.0,!=0.17.1,!=0.17.2,>=0.14.0 in /Library/Frameworks/Python.framework/Versions/3.10/lib/python3.10/site-packages (from jsonschema>=3.0->altair) (0.19.3)\n",
      "Requirement already satisfied: python-dateutil>=2.8.2 in /Library/Frameworks/Python.framework/Versions/3.10/lib/python3.10/site-packages (from pandas>=0.18->altair) (2.8.2)\n",
      "Requirement already satisfied: pytz>=2020.1 in /Library/Frameworks/Python.framework/Versions/3.10/lib/python3.10/site-packages (from pandas>=0.18->altair) (2023.3)\n",
      "Requirement already satisfied: tzdata>=2022.1 in /Library/Frameworks/Python.framework/Versions/3.10/lib/python3.10/site-packages (from pandas>=0.18->altair) (2023.3)\n",
      "Requirement already satisfied: MarkupSafe>=2.0 in /Library/Frameworks/Python.framework/Versions/3.10/lib/python3.10/site-packages (from jinja2->altair) (2.1.2)\n",
      "Requirement already satisfied: six>=1.5 in /Users/nrojas/Library/Python/3.10/lib/python/site-packages (from python-dateutil>=2.8.2->pandas>=0.18->altair) (1.16.0)\n"
     ]
    }
   ],
   "source": [
    "!pip install altair"
   ]
  },
  {
   "cell_type": "code",
   "execution_count": 3,
   "metadata": {
    "id": "WY5TiycTu_Le"
   },
   "outputs": [],
   "source": [
    "from collections import namedtuple\n",
    "import altair as alt\n",
    "import math \n",
    "import pandas as pd\n",
    "import openai\n",
    "from typing import List\n",
    "from langchain.chat_models import ChatOpenAI\n",
    "from langchain.prompts.chat import (\n",
    "    SystemMessagePromptTemplate,\n",
    "    HumanMessagePromptTemplate,\n",
    ")\n",
    "from langchain.schema import (\n",
    "    AIMessage,\n",
    "    HumanMessage,\n",
    "    SystemMessage,\n",
    "    BaseMessage,\n",
    ")\n",
    "import os\n",
    "import time\n",
    "from config import OPENAI_API_KEY"
   ]
  },
  {
   "cell_type": "code",
   "execution_count": 4,
   "metadata": {
    "id": "r00mVOdsviC9"
   },
   "outputs": [],
   "source": [
    "class CAMELAgent:\n",
    "\n",
    "    def __init__(\n",
    "        self,\n",
    "        system_message: SystemMessage,\n",
    "        model: ChatOpenAI,\n",
    "    ) -> None:\n",
    "        self.system_message = system_message\n",
    "        self.model = model\n",
    "        self.init_messages()\n",
    "\n",
    "    def reset(self) -> None:\n",
    "        self.init_messages()\n",
    "        return self.stored_messages\n",
    "\n",
    "    def init_messages(self) -> None:\n",
    "        self.stored_messages = [self.system_message]\n",
    "\n",
    "    def update_messages(self, message: BaseMessage) -> List[BaseMessage]:\n",
    "        self.stored_messages.append(message)\n",
    "        return self.stored_messages\n",
    "\n",
    "    def step(\n",
    "        self,\n",
    "        input_message: HumanMessage,\n",
    "    ) -> AIMessage:\n",
    "        messages = self.update_messages(input_message)\n",
    "\n",
    "        output_message = self.model(messages)\n",
    "        self.update_messages(output_message)\n",
    "\n",
    "        return output_message"
   ]
  },
  {
   "cell_type": "code",
   "execution_count": 5,
   "metadata": {
    "id": "NWR7HFOBvrWC"
   },
   "outputs": [],
   "source": [
    "consultant_inception_prompt = (\n",
    "\"\"\"Never forget you are a {user_role_name} and I am a {assistant_role_name}. Never flip roles! Never instruct me!\n",
    "We share a common interest in collaborating to successfully complete a task.\n",
    "You must help me to complete the task.\n",
    "Here is the task: {task}. Never forget our task!\n",
    "You must ask me specific questions so that you have all the information to prepare a project proposal in the future (not now).\n",
    "\n",
    "You must ask me one specific question at a time.\n",
    "I will answer you in the most concrete way.\n",
    "I can't ask you questions.\n",
    "You can't give me orders or assume things I haven't told you.\n",
    "Your questions must be clear and without bias.\n",
    "You can ask me up to 10 questions.\n",
    "After 10 questions, just thank your interlocutor for the conversation, and say <CAMEL_TASK_DONE> to end the task.\n",
    "Never say <CAMEL_TASK_DONE> unless you want to end the task.\n",
    "\n",
    "You must greet me cordially and say goodbye kindly.\"\"\"\n",
    ")\n",
    "\n",
    "customer_inception_prompt = (\n",
    "\"\"\"Never forget you are a {assistant_role_name} and I am a {user_role_name}. Never flip roles! You will always instruct me.\n",
    "We share a common interest in collaborating to successfully complete a task.\n",
    "I must help you to complete the task.\n",
    "Here is the task: {task}. Never forget our task!\n",
    "You should ask me about my business based on the assigned task so that you can prepare your project proposal.\n",
    "If you greet me, I will greet you.\n",
    "If you say goodbye, I will say goodbye.\n",
    "Never ask me the same question more than once.\n",
    "\n",
    "When the task is completed, you must only reply with a single word <CAMEL_TASK_DONE>.\n",
    "Never say <CAMEL_TASK_DONE> unless you want to end the task.\n",
    "\"\"\"\n",
    ")"
   ]
  },
  {
   "cell_type": "code",
   "execution_count": 6,
   "metadata": {
    "id": "f8-38kaPvvI1"
   },
   "outputs": [],
   "source": [
    "os.environ[\"OPENAI_API_KEY\"] = OPENAI_API_KEY"
   ]
  },
  {
   "cell_type": "code",
   "execution_count": 7,
   "metadata": {
    "id": "5EHcCQKbwHUA"
   },
   "outputs": [],
   "source": [
    "task = \"Create a web app\"\n",
    "customer_role_name = \"Product manager in a health startup\"\n",
    "consultant_role_name = \"Web developer\"\n"
   ]
  },
  {
   "cell_type": "code",
   "execution_count": 8,
   "metadata": {
    "id": "1PPf8ksTwKtX"
   },
   "outputs": [],
   "source": [
    "def get_sys_msgs(assistant_role_name: str, user_role_name: str, task: str):\n",
    "    assistant_sys_template = SystemMessagePromptTemplate.from_template(template=consultant_inception_prompt)\n",
    "    assistant_sys_msg = assistant_sys_template.format_messages(assistant_role_name=consultant_role_name, user_role_name=customer_role_name, task=task)[0]\n",
    "    \n",
    "    user_sys_template = SystemMessagePromptTemplate.from_template(template=customer_inception_prompt)\n",
    "    user_sys_msg = user_sys_template.format_messages(assistant_role_name=consultant_role_name, user_role_name=customer_role_name, task=task)[0]\n",
    "    \n",
    "    return assistant_sys_msg, user_sys_msg"
   ]
  },
  {
   "cell_type": "code",
   "execution_count": null,
   "metadata": {
    "colab": {
     "base_uri": "https://localhost:8080/",
     "height": 463
    },
    "id": "w-ZD7Jv4wWV7",
    "outputId": "82c1cf0a-60b7-4c19-d2ab-e59780cdfee6"
   },
   "outputs": [
    {
     "name": "stdout",
     "output_type": "stream",
     "text": [
      "Specified task: Create a wireframe of the web app's landing page and user dashboard, ensuring the design is user-friendly and aligns with the health startup's branding guidelines.\n",
      "Me (Web developer):\n",
      "\n",
      "Hello, can you tell me a bit about your health startup and its mission?\n",
      "\n",
      "\n",
      "Customer (Product manager in a health startup):\n",
      "\n",
      "I'm sorry, I cannot answer that as I am an AI language model and do not represent a specific health startup. I am here to assist you in creating a wireframe for a health startup's landing page and user dashboard.\n",
      "\n",
      "\n"
     ]
    }
   ],
   "source": [
    "if task and customer_role_name and consultant_role_name:\n",
    "    prompt = \"Structure of a meeting to discuss the project on \"+str(task)+\" between \"+str(customer_role_name)+\" and you as a \"+str(consultant_role_name)\n",
    "    task_full = \"Build the structure of a meeting for a project about \"+str(task)\n",
    "    word_limit = 50 # word limit for task brainstorming\n",
    "    if prompt:\n",
    "        task_specifier_sys_msg = SystemMessage(content=\"You can make a task more specific.\")\n",
    "        task_specifier_prompt = (\n",
    "        \"\"\"Here is a task that {assistant_role_name} will help {user_role_name} to complete: {task}.\n",
    "        Please make it more specific. Be creative and imaginative.\n",
    "        Please reply with the specified task in {word_limit} words or less. Do not add anything else.\"\"\"\n",
    "        )\n",
    "        task_specifier_template = HumanMessagePromptTemplate.from_template(template=task_specifier_prompt)\n",
    "        task_specify_agent = CAMELAgent(task_specifier_sys_msg, ChatOpenAI(temperature=1.0))\n",
    "        task_specifier_msg = task_specifier_template.format_messages(assistant_role_name=consultant_role_name,\n",
    "                                                                    user_role_name=customer_role_name,\n",
    "                                                                    task=task_full, word_limit=word_limit)[0]\n",
    "        specified_task_msg = task_specify_agent.step(task_specifier_msg)\n",
    "        print(f\"Specified task: {specified_task_msg.content}\")\n",
    "        specified_task = specified_task_msg.content\n",
    "        \n",
    "        assistant_sys_msg, user_sys_msg = get_sys_msgs(consultant_role_name, customer_role_name, specified_task)\n",
    "        assistant_agent = CAMELAgent(assistant_sys_msg, ChatOpenAI(temperature=0.2))\n",
    "        user_agent = CAMELAgent(user_sys_msg, ChatOpenAI(temperature=0.2))\n",
    "\n",
    "        # Reset agents\n",
    "        assistant_agent.reset()\n",
    "        user_agent.reset()\n",
    "\n",
    "        # Initialize chats \n",
    "        assistant_msg = HumanMessage(\n",
    "            content=(f\"{user_sys_msg.content}. \"\n",
    "                        \"Now start to give me the questions one by one.\"\n",
    "                        \"Only reply with your answer.\"))\n",
    "\n",
    "        user_msg = HumanMessage(content=f\"{assistant_sys_msg.content}\")\n",
    "        user_msg = assistant_agent.step(user_msg)\n",
    "\n",
    "        chat_turn_limit, n = 30, 0\n",
    "        while n < chat_turn_limit:\n",
    "            n += 1\n",
    "            user_ai_msg = user_agent.step(assistant_msg)\n",
    "            user_msg = HumanMessage(content=user_ai_msg.content)\n",
    "            print(f\"Me ({consultant_role_name}):\\n\\n{user_msg.content}\\n\\n\")\n",
    "            \n",
    "            time.sleep(21)\n",
    "            \n",
    "            assistant_ai_msg = assistant_agent.step(user_msg)\n",
    "            assistant_msg = HumanMessage(content=assistant_ai_msg.content)\n",
    "            print(f\"Customer ({customer_role_name}):\\n\\n{assistant_msg.content}\\n\\n\")\n",
    "            time.sleep(21)\n",
    "            \n",
    "            if n == 8:\n",
    "                print(f\"Thank you ({customer_role_name}) for your time.\")\n",
    "                break"
   ]
  },
  {
   "cell_type": "code",
   "execution_count": null,
   "metadata": {
    "id": "fZMyvgTuwgHS"
   },
   "outputs": [],
   "source": []
  }
 ],
 "metadata": {
  "colab": {
   "provenance": []
  },
  "kernelspec": {
   "display_name": "Python 3 (ipykernel)",
   "language": "python",
   "name": "python3"
  },
  "language_info": {
   "codemirror_mode": {
    "name": "ipython",
    "version": 3
   },
   "file_extension": ".py",
   "mimetype": "text/x-python",
   "name": "python",
   "nbconvert_exporter": "python",
   "pygments_lexer": "ipython3",
   "version": "3.10.5"
  }
 },
 "nbformat": 4,
 "nbformat_minor": 1
}
